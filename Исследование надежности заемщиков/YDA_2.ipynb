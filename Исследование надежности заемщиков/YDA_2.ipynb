{
 "cells": [
  {
   "cell_type": "markdown",
   "metadata": {},
   "source": [
    "# Исследование надёжности заёмщиков\n",
    "\n",
    "Заказчик — кредитный отдел банка. Нужно разобраться, влияет ли семейное положение и количество детей клиента на факт погашения кредита в срок. Входные данные от банка — статистика о платёжеспособности клиентов.\n",
    "\n",
    "Результаты исследования будут учтены при построении модели **кредитного скоринга** — специальной системы, которая оценивает способность потенциального заёмщика вернуть кредит банку.\n",
    "\n",
    "Заказчик — кредитный отдел банка. Нужно разобраться, влияет ли семейное положение и количество детей клиента на факт погашения кредита в срок. Входные данные от банка — статистика о платёжеспособности клиентов. Результаты исследования будут учтены при построении модели кредитного скоринга — специальной системы, которая оценивает способность потенциального заёмщика вернуть кредит банку.\n",
    "\n",
    "**План проекта:**\n",
    "- определить и заполнить пропущенные значения:\n",
    "- описать, какие пропущенные значения были обнаружили;\n",
    "- привести возможные причины появления пропусков в данных;\n",
    "- объяснить, по какому принципу заполнены пропуски;\n",
    "- заменить вещественный тип данных на целочисленный:\n",
    "- пояснить, как выбиран метод для изменения типа данных;\n",
    "- удалить дубликаты:\n",
    "- пояснить, как выбиран метод для поиска и удаления дубликатов в данных;\n",
    "- привести возможные причины появления дубликатов;\n",
    "- выделить леммы в значениях столбца с целями получения кредита:\n",
    "- описать, как проводена лемматизация целей кредита;\n",
    "- категоризировать данные:\n",
    "- перечислить, какие «словари» выделили для этого набора данных, и объясните, почему.\n",
    "\n",
    "**По результату исследования нужно ответить на вопросы:**\n",
    "- Есть ли зависимость между наличием детей и возвратом кредита в срок?\n",
    "- Есть ли зависимость между семейным положением и возвратом кредита в срок?\n",
    "- Есть ли зависимость между уровнем дохода и возвратом кредита в срок?\n",
    "- Как разные цели кредита влияют на его возврат в срок?\n",
    "\n",
    "**Описание данных:**\n",
    "\n",
    "- children — количество детей в семье\n",
    "- days_employed — общий трудовой стаж в днях\n",
    "- dob_years — возраст клиента в годах\n",
    "- education — уровень образования клиента\n",
    "- education_id — идентификатор уровня образования\n",
    "- family_status — семейное положение\n",
    "- family_status_id — идентификатор семейного положения\n",
    "- gender — пол клиента\n",
    "- income_type — тип занятости\n",
    "- debt — имел ли задолженность по возврату кредитов\n",
    "- total_income — ежемесячный доход\n",
    "- purpose — цель получения кредита"
   ]
  },
  {
   "cell_type": "markdown",
   "metadata": {},
   "source": [
    "## Изучение общей информации"
   ]
  },
  {
   "cell_type": "code",
   "execution_count": 18,
   "metadata": {
    "scrolled": true
   },
   "outputs": [],
   "source": [
    "#импортируем библиотеки\n",
    "import pandas as pd\n",
    "from collections import Counter\n",
    "from pymystem3 import Mystem\n",
    "m = Mystem() "
   ]
  },
  {
   "cell_type": "code",
   "execution_count": 19,
   "metadata": {},
   "outputs": [
    {
     "data": {
      "text/html": [
       "<div>\n",
       "<style scoped>\n",
       "    .dataframe tbody tr th:only-of-type {\n",
       "        vertical-align: middle;\n",
       "    }\n",
       "\n",
       "    .dataframe tbody tr th {\n",
       "        vertical-align: top;\n",
       "    }\n",
       "\n",
       "    .dataframe thead th {\n",
       "        text-align: right;\n",
       "    }\n",
       "</style>\n",
       "<table border=\"1\" class=\"dataframe\">\n",
       "  <thead>\n",
       "    <tr style=\"text-align: right;\">\n",
       "      <th></th>\n",
       "      <th>children</th>\n",
       "      <th>days_employed</th>\n",
       "      <th>dob_years</th>\n",
       "      <th>education</th>\n",
       "      <th>education_id</th>\n",
       "      <th>family_status</th>\n",
       "      <th>family_status_id</th>\n",
       "      <th>gender</th>\n",
       "      <th>income_type</th>\n",
       "      <th>debt</th>\n",
       "      <th>total_income</th>\n",
       "      <th>purpose</th>\n",
       "    </tr>\n",
       "  </thead>\n",
       "  <tbody>\n",
       "    <tr>\n",
       "      <th>0</th>\n",
       "      <td>1</td>\n",
       "      <td>-8437.673028</td>\n",
       "      <td>42</td>\n",
       "      <td>высшее</td>\n",
       "      <td>0</td>\n",
       "      <td>женат / замужем</td>\n",
       "      <td>0</td>\n",
       "      <td>F</td>\n",
       "      <td>сотрудник</td>\n",
       "      <td>0</td>\n",
       "      <td>253875.639453</td>\n",
       "      <td>покупка жилья</td>\n",
       "    </tr>\n",
       "    <tr>\n",
       "      <th>1</th>\n",
       "      <td>1</td>\n",
       "      <td>-4024.803754</td>\n",
       "      <td>36</td>\n",
       "      <td>среднее</td>\n",
       "      <td>1</td>\n",
       "      <td>женат / замужем</td>\n",
       "      <td>0</td>\n",
       "      <td>F</td>\n",
       "      <td>сотрудник</td>\n",
       "      <td>0</td>\n",
       "      <td>112080.014102</td>\n",
       "      <td>приобретение автомобиля</td>\n",
       "    </tr>\n",
       "    <tr>\n",
       "      <th>2</th>\n",
       "      <td>0</td>\n",
       "      <td>-5623.422610</td>\n",
       "      <td>33</td>\n",
       "      <td>Среднее</td>\n",
       "      <td>1</td>\n",
       "      <td>женат / замужем</td>\n",
       "      <td>0</td>\n",
       "      <td>M</td>\n",
       "      <td>сотрудник</td>\n",
       "      <td>0</td>\n",
       "      <td>145885.952297</td>\n",
       "      <td>покупка жилья</td>\n",
       "    </tr>\n",
       "    <tr>\n",
       "      <th>3</th>\n",
       "      <td>3</td>\n",
       "      <td>-4124.747207</td>\n",
       "      <td>32</td>\n",
       "      <td>среднее</td>\n",
       "      <td>1</td>\n",
       "      <td>женат / замужем</td>\n",
       "      <td>0</td>\n",
       "      <td>M</td>\n",
       "      <td>сотрудник</td>\n",
       "      <td>0</td>\n",
       "      <td>267628.550329</td>\n",
       "      <td>дополнительное образование</td>\n",
       "    </tr>\n",
       "    <tr>\n",
       "      <th>4</th>\n",
       "      <td>0</td>\n",
       "      <td>340266.072047</td>\n",
       "      <td>53</td>\n",
       "      <td>среднее</td>\n",
       "      <td>1</td>\n",
       "      <td>гражданский брак</td>\n",
       "      <td>1</td>\n",
       "      <td>F</td>\n",
       "      <td>пенсионер</td>\n",
       "      <td>0</td>\n",
       "      <td>158616.077870</td>\n",
       "      <td>сыграть свадьбу</td>\n",
       "    </tr>\n",
       "  </tbody>\n",
       "</table>\n",
       "</div>"
      ],
      "text/plain": [
       "   children  days_employed  dob_years education  education_id  \\\n",
       "0         1   -8437.673028         42    высшее             0   \n",
       "1         1   -4024.803754         36   среднее             1   \n",
       "2         0   -5623.422610         33   Среднее             1   \n",
       "3         3   -4124.747207         32   среднее             1   \n",
       "4         0  340266.072047         53   среднее             1   \n",
       "\n",
       "      family_status  family_status_id gender income_type  debt   total_income  \\\n",
       "0   женат / замужем                 0      F   сотрудник     0  253875.639453   \n",
       "1   женат / замужем                 0      F   сотрудник     0  112080.014102   \n",
       "2   женат / замужем                 0      M   сотрудник     0  145885.952297   \n",
       "3   женат / замужем                 0      M   сотрудник     0  267628.550329   \n",
       "4  гражданский брак                 1      F   пенсионер     0  158616.077870   \n",
       "\n",
       "                      purpose  \n",
       "0               покупка жилья  \n",
       "1     приобретение автомобиля  \n",
       "2               покупка жилья  \n",
       "3  дополнительное образование  \n",
       "4             сыграть свадьбу  "
      ]
     },
     "execution_count": 19,
     "metadata": {},
     "output_type": "execute_result"
    }
   ],
   "source": [
    "df = pd.read_csv('data.csv')\n",
    "df.head()"
   ]
  },
  {
   "cell_type": "code",
   "execution_count": 20,
   "metadata": {
    "scrolled": true
   },
   "outputs": [
    {
     "name": "stdout",
     "output_type": "stream",
     "text": [
      "<class 'pandas.core.frame.DataFrame'>\n",
      "RangeIndex: 21525 entries, 0 to 21524\n",
      "Data columns (total 12 columns):\n",
      " #   Column            Non-Null Count  Dtype  \n",
      "---  ------            --------------  -----  \n",
      " 0   children          21525 non-null  int64  \n",
      " 1   days_employed     19351 non-null  float64\n",
      " 2   dob_years         21525 non-null  int64  \n",
      " 3   education         21525 non-null  object \n",
      " 4   education_id      21525 non-null  int64  \n",
      " 5   family_status     21525 non-null  object \n",
      " 6   family_status_id  21525 non-null  int64  \n",
      " 7   gender            21525 non-null  object \n",
      " 8   income_type       21525 non-null  object \n",
      " 9   debt              21525 non-null  int64  \n",
      " 10  total_income      19351 non-null  float64\n",
      " 11  purpose           21525 non-null  object \n",
      "dtypes: float64(2), int64(5), object(5)\n",
      "memory usage: 2.0+ MB\n"
     ]
    }
   ],
   "source": [
    "#смотрим информацию о таблице, где есть пропуски, где какой тип данных\n",
    "df.info()"
   ]
  },
  {
   "cell_type": "markdown",
   "metadata": {},
   "source": [
    "**Вывод**\n",
    "\n",
    "Есть пропуски в столбцах \"days_employed\" и \"total_income\". Либо их не заполняли, чаще всего это данные связаны. Либо это ошибка\n",
    "\n",
    "Стобец \"children\" имеет определенные значения и отвечает за количество детей. Есть значения -1 и 20 их заменим на медианные.\n",
    "\n",
    "Есть значение 0 в \"dob_years\", его либо не внесли или ошибка. В любом случае заменим медианной.\n",
    "\n",
    "\"days_employed\" у большинства имеет отрицательное значение, скорее всего это ошибка и был взято противополжное значение. возьмем модуль и поправим это. У пенсионеров слишком большие значения, с чем это связанно непонятно.\n",
    "\n",
    "В \"education\" и \"purpose\" есть явные и неявные дубликаты.\n",
    "\n",
    "В \"education\" и \"family_status\" есть соответствия с категориями из \"education_id\" и \"family_status_id\". Надо получить таблицу соотношений, чтобы понимать, что есть что."
   ]
  },
  {
   "cell_type": "markdown",
   "metadata": {},
   "source": [
    "## Предобработка данных"
   ]
  },
  {
   "cell_type": "markdown",
   "metadata": {},
   "source": [
    "**Обработка пропусков**"
   ]
  },
  {
   "cell_type": "code",
   "execution_count": 21,
   "metadata": {
    "scrolled": false
   },
   "outputs": [
    {
     "name": "stdout",
     "output_type": "stream",
     "text": [
      "[ 1  0  3  2 -1  4 20  5]\n",
      "[-8437.67302776 -4024.80375385 -5623.42261023 ... -2113.3468877\n",
      " -3112.4817052  -1984.50758853]\n",
      "[42 36 33 32 53 27 43 50 35 41 40 65 54 56 26 48 24 21 57 67 28 63 62 47\n",
      " 34 68 25 31 30 20 49 37 45 61 64 44 52 46 23 38 39 51  0 59 29 60 55 58\n",
      " 71 22 73 66 69 19 72 70 74 75]\n",
      "['высшее' 'среднее' 'Среднее' 'СРЕДНЕЕ' 'ВЫСШЕЕ' 'неоконченное высшее'\n",
      " 'начальное' 'Высшее' 'НЕОКОНЧЕННОЕ ВЫСШЕЕ' 'Неоконченное высшее'\n",
      " 'НАЧАЛЬНОЕ' 'Начальное' 'Ученая степень' 'УЧЕНАЯ СТЕПЕНЬ'\n",
      " 'ученая степень']\n",
      "[0 1 2 3 4]\n",
      "['женат / замужем' 'гражданский брак' 'вдовец / вдова' 'в разводе'\n",
      " 'Не женат / не замужем']\n",
      "[0 1 2 3 4]\n",
      "['F' 'M' 'XNA']\n",
      "['сотрудник' 'пенсионер' 'компаньон' 'госслужащий' 'безработный'\n",
      " 'предприниматель' 'студент' 'в декрете']\n",
      "[0 1]\n",
      "[253875.6394526  112080.01410244 145885.95229686 ...  89672.56115303\n",
      " 244093.05050043  82047.41889948]\n",
      "['покупка жилья' 'приобретение автомобиля' 'дополнительное образование'\n",
      " 'сыграть свадьбу' 'операции с жильем' 'образование'\n",
      " 'на проведение свадьбы' 'покупка жилья для семьи' 'покупка недвижимости'\n",
      " 'покупка коммерческой недвижимости' 'покупка жилой недвижимости'\n",
      " 'строительство собственной недвижимости' 'недвижимость'\n",
      " 'строительство недвижимости' 'на покупку подержанного автомобиля'\n",
      " 'на покупку своего автомобиля' 'операции с коммерческой недвижимостью'\n",
      " 'строительство жилой недвижимости' 'жилье'\n",
      " 'операции со своей недвижимостью' 'автомобили' 'заняться образованием'\n",
      " 'сделка с подержанным автомобилем' 'получение образования' 'автомобиль'\n",
      " 'свадьба' 'получение дополнительного образования' 'покупка своего жилья'\n",
      " 'операции с недвижимостью' 'получение высшего образования'\n",
      " 'свой автомобиль' 'сделка с автомобилем' 'профильное образование'\n",
      " 'высшее образование' 'покупка жилья для сдачи' 'на покупку автомобиля'\n",
      " 'ремонт жилью' 'заняться высшим образованием']\n"
     ]
    }
   ],
   "source": [
    "#цикл ведет  все уникакльные значения во всех столбцах\n",
    "for column_name in df.columns: \n",
    "    print(df[column_name].unique())"
   ]
  },
  {
   "cell_type": "code",
   "execution_count": 22,
   "metadata": {},
   "outputs": [
    {
     "data": {
      "text/plain": [
       "0"
      ]
     },
     "execution_count": 22,
     "metadata": {},
     "output_type": "execute_result"
    }
   ],
   "source": [
    " #берем модуль из всех значений, т.к имеем отрицательные значения.\n",
    "df['days_employed'] = abs(df['days_employed'])\n",
    "#заполняем пропуски медианой всех имеющихся значений\n",
    "df['days_employed'] = df['days_employed'].fillna(df['days_employed'].median()) \n",
    "df['days_employed'].isna().sum()"
   ]
  },
  {
   "cell_type": "code",
   "execution_count": 23,
   "metadata": {},
   "outputs": [
    {
     "data": {
      "text/plain": [
       "0"
      ]
     },
     "execution_count": 23,
     "metadata": {},
     "output_type": "execute_result"
    }
   ],
   "source": [
    "#тотал инкам тоже заполним медианной, т.к. пропущенные значения в зарплатах можно отлично заменить медианными, \n",
    "#чтобы это не отразилось на процентном соотношении\n",
    "df['total_income'] = df['total_income'].fillna(df['total_income'].median())\n",
    "df['total_income'].isna().sum()"
   ]
  },
  {
   "cell_type": "markdown",
   "metadata": {},
   "source": [
    "**Вывод**\n",
    "\n",
    "Пропущенные значения в столбцах ежемесячного заработка и трудового стажа заменили медианными значениями."
   ]
  },
  {
   "cell_type": "markdown",
   "metadata": {},
   "source": [
    "**Замена типа данных**"
   ]
  },
  {
   "cell_type": "code",
   "execution_count": 24,
   "metadata": {},
   "outputs": [],
   "source": [
    "#в тотал_инкам и в days_employed мы имеем дробные значения с большим количесвом чисел после запятой. \n",
    "#Если мы округлим нанокопейки до рубля это не скажется на нашем распределении\n",
    "df['total_income'] = df['total_income'].astype(int)\n",
    "df['days_employed'] = df['days_employed'].astype(int)"
   ]
  },
  {
   "cell_type": "markdown",
   "metadata": {},
   "source": [
    "**Обработка дубликатов**"
   ]
  },
  {
   "cell_type": "code",
   "execution_count": 25,
   "metadata": {},
   "outputs": [],
   "source": [
    "#приведем все к нижнему регистру в столбце education т.к. только там мы имеем дубликаты связанные с регистром\n",
    "df['education'] = df['education'].str.lower()"
   ]
  },
  {
   "cell_type": "code",
   "execution_count": 26,
   "metadata": {
    "code_folding": []
   },
   "outputs": [
    {
     "name": "stderr",
     "output_type": "stream",
     "text": [
      "C:\\Users\\User\\AppData\\Local\\Temp/ipykernel_19472/2188054563.py:4: SettingWithCopyWarning: \n",
      "A value is trying to be set on a copy of a slice from a DataFrame\n",
      "\n",
      "See the caveats in the documentation: https://pandas.pydata.org/pandas-docs/stable/user_guide/indexing.html#returning-a-view-versus-a-copy\n",
      "  df['children'][row] = 1\n",
      "C:\\Users\\User\\AppData\\Local\\Temp/ipykernel_19472/2188054563.py:6: SettingWithCopyWarning: \n",
      "A value is trying to be set on a copy of a slice from a DataFrame\n",
      "\n",
      "See the caveats in the documentation: https://pandas.pydata.org/pandas-docs/stable/user_guide/indexing.html#returning-a-view-versus-a-copy\n",
      "  df['children'][row] = 2\n"
     ]
    },
    {
     "data": {
      "text/plain": [
       "array([1, 0, 3, 2, 4, 5], dtype=int64)"
      ]
     },
     "execution_count": 26,
     "metadata": {},
     "output_type": "execute_result"
    }
   ],
   "source": [
    "#заменим значения -1 и 20 на 1 и 2 с помошью цикла\n",
    "for row in range(len(df['children'])): \n",
    "    if df.loc[row, 'children'] == -1:\n",
    "        df['children'][row] = 1\n",
    "    elif df.loc[row, 'children'] == 20:\n",
    "        df['children'][row] = 2\n",
    "df['children'].unique()"
   ]
  },
  {
   "cell_type": "markdown",
   "metadata": {},
   "source": [
    "**Лемматизация**"
   ]
  },
  {
   "cell_type": "code",
   "execution_count": 30,
   "metadata": {},
   "outputs": [
    {
     "data": {
      "text/plain": [
       "Counter({'покупка': 5912,\n",
       "         ' ': 55201,\n",
       "         'жилье': 4473,\n",
       "         'приобретение': 462,\n",
       "         'автомобиль': 4315,\n",
       "         'дополнительный': 909,\n",
       "         'образование': 4022,\n",
       "         'сыграть': 774,\n",
       "         'свадьба': 2348,\n",
       "         'операция': 2610,\n",
       "         'с': 2924,\n",
       "         'на': 2233,\n",
       "         'проведение': 777,\n",
       "         'для': 1294,\n",
       "         'семья': 641,\n",
       "         'недвижимость': 6367,\n",
       "         'коммерческий': 1315,\n",
       "         'жилой': 1233,\n",
       "         'строительство': 1881,\n",
       "         'собственный': 635,\n",
       "         'подержать': 858,\n",
       "         'свой': 2235,\n",
       "         'со': 630,\n",
       "         'заниматься': 908,\n",
       "         'сделка': 944,\n",
       "         'получение': 1316,\n",
       "         'высокий': 1375,\n",
       "         'подержанный': 110,\n",
       "         'профильный': 436,\n",
       "         'сдача': 653,\n",
       "         'ремонт': 612,\n",
       "         '\\n': 1})"
      ]
     },
     "execution_count": 30,
     "metadata": {},
     "output_type": "execute_result"
    }
   ],
   "source": [
    "#обьединяем в столбец в одну строку\n",
    "purpose_str = ' '.join(data['purpose']) \n",
    "#лемматизируем строку\n",
    "lemmas = m.lemmatize(purpose_str)\n",
    "#считаем саммые частые леммы\n",
    "Counter(lemmas)"
   ]
  },
  {
   "cell_type": "markdown",
   "metadata": {},
   "source": [
    "**Категоризация данных**"
   ]
  },
  {
   "cell_type": "markdown",
   "metadata": {},
   "source": [
    "У нас 6 категорий в целях кредита:\n",
    "- для свадьбы(5),\n",
    "- для образования(4),\n",
    "- для машины(3),\n",
    "- для жилья(2),\n",
    "- для коммерческой недвижимости(1)\n",
    "- остальное(0)\n",
    "\n",
    "6 категорий по наличию детей: от 0 до 5\n",
    "\n",
    "5 категорий по семмейному положению\n",
    "\n",
    "5 категорий по уровню дохода. 20% от общей выборки входят в одну категорию"
   ]
  },
  {
   "cell_type": "code",
   "execution_count": 32,
   "metadata": {
    "code_folding": []
   },
   "outputs": [],
   "source": [
    "#вводим функцию, которая ищет подходящую лемму и присваивает общую категорию по целям\n",
    "def categorization_purpose(row): \n",
    "    purpose = row['purpose']\n",
    "    if 'недв' in purpose:\n",
    "        return 1\n",
    "    elif 'жиль' in purpose:\n",
    "        return 2\n",
    "    elif 'авто' in purpose:\n",
    "        return 3\n",
    "    elif 'обра' in purpose:\n",
    "        return 4\n",
    "    elif 'сва' in purpose:\n",
    "        return 5\n",
    "    return 6\n",
    "df['purpose_id'] = df.apply(categorization_purpose, axis=1)"
   ]
  },
  {
   "cell_type": "code",
   "execution_count": 37,
   "metadata": {
    "scrolled": false
   },
   "outputs": [
    {
     "name": "stdout",
     "output_type": "stream",
     "text": [
      "<class 'pandas.core.frame.DataFrame'>\n",
      "RangeIndex: 21525 entries, 0 to 21524\n",
      "Data columns (total 14 columns):\n",
      " #   Column            Non-Null Count  Dtype   \n",
      "---  ------            --------------  -----   \n",
      " 0   children          21525 non-null  int64   \n",
      " 1   days_employed     21525 non-null  int32   \n",
      " 2   dob_years         21525 non-null  int64   \n",
      " 3   education         21525 non-null  object  \n",
      " 4   education_id      21525 non-null  int64   \n",
      " 5   family_status     21525 non-null  object  \n",
      " 6   family_status_id  21525 non-null  int64   \n",
      " 7   gender            21525 non-null  object  \n",
      " 8   income_type       21525 non-null  object  \n",
      " 9   debt              21525 non-null  int64   \n",
      " 10  total_income      21525 non-null  int32   \n",
      " 11  purpose           21525 non-null  object  \n",
      " 12  purpose_id        21525 non-null  int64   \n",
      " 13  income_id         21525 non-null  category\n",
      "dtypes: category(1), int32(2), int64(6), object(5)\n",
      "memory usage: 2.0+ MB\n"
     ]
    },
    {
     "data": {
      "text/html": [
       "<div>\n",
       "<style scoped>\n",
       "    .dataframe tbody tr th:only-of-type {\n",
       "        vertical-align: middle;\n",
       "    }\n",
       "\n",
       "    .dataframe tbody tr th {\n",
       "        vertical-align: top;\n",
       "    }\n",
       "\n",
       "    .dataframe thead th {\n",
       "        text-align: right;\n",
       "    }\n",
       "</style>\n",
       "<table border=\"1\" class=\"dataframe\">\n",
       "  <thead>\n",
       "    <tr style=\"text-align: right;\">\n",
       "      <th></th>\n",
       "      <th>children</th>\n",
       "      <th>days_employed</th>\n",
       "      <th>dob_years</th>\n",
       "      <th>education</th>\n",
       "      <th>education_id</th>\n",
       "      <th>family_status</th>\n",
       "      <th>family_status_id</th>\n",
       "      <th>gender</th>\n",
       "      <th>income_type</th>\n",
       "      <th>debt</th>\n",
       "      <th>total_income</th>\n",
       "      <th>purpose</th>\n",
       "      <th>purpose_id</th>\n",
       "      <th>income_id</th>\n",
       "    </tr>\n",
       "  </thead>\n",
       "  <tbody>\n",
       "    <tr>\n",
       "      <th>0</th>\n",
       "      <td>1</td>\n",
       "      <td>8437</td>\n",
       "      <td>42</td>\n",
       "      <td>высшее</td>\n",
       "      <td>0</td>\n",
       "      <td>женат / замужем</td>\n",
       "      <td>0</td>\n",
       "      <td>F</td>\n",
       "      <td>сотрудник</td>\n",
       "      <td>0</td>\n",
       "      <td>253875</td>\n",
       "      <td>покупка жилья</td>\n",
       "      <td>2</td>\n",
       "      <td>высокий</td>\n",
       "    </tr>\n",
       "    <tr>\n",
       "      <th>1</th>\n",
       "      <td>1</td>\n",
       "      <td>4024</td>\n",
       "      <td>36</td>\n",
       "      <td>среднее</td>\n",
       "      <td>1</td>\n",
       "      <td>женат / замужем</td>\n",
       "      <td>0</td>\n",
       "      <td>F</td>\n",
       "      <td>сотрудник</td>\n",
       "      <td>0</td>\n",
       "      <td>112080</td>\n",
       "      <td>приобретение автомобиля</td>\n",
       "      <td>3</td>\n",
       "      <td>ниже среднего</td>\n",
       "    </tr>\n",
       "    <tr>\n",
       "      <th>2</th>\n",
       "      <td>0</td>\n",
       "      <td>5623</td>\n",
       "      <td>33</td>\n",
       "      <td>среднее</td>\n",
       "      <td>1</td>\n",
       "      <td>женат / замужем</td>\n",
       "      <td>0</td>\n",
       "      <td>M</td>\n",
       "      <td>сотрудник</td>\n",
       "      <td>0</td>\n",
       "      <td>145885</td>\n",
       "      <td>покупка жилья</td>\n",
       "      <td>2</td>\n",
       "      <td>средний</td>\n",
       "    </tr>\n",
       "    <tr>\n",
       "      <th>3</th>\n",
       "      <td>3</td>\n",
       "      <td>4124</td>\n",
       "      <td>32</td>\n",
       "      <td>среднее</td>\n",
       "      <td>1</td>\n",
       "      <td>женат / замужем</td>\n",
       "      <td>0</td>\n",
       "      <td>M</td>\n",
       "      <td>сотрудник</td>\n",
       "      <td>0</td>\n",
       "      <td>267628</td>\n",
       "      <td>дополнительное образование</td>\n",
       "      <td>4</td>\n",
       "      <td>высокий</td>\n",
       "    </tr>\n",
       "    <tr>\n",
       "      <th>4</th>\n",
       "      <td>0</td>\n",
       "      <td>340266</td>\n",
       "      <td>53</td>\n",
       "      <td>среднее</td>\n",
       "      <td>1</td>\n",
       "      <td>гражданский брак</td>\n",
       "      <td>1</td>\n",
       "      <td>F</td>\n",
       "      <td>пенсионер</td>\n",
       "      <td>0</td>\n",
       "      <td>158616</td>\n",
       "      <td>сыграть свадьбу</td>\n",
       "      <td>5</td>\n",
       "      <td>выше среднего</td>\n",
       "    </tr>\n",
       "  </tbody>\n",
       "</table>\n",
       "</div>"
      ],
      "text/plain": [
       "   children  days_employed  dob_years education  education_id  \\\n",
       "0         1           8437         42    высшее             0   \n",
       "1         1           4024         36   среднее             1   \n",
       "2         0           5623         33   среднее             1   \n",
       "3         3           4124         32   среднее             1   \n",
       "4         0         340266         53   среднее             1   \n",
       "\n",
       "      family_status  family_status_id gender income_type  debt  total_income  \\\n",
       "0   женат / замужем                 0      F   сотрудник     0        253875   \n",
       "1   женат / замужем                 0      F   сотрудник     0        112080   \n",
       "2   женат / замужем                 0      M   сотрудник     0        145885   \n",
       "3   женат / замужем                 0      M   сотрудник     0        267628   \n",
       "4  гражданский брак                 1      F   пенсионер     0        158616   \n",
       "\n",
       "                      purpose  purpose_id      income_id  \n",
       "0               покупка жилья           2        высокий  \n",
       "1     приобретение автомобиля           3  ниже среднего  \n",
       "2               покупка жилья           2        средний  \n",
       "3  дополнительное образование           4        высокий  \n",
       "4             сыграть свадьбу           5  выше среднего  "
      ]
     },
     "execution_count": 37,
     "metadata": {},
     "output_type": "execute_result"
    }
   ],
   "source": [
    "#создаем список с названием наших категорий\n",
    "labels=['низкий', 'ниже среднего', 'средний', 'выше среднего', 'высокий'] \n",
    "#создаем столбец 'income_id' в него ставим значения от функции\n",
    "#'qcut' и делим на 5 ровных частей и присваиваем им наши названия\n",
    "df['income_id'] = pd.qcut(df['total_income'], 5, labels=labels) \n",
    "df.info()\n",
    "df.head()"
   ]
  },
  {
   "cell_type": "markdown",
   "metadata": {},
   "source": [
    "**Вывод**\n",
    "\n",
    "Привели все данные в порядок. Добавили категории по заработку людей."
   ]
  },
  {
   "cell_type": "markdown",
   "metadata": {},
   "source": [
    "## Анализ данных"
   ]
  },
  {
   "cell_type": "markdown",
   "metadata": {},
   "source": [
    "- **Есть ли зависимость между наличием детей и возвратом кредита в срок?**"
   ]
  },
  {
   "cell_type": "code",
   "execution_count": 39,
   "metadata": {},
   "outputs": [
    {
     "data": {
      "text/html": [
       "<div>\n",
       "<style scoped>\n",
       "    .dataframe tbody tr th:only-of-type {\n",
       "        vertical-align: middle;\n",
       "    }\n",
       "\n",
       "    .dataframe tbody tr th {\n",
       "        vertical-align: top;\n",
       "    }\n",
       "\n",
       "    .dataframe thead th {\n",
       "        text-align: right;\n",
       "    }\n",
       "</style>\n",
       "<table border=\"1\" class=\"dataframe\">\n",
       "  <thead>\n",
       "    <tr style=\"text-align: right;\">\n",
       "      <th></th>\n",
       "      <th>count</th>\n",
       "      <th>sum</th>\n",
       "      <th>ratio</th>\n",
       "    </tr>\n",
       "    <tr>\n",
       "      <th>children</th>\n",
       "      <th></th>\n",
       "      <th></th>\n",
       "      <th></th>\n",
       "    </tr>\n",
       "  </thead>\n",
       "  <tbody>\n",
       "    <tr>\n",
       "      <th>0</th>\n",
       "      <td>14149</td>\n",
       "      <td>1063</td>\n",
       "      <td>7.512898</td>\n",
       "    </tr>\n",
       "    <tr>\n",
       "      <th>1</th>\n",
       "      <td>4865</td>\n",
       "      <td>445</td>\n",
       "      <td>9.146968</td>\n",
       "    </tr>\n",
       "    <tr>\n",
       "      <th>2</th>\n",
       "      <td>2131</td>\n",
       "      <td>202</td>\n",
       "      <td>9.479118</td>\n",
       "    </tr>\n",
       "    <tr>\n",
       "      <th>3</th>\n",
       "      <td>330</td>\n",
       "      <td>27</td>\n",
       "      <td>8.181818</td>\n",
       "    </tr>\n",
       "    <tr>\n",
       "      <th>4</th>\n",
       "      <td>41</td>\n",
       "      <td>4</td>\n",
       "      <td>9.756098</td>\n",
       "    </tr>\n",
       "    <tr>\n",
       "      <th>5</th>\n",
       "      <td>9</td>\n",
       "      <td>0</td>\n",
       "      <td>0.000000</td>\n",
       "    </tr>\n",
       "  </tbody>\n",
       "</table>\n",
       "</div>"
      ],
      "text/plain": [
       "          count   sum     ratio\n",
       "children                       \n",
       "0         14149  1063  7.512898\n",
       "1          4865   445  9.146968\n",
       "2          2131   202  9.479118\n",
       "3           330    27  8.181818\n",
       "4            41     4  9.756098\n",
       "5             9     0  0.000000"
      ]
     },
     "execution_count": 39,
     "metadata": {},
     "output_type": "execute_result"
    }
   ],
   "source": [
    "#создаем сводную таблицу со значениями\n",
    "#общего количества людей в категории, кол-во людей с задолжностью\n",
    "data_children = df.pivot_table(index=['children'],values='debt',aggfunc=('sum','count')) \n",
    "#добавляем столбец в котором считаем кол-во процентов людей с долгами\n",
    "data_children['ratio'] = 100*data_children['sum']/data_children['count'] \n",
    "data_children"
   ]
  },
  {
   "cell_type": "markdown",
   "metadata": {},
   "source": [
    "**Вывод**\n",
    "\n",
    "Зависимость между кол-м детей и возвратом кредита в срок есть. Люди без детей имеют самый низкий процент долга, а с детьми уже процент выше.\n",
    "\n",
    "Нет детей - вероятность долга 7,5%\n",
    "\n",
    "1 ребенок - вероятность долга 9,1%\n",
    "\n",
    "2 ребенка - вероятность долга 9,4%\n",
    "\n",
    "3 ребенка - вероятность долга 8,1%\n",
    "\n",
    "4 ребенка - вероятность долга 9,7%\n",
    "\n",
    "5 детей - вероятность долга 0%\n",
    "\n",
    "Можем заметить что, если у человека 5 детей, то вероятность долга нулевая, но в выборке всего 9 человек, поэтому можем пренебречь этой категорией. Тоже самое можно и сказать про людей с 4 детьми(41 человек) у которых процент долга выше, чем у людей с 3 детьми.\n",
    "\n",
    "Веротяность долга растет с кол-м детей, но только до 3 детей. Если у человека 3 ребенка, вероятность долга ниже. Можно предположить, что и дальше с увеличением детей будет уменьшаться вероятность долга.\n",
    "\n",
    "- Самые надежные заемщики без детей 7,5% вероятность долга. \n",
    "- Самые ненадежные заемщики в 2 детьми 9,4% вероятность долга."
   ]
  },
  {
   "cell_type": "markdown",
   "metadata": {},
   "source": [
    "- **Есть ли зависимость между семейным положением и возвратом кредита в срок?**"
   ]
  },
  {
   "cell_type": "code",
   "execution_count": 40,
   "metadata": {},
   "outputs": [
    {
     "data": {
      "text/html": [
       "<div>\n",
       "<style scoped>\n",
       "    .dataframe tbody tr th:only-of-type {\n",
       "        vertical-align: middle;\n",
       "    }\n",
       "\n",
       "    .dataframe tbody tr th {\n",
       "        vertical-align: top;\n",
       "    }\n",
       "\n",
       "    .dataframe thead th {\n",
       "        text-align: right;\n",
       "    }\n",
       "</style>\n",
       "<table border=\"1\" class=\"dataframe\">\n",
       "  <thead>\n",
       "    <tr style=\"text-align: right;\">\n",
       "      <th></th>\n",
       "      <th></th>\n",
       "      <th>count</th>\n",
       "      <th>sum</th>\n",
       "      <th>ratio</th>\n",
       "    </tr>\n",
       "    <tr>\n",
       "      <th>family_status</th>\n",
       "      <th>family_status_id</th>\n",
       "      <th></th>\n",
       "      <th></th>\n",
       "      <th></th>\n",
       "    </tr>\n",
       "  </thead>\n",
       "  <tbody>\n",
       "    <tr>\n",
       "      <th>Не женат / не замужем</th>\n",
       "      <th>4</th>\n",
       "      <td>2813</td>\n",
       "      <td>274</td>\n",
       "      <td>9.740491</td>\n",
       "    </tr>\n",
       "    <tr>\n",
       "      <th>в разводе</th>\n",
       "      <th>3</th>\n",
       "      <td>1195</td>\n",
       "      <td>85</td>\n",
       "      <td>7.112971</td>\n",
       "    </tr>\n",
       "    <tr>\n",
       "      <th>вдовец / вдова</th>\n",
       "      <th>2</th>\n",
       "      <td>960</td>\n",
       "      <td>63</td>\n",
       "      <td>6.562500</td>\n",
       "    </tr>\n",
       "    <tr>\n",
       "      <th>гражданский брак</th>\n",
       "      <th>1</th>\n",
       "      <td>4177</td>\n",
       "      <td>388</td>\n",
       "      <td>9.288963</td>\n",
       "    </tr>\n",
       "    <tr>\n",
       "      <th>женат / замужем</th>\n",
       "      <th>0</th>\n",
       "      <td>12380</td>\n",
       "      <td>931</td>\n",
       "      <td>7.520194</td>\n",
       "    </tr>\n",
       "  </tbody>\n",
       "</table>\n",
       "</div>"
      ],
      "text/plain": [
       "                                        count  sum     ratio\n",
       "family_status         family_status_id                      \n",
       "Не женат / не замужем 4                  2813  274  9.740491\n",
       "в разводе             3                  1195   85  7.112971\n",
       "вдовец / вдова        2                   960   63  6.562500\n",
       "гражданский брак      1                  4177  388  9.288963\n",
       "женат / замужем       0                 12380  931  7.520194"
      ]
     },
     "execution_count": 40,
     "metadata": {},
     "output_type": "execute_result"
    }
   ],
   "source": [
    "data_family_status = df.pivot_table(index=['family_status','family_status_id'],values='debt',aggfunc=('sum','count'))\n",
    "data_family_status['ratio'] = 100*data_family_status['sum']/data_family_status['count']\n",
    "data_family_status"
   ]
  },
  {
   "cell_type": "markdown",
   "metadata": {},
   "source": [
    "**Вывод**\n",
    "\n",
    "Зависимость между семейным положением и возвратом кредита в срок есть. Одинокие люди являются самыми надежными и ненадежными заемщиками.\n",
    "\n",
    "- Люди без партнера - вероятность долга почти 10%\n",
    "- Вдовцы - вероятность долга почти 6,6 %\n"
   ]
  },
  {
   "cell_type": "markdown",
   "metadata": {},
   "source": [
    "- **Есть ли зависимость между уровнем дохода и возвратом кредита в срок?**"
   ]
  },
  {
   "cell_type": "code",
   "execution_count": 42,
   "metadata": {},
   "outputs": [
    {
     "data": {
      "text/html": [
       "<div>\n",
       "<style scoped>\n",
       "    .dataframe tbody tr th:only-of-type {\n",
       "        vertical-align: middle;\n",
       "    }\n",
       "\n",
       "    .dataframe tbody tr th {\n",
       "        vertical-align: top;\n",
       "    }\n",
       "\n",
       "    .dataframe thead th {\n",
       "        text-align: right;\n",
       "    }\n",
       "</style>\n",
       "<table border=\"1\" class=\"dataframe\">\n",
       "  <thead>\n",
       "    <tr style=\"text-align: right;\">\n",
       "      <th></th>\n",
       "      <th>count</th>\n",
       "      <th>sum</th>\n",
       "      <th>ratio</th>\n",
       "    </tr>\n",
       "    <tr>\n",
       "      <th>income_id</th>\n",
       "      <th></th>\n",
       "      <th></th>\n",
       "      <th></th>\n",
       "    </tr>\n",
       "  </thead>\n",
       "  <tbody>\n",
       "    <tr>\n",
       "      <th>низкий</th>\n",
       "      <td>4305</td>\n",
       "      <td>345</td>\n",
       "      <td>8.013937</td>\n",
       "    </tr>\n",
       "    <tr>\n",
       "      <th>ниже среднего</th>\n",
       "      <td>4305</td>\n",
       "      <td>357</td>\n",
       "      <td>8.292683</td>\n",
       "    </tr>\n",
       "    <tr>\n",
       "      <th>средний</th>\n",
       "      <td>4305</td>\n",
       "      <td>364</td>\n",
       "      <td>8.455285</td>\n",
       "    </tr>\n",
       "    <tr>\n",
       "      <th>выше среднего</th>\n",
       "      <td>4305</td>\n",
       "      <td>372</td>\n",
       "      <td>8.641115</td>\n",
       "    </tr>\n",
       "    <tr>\n",
       "      <th>высокий</th>\n",
       "      <td>4305</td>\n",
       "      <td>303</td>\n",
       "      <td>7.038328</td>\n",
       "    </tr>\n",
       "  </tbody>\n",
       "</table>\n",
       "</div>"
      ],
      "text/plain": [
       "               count  sum     ratio\n",
       "income_id                          \n",
       "низкий          4305  345  8.013937\n",
       "ниже среднего   4305  357  8.292683\n",
       "средний         4305  364  8.455285\n",
       "выше среднего   4305  372  8.641115\n",
       "высокий         4305  303  7.038328"
      ]
     },
     "execution_count": 42,
     "metadata": {},
     "output_type": "execute_result"
    }
   ],
   "source": [
    "data_income = df.pivot_table(index=['income_id'],values='debt',aggfunc=('sum','count'))\n",
    "data_income['ratio'] = 100*data_income['sum']/data_income['count']\n",
    "data_income"
   ]
  },
  {
   "cell_type": "markdown",
   "metadata": {},
   "source": [
    "**Вывод**\n",
    "\n",
    "Зависимость между уровнем дохода и возвратом кредита в срок есть. При доходе ниже высокого вероятность долга меняется не критично. \n",
    "\n",
    "- Люди с высоким доходом возвращают кредит на 1% чаще всех остальных."
   ]
  },
  {
   "cell_type": "markdown",
   "metadata": {},
   "source": [
    "- **Как разные цели кредита влияют на его возврат в срок?**"
   ]
  },
  {
   "cell_type": "code",
   "execution_count": 43,
   "metadata": {},
   "outputs": [
    {
     "data": {
      "text/html": [
       "<div>\n",
       "<style scoped>\n",
       "    .dataframe tbody tr th:only-of-type {\n",
       "        vertical-align: middle;\n",
       "    }\n",
       "\n",
       "    .dataframe tbody tr th {\n",
       "        vertical-align: top;\n",
       "    }\n",
       "\n",
       "    .dataframe thead th {\n",
       "        text-align: right;\n",
       "    }\n",
       "</style>\n",
       "<table border=\"1\" class=\"dataframe\">\n",
       "  <thead>\n",
       "    <tr style=\"text-align: right;\">\n",
       "      <th></th>\n",
       "      <th>count</th>\n",
       "      <th>sum</th>\n",
       "      <th>ratio</th>\n",
       "    </tr>\n",
       "    <tr>\n",
       "      <th>purpose_id</th>\n",
       "      <th></th>\n",
       "      <th></th>\n",
       "      <th></th>\n",
       "    </tr>\n",
       "  </thead>\n",
       "  <tbody>\n",
       "    <tr>\n",
       "      <th>1</th>\n",
       "      <td>6367</td>\n",
       "      <td>474</td>\n",
       "      <td>7.444636</td>\n",
       "    </tr>\n",
       "    <tr>\n",
       "      <th>2</th>\n",
       "      <td>4473</td>\n",
       "      <td>308</td>\n",
       "      <td>6.885759</td>\n",
       "    </tr>\n",
       "    <tr>\n",
       "      <th>3</th>\n",
       "      <td>4315</td>\n",
       "      <td>403</td>\n",
       "      <td>9.339513</td>\n",
       "    </tr>\n",
       "    <tr>\n",
       "      <th>4</th>\n",
       "      <td>4022</td>\n",
       "      <td>370</td>\n",
       "      <td>9.199403</td>\n",
       "    </tr>\n",
       "    <tr>\n",
       "      <th>5</th>\n",
       "      <td>2348</td>\n",
       "      <td>186</td>\n",
       "      <td>7.921635</td>\n",
       "    </tr>\n",
       "  </tbody>\n",
       "</table>\n",
       "</div>"
      ],
      "text/plain": [
       "            count  sum     ratio\n",
       "purpose_id                      \n",
       "1            6367  474  7.444636\n",
       "2            4473  308  6.885759\n",
       "3            4315  403  9.339513\n",
       "4            4022  370  9.199403\n",
       "5            2348  186  7.921635"
      ]
     },
     "execution_count": 43,
     "metadata": {},
     "output_type": "execute_result"
    }
   ],
   "source": [
    "data_purpose = df.pivot_table(index=['purpose_id'],values='debt',aggfunc=('sum','count'))\n",
    "data_purpose['ratio'] = 100*data_purpose['sum']/data_purpose['count']\n",
    "data_purpose"
   ]
  },
  {
   "cell_type": "markdown",
   "metadata": {},
   "source": [
    "**Вывод**"
   ]
  },
  {
   "cell_type": "markdown",
   "metadata": {},
   "source": [
    "Зависимость между целью кредита и возвратом кредита в срок есть. \n",
    "\n",
    "\n",
    "- Самый надежные заемщики, те кто берет какую-либо недвижимость в кредит. Коммерческая или некоммерческая, 7,4% и 6,8% вероятность долга, соотвественно.\n",
    "- Самые ненадежные кредиты, кредиты на автомобиль и образование. 9,3% и 9,2% вероятность долга, соотвественно."
   ]
  },
  {
   "cell_type": "markdown",
   "metadata": {},
   "source": [
    "## Вывод"
   ]
  },
  {
   "cell_type": "markdown",
   "metadata": {},
   "source": [
    "Мы нашли зависимость вероятности долга от 4 параметров. И можем помтроить портрет надежного и ненадежного заемщика.\n",
    "- Самый надежный заемщик банка: Вдовец без детей с высоким уровня дохода с кредитом на недвижимость\n",
    "- Самый ненадежный заемщик банка: Неженатый человек с 2 детьми с доходом ниже высокого с кредитом на машину или образование."
   ]
  }
 ],
 "metadata": {
  "ExecuteTimeLog": [
   {
    "duration": 132,
    "start_time": "2021-11-03T18:30:02.576Z"
   },
   {
    "duration": 805,
    "start_time": "2021-11-03T18:30:06.097Z"
   },
   {
    "duration": 102,
    "start_time": "2021-11-03T18:30:13.705Z"
   },
   {
    "duration": 80,
    "start_time": "2021-11-03T18:32:08.534Z"
   },
   {
    "duration": 99,
    "start_time": "2021-11-03T18:32:24.447Z"
   },
   {
    "duration": 16,
    "start_time": "2021-11-03T18:33:36.918Z"
   },
   {
    "duration": 6,
    "start_time": "2021-11-03T19:08:56.515Z"
   },
   {
    "duration": 6,
    "start_time": "2021-11-03T19:09:20.398Z"
   },
   {
    "duration": 8,
    "start_time": "2021-11-03T19:09:33.430Z"
   },
   {
    "duration": 7,
    "start_time": "2021-11-03T19:09:47.927Z"
   },
   {
    "duration": 6,
    "start_time": "2021-11-03T19:09:58.132Z"
   },
   {
    "duration": 7,
    "start_time": "2021-11-03T19:10:17.837Z"
   },
   {
    "duration": 7,
    "start_time": "2021-11-03T19:10:31.453Z"
   },
   {
    "duration": 6,
    "start_time": "2021-11-03T19:10:39.117Z"
   },
   {
    "duration": 7,
    "start_time": "2021-11-03T19:10:48.349Z"
   },
   {
    "duration": 6,
    "start_time": "2021-11-03T19:10:54.536Z"
   },
   {
    "duration": 7,
    "start_time": "2021-11-03T19:11:01.370Z"
   },
   {
    "duration": 8,
    "start_time": "2021-11-03T19:11:09.070Z"
   },
   {
    "duration": 8,
    "start_time": "2021-11-03T19:11:17.174Z"
   },
   {
    "duration": 13,
    "start_time": "2021-11-03T19:12:26.873Z"
   },
   {
    "duration": 5,
    "start_time": "2021-11-03T19:12:58.204Z"
   },
   {
    "duration": 21,
    "start_time": "2021-11-03T19:14:47.076Z"
   },
   {
    "duration": 21,
    "start_time": "2021-11-03T19:25:42.414Z"
   },
   {
    "duration": 22,
    "start_time": "2021-11-03T19:28:04.674Z"
   },
   {
    "duration": 11,
    "start_time": "2021-11-03T19:28:53.012Z"
   },
   {
    "duration": 9,
    "start_time": "2021-11-03T19:30:51.628Z"
   },
   {
    "duration": 10,
    "start_time": "2021-11-03T19:30:56.123Z"
   },
   {
    "duration": 6,
    "start_time": "2021-11-03T19:31:01.507Z"
   },
   {
    "duration": 8,
    "start_time": "2021-11-03T19:31:06.515Z"
   },
   {
    "duration": 7,
    "start_time": "2021-11-03T19:31:20.412Z"
   },
   {
    "duration": 9,
    "start_time": "2021-11-03T19:31:24.572Z"
   },
   {
    "duration": 929,
    "start_time": "2021-11-05T17:26:05.892Z"
   },
   {
    "duration": 16,
    "start_time": "2021-11-05T17:26:07.075Z"
   },
   {
    "duration": 22,
    "start_time": "2021-11-05T17:26:11.836Z"
   },
   {
    "duration": 6,
    "start_time": "2021-11-05T17:26:13.426Z"
   },
   {
    "duration": 9,
    "start_time": "2021-11-05T17:27:14.457Z"
   },
   {
    "duration": 10,
    "start_time": "2021-11-05T17:28:32.045Z"
   },
   {
    "duration": 10,
    "start_time": "2021-11-05T17:32:13.043Z"
   },
   {
    "duration": 11,
    "start_time": "2021-11-05T17:32:16.318Z"
   },
   {
    "duration": 12,
    "start_time": "2021-11-05T17:32:28.054Z"
   },
   {
    "duration": 91,
    "start_time": "2021-11-05T17:32:52.385Z"
   },
   {
    "duration": 15,
    "start_time": "2021-11-05T17:32:53.308Z"
   },
   {
    "duration": 6,
    "start_time": "2021-11-05T17:32:55.280Z"
   },
   {
    "duration": 11,
    "start_time": "2021-11-05T17:33:04.492Z"
   },
   {
    "duration": 8,
    "start_time": "2021-11-05T17:33:10.941Z"
   },
   {
    "duration": 5,
    "start_time": "2021-11-05T17:38:04.403Z"
   },
   {
    "duration": 5,
    "start_time": "2021-11-05T17:38:07.150Z"
   },
   {
    "duration": 17,
    "start_time": "2021-11-05T17:38:13.446Z"
   },
   {
    "duration": 602,
    "start_time": "2021-11-05T17:38:58.095Z"
   },
   {
    "duration": 878,
    "start_time": "2021-11-05T17:39:14.623Z"
   },
   {
    "duration": 15,
    "start_time": "2021-11-05T17:39:15.889Z"
   },
   {
    "duration": 24,
    "start_time": "2021-11-05T17:39:17.751Z"
   },
   {
    "duration": 10,
    "start_time": "2021-11-05T17:39:18.272Z"
   },
   {
    "duration": 9,
    "start_time": "2021-11-05T17:39:18.518Z"
   },
   {
    "duration": 21,
    "start_time": "2021-11-05T17:39:22.396Z"
   },
   {
    "duration": 468,
    "start_time": "2021-11-05T17:43:32.095Z"
   },
   {
    "duration": 16,
    "start_time": "2021-11-05T17:43:44.156Z"
   },
   {
    "duration": 370,
    "start_time": "2021-11-05T17:43:47.332Z"
   },
   {
    "duration": 41,
    "start_time": "2021-11-05T17:45:14.134Z"
   },
   {
    "duration": 19,
    "start_time": "2021-11-05T17:45:58.421Z"
   },
   {
    "duration": 20,
    "start_time": "2021-11-05T17:46:20.257Z"
   },
   {
    "duration": 711,
    "start_time": "2021-11-05T17:52:30.932Z"
   },
   {
    "duration": 473,
    "start_time": "2021-11-05T17:54:05.570Z"
   },
   {
    "duration": 467,
    "start_time": "2021-11-05T17:54:21.145Z"
   },
   {
    "duration": 597,
    "start_time": "2021-11-05T17:54:50.713Z"
   },
   {
    "duration": 116,
    "start_time": "2021-11-05T17:56:36.072Z"
   },
   {
    "duration": 128,
    "start_time": "2021-11-05T17:56:39.205Z"
   },
   {
    "duration": 391,
    "start_time": "2021-11-05T17:56:46.155Z"
   },
   {
    "duration": 362,
    "start_time": "2021-11-05T17:58:55.305Z"
   },
   {
    "duration": 21,
    "start_time": "2021-11-05T18:00:42.097Z"
   },
   {
    "duration": 3867,
    "start_time": "2021-11-05T18:01:18.841Z"
   },
   {
    "duration": 3561,
    "start_time": "2021-11-05T18:01:49.537Z"
   },
   {
    "duration": 13,
    "start_time": "2021-11-05T18:19:46.520Z"
   },
   {
    "duration": 16,
    "start_time": "2021-11-05T18:20:21.435Z"
   },
   {
    "duration": 11,
    "start_time": "2021-11-05T18:20:34.445Z"
   },
   {
    "duration": 14,
    "start_time": "2021-11-05T18:21:46.543Z"
   },
   {
    "duration": 35,
    "start_time": "2021-11-05T18:23:52.549Z"
   },
   {
    "duration": 452,
    "start_time": "2021-11-05T18:32:02.619Z"
   },
   {
    "duration": 423,
    "start_time": "2021-11-05T18:32:59.387Z"
   },
   {
    "duration": 415,
    "start_time": "2021-11-05T18:33:48.993Z"
   },
   {
    "duration": 5749,
    "start_time": "2021-11-05T18:34:16.194Z"
   },
   {
    "duration": 424,
    "start_time": "2021-11-05T18:34:25.530Z"
   },
   {
    "duration": 97,
    "start_time": "2021-11-05T18:34:30.641Z"
   },
   {
    "duration": 14,
    "start_time": "2021-11-05T18:34:30.846Z"
   },
   {
    "duration": 21,
    "start_time": "2021-11-05T18:34:32.028Z"
   },
   {
    "duration": 9,
    "start_time": "2021-11-05T18:34:32.759Z"
   },
   {
    "duration": 9,
    "start_time": "2021-11-05T18:34:33.034Z"
   },
   {
    "duration": 29,
    "start_time": "2021-11-05T18:34:34.436Z"
   },
   {
    "duration": 22,
    "start_time": "2021-11-05T18:34:36.196Z"
   },
   {
    "duration": 505,
    "start_time": "2021-11-05T18:34:36.506Z"
   },
   {
    "duration": 482,
    "start_time": "2021-11-05T18:34:42.618Z"
   },
   {
    "duration": 3849,
    "start_time": "2021-11-05T18:34:45.911Z"
   },
   {
    "duration": 421,
    "start_time": "2021-11-05T18:34:54.122Z"
   },
   {
    "duration": 435,
    "start_time": "2021-11-05T18:35:15.987Z"
   },
   {
    "duration": 423,
    "start_time": "2021-11-05T18:35:27.903Z"
   },
   {
    "duration": 415,
    "start_time": "2021-11-05T18:35:39.463Z"
   },
   {
    "duration": 422,
    "start_time": "2021-11-05T18:35:52.957Z"
   },
   {
    "duration": 406,
    "start_time": "2021-11-05T18:36:00.944Z"
   },
   {
    "duration": 440,
    "start_time": "2021-11-05T18:36:07.943Z"
   },
   {
    "duration": 396,
    "start_time": "2021-11-05T18:36:45.816Z"
   },
   {
    "duration": 767,
    "start_time": "2021-11-05T18:36:55.404Z"
   },
   {
    "duration": 384,
    "start_time": "2021-11-05T18:37:02.979Z"
   },
   {
    "duration": 435,
    "start_time": "2021-11-05T18:37:14.884Z"
   },
   {
    "duration": 414,
    "start_time": "2021-11-05T18:38:07.625Z"
   },
   {
    "duration": 386,
    "start_time": "2021-11-05T18:39:06.152Z"
   },
   {
    "duration": 386,
    "start_time": "2021-11-05T18:39:31.468Z"
   },
   {
    "duration": 1519,
    "start_time": "2021-11-05T18:39:31.857Z"
   },
   {
    "duration": 1101,
    "start_time": "2021-11-05T18:40:39.683Z"
   },
   {
    "duration": 493,
    "start_time": "2021-11-05T18:40:49.807Z"
   },
   {
    "duration": 670,
    "start_time": "2021-11-05T18:40:50.303Z"
   },
   {
    "duration": 395,
    "start_time": "2021-11-05T18:47:48.236Z"
   },
   {
    "duration": 32,
    "start_time": "2021-11-05T18:47:48.634Z"
   },
   {
    "duration": 23,
    "start_time": "2021-11-05T18:49:46.296Z"
   },
   {
    "duration": 21,
    "start_time": "2021-11-05T18:49:58.466Z"
   },
   {
    "duration": 23,
    "start_time": "2021-11-05T18:51:12.605Z"
   },
   {
    "duration": 15,
    "start_time": "2021-11-05T18:52:33.395Z"
   },
   {
    "duration": 47,
    "start_time": "2021-11-05T18:52:54.992Z"
   },
   {
    "duration": 394,
    "start_time": "2021-11-05T19:05:02.263Z"
   },
   {
    "duration": 28,
    "start_time": "2021-11-05T19:05:13.905Z"
   },
   {
    "duration": 1035,
    "start_time": "2021-11-05T19:05:37.644Z"
   },
   {
    "duration": 33,
    "start_time": "2021-11-05T19:05:46.652Z"
   },
   {
    "duration": 57,
    "start_time": "2021-11-05T19:06:23.008Z"
   },
   {
    "duration": 117,
    "start_time": "2021-11-05T19:07:19.766Z"
   },
   {
    "duration": 42,
    "start_time": "2021-11-05T19:07:53.002Z"
   },
   {
    "duration": 53,
    "start_time": "2021-11-05T19:07:58.869Z"
   },
   {
    "duration": 34,
    "start_time": "2021-11-05T19:08:08.799Z"
   },
   {
    "duration": 51,
    "start_time": "2021-11-05T19:09:00.731Z"
   },
   {
    "duration": 47,
    "start_time": "2021-11-05T19:09:12.146Z"
   },
   {
    "duration": 47,
    "start_time": "2021-11-05T19:09:55.799Z"
   },
   {
    "duration": 2166,
    "start_time": "2021-11-05T19:10:49.384Z"
   },
   {
    "duration": 123,
    "start_time": "2021-11-05T19:11:06.279Z"
   },
   {
    "duration": 43,
    "start_time": "2021-11-05T19:11:22.945Z"
   },
   {
    "duration": 43,
    "start_time": "2021-11-05T19:12:09.195Z"
   },
   {
    "duration": 30,
    "start_time": "2021-11-05T19:13:09.560Z"
   },
   {
    "duration": 45,
    "start_time": "2021-11-05T19:13:22.156Z"
   },
   {
    "duration": 50,
    "start_time": "2021-11-05T19:21:53.389Z"
   },
   {
    "duration": 48,
    "start_time": "2021-11-05T19:23:47.233Z"
   },
   {
    "duration": 42,
    "start_time": "2021-11-05T19:23:49.608Z"
   },
   {
    "duration": 32,
    "start_time": "2021-11-05T19:24:24.176Z"
   },
   {
    "duration": 38,
    "start_time": "2021-11-05T19:29:00.419Z"
   },
   {
    "duration": 638,
    "start_time": "2021-11-05T21:57:00.391Z"
   },
   {
    "duration": 11,
    "start_time": "2021-11-05T21:57:01.031Z"
   },
   {
    "duration": 20,
    "start_time": "2021-11-05T21:57:01.044Z"
   },
   {
    "duration": 8,
    "start_time": "2021-11-05T21:57:01.066Z"
   },
   {
    "duration": 7,
    "start_time": "2021-11-05T21:57:01.075Z"
   },
   {
    "duration": 20,
    "start_time": "2021-11-05T21:57:01.084Z"
   },
   {
    "duration": 15,
    "start_time": "2021-11-05T21:57:01.106Z"
   },
   {
    "duration": 300,
    "start_time": "2021-11-05T21:57:01.123Z"
   },
   {
    "duration": 2681,
    "start_time": "2021-11-05T21:57:01.425Z"
   },
   {
    "duration": 228,
    "start_time": "2021-11-05T21:57:04.108Z"
   },
   {
    "duration": 39,
    "start_time": "2021-11-05T21:57:04.338Z"
   },
   {
    "duration": 24,
    "start_time": "2021-11-05T21:57:04.378Z"
   },
   {
    "duration": 22,
    "start_time": "2021-11-05T21:57:04.403Z"
   },
   {
    "duration": 39,
    "start_time": "2021-11-05T21:57:04.427Z"
   },
   {
    "duration": 297,
    "start_time": "2021-11-05T21:57:04.468Z"
   },
   {
    "duration": 958,
    "start_time": "2021-11-06T05:20:39.863Z"
   },
   {
    "duration": 16,
    "start_time": "2021-11-06T05:20:41.619Z"
   },
   {
    "duration": 21,
    "start_time": "2021-11-06T05:20:43.996Z"
   },
   {
    "duration": 10,
    "start_time": "2021-11-06T05:20:44.811Z"
   },
   {
    "duration": 9,
    "start_time": "2021-11-06T05:20:45.234Z"
   },
   {
    "duration": 30,
    "start_time": "2021-11-06T05:20:47.545Z"
   },
   {
    "duration": 23,
    "start_time": "2021-11-06T05:20:49.212Z"
   },
   {
    "duration": 511,
    "start_time": "2021-11-06T05:20:49.575Z"
   },
   {
    "duration": 3800,
    "start_time": "2021-11-06T05:20:55.300Z"
   },
   {
    "duration": 409,
    "start_time": "2021-11-06T05:21:02.850Z"
   },
   {
    "duration": 44,
    "start_time": "2021-11-06T05:21:05.243Z"
   },
   {
    "duration": 38,
    "start_time": "2021-11-06T05:21:08.392Z"
   },
   {
    "duration": 37,
    "start_time": "2021-11-06T05:21:09.490Z"
   },
   {
    "duration": 31,
    "start_time": "2021-11-06T05:21:10.761Z"
   },
   {
    "duration": 476,
    "start_time": "2021-11-06T05:21:12.276Z"
   },
   {
    "duration": 32,
    "start_time": "2021-11-06T05:21:48.066Z"
   },
   {
    "duration": 570,
    "start_time": "2021-11-06T13:26:10.055Z"
   },
   {
    "duration": 10,
    "start_time": "2021-11-06T13:26:10.627Z"
   },
   {
    "duration": 14,
    "start_time": "2021-11-06T13:26:10.639Z"
   },
   {
    "duration": 6,
    "start_time": "2021-11-06T13:26:10.655Z"
   },
   {
    "duration": 8,
    "start_time": "2021-11-06T13:26:10.662Z"
   },
   {
    "duration": 37,
    "start_time": "2021-11-06T13:26:10.672Z"
   },
   {
    "duration": 17,
    "start_time": "2021-11-06T13:26:10.710Z"
   },
   {
    "duration": 286,
    "start_time": "2021-11-06T13:26:10.729Z"
   },
   {
    "duration": 2466,
    "start_time": "2021-11-06T13:26:11.017Z"
   },
   {
    "duration": 225,
    "start_time": "2021-11-06T13:26:13.485Z"
   },
   {
    "duration": 28,
    "start_time": "2021-11-06T13:26:13.711Z"
   },
   {
    "duration": 20,
    "start_time": "2021-11-06T13:26:13.741Z"
   },
   {
    "duration": 41,
    "start_time": "2021-11-06T13:26:13.763Z"
   },
   {
    "duration": 21,
    "start_time": "2021-11-06T13:26:13.805Z"
   },
   {
    "duration": 16,
    "start_time": "2021-11-06T13:26:13.828Z"
   }
  ],
  "kernelspec": {
   "display_name": "Python 3 (ipykernel)",
   "language": "python",
   "name": "python3"
  },
  "language_info": {
   "codemirror_mode": {
    "name": "ipython",
    "version": 3
   },
   "file_extension": ".py",
   "mimetype": "text/x-python",
   "name": "python",
   "nbconvert_exporter": "python",
   "pygments_lexer": "ipython3",
   "version": "3.10.1"
  },
  "toc": {
   "base_numbering": 1,
   "nav_menu": {},
   "number_sections": true,
   "sideBar": true,
   "skip_h1_title": true,
   "title_cell": "Table of Contents",
   "title_sidebar": "Contents",
   "toc_cell": false,
   "toc_position": {},
   "toc_section_display": true,
   "toc_window_display": true
  }
 },
 "nbformat": 4,
 "nbformat_minor": 2
}
