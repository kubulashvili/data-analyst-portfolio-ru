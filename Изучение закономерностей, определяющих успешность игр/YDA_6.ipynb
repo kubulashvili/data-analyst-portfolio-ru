{
 "cells": [
  {
   "cell_type": "markdown",
   "metadata": {},
   "source": [
    "# Содержание\n",
    "\n",
    "[1. Описание проекта](#section_1)\n",
    "\n",
    "[2. Изучение данных из файла](#section_2)\n",
    "\n",
    "[2.1 Вывод](#section_2.1)\n",
    "\n",
    "[3. Предобработка данных](#section_3)\n",
    "\n",
    "[3.1 Вывод](#section_3.1)\n",
    "\n",
    "[4. Анализ данных](#section_4)\n",
    "\n",
    "[4.1 Вывод](#section_4.1)\n",
    "\n",
    "[5. Портрет пользователя каждого региона](#section_5)\n",
    "\n",
    "[6. Проверка гипотез](#section_6)\n",
    "\n",
    "[7. Общие выводы](#section_7)"
   ]
  },
  {
   "cell_type": "markdown",
   "metadata": {},
   "source": [
    "## Описание проекта\n",
    "<a id='section_1'><a/>"
   ]
  },
  {
   "cell_type": "markdown",
   "metadata": {},
   "source": [
    "Мы работаем в интернет-магазине «Стримчик», который продаёт по всему миру компьютерные игры. Из открытых источников нам доступны исторические данные о продажах игр, оценки пользователей и экспертов, жанры и платформы (например, Xbox или PlayStation). Нам нужно выявить определяющие успешность игры закономерности. Это позволит сделать ставку на потенциально популярный продукт и спланировать рекламные кампании.\n",
    "<br>Перед нами данные до 2016 года. Представим, что сейчас декабрь 2016 г., и мы планируем кампанию на 2017-й. Нужно отработать принцип работы с данными.\n",
    "<br>В наборе данных попадается аббревиатура ESRB (Entertainment Software Rating Board) — это ассоциация, определяющая возрастной рейтинг компьютерных игр. ESRB оценивает игровой контент и присваивает ему подходящую возрастную категорию, например, «Для взрослых», «Для детей младшего возраста» или «Для подростков»."
   ]
  },
  {
   "cell_type": "markdown",
   "metadata": {},
   "source": [
    "## Изучение данных из файла\n",
    "<a id='section_2'><a/>"
   ]
  },
  {
   "cell_type": "markdown",
   "metadata": {},
   "source": [
    "Импортируем библиотеки и считываем наши данные в переменную df."
   ]
  },
  {
   "cell_type": "code",
   "execution_count": 1,
   "metadata": {},
   "outputs": [],
   "source": [
    "import pandas as pd\n",
    "import matplotlib.pyplot as plt\n",
    "import seaborn as sns\n",
    "from scipy import stats as st\n",
    "import numpy as np"
   ]
  },
  {
   "cell_type": "code",
   "execution_count": 2,
   "metadata": {
    "scrolled": true
   },
   "outputs": [
    {
     "name": "stdout",
     "output_type": "stream",
     "text": [
      "<class 'pandas.core.frame.DataFrame'>\n",
      "RangeIndex: 16715 entries, 0 to 16714\n",
      "Data columns (total 11 columns):\n",
      " #   Column           Non-Null Count  Dtype  \n",
      "---  ------           --------------  -----  \n",
      " 0   Name             16713 non-null  object \n",
      " 1   Platform         16715 non-null  object \n",
      " 2   Year_of_Release  16446 non-null  float64\n",
      " 3   Genre            16713 non-null  object \n",
      " 4   NA_sales         16715 non-null  float64\n",
      " 5   EU_sales         16715 non-null  float64\n",
      " 6   JP_sales         16715 non-null  float64\n",
      " 7   Other_sales      16715 non-null  float64\n",
      " 8   Critic_Score     8137 non-null   float64\n",
      " 9   User_Score       10014 non-null  object \n",
      " 10  Rating           9949 non-null   object \n",
      "dtypes: float64(6), object(5)\n",
      "memory usage: 1.4+ MB\n"
     ]
    },
    {
     "data": {
      "text/html": [
       "<div>\n",
       "<style scoped>\n",
       "    .dataframe tbody tr th:only-of-type {\n",
       "        vertical-align: middle;\n",
       "    }\n",
       "\n",
       "    .dataframe tbody tr th {\n",
       "        vertical-align: top;\n",
       "    }\n",
       "\n",
       "    .dataframe thead th {\n",
       "        text-align: right;\n",
       "    }\n",
       "</style>\n",
       "<table border=\"1\" class=\"dataframe\">\n",
       "  <thead>\n",
       "    <tr style=\"text-align: right;\">\n",
       "      <th></th>\n",
       "      <th>Name</th>\n",
       "      <th>Platform</th>\n",
       "      <th>Year_of_Release</th>\n",
       "      <th>Genre</th>\n",
       "      <th>NA_sales</th>\n",
       "      <th>EU_sales</th>\n",
       "      <th>JP_sales</th>\n",
       "      <th>Other_sales</th>\n",
       "      <th>Critic_Score</th>\n",
       "      <th>User_Score</th>\n",
       "      <th>Rating</th>\n",
       "    </tr>\n",
       "  </thead>\n",
       "  <tbody>\n",
       "    <tr>\n",
       "      <th>0</th>\n",
       "      <td>Wii Sports</td>\n",
       "      <td>Wii</td>\n",
       "      <td>2006.0</td>\n",
       "      <td>Sports</td>\n",
       "      <td>41.36</td>\n",
       "      <td>28.96</td>\n",
       "      <td>3.77</td>\n",
       "      <td>8.45</td>\n",
       "      <td>76.0</td>\n",
       "      <td>8</td>\n",
       "      <td>E</td>\n",
       "    </tr>\n",
       "    <tr>\n",
       "      <th>1</th>\n",
       "      <td>Super Mario Bros.</td>\n",
       "      <td>NES</td>\n",
       "      <td>1985.0</td>\n",
       "      <td>Platform</td>\n",
       "      <td>29.08</td>\n",
       "      <td>3.58</td>\n",
       "      <td>6.81</td>\n",
       "      <td>0.77</td>\n",
       "      <td>NaN</td>\n",
       "      <td>NaN</td>\n",
       "      <td>NaN</td>\n",
       "    </tr>\n",
       "    <tr>\n",
       "      <th>2</th>\n",
       "      <td>Mario Kart Wii</td>\n",
       "      <td>Wii</td>\n",
       "      <td>2008.0</td>\n",
       "      <td>Racing</td>\n",
       "      <td>15.68</td>\n",
       "      <td>12.76</td>\n",
       "      <td>3.79</td>\n",
       "      <td>3.29</td>\n",
       "      <td>82.0</td>\n",
       "      <td>8.3</td>\n",
       "      <td>E</td>\n",
       "    </tr>\n",
       "    <tr>\n",
       "      <th>3</th>\n",
       "      <td>Wii Sports Resort</td>\n",
       "      <td>Wii</td>\n",
       "      <td>2009.0</td>\n",
       "      <td>Sports</td>\n",
       "      <td>15.61</td>\n",
       "      <td>10.93</td>\n",
       "      <td>3.28</td>\n",
       "      <td>2.95</td>\n",
       "      <td>80.0</td>\n",
       "      <td>8</td>\n",
       "      <td>E</td>\n",
       "    </tr>\n",
       "    <tr>\n",
       "      <th>4</th>\n",
       "      <td>Pokemon Red/Pokemon Blue</td>\n",
       "      <td>GB</td>\n",
       "      <td>1996.0</td>\n",
       "      <td>Role-Playing</td>\n",
       "      <td>11.27</td>\n",
       "      <td>8.89</td>\n",
       "      <td>10.22</td>\n",
       "      <td>1.00</td>\n",
       "      <td>NaN</td>\n",
       "      <td>NaN</td>\n",
       "      <td>NaN</td>\n",
       "    </tr>\n",
       "    <tr>\n",
       "      <th>5</th>\n",
       "      <td>Tetris</td>\n",
       "      <td>GB</td>\n",
       "      <td>1989.0</td>\n",
       "      <td>Puzzle</td>\n",
       "      <td>23.20</td>\n",
       "      <td>2.26</td>\n",
       "      <td>4.22</td>\n",
       "      <td>0.58</td>\n",
       "      <td>NaN</td>\n",
       "      <td>NaN</td>\n",
       "      <td>NaN</td>\n",
       "    </tr>\n",
       "    <tr>\n",
       "      <th>6</th>\n",
       "      <td>New Super Mario Bros.</td>\n",
       "      <td>DS</td>\n",
       "      <td>2006.0</td>\n",
       "      <td>Platform</td>\n",
       "      <td>11.28</td>\n",
       "      <td>9.14</td>\n",
       "      <td>6.50</td>\n",
       "      <td>2.88</td>\n",
       "      <td>89.0</td>\n",
       "      <td>8.5</td>\n",
       "      <td>E</td>\n",
       "    </tr>\n",
       "    <tr>\n",
       "      <th>7</th>\n",
       "      <td>Wii Play</td>\n",
       "      <td>Wii</td>\n",
       "      <td>2006.0</td>\n",
       "      <td>Misc</td>\n",
       "      <td>13.96</td>\n",
       "      <td>9.18</td>\n",
       "      <td>2.93</td>\n",
       "      <td>2.84</td>\n",
       "      <td>58.0</td>\n",
       "      <td>6.6</td>\n",
       "      <td>E</td>\n",
       "    </tr>\n",
       "    <tr>\n",
       "      <th>8</th>\n",
       "      <td>New Super Mario Bros. Wii</td>\n",
       "      <td>Wii</td>\n",
       "      <td>2009.0</td>\n",
       "      <td>Platform</td>\n",
       "      <td>14.44</td>\n",
       "      <td>6.94</td>\n",
       "      <td>4.70</td>\n",
       "      <td>2.24</td>\n",
       "      <td>87.0</td>\n",
       "      <td>8.4</td>\n",
       "      <td>E</td>\n",
       "    </tr>\n",
       "    <tr>\n",
       "      <th>9</th>\n",
       "      <td>Duck Hunt</td>\n",
       "      <td>NES</td>\n",
       "      <td>1984.0</td>\n",
       "      <td>Shooter</td>\n",
       "      <td>26.93</td>\n",
       "      <td>0.63</td>\n",
       "      <td>0.28</td>\n",
       "      <td>0.47</td>\n",
       "      <td>NaN</td>\n",
       "      <td>NaN</td>\n",
       "      <td>NaN</td>\n",
       "    </tr>\n",
       "  </tbody>\n",
       "</table>\n",
       "</div>"
      ],
      "text/plain": [
       "                        Name Platform  Year_of_Release         Genre  \\\n",
       "0                 Wii Sports      Wii           2006.0        Sports   \n",
       "1          Super Mario Bros.      NES           1985.0      Platform   \n",
       "2             Mario Kart Wii      Wii           2008.0        Racing   \n",
       "3          Wii Sports Resort      Wii           2009.0        Sports   \n",
       "4   Pokemon Red/Pokemon Blue       GB           1996.0  Role-Playing   \n",
       "5                     Tetris       GB           1989.0        Puzzle   \n",
       "6      New Super Mario Bros.       DS           2006.0      Platform   \n",
       "7                   Wii Play      Wii           2006.0          Misc   \n",
       "8  New Super Mario Bros. Wii      Wii           2009.0      Platform   \n",
       "9                  Duck Hunt      NES           1984.0       Shooter   \n",
       "\n",
       "   NA_sales  EU_sales  JP_sales  Other_sales  Critic_Score User_Score Rating  \n",
       "0     41.36     28.96      3.77         8.45          76.0          8      E  \n",
       "1     29.08      3.58      6.81         0.77           NaN        NaN    NaN  \n",
       "2     15.68     12.76      3.79         3.29          82.0        8.3      E  \n",
       "3     15.61     10.93      3.28         2.95          80.0          8      E  \n",
       "4     11.27      8.89     10.22         1.00           NaN        NaN    NaN  \n",
       "5     23.20      2.26      4.22         0.58           NaN        NaN    NaN  \n",
       "6     11.28      9.14      6.50         2.88          89.0        8.5      E  \n",
       "7     13.96      9.18      2.93         2.84          58.0        6.6      E  \n",
       "8     14.44      6.94      4.70         2.24          87.0        8.4      E  \n",
       "9     26.93      0.63      0.28         0.47           NaN        NaN    NaN  "
      ]
     },
     "execution_count": 2,
     "metadata": {},
     "output_type": "execute_result"
    }
   ],
   "source": [
    "df = pd.read_csv('games.csv')\n",
    "df.info()\n",
    "df.head(10)"
   ]
  },
  {
   "cell_type": "markdown",
   "metadata": {},
   "source": [
    "Посмотрим кол-во пропусков в датасете"
   ]
  },
  {
   "cell_type": "code",
   "execution_count": 3,
   "metadata": {
    "scrolled": true
   },
   "outputs": [
    {
     "data": {
      "text/plain": [
       "Name                  2\n",
       "Platform              0\n",
       "Year_of_Release     269\n",
       "Genre                 2\n",
       "NA_sales              0\n",
       "EU_sales              0\n",
       "JP_sales              0\n",
       "Other_sales           0\n",
       "Critic_Score       8578\n",
       "User_Score         6701\n",
       "Rating             6766\n",
       "dtype: int64"
      ]
     },
     "execution_count": 3,
     "metadata": {},
     "output_type": "execute_result"
    }
   ],
   "source": [
    "df.isna().sum()"
   ]
  },
  {
   "cell_type": "markdown",
   "metadata": {},
   "source": [
    "Два пропуска в названии и в жанре. Совпадение? Не думаю. Выведем строки с пропусками в названии."
   ]
  },
  {
   "cell_type": "code",
   "execution_count": 4,
   "metadata": {},
   "outputs": [
    {
     "data": {
      "text/html": [
       "<div>\n",
       "<style scoped>\n",
       "    .dataframe tbody tr th:only-of-type {\n",
       "        vertical-align: middle;\n",
       "    }\n",
       "\n",
       "    .dataframe tbody tr th {\n",
       "        vertical-align: top;\n",
       "    }\n",
       "\n",
       "    .dataframe thead th {\n",
       "        text-align: right;\n",
       "    }\n",
       "</style>\n",
       "<table border=\"1\" class=\"dataframe\">\n",
       "  <thead>\n",
       "    <tr style=\"text-align: right;\">\n",
       "      <th></th>\n",
       "      <th>Name</th>\n",
       "      <th>Platform</th>\n",
       "      <th>Year_of_Release</th>\n",
       "      <th>Genre</th>\n",
       "      <th>NA_sales</th>\n",
       "      <th>EU_sales</th>\n",
       "      <th>JP_sales</th>\n",
       "      <th>Other_sales</th>\n",
       "      <th>Critic_Score</th>\n",
       "      <th>User_Score</th>\n",
       "      <th>Rating</th>\n",
       "    </tr>\n",
       "  </thead>\n",
       "  <tbody>\n",
       "    <tr>\n",
       "      <th>659</th>\n",
       "      <td>NaN</td>\n",
       "      <td>GEN</td>\n",
       "      <td>1993.0</td>\n",
       "      <td>NaN</td>\n",
       "      <td>1.78</td>\n",
       "      <td>0.53</td>\n",
       "      <td>0.00</td>\n",
       "      <td>0.08</td>\n",
       "      <td>NaN</td>\n",
       "      <td>NaN</td>\n",
       "      <td>NaN</td>\n",
       "    </tr>\n",
       "    <tr>\n",
       "      <th>14244</th>\n",
       "      <td>NaN</td>\n",
       "      <td>GEN</td>\n",
       "      <td>1993.0</td>\n",
       "      <td>NaN</td>\n",
       "      <td>0.00</td>\n",
       "      <td>0.00</td>\n",
       "      <td>0.03</td>\n",
       "      <td>0.00</td>\n",
       "      <td>NaN</td>\n",
       "      <td>NaN</td>\n",
       "      <td>NaN</td>\n",
       "    </tr>\n",
       "  </tbody>\n",
       "</table>\n",
       "</div>"
      ],
      "text/plain": [
       "      Name Platform  Year_of_Release Genre  NA_sales  EU_sales  JP_sales  \\\n",
       "659    NaN      GEN           1993.0   NaN      1.78      0.53      0.00   \n",
       "14244  NaN      GEN           1993.0   NaN      0.00      0.00      0.03   \n",
       "\n",
       "       Other_sales  Critic_Score User_Score Rating  \n",
       "659           0.08           NaN        NaN    NaN  \n",
       "14244         0.00           NaN        NaN    NaN  "
      ]
     },
     "execution_count": 4,
     "metadata": {},
     "output_type": "execute_result"
    }
   ],
   "source": [
    "df[df['Name'].isnull()]"
   ]
  },
  {
   "cell_type": "markdown",
   "metadata": {},
   "source": [
    "Что и требовалось доказать.\n",
    "\n",
    "Пропуски в названии, годе релиза и жанре вы удалим, т.к. их очень мало. Пропуски в оценка заменим заглушкой. Пропуски в рейтинге отставим.\n",
    "\n",
    "Рассмотрим каждый столбец по подробнее."
   ]
  },
  {
   "cell_type": "markdown",
   "metadata": {},
   "source": [
    "Начнем со столбоцв в которых хранятся данные в виде Object, кроме названий игр, т.к. названия нам не столь важны. Они выполняют роль id в каком то смысле.\n",
    "\n",
    "Найдем все уникальные значения в столбцах и посмотрим кол-ва строк с определенными значениями."
   ]
  },
  {
   "cell_type": "code",
   "execution_count": 5,
   "metadata": {
    "scrolled": true
   },
   "outputs": [
    {
     "data": {
      "text/plain": [
       "array(['2600', '3DO', '3DS', 'DC', 'DS', 'GB', 'GBA', 'GC', 'GEN', 'GG',\n",
       "       'N64', 'NES', 'NG', 'PC', 'PCFX', 'PS', 'PS2', 'PS3', 'PS4', 'PSP',\n",
       "       'PSV', 'SAT', 'SCD', 'SNES', 'TG16', 'WS', 'Wii', 'WiiU', 'X360',\n",
       "       'XB', 'XOne'], dtype=object)"
      ]
     },
     "metadata": {},
     "output_type": "display_data"
    },
    {
     "data": {
      "text/plain": [
       "array(['Action', 'Adventure', 'Fighting', 'Misc', 'Platform', 'Puzzle',\n",
       "       'Racing', 'Role-Playing', 'Shooter', 'Simulation', 'Sports',\n",
       "       'Strategy', nan], dtype=object)"
      ]
     },
     "metadata": {},
     "output_type": "display_data"
    },
    {
     "data": {
      "text/plain": [
       "array(['AO', 'E', 'E10+', 'EC', 'K-A', 'M', 'RP', 'T', nan], dtype=object)"
      ]
     },
     "metadata": {},
     "output_type": "display_data"
    }
   ],
   "source": [
    "display(df['Platform'].sort_values().unique())\n",
    "display(df['Genre'].sort_values().unique())\n",
    "display(df['Rating'].sort_values().unique())"
   ]
  },
  {
   "cell_type": "code",
   "execution_count": 6,
   "metadata": {},
   "outputs": [
    {
     "data": {
      "text/plain": [
       "PS2     2161\n",
       "DS      2151\n",
       "PS3     1331\n",
       "Wii     1320\n",
       "X360    1262\n",
       "PSP     1209\n",
       "PS      1197\n",
       "PC       974\n",
       "XB       824\n",
       "GBA      822\n",
       "GC       556\n",
       "3DS      520\n",
       "PSV      430\n",
       "PS4      392\n",
       "N64      319\n",
       "XOne     247\n",
       "SNES     239\n",
       "SAT      173\n",
       "WiiU     147\n",
       "2600     133\n",
       "NES       98\n",
       "GB        98\n",
       "DC        52\n",
       "GEN       29\n",
       "NG        12\n",
       "SCD        6\n",
       "WS         6\n",
       "3DO        3\n",
       "TG16       2\n",
       "GG         1\n",
       "PCFX       1\n",
       "Name: Platform, dtype: int64"
      ]
     },
     "metadata": {},
     "output_type": "display_data"
    },
    {
     "data": {
      "text/plain": [
       "Action          3369\n",
       "Sports          2348\n",
       "Misc            1750\n",
       "Role-Playing    1498\n",
       "Shooter         1323\n",
       "Adventure       1303\n",
       "Racing          1249\n",
       "Platform         888\n",
       "Simulation       873\n",
       "Fighting         849\n",
       "Strategy         683\n",
       "Puzzle           580\n",
       "Name: Genre, dtype: int64"
      ]
     },
     "metadata": {},
     "output_type": "display_data"
    },
    {
     "data": {
      "text/plain": [
       "E       3990\n",
       "T       2961\n",
       "M       1563\n",
       "E10+    1420\n",
       "EC         8\n",
       "K-A        3\n",
       "RP         3\n",
       "AO         1\n",
       "Name: Rating, dtype: int64"
      ]
     },
     "metadata": {},
     "output_type": "display_data"
    }
   ],
   "source": [
    "display(df['Platform'].value_counts())\n",
    "display(df['Genre'].value_counts())\n",
    "display(df['Rating'].value_counts())\n"
   ]
  },
  {
   "cell_type": "markdown",
   "metadata": {},
   "source": [
    "Никаких опечаток или дубликатов у нас не имеется. Сразу можно выделить платформы лидеры и жанры лидеры.\n",
    "\n",
    "Если не быть сильно погруженным в сферу игр, можно сказать, что WiiU, может являться неявным дубликатом. Потому что  буквы U и I соседние на клавиатуре. Может лучше было бы писать название платформ так:\n",
    "\n",
    "    PS_2, X_360, Wii_U"
   ]
  },
  {
   "cell_type": "markdown",
   "metadata": {},
   "source": [
    "Теперь рассмотрим столбцы с цифровыми значениями с помощью функции describe"
   ]
  },
  {
   "cell_type": "code",
   "execution_count": 7,
   "metadata": {},
   "outputs": [
    {
     "data": {
      "text/plain": [
       "count    16446.000000\n",
       "mean      2006.484616\n",
       "std          5.877050\n",
       "min       1980.000000\n",
       "25%       2003.000000\n",
       "50%       2007.000000\n",
       "75%       2010.000000\n",
       "max       2016.000000\n",
       "Name: Year_of_Release, dtype: float64"
      ]
     },
     "metadata": {},
     "output_type": "display_data"
    },
    {
     "data": {
      "text/plain": [
       "array([1980., 1981., 1982., 1983., 1984., 1985., 1986., 1987., 1988.,\n",
       "       1989., 1990., 1991., 1992., 1993., 1994., 1995., 1996., 1997.,\n",
       "       1998., 1999., 2000., 2001., 2002., 2003., 2004., 2005., 2006.,\n",
       "       2007., 2008., 2009., 2010., 2011., 2012., 2013., 2014., 2015.,\n",
       "       2016.,   nan])"
      ]
     },
     "metadata": {},
     "output_type": "display_data"
    },
    {
     "data": {
      "text/plain": [
       "2008.0    1427\n",
       "2009.0    1426\n",
       "2010.0    1255\n",
       "2007.0    1197\n",
       "2011.0    1136\n",
       "2006.0    1006\n",
       "2005.0     939\n",
       "2002.0     829\n",
       "2003.0     775\n",
       "2004.0     762\n",
       "2012.0     653\n",
       "2015.0     606\n",
       "2014.0     581\n",
       "2013.0     544\n",
       "2016.0     502\n",
       "2001.0     482\n",
       "1998.0     379\n",
       "2000.0     350\n",
       "1999.0     338\n",
       "1997.0     289\n",
       "1996.0     263\n",
       "1995.0     219\n",
       "1994.0     121\n",
       "1993.0      62\n",
       "1981.0      46\n",
       "1992.0      43\n",
       "1991.0      41\n",
       "1982.0      36\n",
       "1986.0      21\n",
       "1989.0      17\n",
       "1983.0      17\n",
       "1990.0      16\n",
       "1987.0      16\n",
       "1988.0      15\n",
       "1985.0      14\n",
       "1984.0      14\n",
       "1980.0       9\n",
       "Name: Year_of_Release, dtype: int64"
      ]
     },
     "metadata": {},
     "output_type": "display_data"
    }
   ],
   "source": [
    "display(df['Year_of_Release'].describe())\n",
    "display(df['Year_of_Release'].sort_values().unique())\n",
    "display(df['Year_of_Release'].value_counts())"
   ]
  },
  {
   "cell_type": "markdown",
   "metadata": {},
   "source": [
    "Посмотрим на столбцы с продажами"
   ]
  },
  {
   "cell_type": "code",
   "execution_count": 8,
   "metadata": {
    "scrolled": true
   },
   "outputs": [
    {
     "data": {
      "text/plain": [
       "count    16715.000000\n",
       "mean         0.263377\n",
       "std          0.813604\n",
       "min          0.000000\n",
       "25%          0.000000\n",
       "50%          0.080000\n",
       "75%          0.240000\n",
       "max         41.360000\n",
       "Name: NA_sales, dtype: float64"
      ]
     },
     "metadata": {},
     "output_type": "display_data"
    },
    {
     "data": {
      "text/plain": [
       "count    16715.000000\n",
       "mean         0.145060\n",
       "std          0.503339\n",
       "min          0.000000\n",
       "25%          0.000000\n",
       "50%          0.020000\n",
       "75%          0.110000\n",
       "max         28.960000\n",
       "Name: EU_sales, dtype: float64"
      ]
     },
     "metadata": {},
     "output_type": "display_data"
    },
    {
     "data": {
      "text/plain": [
       "count    16715.000000\n",
       "mean         0.077617\n",
       "std          0.308853\n",
       "min          0.000000\n",
       "25%          0.000000\n",
       "50%          0.000000\n",
       "75%          0.040000\n",
       "max         10.220000\n",
       "Name: JP_sales, dtype: float64"
      ]
     },
     "metadata": {},
     "output_type": "display_data"
    },
    {
     "data": {
      "text/plain": [
       "count    16715.000000\n",
       "mean         0.047342\n",
       "std          0.186731\n",
       "min          0.000000\n",
       "25%          0.000000\n",
       "50%          0.010000\n",
       "75%          0.030000\n",
       "max         10.570000\n",
       "Name: Other_sales, dtype: float64"
      ]
     },
     "metadata": {},
     "output_type": "display_data"
    }
   ],
   "source": [
    "display(df['NA_sales'].describe())\n",
    "display(df['EU_sales'].describe())\n",
    "display(df['JP_sales'].describe())\n",
    "display(df['Other_sales'].describe())"
   ]
  },
  {
   "cell_type": "markdown",
   "metadata": {},
   "source": [
    "Никаких отрицательных значений не обнаруженно. Все со столбцами с продажами в порядке."
   ]
  },
  {
   "cell_type": "code",
   "execution_count": 9,
   "metadata": {
    "scrolled": true
   },
   "outputs": [
    {
     "data": {
      "text/plain": [
       "count    8137.000000\n",
       "mean       68.967679\n",
       "std        13.938165\n",
       "min        13.000000\n",
       "25%        60.000000\n",
       "50%        71.000000\n",
       "75%        79.000000\n",
       "max        98.000000\n",
       "Name: Critic_Score, dtype: float64"
      ]
     },
     "metadata": {},
     "output_type": "display_data"
    },
    {
     "data": {
      "text/plain": [
       "array(['0', '0.2', '0.3', '0.5', '0.6', '0.7', '0.9', '1', '1.1', '1.2',\n",
       "       '1.3', '1.4', '1.5', '1.6', '1.7', '1.8', '1.9', '2', '2.1', '2.2',\n",
       "       '2.3', '2.4', '2.5', '2.6', '2.7', '2.8', '2.9', '3', '3.1', '3.2',\n",
       "       '3.3', '3.4', '3.5', '3.6', '3.7', '3.8', '3.9', '4', '4.1', '4.2',\n",
       "       '4.3', '4.4', '4.5', '4.6', '4.7', '4.8', '4.9', '5', '5.1', '5.2',\n",
       "       '5.3', '5.4', '5.5', '5.6', '5.7', '5.8', '5.9', '6', '6.1', '6.2',\n",
       "       '6.3', '6.4', '6.5', '6.6', '6.7', '6.8', '6.9', '7', '7.1', '7.2',\n",
       "       '7.3', '7.4', '7.5', '7.6', '7.7', '7.8', '7.9', '8', '8.1', '8.2',\n",
       "       '8.3', '8.4', '8.5', '8.6', '8.7', '8.8', '8.9', '9', '9.1', '9.2',\n",
       "       '9.3', '9.4', '9.5', '9.6', '9.7', 'tbd', nan], dtype=object)"
      ]
     },
     "metadata": {},
     "output_type": "display_data"
    },
    {
     "data": {
      "text/plain": [
       "tbd    2424\n",
       "7.8     324\n",
       "8       290\n",
       "8.2     282\n",
       "8.3     254\n",
       "       ... \n",
       "1.1       2\n",
       "1.9       2\n",
       "9.6       2\n",
       "0         1\n",
       "9.7       1\n",
       "Name: User_Score, Length: 96, dtype: int64"
      ]
     },
     "metadata": {},
     "output_type": "display_data"
    }
   ],
   "source": [
    "display(df['Critic_Score'].describe())\n",
    "display(df['User_Score'].sort_values().unique())\n",
    "display(df['User_Score'].value_counts())"
   ]
  },
  {
   "cell_type": "markdown",
   "metadata": {},
   "source": [
    "Оценки критиков исопльзуют шкалу от 0 до 100. Когда оценки пользователей от 0 до 10, но у них есть дробная часть, что можно представить как шкалу от 0 до 100. Так же есть значение TBD, что означет что оценка требует уточнения. И тк это единственное значение, которое у нас состоит не из цифры, мы его заменим на nan, чтобы ничего не мешало нашей работе"
   ]
  },
  {
   "cell_type": "markdown",
   "metadata": {},
   "source": [
    "### Вывод\n",
    "<a id='section_2.1'><a/>"
   ]
  },
  {
   "cell_type": "markdown",
   "metadata": {},
   "source": [
    "В таблице имеем 16715 строк и 11 столбцов. \n",
    "<br>Всю информацию приведем к нижнему регистру. Типы данных изменим в годе на datetime.\n",
    "<br>Пропуски есть в столбцах с названием, годом релиза, жанром, оценками критиков и игроков и рейтингом. Пропуски в названии и в жанре совпали.\n",
    "<br>Строки с пропусками в названиях, году выхода и жанром удалим.  Пропуски в рейтинге возможно из-за того, что там просто нет возрастных ограничений или заполним заглушкой. Пропуски в оценках могли появиться из-за ошибки загрузки в датасет. Заполнять какими-либо значениями неправильно, это повлияет на корреляцию. Предалагаю оставить пропуски. Но в оценках пользователей есть значение TBD, которое мы заменим на nan, чтобы могли изменить тип данных на float и работать с цифровыми данными.\n",
    "\n",
    "Никаких дубликатов не обнаруженно. \n",
    "\n",
    "Всего мы удалим 271 строку, что никак не повлиляет на наше исследование.\n"
   ]
  },
  {
   "cell_type": "markdown",
   "metadata": {},
   "source": [
    "## Предобработка данных\n",
    "<a id='section_3'><a/>"
   ]
  },
  {
   "cell_type": "markdown",
   "metadata": {},
   "source": [
    "Приведем строки и названия столбцов к нижнему регистру.\n"
   ]
  },
  {
   "cell_type": "code",
   "execution_count": 10,
   "metadata": {
    "scrolled": false
   },
   "outputs": [
    {
     "data": {
      "text/html": [
       "<div>\n",
       "<style scoped>\n",
       "    .dataframe tbody tr th:only-of-type {\n",
       "        vertical-align: middle;\n",
       "    }\n",
       "\n",
       "    .dataframe tbody tr th {\n",
       "        vertical-align: top;\n",
       "    }\n",
       "\n",
       "    .dataframe thead th {\n",
       "        text-align: right;\n",
       "    }\n",
       "</style>\n",
       "<table border=\"1\" class=\"dataframe\">\n",
       "  <thead>\n",
       "    <tr style=\"text-align: right;\">\n",
       "      <th></th>\n",
       "      <th>name</th>\n",
       "      <th>platform</th>\n",
       "      <th>year_of_release</th>\n",
       "      <th>genre</th>\n",
       "      <th>na_sales</th>\n",
       "      <th>eu_sales</th>\n",
       "      <th>jp_sales</th>\n",
       "      <th>other_sales</th>\n",
       "      <th>critic_score</th>\n",
       "      <th>user_score</th>\n",
       "      <th>rating</th>\n",
       "    </tr>\n",
       "  </thead>\n",
       "  <tbody>\n",
       "    <tr>\n",
       "      <th>0</th>\n",
       "      <td>wii sports</td>\n",
       "      <td>wii</td>\n",
       "      <td>2006.0</td>\n",
       "      <td>sports</td>\n",
       "      <td>41.36</td>\n",
       "      <td>28.96</td>\n",
       "      <td>3.77</td>\n",
       "      <td>8.45</td>\n",
       "      <td>76.0</td>\n",
       "      <td>8</td>\n",
       "      <td>E</td>\n",
       "    </tr>\n",
       "    <tr>\n",
       "      <th>1</th>\n",
       "      <td>super mario bros.</td>\n",
       "      <td>nes</td>\n",
       "      <td>1985.0</td>\n",
       "      <td>platform</td>\n",
       "      <td>29.08</td>\n",
       "      <td>3.58</td>\n",
       "      <td>6.81</td>\n",
       "      <td>0.77</td>\n",
       "      <td>NaN</td>\n",
       "      <td>NaN</td>\n",
       "      <td>NaN</td>\n",
       "    </tr>\n",
       "    <tr>\n",
       "      <th>2</th>\n",
       "      <td>mario kart wii</td>\n",
       "      <td>wii</td>\n",
       "      <td>2008.0</td>\n",
       "      <td>racing</td>\n",
       "      <td>15.68</td>\n",
       "      <td>12.76</td>\n",
       "      <td>3.79</td>\n",
       "      <td>3.29</td>\n",
       "      <td>82.0</td>\n",
       "      <td>8.3</td>\n",
       "      <td>E</td>\n",
       "    </tr>\n",
       "    <tr>\n",
       "      <th>3</th>\n",
       "      <td>wii sports resort</td>\n",
       "      <td>wii</td>\n",
       "      <td>2009.0</td>\n",
       "      <td>sports</td>\n",
       "      <td>15.61</td>\n",
       "      <td>10.93</td>\n",
       "      <td>3.28</td>\n",
       "      <td>2.95</td>\n",
       "      <td>80.0</td>\n",
       "      <td>8</td>\n",
       "      <td>E</td>\n",
       "    </tr>\n",
       "    <tr>\n",
       "      <th>4</th>\n",
       "      <td>pokemon red/pokemon blue</td>\n",
       "      <td>gb</td>\n",
       "      <td>1996.0</td>\n",
       "      <td>role-playing</td>\n",
       "      <td>11.27</td>\n",
       "      <td>8.89</td>\n",
       "      <td>10.22</td>\n",
       "      <td>1.00</td>\n",
       "      <td>NaN</td>\n",
       "      <td>NaN</td>\n",
       "      <td>NaN</td>\n",
       "    </tr>\n",
       "    <tr>\n",
       "      <th>...</th>\n",
       "      <td>...</td>\n",
       "      <td>...</td>\n",
       "      <td>...</td>\n",
       "      <td>...</td>\n",
       "      <td>...</td>\n",
       "      <td>...</td>\n",
       "      <td>...</td>\n",
       "      <td>...</td>\n",
       "      <td>...</td>\n",
       "      <td>...</td>\n",
       "      <td>...</td>\n",
       "    </tr>\n",
       "    <tr>\n",
       "      <th>16710</th>\n",
       "      <td>samurai warriors: sanada maru</td>\n",
       "      <td>ps3</td>\n",
       "      <td>2016.0</td>\n",
       "      <td>action</td>\n",
       "      <td>0.00</td>\n",
       "      <td>0.00</td>\n",
       "      <td>0.01</td>\n",
       "      <td>0.00</td>\n",
       "      <td>NaN</td>\n",
       "      <td>NaN</td>\n",
       "      <td>NaN</td>\n",
       "    </tr>\n",
       "    <tr>\n",
       "      <th>16711</th>\n",
       "      <td>lma manager 2007</td>\n",
       "      <td>x360</td>\n",
       "      <td>2006.0</td>\n",
       "      <td>sports</td>\n",
       "      <td>0.00</td>\n",
       "      <td>0.01</td>\n",
       "      <td>0.00</td>\n",
       "      <td>0.00</td>\n",
       "      <td>NaN</td>\n",
       "      <td>NaN</td>\n",
       "      <td>NaN</td>\n",
       "    </tr>\n",
       "    <tr>\n",
       "      <th>16712</th>\n",
       "      <td>haitaka no psychedelica</td>\n",
       "      <td>psv</td>\n",
       "      <td>2016.0</td>\n",
       "      <td>adventure</td>\n",
       "      <td>0.00</td>\n",
       "      <td>0.00</td>\n",
       "      <td>0.01</td>\n",
       "      <td>0.00</td>\n",
       "      <td>NaN</td>\n",
       "      <td>NaN</td>\n",
       "      <td>NaN</td>\n",
       "    </tr>\n",
       "    <tr>\n",
       "      <th>16713</th>\n",
       "      <td>spirits &amp; spells</td>\n",
       "      <td>gba</td>\n",
       "      <td>2003.0</td>\n",
       "      <td>platform</td>\n",
       "      <td>0.01</td>\n",
       "      <td>0.00</td>\n",
       "      <td>0.00</td>\n",
       "      <td>0.00</td>\n",
       "      <td>NaN</td>\n",
       "      <td>NaN</td>\n",
       "      <td>NaN</td>\n",
       "    </tr>\n",
       "    <tr>\n",
       "      <th>16714</th>\n",
       "      <td>winning post 8 2016</td>\n",
       "      <td>psv</td>\n",
       "      <td>2016.0</td>\n",
       "      <td>simulation</td>\n",
       "      <td>0.00</td>\n",
       "      <td>0.00</td>\n",
       "      <td>0.01</td>\n",
       "      <td>0.00</td>\n",
       "      <td>NaN</td>\n",
       "      <td>NaN</td>\n",
       "      <td>NaN</td>\n",
       "    </tr>\n",
       "  </tbody>\n",
       "</table>\n",
       "<p>16715 rows × 11 columns</p>\n",
       "</div>"
      ],
      "text/plain": [
       "                                name platform  year_of_release         genre  \\\n",
       "0                         wii sports      wii           2006.0        sports   \n",
       "1                  super mario bros.      nes           1985.0      platform   \n",
       "2                     mario kart wii      wii           2008.0        racing   \n",
       "3                  wii sports resort      wii           2009.0        sports   \n",
       "4           pokemon red/pokemon blue       gb           1996.0  role-playing   \n",
       "...                              ...      ...              ...           ...   \n",
       "16710  samurai warriors: sanada maru      ps3           2016.0        action   \n",
       "16711               lma manager 2007     x360           2006.0        sports   \n",
       "16712        haitaka no psychedelica      psv           2016.0     adventure   \n",
       "16713               spirits & spells      gba           2003.0      platform   \n",
       "16714            winning post 8 2016      psv           2016.0    simulation   \n",
       "\n",
       "       na_sales  eu_sales  jp_sales  other_sales  critic_score user_score  \\\n",
       "0         41.36     28.96      3.77         8.45          76.0          8   \n",
       "1         29.08      3.58      6.81         0.77           NaN        NaN   \n",
       "2         15.68     12.76      3.79         3.29          82.0        8.3   \n",
       "3         15.61     10.93      3.28         2.95          80.0          8   \n",
       "4         11.27      8.89     10.22         1.00           NaN        NaN   \n",
       "...         ...       ...       ...          ...           ...        ...   \n",
       "16710      0.00      0.00      0.01         0.00           NaN        NaN   \n",
       "16711      0.00      0.01      0.00         0.00           NaN        NaN   \n",
       "16712      0.00      0.00      0.01         0.00           NaN        NaN   \n",
       "16713      0.01      0.00      0.00         0.00           NaN        NaN   \n",
       "16714      0.00      0.00      0.01         0.00           NaN        NaN   \n",
       "\n",
       "      rating  \n",
       "0          E  \n",
       "1        NaN  \n",
       "2          E  \n",
       "3          E  \n",
       "4        NaN  \n",
       "...      ...  \n",
       "16710    NaN  \n",
       "16711    NaN  \n",
       "16712    NaN  \n",
       "16713    NaN  \n",
       "16714    NaN  \n",
       "\n",
       "[16715 rows x 11 columns]"
      ]
     },
     "execution_count": 10,
     "metadata": {},
     "output_type": "execute_result"
    }
   ],
   "source": [
    "df.columns = df.columns.str.lower()\n",
    "df['name'] = df['name'].str.lower()\n",
    "df['platform'] = df['platform'].str.lower()\n",
    "df['genre'] = df['genre'].str.lower()\n",
    "df"
   ]
  },
  {
   "cell_type": "markdown",
   "metadata": {},
   "source": [
    "Удалим строки с пропусками в названии, годе выпуска и жанре."
   ]
  },
  {
   "cell_type": "code",
   "execution_count": 11,
   "metadata": {},
   "outputs": [
    {
     "name": "stdout",
     "output_type": "stream",
     "text": [
      "<class 'pandas.core.frame.DataFrame'>\n",
      "Int64Index: 16444 entries, 0 to 16714\n",
      "Data columns (total 11 columns):\n",
      " #   Column           Non-Null Count  Dtype  \n",
      "---  ------           --------------  -----  \n",
      " 0   name             16444 non-null  object \n",
      " 1   platform         16444 non-null  object \n",
      " 2   year_of_release  16444 non-null  float64\n",
      " 3   genre            16444 non-null  object \n",
      " 4   na_sales         16444 non-null  float64\n",
      " 5   eu_sales         16444 non-null  float64\n",
      " 6   jp_sales         16444 non-null  float64\n",
      " 7   other_sales      16444 non-null  float64\n",
      " 8   critic_score     7983 non-null   float64\n",
      " 9   user_score       9839 non-null   object \n",
      " 10  rating           9768 non-null   object \n",
      "dtypes: float64(6), object(5)\n",
      "memory usage: 1.5+ MB\n"
     ]
    }
   ],
   "source": [
    "df = df.dropna(subset=['year_of_release'])\n",
    "df = df.dropna(subset=['name'])\n",
    "df.info()"
   ]
  },
  {
   "cell_type": "markdown",
   "metadata": {},
   "source": [
    "Получилось, что в строке были и пропуски в жанре."
   ]
  },
  {
   "cell_type": "markdown",
   "metadata": {},
   "source": [
    "Рейтинг заполним заглушкой no_info."
   ]
  },
  {
   "cell_type": "code",
   "execution_count": 13,
   "metadata": {
    "scrolled": true
   },
   "outputs": [
    {
     "name": "stdout",
     "output_type": "stream",
     "text": [
      "<class 'pandas.core.frame.DataFrame'>\n",
      "Int64Index: 16444 entries, 0 to 16714\n",
      "Data columns (total 11 columns):\n",
      " #   Column           Non-Null Count  Dtype  \n",
      "---  ------           --------------  -----  \n",
      " 0   name             16444 non-null  object \n",
      " 1   platform         16444 non-null  object \n",
      " 2   year_of_release  16444 non-null  float64\n",
      " 3   genre            16444 non-null  object \n",
      " 4   na_sales         16444 non-null  float64\n",
      " 5   eu_sales         16444 non-null  float64\n",
      " 6   jp_sales         16444 non-null  float64\n",
      " 7   other_sales      16444 non-null  float64\n",
      " 8   critic_score     7983 non-null   float64\n",
      " 9   user_score       9839 non-null   object \n",
      " 10  rating           16444 non-null  object \n",
      "dtypes: float64(6), object(5)\n",
      "memory usage: 1.5+ MB\n"
     ]
    }
   ],
   "source": [
    "df['rating'] = df['rating'].fillna('no_info')\n",
    "df.info()"
   ]
  },
  {
   "cell_type": "markdown",
   "metadata": {},
   "source": [
    "TBD Заменим тбд на пропуск, чтобы  в столбце были только цифры и пропуски. И сразу заменим типы данных на пропуски."
   ]
  },
  {
   "cell_type": "code",
   "execution_count": 14,
   "metadata": {},
   "outputs": [],
   "source": [
    "df.loc[df['user_score'] == 'tbd', 'user_score'] = np.nan\n",
    "df['user_score'] = df['user_score'].astype('float')"
   ]
  },
  {
   "cell_type": "code",
   "execution_count": 15,
   "metadata": {},
   "outputs": [
    {
     "data": {
      "text/plain": [
       "array([8. , nan, 8.3, 8.5, 6.6, 8.4, 8.6, 7.7, 6.3, 7.4, 8.2, 9. , 7.9,\n",
       "       8.1, 8.7, 7.1, 3.4, 5.3, 4.8, 3.2, 8.9, 6.4, 7.8, 7.5, 2.6, 7.2,\n",
       "       9.2, 7. , 7.3, 4.3, 7.6, 5.7, 5. , 9.1, 6.5, 8.8, 6.9, 9.4, 6.8,\n",
       "       6.1, 6.7, 5.4, 4. , 4.9, 4.5, 9.3, 6.2, 4.2, 6. , 3.7, 4.1, 5.8,\n",
       "       5.6, 5.5, 4.4, 4.6, 5.9, 3.9, 3.1, 2.9, 5.2, 3.3, 4.7, 5.1, 3.5,\n",
       "       2.5, 1.9, 3. , 2.7, 2.2, 2. , 9.5, 2.1, 3.6, 2.8, 1.8, 3.8, 0. ,\n",
       "       1.6, 9.6, 2.4, 1.7, 1.1, 0.3, 1.5, 0.7, 1.2, 2.3, 0.5, 1.3, 0.2,\n",
       "       0.6, 1.4, 0.9, 1. , 9.7])"
      ]
     },
     "execution_count": 15,
     "metadata": {},
     "output_type": "execute_result"
    }
   ],
   "source": [
    "df['user_score'].unique()"
   ]
  },
  {
   "cell_type": "markdown",
   "metadata": {},
   "source": [
    "Добавим столбец с суммой продаж."
   ]
  },
  {
   "cell_type": "code",
   "execution_count": 16,
   "metadata": {},
   "outputs": [
    {
     "data": {
      "text/html": [
       "<div>\n",
       "<style scoped>\n",
       "    .dataframe tbody tr th:only-of-type {\n",
       "        vertical-align: middle;\n",
       "    }\n",
       "\n",
       "    .dataframe tbody tr th {\n",
       "        vertical-align: top;\n",
       "    }\n",
       "\n",
       "    .dataframe thead th {\n",
       "        text-align: right;\n",
       "    }\n",
       "</style>\n",
       "<table border=\"1\" class=\"dataframe\">\n",
       "  <thead>\n",
       "    <tr style=\"text-align: right;\">\n",
       "      <th></th>\n",
       "      <th>name</th>\n",
       "      <th>platform</th>\n",
       "      <th>year_of_release</th>\n",
       "      <th>genre</th>\n",
       "      <th>na_sales</th>\n",
       "      <th>eu_sales</th>\n",
       "      <th>jp_sales</th>\n",
       "      <th>other_sales</th>\n",
       "      <th>critic_score</th>\n",
       "      <th>user_score</th>\n",
       "      <th>rating</th>\n",
       "      <th>all_sales</th>\n",
       "    </tr>\n",
       "  </thead>\n",
       "  <tbody>\n",
       "    <tr>\n",
       "      <th>0</th>\n",
       "      <td>wii sports</td>\n",
       "      <td>wii</td>\n",
       "      <td>2006.0</td>\n",
       "      <td>sports</td>\n",
       "      <td>41.36</td>\n",
       "      <td>28.96</td>\n",
       "      <td>3.77</td>\n",
       "      <td>8.45</td>\n",
       "      <td>76.0</td>\n",
       "      <td>8.0</td>\n",
       "      <td>E</td>\n",
       "      <td>82.54</td>\n",
       "    </tr>\n",
       "    <tr>\n",
       "      <th>1</th>\n",
       "      <td>super mario bros.</td>\n",
       "      <td>nes</td>\n",
       "      <td>1985.0</td>\n",
       "      <td>platform</td>\n",
       "      <td>29.08</td>\n",
       "      <td>3.58</td>\n",
       "      <td>6.81</td>\n",
       "      <td>0.77</td>\n",
       "      <td>NaN</td>\n",
       "      <td>NaN</td>\n",
       "      <td>no_info</td>\n",
       "      <td>40.24</td>\n",
       "    </tr>\n",
       "    <tr>\n",
       "      <th>2</th>\n",
       "      <td>mario kart wii</td>\n",
       "      <td>wii</td>\n",
       "      <td>2008.0</td>\n",
       "      <td>racing</td>\n",
       "      <td>15.68</td>\n",
       "      <td>12.76</td>\n",
       "      <td>3.79</td>\n",
       "      <td>3.29</td>\n",
       "      <td>82.0</td>\n",
       "      <td>8.3</td>\n",
       "      <td>E</td>\n",
       "      <td>35.52</td>\n",
       "    </tr>\n",
       "    <tr>\n",
       "      <th>3</th>\n",
       "      <td>wii sports resort</td>\n",
       "      <td>wii</td>\n",
       "      <td>2009.0</td>\n",
       "      <td>sports</td>\n",
       "      <td>15.61</td>\n",
       "      <td>10.93</td>\n",
       "      <td>3.28</td>\n",
       "      <td>2.95</td>\n",
       "      <td>80.0</td>\n",
       "      <td>8.0</td>\n",
       "      <td>E</td>\n",
       "      <td>32.77</td>\n",
       "    </tr>\n",
       "    <tr>\n",
       "      <th>4</th>\n",
       "      <td>pokemon red/pokemon blue</td>\n",
       "      <td>gb</td>\n",
       "      <td>1996.0</td>\n",
       "      <td>role-playing</td>\n",
       "      <td>11.27</td>\n",
       "      <td>8.89</td>\n",
       "      <td>10.22</td>\n",
       "      <td>1.00</td>\n",
       "      <td>NaN</td>\n",
       "      <td>NaN</td>\n",
       "      <td>no_info</td>\n",
       "      <td>31.38</td>\n",
       "    </tr>\n",
       "    <tr>\n",
       "      <th>...</th>\n",
       "      <td>...</td>\n",
       "      <td>...</td>\n",
       "      <td>...</td>\n",
       "      <td>...</td>\n",
       "      <td>...</td>\n",
       "      <td>...</td>\n",
       "      <td>...</td>\n",
       "      <td>...</td>\n",
       "      <td>...</td>\n",
       "      <td>...</td>\n",
       "      <td>...</td>\n",
       "      <td>...</td>\n",
       "    </tr>\n",
       "    <tr>\n",
       "      <th>16710</th>\n",
       "      <td>samurai warriors: sanada maru</td>\n",
       "      <td>ps3</td>\n",
       "      <td>2016.0</td>\n",
       "      <td>action</td>\n",
       "      <td>0.00</td>\n",
       "      <td>0.00</td>\n",
       "      <td>0.01</td>\n",
       "      <td>0.00</td>\n",
       "      <td>NaN</td>\n",
       "      <td>NaN</td>\n",
       "      <td>no_info</td>\n",
       "      <td>0.01</td>\n",
       "    </tr>\n",
       "    <tr>\n",
       "      <th>16711</th>\n",
       "      <td>lma manager 2007</td>\n",
       "      <td>x360</td>\n",
       "      <td>2006.0</td>\n",
       "      <td>sports</td>\n",
       "      <td>0.00</td>\n",
       "      <td>0.01</td>\n",
       "      <td>0.00</td>\n",
       "      <td>0.00</td>\n",
       "      <td>NaN</td>\n",
       "      <td>NaN</td>\n",
       "      <td>no_info</td>\n",
       "      <td>0.01</td>\n",
       "    </tr>\n",
       "    <tr>\n",
       "      <th>16712</th>\n",
       "      <td>haitaka no psychedelica</td>\n",
       "      <td>psv</td>\n",
       "      <td>2016.0</td>\n",
       "      <td>adventure</td>\n",
       "      <td>0.00</td>\n",
       "      <td>0.00</td>\n",
       "      <td>0.01</td>\n",
       "      <td>0.00</td>\n",
       "      <td>NaN</td>\n",
       "      <td>NaN</td>\n",
       "      <td>no_info</td>\n",
       "      <td>0.01</td>\n",
       "    </tr>\n",
       "    <tr>\n",
       "      <th>16713</th>\n",
       "      <td>spirits &amp; spells</td>\n",
       "      <td>gba</td>\n",
       "      <td>2003.0</td>\n",
       "      <td>platform</td>\n",
       "      <td>0.01</td>\n",
       "      <td>0.00</td>\n",
       "      <td>0.00</td>\n",
       "      <td>0.00</td>\n",
       "      <td>NaN</td>\n",
       "      <td>NaN</td>\n",
       "      <td>no_info</td>\n",
       "      <td>0.01</td>\n",
       "    </tr>\n",
       "    <tr>\n",
       "      <th>16714</th>\n",
       "      <td>winning post 8 2016</td>\n",
       "      <td>psv</td>\n",
       "      <td>2016.0</td>\n",
       "      <td>simulation</td>\n",
       "      <td>0.00</td>\n",
       "      <td>0.00</td>\n",
       "      <td>0.01</td>\n",
       "      <td>0.00</td>\n",
       "      <td>NaN</td>\n",
       "      <td>NaN</td>\n",
       "      <td>no_info</td>\n",
       "      <td>0.01</td>\n",
       "    </tr>\n",
       "  </tbody>\n",
       "</table>\n",
       "<p>16444 rows × 12 columns</p>\n",
       "</div>"
      ],
      "text/plain": [
       "                                name platform  year_of_release         genre  \\\n",
       "0                         wii sports      wii           2006.0        sports   \n",
       "1                  super mario bros.      nes           1985.0      platform   \n",
       "2                     mario kart wii      wii           2008.0        racing   \n",
       "3                  wii sports resort      wii           2009.0        sports   \n",
       "4           pokemon red/pokemon blue       gb           1996.0  role-playing   \n",
       "...                              ...      ...              ...           ...   \n",
       "16710  samurai warriors: sanada maru      ps3           2016.0        action   \n",
       "16711               lma manager 2007     x360           2006.0        sports   \n",
       "16712        haitaka no psychedelica      psv           2016.0     adventure   \n",
       "16713               spirits & spells      gba           2003.0      platform   \n",
       "16714            winning post 8 2016      psv           2016.0    simulation   \n",
       "\n",
       "       na_sales  eu_sales  jp_sales  other_sales  critic_score  user_score  \\\n",
       "0         41.36     28.96      3.77         8.45          76.0         8.0   \n",
       "1         29.08      3.58      6.81         0.77           NaN         NaN   \n",
       "2         15.68     12.76      3.79         3.29          82.0         8.3   \n",
       "3         15.61     10.93      3.28         2.95          80.0         8.0   \n",
       "4         11.27      8.89     10.22         1.00           NaN         NaN   \n",
       "...         ...       ...       ...          ...           ...         ...   \n",
       "16710      0.00      0.00      0.01         0.00           NaN         NaN   \n",
       "16711      0.00      0.01      0.00         0.00           NaN         NaN   \n",
       "16712      0.00      0.00      0.01         0.00           NaN         NaN   \n",
       "16713      0.01      0.00      0.00         0.00           NaN         NaN   \n",
       "16714      0.00      0.00      0.01         0.00           NaN         NaN   \n",
       "\n",
       "        rating  all_sales  \n",
       "0            E      82.54  \n",
       "1      no_info      40.24  \n",
       "2            E      35.52  \n",
       "3            E      32.77  \n",
       "4      no_info      31.38  \n",
       "...        ...        ...  \n",
       "16710  no_info       0.01  \n",
       "16711  no_info       0.01  \n",
       "16712  no_info       0.01  \n",
       "16713  no_info       0.01  \n",
       "16714  no_info       0.01  \n",
       "\n",
       "[16444 rows x 12 columns]"
      ]
     },
     "execution_count": 16,
     "metadata": {},
     "output_type": "execute_result"
    }
   ],
   "source": [
    "df['all_sales'] = df['na_sales'] + df['eu_sales'] + df['jp_sales'] + df['other_sales']\n",
    "df"
   ]
  },
  {
   "cell_type": "markdown",
   "metadata": {},
   "source": [
    "### Вывод\n",
    "<a id='section_3.1'><a/>"
   ]
  },
  {
   "cell_type": "markdown",
   "metadata": {},
   "source": [
    "Мы провели обработку данных и привели их к рабочему формату.\n",
    "\n",
    "Мы изменили все буквы на нижний регистр. Удалили строки с пропусками в названии, жанре и годе выпуска. Заполнили пропуски в рейтинге заглушкой. Пропуски в оценках решил оставить, т.к. думаю, что любые изменения сильно исказят данные.\n",
    "\n",
    "Посчитали общие продажи каждого тайтла."
   ]
  },
  {
   "cell_type": "markdown",
   "metadata": {},
   "source": [
    "## Исследовательский анализ данных\n",
    "<a id='section_4'><a/>"
   ]
  },
  {
   "cell_type": "markdown",
   "metadata": {},
   "source": [
    "Построим график выпуска игр по году. Для этого создадим таблицу с данными по кол-ву выпущенных игр и году."
   ]
  },
  {
   "cell_type": "code",
   "execution_count": 17,
   "metadata": {
    "scrolled": false
   },
   "outputs": [
    {
     "data": {
      "image/png": "[encoded data removed]",
      "text/plain": [
       "<Figure size 1080x360 with 1 Axes>"
      ]
     },
     "metadata": {
      "needs_background": "light"
     },
     "output_type": "display_data"
    }
   ],
   "source": [
    "games_per_year = df.groupby(['year_of_release']).agg({'year_of_release': 'count'})\n",
    "games_per_year.plot(figsize = (15,5))\n",
    "plt.legend(['Количество выпущенных игр'])\n",
    "plt.ylabel('Количество')\n",
    "plt.xlabel('Год')\n",
    "plt.show()"
   ]
  },
  {
   "cell_type": "markdown",
   "metadata": {},
   "source": [
    "Видим, что пик у нас находится на 2009 году. До 2000 игры были еще не очень популярны, что и обьясняет малое кол-во игр. Так же есть падение после 2009 года, тогда появились первые смартфоны и возможно разработчики перешели на мобильные платформы."
   ]
  },
  {
   "cell_type": "markdown",
   "metadata": {},
   "source": [
    "Посмотрим на продажи игр."
   ]
  },
  {
   "cell_type": "code",
   "execution_count": 18,
   "metadata": {
    "scrolled": true
   },
   "outputs": [
    {
     "data": {
      "image/png": "[encoded data removed]",
      "text/plain": [
       "<Figure size 1080x360 with 1 Axes>"
      ]
     },
     "metadata": {
      "needs_background": "light"
     },
     "output_type": "display_data"
    }
   ],
   "source": [
    "sales_per_year = df.groupby(['year_of_release']).agg({'all_sales': 'sum'})\n",
    "sales_per_year.plot(figsize = (15,5))\n",
    "plt.legend(['Количество продаж'])\n",
    "plt.ylabel('Продажи')\n",
    "plt.xlabel('Год')\n",
    "plt.show()"
   ]
  },
  {
   "cell_type": "markdown",
   "metadata": {},
   "source": [
    "График продаж также показываетс спад после 2009 года. Поэтому за акутальный период мы будем брать года с 2013 по 2016."
   ]
  },
  {
   "cell_type": "code",
   "execution_count": 19,
   "metadata": {
    "scrolled": true
   },
   "outputs": [
    {
     "data": {
      "text/html": [
       "<div>\n",
       "<style scoped>\n",
       "    .dataframe tbody tr th:only-of-type {\n",
       "        vertical-align: middle;\n",
       "    }\n",
       "\n",
       "    .dataframe tbody tr th {\n",
       "        vertical-align: top;\n",
       "    }\n",
       "\n",
       "    .dataframe thead th {\n",
       "        text-align: right;\n",
       "    }\n",
       "</style>\n",
       "<table border=\"1\" class=\"dataframe\">\n",
       "  <thead>\n",
       "    <tr style=\"text-align: right;\">\n",
       "      <th></th>\n",
       "      <th>all_sales</th>\n",
       "    </tr>\n",
       "    <tr>\n",
       "      <th>platform</th>\n",
       "      <th></th>\n",
       "    </tr>\n",
       "  </thead>\n",
       "  <tbody>\n",
       "    <tr>\n",
       "      <th>ps2</th>\n",
       "      <td>1233.56</td>\n",
       "    </tr>\n",
       "    <tr>\n",
       "      <th>x360</th>\n",
       "      <td>961.24</td>\n",
       "    </tr>\n",
       "    <tr>\n",
       "      <th>ps3</th>\n",
       "      <td>931.34</td>\n",
       "    </tr>\n",
       "    <tr>\n",
       "      <th>wii</th>\n",
       "      <td>891.18</td>\n",
       "    </tr>\n",
       "    <tr>\n",
       "      <th>ds</th>\n",
       "      <td>802.78</td>\n",
       "    </tr>\n",
       "    <tr>\n",
       "      <th>ps</th>\n",
       "      <td>727.58</td>\n",
       "    </tr>\n",
       "    <tr>\n",
       "      <th>ps4</th>\n",
       "      <td>314.14</td>\n",
       "    </tr>\n",
       "    <tr>\n",
       "      <th>gba</th>\n",
       "      <td>312.88</td>\n",
       "    </tr>\n",
       "    <tr>\n",
       "      <th>psp</th>\n",
       "      <td>289.53</td>\n",
       "    </tr>\n",
       "    <tr>\n",
       "      <th>3ds</th>\n",
       "      <td>257.81</td>\n",
       "    </tr>\n",
       "    <tr>\n",
       "      <th>pc</th>\n",
       "      <td>255.76</td>\n",
       "    </tr>\n",
       "    <tr>\n",
       "      <th>gb</th>\n",
       "      <td>254.43</td>\n",
       "    </tr>\n",
       "    <tr>\n",
       "      <th>xb</th>\n",
       "      <td>251.57</td>\n",
       "    </tr>\n",
       "    <tr>\n",
       "      <th>nes</th>\n",
       "      <td>251.05</td>\n",
       "    </tr>\n",
       "    <tr>\n",
       "      <th>n64</th>\n",
       "      <td>218.01</td>\n",
       "    </tr>\n",
       "    <tr>\n",
       "      <th>snes</th>\n",
       "      <td>200.04</td>\n",
       "    </tr>\n",
       "    <tr>\n",
       "      <th>gc</th>\n",
       "      <td>196.73</td>\n",
       "    </tr>\n",
       "    <tr>\n",
       "      <th>xone</th>\n",
       "      <td>159.32</td>\n",
       "    </tr>\n",
       "    <tr>\n",
       "      <th>2600</th>\n",
       "      <td>86.48</td>\n",
       "    </tr>\n",
       "    <tr>\n",
       "      <th>wiiu</th>\n",
       "      <td>82.19</td>\n",
       "    </tr>\n",
       "    <tr>\n",
       "      <th>psv</th>\n",
       "      <td>53.81</td>\n",
       "    </tr>\n",
       "    <tr>\n",
       "      <th>sat</th>\n",
       "      <td>33.59</td>\n",
       "    </tr>\n",
       "    <tr>\n",
       "      <th>gen</th>\n",
       "      <td>28.35</td>\n",
       "    </tr>\n",
       "    <tr>\n",
       "      <th>dc</th>\n",
       "      <td>15.95</td>\n",
       "    </tr>\n",
       "    <tr>\n",
       "      <th>scd</th>\n",
       "      <td>1.86</td>\n",
       "    </tr>\n",
       "    <tr>\n",
       "      <th>ng</th>\n",
       "      <td>1.44</td>\n",
       "    </tr>\n",
       "    <tr>\n",
       "      <th>ws</th>\n",
       "      <td>1.42</td>\n",
       "    </tr>\n",
       "    <tr>\n",
       "      <th>tg16</th>\n",
       "      <td>0.16</td>\n",
       "    </tr>\n",
       "    <tr>\n",
       "      <th>3do</th>\n",
       "      <td>0.10</td>\n",
       "    </tr>\n",
       "    <tr>\n",
       "      <th>gg</th>\n",
       "      <td>0.04</td>\n",
       "    </tr>\n",
       "    <tr>\n",
       "      <th>pcfx</th>\n",
       "      <td>0.03</td>\n",
       "    </tr>\n",
       "  </tbody>\n",
       "</table>\n",
       "</div>"
      ],
      "text/plain": [
       "          all_sales\n",
       "platform           \n",
       "ps2         1233.56\n",
       "x360         961.24\n",
       "ps3          931.34\n",
       "wii          891.18\n",
       "ds           802.78\n",
       "ps           727.58\n",
       "ps4          314.14\n",
       "gba          312.88\n",
       "psp          289.53\n",
       "3ds          257.81\n",
       "pc           255.76\n",
       "gb           254.43\n",
       "xb           251.57\n",
       "nes          251.05\n",
       "n64          218.01\n",
       "snes         200.04\n",
       "gc           196.73\n",
       "xone         159.32\n",
       "2600          86.48\n",
       "wiiu          82.19\n",
       "psv           53.81\n",
       "sat           33.59\n",
       "gen           28.35\n",
       "dc            15.95\n",
       "scd            1.86\n",
       "ng             1.44\n",
       "ws             1.42\n",
       "tg16           0.16\n",
       "3do            0.10\n",
       "gg             0.04\n",
       "pcfx           0.03"
      ]
     },
     "execution_count": 19,
     "metadata": {},
     "output_type": "execute_result"
    }
   ],
   "source": [
    "platform_sales = df.groupby(['platform']).agg({'all_sales': 'sum'})\n",
    "platform_sales = platform_sales.sort_values(by=['all_sales'], ascending = False)\n",
    "platform_sales"
   ]
  },
  {
   "cell_type": "markdown",
   "metadata": {},
   "source": [
    "Возьмем топ 10 платформ и создадим список с их названиями."
   ]
  },
  {
   "cell_type": "code",
   "execution_count": 20,
   "metadata": {
    "scrolled": true
   },
   "outputs": [
    {
     "data": {
      "text/plain": [
       "Index(['ps2', 'x360', 'ps3', 'wii', 'ds', 'ps', 'ps4', 'gba', 'psp', '3ds'], dtype='object', name='platform')"
      ]
     },
     "execution_count": 20,
     "metadata": {},
     "output_type": "execute_result"
    }
   ],
   "source": [
    "platform_sales_top10 = platform_sales.head(10).index\n",
    "platform_sales_top10"
   ]
  },
  {
   "cell_type": "markdown",
   "metadata": {},
   "source": [
    "Построим сводную таблицу по топ платформам и продажам в год"
   ]
  },
  {
   "cell_type": "code",
   "execution_count": 21,
   "metadata": {
    "scrolled": true
   },
   "outputs": [
    {
     "data": {
      "image/png": "[encoded data removed]",
      "text/plain": [
       "<Figure size 1440x360 with 1 Axes>"
      ]
     },
     "metadata": {
      "needs_background": "light"
     },
     "output_type": "display_data"
    }
   ],
   "source": [
    "df.query('platform in @platform_sales_top10').pivot_table(index = 'year_of_release', columns = 'platform', values = 'all_sales', aggfunc = 'sum').plot(figsize = (20,5))\n",
    "plt.ylabel('Количество')\n",
    "plt.xlabel('Год')\n",
    "plt.show()"
   ]
  },
  {
   "cell_type": "markdown",
   "metadata": {},
   "source": [
    "По графику можно сказать, что продажи платформ идет вниз после начала продаж нового поколения. Это видно на примере ps и ps2, ps2 и ps3 и x360, далее вышла ps4. Нинтендо живет в своем мире, но у них продажи падали с выходом ps3 и x360.\n",
    "\n",
    "PS2 так и никто не смог обойти за 15 лет по кол-ву продаж. На втором месте Х360\n",
    "\n",
    "Узнаем среднюю продолжительность жизни платформы."
   ]
  },
  {
   "cell_type": "code",
   "execution_count": 22,
   "metadata": {},
   "outputs": [],
   "source": [
    "def average_lifetime_platforms(platform_name_list):\n",
    "    count_lifetime = 0\n",
    "    for i in platform_name_list:\n",
    "        only_one_platform = df[df['platform']==i]\n",
    "        lifetime = only_one_platform['year_of_release'].max() - only_one_platform['year_of_release'].min()\n",
    "        count_lifetime += lifetime\n",
    "    alp = count_lifetime / len(platform_name_list)\n",
    "    return alp"
   ]
  },
  {
   "cell_type": "code",
   "execution_count": 23,
   "metadata": {
    "scrolled": true
   },
   "outputs": [
    {
     "data": {
      "text/plain": [
       "10.5"
      ]
     },
     "metadata": {},
     "output_type": "display_data"
    }
   ],
   "source": [
    "display(average_lifetime_platforms(platform_sales_top10))"
   ]
  },
  {
   "cell_type": "markdown",
   "metadata": {},
   "source": [
    "Посмотрим, какая средняя продолжительность жизни среди всех платформ."
   ]
  },
  {
   "cell_type": "code",
   "execution_count": 24,
   "metadata": {},
   "outputs": [
    {
     "data": {
      "text/plain": [
       "7.612903225806452"
      ]
     },
     "metadata": {},
     "output_type": "display_data"
    }
   ],
   "source": [
    "platform_names = platform_sales.index\n",
    "display(average_lifetime_platforms(platform_names))"
   ]
  },
  {
   "cell_type": "markdown",
   "metadata": {},
   "source": [
    "Средняя продолжительность жизни платформы 10.5 для платформ из списка с топ продажами и 7.6 для всех платформ.\n",
    "\n",
    "Актуальный период у нас будет 2013, 2014 и 2015 год."
   ]
  },
  {
   "cell_type": "markdown",
   "metadata": {},
   "source": [
    "Возьмем топ 5 платформ по продажам для дальнейшей работы. У нас это 'ds', 'wii', 'ps3', 'x360', 'ps2'."
   ]
  },
  {
   "cell_type": "code",
   "execution_count": 25,
   "metadata": {},
   "outputs": [
    {
     "data": {
      "text/plain": [
       "Index(['ps2', 'x360', 'ps3', 'wii', 'ds', 'ps', 'ps4', 'gba', 'psp', '3ds'], dtype='object', name='platform')"
      ]
     },
     "execution_count": 25,
     "metadata": {},
     "output_type": "execute_result"
    }
   ],
   "source": [
    "platform_sales_top10"
   ]
  },
  {
   "cell_type": "code",
   "execution_count": 26,
   "metadata": {},
   "outputs": [
    {
     "data": {
      "text/plain": [
       "Index(['ps2', 'x360', 'ps3', 'wii', 'ds'], dtype='object', name='platform')"
      ]
     },
     "execution_count": 26,
     "metadata": {},
     "output_type": "execute_result"
    }
   ],
   "source": [
    "top_5_platform = platform_sales_top10[:5]\n",
    "top_5_platform"
   ]
  },
  {
   "cell_type": "markdown",
   "metadata": {},
   "source": [
    "Оставим данные только за 2013, 2014 и 2015 года."
   ]
  },
  {
   "cell_type": "code",
   "execution_count": 27,
   "metadata": {
    "scrolled": true
   },
   "outputs": [],
   "source": [
    "actual_years = [2013, 2014, 2015]\n",
    "df = df.query('year_of_release in @actual_years')"
   ]
  },
  {
   "cell_type": "markdown",
   "metadata": {},
   "source": [
    "Посмотрим актуальные данные по продажам"
   ]
  },
  {
   "cell_type": "code",
   "execution_count": 28,
   "metadata": {
    "scrolled": true
   },
   "outputs": [
    {
     "data": {
      "text/html": [
       "<div>\n",
       "<style scoped>\n",
       "    .dataframe tbody tr th:only-of-type {\n",
       "        vertical-align: middle;\n",
       "    }\n",
       "\n",
       "    .dataframe tbody tr th {\n",
       "        vertical-align: top;\n",
       "    }\n",
       "\n",
       "    .dataframe thead th {\n",
       "        text-align: right;\n",
       "    }\n",
       "</style>\n",
       "<table border=\"1\" class=\"dataframe\">\n",
       "  <thead>\n",
       "    <tr style=\"text-align: right;\">\n",
       "      <th></th>\n",
       "      <th>all_sales</th>\n",
       "    </tr>\n",
       "    <tr>\n",
       "      <th>platform</th>\n",
       "      <th></th>\n",
       "    </tr>\n",
       "  </thead>\n",
       "  <tbody>\n",
       "    <tr>\n",
       "      <th>ps4</th>\n",
       "      <td>244.89</td>\n",
       "    </tr>\n",
       "    <tr>\n",
       "      <th>ps3</th>\n",
       "      <td>177.83</td>\n",
       "    </tr>\n",
       "    <tr>\n",
       "      <th>x360</th>\n",
       "      <td>135.28</td>\n",
       "    </tr>\n",
       "    <tr>\n",
       "      <th>xone</th>\n",
       "      <td>133.17</td>\n",
       "    </tr>\n",
       "    <tr>\n",
       "      <th>3ds</th>\n",
       "      <td>128.11</td>\n",
       "    </tr>\n",
       "    <tr>\n",
       "      <th>wiiu</th>\n",
       "      <td>60.03</td>\n",
       "    </tr>\n",
       "    <tr>\n",
       "      <th>pc</th>\n",
       "      <td>34.18</td>\n",
       "    </tr>\n",
       "    <tr>\n",
       "      <th>psv</th>\n",
       "      <td>28.74</td>\n",
       "    </tr>\n",
       "    <tr>\n",
       "      <th>wii</th>\n",
       "      <td>13.48</td>\n",
       "    </tr>\n",
       "    <tr>\n",
       "      <th>psp</th>\n",
       "      <td>3.50</td>\n",
       "    </tr>\n",
       "    <tr>\n",
       "      <th>ds</th>\n",
       "      <td>1.54</td>\n",
       "    </tr>\n",
       "  </tbody>\n",
       "</table>\n",
       "</div>"
      ],
      "text/plain": [
       "          all_sales\n",
       "platform           \n",
       "ps4          244.89\n",
       "ps3          177.83\n",
       "x360         135.28\n",
       "xone         133.17\n",
       "3ds          128.11\n",
       "wiiu          60.03\n",
       "pc            34.18\n",
       "psv           28.74\n",
       "wii           13.48\n",
       "psp            3.50\n",
       "ds             1.54"
      ]
     },
     "execution_count": 28,
     "metadata": {},
     "output_type": "execute_result"
    }
   ],
   "source": [
    "platform_sales = df.groupby(['platform']).agg({'all_sales': 'sum'})\n",
    "platform_sales = platform_sales.sort_values(by=['all_sales'], ascending = False)\n",
    "platform_sales"
   ]
  },
  {
   "cell_type": "code",
   "execution_count": 29,
   "metadata": {
    "scrolled": true
   },
   "outputs": [
    {
     "data": {
      "image/png": "[encoded data removed]",
      "text/plain": [
       "<Figure size 1080x360 with 1 Axes>"
      ]
     },
     "metadata": {
      "needs_background": "light"
     },
     "output_type": "display_data"
    }
   ],
   "source": [
    "sales_per_year = df.groupby(['year_of_release']).agg({'all_sales': 'sum'})\n",
    "sales_per_year.plot(figsize = (15,5))\n",
    "plt.legend(['Количество продаж'])\n",
    "plt.ylabel('Продажи')\n",
    "plt.xlabel('Год')\n",
    "plt.show()"
   ]
  },
  {
   "cell_type": "code",
   "execution_count": 30,
   "metadata": {
    "scrolled": false
   },
   "outputs": [
    {
     "data": {
      "image/png": "[encoded data removed]",
      "text/plain": [
       "<Figure size 720x720 with 1 Axes>"
      ]
     },
     "metadata": {
      "needs_background": "light"
     },
     "output_type": "display_data"
    }
   ],
   "source": [
    "df.query('platform in @platform_sales.index').pivot_table(index = 'year_of_release', columns = 'platform', values = 'all_sales', aggfunc = 'sum').plot(figsize = (10,10))\n",
    "plt.ylabel('Количество')\n",
    "plt.xlabel('Год')\n",
    "plt.show()"
   ]
  },
  {
   "cell_type": "markdown",
   "metadata": {},
   "source": [
    "Видим, что продажи только у PS4 и XONE растут продажи, остальные падают.\n",
    "\n",
    "PS4 и XONE являются потенциально прибыльными платформами."
   ]
  },
  {
   "cell_type": "code",
   "execution_count": 31,
   "metadata": {
    "scrolled": true
   },
   "outputs": [
    {
     "data": {
      "text/html": [
       "<div>\n",
       "<style scoped>\n",
       "    .dataframe tbody tr th:only-of-type {\n",
       "        vertical-align: middle;\n",
       "    }\n",
       "\n",
       "    .dataframe tbody tr th {\n",
       "        vertical-align: top;\n",
       "    }\n",
       "\n",
       "    .dataframe thead th {\n",
       "        text-align: right;\n",
       "    }\n",
       "</style>\n",
       "<table border=\"1\" class=\"dataframe\">\n",
       "  <thead>\n",
       "    <tr style=\"text-align: right;\">\n",
       "      <th></th>\n",
       "      <th>year_of_release</th>\n",
       "      <th>na_sales</th>\n",
       "      <th>eu_sales</th>\n",
       "      <th>jp_sales</th>\n",
       "      <th>other_sales</th>\n",
       "      <th>critic_score</th>\n",
       "      <th>user_score</th>\n",
       "      <th>all_sales</th>\n",
       "    </tr>\n",
       "  </thead>\n",
       "  <tbody>\n",
       "    <tr>\n",
       "      <th>count</th>\n",
       "      <td>1731.000000</td>\n",
       "      <td>1731.000000</td>\n",
       "      <td>1731.000000</td>\n",
       "      <td>1731.000000</td>\n",
       "      <td>1731.000000</td>\n",
       "      <td>759.000000</td>\n",
       "      <td>930.000000</td>\n",
       "      <td>1731.000000</td>\n",
       "    </tr>\n",
       "    <tr>\n",
       "      <th>mean</th>\n",
       "      <td>2014.035817</td>\n",
       "      <td>0.226909</td>\n",
       "      <td>0.197002</td>\n",
       "      <td>0.070173</td>\n",
       "      <td>0.060942</td>\n",
       "      <td>71.677207</td>\n",
       "      <td>6.571828</td>\n",
       "      <td>0.555026</td>\n",
       "    </tr>\n",
       "    <tr>\n",
       "      <th>std</th>\n",
       "      <td>0.814528</td>\n",
       "      <td>0.602921</td>\n",
       "      <td>0.547053</td>\n",
       "      <td>0.255457</td>\n",
       "      <td>0.180693</td>\n",
       "      <td>13.146521</td>\n",
       "      <td>1.590649</td>\n",
       "      <td>1.344502</td>\n",
       "    </tr>\n",
       "    <tr>\n",
       "      <th>min</th>\n",
       "      <td>2013.000000</td>\n",
       "      <td>0.000000</td>\n",
       "      <td>0.000000</td>\n",
       "      <td>0.000000</td>\n",
       "      <td>0.000000</td>\n",
       "      <td>13.000000</td>\n",
       "      <td>1.000000</td>\n",
       "      <td>0.010000</td>\n",
       "    </tr>\n",
       "    <tr>\n",
       "      <th>25%</th>\n",
       "      <td>2013.000000</td>\n",
       "      <td>0.000000</td>\n",
       "      <td>0.000000</td>\n",
       "      <td>0.000000</td>\n",
       "      <td>0.000000</td>\n",
       "      <td>65.000000</td>\n",
       "      <td>5.700000</td>\n",
       "      <td>0.040000</td>\n",
       "    </tr>\n",
       "    <tr>\n",
       "      <th>50%</th>\n",
       "      <td>2014.000000</td>\n",
       "      <td>0.030000</td>\n",
       "      <td>0.030000</td>\n",
       "      <td>0.010000</td>\n",
       "      <td>0.010000</td>\n",
       "      <td>74.000000</td>\n",
       "      <td>6.900000</td>\n",
       "      <td>0.140000</td>\n",
       "    </tr>\n",
       "    <tr>\n",
       "      <th>75%</th>\n",
       "      <td>2015.000000</td>\n",
       "      <td>0.185000</td>\n",
       "      <td>0.155000</td>\n",
       "      <td>0.060000</td>\n",
       "      <td>0.050000</td>\n",
       "      <td>81.000000</td>\n",
       "      <td>7.700000</td>\n",
       "      <td>0.480000</td>\n",
       "    </tr>\n",
       "    <tr>\n",
       "      <th>max</th>\n",
       "      <td>2015.000000</td>\n",
       "      <td>9.660000</td>\n",
       "      <td>9.090000</td>\n",
       "      <td>4.350000</td>\n",
       "      <td>3.960000</td>\n",
       "      <td>97.000000</td>\n",
       "      <td>9.300000</td>\n",
       "      <td>21.050000</td>\n",
       "    </tr>\n",
       "  </tbody>\n",
       "</table>\n",
       "</div>"
      ],
      "text/plain": [
       "       year_of_release     na_sales     eu_sales     jp_sales  other_sales  \\\n",
       "count      1731.000000  1731.000000  1731.000000  1731.000000  1731.000000   \n",
       "mean       2014.035817     0.226909     0.197002     0.070173     0.060942   \n",
       "std           0.814528     0.602921     0.547053     0.255457     0.180693   \n",
       "min        2013.000000     0.000000     0.000000     0.000000     0.000000   \n",
       "25%        2013.000000     0.000000     0.000000     0.000000     0.000000   \n",
       "50%        2014.000000     0.030000     0.030000     0.010000     0.010000   \n",
       "75%        2015.000000     0.185000     0.155000     0.060000     0.050000   \n",
       "max        2015.000000     9.660000     9.090000     4.350000     3.960000   \n",
       "\n",
       "       critic_score  user_score    all_sales  \n",
       "count    759.000000  930.000000  1731.000000  \n",
       "mean      71.677207    6.571828     0.555026  \n",
       "std       13.146521    1.590649     1.344502  \n",
       "min       13.000000    1.000000     0.010000  \n",
       "25%       65.000000    5.700000     0.040000  \n",
       "50%       74.000000    6.900000     0.140000  \n",
       "75%       81.000000    7.700000     0.480000  \n",
       "max       97.000000    9.300000    21.050000  "
      ]
     },
     "execution_count": 31,
     "metadata": {},
     "output_type": "execute_result"
    }
   ],
   "source": [
    "df.describe()"
   ]
  },
  {
   "cell_type": "markdown",
   "metadata": {},
   "source": [
    "Построим график «ящик с усами» по глобальным продажам игр в разбивке по платформам."
   ]
  },
  {
   "cell_type": "code",
   "execution_count": 32,
   "metadata": {
    "scrolled": true
   },
   "outputs": [
    {
     "data": {
      "image/png": "[encoded data removed]",
      "text/plain": [
       "<Figure size 1440x360 with 1 Axes>"
      ]
     },
     "metadata": {
      "needs_background": "light"
     },
     "output_type": "display_data"
    }
   ],
   "source": [
    "plt.figure(figsize=(20,5))\n",
    "plt.ylim(0, 2.5)\n",
    "sns.boxplot(data=df, x='platform', y='all_sales')\n",
    "plt.xlabel('Платформа')\n",
    "plt.ylabel('Продажи')\n",
    "plt.show()"
   ]
  },
  {
   "cell_type": "markdown",
   "metadata": {},
   "source": [
    "PS4 и XONE  идут очень ровно, что и не удивительно, т.к. они являются прямыми конкурентами. Что еще может сказать ящик с усами?\n",
    "\n",
    "Посмотрим на влияние оценок на продажи внутри одной платформы."
   ]
  },
  {
   "cell_type": "code",
   "execution_count": 33,
   "metadata": {
    "scrolled": true
   },
   "outputs": [
    {
     "name": "stdout",
     "output_type": "stream",
     "text": [
      "Корреляция между продажами и оценкой пользователей для PS4 равна: 0.024230832360622585\n",
      "Корреляция между продажами и оценкой критиков для PS4 равна: 0.4318482049982005\n"
     ]
    }
   ],
   "source": [
    "ps4 = df.query('platform in \"ps4\"')\n",
    "print('Корреляция между продажами и оценкой пользователей для PS4 равна:', ps4['user_score'].corr(ps4['all_sales']))\n",
    "print('Корреляция между продажами и оценкой критиков для PS4 равна:', ps4['critic_score'].corr(ps4['all_sales']))"
   ]
  },
  {
   "cell_type": "markdown",
   "metadata": {},
   "source": [
    "Построим диаграммы рассеяния для оценок"
   ]
  },
  {
   "cell_type": "code",
   "execution_count": 34,
   "metadata": {},
   "outputs": [
    {
     "data": {
      "image/png": "[encoded data removed]",
      "text/plain": [
       "<Figure size 864x720 with 1 Axes>"
      ]
     },
     "metadata": {
      "needs_background": "light"
     },
     "output_type": "display_data"
    }
   ],
   "source": [
    "plt.figure(figsize=(12,10))\n",
    "sns.scatterplot(data=ps4,x='user_score', y='all_sales')\n",
    "plt.xlabel('Оценка игроков')\n",
    "plt.ylabel('Продажи')\n",
    "plt.show()"
   ]
  },
  {
   "cell_type": "code",
   "execution_count": 35,
   "metadata": {},
   "outputs": [
    {
     "data": {
      "image/png": "[encoded data removed]",
      "text/plain": [
       "<Figure size 864x720 with 1 Axes>"
      ]
     },
     "metadata": {
      "needs_background": "light"
     },
     "output_type": "display_data"
    }
   ],
   "source": [
    "plt.figure(figsize=(12,10))\n",
    "sns.scatterplot(data=ps4,x='critic_score', y='all_sales')\n",
    "plt.xlabel('Оценка критиков')\n",
    "plt.ylabel('Продажи')\n",
    "plt.show()"
   ]
  },
  {
   "cell_type": "markdown",
   "metadata": {},
   "source": [
    "Продажи сильнее зависят от оценок критиков, чем других пользователей. Люди больше доверяют отдельным изданиям и личностям, чем таким же игрокам. Но так же видим, что распределение оценок на графиках выглядит очень похоже. Такой же вывод мы можем сделать и для платформы XONE, тк они очень похожи по своим данным."
   ]
  },
  {
   "cell_type": "markdown",
   "metadata": {},
   "source": [
    "Рассмотрим распределение по жанрам."
   ]
  },
  {
   "cell_type": "code",
   "execution_count": 37,
   "metadata": {},
   "outputs": [
    {
     "data": {
      "text/html": [
       "<div>\n",
       "<style scoped>\n",
       "    .dataframe tbody tr th:only-of-type {\n",
       "        vertical-align: middle;\n",
       "    }\n",
       "\n",
       "    .dataframe tbody tr th {\n",
       "        vertical-align: top;\n",
       "    }\n",
       "\n",
       "    .dataframe thead th {\n",
       "        text-align: right;\n",
       "    }\n",
       "</style>\n",
       "<table border=\"1\" class=\"dataframe\">\n",
       "  <thead>\n",
       "    <tr style=\"text-align: right;\">\n",
       "      <th></th>\n",
       "      <th>genre</th>\n",
       "      <th>all_sales</th>\n",
       "    </tr>\n",
       "  </thead>\n",
       "  <tbody>\n",
       "    <tr>\n",
       "      <th>0</th>\n",
       "      <td>action</td>\n",
       "      <td>291.76</td>\n",
       "    </tr>\n",
       "    <tr>\n",
       "      <th>1</th>\n",
       "      <td>shooter</td>\n",
       "      <td>194.76</td>\n",
       "    </tr>\n",
       "    <tr>\n",
       "      <th>2</th>\n",
       "      <td>role-playing</td>\n",
       "      <td>127.71</td>\n",
       "    </tr>\n",
       "    <tr>\n",
       "      <th>3</th>\n",
       "      <td>sports</td>\n",
       "      <td>127.16</td>\n",
       "    </tr>\n",
       "    <tr>\n",
       "      <th>4</th>\n",
       "      <td>misc</td>\n",
       "      <td>60.22</td>\n",
       "    </tr>\n",
       "    <tr>\n",
       "      <th>5</th>\n",
       "      <td>platform</td>\n",
       "      <td>39.40</td>\n",
       "    </tr>\n",
       "    <tr>\n",
       "      <th>6</th>\n",
       "      <td>racing</td>\n",
       "      <td>37.10</td>\n",
       "    </tr>\n",
       "    <tr>\n",
       "      <th>7</th>\n",
       "      <td>fighting</td>\n",
       "      <td>30.84</td>\n",
       "    </tr>\n",
       "    <tr>\n",
       "      <th>8</th>\n",
       "      <td>simulation</td>\n",
       "      <td>19.87</td>\n",
       "    </tr>\n",
       "    <tr>\n",
       "      <th>9</th>\n",
       "      <td>adventure</td>\n",
       "      <td>19.82</td>\n",
       "    </tr>\n",
       "    <tr>\n",
       "      <th>10</th>\n",
       "      <td>strategy</td>\n",
       "      <td>8.95</td>\n",
       "    </tr>\n",
       "    <tr>\n",
       "      <th>11</th>\n",
       "      <td>puzzle</td>\n",
       "      <td>3.16</td>\n",
       "    </tr>\n",
       "  </tbody>\n",
       "</table>\n",
       "</div>"
      ],
      "text/plain": [
       "           genre  all_sales\n",
       "0         action     291.76\n",
       "1        shooter     194.76\n",
       "2   role-playing     127.71\n",
       "3         sports     127.16\n",
       "4           misc      60.22\n",
       "5       platform      39.40\n",
       "6         racing      37.10\n",
       "7       fighting      30.84\n",
       "8     simulation      19.87\n",
       "9      adventure      19.82\n",
       "10      strategy       8.95\n",
       "11        puzzle       3.16"
      ]
     },
     "execution_count": 37,
     "metadata": {},
     "output_type": "execute_result"
    }
   ],
   "source": [
    "genre_sales = df.groupby(['genre']).agg({'all_sales': 'sum'}).sort_values(by=['all_sales'],ascending = False).reset_index()\n",
    "genre_sales"
   ]
  },
  {
   "cell_type": "code",
   "execution_count": 38,
   "metadata": {},
   "outputs": [
    {
     "data": {
      "image/png": "[encoded data removed]",
      "text/plain": [
       "<Figure size 864x720 with 1 Axes>"
      ]
     },
     "metadata": {
      "needs_background": "light"
     },
     "output_type": "display_data"
    }
   ],
   "source": [
    "plt.figure(figsize=(12,10))\n",
    "sns.barplot(data=genre_sales, x='genre', y='all_sales')\n",
    "plt.xlabel('Жанр')\n",
    "plt.ylabel('Продажи')\n",
    "plt.show()"
   ]
  },
  {
   "cell_type": "markdown",
   "metadata": {},
   "source": [
    "Понятно, что в первой тройке у нас экшн, шутеры и спортсимуляторы с рпг, как самые популярные жанры. Стратегии и пазлы на последних местах"
   ]
  },
  {
   "cell_type": "markdown",
   "metadata": {},
   "source": [
    "### Вывод\n",
    "<a id='section_4.1'><a/>"
   ]
  },
  {
   "cell_type": "markdown",
   "metadata": {},
   "source": [
    "Рост игр на консолях и пк был особо заметен с 2000 по 2009 год. До 2000 пк и консоли были не особо доступны и популярны, что и объясняет медленный рост. После 2009 спад кол-ва выходящих игр. Возможно из-за выхода смартофонов. Соотвественно ведут себя и продажи игр. Под акктульаный период мы взяли 2013, 2014 и 2015 года.\n",
    "\n",
    "Когда выходит новое поколение консолей, у старых сразу падают продажи. Только консоли нинтендо никак не связаны с PS или ХВОХ из-за своей специфической аудитории. Первенство продаж принадлежит PS2 и за 15 лет никто не смог побить её рекорд. На втором месте Х360. Топ 5 платформ по продажам 'ds', 'wii', 'ps3', 'x360', 'ps2'. Средняя продолжительность жизни топовых платформ 10.5 лет. Средняя продолжительность жизни всех платформ 7.6 лет. \n",
    "\n",
    "В актуальный период рост показывают консоли последних поколений это XONE и PS4. У остальных платформ популярность падает. у XONE и PS4 распределение очень похожи. PS4 лидирует по продажам.\n",
    "\n",
    "Продажи сильнее зависят от оценок критиков, чем других пользователей. Люди больше доверяют отдельным изданиям и личностям, чем таким же игрокам.\n",
    "\n",
    "Самые популярные жанры экшн, шутеры и спортсимуляторы с рпг. Самые непопулярные пазлы, аднвентуры и стратегии. Популярность экшнов, спортсимуляторов и шутеров можно связать с природой человека, что людям интереснее что-то динамичнее и быстрее, чем то, где надо сидеть и продумывать ходы по немного."
   ]
  },
  {
   "cell_type": "markdown",
   "metadata": {},
   "source": [
    "## Портрет пользователя каждого региона\n",
    "<a id='section_5'><a/>"
   ]
  },
  {
   "cell_type": "markdown",
   "metadata": {},
   "source": [
    "Разделим наш датафрейм на три части по аудиториям NA, EU, JP. Построим круговой, чтобы понять общую долю среди топ 5 платформ. Для этого напишем функцию"
   ]
  },
  {
   "cell_type": "code",
   "execution_count": 39,
   "metadata": {},
   "outputs": [],
   "source": [
    "region_list = ['na_sales', 'eu_sales', 'jp_sales']"
   ]
  },
  {
   "cell_type": "code",
   "execution_count": 40,
   "metadata": {},
   "outputs": [],
   "source": [
    "def regional_platform_preferences(region):\n",
    "    region_platform = df.groupby(['platform']).agg({region: 'sum'}).sort_values(by=[region],ascending = False)\n",
    "    top5_region_platform = region_platform.head(5)\n",
    "    top5_region_platform.plot.pie(y=region, figsize=(7,7))\n",
    "    plt.show()"
   ]
  },
  {
   "cell_type": "code",
   "execution_count": 41,
   "metadata": {
    "scrolled": true
   },
   "outputs": [
    {
     "data": {
      "image/png": "[encoded data removed]",
      "text/plain": [
       "<Figure size 504x504 with 1 Axes>"
      ]
     },
     "metadata": {},
     "output_type": "display_data"
    },
    {
     "data": {
      "image/png": "[encoded data removed]",
      "text/plain": [
       "<Figure size 504x504 with 1 Axes>"
      ]
     },
     "metadata": {},
     "output_type": "display_data"
    },
    {
     "data": {
      "image/png": "[encoded data removed]",
      "text/plain": [
       "<Figure size 504x504 with 1 Axes>"
      ]
     },
     "metadata": {},
     "output_type": "display_data"
    }
   ],
   "source": [
    "for i in region_list:\n",
    "    regional_platform_preferences(i)"
   ]
  },
  {
   "cell_type": "markdown",
   "metadata": {},
   "source": [
    "В Америке половину рынка занимает иксбокс. Вторую половину занимают японские консоли. Лидирует ps4."
   ]
  },
  {
   "cell_type": "markdown",
   "metadata": {},
   "source": [
    "В Европе уже больше половины рынка у плейстешн. Иксбоксу достается только одна четверть рынка. Лидирует также ps4."
   ]
  },
  {
   "cell_type": "markdown",
   "metadata": {},
   "source": [
    "В Японии половина рынка принадлежит одной платформе это 3ds. Оставшуюся половину делят 3 платформы от сони и 1 от той же нинтендо. Платформ от майкрософт совсем нет и для них это большая боль)"
   ]
  },
  {
   "cell_type": "code",
   "execution_count": 42,
   "metadata": {},
   "outputs": [],
   "source": [
    "def regional_genre_preferences(region):\n",
    "    region_genre = df.groupby(['genre']).agg({region: 'sum'}).sort_values(by=[region],ascending = False)\n",
    "    top5_region_genre = region_genre.head(5)\n",
    "    top5_region_genre.plot.pie(y=region, figsize=(8,8))\n",
    "    plt.show()"
   ]
  },
  {
   "cell_type": "code",
   "execution_count": 43,
   "metadata": {},
   "outputs": [
    {
     "data": {
      "image/png": "[encoded data removed]",
      "text/plain": [
       "<Figure size 576x576 with 1 Axes>"
      ]
     },
     "metadata": {},
     "output_type": "display_data"
    },
    {
     "data": {
      "image/png": "[encoded data removed]",
      "text/plain": [
       "<Figure size 576x576 with 1 Axes>"
      ]
     },
     "metadata": {},
     "output_type": "display_data"
    },
    {
     "data": {
      "image/png": "[encoded data removed]",
      "text/plain": [
       "<Figure size 576x576 with 1 Axes>"
      ]
     },
     "metadata": {},
     "output_type": "display_data"
    }
   ],
   "source": [
    "for i in region_list:\n",
    "    regional_genre_preferences(i)"
   ]
  },
  {
   "cell_type": "markdown",
   "metadata": {},
   "source": [
    "Топ пять жанров в Америке экшн, спортсимуляторы, шутеры, рпг и другое. Больше половины продаж это шутеры и экшн.\n",
    "\n",
    "Жанровые предпочтения Европы точно копируют предпочтения Америки\n",
    "\n",
    "Топ пять жанров в Японии РПГ, экшн, файтинги и шутеры и другое. Тут уже в лидеры вышли рпг. РПГ и экшн, забрали больше 75% рынка.\n",
    "\n",
    "Посмотрим как зависят продажи игр в регионах от рейтинга ESRB . Сгрупируем по рейтингу ESRB  и вместо суммы будем использовать медиану, как функцию, по который мы будем строить выводы."
   ]
  },
  {
   "cell_type": "code",
   "execution_count": 51,
   "metadata": {
    "scrolled": false
   },
   "outputs": [
    {
     "data": {
      "text/html": [
       "<div>\n",
       "<style scoped>\n",
       "    .dataframe tbody tr th:only-of-type {\n",
       "        vertical-align: middle;\n",
       "    }\n",
       "\n",
       "    .dataframe tbody tr th {\n",
       "        vertical-align: top;\n",
       "    }\n",
       "\n",
       "    .dataframe thead tr th {\n",
       "        text-align: left;\n",
       "    }\n",
       "\n",
       "    .dataframe thead tr:last-of-type th {\n",
       "        text-align: right;\n",
       "    }\n",
       "</style>\n",
       "<table border=\"1\" class=\"dataframe\">\n",
       "  <thead>\n",
       "    <tr>\n",
       "      <th></th>\n",
       "      <th colspan=\"2\" halign=\"left\">na_sales</th>\n",
       "    </tr>\n",
       "    <tr>\n",
       "      <th></th>\n",
       "      <th>median</th>\n",
       "      <th>sum</th>\n",
       "    </tr>\n",
       "    <tr>\n",
       "      <th>rating</th>\n",
       "      <th></th>\n",
       "      <th></th>\n",
       "    </tr>\n",
       "  </thead>\n",
       "  <tbody>\n",
       "    <tr>\n",
       "      <th>E</th>\n",
       "      <td>0.080</td>\n",
       "      <td>71.08</td>\n",
       "    </tr>\n",
       "    <tr>\n",
       "      <th>E10+</th>\n",
       "      <td>0.165</td>\n",
       "      <td>50.43</td>\n",
       "    </tr>\n",
       "    <tr>\n",
       "      <th>M</th>\n",
       "      <td>0.180</td>\n",
       "      <td>149.54</td>\n",
       "    </tr>\n",
       "    <tr>\n",
       "      <th>T</th>\n",
       "      <td>0.050</td>\n",
       "      <td>40.84</td>\n",
       "    </tr>\n",
       "    <tr>\n",
       "      <th>no_info</th>\n",
       "      <td>0.000</td>\n",
       "      <td>80.89</td>\n",
       "    </tr>\n",
       "  </tbody>\n",
       "</table>\n",
       "</div>"
      ],
      "text/plain": [
       "        na_sales        \n",
       "          median     sum\n",
       "rating                  \n",
       "E          0.080   71.08\n",
       "E10+       0.165   50.43\n",
       "M          0.180  149.54\n",
       "T          0.050   40.84\n",
       "no_info    0.000   80.89"
      ]
     },
     "metadata": {},
     "output_type": "display_data"
    },
    {
     "data": {
      "text/html": [
       "<div>\n",
       "<style scoped>\n",
       "    .dataframe tbody tr th:only-of-type {\n",
       "        vertical-align: middle;\n",
       "    }\n",
       "\n",
       "    .dataframe tbody tr th {\n",
       "        vertical-align: top;\n",
       "    }\n",
       "\n",
       "    .dataframe thead tr th {\n",
       "        text-align: left;\n",
       "    }\n",
       "\n",
       "    .dataframe thead tr:last-of-type th {\n",
       "        text-align: right;\n",
       "    }\n",
       "</style>\n",
       "<table border=\"1\" class=\"dataframe\">\n",
       "  <thead>\n",
       "    <tr>\n",
       "      <th></th>\n",
       "      <th colspan=\"2\" halign=\"left\">eu_sales</th>\n",
       "    </tr>\n",
       "    <tr>\n",
       "      <th></th>\n",
       "      <th>median</th>\n",
       "      <th>sum</th>\n",
       "    </tr>\n",
       "    <tr>\n",
       "      <th>rating</th>\n",
       "      <th></th>\n",
       "      <th></th>\n",
       "    </tr>\n",
       "  </thead>\n",
       "  <tbody>\n",
       "    <tr>\n",
       "      <th>E</th>\n",
       "      <td>0.08</td>\n",
       "      <td>69.75</td>\n",
       "    </tr>\n",
       "    <tr>\n",
       "      <th>E10+</th>\n",
       "      <td>0.12</td>\n",
       "      <td>38.88</td>\n",
       "    </tr>\n",
       "    <tr>\n",
       "      <th>M</th>\n",
       "      <td>0.15</td>\n",
       "      <td>128.78</td>\n",
       "    </tr>\n",
       "    <tr>\n",
       "      <th>T</th>\n",
       "      <td>0.04</td>\n",
       "      <td>32.16</td>\n",
       "    </tr>\n",
       "    <tr>\n",
       "      <th>no_info</th>\n",
       "      <td>0.00</td>\n",
       "      <td>71.44</td>\n",
       "    </tr>\n",
       "  </tbody>\n",
       "</table>\n",
       "</div>"
      ],
      "text/plain": [
       "        eu_sales        \n",
       "          median     sum\n",
       "rating                  \n",
       "E           0.08   69.75\n",
       "E10+        0.12   38.88\n",
       "M           0.15  128.78\n",
       "T           0.04   32.16\n",
       "no_info     0.00   71.44"
      ]
     },
     "metadata": {},
     "output_type": "display_data"
    },
    {
     "data": {
      "text/html": [
       "<div>\n",
       "<style scoped>\n",
       "    .dataframe tbody tr th:only-of-type {\n",
       "        vertical-align: middle;\n",
       "    }\n",
       "\n",
       "    .dataframe tbody tr th {\n",
       "        vertical-align: top;\n",
       "    }\n",
       "\n",
       "    .dataframe thead tr th {\n",
       "        text-align: left;\n",
       "    }\n",
       "\n",
       "    .dataframe thead tr:last-of-type th {\n",
       "        text-align: right;\n",
       "    }\n",
       "</style>\n",
       "<table border=\"1\" class=\"dataframe\">\n",
       "  <thead>\n",
       "    <tr>\n",
       "      <th></th>\n",
       "      <th colspan=\"2\" halign=\"left\">jp_sales</th>\n",
       "    </tr>\n",
       "    <tr>\n",
       "      <th></th>\n",
       "      <th>median</th>\n",
       "      <th>sum</th>\n",
       "    </tr>\n",
       "    <tr>\n",
       "      <th>rating</th>\n",
       "      <th></th>\n",
       "      <th></th>\n",
       "    </tr>\n",
       "  </thead>\n",
       "  <tbody>\n",
       "    <tr>\n",
       "      <th>E</th>\n",
       "      <td>0.00</td>\n",
       "      <td>14.07</td>\n",
       "    </tr>\n",
       "    <tr>\n",
       "      <th>E10+</th>\n",
       "      <td>0.00</td>\n",
       "      <td>5.44</td>\n",
       "    </tr>\n",
       "    <tr>\n",
       "      <th>M</th>\n",
       "      <td>0.00</td>\n",
       "      <td>12.91</td>\n",
       "    </tr>\n",
       "    <tr>\n",
       "      <th>T</th>\n",
       "      <td>0.02</td>\n",
       "      <td>18.32</td>\n",
       "    </tr>\n",
       "    <tr>\n",
       "      <th>no_info</th>\n",
       "      <td>0.02</td>\n",
       "      <td>70.73</td>\n",
       "    </tr>\n",
       "  </tbody>\n",
       "</table>\n",
       "</div>"
      ],
      "text/plain": [
       "        jp_sales       \n",
       "          median    sum\n",
       "rating                 \n",
       "E           0.00  14.07\n",
       "E10+        0.00   5.44\n",
       "M           0.00  12.91\n",
       "T           0.02  18.32\n",
       "no_info     0.02  70.73"
      ]
     },
     "metadata": {},
     "output_type": "display_data"
    }
   ],
   "source": [
    "na_esrb = df.groupby(['rating']).agg({'na_sales': {'sum', 'median'}})\n",
    "eu_esrb = df.groupby(['rating']).agg({'eu_sales': {'sum', 'median'}})\n",
    "jp_esrb = df.groupby(['rating']).agg({'jp_sales': {'sum', 'median'}})\n",
    "\n",
    "display(na_esrb)\n",
    "display(eu_esrb)\n",
    "display(jp_esrb)"
   ]
  },
  {
   "cell_type": "code",
   "execution_count": 52,
   "metadata": {},
   "outputs": [
    {
     "data": {
      "text/html": [
       "<div>\n",
       "<style scoped>\n",
       "    .dataframe tbody tr th:only-of-type {\n",
       "        vertical-align: middle;\n",
       "    }\n",
       "\n",
       "    .dataframe tbody tr th {\n",
       "        vertical-align: top;\n",
       "    }\n",
       "\n",
       "    .dataframe thead th {\n",
       "        text-align: right;\n",
       "    }\n",
       "</style>\n",
       "<table border=\"1\" class=\"dataframe\">\n",
       "  <thead>\n",
       "    <tr style=\"text-align: right;\">\n",
       "      <th></th>\n",
       "      <th>jp_sales</th>\n",
       "    </tr>\n",
       "    <tr>\n",
       "      <th>rating</th>\n",
       "      <th></th>\n",
       "    </tr>\n",
       "  </thead>\n",
       "  <tbody>\n",
       "    <tr>\n",
       "      <th>T</th>\n",
       "      <td>18.32</td>\n",
       "    </tr>\n",
       "    <tr>\n",
       "      <th>E</th>\n",
       "      <td>14.07</td>\n",
       "    </tr>\n",
       "    <tr>\n",
       "      <th>M</th>\n",
       "      <td>12.91</td>\n",
       "    </tr>\n",
       "    <tr>\n",
       "      <th>E10+</th>\n",
       "      <td>5.44</td>\n",
       "    </tr>\n",
       "  </tbody>\n",
       "</table>\n",
       "</div>"
      ],
      "text/plain": [
       "        jp_sales\n",
       "rating          \n",
       "T          18.32\n",
       "E          14.07\n",
       "M          12.91\n",
       "E10+        5.44"
      ]
     },
     "execution_count": 52,
     "metadata": {},
     "output_type": "execute_result"
    }
   ],
   "source": [
    "df_yes_info = df[df['rating']!='no_info']\n",
    "jp_esrb = df_yes_info.groupby(['rating']).agg({'jp_sales': 'sum'}).sort_values(by=['jp_sales'],ascending = False)\n",
    "jp_esrb"
   ]
  },
  {
   "cell_type": "markdown",
   "metadata": {},
   "source": [
    "Топ рейтингов в Японии по сумме продаж:E, T и М."
   ]
  },
  {
   "cell_type": "markdown",
   "metadata": {},
   "source": [
    "### Вывод\n",
    "<a id='section_5.1'><a/>"
   ]
  },
  {
   "cell_type": "markdown",
   "metadata": {},
   "source": [
    "В Америке по четверти рынка у PS2 и X360. Остальную половину делят wii, PS3 и DS. Топ пять жанров в Америке экшн, спортсимуляторы, шутеры, платформеры и другое. Половина продаж из топ 5 приходятся на экшн и спортсимуляторы. Топ рейтингов в Америке: AO, K-A и EC\n",
    "\n",
    "В Европе по четверти рынка у PS2 и PS3. Остальную половину делят wii, X360 и ps. Топ пять жанров в Европе экшн, спортсимуляторы, шутеры, гонки и другое. Половина продаж из топ 5 приходятся на экшн и спортсимуляторы. Топ рейтингов в Европе: AO, K-A и M.\n",
    "\n",
    "В Японии по четверти рынка у ds и ps. Остальную половину делят snes, 3ds и ps2. Топ пять жанров в Японии РПГ, экшн, спортсимуляторы, платформеры и другое. Топ рейтингов в Японии по сумме продаж:E, T и М.\n",
    "\n",
    "Европа и Америка очень похожи, как рынки в геймдеве. Япония отличается от них по фсем факторам."
   ]
  },
  {
   "cell_type": "markdown",
   "metadata": {},
   "source": [
    "## Проверка гипотез\n",
    "<a id='section_6'><a/>"
   ]
  },
  {
   "cell_type": "markdown",
   "metadata": {},
   "source": [
    "Проверим гипотезу, что средние пользовательские рейтинги платформ Xbox One и PC одинаковые.\n",
    "\n",
    "Нулевая гипотеза звучит так: средние пользовательские рейтинги платформ Xbox One и PC равны\n",
    "\n",
    "Альтернативная гипотеза звучит так: средние пользовательские рейтинги платформ Xbox One и PC не равны\n",
    "\n",
    "Статистический метод будем использовать st.ttest_ind. alpha установим 0.05"
   ]
  },
  {
   "cell_type": "code",
   "execution_count": 46,
   "metadata": {},
   "outputs": [],
   "source": [
    "xb = df.query('platform == \"xone\"')['user_score']\n",
    "pc = df.query('platform == \"pc\"')['user_score']"
   ]
  },
  {
   "cell_type": "code",
   "execution_count": 47,
   "metadata": {
    "scrolled": true
   },
   "outputs": [
    {
     "name": "stdout",
     "output_type": "stream",
     "text": [
      "p-значение: 0.2827494983260732\n",
      "Не получилось отвергнуть нулевую гипотезу\n"
     ]
    }
   ],
   "source": [
    "alpha = 0.05 #критический уровень статистической значимости, если p-value окажется меньше него - отвергаем гипотезу\n",
    "\n",
    "results = st.ttest_ind(xb.dropna(), pc.dropna())\n",
    "\n",
    "print('p-значение:', results.pvalue)\n",
    "\n",
    "if (results.pvalue < alpha):\n",
    "    print(\"Отвергаем нулевую гипотезу\")\n",
    "else:\n",
    "    print(\"Не получилось отвергнуть нулевую гипотезу\")"
   ]
  },
  {
   "cell_type": "markdown",
   "metadata": {},
   "source": [
    "Мы не смогли отвергнуть нулевую гипотезу."
   ]
  },
  {
   "cell_type": "markdown",
   "metadata": {},
   "source": [
    "Средние пользовательские рейтинги жанров Action (англ. «действие», экшен-игры) и Sports (англ. «спортивные соревнования») разные.\n",
    "\n",
    "Нулевая гипотеза звучит так: средние пользовательские рейтинги жанров Action и Sports равны\n",
    "\n",
    "Альтернативная гипотеза звучит так: средние пользовательские рейтинги жанров Action и Sports не равны"
   ]
  },
  {
   "cell_type": "code",
   "execution_count": 48,
   "metadata": {},
   "outputs": [],
   "source": [
    "action = df.query('genre == \"action\"')['user_score']\n",
    "sports = df.query('genre == \"sports\"')['user_score']"
   ]
  },
  {
   "cell_type": "code",
   "execution_count": 49,
   "metadata": {},
   "outputs": [
    {
     "name": "stdout",
     "output_type": "stream",
     "text": [
      "p-значение: 4.1579892916741545e-26\n",
      "Отвергаем нулевую гипотезу\n"
     ]
    }
   ],
   "source": [
    "alpha = 0.05 #критический уровень статистической значимости, если p-value окажется меньше него - отвергаем гипотезу\n",
    "\n",
    "results = st.ttest_ind(action.dropna(), sports.dropna())\n",
    "\n",
    "print('p-значение:', results.pvalue)\n",
    "\n",
    "if (results.pvalue < alpha):\n",
    "    print(\"Отвергаем нулевую гипотезу\")\n",
    "else:\n",
    "    print(\"Не получилось отвергнуть нулевую гипотезу\")"
   ]
  },
  {
   "cell_type": "markdown",
   "metadata": {},
   "source": [
    "Мы смогли отвергнуть нулевую гипотезу."
   ]
  },
  {
   "cell_type": "markdown",
   "metadata": {},
   "source": [
    "## Общий вывод\n",
    "<a id='section_7'><a/>"
   ]
  },
  {
   "cell_type": "markdown",
   "metadata": {},
   "source": [
    "Перед анализом мы подготовили наши данные:\n",
    "<br/>Всю информацию привели к нижнему регистру. \n",
    "<br/>Удалили пропуски или заполнили их заглушкой.\n",
    "\n",
    "Рост игр на консолях и пк был особо заметен с 2000 по 2009 год. До 2000 пк и консоли были не особо доступны и популярны, что и объясняет медленный рост. После 2009 спад кол-ва выходящих игр. Возможно из-за выхода смартофонов. Соотвественно ведут себя и продажи игр. Под акктульаный период мы взяли 2013, 2014 и 2015 года.\n",
    "\n",
    "Когда выходит новое поколение консолей, у старых сразу падают продажи. Только консоли нинтендо никак не связаны с PS или ХВОХ из-за своей специфической аудитории. Первенство продаж принадлежит PS2 и за 15 лет никто не смог побить её рекорд. На втором месте Х360. Топ 5 платформ по продажам 'ds', 'wii', 'ps3', 'x360', 'ps2'. Средняя продолжительность жизни топовых платформ 10.5 лет. Средняя продолжительность жизни всех платформ 7.6 лет.\n",
    "\n",
    "В актуальный период рост показывают консоли последних поколений это XONE и PS4. У остальных платформ популярность падает. у XONE и PS4 распределение очень похожи. PS4 лидирует по продажам.\n",
    "\n",
    "Продажи сильнее зависят от оценок критиков, чем других пользователей. Люди больше доверяют отдельным изданиям и личностям, чем таким же игрокам.\n",
    "\n",
    "Самые популярные жанры экшн, шутеры и спортсимуляторы с рпг. Самые непопулярные пазлы, аднвентуры и стратегии. Популярность экшнов, спортсимуляторов и шутеров можно связать с природой человека, что людям интереснее что-то динамичнее и быстрее, чем то, где надо сидеть и продумывать ходы по немного.\n",
    "\n",
    "В Америке половину рынка занимает иксбокс. Вторую половину занимают японские консоли. Лидирует ps4.\n",
    "В Европе уже больше половины рынка у плейстешн. Иксбоксу достается только одна четверть рынка. Лидирует также ps4.\n",
    "В Японии половина рынка принадлежит одной платформе это 3ds. Оставшуюся половину делят 3 платформы от сони и 1 от той же нинтендо. Платформ от майкрософт совсем нет.\n",
    "\n",
    "Топ пять жанров в Америке экшн, спортсимуляторы, шутеры, рпг и другое. Больше половины продаж это шутеры и экшн.\n",
    "Жанровые предпочтения Европы точно копируют предпочтения Америки\n",
    "Топ пять жанров в Японии РПГ, экшн, файтинги и шутеры и другое. Тут уже в лидеры вышли рпг. РПГ и экшн, забрали больше 75% рынка.\n",
    "\n",
    "Отвергли гипотезу, что  средние пользовательские рейтинги жанров Action и Sports равны. И не смогли отвегнуть гипотезу средние пользовательские рейтинги платформ Xbox One и PC равны."
   ]
  }
 ],
 "metadata": {
  "ExecuteTimeLog": [
   {
    "duration": 578,
    "start_time": "2021-12-20T15:07:54.117Z"
   },
   {
    "duration": 1501,
    "start_time": "2021-12-20T15:08:05.764Z"
   },
   {
    "duration": 36,
    "start_time": "2021-12-20T15:08:11.665Z"
   },
   {
    "duration": 25,
    "start_time": "2021-12-20T15:08:13.146Z"
   },
   {
    "duration": 3,
    "start_time": "2021-12-20T15:14:43.358Z"
   },
   {
    "duration": 38,
    "start_time": "2021-12-20T15:14:43.633Z"
   },
   {
    "duration": 19,
    "start_time": "2021-12-20T15:14:44.005Z"
   },
   {
    "duration": 11,
    "start_time": "2021-12-20T15:14:52.993Z"
   },
   {
    "duration": 24,
    "start_time": "2021-12-20T15:14:56.869Z"
   },
   {
    "duration": 59,
    "start_time": "2021-12-20T15:15:04.742Z"
   },
   {
    "duration": 143,
    "start_time": "2021-12-20T15:28:21.067Z"
   },
   {
    "duration": 3,
    "start_time": "2021-12-20T15:29:29.428Z"
   },
   {
    "duration": 22,
    "start_time": "2021-12-20T15:29:31.692Z"
   },
   {
    "duration": 13,
    "start_time": "2021-12-20T15:29:49.301Z"
   },
   {
    "duration": 25,
    "start_time": "2021-12-20T15:30:15.808Z"
   },
   {
    "duration": 35,
    "start_time": "2021-12-20T15:30:19.493Z"
   },
   {
    "duration": 35,
    "start_time": "2021-12-20T15:30:53.913Z"
   },
   {
    "duration": 5,
    "start_time": "2021-12-20T15:32:22.501Z"
   },
   {
    "duration": 6,
    "start_time": "2021-12-20T15:34:39.726Z"
   },
   {
    "duration": 6,
    "start_time": "2021-12-20T15:34:43.835Z"
   },
   {
    "duration": 151,
    "start_time": "2021-12-20T15:34:48.471Z"
   },
   {
    "duration": 34,
    "start_time": "2021-12-20T15:35:12.398Z"
   },
   {
    "duration": 136,
    "start_time": "2021-12-20T15:35:20.958Z"
   },
   {
    "duration": 7,
    "start_time": "2021-12-20T15:38:18.626Z"
   },
   {
    "duration": 18,
    "start_time": "2021-12-20T15:38:23.323Z"
   },
   {
    "duration": 22,
    "start_time": "2021-12-20T15:39:16.806Z"
   },
   {
    "duration": 25,
    "start_time": "2021-12-20T15:39:23.087Z"
   },
   {
    "duration": 15,
    "start_time": "2021-12-20T15:39:34.032Z"
   },
   {
    "duration": 21,
    "start_time": "2021-12-20T15:39:40.817Z"
   },
   {
    "duration": 34,
    "start_time": "2021-12-20T15:39:53.110Z"
   },
   {
    "duration": 946,
    "start_time": "2021-12-20T15:39:56.877Z"
   },
   {
    "duration": 1639,
    "start_time": "2021-12-20T15:40:13.795Z"
   },
   {
    "duration": 3,
    "start_time": "2021-12-20T15:40:20.203Z"
   },
   {
    "duration": 58,
    "start_time": "2021-12-20T15:40:20.541Z"
   },
   {
    "duration": 40,
    "start_time": "2021-12-20T15:40:22.570Z"
   },
   {
    "duration": 5,
    "start_time": "2021-12-20T15:40:25.034Z"
   },
   {
    "duration": 21,
    "start_time": "2021-12-20T15:40:30.657Z"
   },
   {
    "duration": 7,
    "start_time": "2021-12-20T15:40:57.222Z"
   },
   {
    "duration": 25,
    "start_time": "2021-12-20T15:41:01.086Z"
   },
   {
    "duration": 49,
    "start_time": "2021-12-20T15:41:42.464Z"
   },
   {
    "duration": 525,
    "start_time": "2021-12-20T15:41:45.329Z"
   },
   {
    "duration": 152,
    "start_time": "2021-12-20T15:41:50.481Z"
   },
   {
    "duration": 5,
    "start_time": "2021-12-20T15:42:10.033Z"
   },
   {
    "duration": 39,
    "start_time": "2021-12-20T15:46:19.254Z"
   },
   {
    "duration": 30,
    "start_time": "2021-12-20T15:46:29.720Z"
   },
   {
    "duration": 22,
    "start_time": "2021-12-20T15:46:43.041Z"
   },
   {
    "duration": 38,
    "start_time": "2021-12-20T15:46:45.100Z"
   },
   {
    "duration": 2,
    "start_time": "2021-12-20T15:46:52.417Z"
   },
   {
    "duration": 56,
    "start_time": "2021-12-20T15:46:52.846Z"
   },
   {
    "duration": 34,
    "start_time": "2021-12-20T15:46:55.714Z"
   },
   {
    "duration": 19,
    "start_time": "2021-12-20T15:46:57.806Z"
   },
   {
    "duration": 20,
    "start_time": "2021-12-20T15:47:04.923Z"
   },
   {
    "duration": 12,
    "start_time": "2021-12-20T15:47:09.554Z"
   },
   {
    "duration": 13,
    "start_time": "2021-12-20T15:47:23.092Z"
   },
   {
    "duration": 13,
    "start_time": "2021-12-20T15:47:28.973Z"
   },
   {
    "duration": 5,
    "start_time": "2021-12-20T15:47:34.367Z"
   },
   {
    "duration": 19,
    "start_time": "2021-12-20T15:47:37.010Z"
   },
   {
    "duration": 144,
    "start_time": "2021-12-20T15:50:20.438Z"
   },
   {
    "duration": 22,
    "start_time": "2021-12-20T15:50:28.035Z"
   },
   {
    "duration": 15,
    "start_time": "2021-12-20T15:50:33.822Z"
   },
   {
    "duration": 24,
    "start_time": "2021-12-20T15:50:52.531Z"
   },
   {
    "duration": 14,
    "start_time": "2021-12-20T15:51:02.379Z"
   },
   {
    "duration": 5,
    "start_time": "2021-12-20T15:52:12.845Z"
   },
   {
    "duration": 18,
    "start_time": "2021-12-20T15:54:36.171Z"
   },
   {
    "duration": 6,
    "start_time": "2021-12-20T15:55:15.611Z"
   },
   {
    "duration": 4,
    "start_time": "2021-12-20T15:56:27.423Z"
   },
   {
    "duration": 11,
    "start_time": "2021-12-20T16:06:31.900Z"
   },
   {
    "duration": 5,
    "start_time": "2021-12-20T16:12:57.585Z"
   },
   {
    "duration": 5,
    "start_time": "2021-12-20T16:13:18.303Z"
   },
   {
    "duration": 131,
    "start_time": "2021-12-20T16:14:22.583Z"
   },
   {
    "duration": 7,
    "start_time": "2021-12-20T16:14:36.765Z"
   },
   {
    "duration": 10,
    "start_time": "2021-12-20T16:14:40.464Z"
   },
   {
    "duration": 8,
    "start_time": "2021-12-20T16:15:30.053Z"
   },
   {
    "duration": 9,
    "start_time": "2021-12-20T16:15:34.947Z"
   },
   {
    "duration": 21,
    "start_time": "2021-12-20T16:27:19.645Z"
   },
   {
    "duration": 12,
    "start_time": "2021-12-20T16:33:51.402Z"
   },
   {
    "duration": 11,
    "start_time": "2021-12-20T16:34:08.113Z"
   },
   {
    "duration": 135,
    "start_time": "2021-12-20T16:34:18.118Z"
   },
   {
    "duration": 12,
    "start_time": "2021-12-20T16:34:21.400Z"
   },
   {
    "duration": 326,
    "start_time": "2021-12-20T16:34:38.902Z"
   },
   {
    "duration": 336,
    "start_time": "2021-12-20T16:35:11.992Z"
   },
   {
    "duration": 511,
    "start_time": "2021-12-20T16:35:32.307Z"
   },
   {
    "duration": 2,
    "start_time": "2021-12-20T16:35:55.206Z"
   },
   {
    "duration": 349,
    "start_time": "2021-12-20T16:36:00.010Z"
   },
   {
    "duration": 354,
    "start_time": "2021-12-20T16:36:30.362Z"
   },
   {
    "duration": 335,
    "start_time": "2021-12-20T16:36:52.879Z"
   },
   {
    "duration": 329,
    "start_time": "2021-12-20T16:37:14.926Z"
   },
   {
    "duration": 11,
    "start_time": "2021-12-20T16:42:43.329Z"
   },
   {
    "duration": 8,
    "start_time": "2021-12-20T16:44:26.504Z"
   },
   {
    "duration": 8,
    "start_time": "2021-12-20T16:45:51.507Z"
   },
   {
    "duration": 7,
    "start_time": "2021-12-20T16:46:16.253Z"
   },
   {
    "duration": 20,
    "start_time": "2021-12-20T16:48:55.686Z"
   },
   {
    "duration": 19,
    "start_time": "2021-12-20T16:49:24.298Z"
   },
   {
    "duration": 147,
    "start_time": "2021-12-20T16:49:37.393Z"
   },
   {
    "duration": 5,
    "start_time": "2021-12-20T16:50:09.614Z"
   },
   {
    "duration": 152,
    "start_time": "2021-12-20T16:50:16.664Z"
   },
   {
    "duration": 16,
    "start_time": "2021-12-20T16:50:22.524Z"
   },
   {
    "duration": 4,
    "start_time": "2021-12-20T16:50:31.265Z"
   },
   {
    "duration": 41,
    "start_time": "2021-12-20T16:50:32.910Z"
   },
   {
    "duration": 471,
    "start_time": "2021-12-20T16:50:49.729Z"
   },
   {
    "duration": 479,
    "start_time": "2021-12-20T16:51:04.943Z"
   },
   {
    "duration": 468,
    "start_time": "2021-12-20T16:51:27.649Z"
   },
   {
    "duration": 12,
    "start_time": "2021-12-20T16:52:05.648Z"
   },
   {
    "duration": 3,
    "start_time": "2021-12-20T16:52:24.548Z"
   },
   {
    "duration": 439,
    "start_time": "2021-12-20T16:52:25.742Z"
   },
   {
    "duration": 144,
    "start_time": "2021-12-20T16:54:20.360Z"
   },
   {
    "duration": 11,
    "start_time": "2021-12-20T16:54:23.786Z"
   },
   {
    "duration": 3,
    "start_time": "2021-12-20T16:54:24.702Z"
   },
   {
    "duration": 289,
    "start_time": "2021-12-20T16:54:25.779Z"
   },
   {
    "duration": 11,
    "start_time": "2021-12-20T16:54:40.896Z"
   },
   {
    "duration": 3,
    "start_time": "2021-12-20T16:54:41.613Z"
   },
   {
    "duration": 321,
    "start_time": "2021-12-20T16:54:42.941Z"
   },
   {
    "duration": 912,
    "start_time": "2021-12-23T07:53:55.466Z"
   },
   {
    "duration": 98,
    "start_time": "2021-12-23T07:53:56.381Z"
   },
   {
    "duration": 731,
    "start_time": "2021-12-23T07:53:56.482Z"
   },
   {
    "duration": 324,
    "start_time": "2021-12-23T07:53:57.216Z"
   },
   {
    "duration": 253,
    "start_time": "2021-12-23T07:53:57.545Z"
   },
   {
    "duration": 195,
    "start_time": "2021-12-23T07:53:57.801Z"
   },
   {
    "duration": 304,
    "start_time": "2021-12-23T07:53:57.998Z"
   },
   {
    "duration": 309,
    "start_time": "2021-12-23T07:53:58.305Z"
   },
   {
    "duration": 826,
    "start_time": "2021-12-23T07:53:58.616Z"
   },
   {
    "duration": 17,
    "start_time": "2021-12-23T07:53:59.448Z"
   },
   {
    "duration": 272,
    "start_time": "2021-12-23T07:53:59.468Z"
   },
   {
    "duration": 736,
    "start_time": "2021-12-23T07:53:59.743Z"
   },
   {
    "duration": 570,
    "start_time": "2021-12-23T07:54:33.497Z"
   },
   {
    "duration": 6,
    "start_time": "2021-12-23T07:56:47.396Z"
   },
   {
    "duration": 19,
    "start_time": "2021-12-23T07:56:54.862Z"
   },
   {
    "duration": 11,
    "start_time": "2021-12-23T07:56:57.107Z"
   },
   {
    "duration": 6,
    "start_time": "2021-12-23T07:57:08.994Z"
   },
   {
    "duration": 720,
    "start_time": "2021-12-23T07:57:09.545Z"
   },
   {
    "duration": 477,
    "start_time": "2021-12-23T07:58:06.244Z"
   },
   {
    "duration": 7,
    "start_time": "2021-12-23T07:58:16.157Z"
   },
   {
    "duration": 8,
    "start_time": "2021-12-23T07:59:11.942Z"
   },
   {
    "duration": 4,
    "start_time": "2021-12-23T08:00:09.439Z"
   },
   {
    "duration": 9,
    "start_time": "2021-12-23T08:01:52.290Z"
   },
   {
    "duration": 32,
    "start_time": "2021-12-23T08:01:55.184Z"
   },
   {
    "duration": 11,
    "start_time": "2021-12-23T08:02:27.766Z"
   },
   {
    "duration": 62,
    "start_time": "2021-12-23T08:02:40.082Z"
   },
   {
    "duration": 821,
    "start_time": "2021-12-23T08:03:51.924Z"
   },
   {
    "duration": 360,
    "start_time": "2021-12-23T08:04:26.584Z"
   },
   {
    "duration": 510,
    "start_time": "2021-12-23T08:04:49.368Z"
   },
   {
    "duration": 4,
    "start_time": "2021-12-23T08:07:16.201Z"
   },
   {
    "duration": 453,
    "start_time": "2021-12-23T08:07:16.235Z"
   },
   {
    "duration": 366,
    "start_time": "2021-12-23T08:07:16.692Z"
   },
   {
    "duration": 249,
    "start_time": "2021-12-23T08:07:17.062Z"
   },
   {
    "duration": 249,
    "start_time": "2021-12-23T08:07:17.315Z"
   },
   {
    "duration": 328,
    "start_time": "2021-12-23T08:07:17.567Z"
   },
   {
    "duration": 222,
    "start_time": "2021-12-23T08:07:17.898Z"
   },
   {
    "duration": 372,
    "start_time": "2021-12-23T08:07:18.123Z"
   },
   {
    "duration": 840,
    "start_time": "2021-12-23T08:07:18.498Z"
   },
   {
    "duration": 27,
    "start_time": "2021-12-23T08:07:19.341Z"
   },
   {
    "duration": 262,
    "start_time": "2021-12-23T08:07:19.370Z"
   },
   {
    "duration": 859,
    "start_time": "2021-12-23T08:07:19.635Z"
   },
   {
    "duration": 5,
    "start_time": "2021-12-23T08:07:20.496Z"
   },
   {
    "duration": 351,
    "start_time": "2021-12-23T08:07:20.503Z"
   },
   {
    "duration": 342,
    "start_time": "2021-12-23T08:07:20.857Z"
   },
   {
    "duration": 770,
    "start_time": "2021-12-23T08:07:21.201Z"
   },
   {
    "duration": 471,
    "start_time": "2021-12-23T08:07:55.776Z"
   },
   {
    "duration": 607,
    "start_time": "2021-12-23T08:08:01.786Z"
   },
   {
    "duration": 487,
    "start_time": "2021-12-23T08:08:04.866Z"
   },
   {
    "duration": 508,
    "start_time": "2021-12-23T08:08:11.272Z"
   },
   {
    "duration": 504,
    "start_time": "2021-12-23T08:09:18.807Z"
   },
   {
    "duration": 494,
    "start_time": "2021-12-23T08:09:41.763Z"
   },
   {
    "duration": 58,
    "start_time": "2021-12-23T08:32:20.196Z"
   },
   {
    "duration": 36,
    "start_time": "2021-12-23T08:32:28.843Z"
   },
   {
    "duration": 28,
    "start_time": "2021-12-23T08:33:40.274Z"
   },
   {
    "duration": 17,
    "start_time": "2021-12-23T08:33:46.945Z"
   },
   {
    "duration": 12,
    "start_time": "2021-12-23T08:34:07.265Z"
   },
   {
    "duration": 509,
    "start_time": "2021-12-23T08:34:58.213Z"
   },
   {
    "duration": 548,
    "start_time": "2021-12-23T08:35:06.902Z"
   },
   {
    "duration": 590,
    "start_time": "2021-12-23T08:35:11.756Z"
   },
   {
    "duration": 488,
    "start_time": "2021-12-23T08:35:18.877Z"
   },
   {
    "duration": 651,
    "start_time": "2021-12-23T08:35:22.756Z"
   },
   {
    "duration": 603,
    "start_time": "2021-12-23T08:35:55.546Z"
   },
   {
    "duration": 588,
    "start_time": "2021-12-23T08:36:06.196Z"
   },
   {
    "duration": 6,
    "start_time": "2021-12-23T08:44:31.334Z"
   },
   {
    "duration": 2684,
    "start_time": "2021-12-23T08:44:55.418Z"
   },
   {
    "duration": 11,
    "start_time": "2021-12-23T08:45:59.383Z"
   },
   {
    "duration": 2155,
    "start_time": "2021-12-23T08:46:00.873Z"
   },
   {
    "duration": 10,
    "start_time": "2021-12-23T08:46:37.837Z"
   },
   {
    "duration": 2448,
    "start_time": "2021-12-23T08:46:43.806Z"
   },
   {
    "duration": 11,
    "start_time": "2021-12-23T08:47:17.259Z"
   },
   {
    "duration": 671,
    "start_time": "2021-12-23T08:47:18.790Z"
   },
   {
    "duration": 11,
    "start_time": "2021-12-23T08:47:26.556Z"
   },
   {
    "duration": 1323,
    "start_time": "2021-12-23T08:47:26.961Z"
   },
   {
    "duration": 13,
    "start_time": "2021-12-23T08:50:28.386Z"
   },
   {
    "duration": 3615,
    "start_time": "2021-12-23T08:50:29.118Z"
   },
   {
    "duration": 10,
    "start_time": "2021-12-23T08:52:28.066Z"
   },
   {
    "duration": 6030,
    "start_time": "2021-12-23T08:52:28.596Z"
   },
   {
    "duration": 13,
    "start_time": "2021-12-23T08:53:57.012Z"
   },
   {
    "duration": 1125,
    "start_time": "2021-12-23T08:53:57.417Z"
   },
   {
    "duration": 12,
    "start_time": "2021-12-23T08:54:33.695Z"
   },
   {
    "duration": 6028,
    "start_time": "2021-12-23T08:54:33.887Z"
   },
   {
    "duration": 14,
    "start_time": "2021-12-23T08:54:43.783Z"
   },
   {
    "duration": 6530,
    "start_time": "2021-12-23T08:54:43.799Z"
   },
   {
    "duration": 17,
    "start_time": "2021-12-23T08:55:42.021Z"
   },
   {
    "duration": 6308,
    "start_time": "2021-12-23T08:55:43.401Z"
   },
   {
    "duration": 19,
    "start_time": "2021-12-23T08:57:07.821Z"
   },
   {
    "duration": 4840,
    "start_time": "2021-12-23T08:57:08.783Z"
   },
   {
    "duration": 12,
    "start_time": "2021-12-23T08:57:31.098Z"
   },
   {
    "duration": 5040,
    "start_time": "2021-12-23T08:57:31.894Z"
   },
   {
    "duration": 12,
    "start_time": "2021-12-23T08:58:14.043Z"
   },
   {
    "duration": 6005,
    "start_time": "2021-12-23T08:58:15.015Z"
   },
   {
    "duration": 14,
    "start_time": "2021-12-23T09:54:01.105Z"
   },
   {
    "duration": 15,
    "start_time": "2021-12-23T09:54:31.083Z"
   },
   {
    "duration": 13,
    "start_time": "2021-12-23T09:54:54.284Z"
   },
   {
    "duration": 334,
    "start_time": "2021-12-23T09:55:45.840Z"
   },
   {
    "duration": 325,
    "start_time": "2021-12-23T09:55:51.638Z"
   },
   {
    "duration": 342,
    "start_time": "2021-12-23T09:55:56.691Z"
   },
   {
    "duration": 350,
    "start_time": "2021-12-23T09:56:21.608Z"
   },
   {
    "duration": 365,
    "start_time": "2021-12-23T09:56:48.245Z"
   },
   {
    "duration": 337,
    "start_time": "2021-12-23T09:57:04.404Z"
   },
   {
    "duration": 20,
    "start_time": "2021-12-23T09:57:28.032Z"
   },
   {
    "duration": 345,
    "start_time": "2021-12-23T09:57:32.344Z"
   },
   {
    "duration": 149,
    "start_time": "2021-12-23T09:57:42.037Z"
   },
   {
    "duration": 347,
    "start_time": "2021-12-23T09:57:44.824Z"
   },
   {
    "duration": 624,
    "start_time": "2021-12-23T09:58:04.012Z"
   },
   {
    "duration": 333,
    "start_time": "2021-12-23T09:58:18.766Z"
   },
   {
    "duration": 509,
    "start_time": "2021-12-23T09:58:28.764Z"
   },
   {
    "duration": 36,
    "start_time": "2021-12-23T10:45:11.286Z"
   },
   {
    "duration": 18,
    "start_time": "2021-12-23T10:48:31.671Z"
   },
   {
    "duration": 19,
    "start_time": "2021-12-23T10:48:48.777Z"
   },
   {
    "duration": 18,
    "start_time": "2021-12-23T10:49:39.191Z"
   },
   {
    "duration": 428,
    "start_time": "2021-12-23T10:51:00.948Z"
   },
   {
    "duration": 479,
    "start_time": "2021-12-23T10:51:05.341Z"
   },
   {
    "duration": 298,
    "start_time": "2021-12-23T10:51:10.211Z"
   },
   {
    "duration": 234,
    "start_time": "2021-12-23T10:52:12.011Z"
   },
   {
    "duration": 605,
    "start_time": "2021-12-23T10:53:13.026Z"
   },
   {
    "duration": 726,
    "start_time": "2021-12-23T10:53:30.585Z"
   },
   {
    "duration": 133,
    "start_time": "2021-12-23T10:53:57.812Z"
   },
   {
    "duration": 525,
    "start_time": "2021-12-23T10:54:00.815Z"
   },
   {
    "duration": 436,
    "start_time": "2021-12-23T10:54:27.628Z"
   },
   {
    "duration": 435,
    "start_time": "2021-12-23T10:54:28.456Z"
   },
   {
    "duration": 257,
    "start_time": "2021-12-23T10:54:33.844Z"
   },
   {
    "duration": 261,
    "start_time": "2021-12-23T10:54:37.907Z"
   },
   {
    "duration": 275,
    "start_time": "2021-12-23T10:54:41.460Z"
   },
   {
    "duration": 873,
    "start_time": "2021-12-23T11:03:25.885Z"
   },
   {
    "duration": 362,
    "start_time": "2021-12-23T11:03:56.619Z"
   },
   {
    "duration": 509,
    "start_time": "2021-12-23T11:05:46.179Z"
   },
   {
    "duration": 580,
    "start_time": "2021-12-23T11:05:54.463Z"
   },
   {
    "duration": 25,
    "start_time": "2021-12-23T11:06:32.131Z"
   },
   {
    "duration": 16,
    "start_time": "2021-12-23T11:06:37.455Z"
   },
   {
    "duration": 13,
    "start_time": "2021-12-23T11:06:44.100Z"
   },
   {
    "duration": 351,
    "start_time": "2021-12-23T11:06:48.512Z"
   },
   {
    "duration": 266,
    "start_time": "2021-12-23T11:06:54.646Z"
   },
   {
    "duration": 175,
    "start_time": "2021-12-23T11:07:32.818Z"
   },
   {
    "duration": 275,
    "start_time": "2021-12-23T11:07:40.841Z"
   },
   {
    "duration": 15,
    "start_time": "2021-12-23T11:08:10.037Z"
   },
   {
    "duration": 342,
    "start_time": "2021-12-23T11:08:32.508Z"
   },
   {
    "duration": 263,
    "start_time": "2021-12-23T11:08:40.179Z"
   },
   {
    "duration": 253,
    "start_time": "2021-12-23T11:08:47.904Z"
   },
   {
    "duration": 14,
    "start_time": "2021-12-23T11:09:53.546Z"
   },
   {
    "duration": 167,
    "start_time": "2021-12-23T11:09:54.180Z"
   },
   {
    "duration": 18,
    "start_time": "2021-12-23T11:10:22.316Z"
   },
   {
    "duration": 153,
    "start_time": "2021-12-23T11:10:22.950Z"
   },
   {
    "duration": 16,
    "start_time": "2021-12-23T11:10:38.177Z"
   },
   {
    "duration": 14,
    "start_time": "2021-12-23T11:10:42.358Z"
   },
   {
    "duration": 15,
    "start_time": "2021-12-23T11:11:08.992Z"
   },
   {
    "duration": -64,
    "start_time": "2021-12-23T11:11:17.892Z"
   },
   {
    "duration": 164,
    "start_time": "2021-12-23T11:11:19.515Z"
   },
   {
    "duration": 165,
    "start_time": "2021-12-23T11:11:24.269Z"
   },
   {
    "duration": 361,
    "start_time": "2021-12-23T11:12:06.718Z"
   },
   {
    "duration": -59,
    "start_time": "2021-12-23T11:13:09.708Z"
   },
   {
    "duration": 111,
    "start_time": "2021-12-23T11:13:14.907Z"
   },
   {
    "duration": 244,
    "start_time": "2021-12-23T11:13:18.069Z"
   },
   {
    "duration": 347,
    "start_time": "2021-12-23T11:13:31.052Z"
   },
   {
    "duration": 779,
    "start_time": "2021-12-23T11:14:07.845Z"
   },
   {
    "duration": 795,
    "start_time": "2021-12-23T11:14:23.745Z"
   },
   {
    "duration": 14,
    "start_time": "2021-12-23T11:16:51.781Z"
   },
   {
    "duration": 158,
    "start_time": "2021-12-23T11:16:54.282Z"
   },
   {
    "duration": 15,
    "start_time": "2021-12-23T11:18:01.753Z"
   },
   {
    "duration": 296,
    "start_time": "2021-12-23T11:18:20.539Z"
   },
   {
    "duration": 14,
    "start_time": "2021-12-23T11:18:34.490Z"
   },
   {
    "duration": 156,
    "start_time": "2021-12-23T11:18:44.343Z"
   },
   {
    "duration": 19,
    "start_time": "2021-12-23T11:18:59.459Z"
   },
   {
    "duration": 225,
    "start_time": "2021-12-23T11:19:07.202Z"
   },
   {
    "duration": 19,
    "start_time": "2021-12-23T11:30:54.916Z"
   },
   {
    "duration": 10,
    "start_time": "2021-12-23T11:30:57.875Z"
   },
   {
    "duration": 11,
    "start_time": "2021-12-23T11:31:07.325Z"
   },
   {
    "duration": 9,
    "start_time": "2021-12-23T11:31:08.676Z"
   },
   {
    "duration": 17,
    "start_time": "2021-12-23T11:31:19.328Z"
   },
   {
    "duration": 11,
    "start_time": "2021-12-23T11:31:20.850Z"
   },
   {
    "duration": 11,
    "start_time": "2021-12-23T11:31:26.656Z"
   },
   {
    "duration": 16,
    "start_time": "2021-12-23T11:31:26.914Z"
   },
   {
    "duration": 15,
    "start_time": "2021-12-23T11:32:35.602Z"
   },
   {
    "duration": 15,
    "start_time": "2021-12-23T11:32:55.478Z"
   },
   {
    "duration": 13,
    "start_time": "2021-12-23T11:33:08.472Z"
   },
   {
    "duration": 15,
    "start_time": "2021-12-23T11:33:46.817Z"
   },
   {
    "duration": 16,
    "start_time": "2021-12-23T11:33:53.379Z"
   },
   {
    "duration": 16,
    "start_time": "2021-12-23T11:33:59.474Z"
   },
   {
    "duration": 25,
    "start_time": "2021-12-23T11:35:36.786Z"
   },
   {
    "duration": 29,
    "start_time": "2021-12-23T11:35:52.655Z"
   },
   {
    "duration": 34,
    "start_time": "2021-12-23T11:35:57.382Z"
   },
   {
    "duration": 43,
    "start_time": "2021-12-23T11:41:49.692Z"
   },
   {
    "duration": 43,
    "start_time": "2021-12-23T11:42:10.106Z"
   },
   {
    "duration": 19,
    "start_time": "2021-12-23T11:43:34.441Z"
   },
   {
    "duration": 18,
    "start_time": "2021-12-23T11:43:39.077Z"
   },
   {
    "duration": 119,
    "start_time": "2021-12-23T11:44:43.540Z"
   },
   {
    "duration": 34,
    "start_time": "2021-12-23T15:25:49.760Z"
   },
   {
    "duration": 1475,
    "start_time": "2021-12-23T15:25:56.402Z"
   },
   {
    "duration": 80,
    "start_time": "2021-12-23T15:25:57.879Z"
   },
   {
    "duration": 68,
    "start_time": "2021-12-23T15:25:57.962Z"
   },
   {
    "duration": 27,
    "start_time": "2021-12-23T15:25:58.032Z"
   },
   {
    "duration": 8,
    "start_time": "2021-12-23T15:25:58.062Z"
   },
   {
    "duration": 51,
    "start_time": "2021-12-23T15:25:58.072Z"
   },
   {
    "duration": 14,
    "start_time": "2021-12-23T15:25:58.126Z"
   },
   {
    "duration": 42,
    "start_time": "2021-12-23T15:25:58.145Z"
   },
   {
    "duration": 512,
    "start_time": "2021-12-23T15:25:58.225Z"
   },
   {
    "duration": 19,
    "start_time": "2021-12-23T15:25:58.740Z"
   },
   {
    "duration": 5,
    "start_time": "2021-12-23T15:25:58.763Z"
   },
   {
    "duration": 570,
    "start_time": "2021-12-23T15:25:58.772Z"
   },
   {
    "duration": 5,
    "start_time": "2021-12-23T15:25:59.344Z"
   },
   {
    "duration": 6,
    "start_time": "2021-12-23T15:25:59.352Z"
   },
   {
    "duration": 85,
    "start_time": "2021-12-23T15:25:59.360Z"
   },
   {
    "duration": 440,
    "start_time": "2021-12-23T15:25:59.448Z"
   },
   {
    "duration": 12,
    "start_time": "2021-12-23T15:25:59.890Z"
   },
   {
    "duration": 555,
    "start_time": "2021-12-23T15:25:59.923Z"
   },
   {
    "duration": 590,
    "start_time": "2021-12-23T15:26:00.480Z"
   },
   {
    "duration": 11,
    "start_time": "2021-12-23T15:26:01.073Z"
   },
   {
    "duration": 5779,
    "start_time": "2021-12-23T15:26:01.087Z"
   },
   {
    "duration": 16,
    "start_time": "2021-12-23T15:26:06.868Z"
   },
   {
    "duration": 519,
    "start_time": "2021-12-23T15:26:06.890Z"
   },
   {
    "duration": 22,
    "start_time": "2021-12-23T15:26:07.412Z"
   },
   {
    "duration": 165,
    "start_time": "2021-12-23T15:26:07.436Z"
   },
   {
    "duration": 21,
    "start_time": "2021-12-23T15:26:07.604Z"
   },
   {
    "duration": 173,
    "start_time": "2021-12-23T15:26:07.628Z"
   },
   {
    "duration": 22,
    "start_time": "2021-12-23T15:26:07.803Z"
   },
   {
    "duration": 239,
    "start_time": "2021-12-23T15:26:07.827Z"
   },
   {
    "duration": 13,
    "start_time": "2021-12-23T15:26:08.069Z"
   },
   {
    "duration": 187,
    "start_time": "2021-12-23T15:26:08.085Z"
   },
   {
    "duration": 15,
    "start_time": "2021-12-23T15:26:08.274Z"
   },
   {
    "duration": 183,
    "start_time": "2021-12-23T15:26:08.291Z"
   },
   {
    "duration": 13,
    "start_time": "2021-12-23T15:26:08.477Z"
   },
   {
    "duration": 181,
    "start_time": "2021-12-23T15:26:08.492Z"
   },
   {
    "duration": 51,
    "start_time": "2021-12-23T15:26:08.675Z"
   },
   {
    "duration": 18,
    "start_time": "2021-12-23T15:26:08.729Z"
   },
   {
    "duration": 37,
    "start_time": "2021-12-23T15:29:34.074Z"
   },
   {
    "duration": 570,
    "start_time": "2021-12-23T15:29:41.327Z"
   },
   {
    "duration": 16,
    "start_time": "2021-12-23T15:29:55.741Z"
   },
   {
    "duration": 12,
    "start_time": "2021-12-23T15:30:20.914Z"
   },
   {
    "duration": 14,
    "start_time": "2021-12-23T15:33:00.165Z"
   },
   {
    "duration": 329,
    "start_time": "2021-12-23T15:33:01.278Z"
   },
   {
    "duration": 4,
    "start_time": "2021-12-23T15:33:31.710Z"
   },
   {
    "duration": 11,
    "start_time": "2021-12-23T15:33:34.467Z"
   },
   {
    "duration": 11,
    "start_time": "2021-12-23T15:33:41.243Z"
   },
   {
    "duration": 11,
    "start_time": "2021-12-23T15:34:31.384Z"
   },
   {
    "duration": 13,
    "start_time": "2021-12-23T15:35:55.247Z"
   },
   {
    "duration": 13,
    "start_time": "2021-12-23T15:35:59.387Z"
   },
   {
    "duration": 10,
    "start_time": "2021-12-23T15:36:42.806Z"
   },
   {
    "duration": 850,
    "start_time": "2021-12-23T15:36:54.720Z"
   },
   {
    "duration": 830,
    "start_time": "2021-12-23T15:37:29.926Z"
   },
   {
    "duration": 13,
    "start_time": "2021-12-23T15:38:48.092Z"
   },
   {
    "duration": 8,
    "start_time": "2021-12-23T15:38:49.154Z"
   },
   {
    "duration": 10,
    "start_time": "2021-12-23T15:39:03.793Z"
   },
   {
    "duration": 1446,
    "start_time": "2021-12-24T07:30:36.892Z"
   },
   {
    "duration": 84,
    "start_time": "2021-12-24T07:30:38.341Z"
   },
   {
    "duration": 64,
    "start_time": "2021-12-24T07:30:38.428Z"
   },
   {
    "duration": 25,
    "start_time": "2021-12-24T07:30:38.494Z"
   },
   {
    "duration": 9,
    "start_time": "2021-12-24T07:30:38.521Z"
   },
   {
    "duration": 45,
    "start_time": "2021-12-24T07:30:38.532Z"
   },
   {
    "duration": 11,
    "start_time": "2021-12-24T07:30:38.580Z"
   },
   {
    "duration": 37,
    "start_time": "2021-12-24T07:30:38.594Z"
   },
   {
    "duration": 522,
    "start_time": "2021-12-24T07:30:38.664Z"
   },
   {
    "duration": 16,
    "start_time": "2021-12-24T07:30:39.188Z"
   },
   {
    "duration": 4,
    "start_time": "2021-12-24T07:30:39.207Z"
   },
   {
    "duration": 559,
    "start_time": "2021-12-24T07:30:39.214Z"
   },
   {
    "duration": 6,
    "start_time": "2021-12-24T07:30:39.775Z"
   },
   {
    "duration": 4,
    "start_time": "2021-12-24T07:30:39.783Z"
   },
   {
    "duration": 75,
    "start_time": "2021-12-24T07:30:39.790Z"
   },
   {
    "duration": 472,
    "start_time": "2021-12-24T07:30:39.867Z"
   },
   {
    "duration": 20,
    "start_time": "2021-12-24T07:30:40.342Z"
   },
   {
    "duration": 583,
    "start_time": "2021-12-24T07:30:40.365Z"
   },
   {
    "duration": 608,
    "start_time": "2021-12-24T07:30:40.950Z"
   },
   {
    "duration": 11,
    "start_time": "2021-12-24T07:30:41.563Z"
   },
   {
    "duration": 5763,
    "start_time": "2021-12-24T07:30:41.576Z"
   },
   {
    "duration": 30,
    "start_time": "2021-12-24T07:30:47.342Z"
   },
   {
    "duration": 525,
    "start_time": "2021-12-24T07:30:47.379Z"
   },
   {
    "duration": 14,
    "start_time": "2021-12-24T07:30:47.907Z"
   },
   {
    "duration": 178,
    "start_time": "2021-12-24T07:30:47.924Z"
   },
   {
    "duration": 15,
    "start_time": "2021-12-24T07:30:48.104Z"
   },
   {
    "duration": 173,
    "start_time": "2021-12-24T07:30:48.121Z"
   },
   {
    "duration": 14,
    "start_time": "2021-12-24T07:30:48.296Z"
   },
   {
    "duration": 252,
    "start_time": "2021-12-24T07:30:48.313Z"
   },
   {
    "duration": 14,
    "start_time": "2021-12-24T07:30:48.567Z"
   },
   {
    "duration": 182,
    "start_time": "2021-12-24T07:30:48.583Z"
   },
   {
    "duration": 14,
    "start_time": "2021-12-24T07:30:48.768Z"
   },
   {
    "duration": 190,
    "start_time": "2021-12-24T07:30:48.784Z"
   },
   {
    "duration": 15,
    "start_time": "2021-12-24T07:30:48.977Z"
   },
   {
    "duration": 188,
    "start_time": "2021-12-24T07:30:48.995Z"
   },
   {
    "duration": 38,
    "start_time": "2021-12-24T07:30:49.186Z"
   },
   {
    "duration": 52,
    "start_time": "2021-12-24T07:30:49.227Z"
   },
   {
    "duration": 11,
    "start_time": "2021-12-24T07:30:49.282Z"
   },
   {
    "duration": 12,
    "start_time": "2021-12-24T07:30:49.295Z"
   },
   {
    "duration": 13,
    "start_time": "2021-12-24T07:30:49.309Z"
   },
   {
    "duration": 44,
    "start_time": "2021-12-24T07:30:49.325Z"
   },
   {
    "duration": 1717,
    "start_time": "2021-12-24T10:45:18.233Z"
   },
   {
    "duration": 93,
    "start_time": "2021-12-24T10:45:19.954Z"
   },
   {
    "duration": 71,
    "start_time": "2021-12-24T10:45:20.052Z"
   },
   {
    "duration": 55,
    "start_time": "2021-12-24T10:45:20.126Z"
   },
   {
    "duration": 9,
    "start_time": "2021-12-24T10:45:20.184Z"
   },
   {
    "duration": 24,
    "start_time": "2021-12-24T10:45:20.196Z"
   },
   {
    "duration": 40,
    "start_time": "2021-12-24T10:45:20.223Z"
   },
   {
    "duration": 5,
    "start_time": "2021-12-24T10:45:20.266Z"
   },
   {
    "duration": 40,
    "start_time": "2021-12-24T10:45:20.275Z"
   },
   {
    "duration": 567,
    "start_time": "2021-12-24T10:45:20.318Z"
   },
   {
    "duration": 19,
    "start_time": "2021-12-24T10:45:20.889Z"
   },
   {
    "duration": 6,
    "start_time": "2021-12-24T10:45:20.911Z"
   },
   {
    "duration": 580,
    "start_time": "2021-12-24T10:45:20.920Z"
   },
   {
    "duration": 6,
    "start_time": "2021-12-24T10:45:21.502Z"
   },
   {
    "duration": 8,
    "start_time": "2021-12-24T10:45:21.511Z"
   },
   {
    "duration": 84,
    "start_time": "2021-12-24T10:45:21.521Z"
   },
   {
    "duration": 479,
    "start_time": "2021-12-24T10:45:21.609Z"
   },
   {
    "duration": 13,
    "start_time": "2021-12-24T10:45:22.090Z"
   },
   {
    "duration": 621,
    "start_time": "2021-12-24T10:45:22.105Z"
   },
   {
    "duration": 612,
    "start_time": "2021-12-24T10:45:22.728Z"
   },
   {
    "duration": 11,
    "start_time": "2021-12-24T10:45:23.343Z"
   },
   {
    "duration": 6205,
    "start_time": "2021-12-24T10:45:23.363Z"
   },
   {
    "duration": 5983,
    "start_time": "2021-12-24T10:45:29.571Z"
   },
   {
    "duration": 17,
    "start_time": "2021-12-24T10:45:35.562Z"
   },
   {
    "duration": 536,
    "start_time": "2021-12-24T10:45:35.582Z"
   },
   {
    "duration": 15,
    "start_time": "2021-12-24T10:45:36.120Z"
   },
   {
    "duration": 183,
    "start_time": "2021-12-24T10:45:36.140Z"
   },
   {
    "duration": 14,
    "start_time": "2021-12-24T10:45:36.326Z"
   },
   {
    "duration": 192,
    "start_time": "2021-12-24T10:45:36.342Z"
   },
   {
    "duration": 29,
    "start_time": "2021-12-24T10:45:36.537Z"
   },
   {
    "duration": 189,
    "start_time": "2021-12-24T10:45:36.569Z"
   },
   {
    "duration": 15,
    "start_time": "2021-12-24T10:45:36.763Z"
   },
   {
    "duration": 193,
    "start_time": "2021-12-24T10:45:36.780Z"
   },
   {
    "duration": 16,
    "start_time": "2021-12-24T10:45:36.976Z"
   },
   {
    "duration": 194,
    "start_time": "2021-12-24T10:45:36.995Z"
   },
   {
    "duration": 14,
    "start_time": "2021-12-24T10:45:37.191Z"
   },
   {
    "duration": 287,
    "start_time": "2021-12-24T10:45:37.208Z"
   },
   {
    "duration": 37,
    "start_time": "2021-12-24T10:45:37.498Z"
   },
   {
    "duration": 43,
    "start_time": "2021-12-24T10:45:37.538Z"
   },
   {
    "duration": 17,
    "start_time": "2021-12-24T10:45:37.583Z"
   },
   {
    "duration": 14,
    "start_time": "2021-12-24T10:45:37.603Z"
   },
   {
    "duration": 59,
    "start_time": "2021-12-24T10:45:37.619Z"
   },
   {
    "duration": 16,
    "start_time": "2021-12-24T10:45:37.681Z"
   },
   {
    "duration": 1132,
    "start_time": "2021-12-25T13:59:10.681Z"
   },
   {
    "duration": 64,
    "start_time": "2021-12-25T13:59:11.815Z"
   },
   {
    "duration": 5,
    "start_time": "2021-12-25T14:03:29.904Z"
   },
   {
    "duration": 8,
    "start_time": "2021-12-25T14:03:35.638Z"
   },
   {
    "duration": 5,
    "start_time": "2021-12-25T14:03:48.192Z"
   },
   {
    "duration": 4,
    "start_time": "2021-12-25T14:03:56.705Z"
   },
   {
    "duration": 13,
    "start_time": "2021-12-25T14:04:43.543Z"
   },
   {
    "duration": 23,
    "start_time": "2021-12-25T14:04:58.328Z"
   },
   {
    "duration": 32,
    "start_time": "2021-12-25T14:05:13.031Z"
   },
   {
    "duration": 9,
    "start_time": "2021-12-25T14:05:35.247Z"
   },
   {
    "duration": 53,
    "start_time": "2021-12-25T14:05:44.705Z"
   },
   {
    "duration": 48,
    "start_time": "2021-12-25T14:05:49.879Z"
   },
   {
    "duration": 53,
    "start_time": "2021-12-25T14:05:51.838Z"
   },
   {
    "duration": 14,
    "start_time": "2021-12-25T14:06:29.167Z"
   },
   {
    "duration": 33,
    "start_time": "2021-12-25T14:10:13.677Z"
   },
   {
    "duration": 32,
    "start_time": "2021-12-25T14:10:15.588Z"
   },
   {
    "duration": 10,
    "start_time": "2021-12-25T14:15:23.650Z"
   },
   {
    "duration": 14,
    "start_time": "2021-12-25T14:15:52.290Z"
   },
   {
    "duration": 9,
    "start_time": "2021-12-25T14:16:09.089Z"
   },
   {
    "duration": 218,
    "start_time": "2021-12-25T14:16:13.361Z"
   },
   {
    "duration": 8,
    "start_time": "2021-12-25T14:16:16.409Z"
   },
   {
    "duration": 26,
    "start_time": "2021-12-25T14:17:20.471Z"
   },
   {
    "duration": 25,
    "start_time": "2021-12-25T14:17:24.185Z"
   },
   {
    "duration": 17,
    "start_time": "2021-12-25T14:17:36.107Z"
   },
   {
    "duration": 31,
    "start_time": "2021-12-25T14:17:55.296Z"
   },
   {
    "duration": 16,
    "start_time": "2021-12-25T14:17:55.800Z"
   },
   {
    "duration": 13,
    "start_time": "2021-12-25T14:18:43.720Z"
   },
   {
    "duration": 14,
    "start_time": "2021-12-25T14:19:04.824Z"
   },
   {
    "duration": 12,
    "start_time": "2021-12-25T14:19:40.231Z"
   },
   {
    "duration": 26,
    "start_time": "2021-12-25T14:20:05.767Z"
   },
   {
    "duration": 19,
    "start_time": "2021-12-25T14:21:02.079Z"
   },
   {
    "duration": 17,
    "start_time": "2021-12-25T14:21:10.318Z"
   },
   {
    "duration": 181,
    "start_time": "2021-12-25T14:23:40.149Z"
   },
   {
    "duration": 6,
    "start_time": "2021-12-25T14:23:46.088Z"
   },
   {
    "duration": 8,
    "start_time": "2021-12-25T14:24:03.061Z"
   },
   {
    "duration": 6,
    "start_time": "2021-12-25T14:24:15.790Z"
   },
   {
    "duration": 13,
    "start_time": "2021-12-25T14:24:29.989Z"
   },
   {
    "duration": 23,
    "start_time": "2021-12-25T14:26:36.900Z"
   },
   {
    "duration": 26,
    "start_time": "2021-12-25T14:27:13.852Z"
   },
   {
    "duration": 48,
    "start_time": "2021-12-25T14:27:40.547Z"
   },
   {
    "duration": 29,
    "start_time": "2021-12-25T14:27:42.300Z"
   },
   {
    "duration": 39,
    "start_time": "2021-12-25T14:34:48.935Z"
   },
   {
    "duration": 32,
    "start_time": "2021-12-25T14:34:51.174Z"
   },
   {
    "duration": 7,
    "start_time": "2021-12-25T14:35:01.273Z"
   },
   {
    "duration": 12,
    "start_time": "2021-12-25T14:35:02.431Z"
   },
   {
    "duration": 37,
    "start_time": "2021-12-25T14:36:18.415Z"
   },
   {
    "duration": 23,
    "start_time": "2021-12-25T14:36:18.989Z"
   },
   {
    "duration": 5,
    "start_time": "2021-12-25T14:36:19.581Z"
   },
   {
    "duration": 12,
    "start_time": "2021-12-25T14:36:20.406Z"
   },
   {
    "duration": 14,
    "start_time": "2021-12-25T14:36:22.406Z"
   },
   {
    "duration": 3,
    "start_time": "2021-12-25T14:36:52.327Z"
   },
   {
    "duration": 5,
    "start_time": "2021-12-25T14:37:00.151Z"
   },
   {
    "duration": 12,
    "start_time": "2021-12-25T14:37:01.277Z"
   },
   {
    "duration": 2,
    "start_time": "2021-12-25T14:37:09.450Z"
   },
   {
    "duration": 56,
    "start_time": "2021-12-25T14:37:09.526Z"
   },
   {
    "duration": 10,
    "start_time": "2021-12-25T14:37:09.632Z"
   },
   {
    "duration": 18,
    "start_time": "2021-12-25T14:37:09.688Z"
   },
   {
    "duration": 36,
    "start_time": "2021-12-25T14:37:09.784Z"
   },
   {
    "duration": 13,
    "start_time": "2021-12-25T14:37:09.821Z"
   },
   {
    "duration": 15,
    "start_time": "2021-12-25T14:37:10.469Z"
   },
   {
    "duration": 24,
    "start_time": "2021-12-25T14:37:10.821Z"
   },
   {
    "duration": 22,
    "start_time": "2021-12-25T14:37:11.174Z"
   },
   {
    "duration": 36,
    "start_time": "2021-12-25T14:37:12.438Z"
   },
   {
    "duration": 19,
    "start_time": "2021-12-25T14:37:13.373Z"
   },
   {
    "duration": 6,
    "start_time": "2021-12-25T14:37:14.925Z"
   },
   {
    "duration": 12,
    "start_time": "2021-12-25T14:37:16.910Z"
   },
   {
    "duration": 9,
    "start_time": "2021-12-25T14:37:27.007Z"
   },
   {
    "duration": 11,
    "start_time": "2021-12-25T14:37:57.814Z"
   },
   {
    "duration": 5,
    "start_time": "2021-12-25T14:38:08.846Z"
   },
   {
    "duration": 6,
    "start_time": "2021-12-25T14:38:21.295Z"
   },
   {
    "duration": 26,
    "start_time": "2021-12-25T14:38:24.998Z"
   },
   {
    "duration": 324,
    "start_time": "2021-12-25T14:39:53.637Z"
   },
   {
    "duration": 315,
    "start_time": "2021-12-25T14:40:09.117Z"
   },
   {
    "duration": 378,
    "start_time": "2021-12-25T14:40:16.981Z"
   },
   {
    "duration": 12,
    "start_time": "2021-12-25T14:41:30.869Z"
   },
   {
    "duration": 12,
    "start_time": "2021-12-25T14:41:46.916Z"
   },
   {
    "duration": 8,
    "start_time": "2021-12-25T14:42:40.956Z"
   },
   {
    "duration": 159,
    "start_time": "2021-12-25T14:42:52.307Z"
   },
   {
    "duration": 4,
    "start_time": "2021-12-25T14:43:06.148Z"
   },
   {
    "duration": 5,
    "start_time": "2021-12-25T14:43:41.419Z"
   },
   {
    "duration": 342,
    "start_time": "2021-12-25T14:43:44.460Z"
   },
   {
    "duration": 334,
    "start_time": "2021-12-25T14:44:01.307Z"
   },
   {
    "duration": 354,
    "start_time": "2021-12-25T14:44:06.299Z"
   },
   {
    "duration": 392,
    "start_time": "2021-12-25T14:45:49.547Z"
   },
   {
    "duration": 324,
    "start_time": "2021-12-25T14:46:12.258Z"
   },
   {
    "duration": 12,
    "start_time": "2021-12-25T14:46:28.233Z"
   },
   {
    "duration": 5,
    "start_time": "2021-12-25T14:46:33.401Z"
   },
   {
    "duration": 23,
    "start_time": "2021-12-25T14:53:47.455Z"
   },
   {
    "duration": 11,
    "start_time": "2021-12-25T14:55:07.685Z"
   },
   {
    "duration": 11,
    "start_time": "2021-12-25T14:55:23.142Z"
   },
   {
    "duration": 7,
    "start_time": "2021-12-25T14:55:28.725Z"
   },
   {
    "duration": 9,
    "start_time": "2021-12-25T14:55:34.845Z"
   },
   {
    "duration": 11,
    "start_time": "2021-12-25T14:56:42.292Z"
   },
   {
    "duration": 8,
    "start_time": "2021-12-25T14:56:47.660Z"
   },
   {
    "duration": 12,
    "start_time": "2021-12-25T14:56:50.429Z"
   },
   {
    "duration": 172,
    "start_time": "2021-12-25T14:57:03.885Z"
   },
   {
    "duration": 11,
    "start_time": "2021-12-25T14:57:52.909Z"
   },
   {
    "duration": 8,
    "start_time": "2021-12-25T14:57:57.172Z"
   },
   {
    "duration": 3,
    "start_time": "2021-12-25T15:01:31.594Z"
   },
   {
    "duration": 412,
    "start_time": "2021-12-25T15:01:59.992Z"
   },
   {
    "duration": 4,
    "start_time": "2021-12-25T15:02:25.288Z"
   },
   {
    "duration": 285,
    "start_time": "2021-12-25T15:02:25.688Z"
   },
   {
    "duration": 3,
    "start_time": "2021-12-25T15:03:25.648Z"
   },
   {
    "duration": 266,
    "start_time": "2021-12-25T15:03:26.184Z"
   },
   {
    "duration": 3,
    "start_time": "2021-12-25T15:03:36.440Z"
   },
   {
    "duration": 298,
    "start_time": "2021-12-25T15:03:38.487Z"
   },
   {
    "duration": 3,
    "start_time": "2021-12-25T15:03:51.504Z"
   },
   {
    "duration": 438,
    "start_time": "2021-12-25T15:03:51.911Z"
   },
   {
    "duration": 3,
    "start_time": "2021-12-25T15:04:02.072Z"
   },
   {
    "duration": 301,
    "start_time": "2021-12-25T15:04:04.207Z"
   },
   {
    "duration": 3,
    "start_time": "2021-12-25T15:05:33.207Z"
   },
   {
    "duration": 256,
    "start_time": "2021-12-25T15:05:33.566Z"
   },
   {
    "duration": 3,
    "start_time": "2021-12-25T15:07:49.532Z"
   },
   {
    "duration": 57,
    "start_time": "2021-12-25T15:07:49.868Z"
   },
   {
    "duration": 9,
    "start_time": "2021-12-25T15:07:50.357Z"
   },
   {
    "duration": 13,
    "start_time": "2021-12-25T15:07:50.740Z"
   },
   {
    "duration": 31,
    "start_time": "2021-12-25T15:07:51.324Z"
   },
   {
    "duration": 15,
    "start_time": "2021-12-25T15:07:51.524Z"
   },
   {
    "duration": 16,
    "start_time": "2021-12-25T15:07:52.124Z"
   },
   {
    "duration": 27,
    "start_time": "2021-12-25T15:07:52.524Z"
   },
   {
    "duration": 21,
    "start_time": "2021-12-25T15:07:52.924Z"
   },
   {
    "duration": 37,
    "start_time": "2021-12-25T15:07:54.692Z"
   },
   {
    "duration": 18,
    "start_time": "2021-12-25T15:07:55.956Z"
   },
   {
    "duration": 2,
    "start_time": "2021-12-25T15:07:56.772Z"
   },
   {
    "duration": 12,
    "start_time": "2021-12-25T15:07:57.484Z"
   },
   {
    "duration": 9,
    "start_time": "2021-12-25T15:07:59.908Z"
   },
   {
    "duration": 5,
    "start_time": "2021-12-25T15:08:00.116Z"
   },
   {
    "duration": 4,
    "start_time": "2021-12-25T15:08:00.587Z"
   },
   {
    "duration": 23,
    "start_time": "2021-12-25T15:08:02.020Z"
   },
   {
    "duration": 245,
    "start_time": "2021-12-25T15:08:06.667Z"
   },
   {
    "duration": 250,
    "start_time": "2021-12-25T15:08:07.899Z"
   },
   {
    "duration": 11,
    "start_time": "2021-12-25T15:08:08.155Z"
   },
   {
    "duration": 5,
    "start_time": "2021-12-25T15:08:12.875Z"
   },
   {
    "duration": 339,
    "start_time": "2021-12-25T15:08:13.940Z"
   },
   {
    "duration": 4,
    "start_time": "2021-12-25T15:08:23.949Z"
   },
   {
    "duration": 28,
    "start_time": "2021-12-25T15:08:24.372Z"
   },
   {
    "duration": 4,
    "start_time": "2021-12-25T15:09:59.611Z"
   },
   {
    "duration": 60,
    "start_time": "2021-12-25T15:10:08.548Z"
   },
   {
    "duration": 60,
    "start_time": "2021-12-25T15:11:39.016Z"
   },
   {
    "duration": 4,
    "start_time": "2021-12-25T15:13:24.985Z"
   },
   {
    "duration": 3,
    "start_time": "2021-12-25T15:13:26.928Z"
   },
   {
    "duration": 132,
    "start_time": "2021-12-25T15:14:12.057Z"
   },
   {
    "duration": 4,
    "start_time": "2021-12-25T15:15:02.161Z"
   },
   {
    "duration": 5,
    "start_time": "2021-12-25T15:15:09.553Z"
   },
   {
    "duration": 233,
    "start_time": "2021-12-25T15:17:24.646Z"
   },
   {
    "duration": 44,
    "start_time": "2021-12-25T15:17:38.727Z"
   },
   {
    "duration": 5,
    "start_time": "2021-12-25T15:18:29.232Z"
   },
   {
    "duration": 25,
    "start_time": "2021-12-25T15:18:32.206Z"
   },
   {
    "duration": 7,
    "start_time": "2021-12-25T15:18:41.383Z"
   },
   {
    "duration": 33,
    "start_time": "2021-12-25T15:18:44.909Z"
   },
   {
    "duration": 266,
    "start_time": "2021-12-25T15:19:10.445Z"
   },
   {
    "duration": 271,
    "start_time": "2021-12-25T15:19:17.598Z"
   },
   {
    "duration": 68,
    "start_time": "2021-12-25T15:19:23.565Z"
   },
   {
    "duration": 265,
    "start_time": "2021-12-25T15:19:25.661Z"
   },
   {
    "duration": 9,
    "start_time": "2021-12-25T15:19:33.837Z"
   },
   {
    "duration": 9,
    "start_time": "2021-12-25T15:19:42.030Z"
   },
   {
    "duration": 24,
    "start_time": "2021-12-25T15:19:51.310Z"
   },
   {
    "duration": 11,
    "start_time": "2021-12-25T15:20:06.277Z"
   },
   {
    "duration": 7,
    "start_time": "2021-12-25T15:22:43.924Z"
   },
   {
    "duration": 11,
    "start_time": "2021-12-25T15:23:51.955Z"
   },
   {
    "duration": 242,
    "start_time": "2021-12-25T15:24:35.108Z"
   },
   {
    "duration": 6,
    "start_time": "2021-12-25T15:25:10.555Z"
   },
   {
    "duration": 143,
    "start_time": "2021-12-25T15:25:35.457Z"
   },
   {
    "duration": 6,
    "start_time": "2021-12-25T15:25:41.474Z"
   },
   {
    "duration": 159,
    "start_time": "2021-12-25T15:25:45.891Z"
   },
   {
    "duration": 361,
    "start_time": "2021-12-25T15:25:53.387Z"
   },
   {
    "duration": 636,
    "start_time": "2021-12-25T15:26:18.938Z"
   },
   {
    "duration": 444,
    "start_time": "2021-12-25T15:26:28.878Z"
   },
   {
    "duration": 34,
    "start_time": "2021-12-25T15:29:08.631Z"
   },
   {
    "duration": 32,
    "start_time": "2021-12-25T15:29:16.440Z"
   },
   {
    "duration": 362,
    "start_time": "2021-12-25T15:29:19.647Z"
   },
   {
    "duration": 31,
    "start_time": "2021-12-25T15:29:37.800Z"
   },
   {
    "duration": 8,
    "start_time": "2021-12-25T15:30:08.360Z"
   },
   {
    "duration": 10,
    "start_time": "2021-12-25T15:30:39.559Z"
   },
   {
    "duration": 52,
    "start_time": "2021-12-25T15:31:43.295Z"
   },
   {
    "duration": 10,
    "start_time": "2021-12-25T15:31:49.366Z"
   },
   {
    "duration": 10,
    "start_time": "2021-12-25T15:32:01.823Z"
   },
   {
    "duration": 8,
    "start_time": "2021-12-25T15:32:18.135Z"
   },
   {
    "duration": 7,
    "start_time": "2021-12-25T15:32:19.936Z"
   },
   {
    "duration": 400,
    "start_time": "2021-12-25T15:32:26.398Z"
   },
   {
    "duration": 390,
    "start_time": "2021-12-25T15:32:32.006Z"
   },
   {
    "duration": 13,
    "start_time": "2021-12-25T15:36:00.131Z"
   },
   {
    "duration": 359,
    "start_time": "2021-12-25T15:36:05.053Z"
   },
   {
    "duration": 304,
    "start_time": "2021-12-25T15:38:05.805Z"
   },
   {
    "duration": 13,
    "start_time": "2021-12-25T15:43:00.488Z"
   },
   {
    "duration": 176,
    "start_time": "2021-12-25T15:43:15.618Z"
   },
   {
    "duration": 103,
    "start_time": "2021-12-25T15:43:20.777Z"
   },
   {
    "duration": 122,
    "start_time": "2021-12-25T15:43:26.609Z"
   },
   {
    "duration": 137,
    "start_time": "2021-12-25T15:43:30.601Z"
   },
   {
    "duration": 11,
    "start_time": "2021-12-25T15:43:37.857Z"
   },
   {
    "duration": 216,
    "start_time": "2021-12-25T15:43:38.633Z"
   },
   {
    "duration": 129,
    "start_time": "2021-12-25T15:43:43.353Z"
   },
   {
    "duration": 11,
    "start_time": "2021-12-25T15:44:47.385Z"
   },
   {
    "duration": 132,
    "start_time": "2021-12-25T15:44:50.169Z"
   },
   {
    "duration": 11,
    "start_time": "2021-12-25T15:46:05.704Z"
   },
   {
    "duration": 140,
    "start_time": "2021-12-25T15:46:13.296Z"
   },
   {
    "duration": 11,
    "start_time": "2021-12-25T15:47:30.311Z"
   },
   {
    "duration": 133,
    "start_time": "2021-12-25T15:47:33.911Z"
   },
   {
    "duration": 148,
    "start_time": "2021-12-25T15:47:39.120Z"
   },
   {
    "duration": 384,
    "start_time": "2021-12-25T15:48:16.951Z"
   },
   {
    "duration": 399,
    "start_time": "2021-12-25T15:48:32.558Z"
   },
   {
    "duration": 316,
    "start_time": "2021-12-25T15:48:56.462Z"
   },
   {
    "duration": 137,
    "start_time": "2021-12-25T15:49:07.055Z"
   },
   {
    "duration": 138,
    "start_time": "2021-12-25T15:49:21.478Z"
   },
   {
    "duration": 215,
    "start_time": "2021-12-25T15:49:29.413Z"
   },
   {
    "duration": 141,
    "start_time": "2021-12-25T15:49:37.550Z"
   },
   {
    "duration": 143,
    "start_time": "2021-12-25T15:49:43.358Z"
   },
   {
    "duration": 133,
    "start_time": "2021-12-25T15:49:52.943Z"
   },
   {
    "duration": 133,
    "start_time": "2021-12-25T15:50:01.078Z"
   },
   {
    "duration": 155,
    "start_time": "2021-12-25T15:50:08.957Z"
   },
   {
    "duration": 175,
    "start_time": "2021-12-25T15:50:15.590Z"
   },
   {
    "duration": 168,
    "start_time": "2021-12-25T15:50:27.293Z"
   },
   {
    "duration": 11,
    "start_time": "2021-12-25T15:51:24.339Z"
   },
   {
    "duration": 158,
    "start_time": "2021-12-25T15:51:29.756Z"
   },
   {
    "duration": 11,
    "start_time": "2021-12-25T15:52:05.228Z"
   },
   {
    "duration": 162,
    "start_time": "2021-12-25T15:52:10.989Z"
   },
   {
    "duration": 3,
    "start_time": "2021-12-25T15:57:35.369Z"
   },
   {
    "duration": 3822,
    "start_time": "2021-12-25T15:58:54.553Z"
   },
   {
    "duration": 3,
    "start_time": "2021-12-25T15:59:17.840Z"
   },
   {
    "duration": 3,
    "start_time": "2021-12-25T15:59:19.545Z"
   },
   {
    "duration": 3603,
    "start_time": "2021-12-25T15:59:22.617Z"
   },
   {
    "duration": 3,
    "start_time": "2021-12-25T16:00:02.801Z"
   },
   {
    "duration": 5844,
    "start_time": "2021-12-25T16:00:03.293Z"
   },
   {
    "duration": 3,
    "start_time": "2021-12-25T16:01:11.616Z"
   },
   {
    "duration": 3856,
    "start_time": "2021-12-25T16:01:13.312Z"
   },
   {
    "duration": 4,
    "start_time": "2021-12-25T16:02:35.289Z"
   },
   {
    "duration": 395,
    "start_time": "2021-12-25T16:02:35.640Z"
   },
   {
    "duration": 4,
    "start_time": "2021-12-25T16:03:49.862Z"
   },
   {
    "duration": 414,
    "start_time": "2021-12-25T16:04:00.926Z"
   },
   {
    "duration": 4,
    "start_time": "2021-12-25T16:04:07.898Z"
   },
   {
    "duration": 453,
    "start_time": "2021-12-25T16:04:09.919Z"
   },
   {
    "duration": 2,
    "start_time": "2021-12-25T16:04:28.711Z"
   },
   {
    "duration": 4,
    "start_time": "2021-12-25T16:04:29.549Z"
   },
   {
    "duration": 509,
    "start_time": "2021-12-25T16:04:29.766Z"
   },
   {
    "duration": 5,
    "start_time": "2021-12-25T16:04:31.549Z"
   },
   {
    "duration": 489,
    "start_time": "2021-12-25T16:04:31.797Z"
   },
   {
    "duration": 187,
    "start_time": "2021-12-25T16:05:04.518Z"
   },
   {
    "duration": 159,
    "start_time": "2021-12-25T16:05:11.253Z"
   },
   {
    "duration": 22,
    "start_time": "2021-12-25T16:07:37.253Z"
   },
   {
    "duration": 159,
    "start_time": "2021-12-25T16:07:44.901Z"
   },
   {
    "duration": 21,
    "start_time": "2021-12-25T16:08:00.125Z"
   },
   {
    "duration": 56,
    "start_time": "2021-12-25T16:09:41.828Z"
   },
   {
    "duration": 145,
    "start_time": "2021-12-25T16:09:46.444Z"
   },
   {
    "duration": 26,
    "start_time": "2021-12-25T16:10:03.988Z"
   },
   {
    "duration": 32,
    "start_time": "2021-12-25T16:10:23.204Z"
   },
   {
    "duration": 29,
    "start_time": "2021-12-25T16:10:32.004Z"
   },
   {
    "duration": 11,
    "start_time": "2021-12-25T16:11:30.043Z"
   },
   {
    "duration": 8,
    "start_time": "2021-12-25T16:12:53.266Z"
   },
   {
    "duration": 12,
    "start_time": "2021-12-25T16:12:58.906Z"
   },
   {
    "duration": 11,
    "start_time": "2021-12-25T16:13:14.954Z"
   },
   {
    "duration": 10,
    "start_time": "2021-12-25T16:14:43.441Z"
   },
   {
    "duration": 13,
    "start_time": "2021-12-25T16:15:30.025Z"
   },
   {
    "duration": 19,
    "start_time": "2021-12-25T16:15:35.633Z"
   },
   {
    "duration": 31,
    "start_time": "2021-12-25T16:17:08.048Z"
   },
   {
    "duration": 147,
    "start_time": "2021-12-25T16:17:14.905Z"
   },
   {
    "duration": 159,
    "start_time": "2021-12-25T16:17:45.600Z"
   },
   {
    "duration": 42,
    "start_time": "2021-12-25T16:23:52.606Z"
   },
   {
    "duration": 31,
    "start_time": "2021-12-25T16:23:57.325Z"
   },
   {
    "duration": 138,
    "start_time": "2021-12-25T16:24:16.965Z"
   },
   {
    "duration": 142,
    "start_time": "2021-12-25T16:24:24.997Z"
   },
   {
    "duration": 31,
    "start_time": "2021-12-25T16:24:31.900Z"
   },
   {
    "duration": 32,
    "start_time": "2021-12-25T16:24:37.084Z"
   },
   {
    "duration": 32,
    "start_time": "2021-12-25T16:24:50.668Z"
   },
   {
    "duration": 151,
    "start_time": "2021-12-25T16:25:04.036Z"
   },
   {
    "duration": 139,
    "start_time": "2021-12-25T16:25:07.452Z"
   },
   {
    "duration": 8,
    "start_time": "2021-12-25T16:26:28.540Z"
   },
   {
    "duration": 10,
    "start_time": "2021-12-25T16:26:45.563Z"
   },
   {
    "duration": 136,
    "start_time": "2021-12-25T16:26:50.635Z"
   },
   {
    "duration": 139,
    "start_time": "2021-12-25T16:26:53.123Z"
   },
   {
    "duration": 143,
    "start_time": "2021-12-25T16:27:00.043Z"
   },
   {
    "duration": 6,
    "start_time": "2021-12-25T16:27:03.947Z"
   },
   {
    "duration": 27,
    "start_time": "2021-12-25T16:27:25.539Z"
   },
   {
    "duration": 24,
    "start_time": "2021-12-25T16:27:42.443Z"
   },
   {
    "duration": 26,
    "start_time": "2021-12-25T16:27:48.379Z"
   },
   {
    "duration": 32,
    "start_time": "2021-12-25T16:28:01.675Z"
   },
   {
    "duration": 30,
    "start_time": "2021-12-25T16:28:18.931Z"
   },
   {
    "duration": 30,
    "start_time": "2021-12-25T16:28:35.443Z"
   },
   {
    "duration": 150,
    "start_time": "2021-12-25T16:28:46.700Z"
   },
   {
    "duration": 28,
    "start_time": "2021-12-25T16:29:00.938Z"
   },
   {
    "duration": 11,
    "start_time": "2021-12-25T16:30:45.624Z"
   },
   {
    "duration": 11,
    "start_time": "2021-12-25T16:32:06.809Z"
   },
   {
    "duration": 6,
    "start_time": "2021-12-25T16:32:07.832Z"
   },
   {
    "duration": 10,
    "start_time": "2021-12-25T16:32:22.575Z"
   },
   {
    "duration": 6,
    "start_time": "2021-12-25T16:32:23.192Z"
   },
   {
    "duration": 80,
    "start_time": "2021-12-25T21:22:10.198Z"
   },
   {
    "duration": 106,
    "start_time": "2021-12-25T21:22:21.988Z"
   },
   {
    "duration": 463,
    "start_time": "2021-12-25T21:22:45.497Z"
   },
   {
    "duration": 228,
    "start_time": "2021-12-25T21:23:56.360Z"
   },
   {
    "duration": 116,
    "start_time": "2021-12-25T21:24:06.902Z"
   },
   {
    "duration": 96,
    "start_time": "2021-12-25T21:24:44.686Z"
   },
   {
    "duration": 471,
    "start_time": "2021-12-25T21:25:23.421Z"
   },
   {
    "duration": 6,
    "start_time": "2021-12-25T21:25:42.214Z"
   },
   {
    "duration": 6,
    "start_time": "2021-12-25T21:26:56.421Z"
   },
   {
    "duration": 6,
    "start_time": "2021-12-25T21:27:02.804Z"
   },
   {
    "duration": 1224,
    "start_time": "2021-12-25T21:27:18.208Z"
   },
   {
    "duration": 60,
    "start_time": "2021-12-25T21:27:19.434Z"
   },
   {
    "duration": 10,
    "start_time": "2021-12-25T21:27:19.496Z"
   },
   {
    "duration": 13,
    "start_time": "2021-12-25T21:27:19.509Z"
   },
   {
    "duration": 49,
    "start_time": "2021-12-25T21:27:19.525Z"
   },
   {
    "duration": 13,
    "start_time": "2021-12-25T21:27:19.576Z"
   },
   {
    "duration": 14,
    "start_time": "2021-12-25T21:27:19.591Z"
   },
   {
    "duration": 55,
    "start_time": "2021-12-25T21:27:19.607Z"
   },
   {
    "duration": 22,
    "start_time": "2021-12-25T21:27:19.664Z"
   },
   {
    "duration": 37,
    "start_time": "2021-12-25T21:27:19.688Z"
   },
   {
    "duration": 44,
    "start_time": "2021-12-25T21:27:19.726Z"
   },
   {
    "duration": 2,
    "start_time": "2021-12-25T21:27:19.772Z"
   },
   {
    "duration": 19,
    "start_time": "2021-12-25T21:27:19.775Z"
   },
   {
    "duration": 16,
    "start_time": "2021-12-25T21:27:19.796Z"
   },
   {
    "duration": 16,
    "start_time": "2021-12-25T21:27:19.814Z"
   },
   {
    "duration": 4,
    "start_time": "2021-12-25T21:27:19.833Z"
   },
   {
    "duration": 42,
    "start_time": "2021-12-25T21:27:19.838Z"
   },
   {
    "duration": 264,
    "start_time": "2021-12-25T21:27:19.882Z"
   },
   {
    "duration": 256,
    "start_time": "2021-12-25T21:27:20.149Z"
   },
   {
    "duration": 12,
    "start_time": "2021-12-25T21:27:20.407Z"
   },
   {
    "duration": 27,
    "start_time": "2021-12-25T21:27:20.420Z"
   },
   {
    "duration": 371,
    "start_time": "2021-12-25T21:27:20.449Z"
   },
   {
    "duration": 3,
    "start_time": "2021-12-25T21:27:20.822Z"
   },
   {
    "duration": 45,
    "start_time": "2021-12-25T21:27:20.827Z"
   },
   {
    "duration": 62,
    "start_time": "2021-12-25T21:27:20.874Z"
   },
   {
    "duration": 5,
    "start_time": "2021-12-25T21:27:20.937Z"
   },
   {
    "duration": 22,
    "start_time": "2021-12-25T21:27:20.945Z"
   },
   {
    "duration": 22,
    "start_time": "2021-12-25T21:27:20.970Z"
   },
   {
    "duration": 22,
    "start_time": "2021-12-25T21:27:20.994Z"
   },
   {
    "duration": 253,
    "start_time": "2021-12-25T21:27:21.018Z"
   },
   {
    "duration": 372,
    "start_time": "2021-12-25T21:27:21.272Z"
   },
   {
    "duration": 37,
    "start_time": "2021-12-25T21:27:21.647Z"
   },
   {
    "duration": 378,
    "start_time": "2021-12-25T21:27:21.686Z"
   },
   {
    "duration": 9,
    "start_time": "2021-12-25T21:27:22.065Z"
   },
   {
    "duration": 499,
    "start_time": "2021-12-25T21:27:22.075Z"
   },
   {
    "duration": 393,
    "start_time": "2021-12-25T21:27:22.575Z"
   },
   {
    "duration": 3663,
    "start_time": "2021-12-25T21:27:22.969Z"
   },
   {
    "duration": 12,
    "start_time": "2021-12-25T21:27:26.633Z"
   },
   {
    "duration": 387,
    "start_time": "2021-12-25T21:27:26.660Z"
   },
   {
    "duration": 12,
    "start_time": "2021-12-25T21:27:27.049Z"
   },
   {
    "duration": 10,
    "start_time": "2021-12-25T21:27:27.062Z"
   },
   {
    "duration": 388,
    "start_time": "2021-12-25T21:27:27.074Z"
   },
   {
    "duration": 3,
    "start_time": "2021-12-25T21:27:27.464Z"
   },
   {
    "duration": 461,
    "start_time": "2021-12-25T21:27:27.469Z"
   },
   {
    "duration": 43,
    "start_time": "2021-12-25T21:27:27.932Z"
   },
   {
    "duration": 10,
    "start_time": "2021-12-25T21:27:27.977Z"
   },
   {
    "duration": 7,
    "start_time": "2021-12-25T21:27:27.990Z"
   },
   {
    "duration": 10,
    "start_time": "2021-12-25T21:27:27.999Z"
   },
   {
    "duration": 12,
    "start_time": "2021-12-25T21:27:28.010Z"
   },
   {
    "duration": 8,
    "start_time": "2021-12-25T21:27:28.024Z"
   },
   {
    "duration": 6,
    "start_time": "2021-12-25T21:27:28.060Z"
   },
   {
    "duration": 367,
    "start_time": "2022-01-30T11:09:59.352Z"
   },
   {
    "duration": 1559,
    "start_time": "2022-01-30T14:51:28.203Z"
   },
   {
    "duration": 79,
    "start_time": "2022-01-30T14:51:29.765Z"
   },
   {
    "duration": 24,
    "start_time": "2022-01-30T14:51:29.847Z"
   },
   {
    "duration": 23,
    "start_time": "2022-01-30T14:51:29.877Z"
   },
   {
    "duration": 73,
    "start_time": "2022-01-30T14:51:29.902Z"
   },
   {
    "duration": 26,
    "start_time": "2022-01-30T14:51:29.977Z"
   },
   {
    "duration": 27,
    "start_time": "2022-01-30T14:51:30.006Z"
   },
   {
    "duration": 40,
    "start_time": "2022-01-30T14:51:30.080Z"
   },
   {
    "duration": 55,
    "start_time": "2022-01-30T14:51:30.123Z"
   },
   {
    "duration": 60,
    "start_time": "2022-01-30T14:51:30.182Z"
   },
   {
    "duration": 52,
    "start_time": "2022-01-30T14:51:30.245Z"
   },
   {
    "duration": 3,
    "start_time": "2022-01-30T14:51:30.299Z"
   },
   {
    "duration": 24,
    "start_time": "2022-01-30T14:51:30.304Z"
   },
   {
    "duration": 45,
    "start_time": "2022-01-30T14:51:30.331Z"
   },
   {
    "duration": 31,
    "start_time": "2022-01-30T14:51:30.378Z"
   },
   {
    "duration": 16,
    "start_time": "2022-01-30T14:51:30.412Z"
   },
   {
    "duration": 47,
    "start_time": "2022-01-30T14:51:30.431Z"
   },
   {
    "duration": 450,
    "start_time": "2022-01-30T14:51:30.481Z"
   },
   {
    "duration": 469,
    "start_time": "2022-01-30T14:51:30.933Z"
   },
   {
    "duration": 17,
    "start_time": "2022-01-30T14:51:31.405Z"
   },
   {
    "duration": 18,
    "start_time": "2022-01-30T14:51:31.424Z"
   },
   {
    "duration": 590,
    "start_time": "2022-01-30T14:51:31.445Z"
   },
   {
    "duration": 5,
    "start_time": "2022-01-30T14:51:32.041Z"
   },
   {
    "duration": 55,
    "start_time": "2022-01-30T14:51:32.049Z"
   },
   {
    "duration": 106,
    "start_time": "2022-01-30T14:51:32.107Z"
   },
   {
    "duration": 5,
    "start_time": "2022-01-30T14:51:32.216Z"
   },
   {
    "duration": 19,
    "start_time": "2022-01-30T14:51:32.223Z"
   },
   {
    "duration": 25,
    "start_time": "2022-01-30T14:51:32.245Z"
   },
   {
    "duration": 21,
    "start_time": "2022-01-30T14:51:32.273Z"
   },
   {
    "duration": 421,
    "start_time": "2022-01-30T14:51:32.296Z"
   },
   {
    "duration": 591,
    "start_time": "2022-01-30T14:51:32.720Z"
   },
   {
    "duration": 67,
    "start_time": "2022-01-30T14:51:33.314Z"
   },
   {
    "duration": 600,
    "start_time": "2022-01-30T14:51:33.383Z"
   },
   {
    "duration": 11,
    "start_time": "2022-01-30T14:51:33.986Z"
   },
   {
    "duration": 642,
    "start_time": "2022-01-30T14:51:34.001Z"
   },
   {
    "duration": 592,
    "start_time": "2022-01-30T14:51:34.645Z"
   },
   {
    "duration": 5502,
    "start_time": "2022-01-30T14:51:35.239Z"
   },
   {
    "duration": 29,
    "start_time": "2022-01-30T14:51:40.744Z"
   },
   {
    "duration": 736,
    "start_time": "2022-01-30T14:51:40.775Z"
   },
   {
    "duration": 3,
    "start_time": "2022-01-30T14:51:41.513Z"
   },
   {
    "duration": 5,
    "start_time": "2022-01-30T14:51:41.519Z"
   },
   {
    "duration": 704,
    "start_time": "2022-01-30T14:51:41.527Z"
   },
   {
    "duration": 5,
    "start_time": "2022-01-30T14:51:42.235Z"
   },
   {
    "duration": 951,
    "start_time": "2022-01-30T14:51:42.244Z"
   },
   {
    "duration": 46,
    "start_time": "2022-01-30T14:51:43.200Z"
   },
   {
    "duration": 38,
    "start_time": "2022-01-30T14:51:43.248Z"
   },
   {
    "duration": 11,
    "start_time": "2022-01-30T14:51:43.289Z"
   },
   {
    "duration": 9,
    "start_time": "2022-01-30T14:51:43.302Z"
   },
   {
    "duration": 13,
    "start_time": "2022-01-30T14:51:43.314Z"
   },
   {
    "duration": 47,
    "start_time": "2022-01-30T14:51:43.329Z"
   },
   {
    "duration": 19,
    "start_time": "2022-01-30T14:51:43.378Z"
   }
  ],
  "kernelspec": {
   "display_name": "Python 3 (ipykernel)",
   "language": "python",
   "name": "python3"
  },
  "language_info": {
   "codemirror_mode": {
    "name": "ipython",
    "version": 3
   },
   "file_extension": ".py",
   "mimetype": "text/x-python",
   "name": "python",
   "nbconvert_exporter": "python",
   "pygments_lexer": "ipython3",
   "version": "3.10.1"
  },
  "toc": {
   "base_numbering": 1,
   "nav_menu": {},
   "number_sections": true,
   "sideBar": true,
   "skip_h1_title": true,
   "title_cell": "Table of Contents",
   "title_sidebar": "Contents",
   "toc_cell": false,
   "toc_position": {
    "height": "calc(100% - 180px)",
    "left": "10px",
    "top": "150px",
    "width": "238.396px"
   },
   "toc_section_display": true,
   "toc_window_display": true
  }
 },
 "nbformat": 4,
 "nbformat_minor": 2
}
