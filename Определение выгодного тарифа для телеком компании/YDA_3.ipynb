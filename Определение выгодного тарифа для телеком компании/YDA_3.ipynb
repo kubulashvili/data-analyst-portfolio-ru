{
 "cells": [
  {
   "cell_type": "markdown",
   "metadata": {},
   "source": [
    "# Содержание\n",
    "[1. Описание проекта](#section_1)\n",
    "\n",
    "[2. Изучение данных из файла](#section_2)\n",
    "\n",
    "[3. Предобработка данных](#section_3)\n",
    "\n",
    "[4. Анализ данных](#section_4)\n",
    "\n",
    "[5. Проверка гипотез](#section_5)\n",
    "\n",
    "[6. Общие выводы](#section_6)"
   ]
  },
  {
   "cell_type": "markdown",
   "metadata": {},
   "source": [
    "## Описание проекта\n",
    "<a id='section_1'><a/>\n",
    "    "
   ]
  },
  {
   "cell_type": "markdown",
   "metadata": {},
   "source": [
    "Клиентам предлагают два тарифных плана: «Смарт» и «Ультра». Нам предстоит сделать предварительный анализ тарифов на небольшой выборке клиентов. В вашем распоряжении данные 500 пользователей «Мегалайна»: кто они, откуда, каким тарифом пользуются, сколько звонков и сообщений каждый отправил за 2018 год. \n",
    "\n",
    "### Описание тарифов\n",
    "#### Тариф «Смарт»\n",
    "Ежемесячная плата: 550 рублей\n",
    "\n",
    "Включено 500 минут разговора, 50 сообщений и 15 Гб интернет-трафика\n",
    "\n",
    "Стоимость услуг сверх тарифного пакета: \n",
    "1. минута разговора: 3 рубля («Мегалайн» всегда округляет вверх значения минут и мегабайтов. Если пользователь проговорил всего 1 секунду, в тарифе засчитывается целая минута); \n",
    "2. сообщение: 3 рубля; \n",
    "3. 1 Гб интернет-трафика: 200 рублей.\n",
    "\n",
    "#### Тариф «Ультра»\n",
    "Ежемесячная плата: 1950 рублей\n",
    "\n",
    "Включено 3000 минут разговора, 1000 сообщений и 30 Гб интернет-трафика\n",
    "\n",
    "Стоимость услуг сверх тарифного пакета: \n",
    "1. минута разговора: 1 рубль; \n",
    "2. сообщение: 1 рубль; \n",
    "3. 1 Гб интернет-трафика: 150 рублей.\n",
    "\n",
    "## Цель исследования\n",
    "Нужно проанализировать поведение клиентов и сделать вывод — какой тариф лучше."
   ]
  },
  {
   "cell_type": "markdown",
   "metadata": {},
   "source": [
    "## Изучение данных из файла\n",
    "<a id='section_2'><a/>\n",
    " "
   ]
  },
  {
   "cell_type": "code",
   "execution_count": 1,
   "metadata": {},
   "outputs": [],
   "source": [
    "import pandas as pd\n",
    "import matplotlib.pyplot as plt\n",
    "import seaborn as sns\n",
    "import math\n",
    "import numpy as np\n",
    "from scipy import stats as st\n",
    "pd.options.mode.chained_assignment = None  # default='warn'"
   ]
  },
  {
   "cell_type": "code",
   "execution_count": 3,
   "metadata": {
    "scrolled": true
   },
   "outputs": [
    {
     "name": "stdout",
     "output_type": "stream",
     "text": [
      "<class 'pandas.core.frame.DataFrame'>\n",
      "RangeIndex: 202607 entries, 0 to 202606\n",
      "Data columns (total 4 columns):\n",
      " #   Column     Non-Null Count   Dtype  \n",
      "---  ------     --------------   -----  \n",
      " 0   id         202607 non-null  object \n",
      " 1   call_date  202607 non-null  object \n",
      " 2   duration   202607 non-null  float64\n",
      " 3   user_id    202607 non-null  int64  \n",
      "dtypes: float64(1), int64(1), object(2)\n",
      "memory usage: 6.2+ MB\n"
     ]
    },
    {
     "data": {
      "text/html": [
       "<div>\n",
       "<style scoped>\n",
       "    .dataframe tbody tr th:only-of-type {\n",
       "        vertical-align: middle;\n",
       "    }\n",
       "\n",
       "    .dataframe tbody tr th {\n",
       "        vertical-align: top;\n",
       "    }\n",
       "\n",
       "    .dataframe thead th {\n",
       "        text-align: right;\n",
       "    }\n",
       "</style>\n",
       "<table border=\"1\" class=\"dataframe\">\n",
       "  <thead>\n",
       "    <tr style=\"text-align: right;\">\n",
       "      <th></th>\n",
       "      <th>id</th>\n",
       "      <th>call_date</th>\n",
       "      <th>duration</th>\n",
       "      <th>user_id</th>\n",
       "    </tr>\n",
       "  </thead>\n",
       "  <tbody>\n",
       "    <tr>\n",
       "      <th>0</th>\n",
       "      <td>1000_0</td>\n",
       "      <td>2018-07-25</td>\n",
       "      <td>0.00</td>\n",
       "      <td>1000</td>\n",
       "    </tr>\n",
       "    <tr>\n",
       "      <th>1</th>\n",
       "      <td>1000_1</td>\n",
       "      <td>2018-08-17</td>\n",
       "      <td>0.00</td>\n",
       "      <td>1000</td>\n",
       "    </tr>\n",
       "    <tr>\n",
       "      <th>2</th>\n",
       "      <td>1000_2</td>\n",
       "      <td>2018-06-11</td>\n",
       "      <td>2.85</td>\n",
       "      <td>1000</td>\n",
       "    </tr>\n",
       "    <tr>\n",
       "      <th>3</th>\n",
       "      <td>1000_3</td>\n",
       "      <td>2018-09-21</td>\n",
       "      <td>13.80</td>\n",
       "      <td>1000</td>\n",
       "    </tr>\n",
       "    <tr>\n",
       "      <th>4</th>\n",
       "      <td>1000_4</td>\n",
       "      <td>2018-12-15</td>\n",
       "      <td>5.18</td>\n",
       "      <td>1000</td>\n",
       "    </tr>\n",
       "    <tr>\n",
       "      <th>...</th>\n",
       "      <td>...</td>\n",
       "      <td>...</td>\n",
       "      <td>...</td>\n",
       "      <td>...</td>\n",
       "    </tr>\n",
       "    <tr>\n",
       "      <th>202602</th>\n",
       "      <td>1499_215</td>\n",
       "      <td>2018-12-26</td>\n",
       "      <td>0.76</td>\n",
       "      <td>1499</td>\n",
       "    </tr>\n",
       "    <tr>\n",
       "      <th>202603</th>\n",
       "      <td>1499_216</td>\n",
       "      <td>2018-10-18</td>\n",
       "      <td>18.83</td>\n",
       "      <td>1499</td>\n",
       "    </tr>\n",
       "    <tr>\n",
       "      <th>202604</th>\n",
       "      <td>1499_217</td>\n",
       "      <td>2018-11-10</td>\n",
       "      <td>10.81</td>\n",
       "      <td>1499</td>\n",
       "    </tr>\n",
       "    <tr>\n",
       "      <th>202605</th>\n",
       "      <td>1499_218</td>\n",
       "      <td>2018-10-06</td>\n",
       "      <td>4.27</td>\n",
       "      <td>1499</td>\n",
       "    </tr>\n",
       "    <tr>\n",
       "      <th>202606</th>\n",
       "      <td>1499_219</td>\n",
       "      <td>2018-12-14</td>\n",
       "      <td>19.62</td>\n",
       "      <td>1499</td>\n",
       "    </tr>\n",
       "  </tbody>\n",
       "</table>\n",
       "<p>202607 rows × 4 columns</p>\n",
       "</div>"
      ],
      "text/plain": [
       "              id   call_date  duration  user_id\n",
       "0         1000_0  2018-07-25      0.00     1000\n",
       "1         1000_1  2018-08-17      0.00     1000\n",
       "2         1000_2  2018-06-11      2.85     1000\n",
       "3         1000_3  2018-09-21     13.80     1000\n",
       "4         1000_4  2018-12-15      5.18     1000\n",
       "...          ...         ...       ...      ...\n",
       "202602  1499_215  2018-12-26      0.76     1499\n",
       "202603  1499_216  2018-10-18     18.83     1499\n",
       "202604  1499_217  2018-11-10     10.81     1499\n",
       "202605  1499_218  2018-10-06      4.27     1499\n",
       "202606  1499_219  2018-12-14     19.62     1499\n",
       "\n",
       "[202607 rows x 4 columns]"
      ]
     },
     "execution_count": 3,
     "metadata": {},
     "output_type": "execute_result"
    }
   ],
   "source": [
    "calls = pd.read_csv('calls.csv')\n",
    "calls.info()\n",
    "calls"
   ]
  },
  {
   "cell_type": "code",
   "execution_count": 4,
   "metadata": {},
   "outputs": [
    {
     "name": "stdout",
     "output_type": "stream",
     "text": [
      "<class 'pandas.core.frame.DataFrame'>\n",
      "RangeIndex: 149396 entries, 0 to 149395\n",
      "Data columns (total 5 columns):\n",
      " #   Column        Non-Null Count   Dtype  \n",
      "---  ------        --------------   -----  \n",
      " 0   Unnamed: 0    149396 non-null  int64  \n",
      " 1   id            149396 non-null  object \n",
      " 2   mb_used       149396 non-null  float64\n",
      " 3   session_date  149396 non-null  object \n",
      " 4   user_id       149396 non-null  int64  \n",
      "dtypes: float64(1), int64(2), object(2)\n",
      "memory usage: 5.7+ MB\n"
     ]
    },
    {
     "data": {
      "text/html": [
       "<div>\n",
       "<style scoped>\n",
       "    .dataframe tbody tr th:only-of-type {\n",
       "        vertical-align: middle;\n",
       "    }\n",
       "\n",
       "    .dataframe tbody tr th {\n",
       "        vertical-align: top;\n",
       "    }\n",
       "\n",
       "    .dataframe thead th {\n",
       "        text-align: right;\n",
       "    }\n",
       "</style>\n",
       "<table border=\"1\" class=\"dataframe\">\n",
       "  <thead>\n",
       "    <tr style=\"text-align: right;\">\n",
       "      <th></th>\n",
       "      <th>Unnamed: 0</th>\n",
       "      <th>id</th>\n",
       "      <th>mb_used</th>\n",
       "      <th>session_date</th>\n",
       "      <th>user_id</th>\n",
       "    </tr>\n",
       "  </thead>\n",
       "  <tbody>\n",
       "    <tr>\n",
       "      <th>0</th>\n",
       "      <td>0</td>\n",
       "      <td>1000_0</td>\n",
       "      <td>112.95</td>\n",
       "      <td>2018-11-25</td>\n",
       "      <td>1000</td>\n",
       "    </tr>\n",
       "    <tr>\n",
       "      <th>1</th>\n",
       "      <td>1</td>\n",
       "      <td>1000_1</td>\n",
       "      <td>1052.81</td>\n",
       "      <td>2018-09-07</td>\n",
       "      <td>1000</td>\n",
       "    </tr>\n",
       "    <tr>\n",
       "      <th>2</th>\n",
       "      <td>2</td>\n",
       "      <td>1000_2</td>\n",
       "      <td>1197.26</td>\n",
       "      <td>2018-06-25</td>\n",
       "      <td>1000</td>\n",
       "    </tr>\n",
       "    <tr>\n",
       "      <th>3</th>\n",
       "      <td>3</td>\n",
       "      <td>1000_3</td>\n",
       "      <td>550.27</td>\n",
       "      <td>2018-08-22</td>\n",
       "      <td>1000</td>\n",
       "    </tr>\n",
       "    <tr>\n",
       "      <th>4</th>\n",
       "      <td>4</td>\n",
       "      <td>1000_4</td>\n",
       "      <td>302.56</td>\n",
       "      <td>2018-09-24</td>\n",
       "      <td>1000</td>\n",
       "    </tr>\n",
       "    <tr>\n",
       "      <th>...</th>\n",
       "      <td>...</td>\n",
       "      <td>...</td>\n",
       "      <td>...</td>\n",
       "      <td>...</td>\n",
       "      <td>...</td>\n",
       "    </tr>\n",
       "    <tr>\n",
       "      <th>149391</th>\n",
       "      <td>149391</td>\n",
       "      <td>1499_152</td>\n",
       "      <td>318.90</td>\n",
       "      <td>2018-10-03</td>\n",
       "      <td>1499</td>\n",
       "    </tr>\n",
       "    <tr>\n",
       "      <th>149392</th>\n",
       "      <td>149392</td>\n",
       "      <td>1499_153</td>\n",
       "      <td>490.13</td>\n",
       "      <td>2018-12-14</td>\n",
       "      <td>1499</td>\n",
       "    </tr>\n",
       "    <tr>\n",
       "      <th>149393</th>\n",
       "      <td>149393</td>\n",
       "      <td>1499_154</td>\n",
       "      <td>0.00</td>\n",
       "      <td>2018-10-27</td>\n",
       "      <td>1499</td>\n",
       "    </tr>\n",
       "    <tr>\n",
       "      <th>149394</th>\n",
       "      <td>149394</td>\n",
       "      <td>1499_155</td>\n",
       "      <td>1246.32</td>\n",
       "      <td>2018-11-26</td>\n",
       "      <td>1499</td>\n",
       "    </tr>\n",
       "    <tr>\n",
       "      <th>149395</th>\n",
       "      <td>149395</td>\n",
       "      <td>1499_156</td>\n",
       "      <td>544.37</td>\n",
       "      <td>2018-10-26</td>\n",
       "      <td>1499</td>\n",
       "    </tr>\n",
       "  </tbody>\n",
       "</table>\n",
       "<p>149396 rows × 5 columns</p>\n",
       "</div>"
      ],
      "text/plain": [
       "        Unnamed: 0        id  mb_used session_date  user_id\n",
       "0                0    1000_0   112.95   2018-11-25     1000\n",
       "1                1    1000_1  1052.81   2018-09-07     1000\n",
       "2                2    1000_2  1197.26   2018-06-25     1000\n",
       "3                3    1000_3   550.27   2018-08-22     1000\n",
       "4                4    1000_4   302.56   2018-09-24     1000\n",
       "...            ...       ...      ...          ...      ...\n",
       "149391      149391  1499_152   318.90   2018-10-03     1499\n",
       "149392      149392  1499_153   490.13   2018-12-14     1499\n",
       "149393      149393  1499_154     0.00   2018-10-27     1499\n",
       "149394      149394  1499_155  1246.32   2018-11-26     1499\n",
       "149395      149395  1499_156   544.37   2018-10-26     1499\n",
       "\n",
       "[149396 rows x 5 columns]"
      ]
     },
     "execution_count": 4,
     "metadata": {},
     "output_type": "execute_result"
    }
   ],
   "source": [
    "internet = pd.read_csv('internet.csv')\n",
    "internet.info()\n",
    "internet"
   ]
  },
  {
   "cell_type": "code",
   "execution_count": 5,
   "metadata": {
    "scrolled": true
   },
   "outputs": [
    {
     "name": "stdout",
     "output_type": "stream",
     "text": [
      "<class 'pandas.core.frame.DataFrame'>\n",
      "RangeIndex: 123036 entries, 0 to 123035\n",
      "Data columns (total 3 columns):\n",
      " #   Column        Non-Null Count   Dtype \n",
      "---  ------        --------------   ----- \n",
      " 0   id            123036 non-null  object\n",
      " 1   message_date  123036 non-null  object\n",
      " 2   user_id       123036 non-null  int64 \n",
      "dtypes: int64(1), object(2)\n",
      "memory usage: 2.8+ MB\n"
     ]
    },
    {
     "data": {
      "text/html": [
       "<div>\n",
       "<style scoped>\n",
       "    .dataframe tbody tr th:only-of-type {\n",
       "        vertical-align: middle;\n",
       "    }\n",
       "\n",
       "    .dataframe tbody tr th {\n",
       "        vertical-align: top;\n",
       "    }\n",
       "\n",
       "    .dataframe thead th {\n",
       "        text-align: right;\n",
       "    }\n",
       "</style>\n",
       "<table border=\"1\" class=\"dataframe\">\n",
       "  <thead>\n",
       "    <tr style=\"text-align: right;\">\n",
       "      <th></th>\n",
       "      <th>id</th>\n",
       "      <th>message_date</th>\n",
       "      <th>user_id</th>\n",
       "    </tr>\n",
       "  </thead>\n",
       "  <tbody>\n",
       "    <tr>\n",
       "      <th>0</th>\n",
       "      <td>1000_0</td>\n",
       "      <td>2018-06-27</td>\n",
       "      <td>1000</td>\n",
       "    </tr>\n",
       "    <tr>\n",
       "      <th>1</th>\n",
       "      <td>1000_1</td>\n",
       "      <td>2018-10-08</td>\n",
       "      <td>1000</td>\n",
       "    </tr>\n",
       "    <tr>\n",
       "      <th>2</th>\n",
       "      <td>1000_2</td>\n",
       "      <td>2018-08-04</td>\n",
       "      <td>1000</td>\n",
       "    </tr>\n",
       "    <tr>\n",
       "      <th>3</th>\n",
       "      <td>1000_3</td>\n",
       "      <td>2018-06-16</td>\n",
       "      <td>1000</td>\n",
       "    </tr>\n",
       "    <tr>\n",
       "      <th>4</th>\n",
       "      <td>1000_4</td>\n",
       "      <td>2018-12-05</td>\n",
       "      <td>1000</td>\n",
       "    </tr>\n",
       "    <tr>\n",
       "      <th>...</th>\n",
       "      <td>...</td>\n",
       "      <td>...</td>\n",
       "      <td>...</td>\n",
       "    </tr>\n",
       "    <tr>\n",
       "      <th>123031</th>\n",
       "      <td>1499_179</td>\n",
       "      <td>2018-12-12</td>\n",
       "      <td>1499</td>\n",
       "    </tr>\n",
       "    <tr>\n",
       "      <th>123032</th>\n",
       "      <td>1499_180</td>\n",
       "      <td>2018-09-28</td>\n",
       "      <td>1499</td>\n",
       "    </tr>\n",
       "    <tr>\n",
       "      <th>123033</th>\n",
       "      <td>1499_181</td>\n",
       "      <td>2018-09-27</td>\n",
       "      <td>1499</td>\n",
       "    </tr>\n",
       "    <tr>\n",
       "      <th>123034</th>\n",
       "      <td>1499_182</td>\n",
       "      <td>2018-11-15</td>\n",
       "      <td>1499</td>\n",
       "    </tr>\n",
       "    <tr>\n",
       "      <th>123035</th>\n",
       "      <td>1499_183</td>\n",
       "      <td>2018-11-16</td>\n",
       "      <td>1499</td>\n",
       "    </tr>\n",
       "  </tbody>\n",
       "</table>\n",
       "<p>123036 rows × 3 columns</p>\n",
       "</div>"
      ],
      "text/plain": [
       "              id message_date  user_id\n",
       "0         1000_0   2018-06-27     1000\n",
       "1         1000_1   2018-10-08     1000\n",
       "2         1000_2   2018-08-04     1000\n",
       "3         1000_3   2018-06-16     1000\n",
       "4         1000_4   2018-12-05     1000\n",
       "...          ...          ...      ...\n",
       "123031  1499_179   2018-12-12     1499\n",
       "123032  1499_180   2018-09-28     1499\n",
       "123033  1499_181   2018-09-27     1499\n",
       "123034  1499_182   2018-11-15     1499\n",
       "123035  1499_183   2018-11-16     1499\n",
       "\n",
       "[123036 rows x 3 columns]"
      ]
     },
     "execution_count": 5,
     "metadata": {},
     "output_type": "execute_result"
    }
   ],
   "source": [
    "messages = pd.read_csv('messages.csv')\n",
    "messages.info()\n",
    "messages"
   ]
  },
  {
   "cell_type": "code",
   "execution_count": 6,
   "metadata": {
    "scrolled": true
   },
   "outputs": [
    {
     "name": "stdout",
     "output_type": "stream",
     "text": [
      "<class 'pandas.core.frame.DataFrame'>\n",
      "RangeIndex: 2 entries, 0 to 1\n",
      "Data columns (total 8 columns):\n",
      " #   Column                 Non-Null Count  Dtype \n",
      "---  ------                 --------------  ----- \n",
      " 0   messages_included      2 non-null      int64 \n",
      " 1   mb_per_month_included  2 non-null      int64 \n",
      " 2   minutes_included       2 non-null      int64 \n",
      " 3   rub_monthly_fee        2 non-null      int64 \n",
      " 4   rub_per_gb             2 non-null      int64 \n",
      " 5   rub_per_message        2 non-null      int64 \n",
      " 6   rub_per_minute         2 non-null      int64 \n",
      " 7   tariff_name            2 non-null      object\n",
      "dtypes: int64(7), object(1)\n",
      "memory usage: 256.0+ bytes\n"
     ]
    },
    {
     "data": {
      "text/html": [
       "<div>\n",
       "<style scoped>\n",
       "    .dataframe tbody tr th:only-of-type {\n",
       "        vertical-align: middle;\n",
       "    }\n",
       "\n",
       "    .dataframe tbody tr th {\n",
       "        vertical-align: top;\n",
       "    }\n",
       "\n",
       "    .dataframe thead th {\n",
       "        text-align: right;\n",
       "    }\n",
       "</style>\n",
       "<table border=\"1\" class=\"dataframe\">\n",
       "  <thead>\n",
       "    <tr style=\"text-align: right;\">\n",
       "      <th></th>\n",
       "      <th>messages_included</th>\n",
       "      <th>mb_per_month_included</th>\n",
       "      <th>minutes_included</th>\n",
       "      <th>rub_monthly_fee</th>\n",
       "      <th>rub_per_gb</th>\n",
       "      <th>rub_per_message</th>\n",
       "      <th>rub_per_minute</th>\n",
       "      <th>tariff_name</th>\n",
       "    </tr>\n",
       "  </thead>\n",
       "  <tbody>\n",
       "    <tr>\n",
       "      <th>0</th>\n",
       "      <td>50</td>\n",
       "      <td>15360</td>\n",
       "      <td>500</td>\n",
       "      <td>550</td>\n",
       "      <td>200</td>\n",
       "      <td>3</td>\n",
       "      <td>3</td>\n",
       "      <td>smart</td>\n",
       "    </tr>\n",
       "    <tr>\n",
       "      <th>1</th>\n",
       "      <td>1000</td>\n",
       "      <td>30720</td>\n",
       "      <td>3000</td>\n",
       "      <td>1950</td>\n",
       "      <td>150</td>\n",
       "      <td>1</td>\n",
       "      <td>1</td>\n",
       "      <td>ultra</td>\n",
       "    </tr>\n",
       "  </tbody>\n",
       "</table>\n",
       "</div>"
      ],
      "text/plain": [
       "   messages_included  mb_per_month_included  minutes_included  \\\n",
       "0                 50                  15360               500   \n",
       "1               1000                  30720              3000   \n",
       "\n",
       "   rub_monthly_fee  rub_per_gb  rub_per_message  rub_per_minute tariff_name  \n",
       "0              550         200                3               3       smart  \n",
       "1             1950         150                1               1       ultra  "
      ]
     },
     "execution_count": 6,
     "metadata": {},
     "output_type": "execute_result"
    }
   ],
   "source": [
    "tariffs = pd.read_csv('tariffs.csv')\n",
    "tariffs.info()\n",
    "tariffs"
   ]
  },
  {
   "cell_type": "code",
   "execution_count": 7,
   "metadata": {
    "scrolled": true
   },
   "outputs": [
    {
     "name": "stdout",
     "output_type": "stream",
     "text": [
      "<class 'pandas.core.frame.DataFrame'>\n",
      "RangeIndex: 500 entries, 0 to 499\n",
      "Data columns (total 8 columns):\n",
      " #   Column      Non-Null Count  Dtype \n",
      "---  ------      --------------  ----- \n",
      " 0   user_id     500 non-null    int64 \n",
      " 1   age         500 non-null    int64 \n",
      " 2   churn_date  38 non-null     object\n",
      " 3   city        500 non-null    object\n",
      " 4   first_name  500 non-null    object\n",
      " 5   last_name   500 non-null    object\n",
      " 6   reg_date    500 non-null    object\n",
      " 7   tariff      500 non-null    object\n",
      "dtypes: int64(2), object(6)\n",
      "memory usage: 31.4+ KB\n"
     ]
    },
    {
     "data": {
      "text/html": [
       "<div>\n",
       "<style scoped>\n",
       "    .dataframe tbody tr th:only-of-type {\n",
       "        vertical-align: middle;\n",
       "    }\n",
       "\n",
       "    .dataframe tbody tr th {\n",
       "        vertical-align: top;\n",
       "    }\n",
       "\n",
       "    .dataframe thead th {\n",
       "        text-align: right;\n",
       "    }\n",
       "</style>\n",
       "<table border=\"1\" class=\"dataframe\">\n",
       "  <thead>\n",
       "    <tr style=\"text-align: right;\">\n",
       "      <th></th>\n",
       "      <th>user_id</th>\n",
       "      <th>age</th>\n",
       "      <th>churn_date</th>\n",
       "      <th>city</th>\n",
       "      <th>first_name</th>\n",
       "      <th>last_name</th>\n",
       "      <th>reg_date</th>\n",
       "      <th>tariff</th>\n",
       "    </tr>\n",
       "  </thead>\n",
       "  <tbody>\n",
       "    <tr>\n",
       "      <th>0</th>\n",
       "      <td>1000</td>\n",
       "      <td>52</td>\n",
       "      <td>NaN</td>\n",
       "      <td>Краснодар</td>\n",
       "      <td>Рафаил</td>\n",
       "      <td>Верещагин</td>\n",
       "      <td>2018-05-25</td>\n",
       "      <td>ultra</td>\n",
       "    </tr>\n",
       "    <tr>\n",
       "      <th>1</th>\n",
       "      <td>1001</td>\n",
       "      <td>41</td>\n",
       "      <td>NaN</td>\n",
       "      <td>Москва</td>\n",
       "      <td>Иван</td>\n",
       "      <td>Ежов</td>\n",
       "      <td>2018-11-01</td>\n",
       "      <td>smart</td>\n",
       "    </tr>\n",
       "    <tr>\n",
       "      <th>2</th>\n",
       "      <td>1002</td>\n",
       "      <td>59</td>\n",
       "      <td>NaN</td>\n",
       "      <td>Стерлитамак</td>\n",
       "      <td>Евгений</td>\n",
       "      <td>Абрамович</td>\n",
       "      <td>2018-06-17</td>\n",
       "      <td>smart</td>\n",
       "    </tr>\n",
       "    <tr>\n",
       "      <th>3</th>\n",
       "      <td>1003</td>\n",
       "      <td>23</td>\n",
       "      <td>NaN</td>\n",
       "      <td>Москва</td>\n",
       "      <td>Белла</td>\n",
       "      <td>Белякова</td>\n",
       "      <td>2018-08-17</td>\n",
       "      <td>ultra</td>\n",
       "    </tr>\n",
       "    <tr>\n",
       "      <th>4</th>\n",
       "      <td>1004</td>\n",
       "      <td>68</td>\n",
       "      <td>NaN</td>\n",
       "      <td>Новокузнецк</td>\n",
       "      <td>Татьяна</td>\n",
       "      <td>Авдеенко</td>\n",
       "      <td>2018-05-14</td>\n",
       "      <td>ultra</td>\n",
       "    </tr>\n",
       "    <tr>\n",
       "      <th>...</th>\n",
       "      <td>...</td>\n",
       "      <td>...</td>\n",
       "      <td>...</td>\n",
       "      <td>...</td>\n",
       "      <td>...</td>\n",
       "      <td>...</td>\n",
       "      <td>...</td>\n",
       "      <td>...</td>\n",
       "    </tr>\n",
       "    <tr>\n",
       "      <th>495</th>\n",
       "      <td>1495</td>\n",
       "      <td>65</td>\n",
       "      <td>NaN</td>\n",
       "      <td>Иркутск</td>\n",
       "      <td>Авксентий</td>\n",
       "      <td>Фокин</td>\n",
       "      <td>2018-08-28</td>\n",
       "      <td>ultra</td>\n",
       "    </tr>\n",
       "    <tr>\n",
       "      <th>496</th>\n",
       "      <td>1496</td>\n",
       "      <td>36</td>\n",
       "      <td>NaN</td>\n",
       "      <td>Вологда</td>\n",
       "      <td>Трифон</td>\n",
       "      <td>Блохин</td>\n",
       "      <td>2018-01-27</td>\n",
       "      <td>smart</td>\n",
       "    </tr>\n",
       "    <tr>\n",
       "      <th>497</th>\n",
       "      <td>1497</td>\n",
       "      <td>32</td>\n",
       "      <td>NaN</td>\n",
       "      <td>Челябинск</td>\n",
       "      <td>Каролина</td>\n",
       "      <td>Агеева</td>\n",
       "      <td>2018-10-09</td>\n",
       "      <td>smart</td>\n",
       "    </tr>\n",
       "    <tr>\n",
       "      <th>498</th>\n",
       "      <td>1498</td>\n",
       "      <td>68</td>\n",
       "      <td>2018-10-25</td>\n",
       "      <td>Владикавказ</td>\n",
       "      <td>Всеволод</td>\n",
       "      <td>Акимчин</td>\n",
       "      <td>2018-07-19</td>\n",
       "      <td>smart</td>\n",
       "    </tr>\n",
       "    <tr>\n",
       "      <th>499</th>\n",
       "      <td>1499</td>\n",
       "      <td>35</td>\n",
       "      <td>NaN</td>\n",
       "      <td>Пермь</td>\n",
       "      <td>Гектор</td>\n",
       "      <td>Корнилов</td>\n",
       "      <td>2018-09-27</td>\n",
       "      <td>smart</td>\n",
       "    </tr>\n",
       "  </tbody>\n",
       "</table>\n",
       "<p>500 rows × 8 columns</p>\n",
       "</div>"
      ],
      "text/plain": [
       "     user_id  age  churn_date         city first_name  last_name    reg_date  \\\n",
       "0       1000   52         NaN    Краснодар     Рафаил  Верещагин  2018-05-25   \n",
       "1       1001   41         NaN       Москва       Иван       Ежов  2018-11-01   \n",
       "2       1002   59         NaN  Стерлитамак    Евгений  Абрамович  2018-06-17   \n",
       "3       1003   23         NaN       Москва      Белла   Белякова  2018-08-17   \n",
       "4       1004   68         NaN  Новокузнецк    Татьяна   Авдеенко  2018-05-14   \n",
       "..       ...  ...         ...          ...        ...        ...         ...   \n",
       "495     1495   65         NaN      Иркутск  Авксентий      Фокин  2018-08-28   \n",
       "496     1496   36         NaN      Вологда     Трифон     Блохин  2018-01-27   \n",
       "497     1497   32         NaN    Челябинск   Каролина     Агеева  2018-10-09   \n",
       "498     1498   68  2018-10-25  Владикавказ   Всеволод    Акимчин  2018-07-19   \n",
       "499     1499   35         NaN        Пермь     Гектор   Корнилов  2018-09-27   \n",
       "\n",
       "    tariff  \n",
       "0    ultra  \n",
       "1    smart  \n",
       "2    smart  \n",
       "3    ultra  \n",
       "4    ultra  \n",
       "..     ...  \n",
       "495  ultra  \n",
       "496  smart  \n",
       "497  smart  \n",
       "498  smart  \n",
       "499  smart  \n",
       "\n",
       "[500 rows x 8 columns]"
      ]
     },
     "execution_count": 7,
     "metadata": {},
     "output_type": "execute_result"
    }
   ],
   "source": [
    "users = pd.read_csv('users.csv')\n",
    "users.info()\n",
    "users"
   ]
  },
  {
   "cell_type": "markdown",
   "metadata": {},
   "source": [
    "### Вывод"
   ]
  },
  {
   "cell_type": "markdown",
   "metadata": {},
   "source": [
    "В таблице calls 202 тыс. строк. Пропусков нет. Тип данных в call_date приведем к datetime.\n",
    "\n",
    "В таблице интернет 150 тыс. строк. Пропуков нет. Дублируются индекса в столбце Unnamed: 0. Session_date приведем к типу datetime.\n",
    "\n",
    "В таблице сообщения 123 тыс. строк. Пропусков нет. message_date приведем к типу datetime\n",
    "\n",
    "В таблице тарифы все корректно.\n",
    "\n",
    "В таблице users всего 500 строк, по кол-ву пользователей. Пропуски есть только в churn_date, подумаем чем можно заполнить. reg_date приведем к типу datetime."
   ]
  },
  {
   "cell_type": "markdown",
   "metadata": {},
   "source": [
    "## Предобработка данных\n",
    "<a id='section_3'><a/>\n",
    " "
   ]
  },
  {
   "cell_type": "markdown",
   "metadata": {},
   "source": [
    "Сначала переведем все даты во всех таблицах в тип datetime"
   ]
  },
  {
   "cell_type": "code",
   "execution_count": 8,
   "metadata": {},
   "outputs": [],
   "source": [
    "#используем функцию to_datetime из библиотеки пандас\n",
    "calls['call_date'] = pd.to_datetime(calls['call_date'], format='%Y-%m-%d')\n",
    "internet['session_date'] = pd.to_datetime(internet['session_date'], format='%Y-%m-%d')\n",
    "messages['message_date'] = pd.to_datetime(messages['message_date'], format='%Y-%m-%d')\n",
    "users['churn_date'] = pd.to_datetime(users['churn_date'], format='%Y-%m-%d')\n",
    "users['reg_date'] = pd.to_datetime(users['reg_date'], format='%Y-%m-%d')"
   ]
  },
  {
   "cell_type": "markdown",
   "metadata": {},
   "source": [
    "Столбец duration в calls надо округлить до целых значений. \n",
    "\n",
    "Нам надо узнать там даны секунды или минуты. Для этого построим гистограму и посмотрим на расспределение."
   ]
  },
  {
   "cell_type": "code",
   "execution_count": 9,
   "metadata": {
    "scrolled": true
   },
   "outputs": [
    {
     "data": {
      "text/plain": [
       "<AxesSubplot:>"
      ]
     },
     "execution_count": 9,
     "metadata": {},
     "output_type": "execute_result"
    },
    {
     "data": {
      "image/png": "[encoded data removed]",
      "text/plain": [
       "<Figure size 432x288 with 1 Axes>"
      ]
     },
     "metadata": {
      "needs_background": "light"
     },
     "output_type": "display_data"
    }
   ],
   "source": [
    "calls['duration'].hist(bins=35)"
   ]
  },
  {
   "cell_type": "markdown",
   "metadata": {},
   "source": [
    "Пик на 0 связан с тем, что за 0 принимаются звонки, которые никто не принял.\n",
    "\n",
    "Посмотрим сколько нулей мы имеем."
   ]
  },
  {
   "cell_type": "code",
   "execution_count": 10,
   "metadata": {
    "scrolled": true
   },
   "outputs": [
    {
     "data": {
      "text/plain": [
       "39613"
      ]
     },
     "execution_count": 10,
     "metadata": {},
     "output_type": "execute_result"
    }
   ],
   "source": [
    "sum(calls['duration'] == 0)"
   ]
  },
  {
   "cell_type": "markdown",
   "metadata": {},
   "source": [
    "39 тысяч нулей из 202 тысяч строк."
   ]
  },
  {
   "cell_type": "markdown",
   "metadata": {},
   "source": [
    "Вряд ли большнство звонков длятся меньше 20 секунд. Значит данные даны в минутах. Округлим значения до целого в большую сторону.\n"
   ]
  },
  {
   "cell_type": "code",
   "execution_count": 11,
   "metadata": {},
   "outputs": [],
   "source": [
    "#используем функцию окргуления из библиотеки numpy и сразу меняем тип данных до целого\n",
    "calls['duration'] = np.ceil(calls['duration']).astype('int')"
   ]
  },
  {
   "cell_type": "markdown",
   "metadata": {},
   "source": [
    "Добавим столбец месяц к таблицам сообщений, звонков и интернета для последующей группировки."
   ]
  },
  {
   "cell_type": "code",
   "execution_count": 12,
   "metadata": {
    "scrolled": false
   },
   "outputs": [],
   "source": [
    "calls['month'] = calls['call_date'].dt.month\n",
    "internet['month'] = internet['session_date'].dt.month\n",
    "messages['month'] = messages['message_date'].dt.month"
   ]
  },
  {
   "cell_type": "markdown",
   "metadata": {},
   "source": [
    "Рассмотрим таблицу users подробнее. Посмотрим все уникальные значения из столбцов с названием городов и тарифов."
   ]
  },
  {
   "cell_type": "code",
   "execution_count": 13,
   "metadata": {
    "scrolled": false
   },
   "outputs": [
    {
     "data": {
      "text/plain": [
       "array(['Архангельск', 'Астрахань', 'Балашиха', 'Барнаул', 'Белгород',\n",
       "       'Брянск', 'Владивосток', 'Владикавказ', 'Владимир', 'Волгоград',\n",
       "       'Волжский', 'Вологда', 'Воронеж', 'Грозный', 'Екатеринбург',\n",
       "       'Иваново', 'Ижевск', 'Иркутск', 'Казань', 'Калининград', 'Калуга',\n",
       "       'Кемерово', 'Киров', 'Кострома', 'Краснодар', 'Красноярск',\n",
       "       'Курган', 'Курск', 'Липецк', 'Магнитогорск', 'Махачкала', 'Москва',\n",
       "       'Мурманск', 'Набережные Челны', 'Нижневартовск', 'Нижний Новгород',\n",
       "       'Нижний Тагил', 'Новокузнецк', 'Новороссийск', 'Новосибирск',\n",
       "       'Омск', 'Оренбург', 'Орёл', 'Пенза', 'Пермь', 'Петрозаводск',\n",
       "       'Подольск', 'Ростов-на-Дону', 'Рязань', 'Самара',\n",
       "       'Санкт-Петербург', 'Саранск', 'Саратов', 'Севастополь', 'Смоленск',\n",
       "       'Сочи', 'Ставрополь', 'Стерлитамак', 'Сургут', 'Тамбов', 'Тверь',\n",
       "       'Тольятти', 'Томск', 'Тула', 'Тюмень', 'Улан-Удэ', 'Ульяновск',\n",
       "       'Уфа', 'Хабаровск', 'Химки', 'Чебоксары', 'Челябинск', 'Череповец',\n",
       "       'Чита', 'Якутск', 'Ярославль'], dtype=object)"
      ]
     },
     "metadata": {},
     "output_type": "display_data"
    },
    {
     "data": {
      "text/plain": [
       "array(['ultra', 'smart'], dtype=object)"
      ]
     },
     "metadata": {},
     "output_type": "display_data"
    }
   ],
   "source": [
    "display(users['city'].sort_values().unique())\n",
    "display(users['tariff'].unique())"
   ]
  },
  {
   "cell_type": "markdown",
   "metadata": {},
   "source": [
    "Группируем таблицу со звонками по id пользователя и месяцу. Функцию применияем суммирования."
   ]
  },
  {
   "cell_type": "code",
   "execution_count": 14,
   "metadata": {
    "scrolled": true
   },
   "outputs": [
    {
     "data": {
      "text/html": [
       "<div>\n",
       "<style scoped>\n",
       "    .dataframe tbody tr th:only-of-type {\n",
       "        vertical-align: middle;\n",
       "    }\n",
       "\n",
       "    .dataframe tbody tr th {\n",
       "        vertical-align: top;\n",
       "    }\n",
       "\n",
       "    .dataframe thead th {\n",
       "        text-align: right;\n",
       "    }\n",
       "</style>\n",
       "<table border=\"1\" class=\"dataframe\">\n",
       "  <thead>\n",
       "    <tr style=\"text-align: right;\">\n",
       "      <th></th>\n",
       "      <th>user_id</th>\n",
       "      <th>month</th>\n",
       "      <th>duration</th>\n",
       "    </tr>\n",
       "  </thead>\n",
       "  <tbody>\n",
       "    <tr>\n",
       "      <th>0</th>\n",
       "      <td>1000</td>\n",
       "      <td>5</td>\n",
       "      <td>159</td>\n",
       "    </tr>\n",
       "    <tr>\n",
       "      <th>1</th>\n",
       "      <td>1000</td>\n",
       "      <td>6</td>\n",
       "      <td>172</td>\n",
       "    </tr>\n",
       "    <tr>\n",
       "      <th>2</th>\n",
       "      <td>1000</td>\n",
       "      <td>7</td>\n",
       "      <td>340</td>\n",
       "    </tr>\n",
       "    <tr>\n",
       "      <th>3</th>\n",
       "      <td>1000</td>\n",
       "      <td>8</td>\n",
       "      <td>408</td>\n",
       "    </tr>\n",
       "    <tr>\n",
       "      <th>4</th>\n",
       "      <td>1000</td>\n",
       "      <td>9</td>\n",
       "      <td>466</td>\n",
       "    </tr>\n",
       "    <tr>\n",
       "      <th>...</th>\n",
       "      <td>...</td>\n",
       "      <td>...</td>\n",
       "      <td>...</td>\n",
       "    </tr>\n",
       "    <tr>\n",
       "      <th>3169</th>\n",
       "      <td>1498</td>\n",
       "      <td>10</td>\n",
       "      <td>247</td>\n",
       "    </tr>\n",
       "    <tr>\n",
       "      <th>3170</th>\n",
       "      <td>1499</td>\n",
       "      <td>9</td>\n",
       "      <td>70</td>\n",
       "    </tr>\n",
       "    <tr>\n",
       "      <th>3171</th>\n",
       "      <td>1499</td>\n",
       "      <td>10</td>\n",
       "      <td>449</td>\n",
       "    </tr>\n",
       "    <tr>\n",
       "      <th>3172</th>\n",
       "      <td>1499</td>\n",
       "      <td>11</td>\n",
       "      <td>612</td>\n",
       "    </tr>\n",
       "    <tr>\n",
       "      <th>3173</th>\n",
       "      <td>1499</td>\n",
       "      <td>12</td>\n",
       "      <td>492</td>\n",
       "    </tr>\n",
       "  </tbody>\n",
       "</table>\n",
       "<p>3174 rows × 3 columns</p>\n",
       "</div>"
      ],
      "text/plain": [
       "      user_id  month  duration\n",
       "0        1000      5       159\n",
       "1        1000      6       172\n",
       "2        1000      7       340\n",
       "3        1000      8       408\n",
       "4        1000      9       466\n",
       "...       ...    ...       ...\n",
       "3169     1498     10       247\n",
       "3170     1499      9        70\n",
       "3171     1499     10       449\n",
       "3172     1499     11       612\n",
       "3173     1499     12       492\n",
       "\n",
       "[3174 rows x 3 columns]"
      ]
     },
     "execution_count": 14,
     "metadata": {},
     "output_type": "execute_result"
    }
   ],
   "source": [
    "#обязательно ресетаем индексы\n",
    "calls = calls.groupby(['user_id','month']).agg({'duration': 'sum'}).reset_index()\n",
    "calls"
   ]
  },
  {
   "cell_type": "code",
   "execution_count": 15,
   "metadata": {
    "scrolled": true
   },
   "outputs": [
    {
     "name": "stdout",
     "output_type": "stream",
     "text": [
      "<class 'pandas.core.frame.DataFrame'>\n",
      "RangeIndex: 3203 entries, 0 to 3202\n",
      "Data columns (total 3 columns):\n",
      " #   Column   Non-Null Count  Dtype  \n",
      "---  ------   --------------  -----  \n",
      " 0   user_id  3203 non-null   int64  \n",
      " 1   month    3203 non-null   int64  \n",
      " 2   mb_used  3203 non-null   float64\n",
      "dtypes: float64(1), int64(2)\n",
      "memory usage: 75.2 KB\n"
     ]
    }
   ],
   "source": [
    "internet = internet.groupby(['user_id','month']).agg({'mb_used': 'sum'}).reset_index()\n",
    "internet\n",
    "internet.info()"
   ]
  },
  {
   "cell_type": "markdown",
   "metadata": {},
   "source": [
    "Данные по использованию трафика необходимо перевести в гигабайты. Для этого поделим все значения на 1024.\n",
    "\n",
    "После округлим в бОльшую сторону, заменим тип данных на целый и переименуем столбец в gb_used."
   ]
  },
  {
   "cell_type": "code",
   "execution_count": 16,
   "metadata": {},
   "outputs": [],
   "source": [
    "internet['mb_used'] = internet['mb_used'] / 1024\n",
    "internet['mb_used'] = np.ceil(internet['mb_used']).astype('int')"
   ]
  },
  {
   "cell_type": "code",
   "execution_count": 17,
   "metadata": {},
   "outputs": [],
   "source": [
    "internet = internet.rename(columns={'mb_used':'gb_used'})"
   ]
  },
  {
   "cell_type": "markdown",
   "metadata": {},
   "source": [
    "Группируем таблицу с СМС, как и остальные таблицы. Применяем функцию счета, а не суммирования.\n",
    "\n",
    "Переименовываем столбец."
   ]
  },
  {
   "cell_type": "code",
   "execution_count": 18,
   "metadata": {},
   "outputs": [
    {
     "data": {
      "text/html": [
       "<div>\n",
       "<style scoped>\n",
       "    .dataframe tbody tr th:only-of-type {\n",
       "        vertical-align: middle;\n",
       "    }\n",
       "\n",
       "    .dataframe tbody tr th {\n",
       "        vertical-align: top;\n",
       "    }\n",
       "\n",
       "    .dataframe thead th {\n",
       "        text-align: right;\n",
       "    }\n",
       "</style>\n",
       "<table border=\"1\" class=\"dataframe\">\n",
       "  <thead>\n",
       "    <tr style=\"text-align: right;\">\n",
       "      <th></th>\n",
       "      <th>user_id</th>\n",
       "      <th>month</th>\n",
       "      <th>sms_month_count</th>\n",
       "    </tr>\n",
       "  </thead>\n",
       "  <tbody>\n",
       "    <tr>\n",
       "      <th>0</th>\n",
       "      <td>1000</td>\n",
       "      <td>5</td>\n",
       "      <td>22</td>\n",
       "    </tr>\n",
       "    <tr>\n",
       "      <th>1</th>\n",
       "      <td>1000</td>\n",
       "      <td>6</td>\n",
       "      <td>60</td>\n",
       "    </tr>\n",
       "    <tr>\n",
       "      <th>2</th>\n",
       "      <td>1000</td>\n",
       "      <td>7</td>\n",
       "      <td>75</td>\n",
       "    </tr>\n",
       "    <tr>\n",
       "      <th>3</th>\n",
       "      <td>1000</td>\n",
       "      <td>8</td>\n",
       "      <td>81</td>\n",
       "    </tr>\n",
       "    <tr>\n",
       "      <th>4</th>\n",
       "      <td>1000</td>\n",
       "      <td>9</td>\n",
       "      <td>57</td>\n",
       "    </tr>\n",
       "    <tr>\n",
       "      <th>...</th>\n",
       "      <td>...</td>\n",
       "      <td>...</td>\n",
       "      <td>...</td>\n",
       "    </tr>\n",
       "    <tr>\n",
       "      <th>2712</th>\n",
       "      <td>1498</td>\n",
       "      <td>10</td>\n",
       "      <td>42</td>\n",
       "    </tr>\n",
       "    <tr>\n",
       "      <th>2713</th>\n",
       "      <td>1499</td>\n",
       "      <td>9</td>\n",
       "      <td>11</td>\n",
       "    </tr>\n",
       "    <tr>\n",
       "      <th>2714</th>\n",
       "      <td>1499</td>\n",
       "      <td>10</td>\n",
       "      <td>48</td>\n",
       "    </tr>\n",
       "    <tr>\n",
       "      <th>2715</th>\n",
       "      <td>1499</td>\n",
       "      <td>11</td>\n",
       "      <td>59</td>\n",
       "    </tr>\n",
       "    <tr>\n",
       "      <th>2716</th>\n",
       "      <td>1499</td>\n",
       "      <td>12</td>\n",
       "      <td>66</td>\n",
       "    </tr>\n",
       "  </tbody>\n",
       "</table>\n",
       "<p>2717 rows × 3 columns</p>\n",
       "</div>"
      ],
      "text/plain": [
       "      user_id  month  sms_month_count\n",
       "0        1000      5               22\n",
       "1        1000      6               60\n",
       "2        1000      7               75\n",
       "3        1000      8               81\n",
       "4        1000      9               57\n",
       "...       ...    ...              ...\n",
       "2712     1498     10               42\n",
       "2713     1499      9               11\n",
       "2714     1499     10               48\n",
       "2715     1499     11               59\n",
       "2716     1499     12               66\n",
       "\n",
       "[2717 rows x 3 columns]"
      ]
     },
     "execution_count": 18,
     "metadata": {},
     "output_type": "execute_result"
    }
   ],
   "source": [
    "messages = messages.groupby(['user_id','month']).agg({'id': 'count'}).reset_index()\n",
    "messages = messages.rename(columns={'id':'sms_month_count'})\n",
    "messages"
   ]
  },
  {
   "cell_type": "markdown",
   "metadata": {},
   "source": [
    "Типы изменили, пропуски заполнили, правильное написание составили. Осталось объеденить таблицы в одну."
   ]
  },
  {
   "cell_type": "code",
   "execution_count": 19,
   "metadata": {},
   "outputs": [],
   "source": [
    "data = calls.merge(internet, on = ['user_id', 'month'], how = 'outer')\n",
    "data = data.merge(messages, on = ['user_id', 'month'], how = 'outer')"
   ]
  },
  {
   "cell_type": "code",
   "execution_count": 20,
   "metadata": {
    "scrolled": true
   },
   "outputs": [
    {
     "name": "stdout",
     "output_type": "stream",
     "text": [
      "<class 'pandas.core.frame.DataFrame'>\n",
      "Int64Index: 3214 entries, 0 to 3213\n",
      "Data columns (total 5 columns):\n",
      " #   Column           Non-Null Count  Dtype  \n",
      "---  ------           --------------  -----  \n",
      " 0   user_id          3214 non-null   int64  \n",
      " 1   month            3214 non-null   int64  \n",
      " 2   duration         3174 non-null   float64\n",
      " 3   gb_used          3203 non-null   float64\n",
      " 4   sms_month_count  2717 non-null   float64\n",
      "dtypes: float64(3), int64(2)\n",
      "memory usage: 150.7 KB\n"
     ]
    },
    {
     "data": {
      "text/html": [
       "<div>\n",
       "<style scoped>\n",
       "    .dataframe tbody tr th:only-of-type {\n",
       "        vertical-align: middle;\n",
       "    }\n",
       "\n",
       "    .dataframe tbody tr th {\n",
       "        vertical-align: top;\n",
       "    }\n",
       "\n",
       "    .dataframe thead th {\n",
       "        text-align: right;\n",
       "    }\n",
       "</style>\n",
       "<table border=\"1\" class=\"dataframe\">\n",
       "  <thead>\n",
       "    <tr style=\"text-align: right;\">\n",
       "      <th></th>\n",
       "      <th>user_id</th>\n",
       "      <th>month</th>\n",
       "      <th>duration</th>\n",
       "      <th>gb_used</th>\n",
       "      <th>sms_month_count</th>\n",
       "    </tr>\n",
       "  </thead>\n",
       "  <tbody>\n",
       "    <tr>\n",
       "      <th>0</th>\n",
       "      <td>1000</td>\n",
       "      <td>5</td>\n",
       "      <td>159.0</td>\n",
       "      <td>3.0</td>\n",
       "      <td>22.0</td>\n",
       "    </tr>\n",
       "    <tr>\n",
       "      <th>1</th>\n",
       "      <td>1000</td>\n",
       "      <td>6</td>\n",
       "      <td>172.0</td>\n",
       "      <td>23.0</td>\n",
       "      <td>60.0</td>\n",
       "    </tr>\n",
       "    <tr>\n",
       "      <th>2</th>\n",
       "      <td>1000</td>\n",
       "      <td>7</td>\n",
       "      <td>340.0</td>\n",
       "      <td>14.0</td>\n",
       "      <td>75.0</td>\n",
       "    </tr>\n",
       "    <tr>\n",
       "      <th>3</th>\n",
       "      <td>1000</td>\n",
       "      <td>8</td>\n",
       "      <td>408.0</td>\n",
       "      <td>14.0</td>\n",
       "      <td>81.0</td>\n",
       "    </tr>\n",
       "    <tr>\n",
       "      <th>4</th>\n",
       "      <td>1000</td>\n",
       "      <td>9</td>\n",
       "      <td>466.0</td>\n",
       "      <td>15.0</td>\n",
       "      <td>57.0</td>\n",
       "    </tr>\n",
       "    <tr>\n",
       "      <th>...</th>\n",
       "      <td>...</td>\n",
       "      <td>...</td>\n",
       "      <td>...</td>\n",
       "      <td>...</td>\n",
       "      <td>...</td>\n",
       "    </tr>\n",
       "    <tr>\n",
       "      <th>3209</th>\n",
       "      <td>1489</td>\n",
       "      <td>8</td>\n",
       "      <td>NaN</td>\n",
       "      <td>11.0</td>\n",
       "      <td>17.0</td>\n",
       "    </tr>\n",
       "    <tr>\n",
       "      <th>3210</th>\n",
       "      <td>1489</td>\n",
       "      <td>9</td>\n",
       "      <td>NaN</td>\n",
       "      <td>17.0</td>\n",
       "      <td>32.0</td>\n",
       "    </tr>\n",
       "    <tr>\n",
       "      <th>3211</th>\n",
       "      <td>1489</td>\n",
       "      <td>10</td>\n",
       "      <td>NaN</td>\n",
       "      <td>20.0</td>\n",
       "      <td>21.0</td>\n",
       "    </tr>\n",
       "    <tr>\n",
       "      <th>3212</th>\n",
       "      <td>1489</td>\n",
       "      <td>11</td>\n",
       "      <td>NaN</td>\n",
       "      <td>18.0</td>\n",
       "      <td>20.0</td>\n",
       "    </tr>\n",
       "    <tr>\n",
       "      <th>3213</th>\n",
       "      <td>1489</td>\n",
       "      <td>12</td>\n",
       "      <td>NaN</td>\n",
       "      <td>17.0</td>\n",
       "      <td>35.0</td>\n",
       "    </tr>\n",
       "  </tbody>\n",
       "</table>\n",
       "<p>3214 rows × 5 columns</p>\n",
       "</div>"
      ],
      "text/plain": [
       "      user_id  month  duration  gb_used  sms_month_count\n",
       "0        1000      5     159.0      3.0             22.0\n",
       "1        1000      6     172.0     23.0             60.0\n",
       "2        1000      7     340.0     14.0             75.0\n",
       "3        1000      8     408.0     14.0             81.0\n",
       "4        1000      9     466.0     15.0             57.0\n",
       "...       ...    ...       ...      ...              ...\n",
       "3209     1489      8       NaN     11.0             17.0\n",
       "3210     1489      9       NaN     17.0             32.0\n",
       "3211     1489     10       NaN     20.0             21.0\n",
       "3212     1489     11       NaN     18.0             20.0\n",
       "3213     1489     12       NaN     17.0             35.0\n",
       "\n",
       "[3214 rows x 5 columns]"
      ]
     },
     "execution_count": 20,
     "metadata": {},
     "output_type": "execute_result"
    }
   ],
   "source": [
    "data.info()\n",
    "data"
   ]
  },
  {
   "cell_type": "markdown",
   "metadata": {},
   "source": [
    "К таблице с звонками, трафиком и смс добавим таблицу с данными пользователей и данные по тарифам."
   ]
  },
  {
   "cell_type": "code",
   "execution_count": 21,
   "metadata": {},
   "outputs": [],
   "source": [
    "data = data.merge(users, on = ['user_id'], how = 'outer')"
   ]
  },
  {
   "cell_type": "code",
   "execution_count": 22,
   "metadata": {
    "scrolled": false
   },
   "outputs": [
    {
     "name": "stdout",
     "output_type": "stream",
     "text": [
      "<class 'pandas.core.frame.DataFrame'>\n",
      "Int64Index: 3216 entries, 0 to 3215\n",
      "Data columns (total 19 columns):\n",
      " #   Column                 Non-Null Count  Dtype         \n",
      "---  ------                 --------------  -----         \n",
      " 0   user_id                3216 non-null   int64         \n",
      " 1   month                  3214 non-null   float64       \n",
      " 2   duration               3174 non-null   float64       \n",
      " 3   gb_used                3203 non-null   float64       \n",
      " 4   sms_month_count        2717 non-null   float64       \n",
      " 5   age                    3216 non-null   int64         \n",
      " 6   churn_date             189 non-null    datetime64[ns]\n",
      " 7   city                   3216 non-null   object        \n",
      " 8   first_name             3216 non-null   object        \n",
      " 9   last_name              3216 non-null   object        \n",
      " 10  reg_date               3216 non-null   datetime64[ns]\n",
      " 11  tariff                 3216 non-null   object        \n",
      " 12  messages_included      3216 non-null   int64         \n",
      " 13  mb_per_month_included  3216 non-null   int64         \n",
      " 14  minutes_included       3216 non-null   int64         \n",
      " 15  rub_monthly_fee        3216 non-null   int64         \n",
      " 16  rub_per_gb             3216 non-null   int64         \n",
      " 17  rub_per_message        3216 non-null   int64         \n",
      " 18  rub_per_minute         3216 non-null   int64         \n",
      "dtypes: datetime64[ns](2), float64(4), int64(9), object(4)\n",
      "memory usage: 502.5+ KB\n"
     ]
    }
   ],
   "source": [
    "tariffs = tariffs.rename(columns={'tariff_name':'tariff'})\n",
    "data = data.merge(tariffs, on = ['tariff'], how = 'outer')\n",
    "data.info()"
   ]
  },
  {
   "cell_type": "code",
   "execution_count": 23,
   "metadata": {
    "scrolled": false
   },
   "outputs": [
    {
     "name": "stdout",
     "output_type": "stream",
     "text": [
      "<class 'pandas.core.frame.DataFrame'>\n",
      "Int64Index: 3216 entries, 0 to 3215\n",
      "Data columns (total 19 columns):\n",
      " #   Column                 Non-Null Count  Dtype         \n",
      "---  ------                 --------------  -----         \n",
      " 0   user_id                3216 non-null   int64         \n",
      " 1   month                  3214 non-null   float64       \n",
      " 2   duration               3174 non-null   float64       \n",
      " 3   gb_used                3203 non-null   float64       \n",
      " 4   sms_month_count        2717 non-null   float64       \n",
      " 5   age                    3216 non-null   int64         \n",
      " 6   churn_date             189 non-null    datetime64[ns]\n",
      " 7   city                   3216 non-null   object        \n",
      " 8   first_name             3216 non-null   object        \n",
      " 9   last_name              3216 non-null   object        \n",
      " 10  reg_date               3216 non-null   datetime64[ns]\n",
      " 11  tariff                 3216 non-null   object        \n",
      " 12  messages_included      3216 non-null   int64         \n",
      " 13  gb_per_month_included  3216 non-null   int64         \n",
      " 14  minutes_included       3216 non-null   int64         \n",
      " 15  rub_monthly_fee        3216 non-null   int64         \n",
      " 16  rub_per_gb             3216 non-null   int64         \n",
      " 17  rub_per_message        3216 non-null   int64         \n",
      " 18  rub_per_minute         3216 non-null   int64         \n",
      "dtypes: datetime64[ns](2), float64(4), int64(9), object(4)\n",
      "memory usage: 502.5+ KB\n"
     ]
    }
   ],
   "source": [
    "data = data.rename(columns={'mb_per_month_included':'gb_per_month_included'})\n",
    "data.info()"
   ]
  },
  {
   "cell_type": "markdown",
   "metadata": {},
   "source": [
    "Столбец mb_per_month_included переведем в гигайбайты и переименуем."
   ]
  },
  {
   "cell_type": "code",
   "execution_count": 24,
   "metadata": {
    "scrolled": false
   },
   "outputs": [
    {
     "data": {
      "text/html": [
       "<div>\n",
       "<style scoped>\n",
       "    .dataframe tbody tr th:only-of-type {\n",
       "        vertical-align: middle;\n",
       "    }\n",
       "\n",
       "    .dataframe tbody tr th {\n",
       "        vertical-align: top;\n",
       "    }\n",
       "\n",
       "    .dataframe thead th {\n",
       "        text-align: right;\n",
       "    }\n",
       "</style>\n",
       "<table border=\"1\" class=\"dataframe\">\n",
       "  <thead>\n",
       "    <tr style=\"text-align: right;\">\n",
       "      <th></th>\n",
       "      <th>user_id</th>\n",
       "      <th>month</th>\n",
       "      <th>duration</th>\n",
       "      <th>gb_used</th>\n",
       "      <th>sms_month_count</th>\n",
       "      <th>age</th>\n",
       "      <th>churn_date</th>\n",
       "      <th>city</th>\n",
       "      <th>first_name</th>\n",
       "      <th>last_name</th>\n",
       "      <th>reg_date</th>\n",
       "      <th>tariff</th>\n",
       "      <th>messages_included</th>\n",
       "      <th>gb_per_month_included</th>\n",
       "      <th>minutes_included</th>\n",
       "      <th>rub_monthly_fee</th>\n",
       "      <th>rub_per_gb</th>\n",
       "      <th>rub_per_message</th>\n",
       "      <th>rub_per_minute</th>\n",
       "    </tr>\n",
       "  </thead>\n",
       "  <tbody>\n",
       "    <tr>\n",
       "      <th>0</th>\n",
       "      <td>1000</td>\n",
       "      <td>5.0</td>\n",
       "      <td>159.0</td>\n",
       "      <td>3.0</td>\n",
       "      <td>22.0</td>\n",
       "      <td>52</td>\n",
       "      <td>NaT</td>\n",
       "      <td>Краснодар</td>\n",
       "      <td>Рафаил</td>\n",
       "      <td>Верещагин</td>\n",
       "      <td>2018-05-25</td>\n",
       "      <td>ultra</td>\n",
       "      <td>1000</td>\n",
       "      <td>30</td>\n",
       "      <td>3000</td>\n",
       "      <td>1950</td>\n",
       "      <td>150</td>\n",
       "      <td>1</td>\n",
       "      <td>1</td>\n",
       "    </tr>\n",
       "    <tr>\n",
       "      <th>1</th>\n",
       "      <td>1000</td>\n",
       "      <td>6.0</td>\n",
       "      <td>172.0</td>\n",
       "      <td>23.0</td>\n",
       "      <td>60.0</td>\n",
       "      <td>52</td>\n",
       "      <td>NaT</td>\n",
       "      <td>Краснодар</td>\n",
       "      <td>Рафаил</td>\n",
       "      <td>Верещагин</td>\n",
       "      <td>2018-05-25</td>\n",
       "      <td>ultra</td>\n",
       "      <td>1000</td>\n",
       "      <td>30</td>\n",
       "      <td>3000</td>\n",
       "      <td>1950</td>\n",
       "      <td>150</td>\n",
       "      <td>1</td>\n",
       "      <td>1</td>\n",
       "    </tr>\n",
       "    <tr>\n",
       "      <th>2</th>\n",
       "      <td>1000</td>\n",
       "      <td>7.0</td>\n",
       "      <td>340.0</td>\n",
       "      <td>14.0</td>\n",
       "      <td>75.0</td>\n",
       "      <td>52</td>\n",
       "      <td>NaT</td>\n",
       "      <td>Краснодар</td>\n",
       "      <td>Рафаил</td>\n",
       "      <td>Верещагин</td>\n",
       "      <td>2018-05-25</td>\n",
       "      <td>ultra</td>\n",
       "      <td>1000</td>\n",
       "      <td>30</td>\n",
       "      <td>3000</td>\n",
       "      <td>1950</td>\n",
       "      <td>150</td>\n",
       "      <td>1</td>\n",
       "      <td>1</td>\n",
       "    </tr>\n",
       "    <tr>\n",
       "      <th>3</th>\n",
       "      <td>1000</td>\n",
       "      <td>8.0</td>\n",
       "      <td>408.0</td>\n",
       "      <td>14.0</td>\n",
       "      <td>81.0</td>\n",
       "      <td>52</td>\n",
       "      <td>NaT</td>\n",
       "      <td>Краснодар</td>\n",
       "      <td>Рафаил</td>\n",
       "      <td>Верещагин</td>\n",
       "      <td>2018-05-25</td>\n",
       "      <td>ultra</td>\n",
       "      <td>1000</td>\n",
       "      <td>30</td>\n",
       "      <td>3000</td>\n",
       "      <td>1950</td>\n",
       "      <td>150</td>\n",
       "      <td>1</td>\n",
       "      <td>1</td>\n",
       "    </tr>\n",
       "    <tr>\n",
       "      <th>4</th>\n",
       "      <td>1000</td>\n",
       "      <td>9.0</td>\n",
       "      <td>466.0</td>\n",
       "      <td>15.0</td>\n",
       "      <td>57.0</td>\n",
       "      <td>52</td>\n",
       "      <td>NaT</td>\n",
       "      <td>Краснодар</td>\n",
       "      <td>Рафаил</td>\n",
       "      <td>Верещагин</td>\n",
       "      <td>2018-05-25</td>\n",
       "      <td>ultra</td>\n",
       "      <td>1000</td>\n",
       "      <td>30</td>\n",
       "      <td>3000</td>\n",
       "      <td>1950</td>\n",
       "      <td>150</td>\n",
       "      <td>1</td>\n",
       "      <td>1</td>\n",
       "    </tr>\n",
       "    <tr>\n",
       "      <th>...</th>\n",
       "      <td>...</td>\n",
       "      <td>...</td>\n",
       "      <td>...</td>\n",
       "      <td>...</td>\n",
       "      <td>...</td>\n",
       "      <td>...</td>\n",
       "      <td>...</td>\n",
       "      <td>...</td>\n",
       "      <td>...</td>\n",
       "      <td>...</td>\n",
       "      <td>...</td>\n",
       "      <td>...</td>\n",
       "      <td>...</td>\n",
       "      <td>...</td>\n",
       "      <td>...</td>\n",
       "      <td>...</td>\n",
       "      <td>...</td>\n",
       "      <td>...</td>\n",
       "      <td>...</td>\n",
       "    </tr>\n",
       "    <tr>\n",
       "      <th>3211</th>\n",
       "      <td>1489</td>\n",
       "      <td>9.0</td>\n",
       "      <td>NaN</td>\n",
       "      <td>17.0</td>\n",
       "      <td>32.0</td>\n",
       "      <td>35</td>\n",
       "      <td>NaT</td>\n",
       "      <td>Санкт-Петербург</td>\n",
       "      <td>Павел</td>\n",
       "      <td>Гончаров</td>\n",
       "      <td>2018-08-15</td>\n",
       "      <td>smart</td>\n",
       "      <td>50</td>\n",
       "      <td>15</td>\n",
       "      <td>500</td>\n",
       "      <td>550</td>\n",
       "      <td>200</td>\n",
       "      <td>3</td>\n",
       "      <td>3</td>\n",
       "    </tr>\n",
       "    <tr>\n",
       "      <th>3212</th>\n",
       "      <td>1489</td>\n",
       "      <td>10.0</td>\n",
       "      <td>NaN</td>\n",
       "      <td>20.0</td>\n",
       "      <td>21.0</td>\n",
       "      <td>35</td>\n",
       "      <td>NaT</td>\n",
       "      <td>Санкт-Петербург</td>\n",
       "      <td>Павел</td>\n",
       "      <td>Гончаров</td>\n",
       "      <td>2018-08-15</td>\n",
       "      <td>smart</td>\n",
       "      <td>50</td>\n",
       "      <td>15</td>\n",
       "      <td>500</td>\n",
       "      <td>550</td>\n",
       "      <td>200</td>\n",
       "      <td>3</td>\n",
       "      <td>3</td>\n",
       "    </tr>\n",
       "    <tr>\n",
       "      <th>3213</th>\n",
       "      <td>1489</td>\n",
       "      <td>11.0</td>\n",
       "      <td>NaN</td>\n",
       "      <td>18.0</td>\n",
       "      <td>20.0</td>\n",
       "      <td>35</td>\n",
       "      <td>NaT</td>\n",
       "      <td>Санкт-Петербург</td>\n",
       "      <td>Павел</td>\n",
       "      <td>Гончаров</td>\n",
       "      <td>2018-08-15</td>\n",
       "      <td>smart</td>\n",
       "      <td>50</td>\n",
       "      <td>15</td>\n",
       "      <td>500</td>\n",
       "      <td>550</td>\n",
       "      <td>200</td>\n",
       "      <td>3</td>\n",
       "      <td>3</td>\n",
       "    </tr>\n",
       "    <tr>\n",
       "      <th>3214</th>\n",
       "      <td>1489</td>\n",
       "      <td>12.0</td>\n",
       "      <td>NaN</td>\n",
       "      <td>17.0</td>\n",
       "      <td>35.0</td>\n",
       "      <td>35</td>\n",
       "      <td>NaT</td>\n",
       "      <td>Санкт-Петербург</td>\n",
       "      <td>Павел</td>\n",
       "      <td>Гончаров</td>\n",
       "      <td>2018-08-15</td>\n",
       "      <td>smart</td>\n",
       "      <td>50</td>\n",
       "      <td>15</td>\n",
       "      <td>500</td>\n",
       "      <td>550</td>\n",
       "      <td>200</td>\n",
       "      <td>3</td>\n",
       "      <td>3</td>\n",
       "    </tr>\n",
       "    <tr>\n",
       "      <th>3215</th>\n",
       "      <td>1371</td>\n",
       "      <td>NaN</td>\n",
       "      <td>NaN</td>\n",
       "      <td>NaN</td>\n",
       "      <td>NaN</td>\n",
       "      <td>50</td>\n",
       "      <td>2018-12-30</td>\n",
       "      <td>Омск</td>\n",
       "      <td>Ириней</td>\n",
       "      <td>Трофимов</td>\n",
       "      <td>2018-12-25</td>\n",
       "      <td>smart</td>\n",
       "      <td>50</td>\n",
       "      <td>15</td>\n",
       "      <td>500</td>\n",
       "      <td>550</td>\n",
       "      <td>200</td>\n",
       "      <td>3</td>\n",
       "      <td>3</td>\n",
       "    </tr>\n",
       "  </tbody>\n",
       "</table>\n",
       "<p>3216 rows × 19 columns</p>\n",
       "</div>"
      ],
      "text/plain": [
       "      user_id  month  duration  gb_used  sms_month_count  age churn_date  \\\n",
       "0        1000    5.0     159.0      3.0             22.0   52        NaT   \n",
       "1        1000    6.0     172.0     23.0             60.0   52        NaT   \n",
       "2        1000    7.0     340.0     14.0             75.0   52        NaT   \n",
       "3        1000    8.0     408.0     14.0             81.0   52        NaT   \n",
       "4        1000    9.0     466.0     15.0             57.0   52        NaT   \n",
       "...       ...    ...       ...      ...              ...  ...        ...   \n",
       "3211     1489    9.0       NaN     17.0             32.0   35        NaT   \n",
       "3212     1489   10.0       NaN     20.0             21.0   35        NaT   \n",
       "3213     1489   11.0       NaN     18.0             20.0   35        NaT   \n",
       "3214     1489   12.0       NaN     17.0             35.0   35        NaT   \n",
       "3215     1371    NaN       NaN      NaN              NaN   50 2018-12-30   \n",
       "\n",
       "                 city first_name  last_name   reg_date tariff  \\\n",
       "0           Краснодар     Рафаил  Верещагин 2018-05-25  ultra   \n",
       "1           Краснодар     Рафаил  Верещагин 2018-05-25  ultra   \n",
       "2           Краснодар     Рафаил  Верещагин 2018-05-25  ultra   \n",
       "3           Краснодар     Рафаил  Верещагин 2018-05-25  ultra   \n",
       "4           Краснодар     Рафаил  Верещагин 2018-05-25  ultra   \n",
       "...               ...        ...        ...        ...    ...   \n",
       "3211  Санкт-Петербург      Павел   Гончаров 2018-08-15  smart   \n",
       "3212  Санкт-Петербург      Павел   Гончаров 2018-08-15  smart   \n",
       "3213  Санкт-Петербург      Павел   Гончаров 2018-08-15  smart   \n",
       "3214  Санкт-Петербург      Павел   Гончаров 2018-08-15  smart   \n",
       "3215             Омск     Ириней   Трофимов 2018-12-25  smart   \n",
       "\n",
       "      messages_included  gb_per_month_included  minutes_included  \\\n",
       "0                  1000                     30              3000   \n",
       "1                  1000                     30              3000   \n",
       "2                  1000                     30              3000   \n",
       "3                  1000                     30              3000   \n",
       "4                  1000                     30              3000   \n",
       "...                 ...                    ...               ...   \n",
       "3211                 50                     15               500   \n",
       "3212                 50                     15               500   \n",
       "3213                 50                     15               500   \n",
       "3214                 50                     15               500   \n",
       "3215                 50                     15               500   \n",
       "\n",
       "      rub_monthly_fee  rub_per_gb  rub_per_message  rub_per_minute  \n",
       "0                1950         150                1               1  \n",
       "1                1950         150                1               1  \n",
       "2                1950         150                1               1  \n",
       "3                1950         150                1               1  \n",
       "4                1950         150                1               1  \n",
       "...               ...         ...              ...             ...  \n",
       "3211              550         200                3               3  \n",
       "3212              550         200                3               3  \n",
       "3213              550         200                3               3  \n",
       "3214              550         200                3               3  \n",
       "3215              550         200                3               3  \n",
       "\n",
       "[3216 rows x 19 columns]"
      ]
     },
     "execution_count": 24,
     "metadata": {},
     "output_type": "execute_result"
    }
   ],
   "source": [
    "for i in range(len(data)):\n",
    "    if data['gb_per_month_included'][i] == 30720:\n",
    "        data['gb_per_month_included'][i] = 30\n",
    "    else:\n",
    "        data['gb_per_month_included'][i] = 15\n",
    "data"
   ]
  },
  {
   "cell_type": "markdown",
   "metadata": {},
   "source": [
    "Заполним пропуски нулями, т.к. в некотрые месяцы использование могло и не быть.\n",
    "\n",
    "Или удалим их?"
   ]
  },
  {
   "cell_type": "code",
   "execution_count": 25,
   "metadata": {},
   "outputs": [],
   "source": [
    "data = data.fillna(0)"
   ]
  },
  {
   "cell_type": "markdown",
   "metadata": {},
   "source": [
    "Добавим столбцы с перерасходом услуг."
   ]
  },
  {
   "cell_type": "code",
   "execution_count": 26,
   "metadata": {},
   "outputs": [
    {
     "data": {
      "text/html": [
       "<div>\n",
       "<style scoped>\n",
       "    .dataframe tbody tr th:only-of-type {\n",
       "        vertical-align: middle;\n",
       "    }\n",
       "\n",
       "    .dataframe tbody tr th {\n",
       "        vertical-align: top;\n",
       "    }\n",
       "\n",
       "    .dataframe thead th {\n",
       "        text-align: right;\n",
       "    }\n",
       "</style>\n",
       "<table border=\"1\" class=\"dataframe\">\n",
       "  <thead>\n",
       "    <tr style=\"text-align: right;\">\n",
       "      <th></th>\n",
       "      <th>user_id</th>\n",
       "      <th>month</th>\n",
       "      <th>duration</th>\n",
       "      <th>gb_used</th>\n",
       "      <th>sms_month_count</th>\n",
       "      <th>age</th>\n",
       "      <th>churn_date</th>\n",
       "      <th>city</th>\n",
       "      <th>first_name</th>\n",
       "      <th>last_name</th>\n",
       "      <th>...</th>\n",
       "      <th>messages_included</th>\n",
       "      <th>gb_per_month_included</th>\n",
       "      <th>minutes_included</th>\n",
       "      <th>rub_monthly_fee</th>\n",
       "      <th>rub_per_gb</th>\n",
       "      <th>rub_per_message</th>\n",
       "      <th>rub_per_minute</th>\n",
       "      <th>minute_over</th>\n",
       "      <th>gb_over</th>\n",
       "      <th>sms_over</th>\n",
       "    </tr>\n",
       "  </thead>\n",
       "  <tbody>\n",
       "    <tr>\n",
       "      <th>0</th>\n",
       "      <td>1000</td>\n",
       "      <td>5.0</td>\n",
       "      <td>159.0</td>\n",
       "      <td>3.0</td>\n",
       "      <td>22.0</td>\n",
       "      <td>52</td>\n",
       "      <td>0</td>\n",
       "      <td>Краснодар</td>\n",
       "      <td>Рафаил</td>\n",
       "      <td>Верещагин</td>\n",
       "      <td>...</td>\n",
       "      <td>1000</td>\n",
       "      <td>30</td>\n",
       "      <td>3000</td>\n",
       "      <td>1950</td>\n",
       "      <td>150</td>\n",
       "      <td>1</td>\n",
       "      <td>1</td>\n",
       "      <td>-2841.0</td>\n",
       "      <td>-27.0</td>\n",
       "      <td>-978.0</td>\n",
       "    </tr>\n",
       "    <tr>\n",
       "      <th>1</th>\n",
       "      <td>1000</td>\n",
       "      <td>6.0</td>\n",
       "      <td>172.0</td>\n",
       "      <td>23.0</td>\n",
       "      <td>60.0</td>\n",
       "      <td>52</td>\n",
       "      <td>0</td>\n",
       "      <td>Краснодар</td>\n",
       "      <td>Рафаил</td>\n",
       "      <td>Верещагин</td>\n",
       "      <td>...</td>\n",
       "      <td>1000</td>\n",
       "      <td>30</td>\n",
       "      <td>3000</td>\n",
       "      <td>1950</td>\n",
       "      <td>150</td>\n",
       "      <td>1</td>\n",
       "      <td>1</td>\n",
       "      <td>-2828.0</td>\n",
       "      <td>-7.0</td>\n",
       "      <td>-940.0</td>\n",
       "    </tr>\n",
       "    <tr>\n",
       "      <th>2</th>\n",
       "      <td>1000</td>\n",
       "      <td>7.0</td>\n",
       "      <td>340.0</td>\n",
       "      <td>14.0</td>\n",
       "      <td>75.0</td>\n",
       "      <td>52</td>\n",
       "      <td>0</td>\n",
       "      <td>Краснодар</td>\n",
       "      <td>Рафаил</td>\n",
       "      <td>Верещагин</td>\n",
       "      <td>...</td>\n",
       "      <td>1000</td>\n",
       "      <td>30</td>\n",
       "      <td>3000</td>\n",
       "      <td>1950</td>\n",
       "      <td>150</td>\n",
       "      <td>1</td>\n",
       "      <td>1</td>\n",
       "      <td>-2660.0</td>\n",
       "      <td>-16.0</td>\n",
       "      <td>-925.0</td>\n",
       "    </tr>\n",
       "    <tr>\n",
       "      <th>3</th>\n",
       "      <td>1000</td>\n",
       "      <td>8.0</td>\n",
       "      <td>408.0</td>\n",
       "      <td>14.0</td>\n",
       "      <td>81.0</td>\n",
       "      <td>52</td>\n",
       "      <td>0</td>\n",
       "      <td>Краснодар</td>\n",
       "      <td>Рафаил</td>\n",
       "      <td>Верещагин</td>\n",
       "      <td>...</td>\n",
       "      <td>1000</td>\n",
       "      <td>30</td>\n",
       "      <td>3000</td>\n",
       "      <td>1950</td>\n",
       "      <td>150</td>\n",
       "      <td>1</td>\n",
       "      <td>1</td>\n",
       "      <td>-2592.0</td>\n",
       "      <td>-16.0</td>\n",
       "      <td>-919.0</td>\n",
       "    </tr>\n",
       "    <tr>\n",
       "      <th>4</th>\n",
       "      <td>1000</td>\n",
       "      <td>9.0</td>\n",
       "      <td>466.0</td>\n",
       "      <td>15.0</td>\n",
       "      <td>57.0</td>\n",
       "      <td>52</td>\n",
       "      <td>0</td>\n",
       "      <td>Краснодар</td>\n",
       "      <td>Рафаил</td>\n",
       "      <td>Верещагин</td>\n",
       "      <td>...</td>\n",
       "      <td>1000</td>\n",
       "      <td>30</td>\n",
       "      <td>3000</td>\n",
       "      <td>1950</td>\n",
       "      <td>150</td>\n",
       "      <td>1</td>\n",
       "      <td>1</td>\n",
       "      <td>-2534.0</td>\n",
       "      <td>-15.0</td>\n",
       "      <td>-943.0</td>\n",
       "    </tr>\n",
       "    <tr>\n",
       "      <th>...</th>\n",
       "      <td>...</td>\n",
       "      <td>...</td>\n",
       "      <td>...</td>\n",
       "      <td>...</td>\n",
       "      <td>...</td>\n",
       "      <td>...</td>\n",
       "      <td>...</td>\n",
       "      <td>...</td>\n",
       "      <td>...</td>\n",
       "      <td>...</td>\n",
       "      <td>...</td>\n",
       "      <td>...</td>\n",
       "      <td>...</td>\n",
       "      <td>...</td>\n",
       "      <td>...</td>\n",
       "      <td>...</td>\n",
       "      <td>...</td>\n",
       "      <td>...</td>\n",
       "      <td>...</td>\n",
       "      <td>...</td>\n",
       "      <td>...</td>\n",
       "    </tr>\n",
       "    <tr>\n",
       "      <th>3211</th>\n",
       "      <td>1489</td>\n",
       "      <td>9.0</td>\n",
       "      <td>0.0</td>\n",
       "      <td>17.0</td>\n",
       "      <td>32.0</td>\n",
       "      <td>35</td>\n",
       "      <td>0</td>\n",
       "      <td>Санкт-Петербург</td>\n",
       "      <td>Павел</td>\n",
       "      <td>Гончаров</td>\n",
       "      <td>...</td>\n",
       "      <td>50</td>\n",
       "      <td>15</td>\n",
       "      <td>500</td>\n",
       "      <td>550</td>\n",
       "      <td>200</td>\n",
       "      <td>3</td>\n",
       "      <td>3</td>\n",
       "      <td>-500.0</td>\n",
       "      <td>2.0</td>\n",
       "      <td>-18.0</td>\n",
       "    </tr>\n",
       "    <tr>\n",
       "      <th>3212</th>\n",
       "      <td>1489</td>\n",
       "      <td>10.0</td>\n",
       "      <td>0.0</td>\n",
       "      <td>20.0</td>\n",
       "      <td>21.0</td>\n",
       "      <td>35</td>\n",
       "      <td>0</td>\n",
       "      <td>Санкт-Петербург</td>\n",
       "      <td>Павел</td>\n",
       "      <td>Гончаров</td>\n",
       "      <td>...</td>\n",
       "      <td>50</td>\n",
       "      <td>15</td>\n",
       "      <td>500</td>\n",
       "      <td>550</td>\n",
       "      <td>200</td>\n",
       "      <td>3</td>\n",
       "      <td>3</td>\n",
       "      <td>-500.0</td>\n",
       "      <td>5.0</td>\n",
       "      <td>-29.0</td>\n",
       "    </tr>\n",
       "    <tr>\n",
       "      <th>3213</th>\n",
       "      <td>1489</td>\n",
       "      <td>11.0</td>\n",
       "      <td>0.0</td>\n",
       "      <td>18.0</td>\n",
       "      <td>20.0</td>\n",
       "      <td>35</td>\n",
       "      <td>0</td>\n",
       "      <td>Санкт-Петербург</td>\n",
       "      <td>Павел</td>\n",
       "      <td>Гончаров</td>\n",
       "      <td>...</td>\n",
       "      <td>50</td>\n",
       "      <td>15</td>\n",
       "      <td>500</td>\n",
       "      <td>550</td>\n",
       "      <td>200</td>\n",
       "      <td>3</td>\n",
       "      <td>3</td>\n",
       "      <td>-500.0</td>\n",
       "      <td>3.0</td>\n",
       "      <td>-30.0</td>\n",
       "    </tr>\n",
       "    <tr>\n",
       "      <th>3214</th>\n",
       "      <td>1489</td>\n",
       "      <td>12.0</td>\n",
       "      <td>0.0</td>\n",
       "      <td>17.0</td>\n",
       "      <td>35.0</td>\n",
       "      <td>35</td>\n",
       "      <td>0</td>\n",
       "      <td>Санкт-Петербург</td>\n",
       "      <td>Павел</td>\n",
       "      <td>Гончаров</td>\n",
       "      <td>...</td>\n",
       "      <td>50</td>\n",
       "      <td>15</td>\n",
       "      <td>500</td>\n",
       "      <td>550</td>\n",
       "      <td>200</td>\n",
       "      <td>3</td>\n",
       "      <td>3</td>\n",
       "      <td>-500.0</td>\n",
       "      <td>2.0</td>\n",
       "      <td>-15.0</td>\n",
       "    </tr>\n",
       "    <tr>\n",
       "      <th>3215</th>\n",
       "      <td>1371</td>\n",
       "      <td>0.0</td>\n",
       "      <td>0.0</td>\n",
       "      <td>0.0</td>\n",
       "      <td>0.0</td>\n",
       "      <td>50</td>\n",
       "      <td>2018-12-30 00:00:00</td>\n",
       "      <td>Омск</td>\n",
       "      <td>Ириней</td>\n",
       "      <td>Трофимов</td>\n",
       "      <td>...</td>\n",
       "      <td>50</td>\n",
       "      <td>15</td>\n",
       "      <td>500</td>\n",
       "      <td>550</td>\n",
       "      <td>200</td>\n",
       "      <td>3</td>\n",
       "      <td>3</td>\n",
       "      <td>-500.0</td>\n",
       "      <td>-15.0</td>\n",
       "      <td>-50.0</td>\n",
       "    </tr>\n",
       "  </tbody>\n",
       "</table>\n",
       "<p>3216 rows × 22 columns</p>\n",
       "</div>"
      ],
      "text/plain": [
       "      user_id  month  duration  gb_used  sms_month_count  age  \\\n",
       "0        1000    5.0     159.0      3.0             22.0   52   \n",
       "1        1000    6.0     172.0     23.0             60.0   52   \n",
       "2        1000    7.0     340.0     14.0             75.0   52   \n",
       "3        1000    8.0     408.0     14.0             81.0   52   \n",
       "4        1000    9.0     466.0     15.0             57.0   52   \n",
       "...       ...    ...       ...      ...              ...  ...   \n",
       "3211     1489    9.0       0.0     17.0             32.0   35   \n",
       "3212     1489   10.0       0.0     20.0             21.0   35   \n",
       "3213     1489   11.0       0.0     18.0             20.0   35   \n",
       "3214     1489   12.0       0.0     17.0             35.0   35   \n",
       "3215     1371    0.0       0.0      0.0              0.0   50   \n",
       "\n",
       "               churn_date             city first_name  last_name  ...  \\\n",
       "0                       0        Краснодар     Рафаил  Верещагин  ...   \n",
       "1                       0        Краснодар     Рафаил  Верещагин  ...   \n",
       "2                       0        Краснодар     Рафаил  Верещагин  ...   \n",
       "3                       0        Краснодар     Рафаил  Верещагин  ...   \n",
       "4                       0        Краснодар     Рафаил  Верещагин  ...   \n",
       "...                   ...              ...        ...        ...  ...   \n",
       "3211                    0  Санкт-Петербург      Павел   Гончаров  ...   \n",
       "3212                    0  Санкт-Петербург      Павел   Гончаров  ...   \n",
       "3213                    0  Санкт-Петербург      Павел   Гончаров  ...   \n",
       "3214                    0  Санкт-Петербург      Павел   Гончаров  ...   \n",
       "3215  2018-12-30 00:00:00             Омск     Ириней   Трофимов  ...   \n",
       "\n",
       "     messages_included gb_per_month_included  minutes_included  \\\n",
       "0                 1000                    30              3000   \n",
       "1                 1000                    30              3000   \n",
       "2                 1000                    30              3000   \n",
       "3                 1000                    30              3000   \n",
       "4                 1000                    30              3000   \n",
       "...                ...                   ...               ...   \n",
       "3211                50                    15               500   \n",
       "3212                50                    15               500   \n",
       "3213                50                    15               500   \n",
       "3214                50                    15               500   \n",
       "3215                50                    15               500   \n",
       "\n",
       "      rub_monthly_fee  rub_per_gb  rub_per_message  rub_per_minute  \\\n",
       "0                1950         150                1               1   \n",
       "1                1950         150                1               1   \n",
       "2                1950         150                1               1   \n",
       "3                1950         150                1               1   \n",
       "4                1950         150                1               1   \n",
       "...               ...         ...              ...             ...   \n",
       "3211              550         200                3               3   \n",
       "3212              550         200                3               3   \n",
       "3213              550         200                3               3   \n",
       "3214              550         200                3               3   \n",
       "3215              550         200                3               3   \n",
       "\n",
       "      minute_over  gb_over  sms_over  \n",
       "0         -2841.0    -27.0    -978.0  \n",
       "1         -2828.0     -7.0    -940.0  \n",
       "2         -2660.0    -16.0    -925.0  \n",
       "3         -2592.0    -16.0    -919.0  \n",
       "4         -2534.0    -15.0    -943.0  \n",
       "...           ...      ...       ...  \n",
       "3211       -500.0      2.0     -18.0  \n",
       "3212       -500.0      5.0     -29.0  \n",
       "3213       -500.0      3.0     -30.0  \n",
       "3214       -500.0      2.0     -15.0  \n",
       "3215       -500.0    -15.0     -50.0  \n",
       "\n",
       "[3216 rows x 22 columns]"
      ]
     },
     "execution_count": 26,
     "metadata": {},
     "output_type": "execute_result"
    }
   ],
   "source": [
    "data['minute_over'] = data['duration'] - data['minutes_included']\n",
    "data['gb_over'] = data['gb_used'] - data['gb_per_month_included']\n",
    "data['sms_over'] = data['sms_month_count'] - data['messages_included']\n",
    "data"
   ]
  },
  {
   "cell_type": "markdown",
   "metadata": {},
   "source": [
    "Мы видим отрицательные значения в столбцах с перерасходом, значит пользователи не израсходовали все услуги. Надо привести все отрицательные значения к нулю, а положительные оставить также.\n",
    "\n",
    "Избавимся от отрацательных значений с помощью модуля, сложения и деления. потому что решения я нагуглить не смог.\n",
    "\n",
    "Все значения мы складываем с этими же значениями по модулю. Отрицательные становятся нулями, положительный удвоились. Далее, делим все значение на два. Нули остались нулями. Положительные удвоенные значения вернулись в исходным."
   ]
  },
  {
   "cell_type": "code",
   "execution_count": 27,
   "metadata": {},
   "outputs": [
    {
     "data": {
      "text/html": [
       "<div>\n",
       "<style scoped>\n",
       "    .dataframe tbody tr th:only-of-type {\n",
       "        vertical-align: middle;\n",
       "    }\n",
       "\n",
       "    .dataframe tbody tr th {\n",
       "        vertical-align: top;\n",
       "    }\n",
       "\n",
       "    .dataframe thead th {\n",
       "        text-align: right;\n",
       "    }\n",
       "</style>\n",
       "<table border=\"1\" class=\"dataframe\">\n",
       "  <thead>\n",
       "    <tr style=\"text-align: right;\">\n",
       "      <th></th>\n",
       "      <th>user_id</th>\n",
       "      <th>month</th>\n",
       "      <th>duration</th>\n",
       "      <th>gb_used</th>\n",
       "      <th>sms_month_count</th>\n",
       "      <th>age</th>\n",
       "      <th>churn_date</th>\n",
       "      <th>city</th>\n",
       "      <th>first_name</th>\n",
       "      <th>last_name</th>\n",
       "      <th>...</th>\n",
       "      <th>messages_included</th>\n",
       "      <th>gb_per_month_included</th>\n",
       "      <th>minutes_included</th>\n",
       "      <th>rub_monthly_fee</th>\n",
       "      <th>rub_per_gb</th>\n",
       "      <th>rub_per_message</th>\n",
       "      <th>rub_per_minute</th>\n",
       "      <th>minute_over</th>\n",
       "      <th>gb_over</th>\n",
       "      <th>sms_over</th>\n",
       "    </tr>\n",
       "  </thead>\n",
       "  <tbody>\n",
       "    <tr>\n",
       "      <th>0</th>\n",
       "      <td>1000</td>\n",
       "      <td>5.0</td>\n",
       "      <td>159.0</td>\n",
       "      <td>3.0</td>\n",
       "      <td>22.0</td>\n",
       "      <td>52</td>\n",
       "      <td>0</td>\n",
       "      <td>Краснодар</td>\n",
       "      <td>Рафаил</td>\n",
       "      <td>Верещагин</td>\n",
       "      <td>...</td>\n",
       "      <td>1000</td>\n",
       "      <td>30</td>\n",
       "      <td>3000</td>\n",
       "      <td>1950</td>\n",
       "      <td>150</td>\n",
       "      <td>1</td>\n",
       "      <td>1</td>\n",
       "      <td>0.0</td>\n",
       "      <td>0.0</td>\n",
       "      <td>0.0</td>\n",
       "    </tr>\n",
       "    <tr>\n",
       "      <th>1</th>\n",
       "      <td>1000</td>\n",
       "      <td>6.0</td>\n",
       "      <td>172.0</td>\n",
       "      <td>23.0</td>\n",
       "      <td>60.0</td>\n",
       "      <td>52</td>\n",
       "      <td>0</td>\n",
       "      <td>Краснодар</td>\n",
       "      <td>Рафаил</td>\n",
       "      <td>Верещагин</td>\n",
       "      <td>...</td>\n",
       "      <td>1000</td>\n",
       "      <td>30</td>\n",
       "      <td>3000</td>\n",
       "      <td>1950</td>\n",
       "      <td>150</td>\n",
       "      <td>1</td>\n",
       "      <td>1</td>\n",
       "      <td>0.0</td>\n",
       "      <td>0.0</td>\n",
       "      <td>0.0</td>\n",
       "    </tr>\n",
       "    <tr>\n",
       "      <th>2</th>\n",
       "      <td>1000</td>\n",
       "      <td>7.0</td>\n",
       "      <td>340.0</td>\n",
       "      <td>14.0</td>\n",
       "      <td>75.0</td>\n",
       "      <td>52</td>\n",
       "      <td>0</td>\n",
       "      <td>Краснодар</td>\n",
       "      <td>Рафаил</td>\n",
       "      <td>Верещагин</td>\n",
       "      <td>...</td>\n",
       "      <td>1000</td>\n",
       "      <td>30</td>\n",
       "      <td>3000</td>\n",
       "      <td>1950</td>\n",
       "      <td>150</td>\n",
       "      <td>1</td>\n",
       "      <td>1</td>\n",
       "      <td>0.0</td>\n",
       "      <td>0.0</td>\n",
       "      <td>0.0</td>\n",
       "    </tr>\n",
       "    <tr>\n",
       "      <th>3</th>\n",
       "      <td>1000</td>\n",
       "      <td>8.0</td>\n",
       "      <td>408.0</td>\n",
       "      <td>14.0</td>\n",
       "      <td>81.0</td>\n",
       "      <td>52</td>\n",
       "      <td>0</td>\n",
       "      <td>Краснодар</td>\n",
       "      <td>Рафаил</td>\n",
       "      <td>Верещагин</td>\n",
       "      <td>...</td>\n",
       "      <td>1000</td>\n",
       "      <td>30</td>\n",
       "      <td>3000</td>\n",
       "      <td>1950</td>\n",
       "      <td>150</td>\n",
       "      <td>1</td>\n",
       "      <td>1</td>\n",
       "      <td>0.0</td>\n",
       "      <td>0.0</td>\n",
       "      <td>0.0</td>\n",
       "    </tr>\n",
       "    <tr>\n",
       "      <th>4</th>\n",
       "      <td>1000</td>\n",
       "      <td>9.0</td>\n",
       "      <td>466.0</td>\n",
       "      <td>15.0</td>\n",
       "      <td>57.0</td>\n",
       "      <td>52</td>\n",
       "      <td>0</td>\n",
       "      <td>Краснодар</td>\n",
       "      <td>Рафаил</td>\n",
       "      <td>Верещагин</td>\n",
       "      <td>...</td>\n",
       "      <td>1000</td>\n",
       "      <td>30</td>\n",
       "      <td>3000</td>\n",
       "      <td>1950</td>\n",
       "      <td>150</td>\n",
       "      <td>1</td>\n",
       "      <td>1</td>\n",
       "      <td>0.0</td>\n",
       "      <td>0.0</td>\n",
       "      <td>0.0</td>\n",
       "    </tr>\n",
       "    <tr>\n",
       "      <th>...</th>\n",
       "      <td>...</td>\n",
       "      <td>...</td>\n",
       "      <td>...</td>\n",
       "      <td>...</td>\n",
       "      <td>...</td>\n",
       "      <td>...</td>\n",
       "      <td>...</td>\n",
       "      <td>...</td>\n",
       "      <td>...</td>\n",
       "      <td>...</td>\n",
       "      <td>...</td>\n",
       "      <td>...</td>\n",
       "      <td>...</td>\n",
       "      <td>...</td>\n",
       "      <td>...</td>\n",
       "      <td>...</td>\n",
       "      <td>...</td>\n",
       "      <td>...</td>\n",
       "      <td>...</td>\n",
       "      <td>...</td>\n",
       "      <td>...</td>\n",
       "    </tr>\n",
       "    <tr>\n",
       "      <th>3211</th>\n",
       "      <td>1489</td>\n",
       "      <td>9.0</td>\n",
       "      <td>0.0</td>\n",
       "      <td>17.0</td>\n",
       "      <td>32.0</td>\n",
       "      <td>35</td>\n",
       "      <td>0</td>\n",
       "      <td>Санкт-Петербург</td>\n",
       "      <td>Павел</td>\n",
       "      <td>Гончаров</td>\n",
       "      <td>...</td>\n",
       "      <td>50</td>\n",
       "      <td>15</td>\n",
       "      <td>500</td>\n",
       "      <td>550</td>\n",
       "      <td>200</td>\n",
       "      <td>3</td>\n",
       "      <td>3</td>\n",
       "      <td>0.0</td>\n",
       "      <td>2.0</td>\n",
       "      <td>0.0</td>\n",
       "    </tr>\n",
       "    <tr>\n",
       "      <th>3212</th>\n",
       "      <td>1489</td>\n",
       "      <td>10.0</td>\n",
       "      <td>0.0</td>\n",
       "      <td>20.0</td>\n",
       "      <td>21.0</td>\n",
       "      <td>35</td>\n",
       "      <td>0</td>\n",
       "      <td>Санкт-Петербург</td>\n",
       "      <td>Павел</td>\n",
       "      <td>Гончаров</td>\n",
       "      <td>...</td>\n",
       "      <td>50</td>\n",
       "      <td>15</td>\n",
       "      <td>500</td>\n",
       "      <td>550</td>\n",
       "      <td>200</td>\n",
       "      <td>3</td>\n",
       "      <td>3</td>\n",
       "      <td>0.0</td>\n",
       "      <td>5.0</td>\n",
       "      <td>0.0</td>\n",
       "    </tr>\n",
       "    <tr>\n",
       "      <th>3213</th>\n",
       "      <td>1489</td>\n",
       "      <td>11.0</td>\n",
       "      <td>0.0</td>\n",
       "      <td>18.0</td>\n",
       "      <td>20.0</td>\n",
       "      <td>35</td>\n",
       "      <td>0</td>\n",
       "      <td>Санкт-Петербург</td>\n",
       "      <td>Павел</td>\n",
       "      <td>Гончаров</td>\n",
       "      <td>...</td>\n",
       "      <td>50</td>\n",
       "      <td>15</td>\n",
       "      <td>500</td>\n",
       "      <td>550</td>\n",
       "      <td>200</td>\n",
       "      <td>3</td>\n",
       "      <td>3</td>\n",
       "      <td>0.0</td>\n",
       "      <td>3.0</td>\n",
       "      <td>0.0</td>\n",
       "    </tr>\n",
       "    <tr>\n",
       "      <th>3214</th>\n",
       "      <td>1489</td>\n",
       "      <td>12.0</td>\n",
       "      <td>0.0</td>\n",
       "      <td>17.0</td>\n",
       "      <td>35.0</td>\n",
       "      <td>35</td>\n",
       "      <td>0</td>\n",
       "      <td>Санкт-Петербург</td>\n",
       "      <td>Павел</td>\n",
       "      <td>Гончаров</td>\n",
       "      <td>...</td>\n",
       "      <td>50</td>\n",
       "      <td>15</td>\n",
       "      <td>500</td>\n",
       "      <td>550</td>\n",
       "      <td>200</td>\n",
       "      <td>3</td>\n",
       "      <td>3</td>\n",
       "      <td>0.0</td>\n",
       "      <td>2.0</td>\n",
       "      <td>0.0</td>\n",
       "    </tr>\n",
       "    <tr>\n",
       "      <th>3215</th>\n",
       "      <td>1371</td>\n",
       "      <td>0.0</td>\n",
       "      <td>0.0</td>\n",
       "      <td>0.0</td>\n",
       "      <td>0.0</td>\n",
       "      <td>50</td>\n",
       "      <td>2018-12-30 00:00:00</td>\n",
       "      <td>Омск</td>\n",
       "      <td>Ириней</td>\n",
       "      <td>Трофимов</td>\n",
       "      <td>...</td>\n",
       "      <td>50</td>\n",
       "      <td>15</td>\n",
       "      <td>500</td>\n",
       "      <td>550</td>\n",
       "      <td>200</td>\n",
       "      <td>3</td>\n",
       "      <td>3</td>\n",
       "      <td>0.0</td>\n",
       "      <td>0.0</td>\n",
       "      <td>0.0</td>\n",
       "    </tr>\n",
       "  </tbody>\n",
       "</table>\n",
       "<p>3216 rows × 22 columns</p>\n",
       "</div>"
      ],
      "text/plain": [
       "      user_id  month  duration  gb_used  sms_month_count  age  \\\n",
       "0        1000    5.0     159.0      3.0             22.0   52   \n",
       "1        1000    6.0     172.0     23.0             60.0   52   \n",
       "2        1000    7.0     340.0     14.0             75.0   52   \n",
       "3        1000    8.0     408.0     14.0             81.0   52   \n",
       "4        1000    9.0     466.0     15.0             57.0   52   \n",
       "...       ...    ...       ...      ...              ...  ...   \n",
       "3211     1489    9.0       0.0     17.0             32.0   35   \n",
       "3212     1489   10.0       0.0     20.0             21.0   35   \n",
       "3213     1489   11.0       0.0     18.0             20.0   35   \n",
       "3214     1489   12.0       0.0     17.0             35.0   35   \n",
       "3215     1371    0.0       0.0      0.0              0.0   50   \n",
       "\n",
       "               churn_date             city first_name  last_name  ...  \\\n",
       "0                       0        Краснодар     Рафаил  Верещагин  ...   \n",
       "1                       0        Краснодар     Рафаил  Верещагин  ...   \n",
       "2                       0        Краснодар     Рафаил  Верещагин  ...   \n",
       "3                       0        Краснодар     Рафаил  Верещагин  ...   \n",
       "4                       0        Краснодар     Рафаил  Верещагин  ...   \n",
       "...                   ...              ...        ...        ...  ...   \n",
       "3211                    0  Санкт-Петербург      Павел   Гончаров  ...   \n",
       "3212                    0  Санкт-Петербург      Павел   Гончаров  ...   \n",
       "3213                    0  Санкт-Петербург      Павел   Гончаров  ...   \n",
       "3214                    0  Санкт-Петербург      Павел   Гончаров  ...   \n",
       "3215  2018-12-30 00:00:00             Омск     Ириней   Трофимов  ...   \n",
       "\n",
       "     messages_included gb_per_month_included  minutes_included  \\\n",
       "0                 1000                    30              3000   \n",
       "1                 1000                    30              3000   \n",
       "2                 1000                    30              3000   \n",
       "3                 1000                    30              3000   \n",
       "4                 1000                    30              3000   \n",
       "...                ...                   ...               ...   \n",
       "3211                50                    15               500   \n",
       "3212                50                    15               500   \n",
       "3213                50                    15               500   \n",
       "3214                50                    15               500   \n",
       "3215                50                    15               500   \n",
       "\n",
       "      rub_monthly_fee  rub_per_gb  rub_per_message  rub_per_minute  \\\n",
       "0                1950         150                1               1   \n",
       "1                1950         150                1               1   \n",
       "2                1950         150                1               1   \n",
       "3                1950         150                1               1   \n",
       "4                1950         150                1               1   \n",
       "...               ...         ...              ...             ...   \n",
       "3211              550         200                3               3   \n",
       "3212              550         200                3               3   \n",
       "3213              550         200                3               3   \n",
       "3214              550         200                3               3   \n",
       "3215              550         200                3               3   \n",
       "\n",
       "      minute_over  gb_over  sms_over  \n",
       "0             0.0      0.0       0.0  \n",
       "1             0.0      0.0       0.0  \n",
       "2             0.0      0.0       0.0  \n",
       "3             0.0      0.0       0.0  \n",
       "4             0.0      0.0       0.0  \n",
       "...           ...      ...       ...  \n",
       "3211          0.0      2.0       0.0  \n",
       "3212          0.0      5.0       0.0  \n",
       "3213          0.0      3.0       0.0  \n",
       "3214          0.0      2.0       0.0  \n",
       "3215          0.0      0.0       0.0  \n",
       "\n",
       "[3216 rows x 22 columns]"
      ]
     },
     "execution_count": 27,
     "metadata": {},
     "output_type": "execute_result"
    }
   ],
   "source": [
    "data['minute_over'] = (data['minute_over'] + abs(data['minute_over']))/2\n",
    "data['gb_over'] = (data['gb_over'] + abs(data['gb_over']))/2\n",
    "data['sms_over'] = (data['sms_over'] + abs(data['sms_over']))/2\n",
    "data"
   ]
  },
  {
   "cell_type": "markdown",
   "metadata": {},
   "source": [
    "Рассчитываем помесячную выручку, как стоимость тарифа в месяц плюс перерасход услуг в объеме на стоимость единицы объема."
   ]
  },
  {
   "cell_type": "code",
   "execution_count": 28,
   "metadata": {
    "scrolled": true
   },
   "outputs": [
    {
     "data": {
      "text/html": [
       "<div>\n",
       "<style scoped>\n",
       "    .dataframe tbody tr th:only-of-type {\n",
       "        vertical-align: middle;\n",
       "    }\n",
       "\n",
       "    .dataframe tbody tr th {\n",
       "        vertical-align: top;\n",
       "    }\n",
       "\n",
       "    .dataframe thead th {\n",
       "        text-align: right;\n",
       "    }\n",
       "</style>\n",
       "<table border=\"1\" class=\"dataframe\">\n",
       "  <thead>\n",
       "    <tr style=\"text-align: right;\">\n",
       "      <th></th>\n",
       "      <th>user_id</th>\n",
       "      <th>month</th>\n",
       "      <th>duration</th>\n",
       "      <th>gb_used</th>\n",
       "      <th>sms_month_count</th>\n",
       "      <th>age</th>\n",
       "      <th>churn_date</th>\n",
       "      <th>city</th>\n",
       "      <th>first_name</th>\n",
       "      <th>last_name</th>\n",
       "      <th>...</th>\n",
       "      <th>gb_per_month_included</th>\n",
       "      <th>minutes_included</th>\n",
       "      <th>rub_monthly_fee</th>\n",
       "      <th>rub_per_gb</th>\n",
       "      <th>rub_per_message</th>\n",
       "      <th>rub_per_minute</th>\n",
       "      <th>minute_over</th>\n",
       "      <th>gb_over</th>\n",
       "      <th>sms_over</th>\n",
       "      <th>monthly_revenue</th>\n",
       "    </tr>\n",
       "  </thead>\n",
       "  <tbody>\n",
       "    <tr>\n",
       "      <th>0</th>\n",
       "      <td>1000</td>\n",
       "      <td>5.0</td>\n",
       "      <td>159.0</td>\n",
       "      <td>3.0</td>\n",
       "      <td>22.0</td>\n",
       "      <td>52</td>\n",
       "      <td>0</td>\n",
       "      <td>Краснодар</td>\n",
       "      <td>Рафаил</td>\n",
       "      <td>Верещагин</td>\n",
       "      <td>...</td>\n",
       "      <td>30</td>\n",
       "      <td>3000</td>\n",
       "      <td>1950</td>\n",
       "      <td>150</td>\n",
       "      <td>1</td>\n",
       "      <td>1</td>\n",
       "      <td>0.0</td>\n",
       "      <td>0.0</td>\n",
       "      <td>0.0</td>\n",
       "      <td>1950.0</td>\n",
       "    </tr>\n",
       "    <tr>\n",
       "      <th>1</th>\n",
       "      <td>1000</td>\n",
       "      <td>6.0</td>\n",
       "      <td>172.0</td>\n",
       "      <td>23.0</td>\n",
       "      <td>60.0</td>\n",
       "      <td>52</td>\n",
       "      <td>0</td>\n",
       "      <td>Краснодар</td>\n",
       "      <td>Рафаил</td>\n",
       "      <td>Верещагин</td>\n",
       "      <td>...</td>\n",
       "      <td>30</td>\n",
       "      <td>3000</td>\n",
       "      <td>1950</td>\n",
       "      <td>150</td>\n",
       "      <td>1</td>\n",
       "      <td>1</td>\n",
       "      <td>0.0</td>\n",
       "      <td>0.0</td>\n",
       "      <td>0.0</td>\n",
       "      <td>1950.0</td>\n",
       "    </tr>\n",
       "    <tr>\n",
       "      <th>2</th>\n",
       "      <td>1000</td>\n",
       "      <td>7.0</td>\n",
       "      <td>340.0</td>\n",
       "      <td>14.0</td>\n",
       "      <td>75.0</td>\n",
       "      <td>52</td>\n",
       "      <td>0</td>\n",
       "      <td>Краснодар</td>\n",
       "      <td>Рафаил</td>\n",
       "      <td>Верещагин</td>\n",
       "      <td>...</td>\n",
       "      <td>30</td>\n",
       "      <td>3000</td>\n",
       "      <td>1950</td>\n",
       "      <td>150</td>\n",
       "      <td>1</td>\n",
       "      <td>1</td>\n",
       "      <td>0.0</td>\n",
       "      <td>0.0</td>\n",
       "      <td>0.0</td>\n",
       "      <td>1950.0</td>\n",
       "    </tr>\n",
       "    <tr>\n",
       "      <th>3</th>\n",
       "      <td>1000</td>\n",
       "      <td>8.0</td>\n",
       "      <td>408.0</td>\n",
       "      <td>14.0</td>\n",
       "      <td>81.0</td>\n",
       "      <td>52</td>\n",
       "      <td>0</td>\n",
       "      <td>Краснодар</td>\n",
       "      <td>Рафаил</td>\n",
       "      <td>Верещагин</td>\n",
       "      <td>...</td>\n",
       "      <td>30</td>\n",
       "      <td>3000</td>\n",
       "      <td>1950</td>\n",
       "      <td>150</td>\n",
       "      <td>1</td>\n",
       "      <td>1</td>\n",
       "      <td>0.0</td>\n",
       "      <td>0.0</td>\n",
       "      <td>0.0</td>\n",
       "      <td>1950.0</td>\n",
       "    </tr>\n",
       "    <tr>\n",
       "      <th>4</th>\n",
       "      <td>1000</td>\n",
       "      <td>9.0</td>\n",
       "      <td>466.0</td>\n",
       "      <td>15.0</td>\n",
       "      <td>57.0</td>\n",
       "      <td>52</td>\n",
       "      <td>0</td>\n",
       "      <td>Краснодар</td>\n",
       "      <td>Рафаил</td>\n",
       "      <td>Верещагин</td>\n",
       "      <td>...</td>\n",
       "      <td>30</td>\n",
       "      <td>3000</td>\n",
       "      <td>1950</td>\n",
       "      <td>150</td>\n",
       "      <td>1</td>\n",
       "      <td>1</td>\n",
       "      <td>0.0</td>\n",
       "      <td>0.0</td>\n",
       "      <td>0.0</td>\n",
       "      <td>1950.0</td>\n",
       "    </tr>\n",
       "    <tr>\n",
       "      <th>...</th>\n",
       "      <td>...</td>\n",
       "      <td>...</td>\n",
       "      <td>...</td>\n",
       "      <td>...</td>\n",
       "      <td>...</td>\n",
       "      <td>...</td>\n",
       "      <td>...</td>\n",
       "      <td>...</td>\n",
       "      <td>...</td>\n",
       "      <td>...</td>\n",
       "      <td>...</td>\n",
       "      <td>...</td>\n",
       "      <td>...</td>\n",
       "      <td>...</td>\n",
       "      <td>...</td>\n",
       "      <td>...</td>\n",
       "      <td>...</td>\n",
       "      <td>...</td>\n",
       "      <td>...</td>\n",
       "      <td>...</td>\n",
       "      <td>...</td>\n",
       "    </tr>\n",
       "    <tr>\n",
       "      <th>3211</th>\n",
       "      <td>1489</td>\n",
       "      <td>9.0</td>\n",
       "      <td>0.0</td>\n",
       "      <td>17.0</td>\n",
       "      <td>32.0</td>\n",
       "      <td>35</td>\n",
       "      <td>0</td>\n",
       "      <td>Санкт-Петербург</td>\n",
       "      <td>Павел</td>\n",
       "      <td>Гончаров</td>\n",
       "      <td>...</td>\n",
       "      <td>15</td>\n",
       "      <td>500</td>\n",
       "      <td>550</td>\n",
       "      <td>200</td>\n",
       "      <td>3</td>\n",
       "      <td>3</td>\n",
       "      <td>0.0</td>\n",
       "      <td>2.0</td>\n",
       "      <td>0.0</td>\n",
       "      <td>950.0</td>\n",
       "    </tr>\n",
       "    <tr>\n",
       "      <th>3212</th>\n",
       "      <td>1489</td>\n",
       "      <td>10.0</td>\n",
       "      <td>0.0</td>\n",
       "      <td>20.0</td>\n",
       "      <td>21.0</td>\n",
       "      <td>35</td>\n",
       "      <td>0</td>\n",
       "      <td>Санкт-Петербург</td>\n",
       "      <td>Павел</td>\n",
       "      <td>Гончаров</td>\n",
       "      <td>...</td>\n",
       "      <td>15</td>\n",
       "      <td>500</td>\n",
       "      <td>550</td>\n",
       "      <td>200</td>\n",
       "      <td>3</td>\n",
       "      <td>3</td>\n",
       "      <td>0.0</td>\n",
       "      <td>5.0</td>\n",
       "      <td>0.0</td>\n",
       "      <td>1550.0</td>\n",
       "    </tr>\n",
       "    <tr>\n",
       "      <th>3213</th>\n",
       "      <td>1489</td>\n",
       "      <td>11.0</td>\n",
       "      <td>0.0</td>\n",
       "      <td>18.0</td>\n",
       "      <td>20.0</td>\n",
       "      <td>35</td>\n",
       "      <td>0</td>\n",
       "      <td>Санкт-Петербург</td>\n",
       "      <td>Павел</td>\n",
       "      <td>Гончаров</td>\n",
       "      <td>...</td>\n",
       "      <td>15</td>\n",
       "      <td>500</td>\n",
       "      <td>550</td>\n",
       "      <td>200</td>\n",
       "      <td>3</td>\n",
       "      <td>3</td>\n",
       "      <td>0.0</td>\n",
       "      <td>3.0</td>\n",
       "      <td>0.0</td>\n",
       "      <td>1150.0</td>\n",
       "    </tr>\n",
       "    <tr>\n",
       "      <th>3214</th>\n",
       "      <td>1489</td>\n",
       "      <td>12.0</td>\n",
       "      <td>0.0</td>\n",
       "      <td>17.0</td>\n",
       "      <td>35.0</td>\n",
       "      <td>35</td>\n",
       "      <td>0</td>\n",
       "      <td>Санкт-Петербург</td>\n",
       "      <td>Павел</td>\n",
       "      <td>Гончаров</td>\n",
       "      <td>...</td>\n",
       "      <td>15</td>\n",
       "      <td>500</td>\n",
       "      <td>550</td>\n",
       "      <td>200</td>\n",
       "      <td>3</td>\n",
       "      <td>3</td>\n",
       "      <td>0.0</td>\n",
       "      <td>2.0</td>\n",
       "      <td>0.0</td>\n",
       "      <td>950.0</td>\n",
       "    </tr>\n",
       "    <tr>\n",
       "      <th>3215</th>\n",
       "      <td>1371</td>\n",
       "      <td>0.0</td>\n",
       "      <td>0.0</td>\n",
       "      <td>0.0</td>\n",
       "      <td>0.0</td>\n",
       "      <td>50</td>\n",
       "      <td>2018-12-30 00:00:00</td>\n",
       "      <td>Омск</td>\n",
       "      <td>Ириней</td>\n",
       "      <td>Трофимов</td>\n",
       "      <td>...</td>\n",
       "      <td>15</td>\n",
       "      <td>500</td>\n",
       "      <td>550</td>\n",
       "      <td>200</td>\n",
       "      <td>3</td>\n",
       "      <td>3</td>\n",
       "      <td>0.0</td>\n",
       "      <td>0.0</td>\n",
       "      <td>0.0</td>\n",
       "      <td>550.0</td>\n",
       "    </tr>\n",
       "  </tbody>\n",
       "</table>\n",
       "<p>3216 rows × 23 columns</p>\n",
       "</div>"
      ],
      "text/plain": [
       "      user_id  month  duration  gb_used  sms_month_count  age  \\\n",
       "0        1000    5.0     159.0      3.0             22.0   52   \n",
       "1        1000    6.0     172.0     23.0             60.0   52   \n",
       "2        1000    7.0     340.0     14.0             75.0   52   \n",
       "3        1000    8.0     408.0     14.0             81.0   52   \n",
       "4        1000    9.0     466.0     15.0             57.0   52   \n",
       "...       ...    ...       ...      ...              ...  ...   \n",
       "3211     1489    9.0       0.0     17.0             32.0   35   \n",
       "3212     1489   10.0       0.0     20.0             21.0   35   \n",
       "3213     1489   11.0       0.0     18.0             20.0   35   \n",
       "3214     1489   12.0       0.0     17.0             35.0   35   \n",
       "3215     1371    0.0       0.0      0.0              0.0   50   \n",
       "\n",
       "               churn_date             city first_name  last_name  ...  \\\n",
       "0                       0        Краснодар     Рафаил  Верещагин  ...   \n",
       "1                       0        Краснодар     Рафаил  Верещагин  ...   \n",
       "2                       0        Краснодар     Рафаил  Верещагин  ...   \n",
       "3                       0        Краснодар     Рафаил  Верещагин  ...   \n",
       "4                       0        Краснодар     Рафаил  Верещагин  ...   \n",
       "...                   ...              ...        ...        ...  ...   \n",
       "3211                    0  Санкт-Петербург      Павел   Гончаров  ...   \n",
       "3212                    0  Санкт-Петербург      Павел   Гончаров  ...   \n",
       "3213                    0  Санкт-Петербург      Павел   Гончаров  ...   \n",
       "3214                    0  Санкт-Петербург      Павел   Гончаров  ...   \n",
       "3215  2018-12-30 00:00:00             Омск     Ириней   Трофимов  ...   \n",
       "\n",
       "     gb_per_month_included minutes_included  rub_monthly_fee  rub_per_gb  \\\n",
       "0                       30             3000             1950         150   \n",
       "1                       30             3000             1950         150   \n",
       "2                       30             3000             1950         150   \n",
       "3                       30             3000             1950         150   \n",
       "4                       30             3000             1950         150   \n",
       "...                    ...              ...              ...         ...   \n",
       "3211                    15              500              550         200   \n",
       "3212                    15              500              550         200   \n",
       "3213                    15              500              550         200   \n",
       "3214                    15              500              550         200   \n",
       "3215                    15              500              550         200   \n",
       "\n",
       "      rub_per_message  rub_per_minute  minute_over  gb_over  sms_over  \\\n",
       "0                   1               1          0.0      0.0       0.0   \n",
       "1                   1               1          0.0      0.0       0.0   \n",
       "2                   1               1          0.0      0.0       0.0   \n",
       "3                   1               1          0.0      0.0       0.0   \n",
       "4                   1               1          0.0      0.0       0.0   \n",
       "...               ...             ...          ...      ...       ...   \n",
       "3211                3               3          0.0      2.0       0.0   \n",
       "3212                3               3          0.0      5.0       0.0   \n",
       "3213                3               3          0.0      3.0       0.0   \n",
       "3214                3               3          0.0      2.0       0.0   \n",
       "3215                3               3          0.0      0.0       0.0   \n",
       "\n",
       "      monthly_revenue  \n",
       "0              1950.0  \n",
       "1              1950.0  \n",
       "2              1950.0  \n",
       "3              1950.0  \n",
       "4              1950.0  \n",
       "...               ...  \n",
       "3211            950.0  \n",
       "3212           1550.0  \n",
       "3213           1150.0  \n",
       "3214            950.0  \n",
       "3215            550.0  \n",
       "\n",
       "[3216 rows x 23 columns]"
      ]
     },
     "execution_count": 28,
     "metadata": {},
     "output_type": "execute_result"
    }
   ],
   "source": [
    "data['monthly_revenue'] = (\n",
    "    (data['minute_over'] * data['rub_per_minute']) + \n",
    "    (data['gb_over'] * data['rub_per_gb']) +\n",
    "    (data['sms_over'] * data['rub_per_message']) +\n",
    "    data['rub_monthly_fee']\n",
    ")\n",
    "data"
   ]
  },
  {
   "cell_type": "markdown",
   "metadata": {},
   "source": [
    "### Вывод"
   ]
  },
  {
   "cell_type": "markdown",
   "metadata": {},
   "source": [
    "Мы сделали таблицу со всеми данными о пользователях. Убрали пропуски, поменяли типы данных, сгруппировали данные по месяцам и пользователям и рассчитали помесячную выручку.\n",
    "\n",
    "Можем приступать к анализу"
   ]
  },
  {
   "cell_type": "markdown",
   "metadata": {},
   "source": [
    "## Анализ данных\n",
    "<a id='section_4'><a/>\n",
    " "
   ]
  },
  {
   "cell_type": "markdown",
   "metadata": {},
   "source": [
    "Разделим данные на две таблицы по тарифам смарт и ультра."
   ]
  },
  {
   "cell_type": "code",
   "execution_count": 29,
   "metadata": {
    "scrolled": true
   },
   "outputs": [],
   "source": [
    "smart=(data.query('tariff == \"smart\"'))\n",
    "ultra=(data.query('tariff == \"ultra\"'))"
   ]
  },
  {
   "cell_type": "markdown",
   "metadata": {},
   "source": [
    "Получим данные по параметрам 'duration','gb_used','sms_month_count','monthly_revenue' через метод describe."
   ]
  },
  {
   "cell_type": "code",
   "execution_count": 30,
   "metadata": {
    "scrolled": true
   },
   "outputs": [
    {
     "data": {
      "text/html": [
       "<style type=\"text/css\">\n",
       "</style>\n",
       "<table id=\"T_75a9e_\">\n",
       "  <thead>\n",
       "    <tr>\n",
       "      <th class=\"blank level0\" >&nbsp;</th>\n",
       "      <th class=\"col_heading level0 col0\" >count</th>\n",
       "      <th class=\"col_heading level0 col1\" >mean</th>\n",
       "      <th class=\"col_heading level0 col2\" >std</th>\n",
       "      <th class=\"col_heading level0 col3\" >min</th>\n",
       "      <th class=\"col_heading level0 col4\" >25%</th>\n",
       "      <th class=\"col_heading level0 col5\" >50%</th>\n",
       "      <th class=\"col_heading level0 col6\" >75%</th>\n",
       "      <th class=\"col_heading level0 col7\" >max</th>\n",
       "    </tr>\n",
       "  </thead>\n",
       "  <tbody>\n",
       "    <tr>\n",
       "      <th id=\"T_75a9e_level0_row0\" class=\"row_heading level0 row0\" >duration</th>\n",
       "      <td id=\"T_75a9e_row0_col0\" class=\"data row0 col0\" >986</td>\n",
       "      <td id=\"T_75a9e_row0_col1\" class=\"data row0 col1\" >526</td>\n",
       "      <td id=\"T_75a9e_row0_col2\" class=\"data row0 col2\" >318</td>\n",
       "      <td id=\"T_75a9e_row0_col3\" class=\"data row0 col3\" >0</td>\n",
       "      <td id=\"T_75a9e_row0_col4\" class=\"data row0 col4\" >282</td>\n",
       "      <td id=\"T_75a9e_row0_col5\" class=\"data row0 col5\" >518</td>\n",
       "      <td id=\"T_75a9e_row0_col6\" class=\"data row0 col6\" >752</td>\n",
       "      <td id=\"T_75a9e_row0_col7\" class=\"data row0 col7\" >1673</td>\n",
       "    </tr>\n",
       "    <tr>\n",
       "      <th id=\"T_75a9e_level0_row1\" class=\"row_heading level0 row1\" >gb_used</th>\n",
       "      <td id=\"T_75a9e_row1_col0\" class=\"data row1 col0\" >986</td>\n",
       "      <td id=\"T_75a9e_row1_col1\" class=\"data row1 col1\" >19</td>\n",
       "      <td id=\"T_75a9e_row1_col2\" class=\"data row1 col2\" >10</td>\n",
       "      <td id=\"T_75a9e_row1_col3\" class=\"data row1 col3\" >0</td>\n",
       "      <td id=\"T_75a9e_row1_col4\" class=\"data row1 col4\" >12</td>\n",
       "      <td id=\"T_75a9e_row1_col5\" class=\"data row1 col5\" >19</td>\n",
       "      <td id=\"T_75a9e_row1_col6\" class=\"data row1 col6\" >27</td>\n",
       "      <td id=\"T_75a9e_row1_col7\" class=\"data row1 col7\" >49</td>\n",
       "    </tr>\n",
       "    <tr>\n",
       "      <th id=\"T_75a9e_level0_row2\" class=\"row_heading level0 row2\" >sms_month_count</th>\n",
       "      <td id=\"T_75a9e_row2_col0\" class=\"data row2 col0\" >986</td>\n",
       "      <td id=\"T_75a9e_row2_col1\" class=\"data row2 col1\" >49</td>\n",
       "      <td id=\"T_75a9e_row2_col2\" class=\"data row2 col2\" >48</td>\n",
       "      <td id=\"T_75a9e_row2_col3\" class=\"data row2 col3\" >0</td>\n",
       "      <td id=\"T_75a9e_row2_col4\" class=\"data row2 col4\" >6</td>\n",
       "      <td id=\"T_75a9e_row2_col5\" class=\"data row2 col5\" >38</td>\n",
       "      <td id=\"T_75a9e_row2_col6\" class=\"data row2 col6\" >79</td>\n",
       "      <td id=\"T_75a9e_row2_col7\" class=\"data row2 col7\" >224</td>\n",
       "    </tr>\n",
       "    <tr>\n",
       "      <th id=\"T_75a9e_level0_row3\" class=\"row_heading level0 row3\" >monthly_revenue</th>\n",
       "      <td id=\"T_75a9e_row3_col0\" class=\"data row3 col0\" >986</td>\n",
       "      <td id=\"T_75a9e_row3_col1\" class=\"data row3 col1\" >2070</td>\n",
       "      <td id=\"T_75a9e_row3_col2\" class=\"data row3 col2\" >376</td>\n",
       "      <td id=\"T_75a9e_row3_col3\" class=\"data row3 col3\" >1950</td>\n",
       "      <td id=\"T_75a9e_row3_col4\" class=\"data row3 col4\" >1950</td>\n",
       "      <td id=\"T_75a9e_row3_col5\" class=\"data row3 col5\" >1950</td>\n",
       "      <td id=\"T_75a9e_row3_col6\" class=\"data row3 col6\" >1950</td>\n",
       "      <td id=\"T_75a9e_row3_col7\" class=\"data row3 col7\" >4800</td>\n",
       "    </tr>\n",
       "  </tbody>\n",
       "</table>\n"
      ],
      "text/plain": [
       "<pandas.io.formats.style.Styler at 0x27177eedf90>"
      ]
     },
     "metadata": {},
     "output_type": "display_data"
    },
    {
     "data": {
      "text/html": [
       "<style type=\"text/css\">\n",
       "</style>\n",
       "<table id=\"T_2037e_\">\n",
       "  <thead>\n",
       "    <tr>\n",
       "      <th class=\"blank level0\" >&nbsp;</th>\n",
       "      <th class=\"col_heading level0 col0\" >count</th>\n",
       "      <th class=\"col_heading level0 col1\" >mean</th>\n",
       "      <th class=\"col_heading level0 col2\" >std</th>\n",
       "      <th class=\"col_heading level0 col3\" >min</th>\n",
       "      <th class=\"col_heading level0 col4\" >25%</th>\n",
       "      <th class=\"col_heading level0 col5\" >50%</th>\n",
       "      <th class=\"col_heading level0 col6\" >75%</th>\n",
       "      <th class=\"col_heading level0 col7\" >max</th>\n",
       "    </tr>\n",
       "  </thead>\n",
       "  <tbody>\n",
       "    <tr>\n",
       "      <th id=\"T_2037e_level0_row0\" class=\"row_heading level0 row0\" >duration</th>\n",
       "      <td id=\"T_2037e_row0_col0\" class=\"data row0 col0\" >2230</td>\n",
       "      <td id=\"T_2037e_row0_col1\" class=\"data row0 col1\" >418</td>\n",
       "      <td id=\"T_2037e_row0_col2\" class=\"data row0 col2\" >190</td>\n",
       "      <td id=\"T_2037e_row0_col3\" class=\"data row0 col3\" >0</td>\n",
       "      <td id=\"T_2037e_row0_col4\" class=\"data row0 col4\" >282</td>\n",
       "      <td id=\"T_2037e_row0_col5\" class=\"data row0 col5\" >422</td>\n",
       "      <td id=\"T_2037e_row0_col6\" class=\"data row0 col6\" >545</td>\n",
       "      <td id=\"T_2037e_row0_col7\" class=\"data row0 col7\" >1435</td>\n",
       "    </tr>\n",
       "    <tr>\n",
       "      <th id=\"T_2037e_level0_row1\" class=\"row_heading level0 row1\" >gb_used</th>\n",
       "      <td id=\"T_2037e_row1_col0\" class=\"data row1 col0\" >2230</td>\n",
       "      <td id=\"T_2037e_row1_col1\" class=\"data row1 col1\" >16</td>\n",
       "      <td id=\"T_2037e_row1_col2\" class=\"data row1 col2\" >6</td>\n",
       "      <td id=\"T_2037e_row1_col3\" class=\"data row1 col3\" >0</td>\n",
       "      <td id=\"T_2037e_row1_col4\" class=\"data row1 col4\" >13</td>\n",
       "      <td id=\"T_2037e_row1_col5\" class=\"data row1 col5\" >17</td>\n",
       "      <td id=\"T_2037e_row1_col6\" class=\"data row1 col6\" >20</td>\n",
       "      <td id=\"T_2037e_row1_col7\" class=\"data row1 col7\" >38</td>\n",
       "    </tr>\n",
       "    <tr>\n",
       "      <th id=\"T_2037e_level0_row2\" class=\"row_heading level0 row2\" >sms_month_count</th>\n",
       "      <td id=\"T_2037e_row2_col0\" class=\"data row2 col0\" >2230</td>\n",
       "      <td id=\"T_2037e_row2_col1\" class=\"data row2 col1\" >33</td>\n",
       "      <td id=\"T_2037e_row2_col2\" class=\"data row2 col2\" >28</td>\n",
       "      <td id=\"T_2037e_row2_col3\" class=\"data row2 col3\" >0</td>\n",
       "      <td id=\"T_2037e_row2_col4\" class=\"data row2 col4\" >10</td>\n",
       "      <td id=\"T_2037e_row2_col5\" class=\"data row2 col5\" >28</td>\n",
       "      <td id=\"T_2037e_row2_col6\" class=\"data row2 col6\" >51</td>\n",
       "      <td id=\"T_2037e_row2_col7\" class=\"data row2 col7\" >143</td>\n",
       "    </tr>\n",
       "    <tr>\n",
       "      <th id=\"T_2037e_level0_row3\" class=\"row_heading level0 row3\" >monthly_revenue</th>\n",
       "      <td id=\"T_2037e_row3_col0\" class=\"data row3 col0\" >2230</td>\n",
       "      <td id=\"T_2037e_row3_col1\" class=\"data row3 col1\" >1290</td>\n",
       "      <td id=\"T_2037e_row3_col2\" class=\"data row3 col2\" >818</td>\n",
       "      <td id=\"T_2037e_row3_col3\" class=\"data row3 col3\" >550</td>\n",
       "      <td id=\"T_2037e_row3_col4\" class=\"data row3 col4\" >550</td>\n",
       "      <td id=\"T_2037e_row3_col5\" class=\"data row3 col5\" >1021</td>\n",
       "      <td id=\"T_2037e_row3_col6\" class=\"data row3 col6\" >1750</td>\n",
       "      <td id=\"T_2037e_row3_col7\" class=\"data row3 col7\" >6770</td>\n",
       "    </tr>\n",
       "  </tbody>\n",
       "</table>\n"
      ],
      "text/plain": [
       "<pandas.io.formats.style.Styler at 0x27179484310>"
      ]
     },
     "metadata": {},
     "output_type": "display_data"
    }
   ],
   "source": [
    "display(ultra[['duration','gb_used','sms_month_count','monthly_revenue']].describe().T.style.format('{:.0f}'))\n",
    "display(smart[['duration','gb_used','sms_month_count','monthly_revenue']].describe().T.style.format('{:.0f}'))"
   ]
  },
  {
   "cell_type": "markdown",
   "metadata": {},
   "source": [
    "Построим график помесячной выручки по двум тарифам."
   ]
  },
  {
   "cell_type": "code",
   "execution_count": 31,
   "metadata": {},
   "outputs": [
    {
     "data": {
      "image/png": "[encoded data removed]",
      "text/plain": [
       "<Figure size 720x432 with 1 Axes>"
      ]
     },
     "metadata": {
      "needs_background": "light"
     },
     "output_type": "display_data"
    }
   ],
   "source": [
    "plt.figure(figsize=(10, 6))\n",
    "sns.distplot(smart['monthly_revenue'],label = smart['tariff'])\n",
    "sns.distplot(ultra['monthly_revenue'],label = ultra['tariff'])\n",
    "plt.legend()\n",
    "plt.show()"
   ]
  },
  {
   "cell_type": "markdown",
   "metadata": {},
   "source": [
    "Видим пики на значениях стоимости тарифов. В тарифе смарт больше людей, которые переплачивают за свой тариф. Связяно с тем, что там меньше пакеты услуг и за них выйти легче."
   ]
  },
  {
   "cell_type": "code",
   "execution_count": 32,
   "metadata": {
    "scrolled": true
   },
   "outputs": [
    {
     "data": {
      "image/png": "[encoded data removed]",
      "text/plain": [
       "<Figure size 432x288 with 1 Axes>"
      ]
     },
     "metadata": {
      "needs_background": "light"
     },
     "output_type": "display_data"
    }
   ],
   "source": [
    "sns.distplot(smart['duration'],label = smart['tariff'])\n",
    "sns.distplot(ultra['duration'],label = ultra['tariff'])\n",
    "plt.legend()\n",
    "plt.show()"
   ]
  },
  {
   "cell_type": "markdown",
   "metadata": {},
   "source": [
    "Длительность звонков на смарте ниже и пик четче. Почти половина всех пользователей смарта выходят за рамки своего тарифа. Пользователи ультры еле доходят половины своего тарифа."
   ]
  },
  {
   "cell_type": "code",
   "execution_count": 33,
   "metadata": {
    "scrolled": true
   },
   "outputs": [
    {
     "data": {
      "image/png": "[encoded data removed]",
      "text/plain": [
       "<Figure size 432x288 with 1 Axes>"
      ]
     },
     "metadata": {
      "needs_background": "light"
     },
     "output_type": "display_data"
    }
   ],
   "source": [
    "sns.distplot(smart['gb_used'],label = smart['tariff'])\n",
    "sns.distplot(ultra['gb_used'],label = ultra['tariff'])\n",
    "plt.legend()\n",
    "plt.show()"
   ]
  },
  {
   "cell_type": "markdown",
   "metadata": {},
   "source": [
    "По данным использования интернета графики визуально похожи. Также половина всех пользователей смарта выходят за рамки своего тарифа. Но тут и пользователи ультры также любят смотреть мемы в интернете."
   ]
  },
  {
   "cell_type": "code",
   "execution_count": 34,
   "metadata": {
    "scrolled": true
   },
   "outputs": [
    {
     "data": {
      "image/png": "[encoded data removed]",
      "text/plain": [
       "<Figure size 432x288 with 1 Axes>"
      ]
     },
     "metadata": {
      "needs_background": "light"
     },
     "output_type": "display_data"
    }
   ],
   "source": [
    "sns.distplot(smart['sms_month_count'],label = smart['tariff'])\n",
    "sns.distplot(ultra['sms_month_count'],label = ultra['tariff'])\n",
    "plt.legend()\n",
    "plt.show()"
   ]
  },
  {
   "cell_type": "markdown",
   "metadata": {},
   "source": [
    "В использовании смс пользователи очень похожи по графикам. Смарт переходит за свои ограничения по услугам. Ультра даже до половины не доходит.\n",
    "\n",
    "Посмотрим на дисперсию и среднее по четырем параметрам."
   ]
  },
  {
   "cell_type": "code",
   "execution_count": 35,
   "metadata": {
    "scrolled": false
   },
   "outputs": [
    {
     "name": "stdout",
     "output_type": "stream",
     "text": [
      "Дисперсия пользоватлей тарифа \"Смарт\" по четырем параметрам\n"
     ]
    },
    {
     "data": {
      "text/plain": [
       "duration            36265.124153\n",
       "gb_used                33.118595\n",
       "sms_month_count       796.597877\n",
       "monthly_revenue    669430.436198\n",
       "dtype: float64"
      ]
     },
     "execution_count": 35,
     "metadata": {},
     "output_type": "execute_result"
    }
   ],
   "source": [
    "print('Дисперсия пользоватлей тарифа \"Смарт\" по четырем параметрам')\n",
    "np.var(smart[['duration','gb_used','sms_month_count','monthly_revenue']])"
   ]
  },
  {
   "cell_type": "code",
   "execution_count": 36,
   "metadata": {
    "scrolled": true
   },
   "outputs": [
    {
     "name": "stdout",
     "output_type": "stream",
     "text": [
      "Дисперсия пользоватлей тарифа \"Ультра\" по четырем параметрам\n"
     ]
    },
    {
     "data": {
      "text/plain": [
       "duration           100950.006233\n",
       "gb_used                97.279783\n",
       "sms_month_count      2283.099557\n",
       "monthly_revenue    141244.319561\n",
       "dtype: float64"
      ]
     },
     "execution_count": 36,
     "metadata": {},
     "output_type": "execute_result"
    }
   ],
   "source": [
    "print('Дисперсия пользоватлей тарифа \"Ультра\" по четырем параметрам')\n",
    "np.var(ultra[['duration','gb_used','sms_month_count','monthly_revenue']])"
   ]
  },
  {
   "cell_type": "code",
   "execution_count": 37,
   "metadata": {},
   "outputs": [
    {
     "name": "stdout",
     "output_type": "stream",
     "text": [
      "Стандартное отклонение пользоватлей тарифа \"Смарт\" по четырем параметрам\n"
     ]
    },
    {
     "data": {
      "text/plain": [
       "duration           190.434041\n",
       "gb_used              5.754876\n",
       "sms_month_count     28.224066\n",
       "monthly_revenue    818.187287\n",
       "dtype: float64"
      ]
     },
     "execution_count": 37,
     "metadata": {},
     "output_type": "execute_result"
    }
   ],
   "source": [
    "print('Стандартное отклонение пользоватлей тарифа \"Смарт\" по четырем параметрам')\n",
    "np.std(smart[['duration','gb_used','sms_month_count','monthly_revenue']])"
   ]
  },
  {
   "cell_type": "code",
   "execution_count": 38,
   "metadata": {},
   "outputs": [
    {
     "name": "stdout",
     "output_type": "stream",
     "text": [
      "Стандартное отклонение пользоватлей тарифа \"Ультра\" по четырем параметрам\n"
     ]
    },
    {
     "data": {
      "text/plain": [
       "duration           317.726307\n",
       "gb_used              9.863051\n",
       "sms_month_count     47.781791\n",
       "monthly_revenue    375.824852\n",
       "dtype: float64"
      ]
     },
     "execution_count": 38,
     "metadata": {},
     "output_type": "execute_result"
    }
   ],
   "source": [
    "print('Стандартное отклонение пользоватлей тарифа \"Ультра\" по четырем параметрам')\n",
    "np.std(ultra[['duration','gb_used','sms_month_count','monthly_revenue']])"
   ]
  },
  {
   "cell_type": "code",
   "execution_count": 39,
   "metadata": {
    "scrolled": true
   },
   "outputs": [
    {
     "name": "stdout",
     "output_type": "stream",
     "text": [
      "Пользователи тарифа Смарт используют в среднем 33 сообщений в месяц\n",
      "Пользователи тарифа Смарт используют в среднем 16 гигабайт в месяц\n",
      "Пользователи тарифа Смарт используют в среднем 418 минут в месяц\n",
      "Пользователи тарифа Смарт тратят в среднем 1290 рублей в месяц\n",
      "\n",
      "Пользователи тарифа Ультра используют в среднем 49 сообщений в месяц\n",
      "Пользователи тарифа Ультра используют в среднем 19 гигабайт в месяц\n",
      "Пользователи тарифа Ультра используют в среднем 526 минут в месяц\n",
      "Пользователи тарифа Ультра тратят в среднем 2070 рублей в месяц\n"
     ]
    }
   ],
   "source": [
    "print('Пользователи тарифа Смарт используют в среднем', round(smart['sms_month_count'].mean()), 'сообщений в месяц')\n",
    "print('Пользователи тарифа Смарт используют в среднем', round(smart['gb_used'].mean()), 'гигабайт в месяц')\n",
    "print('Пользователи тарифа Смарт используют в среднем', round(smart['duration'].mean()), 'минут в месяц')\n",
    "print('Пользователи тарифа Смарт тратят в среднем', round(smart['monthly_revenue'].mean()), 'рублей в месяц')\n",
    "print()\n",
    "print('Пользователи тарифа Ультра используют в среднем', round(ultra['sms_month_count'].mean()), 'сообщений в месяц')\n",
    "print('Пользователи тарифа Ультра используют в среднем', round(ultra['gb_used'].mean()), 'гигабайт в месяц')\n",
    "print('Пользователи тарифа Ультра используют в среднем', round(ultra['duration'].mean()), 'минут в месяц')\n",
    "print('Пользователи тарифа Ультра тратят в среднем', round(ultra['monthly_revenue'].mean()), 'рублей в месяц')\n"
   ]
  },
  {
   "cell_type": "markdown",
   "metadata": {},
   "source": [
    "Хочу еще посмотреть скольким людям стоит перейти на тариф ультра с тарифа смарт. Для этого я сгруппирую их только по id пользователей и выведу среднее значение для каждого."
   ]
  },
  {
   "cell_type": "code",
   "execution_count": 40,
   "metadata": {},
   "outputs": [
    {
     "name": "stdout",
     "output_type": "stream",
     "text": [
      "<class 'pandas.core.frame.DataFrame'>\n",
      "RangeIndex: 351 entries, 0 to 350\n",
      "Data columns (total 2 columns):\n",
      " #   Column           Non-Null Count  Dtype  \n",
      "---  ------           --------------  -----  \n",
      " 0   user_id          351 non-null    int64  \n",
      " 1   monthly_revenue  351 non-null    float64\n",
      "dtypes: float64(1), int64(1)\n",
      "memory usage: 5.6 KB\n"
     ]
    },
    {
     "data": {
      "text/plain": [
       "49"
      ]
     },
     "execution_count": 40,
     "metadata": {},
     "output_type": "execute_result"
    }
   ],
   "source": [
    "smart_grouped = smart.groupby(['user_id']).agg({'monthly_revenue': 'mean'}).reset_index()\n",
    "smart_grouped.info()\n",
    "sum(smart_grouped['monthly_revenue'] > 1950)"
   ]
  },
  {
   "cell_type": "markdown",
   "metadata": {},
   "source": [
    "### Вывод"
   ]
  },
  {
   "cell_type": "markdown",
   "metadata": {},
   "source": [
    "В среднем пользователи на тарифе ультра потребляют больше опций, но не сильно больше. И так же платят больше, что очевидно, сам тариф обходится дороже.\n",
    "\n",
    "Получили дисперсию по 4 параметрам. Дисперсия потвердила наши гистограммы. Вы видим, что на гистограмме с использованием смс, пользователи тарифа Ультра более \"размазаны\" по графику, чем пользователи тарифа Смарт. Дисперсия это потвреждает, 2283 и 796, соотвественно. На оставшихся параметрах, кроме monthly_revenue, соотношение аналогичны. На monthly_revenue, они полностью противоположны и у пользователей тарифа Смарт, данные более размазаны и диспресия соответвенно выше.\n",
    "\n",
    "Пользователи тарифа Смарт используют в среднем 33 сообщений в месяц при дисперсии 36265 и стандартном отклонением 190.\n",
    "<br>Пользователи тарифа Смарт используют в среднем 16 гигабайт в месяц при дисперсии 33 и стандартном отклонением 5,7.\n",
    "<br>Пользователи тарифа Смарт используют в среднем 418 минут в месяц при дисперсии 796 и стандартном отклонением 28.\n",
    "<br>Пользователи тарифа Смарт тратят в среднем 1290 рублей в месяц при дисперсии 669430 и стандартном отклонением 818.\n",
    "\n",
    "Пользователи тарифа Ультра используют в среднем 49 сообщений в месяц при дисперсии 100950 и стандартном отклонением 317.\n",
    "<br>Пользователи тарифа Ультра используют в среднем 19 гигабайт в месяц при дисперсии 97 и стандартном отклонением 9.\n",
    "<br>Пользователи тарифа Ультра используют в среднем 526 минут в месяц при дисперсии 2283 и стандартном отклонением 47.\n",
    "<br>Пользователи тарифа Ультра тратят в среднем 2070 рублей в месяц при дисперсии 141224 и стандартном отклонением 375.\n",
    "\n",
    "Пользователи смарта чаще переплачивают из-за того, то в их тарифе меньше пакет услуг. Когда услуг они используют не сильно меньше чем пользователи ультры. Но переходить на ультру им не стоит, т.к. там сам пакет стоит больше чем тратят в среднем на смарте. \n",
    "<br> Таких, кому стоит перейти на ультру всего 49 человек из 351."
   ]
  },
  {
   "cell_type": "markdown",
   "metadata": {},
   "source": [
    "## Проверка гипотез\n",
    "<a id='section_5'><a/>\n",
    " "
   ]
  },
  {
   "cell_type": "markdown",
   "metadata": {},
   "source": [
    "Проверим гипотезу, что средняя выручка пользователей тарифов «Ультра» и «Смарт» различаются. Нулевая гипотеза будет: выручка пользователей равна. Альтернативная гипотеза: выручка отличается"
   ]
  },
  {
   "cell_type": "code",
   "execution_count": 41,
   "metadata": {
    "scrolled": true
   },
   "outputs": [
    {
     "name": "stdout",
     "output_type": "stream",
     "text": [
      "p-значение: 8.081909555489931e-161\n",
      "Отвергаем нулевую гипотезу\n"
     ]
    }
   ],
   "source": [
    "smart = smart['monthly_revenue']\n",
    "ultra = ultra['monthly_revenue']\n",
    "\n",
    "alpha = 0.01\n",
    "\n",
    "results = st.ttest_ind(smart, ultra)\n",
    "\n",
    "print('p-значение:', results.pvalue)\n",
    "\n",
    "if (results.pvalue < alpha):\n",
    "    print(\"Отвергаем нулевую гипотезу\")\n",
    "else:\n",
    "    print(\"Не получилось отвергнуть нулевую гипотезу\")"
   ]
  },
  {
   "cell_type": "markdown",
   "metadata": {},
   "source": [
    "Выручка отличается, ура! Гипотезу отвергаем"
   ]
  },
  {
   "cell_type": "markdown",
   "metadata": {},
   "source": [
    "Проверим гипотезу, что средняя выручка пользователей из Москвы отличается от выручки пользователей из других регионов. Нулевая гипотеза будет: выручка пользователей равна. Альтернативная гипотеза: выручка отличается"
   ]
  },
  {
   "cell_type": "code",
   "execution_count": 42,
   "metadata": {},
   "outputs": [
    {
     "name": "stdout",
     "output_type": "stream",
     "text": [
      "p-значение: 0.5400751614511182\n",
      "Не получилось отвергнуть нулевую гипотезу\n"
     ]
    }
   ],
   "source": [
    "moscow = (data.query('city == \"Москва\"'))\n",
    "nonmoscow = (data.query('city != \"Москва\"'))\n",
    "\n",
    "moscow = moscow['monthly_revenue']\n",
    "nonmoscow = nonmoscow['monthly_revenue']\n",
    "\n",
    "results = st.ttest_ind(moscow, nonmoscow)\n",
    "\n",
    "print('p-значение:', results.pvalue)\n",
    "\n",
    "if (results.pvalue < alpha):\n",
    "    print(\"Отвергаем нулевую гипотезу\")\n",
    "else:\n",
    "    print(\"Не получилось отвергнуть нулевую гипотезу\")"
   ]
  },
  {
   "cell_type": "markdown",
   "metadata": {},
   "source": [
    "Выручка одинакова и гипотеза подтвердилась"
   ]
  },
  {
   "cell_type": "markdown",
   "metadata": {},
   "source": [
    "## Общие выводы\n",
    "<a id='section_6'><a/>\n",
    " "
   ]
  },
  {
   "cell_type": "markdown",
   "metadata": {},
   "source": [
    "Мы получили архивы с данными. Обработали их, заменили типы данных. Объеденили таблицы в одну. Добавили необходимые для анализа столбцы. Сгруппировали данные по месяцам и пользователям, рассчитали помесячную выручку и заполнили пропуски.\n",
    "\n",
    "Разделили данные на две таблицы по тарифам. Построили гистаграммы по длительности звонков, трафику интернета, отправленных смс и потраченное сумме в месяц. По тем же параметрам получили дисперсию, отклонение и среднее значение.\n",
    "\n",
    "По дисперсии мы видим, что у пользователей ультры хвост будет длинее на парамтерах: длительность звонков, использованных смс, интернет трафика. Они пользуются услугами более активнее. Противоположная ситуация с параметром месячной выручкой. И эти данные подтверждают наши гистограммы и среднее.\n",
    "\n",
    "Вывели две гипотезы, что выручка на обоих тарифах равна и выручка равна в Москве и остальной стране. Первую гипотезу мы отвергли. Вторую подтвердили."
   ]
  }
 ],
 "metadata": {
  "ExecuteTimeLog": [
   {
    "duration": 794,
    "start_time": "2021-12-07T12:38:09.234Z"
   },
   {
    "duration": 1858,
    "start_time": "2021-12-07T12:38:52.801Z"
   },
   {
    "duration": 510,
    "start_time": "2021-12-07T12:39:49.218Z"
   },
   {
    "duration": 221,
    "start_time": "2021-12-07T12:40:09.337Z"
   },
   {
    "duration": 196,
    "start_time": "2021-12-07T12:40:14.273Z"
   },
   {
    "duration": 212,
    "start_time": "2021-12-07T12:40:20.526Z"
   },
   {
    "duration": 348,
    "start_time": "2021-12-07T12:40:30.306Z"
   },
   {
    "duration": 181,
    "start_time": "2021-12-07T12:40:51.566Z"
   },
   {
    "duration": 181,
    "start_time": "2021-12-07T12:40:52.257Z"
   },
   {
    "duration": 25,
    "start_time": "2021-12-07T12:40:52.994Z"
   },
   {
    "duration": 54,
    "start_time": "2021-12-07T12:40:53.638Z"
   },
   {
    "duration": 672,
    "start_time": "2021-12-07T12:46:10.447Z"
   },
   {
    "duration": 207,
    "start_time": "2021-12-07T12:46:27.519Z"
   },
   {
    "duration": 248,
    "start_time": "2021-12-07T12:46:36.850Z"
   },
   {
    "duration": 225,
    "start_time": "2021-12-07T12:46:43.407Z"
   },
   {
    "duration": 259,
    "start_time": "2021-12-07T12:48:26.488Z"
   },
   {
    "duration": 230,
    "start_time": "2021-12-07T12:48:35.079Z"
   },
   {
    "duration": 256,
    "start_time": "2021-12-07T12:48:55.291Z"
   },
   {
    "duration": 261,
    "start_time": "2021-12-07T12:49:05.156Z"
   },
   {
    "duration": 227,
    "start_time": "2021-12-07T12:49:20.384Z"
   },
   {
    "duration": 230,
    "start_time": "2021-12-07T12:49:28.500Z"
   },
   {
    "duration": 198,
    "start_time": "2021-12-07T12:49:39.676Z"
   },
   {
    "duration": 137,
    "start_time": "2021-12-07T12:49:47.408Z"
   },
   {
    "duration": 33,
    "start_time": "2021-12-07T12:49:53.152Z"
   },
   {
    "duration": 69,
    "start_time": "2021-12-07T12:50:02.332Z"
   },
   {
    "duration": 42,
    "start_time": "2021-12-07T13:09:46.109Z"
   },
   {
    "duration": 62,
    "start_time": "2021-12-07T13:12:01.684Z"
   },
   {
    "duration": 329,
    "start_time": "2021-12-07T13:19:47.545Z"
   },
   {
    "duration": 327,
    "start_time": "2021-12-07T13:19:59.681Z"
   },
   {
    "duration": 4,
    "start_time": "2021-12-07T13:22:20.314Z"
   },
   {
    "duration": 428,
    "start_time": "2021-12-07T13:23:03.862Z"
   },
   {
    "duration": 23,
    "start_time": "2021-12-07T13:23:40.330Z"
   },
   {
    "duration": 6,
    "start_time": "2021-12-07T13:23:43.546Z"
   },
   {
    "duration": 5,
    "start_time": "2021-12-07T13:23:46.278Z"
   },
   {
    "duration": 441,
    "start_time": "2021-12-07T13:24:27.973Z"
   },
   {
    "duration": 445,
    "start_time": "2021-12-07T13:24:32.986Z"
   },
   {
    "duration": 395,
    "start_time": "2021-12-07T13:24:41.890Z"
   },
   {
    "duration": 384,
    "start_time": "2021-12-07T13:24:49.118Z"
   },
   {
    "duration": 428,
    "start_time": "2021-12-07T13:24:59.498Z"
   },
   {
    "duration": 392,
    "start_time": "2021-12-07T13:25:02.897Z"
   },
   {
    "duration": 8,
    "start_time": "2021-12-07T13:25:33.015Z"
   },
   {
    "duration": 486,
    "start_time": "2021-12-07T13:25:37.673Z"
   },
   {
    "duration": 30458,
    "start_time": "2021-12-07T13:26:04.655Z"
   },
   {
    "duration": 6,
    "start_time": "2021-12-07T13:26:35.115Z"
   },
   {
    "duration": 5,
    "start_time": "2021-12-07T13:26:35.123Z"
   },
   {
    "duration": 4,
    "start_time": "2021-12-07T13:26:41.727Z"
   },
   {
    "duration": 230,
    "start_time": "2021-12-07T13:26:42.012Z"
   },
   {
    "duration": 214,
    "start_time": "2021-12-07T13:26:42.747Z"
   },
   {
    "duration": 135,
    "start_time": "2021-12-07T13:26:43.399Z"
   },
   {
    "duration": 34,
    "start_time": "2021-12-07T13:26:43.866Z"
   },
   {
    "duration": 50,
    "start_time": "2021-12-07T13:26:44.202Z"
   },
   {
    "duration": 132,
    "start_time": "2021-12-07T13:26:45.295Z"
   },
   {
    "duration": 347,
    "start_time": "2021-12-07T13:26:45.618Z"
   },
   {
    "duration": 6,
    "start_time": "2021-12-07T13:26:48.437Z"
   },
   {
    "duration": 385,
    "start_time": "2021-12-07T13:26:48.445Z"
   },
   {
    "duration": 29860,
    "start_time": "2021-12-07T13:26:50.122Z"
   },
   {
    "duration": 43,
    "start_time": "2021-12-07T13:27:19.992Z"
   },
   {
    "duration": 11,
    "start_time": "2021-12-07T13:27:35.934Z"
   },
   {
    "duration": 29755,
    "start_time": "2021-12-07T13:28:16.178Z"
   },
   {
    "duration": 18,
    "start_time": "2021-12-07T13:29:17.715Z"
   },
   {
    "duration": 1258,
    "start_time": "2021-12-08T15:07:52.803Z"
   },
   {
    "duration": 181,
    "start_time": "2021-12-08T15:07:54.999Z"
   },
   {
    "duration": 162,
    "start_time": "2021-12-08T15:07:55.990Z"
   },
   {
    "duration": 180,
    "start_time": "2021-12-08T15:10:58.399Z"
   },
   {
    "duration": 153,
    "start_time": "2021-12-08T15:10:59.006Z"
   },
   {
    "duration": 103,
    "start_time": "2021-12-08T15:10:59.699Z"
   },
   {
    "duration": 24,
    "start_time": "2021-12-08T15:11:01.879Z"
   },
   {
    "duration": 64,
    "start_time": "2021-12-08T15:11:03.724Z"
   },
   {
    "duration": 54,
    "start_time": "2021-12-08T15:11:29.868Z"
   },
   {
    "duration": 4,
    "start_time": "2021-12-08T15:13:18.291Z"
   },
   {
    "duration": 5,
    "start_time": "2021-12-08T15:13:32.730Z"
   },
   {
    "duration": 6,
    "start_time": "2021-12-08T15:13:52.308Z"
   },
   {
    "duration": 419,
    "start_time": "2021-12-08T15:15:19.520Z"
   },
   {
    "duration": 373,
    "start_time": "2021-12-08T15:15:24.680Z"
   },
   {
    "duration": 8,
    "start_time": "2021-12-08T15:15:44.559Z"
   },
   {
    "duration": 18,
    "start_time": "2021-12-08T15:24:00.881Z"
   },
   {
    "duration": 5,
    "start_time": "2021-12-08T15:24:06.353Z"
   },
   {
    "duration": 3,
    "start_time": "2021-12-08T15:24:27.156Z"
   },
   {
    "duration": 178,
    "start_time": "2021-12-08T15:24:27.352Z"
   },
   {
    "duration": 186,
    "start_time": "2021-12-08T15:24:27.531Z"
   },
   {
    "duration": 106,
    "start_time": "2021-12-08T15:24:27.719Z"
   },
   {
    "duration": 24,
    "start_time": "2021-12-08T15:24:27.844Z"
   },
   {
    "duration": 46,
    "start_time": "2021-12-08T15:24:28.017Z"
   },
   {
    "duration": 70,
    "start_time": "2021-12-08T15:24:28.808Z"
   },
   {
    "duration": 185,
    "start_time": "2021-12-08T15:24:29.044Z"
   },
   {
    "duration": 4,
    "start_time": "2021-12-08T15:24:29.504Z"
   },
   {
    "duration": 13306,
    "start_time": "2021-12-08T15:24:30.085Z"
   },
   {
    "duration": 18,
    "start_time": "2021-12-08T15:24:43.393Z"
   },
   {
    "duration": 7,
    "start_time": "2021-12-08T15:24:43.413Z"
   },
   {
    "duration": 258,
    "start_time": "2021-12-08T15:24:47.580Z"
   },
   {
    "duration": 9045,
    "start_time": "2021-12-08T15:29:33.914Z"
   },
   {
    "duration": 363,
    "start_time": "2021-12-08T15:30:06.495Z"
   },
   {
    "duration": -48,
    "start_time": "2021-12-08T15:31:41.935Z"
   },
   {
    "duration": 534,
    "start_time": "2021-12-08T15:32:06.897Z"
   },
   {
    "duration": 10302,
    "start_time": "2021-12-08T15:32:13.391Z"
   },
   {
    "duration": 18,
    "start_time": "2021-12-08T15:37:40.533Z"
   },
   {
    "duration": 352,
    "start_time": "2021-12-08T15:39:45.113Z"
   },
   {
    "duration": 15,
    "start_time": "2021-12-08T15:39:53.808Z"
   },
   {
    "duration": 3,
    "start_time": "2021-12-08T15:40:02.758Z"
   },
   {
    "duration": 175,
    "start_time": "2021-12-08T15:40:02.934Z"
   },
   {
    "duration": 162,
    "start_time": "2021-12-08T15:40:03.111Z"
   },
   {
    "duration": 115,
    "start_time": "2021-12-08T15:40:03.276Z"
   },
   {
    "duration": 25,
    "start_time": "2021-12-08T15:40:03.396Z"
   },
   {
    "duration": 41,
    "start_time": "2021-12-08T15:40:03.568Z"
   },
   {
    "duration": 67,
    "start_time": "2021-12-08T15:40:04.798Z"
   },
   {
    "duration": 208,
    "start_time": "2021-12-08T15:40:05.060Z"
   },
   {
    "duration": 4,
    "start_time": "2021-12-08T15:40:05.480Z"
   },
   {
    "duration": 13558,
    "start_time": "2021-12-08T15:40:06.137Z"
   },
   {
    "duration": 15,
    "start_time": "2021-12-08T15:40:19.696Z"
   },
   {
    "duration": 12,
    "start_time": "2021-12-08T15:40:19.712Z"
   },
   {
    "duration": 14,
    "start_time": "2021-12-08T15:40:32.889Z"
   },
   {
    "duration": 3,
    "start_time": "2021-12-08T15:42:49.541Z"
   },
   {
    "duration": 862,
    "start_time": "2021-12-08T15:44:30.066Z"
   },
   {
    "duration": 22,
    "start_time": "2021-12-08T15:45:00.085Z"
   },
   {
    "duration": 3,
    "start_time": "2021-12-08T15:45:12.876Z"
   },
   {
    "duration": 177,
    "start_time": "2021-12-08T15:45:13.250Z"
   },
   {
    "duration": 150,
    "start_time": "2021-12-08T15:45:13.452Z"
   },
   {
    "duration": 102,
    "start_time": "2021-12-08T15:45:13.636Z"
   },
   {
    "duration": 23,
    "start_time": "2021-12-08T15:45:13.824Z"
   },
   {
    "duration": 39,
    "start_time": "2021-12-08T15:45:14.326Z"
   },
   {
    "duration": 65,
    "start_time": "2021-12-08T15:45:15.721Z"
   },
   {
    "duration": 198,
    "start_time": "2021-12-08T15:45:16.189Z"
   },
   {
    "duration": 13013,
    "start_time": "2021-12-08T15:45:17.300Z"
   },
   {
    "duration": 23,
    "start_time": "2021-12-08T15:45:32.300Z"
   },
   {
    "duration": 53,
    "start_time": "2021-12-08T15:46:14.209Z"
   },
   {
    "duration": 8,
    "start_time": "2021-12-08T15:46:20.297Z"
   },
   {
    "duration": 28,
    "start_time": "2021-12-08T15:46:27.201Z"
   },
   {
    "duration": 21,
    "start_time": "2021-12-08T15:47:36.246Z"
   },
   {
    "duration": 21,
    "start_time": "2021-12-08T15:50:06.447Z"
   },
   {
    "duration": 15,
    "start_time": "2021-12-08T15:50:10.390Z"
   },
   {
    "duration": 114,
    "start_time": "2021-12-08T15:50:33.206Z"
   },
   {
    "duration": 8367,
    "start_time": "2021-12-08T15:50:38.947Z"
   },
   {
    "duration": -53,
    "start_time": "2021-12-08T15:50:47.369Z"
   },
   {
    "duration": 348,
    "start_time": "2021-12-08T15:51:42.650Z"
   },
   {
    "duration": 344,
    "start_time": "2021-12-08T15:51:48.327Z"
   },
   {
    "duration": 9235,
    "start_time": "2021-12-08T15:51:55.182Z"
   },
   {
    "duration": -60,
    "start_time": "2021-12-08T15:52:04.479Z"
   },
   {
    "duration": 4,
    "start_time": "2021-12-08T15:52:06.098Z"
   },
   {
    "duration": 178,
    "start_time": "2021-12-08T15:52:07.002Z"
   },
   {
    "duration": 152,
    "start_time": "2021-12-08T15:52:07.707Z"
   },
   {
    "duration": 107,
    "start_time": "2021-12-08T15:52:08.045Z"
   },
   {
    "duration": 25,
    "start_time": "2021-12-08T15:52:08.294Z"
   },
   {
    "duration": 40,
    "start_time": "2021-12-08T15:52:08.510Z"
   },
   {
    "duration": 69,
    "start_time": "2021-12-08T15:52:09.247Z"
   },
   {
    "duration": 198,
    "start_time": "2021-12-08T15:52:09.422Z"
   },
   {
    "duration": 13535,
    "start_time": "2021-12-08T15:52:10.387Z"
   },
   {
    "duration": 52,
    "start_time": "2021-12-08T15:52:23.924Z"
   },
   {
    "duration": 29,
    "start_time": "2021-12-08T15:52:23.979Z"
   },
   {
    "duration": 26,
    "start_time": "2021-12-08T15:52:24.010Z"
   },
   {
    "duration": 21,
    "start_time": "2021-12-08T15:52:24.038Z"
   },
   {
    "duration": 279,
    "start_time": "2021-12-08T15:52:27.287Z"
   },
   {
    "duration": 14,
    "start_time": "2021-12-08T15:52:34.762Z"
   },
   {
    "duration": 169,
    "start_time": "2021-12-08T15:52:39.378Z"
   },
   {
    "duration": 153,
    "start_time": "2021-12-08T15:52:39.646Z"
   },
   {
    "duration": 103,
    "start_time": "2021-12-08T15:52:39.852Z"
   },
   {
    "duration": 26,
    "start_time": "2021-12-08T15:52:40.002Z"
   },
   {
    "duration": 40,
    "start_time": "2021-12-08T15:52:40.193Z"
   },
   {
    "duration": 65,
    "start_time": "2021-12-08T15:52:41.387Z"
   },
   {
    "duration": 192,
    "start_time": "2021-12-08T15:52:41.738Z"
   },
   {
    "duration": 13132,
    "start_time": "2021-12-08T15:52:42.049Z"
   },
   {
    "duration": 61,
    "start_time": "2021-12-08T15:52:55.183Z"
   },
   {
    "duration": 8,
    "start_time": "2021-12-08T15:52:55.246Z"
   },
   {
    "duration": 27,
    "start_time": "2021-12-08T15:52:55.256Z"
   },
   {
    "duration": 37,
    "start_time": "2021-12-08T15:52:55.284Z"
   },
   {
    "duration": 21,
    "start_time": "2021-12-08T15:52:55.323Z"
   },
   {
    "duration": 9137,
    "start_time": "2021-12-08T15:52:55.346Z"
   },
   {
    "duration": 10,
    "start_time": "2021-12-08T15:54:48.574Z"
   },
   {
    "duration": -54,
    "start_time": "2021-12-08T15:55:02.720Z"
   },
   {
    "duration": 4,
    "start_time": "2021-12-08T15:55:05.597Z"
   },
   {
    "duration": 170,
    "start_time": "2021-12-08T15:55:05.830Z"
   },
   {
    "duration": 155,
    "start_time": "2021-12-08T15:55:06.021Z"
   },
   {
    "duration": 106,
    "start_time": "2021-12-08T15:55:06.253Z"
   },
   {
    "duration": 26,
    "start_time": "2021-12-08T15:55:06.494Z"
   },
   {
    "duration": 41,
    "start_time": "2021-12-08T15:55:06.690Z"
   },
   {
    "duration": 67,
    "start_time": "2021-12-08T15:55:07.795Z"
   },
   {
    "duration": 202,
    "start_time": "2021-12-08T15:55:08.166Z"
   },
   {
    "duration": 13604,
    "start_time": "2021-12-08T15:55:11.531Z"
   },
   {
    "duration": 49,
    "start_time": "2021-12-08T15:55:25.137Z"
   },
   {
    "duration": 19,
    "start_time": "2021-12-08T15:55:25.188Z"
   },
   {
    "duration": 24,
    "start_time": "2021-12-08T15:55:25.209Z"
   },
   {
    "duration": 21,
    "start_time": "2021-12-08T15:55:25.235Z"
   },
   {
    "duration": 49,
    "start_time": "2021-12-08T15:55:25.258Z"
   },
   {
    "duration": 344,
    "start_time": "2021-12-08T15:59:56.727Z"
   },
   {
    "duration": 13,
    "start_time": "2021-12-08T16:01:45.508Z"
   },
   {
    "duration": 12,
    "start_time": "2021-12-08T16:01:58.055Z"
   },
   {
    "duration": 11,
    "start_time": "2021-12-08T16:02:01.399Z"
   },
   {
    "duration": 11,
    "start_time": "2021-12-08T16:02:06.635Z"
   },
   {
    "duration": 9176,
    "start_time": "2021-12-08T16:02:09.880Z"
   },
   {
    "duration": 282,
    "start_time": "2021-12-08T16:02:45.933Z"
   },
   {
    "duration": 264,
    "start_time": "2021-12-08T16:03:19.050Z"
   },
   {
    "duration": 4,
    "start_time": "2021-12-08T16:04:47.152Z"
   },
   {
    "duration": 9,
    "start_time": "2021-12-08T16:04:54.104Z"
   },
   {
    "duration": 4,
    "start_time": "2021-12-08T16:08:35.500Z"
   },
   {
    "duration": 186,
    "start_time": "2021-12-08T16:08:36.181Z"
   },
   {
    "duration": 162,
    "start_time": "2021-12-08T16:08:36.624Z"
   },
   {
    "duration": 113,
    "start_time": "2021-12-08T16:08:36.953Z"
   },
   {
    "duration": 28,
    "start_time": "2021-12-08T16:08:37.201Z"
   },
   {
    "duration": 56,
    "start_time": "2021-12-08T16:08:37.425Z"
   },
   {
    "duration": 71,
    "start_time": "2021-12-08T16:08:38.164Z"
   },
   {
    "duration": 212,
    "start_time": "2021-12-08T16:08:38.364Z"
   },
   {
    "duration": 14161,
    "start_time": "2021-12-08T16:08:38.578Z"
   },
   {
    "duration": 53,
    "start_time": "2021-12-08T16:08:52.742Z"
   },
   {
    "duration": 8,
    "start_time": "2021-12-08T16:08:52.806Z"
   },
   {
    "duration": 105,
    "start_time": "2021-12-08T16:08:52.816Z"
   },
   {
    "duration": 22,
    "start_time": "2021-12-08T16:08:52.923Z"
   },
   {
    "duration": 268,
    "start_time": "2021-12-08T16:09:03.006Z"
   },
   {
    "duration": 24,
    "start_time": "2021-12-08T16:09:05.808Z"
   },
   {
    "duration": 11,
    "start_time": "2021-12-08T16:11:47.573Z"
   },
   {
    "duration": 14,
    "start_time": "2021-12-08T16:11:50.145Z"
   },
   {
    "duration": 8,
    "start_time": "2021-12-08T16:12:15.219Z"
   },
   {
    "duration": 11,
    "start_time": "2021-12-08T16:12:43.071Z"
   },
   {
    "duration": 7,
    "start_time": "2021-12-08T16:12:43.697Z"
   },
   {
    "duration": 16,
    "start_time": "2021-12-08T16:12:49.239Z"
   },
   {
    "duration": 5,
    "start_time": "2021-12-08T16:13:19.466Z"
   },
   {
    "duration": 398,
    "start_time": "2021-12-08T16:14:05.044Z"
   },
   {
    "duration": 395,
    "start_time": "2021-12-08T16:14:08.891Z"
   },
   {
    "duration": 775,
    "start_time": "2021-12-08T16:14:19.982Z"
   },
   {
    "duration": 3,
    "start_time": "2021-12-08T16:14:55.187Z"
   },
   {
    "duration": 14,
    "start_time": "2021-12-08T16:15:00.427Z"
   },
   {
    "duration": 2,
    "start_time": "2021-12-08T16:16:02.058Z"
   },
   {
    "duration": 3,
    "start_time": "2021-12-08T16:16:29.255Z"
   },
   {
    "duration": 9,
    "start_time": "2021-12-08T16:17:52.403Z"
   },
   {
    "duration": 9,
    "start_time": "2021-12-08T16:19:30.268Z"
   },
   {
    "duration": 30,
    "start_time": "2021-12-08T16:19:45.923Z"
   },
   {
    "duration": 23,
    "start_time": "2021-12-08T16:20:09.483Z"
   },
   {
    "duration": 24,
    "start_time": "2021-12-08T16:20:11.319Z"
   },
   {
    "duration": 4,
    "start_time": "2021-12-08T16:26:45.636Z"
   },
   {
    "duration": 9118,
    "start_time": "2021-12-08T16:28:19.812Z"
   },
   {
    "duration": 290,
    "start_time": "2021-12-08T16:28:46.015Z"
   },
   {
    "duration": 4,
    "start_time": "2021-12-08T16:29:23.573Z"
   },
   {
    "duration": 4,
    "start_time": "2021-12-08T16:29:24.033Z"
   },
   {
    "duration": 4,
    "start_time": "2021-12-08T16:29:24.324Z"
   },
   {
    "duration": 27,
    "start_time": "2021-12-08T16:29:29.606Z"
   },
   {
    "duration": 4,
    "start_time": "2021-12-08T16:34:59.447Z"
   },
   {
    "duration": 26,
    "start_time": "2021-12-08T16:35:12.813Z"
   },
   {
    "duration": 7,
    "start_time": "2021-12-08T16:35:34.936Z"
   },
   {
    "duration": 27,
    "start_time": "2021-12-08T16:35:35.419Z"
   },
   {
    "duration": 3,
    "start_time": "2021-12-08T16:35:47.374Z"
   },
   {
    "duration": 177,
    "start_time": "2021-12-08T16:35:47.586Z"
   },
   {
    "duration": 150,
    "start_time": "2021-12-08T16:35:47.765Z"
   },
   {
    "duration": 109,
    "start_time": "2021-12-08T16:35:47.938Z"
   },
   {
    "duration": 26,
    "start_time": "2021-12-08T16:35:48.093Z"
   },
   {
    "duration": 51,
    "start_time": "2021-12-08T16:35:48.246Z"
   },
   {
    "duration": 65,
    "start_time": "2021-12-08T16:35:48.918Z"
   },
   {
    "duration": 198,
    "start_time": "2021-12-08T16:35:49.114Z"
   },
   {
    "duration": 13449,
    "start_time": "2021-12-08T16:35:49.325Z"
   },
   {
    "duration": 60,
    "start_time": "2021-12-08T16:36:02.776Z"
   },
   {
    "duration": 8,
    "start_time": "2021-12-08T16:36:02.839Z"
   },
   {
    "duration": 34,
    "start_time": "2021-12-08T16:36:02.850Z"
   },
   {
    "duration": 34,
    "start_time": "2021-12-08T16:36:02.886Z"
   },
   {
    "duration": 248,
    "start_time": "2021-12-08T16:36:02.922Z"
   },
   {
    "duration": 34,
    "start_time": "2021-12-08T16:36:03.172Z"
   },
   {
    "duration": 15,
    "start_time": "2021-12-08T16:36:03.209Z"
   },
   {
    "duration": 17,
    "start_time": "2021-12-08T16:36:03.226Z"
   },
   {
    "duration": 11,
    "start_time": "2021-12-08T16:36:03.245Z"
   },
   {
    "duration": 68,
    "start_time": "2021-12-08T16:36:03.258Z"
   },
   {
    "duration": 28,
    "start_time": "2021-12-08T16:36:03.329Z"
   },
   {
    "duration": 294,
    "start_time": "2021-12-08T16:36:03.359Z"
   },
   {
    "duration": 31,
    "start_time": "2021-12-08T16:36:19.798Z"
   },
   {
    "duration": 6,
    "start_time": "2021-12-08T16:36:24.954Z"
   },
   {
    "duration": 27,
    "start_time": "2021-12-08T16:36:30.876Z"
   },
   {
    "duration": 29,
    "start_time": "2021-12-08T16:36:43.828Z"
   },
   {
    "duration": 29,
    "start_time": "2021-12-08T16:38:57.023Z"
   },
   {
    "duration": 100,
    "start_time": "2021-12-08T16:44:44.375Z"
   },
   {
    "duration": 8,
    "start_time": "2021-12-08T16:44:57.975Z"
   },
   {
    "duration": 32,
    "start_time": "2021-12-08T16:45:01.811Z"
   },
   {
    "duration": 9,
    "start_time": "2021-12-08T16:45:37.170Z"
   },
   {
    "duration": 30,
    "start_time": "2021-12-08T16:46:29.367Z"
   },
   {
    "duration": 30,
    "start_time": "2021-12-08T16:46:57.368Z"
   },
   {
    "duration": 3,
    "start_time": "2021-12-08T16:47:32.829Z"
   },
   {
    "duration": 6,
    "start_time": "2021-12-08T16:47:38.569Z"
   },
   {
    "duration": 12,
    "start_time": "2021-12-08T16:49:34.953Z"
   },
   {
    "duration": 13,
    "start_time": "2021-12-08T16:49:48.379Z"
   },
   {
    "duration": 128,
    "start_time": "2021-12-08T16:50:08.103Z"
   },
   {
    "duration": 12,
    "start_time": "2021-12-08T16:50:14.544Z"
   },
   {
    "duration": 6,
    "start_time": "2021-12-08T16:50:23.415Z"
   },
   {
    "duration": 9,
    "start_time": "2021-12-08T16:51:17.431Z"
   },
   {
    "duration": 10,
    "start_time": "2021-12-08T16:51:26.219Z"
   },
   {
    "duration": 10,
    "start_time": "2021-12-08T16:52:48.538Z"
   },
   {
    "duration": 10,
    "start_time": "2021-12-08T16:53:01.400Z"
   },
   {
    "duration": 10,
    "start_time": "2021-12-08T16:53:14.938Z"
   },
   {
    "duration": 9,
    "start_time": "2021-12-08T16:57:30.368Z"
   },
   {
    "duration": 21,
    "start_time": "2021-12-08T16:57:39.212Z"
   },
   {
    "duration": 23,
    "start_time": "2021-12-08T16:57:55.075Z"
   },
   {
    "duration": 641,
    "start_time": "2021-12-08T16:58:26.369Z"
   },
   {
    "duration": 23,
    "start_time": "2021-12-08T16:58:38.598Z"
   },
   {
    "duration": 361,
    "start_time": "2021-12-08T16:59:14.091Z"
   },
   {
    "duration": 225,
    "start_time": "2021-12-08T16:59:19.393Z"
   },
   {
    "duration": 304,
    "start_time": "2021-12-08T16:59:35.687Z"
   },
   {
    "duration": 367,
    "start_time": "2021-12-08T16:59:55.328Z"
   },
   {
    "duration": 8859,
    "start_time": "2021-12-08T17:00:29.544Z"
   },
   {
    "duration": -56,
    "start_time": "2021-12-08T17:00:48.992Z"
   },
   {
    "duration": 423,
    "start_time": "2021-12-08T17:00:54.224Z"
   },
   {
    "duration": 361,
    "start_time": "2021-12-08T17:01:04.154Z"
   },
   {
    "duration": 1152,
    "start_time": "2021-12-14T17:11:01.364Z"
   },
   {
    "duration": 190,
    "start_time": "2021-12-14T17:11:11.513Z"
   },
   {
    "duration": 146,
    "start_time": "2021-12-14T17:11:12.458Z"
   },
   {
    "duration": 104,
    "start_time": "2021-12-14T17:11:12.645Z"
   },
   {
    "duration": 24,
    "start_time": "2021-12-14T17:11:12.820Z"
   },
   {
    "duration": 46,
    "start_time": "2021-12-14T17:11:12.987Z"
   },
   {
    "duration": 69,
    "start_time": "2021-12-14T17:11:13.626Z"
   },
   {
    "duration": 188,
    "start_time": "2021-12-14T17:11:13.794Z"
   },
   {
    "duration": 13253,
    "start_time": "2021-12-14T17:11:13.985Z"
   },
   {
    "duration": 55,
    "start_time": "2021-12-14T17:11:27.240Z"
   },
   {
    "duration": 9,
    "start_time": "2021-12-14T17:11:27.297Z"
   },
   {
    "duration": 57,
    "start_time": "2021-12-14T17:11:27.308Z"
   },
   {
    "duration": 20,
    "start_time": "2021-12-14T17:11:27.367Z"
   },
   {
    "duration": 251,
    "start_time": "2021-12-14T17:11:27.390Z"
   },
   {
    "duration": 26,
    "start_time": "2021-12-14T17:11:27.643Z"
   },
   {
    "duration": 16,
    "start_time": "2021-12-14T17:11:27.671Z"
   },
   {
    "duration": 34,
    "start_time": "2021-12-14T17:11:27.689Z"
   },
   {
    "duration": 26,
    "start_time": "2021-12-14T17:11:27.725Z"
   },
   {
    "duration": 55,
    "start_time": "2021-12-14T17:11:27.753Z"
   },
   {
    "duration": 65,
    "start_time": "2021-12-14T17:11:27.810Z"
   },
   {
    "duration": 258,
    "start_time": "2021-12-14T17:11:27.876Z"
   },
   {
    "duration": 35,
    "start_time": "2021-12-14T17:11:28.135Z"
   },
   {
    "duration": 30,
    "start_time": "2021-12-14T17:11:28.172Z"
   },
   {
    "duration": 51,
    "start_time": "2021-12-14T17:11:28.203Z"
   },
   {
    "duration": 61,
    "start_time": "2021-12-14T17:11:28.255Z"
   },
   {
    "duration": 9,
    "start_time": "2021-12-14T17:11:28.319Z"
   },
   {
    "duration": 876,
    "start_time": "2021-12-14T17:11:28.330Z"
   },
   {
    "duration": 274,
    "start_time": "2021-12-14T17:18:09.336Z"
   },
   {
    "duration": 353,
    "start_time": "2021-12-14T17:18:38.375Z"
   },
   {
    "duration": 297,
    "start_time": "2021-12-14T17:18:39.815Z"
   },
   {
    "duration": 258,
    "start_time": "2021-12-14T17:18:41.015Z"
   },
   {
    "duration": 1502,
    "start_time": "2021-12-15T16:20:53.176Z"
   },
   {
    "duration": 248,
    "start_time": "2021-12-15T16:20:55.215Z"
   },
   {
    "duration": 214,
    "start_time": "2021-12-15T16:20:55.703Z"
   },
   {
    "duration": 136,
    "start_time": "2021-12-15T16:20:56.015Z"
   },
   {
    "duration": 32,
    "start_time": "2021-12-15T16:20:56.247Z"
   },
   {
    "duration": 55,
    "start_time": "2021-12-15T16:20:56.466Z"
   },
   {
    "duration": 97,
    "start_time": "2021-12-15T16:20:57.062Z"
   },
   {
    "duration": 333,
    "start_time": "2021-12-15T16:20:57.162Z"
   },
   {
    "duration": 28736,
    "start_time": "2021-12-15T16:20:57.498Z"
   },
   {
    "duration": 81,
    "start_time": "2021-12-15T16:21:26.237Z"
   },
   {
    "duration": 10,
    "start_time": "2021-12-15T16:21:26.320Z"
   },
   {
    "duration": 41,
    "start_time": "2021-12-15T16:21:26.332Z"
   },
   {
    "duration": 58,
    "start_time": "2021-12-15T16:21:26.375Z"
   },
   {
    "duration": 447,
    "start_time": "2021-12-15T16:21:26.436Z"
   },
   {
    "duration": 39,
    "start_time": "2021-12-15T16:21:26.887Z"
   },
   {
    "duration": 18,
    "start_time": "2021-12-15T16:21:26.928Z"
   },
   {
    "duration": 21,
    "start_time": "2021-12-15T16:21:26.948Z"
   },
   {
    "duration": 46,
    "start_time": "2021-12-15T16:21:26.971Z"
   },
   {
    "duration": 47,
    "start_time": "2021-12-15T16:21:27.020Z"
   },
   {
    "duration": 52,
    "start_time": "2021-12-15T16:21:27.070Z"
   },
   {
    "duration": 501,
    "start_time": "2021-12-15T16:21:27.125Z"
   },
   {
    "duration": 47,
    "start_time": "2021-12-15T16:21:27.628Z"
   },
   {
    "duration": 69,
    "start_time": "2021-12-15T16:21:27.678Z"
   },
   {
    "duration": 47,
    "start_time": "2021-12-15T16:21:27.750Z"
   },
   {
    "duration": 51,
    "start_time": "2021-12-15T16:21:27.817Z"
   },
   {
    "duration": 13,
    "start_time": "2021-12-15T16:21:27.870Z"
   },
   {
    "duration": 1119,
    "start_time": "2021-12-15T16:21:27.885Z"
   },
   {
    "duration": 481,
    "start_time": "2021-12-15T16:21:29.006Z"
   },
   {
    "duration": 582,
    "start_time": "2021-12-15T16:21:29.493Z"
   },
   {
    "duration": 469,
    "start_time": "2021-12-15T16:21:30.077Z"
   },
   {
    "duration": 443,
    "start_time": "2021-12-15T16:22:12.853Z"
   },
   {
    "duration": 4,
    "start_time": "2021-12-15T16:23:03.501Z"
   },
   {
    "duration": 9,
    "start_time": "2021-12-15T16:23:08.798Z"
   },
   {
    "duration": 4,
    "start_time": "2021-12-15T16:36:01.888Z"
   },
   {
    "duration": 3415,
    "start_time": "2021-12-15T16:38:55.438Z"
   },
   {
    "duration": 7,
    "start_time": "2021-12-15T16:39:25.878Z"
   },
   {
    "duration": 16,
    "start_time": "2021-12-15T16:39:38.238Z"
   },
   {
    "duration": 236,
    "start_time": "2021-12-15T16:39:40.623Z"
   },
   {
    "duration": 5,
    "start_time": "2021-12-15T16:39:56.110Z"
   },
   {
    "duration": 3265,
    "start_time": "2021-12-15T16:39:59.950Z"
   },
   {
    "duration": 10,
    "start_time": "2021-12-15T16:40:09.278Z"
   },
   {
    "duration": 8,
    "start_time": "2021-12-15T16:40:12.262Z"
   },
   {
    "duration": 15,
    "start_time": "2021-12-15T16:42:36.293Z"
   },
   {
    "duration": 13,
    "start_time": "2021-12-15T16:47:36.586Z"
   },
   {
    "duration": 16,
    "start_time": "2021-12-15T16:48:52.810Z"
   },
   {
    "duration": 15,
    "start_time": "2021-12-15T16:49:34.506Z"
   },
   {
    "duration": 3064,
    "start_time": "2021-12-15T16:53:22.208Z"
   },
   {
    "duration": 1526,
    "start_time": "2021-12-16T05:56:59.813Z"
   },
   {
    "duration": 259,
    "start_time": "2021-12-16T05:57:01.343Z"
   },
   {
    "duration": 208,
    "start_time": "2021-12-16T05:57:01.605Z"
   },
   {
    "duration": 144,
    "start_time": "2021-12-16T05:57:01.815Z"
   },
   {
    "duration": 32,
    "start_time": "2021-12-16T05:57:01.961Z"
   },
   {
    "duration": 55,
    "start_time": "2021-12-16T05:57:01.996Z"
   },
   {
    "duration": 98,
    "start_time": "2021-12-16T05:57:02.053Z"
   },
   {
    "duration": 328,
    "start_time": "2021-12-16T05:57:02.155Z"
   },
   {
    "duration": 25686,
    "start_time": "2021-12-16T05:57:02.486Z"
   },
   {
    "duration": 71,
    "start_time": "2021-12-16T05:57:28.174Z"
   },
   {
    "duration": 10,
    "start_time": "2021-12-16T05:57:28.260Z"
   },
   {
    "duration": 39,
    "start_time": "2021-12-16T05:57:28.273Z"
   },
   {
    "duration": 62,
    "start_time": "2021-12-16T05:57:28.314Z"
   },
   {
    "duration": 471,
    "start_time": "2021-12-16T05:57:28.379Z"
   },
   {
    "duration": 36,
    "start_time": "2021-12-16T05:57:28.853Z"
   },
   {
    "duration": 19,
    "start_time": "2021-12-16T05:57:28.892Z"
   },
   {
    "duration": 50,
    "start_time": "2021-12-16T05:57:28.913Z"
   },
   {
    "duration": 12,
    "start_time": "2021-12-16T05:57:28.966Z"
   },
   {
    "duration": 45,
    "start_time": "2021-12-16T05:57:28.981Z"
   },
   {
    "duration": 54,
    "start_time": "2021-12-16T05:57:29.028Z"
   },
   {
    "duration": 466,
    "start_time": "2021-12-16T05:57:29.085Z"
   },
   {
    "duration": 49,
    "start_time": "2021-12-16T05:57:29.553Z"
   },
   {
    "duration": 67,
    "start_time": "2021-12-16T05:57:29.604Z"
   },
   {
    "duration": 47,
    "start_time": "2021-12-16T05:57:29.673Z"
   },
   {
    "duration": 12,
    "start_time": "2021-12-16T05:57:29.723Z"
   },
   {
    "duration": 11,
    "start_time": "2021-12-16T05:57:29.763Z"
   },
   {
    "duration": 1233,
    "start_time": "2021-12-16T05:57:29.776Z"
   },
   {
    "duration": 569,
    "start_time": "2021-12-16T05:57:31.013Z"
   },
   {
    "duration": 549,
    "start_time": "2021-12-16T05:57:31.585Z"
   },
   {
    "duration": 456,
    "start_time": "2021-12-16T05:57:32.136Z"
   },
   {
    "duration": 10,
    "start_time": "2021-12-16T05:57:32.594Z"
   },
   {
    "duration": 7,
    "start_time": "2021-12-16T05:57:32.606Z"
   },
   {
    "duration": 46,
    "start_time": "2021-12-16T05:57:32.616Z"
   },
   {
    "duration": 1420,
    "start_time": "2021-12-16T05:57:47.819Z"
   },
   {
    "duration": 250,
    "start_time": "2021-12-16T05:57:49.242Z"
   },
   {
    "duration": 205,
    "start_time": "2021-12-16T05:57:49.495Z"
   },
   {
    "duration": 136,
    "start_time": "2021-12-16T05:57:49.703Z"
   },
   {
    "duration": 32,
    "start_time": "2021-12-16T05:57:49.842Z"
   },
   {
    "duration": 52,
    "start_time": "2021-12-16T05:57:49.877Z"
   },
   {
    "duration": 117,
    "start_time": "2021-12-16T05:57:49.932Z"
   },
   {
    "duration": 364,
    "start_time": "2021-12-16T05:57:50.057Z"
   },
   {
    "duration": 26805,
    "start_time": "2021-12-16T05:57:50.425Z"
   },
   {
    "duration": 82,
    "start_time": "2021-12-16T05:58:17.233Z"
   },
   {
    "duration": 12,
    "start_time": "2021-12-16T05:58:17.318Z"
   },
   {
    "duration": 57,
    "start_time": "2021-12-16T05:58:17.333Z"
   },
   {
    "duration": 29,
    "start_time": "2021-12-16T05:58:17.393Z"
   },
   {
    "duration": 461,
    "start_time": "2021-12-16T05:58:17.424Z"
   },
   {
    "duration": 31,
    "start_time": "2021-12-16T05:58:17.888Z"
   },
   {
    "duration": 38,
    "start_time": "2021-12-16T05:58:17.921Z"
   },
   {
    "duration": 23,
    "start_time": "2021-12-16T05:58:17.961Z"
   },
   {
    "duration": 13,
    "start_time": "2021-12-16T05:58:17.986Z"
   },
   {
    "duration": 77,
    "start_time": "2021-12-16T05:58:18.001Z"
   },
   {
    "duration": 30,
    "start_time": "2021-12-16T05:58:18.080Z"
   },
   {
    "duration": 536,
    "start_time": "2021-12-16T05:58:18.113Z"
   },
   {
    "duration": 49,
    "start_time": "2021-12-16T05:58:18.659Z"
   },
   {
    "duration": 69,
    "start_time": "2021-12-16T05:58:18.710Z"
   },
   {
    "duration": 47,
    "start_time": "2021-12-16T05:58:18.781Z"
   },
   {
    "duration": 36,
    "start_time": "2021-12-16T05:58:18.830Z"
   },
   {
    "duration": 12,
    "start_time": "2021-12-16T05:58:18.868Z"
   },
   {
    "duration": 1610,
    "start_time": "2021-12-16T05:58:18.884Z"
   },
   {
    "duration": 492,
    "start_time": "2021-12-16T05:58:20.497Z"
   },
   {
    "duration": 590,
    "start_time": "2021-12-16T05:58:20.992Z"
   },
   {
    "duration": 469,
    "start_time": "2021-12-16T05:58:21.584Z"
   },
   {
    "duration": 9,
    "start_time": "2021-12-16T05:58:22.060Z"
   },
   {
    "duration": 7,
    "start_time": "2021-12-16T05:58:22.072Z"
   },
   {
    "duration": 15,
    "start_time": "2021-12-16T05:58:22.081Z"
   },
   {
    "duration": 4,
    "start_time": "2021-12-16T07:16:17.333Z"
   },
   {
    "duration": 238,
    "start_time": "2021-12-16T07:16:19.568Z"
   },
   {
    "duration": 7,
    "start_time": "2021-12-16T07:16:30.749Z"
   },
   {
    "duration": 18506,
    "start_time": "2021-12-16T07:16:36.669Z"
   },
   {
    "duration": 1469,
    "start_time": "2021-12-16T07:17:02.792Z"
   },
   {
    "duration": 243,
    "start_time": "2021-12-16T07:17:04.264Z"
   },
   {
    "duration": 250,
    "start_time": "2021-12-16T07:17:04.510Z"
   },
   {
    "duration": 155,
    "start_time": "2021-12-16T07:17:04.762Z"
   },
   {
    "duration": 47,
    "start_time": "2021-12-16T07:17:04.921Z"
   },
   {
    "duration": 54,
    "start_time": "2021-12-16T07:17:04.971Z"
   },
   {
    "duration": 170,
    "start_time": "2021-12-16T07:17:05.027Z"
   },
   {
    "duration": 436,
    "start_time": "2021-12-16T07:17:05.202Z"
   },
   {
    "duration": 26881,
    "start_time": "2021-12-16T07:17:05.642Z"
   },
   {
    "duration": 82,
    "start_time": "2021-12-16T07:17:32.526Z"
   },
   {
    "duration": 10,
    "start_time": "2021-12-16T07:17:32.610Z"
   },
   {
    "duration": 64,
    "start_time": "2021-12-16T07:17:32.623Z"
   },
   {
    "duration": 28,
    "start_time": "2021-12-16T07:17:32.689Z"
   },
   {
    "duration": 428,
    "start_time": "2021-12-16T07:17:32.720Z"
   },
   {
    "duration": 35,
    "start_time": "2021-12-16T07:17:33.151Z"
   },
   {
    "duration": 17,
    "start_time": "2021-12-16T07:17:33.188Z"
   },
   {
    "duration": 56,
    "start_time": "2021-12-16T07:17:33.207Z"
   },
   {
    "duration": 12,
    "start_time": "2021-12-16T07:17:33.266Z"
   },
   {
    "duration": 79,
    "start_time": "2021-12-16T07:17:33.280Z"
   },
   {
    "duration": 34,
    "start_time": "2021-12-16T07:17:33.361Z"
   },
   {
    "duration": 517,
    "start_time": "2021-12-16T07:17:33.398Z"
   },
   {
    "duration": 62,
    "start_time": "2021-12-16T07:17:33.917Z"
   },
   {
    "duration": 45,
    "start_time": "2021-12-16T07:17:33.984Z"
   },
   {
    "duration": 70,
    "start_time": "2021-12-16T07:17:34.032Z"
   },
   {
    "duration": 12,
    "start_time": "2021-12-16T07:17:34.105Z"
   },
   {
    "duration": 40,
    "start_time": "2021-12-16T07:17:34.120Z"
   },
   {
    "duration": 1254,
    "start_time": "2021-12-16T07:17:34.163Z"
   },
   {
    "duration": 495,
    "start_time": "2021-12-16T07:17:35.420Z"
   },
   {
    "duration": 767,
    "start_time": "2021-12-16T07:17:35.917Z"
   },
   {
    "duration": 467,
    "start_time": "2021-12-16T07:17:36.687Z"
   },
   {
    "duration": 10,
    "start_time": "2021-12-16T07:17:37.159Z"
   },
   {
    "duration": 8,
    "start_time": "2021-12-16T07:17:37.173Z"
   },
   {
    "duration": 20,
    "start_time": "2021-12-16T07:17:37.184Z"
   },
   {
    "duration": 91,
    "start_time": "2021-12-16T07:47:14.545Z"
   },
   {
    "duration": 4287,
    "start_time": "2021-12-16T07:47:17.200Z"
   },
   {
    "duration": 1410,
    "start_time": "2021-12-16T07:47:42.313Z"
   },
   {
    "duration": 251,
    "start_time": "2021-12-16T07:47:43.726Z"
   },
   {
    "duration": 208,
    "start_time": "2021-12-16T07:47:43.980Z"
   },
   {
    "duration": 154,
    "start_time": "2021-12-16T07:47:44.191Z"
   },
   {
    "duration": 33,
    "start_time": "2021-12-16T07:47:44.348Z"
   },
   {
    "duration": 74,
    "start_time": "2021-12-16T07:47:44.384Z"
   },
   {
    "duration": 118,
    "start_time": "2021-12-16T07:47:44.461Z"
   },
   {
    "duration": 347,
    "start_time": "2021-12-16T07:47:44.583Z"
   },
   {
    "duration": 28082,
    "start_time": "2021-12-16T07:47:44.933Z"
   },
   {
    "duration": 82,
    "start_time": "2021-12-16T07:48:13.017Z"
   },
   {
    "duration": 9,
    "start_time": "2021-12-16T07:48:13.102Z"
   },
   {
    "duration": 69,
    "start_time": "2021-12-16T07:48:13.113Z"
   },
   {
    "duration": 31,
    "start_time": "2021-12-16T07:48:13.185Z"
   },
   {
    "duration": 474,
    "start_time": "2021-12-16T07:48:13.218Z"
   },
   {
    "duration": 30,
    "start_time": "2021-12-16T07:48:13.694Z"
   },
   {
    "duration": 42,
    "start_time": "2021-12-16T07:48:13.726Z"
   },
   {
    "duration": 21,
    "start_time": "2021-12-16T07:48:13.770Z"
   },
   {
    "duration": 12,
    "start_time": "2021-12-16T07:48:13.794Z"
   },
   {
    "duration": 88,
    "start_time": "2021-12-16T07:48:13.809Z"
   },
   {
    "duration": 31,
    "start_time": "2021-12-16T07:48:13.900Z"
   },
   {
    "duration": 554,
    "start_time": "2021-12-16T07:48:13.933Z"
   },
   {
    "duration": 46,
    "start_time": "2021-12-16T07:48:14.489Z"
   },
   {
    "duration": 47,
    "start_time": "2021-12-16T07:48:14.562Z"
   },
   {
    "duration": 75,
    "start_time": "2021-12-16T07:48:14.612Z"
   },
   {
    "duration": 13,
    "start_time": "2021-12-16T07:48:14.689Z"
   },
   {
    "duration": 12,
    "start_time": "2021-12-16T07:48:14.705Z"
   },
   {
    "duration": 1330,
    "start_time": "2021-12-16T07:48:14.720Z"
   },
   {
    "duration": 611,
    "start_time": "2021-12-16T07:48:16.060Z"
   },
   {
    "duration": 590,
    "start_time": "2021-12-16T07:48:16.674Z"
   },
   {
    "duration": 470,
    "start_time": "2021-12-16T07:48:17.268Z"
   },
   {
    "duration": 21,
    "start_time": "2021-12-16T07:48:17.740Z"
   },
   {
    "duration": 10,
    "start_time": "2021-12-16T07:48:17.764Z"
   },
   {
    "duration": 22,
    "start_time": "2021-12-16T07:48:17.777Z"
   },
   {
    "duration": 3941,
    "start_time": "2021-12-16T07:48:27.211Z"
   },
   {
    "duration": 3788,
    "start_time": "2021-12-16T07:53:18.341Z"
   },
   {
    "duration": 3858,
    "start_time": "2021-12-16T07:55:33.429Z"
   },
   {
    "duration": 7,
    "start_time": "2021-12-16T07:56:10.600Z"
   },
   {
    "duration": 11,
    "start_time": "2021-12-16T07:56:29.522Z"
   },
   {
    "duration": 543,
    "start_time": "2021-12-16T07:56:34.930Z"
   },
   {
    "duration": 578,
    "start_time": "2021-12-16T07:56:43.714Z"
   },
   {
    "duration": 465,
    "start_time": "2021-12-16T07:57:19.233Z"
   },
   {
    "duration": 1678,
    "start_time": "2021-12-16T08:18:55.638Z"
   },
   {
    "duration": 240,
    "start_time": "2021-12-16T08:18:57.319Z"
   },
   {
    "duration": 202,
    "start_time": "2021-12-16T08:18:57.561Z"
   },
   {
    "duration": 136,
    "start_time": "2021-12-16T08:18:57.766Z"
   },
   {
    "duration": 33,
    "start_time": "2021-12-16T08:18:57.904Z"
   },
   {
    "duration": 58,
    "start_time": "2021-12-16T08:18:57.940Z"
   },
   {
    "duration": 108,
    "start_time": "2021-12-16T08:18:58.002Z"
   },
   {
    "duration": 330,
    "start_time": "2021-12-16T08:18:58.115Z"
   },
   {
    "duration": 116,
    "start_time": "2021-12-16T10:25:11.065Z"
   },
   {
    "duration": 105,
    "start_time": "2021-12-16T10:25:16.804Z"
   },
   {
    "duration": 126,
    "start_time": "2021-12-16T10:26:00.008Z"
   },
   {
    "duration": 137,
    "start_time": "2021-12-16T10:26:13.717Z"
   },
   {
    "duration": 370,
    "start_time": "2021-12-16T10:27:55.326Z"
   },
   {
    "duration": 1167,
    "start_time": "2021-12-16T10:28:02.324Z"
   },
   {
    "duration": 191,
    "start_time": "2021-12-16T10:28:04.702Z"
   },
   {
    "duration": 149,
    "start_time": "2021-12-16T10:28:05.395Z"
   },
   {
    "duration": 107,
    "start_time": "2021-12-16T10:28:05.690Z"
   },
   {
    "duration": 26,
    "start_time": "2021-12-16T10:28:05.956Z"
   },
   {
    "duration": 82,
    "start_time": "2021-12-16T10:28:06.182Z"
   },
   {
    "duration": 72,
    "start_time": "2021-12-16T10:28:08.140Z"
   },
   {
    "duration": 25,
    "start_time": "2021-12-16T10:32:05.153Z"
   },
   {
    "duration": 67,
    "start_time": "2021-12-16T10:32:05.904Z"
   },
   {
    "duration": 18,
    "start_time": "2021-12-16T10:32:07.869Z"
   },
   {
    "duration": 201,
    "start_time": "2021-12-16T10:32:09.567Z"
   },
   {
    "duration": 5,
    "start_time": "2021-12-16T10:32:11.559Z"
   },
   {
    "duration": 53,
    "start_time": "2021-12-16T10:32:13.392Z"
   },
   {
    "duration": 7,
    "start_time": "2021-12-16T10:32:13.634Z"
   },
   {
    "duration": 29,
    "start_time": "2021-12-16T10:32:14.799Z"
   },
   {
    "duration": 21,
    "start_time": "2021-12-16T10:32:16.550Z"
   },
   {
    "duration": 11,
    "start_time": "2021-12-16T10:32:43.317Z"
   },
   {
    "duration": 24,
    "start_time": "2021-12-16T10:32:46.471Z"
   },
   {
    "duration": 12,
    "start_time": "2021-12-16T10:32:49.427Z"
   },
   {
    "duration": 16,
    "start_time": "2021-12-16T10:33:03.211Z"
   },
   {
    "duration": 9,
    "start_time": "2021-12-16T10:33:03.510Z"
   },
   {
    "duration": 30,
    "start_time": "2021-12-16T10:33:04.699Z"
   },
   {
    "duration": 16,
    "start_time": "2021-12-16T10:33:13.075Z"
   },
   {
    "duration": 37,
    "start_time": "2021-12-16T10:33:23.258Z"
   },
   {
    "duration": 18,
    "start_time": "2021-12-16T10:33:44.024Z"
   },
   {
    "duration": 22,
    "start_time": "2021-12-16T10:33:47.302Z"
   },
   {
    "duration": 11091,
    "start_time": "2021-12-16T10:33:47.605Z"
   },
   {
    "duration": -39,
    "start_time": "2021-12-16T10:33:58.737Z"
   },
   {
    "duration": -41,
    "start_time": "2021-12-16T10:33:58.740Z"
   },
   {
    "duration": 9452,
    "start_time": "2021-12-16T10:34:12.952Z"
   },
   {
    "duration": -39,
    "start_time": "2021-12-16T10:34:22.446Z"
   },
   {
    "duration": 5,
    "start_time": "2021-12-16T10:34:24.539Z"
   },
   {
    "duration": 12,
    "start_time": "2021-12-16T10:34:36.077Z"
   },
   {
    "duration": 4,
    "start_time": "2021-12-16T10:34:57.071Z"
   },
   {
    "duration": 9918,
    "start_time": "2021-12-16T10:51:42.357Z"
   },
   {
    "duration": 5,
    "start_time": "2021-12-16T10:52:51.882Z"
   },
   {
    "duration": 272,
    "start_time": "2021-12-16T10:52:52.955Z"
   },
   {
    "duration": 226,
    "start_time": "2021-12-16T10:52:53.777Z"
   },
   {
    "duration": 120,
    "start_time": "2021-12-16T10:52:54.391Z"
   },
   {
    "duration": 26,
    "start_time": "2021-12-16T10:52:54.736Z"
   },
   {
    "duration": 76,
    "start_time": "2021-12-16T10:52:55.020Z"
   },
   {
    "duration": 68,
    "start_time": "2021-12-16T10:52:57.682Z"
   },
   {
    "duration": 196,
    "start_time": "2021-12-16T10:52:59.362Z"
   },
   {
    "duration": 5,
    "start_time": "2021-12-16T10:53:02.016Z"
   },
   {
    "duration": 54,
    "start_time": "2021-12-16T10:53:02.850Z"
   },
   {
    "duration": 8,
    "start_time": "2021-12-16T10:53:03.095Z"
   },
   {
    "duration": 28,
    "start_time": "2021-12-16T10:53:04.287Z"
   },
   {
    "duration": 22,
    "start_time": "2021-12-16T10:53:06.100Z"
   },
   {
    "duration": 15,
    "start_time": "2021-12-16T10:53:19.069Z"
   },
   {
    "duration": 13,
    "start_time": "2021-12-16T10:53:37.544Z"
   },
   {
    "duration": 13,
    "start_time": "2021-12-16T10:54:03.570Z"
   },
   {
    "duration": 4,
    "start_time": "2021-12-16T10:54:05.735Z"
   },
   {
    "duration": 6,
    "start_time": "2021-12-16T10:54:15.613Z"
   },
   {
    "duration": 22,
    "start_time": "2021-12-16T10:54:21.520Z"
   },
   {
    "duration": 13,
    "start_time": "2021-12-16T10:54:23.580Z"
   },
   {
    "duration": 18,
    "start_time": "2021-12-16T10:54:26.169Z"
   },
   {
    "duration": 9,
    "start_time": "2021-12-16T10:54:34.907Z"
   },
   {
    "duration": 16,
    "start_time": "2021-12-16T10:54:36.871Z"
   },
   {
    "duration": 21,
    "start_time": "2021-12-16T10:54:41.852Z"
   },
   {
    "duration": 17,
    "start_time": "2021-12-16T10:54:49.240Z"
   },
   {
    "duration": 5,
    "start_time": "2021-12-16T10:55:00.633Z"
   },
   {
    "duration": 179,
    "start_time": "2021-12-16T10:55:01.028Z"
   },
   {
    "duration": 153,
    "start_time": "2021-12-16T10:55:01.209Z"
   },
   {
    "duration": 110,
    "start_time": "2021-12-16T10:55:01.364Z"
   },
   {
    "duration": 26,
    "start_time": "2021-12-16T10:55:01.514Z"
   },
   {
    "duration": 61,
    "start_time": "2021-12-16T10:55:01.673Z"
   },
   {
    "duration": 73,
    "start_time": "2021-12-16T10:55:02.486Z"
   },
   {
    "duration": 201,
    "start_time": "2021-12-16T10:55:02.874Z"
   },
   {
    "duration": 5,
    "start_time": "2021-12-16T10:55:03.807Z"
   },
   {
    "duration": 53,
    "start_time": "2021-12-16T10:55:05.197Z"
   },
   {
    "duration": 8,
    "start_time": "2021-12-16T10:55:05.436Z"
   },
   {
    "duration": 27,
    "start_time": "2021-12-16T10:55:06.038Z"
   },
   {
    "duration": 19,
    "start_time": "2021-12-16T10:55:06.493Z"
   },
   {
    "duration": 5,
    "start_time": "2021-12-16T10:55:07.567Z"
   },
   {
    "duration": 4,
    "start_time": "2021-12-16T10:55:07.763Z"
   },
   {
    "duration": 25,
    "start_time": "2021-12-16T10:55:08.418Z"
   },
   {
    "duration": 13,
    "start_time": "2021-12-16T10:55:09.804Z"
   },
   {
    "duration": 16,
    "start_time": "2021-12-16T10:55:11.368Z"
   },
   {
    "duration": 9,
    "start_time": "2021-12-16T10:55:14.840Z"
   },
   {
    "duration": 15,
    "start_time": "2021-12-16T10:55:15.104Z"
   },
   {
    "duration": 10,
    "start_time": "2021-12-16T10:55:23.471Z"
   },
   {
    "duration": 266,
    "start_time": "2021-12-16T10:55:41.671Z"
   },
   {
    "duration": 32,
    "start_time": "2021-12-16T10:55:46.133Z"
   },
   {
    "duration": 22,
    "start_time": "2021-12-16T10:56:01.386Z"
   },
   {
    "duration": 30,
    "start_time": "2021-12-16T10:56:09.865Z"
   },
   {
    "duration": 30,
    "start_time": "2021-12-16T10:56:45.460Z"
   },
   {
    "duration": 33,
    "start_time": "2021-12-16T10:56:49.675Z"
   },
   {
    "duration": 10,
    "start_time": "2021-12-16T10:56:55.454Z"
   },
   {
    "duration": 12,
    "start_time": "2021-12-16T10:56:56.066Z"
   },
   {
    "duration": 920,
    "start_time": "2021-12-16T10:56:57.932Z"
   },
   {
    "duration": 375,
    "start_time": "2021-12-16T10:57:13.001Z"
   },
   {
    "duration": 358,
    "start_time": "2021-12-16T10:57:24.372Z"
   },
   {
    "duration": 351,
    "start_time": "2021-12-16T10:57:34.162Z"
   },
   {
    "duration": 480,
    "start_time": "2021-12-16T10:57:46.944Z"
   },
   {
    "duration": 340,
    "start_time": "2021-12-16T10:57:54.644Z"
   },
   {
    "duration": 453,
    "start_time": "2021-12-16T10:58:01.978Z"
   },
   {
    "duration": 364,
    "start_time": "2021-12-16T10:59:04.282Z"
   },
   {
    "duration": 297,
    "start_time": "2021-12-16T10:59:09.042Z"
   },
   {
    "duration": 295,
    "start_time": "2021-12-16T10:59:22.914Z"
   },
   {
    "duration": 287,
    "start_time": "2021-12-16T10:59:27.189Z"
   },
   {
    "duration": 357,
    "start_time": "2021-12-16T10:59:33.714Z"
   },
   {
    "duration": 392,
    "start_time": "2021-12-16T10:59:39.634Z"
   },
   {
    "duration": 255,
    "start_time": "2021-12-16T10:59:42.979Z"
   },
   {
    "duration": 8,
    "start_time": "2021-12-16T11:00:08.344Z"
   },
   {
    "duration": 10,
    "start_time": "2021-12-16T11:00:11.444Z"
   },
   {
    "duration": 7,
    "start_time": "2021-12-16T11:00:48.014Z"
   },
   {
    "duration": 10,
    "start_time": "2021-12-16T11:01:01.084Z"
   },
   {
    "duration": 8,
    "start_time": "2021-12-16T11:01:05.356Z"
   },
   {
    "duration": 7,
    "start_time": "2021-12-16T11:01:07.535Z"
   },
   {
    "duration": 14,
    "start_time": "2021-12-16T11:01:18.552Z"
   },
   {
    "duration": 12,
    "start_time": "2021-12-16T11:01:25.043Z"
   },
   {
    "duration": 10,
    "start_time": "2021-12-16T11:01:32.704Z"
   },
   {
    "duration": 10,
    "start_time": "2021-12-16T11:01:49.968Z"
   },
   {
    "duration": 9,
    "start_time": "2021-12-16T11:02:58.270Z"
   },
   {
    "duration": 8,
    "start_time": "2021-12-16T11:02:59.931Z"
   },
   {
    "duration": 7,
    "start_time": "2021-12-16T11:03:00.694Z"
   },
   {
    "duration": 8,
    "start_time": "2021-12-16T11:03:41.978Z"
   },
   {
    "duration": 9,
    "start_time": "2021-12-16T11:03:52.582Z"
   },
   {
    "duration": 9,
    "start_time": "2021-12-16T11:04:49.983Z"
   },
   {
    "duration": 11,
    "start_time": "2021-12-16T11:05:05.761Z"
   },
   {
    "duration": 7,
    "start_time": "2021-12-16T11:12:16.186Z"
   },
   {
    "duration": 7,
    "start_time": "2021-12-16T11:12:43.269Z"
   },
   {
    "duration": 9,
    "start_time": "2021-12-16T11:12:43.847Z"
   },
   {
    "duration": 4,
    "start_time": "2021-12-16T11:25:26.424Z"
   },
   {
    "duration": 3,
    "start_time": "2021-12-16T11:35:15.702Z"
   },
   {
    "duration": 4,
    "start_time": "2021-12-16T11:35:20.673Z"
   },
   {
    "duration": 1538,
    "start_time": "2021-12-17T08:18:14.346Z"
   },
   {
    "duration": 1451,
    "start_time": "2021-12-17T08:18:23.475Z"
   },
   {
    "duration": 243,
    "start_time": "2021-12-17T08:18:24.929Z"
   },
   {
    "duration": 215,
    "start_time": "2021-12-17T08:18:25.177Z"
   },
   {
    "duration": 142,
    "start_time": "2021-12-17T08:18:25.396Z"
   },
   {
    "duration": 32,
    "start_time": "2021-12-17T08:18:25.541Z"
   },
   {
    "duration": 61,
    "start_time": "2021-12-17T08:18:25.576Z"
   },
   {
    "duration": 115,
    "start_time": "2021-12-17T08:18:25.639Z"
   },
   {
    "duration": 346,
    "start_time": "2021-12-17T08:18:25.756Z"
   },
   {
    "duration": 17,
    "start_time": "2021-12-17T08:18:26.106Z"
   },
   {
    "duration": 77,
    "start_time": "2021-12-17T08:18:26.126Z"
   },
   {
    "duration": 21,
    "start_time": "2021-12-17T08:18:26.206Z"
   },
   {
    "duration": 48,
    "start_time": "2021-12-17T08:18:26.230Z"
   },
   {
    "duration": 53,
    "start_time": "2021-12-17T08:18:26.282Z"
   },
   {
    "duration": 14,
    "start_time": "2021-12-17T08:18:26.338Z"
   },
   {
    "duration": 10,
    "start_time": "2021-12-17T08:18:26.355Z"
   },
   {
    "duration": 66,
    "start_time": "2021-12-17T08:18:26.367Z"
   },
   {
    "duration": 26,
    "start_time": "2021-12-17T08:18:26.436Z"
   },
   {
    "duration": 32,
    "start_time": "2021-12-17T08:18:26.465Z"
   },
   {
    "duration": 18,
    "start_time": "2021-12-17T08:18:26.523Z"
   },
   {
    "duration": 31,
    "start_time": "2021-12-17T08:18:26.544Z"
   },
   {
    "duration": 14,
    "start_time": "2021-12-17T08:18:26.578Z"
   },
   {
    "duration": 610,
    "start_time": "2021-12-17T08:18:26.594Z"
   },
   {
    "duration": 40,
    "start_time": "2021-12-17T08:18:27.207Z"
   },
   {
    "duration": 48,
    "start_time": "2021-12-17T08:18:27.249Z"
   },
   {
    "duration": 66,
    "start_time": "2021-12-17T08:18:27.299Z"
   },
   {
    "duration": 67,
    "start_time": "2021-12-17T08:18:27.368Z"
   },
   {
    "duration": 13,
    "start_time": "2021-12-17T08:18:27.440Z"
   },
   {
    "duration": 1242,
    "start_time": "2021-12-17T08:18:27.456Z"
   },
   {
    "duration": 704,
    "start_time": "2021-12-17T08:18:28.701Z"
   },
   {
    "duration": 830,
    "start_time": "2021-12-17T08:18:29.408Z"
   },
   {
    "duration": 633,
    "start_time": "2021-12-17T08:18:30.241Z"
   },
   {
    "duration": 13,
    "start_time": "2021-12-17T08:18:30.877Z"
   },
   {
    "duration": 38,
    "start_time": "2021-12-17T08:18:30.893Z"
   },
   {
    "duration": 20,
    "start_time": "2021-12-17T08:18:30.934Z"
   },
   {
    "duration": 22,
    "start_time": "2021-12-17T08:18:30.956Z"
   },
   {
    "duration": 42,
    "start_time": "2021-12-17T08:18:30.981Z"
   },
   {
    "duration": 33,
    "start_time": "2021-12-17T08:18:31.026Z"
   },
   {
    "duration": 53,
    "start_time": "2021-12-17T08:18:31.062Z"
   },
   {
    "duration": 5681,
    "start_time": "2021-12-17T08:18:46.824Z"
   },
   {
    "duration": 12,
    "start_time": "2021-12-17T08:18:57.869Z"
   },
   {
    "duration": 625,
    "start_time": "2021-12-17T08:19:00.816Z"
   },
   {
    "duration": 1914,
    "start_time": "2021-12-17T08:38:06.437Z"
   },
   {
    "duration": 237,
    "start_time": "2021-12-17T08:38:08.353Z"
   },
   {
    "duration": 205,
    "start_time": "2021-12-17T08:38:08.593Z"
   },
   {
    "duration": 141,
    "start_time": "2021-12-17T08:38:08.800Z"
   },
   {
    "duration": 30,
    "start_time": "2021-12-17T08:38:08.945Z"
   },
   {
    "duration": 70,
    "start_time": "2021-12-17T08:38:08.978Z"
   },
   {
    "duration": 174,
    "start_time": "2021-12-17T08:38:09.052Z"
   },
   {
    "duration": 526,
    "start_time": "2021-12-17T08:38:09.229Z"
   },
   {
    "duration": 6,
    "start_time": "2021-12-17T08:38:09.761Z"
   },
   {
    "duration": 97,
    "start_time": "2021-12-17T08:38:09.770Z"
   },
   {
    "duration": 9,
    "start_time": "2021-12-17T08:38:09.869Z"
   },
   {
    "duration": 66,
    "start_time": "2021-12-17T08:38:09.881Z"
   },
   {
    "duration": 35,
    "start_time": "2021-12-17T08:38:09.951Z"
   },
   {
    "duration": 34,
    "start_time": "2021-12-17T08:38:09.989Z"
   },
   {
    "duration": 7,
    "start_time": "2021-12-17T08:38:10.027Z"
   },
   {
    "duration": 56,
    "start_time": "2021-12-17T08:38:10.038Z"
   },
   {
    "duration": 44,
    "start_time": "2021-12-17T08:38:10.097Z"
   },
   {
    "duration": 31,
    "start_time": "2021-12-17T08:38:10.144Z"
   },
   {
    "duration": 46,
    "start_time": "2021-12-17T08:38:10.178Z"
   },
   {
    "duration": 31,
    "start_time": "2021-12-17T08:38:10.227Z"
   },
   {
    "duration": 16,
    "start_time": "2021-12-17T08:38:10.261Z"
   },
   {
    "duration": 528,
    "start_time": "2021-12-17T08:38:10.280Z"
   },
   {
    "duration": 39,
    "start_time": "2021-12-17T08:38:10.811Z"
   },
   {
    "duration": 93,
    "start_time": "2021-12-17T08:38:10.854Z"
   },
   {
    "duration": 87,
    "start_time": "2021-12-17T08:38:10.951Z"
   },
   {
    "duration": 48,
    "start_time": "2021-12-17T08:38:11.041Z"
   },
   {
    "duration": 40,
    "start_time": "2021-12-17T08:38:11.097Z"
   },
   {
    "duration": 1457,
    "start_time": "2021-12-17T08:38:11.141Z"
   },
   {
    "duration": 483,
    "start_time": "2021-12-17T08:38:12.602Z"
   },
   {
    "duration": 571,
    "start_time": "2021-12-17T08:38:13.088Z"
   },
   {
    "duration": 760,
    "start_time": "2021-12-17T08:38:13.663Z"
   },
   {
    "duration": 10,
    "start_time": "2021-12-17T08:38:14.426Z"
   },
   {
    "duration": 23,
    "start_time": "2021-12-17T08:38:14.439Z"
   },
   {
    "duration": 27,
    "start_time": "2021-12-17T08:38:14.466Z"
   },
   {
    "duration": 34,
    "start_time": "2021-12-17T08:38:14.496Z"
   },
   {
    "duration": 32,
    "start_time": "2021-12-17T08:38:14.533Z"
   },
   {
    "duration": 60,
    "start_time": "2021-12-17T08:38:14.568Z"
   },
   {
    "duration": 30,
    "start_time": "2021-12-17T08:38:14.631Z"
   },
   {
    "duration": 1483,
    "start_time": "2021-12-17T11:06:12.964Z"
   },
   {
    "duration": 251,
    "start_time": "2021-12-17T11:06:14.449Z"
   },
   {
    "duration": 202,
    "start_time": "2021-12-17T11:06:14.703Z"
   },
   {
    "duration": 143,
    "start_time": "2021-12-17T11:06:14.908Z"
   },
   {
    "duration": 32,
    "start_time": "2021-12-17T11:06:15.054Z"
   },
   {
    "duration": 66,
    "start_time": "2021-12-17T11:06:15.088Z"
   },
   {
    "duration": 98,
    "start_time": "2021-12-17T11:06:15.157Z"
   },
   {
    "duration": 330,
    "start_time": "2021-12-17T11:06:15.315Z"
   },
   {
    "duration": 6,
    "start_time": "2021-12-17T11:06:16.253Z"
   },
   {
    "duration": 75,
    "start_time": "2021-12-17T11:06:19.716Z"
   },
   {
    "duration": 10,
    "start_time": "2021-12-17T11:06:19.937Z"
   },
   {
    "duration": 40,
    "start_time": "2021-12-17T11:06:20.183Z"
   },
   {
    "duration": 26,
    "start_time": "2021-12-17T11:06:20.624Z"
   },
   {
    "duration": 10,
    "start_time": "2021-12-17T11:06:20.877Z"
   },
   {
    "duration": 5,
    "start_time": "2021-12-17T11:06:21.137Z"
   },
   {
    "duration": 32,
    "start_time": "2021-12-17T11:06:22.873Z"
   },
   {
    "duration": 18,
    "start_time": "2021-12-17T11:06:26.262Z"
   },
   {
    "duration": 22,
    "start_time": "2021-12-17T11:06:26.796Z"
   },
   {
    "duration": 13,
    "start_time": "2021-12-17T11:06:27.081Z"
   },
   {
    "duration": 21,
    "start_time": "2021-12-17T11:06:27.349Z"
   },
   {
    "duration": 14,
    "start_time": "2021-12-17T11:06:28.166Z"
   },
   {
    "duration": 494,
    "start_time": "2021-12-17T11:06:28.436Z"
   },
   {
    "duration": 39,
    "start_time": "2021-12-17T11:06:28.932Z"
   },
   {
    "duration": 50,
    "start_time": "2021-12-17T11:06:29.931Z"
   },
   {
    "duration": 49,
    "start_time": "2021-12-17T11:06:30.435Z"
   },
   {
    "duration": 51,
    "start_time": "2021-12-17T11:07:45.326Z"
   },
   {
    "duration": 13,
    "start_time": "2021-12-17T11:07:47.225Z"
   },
   {
    "duration": 1182,
    "start_time": "2021-12-17T11:07:47.423Z"
   },
   {
    "duration": 817,
    "start_time": "2021-12-17T11:07:53.672Z"
   },
   {
    "duration": 741,
    "start_time": "2021-12-17T11:08:02.615Z"
   },
   {
    "duration": 1825,
    "start_time": "2021-12-17T13:46:21.238Z"
   },
   {
    "duration": 375,
    "start_time": "2021-12-17T13:46:23.067Z"
   },
   {
    "duration": 232,
    "start_time": "2021-12-17T13:46:23.445Z"
   },
   {
    "duration": 148,
    "start_time": "2021-12-17T13:46:23.680Z"
   },
   {
    "duration": 38,
    "start_time": "2021-12-17T13:46:23.831Z"
   },
   {
    "duration": 62,
    "start_time": "2021-12-17T13:46:23.872Z"
   },
   {
    "duration": 107,
    "start_time": "2021-12-17T13:46:27.336Z"
   },
   {
    "duration": 347,
    "start_time": "2021-12-17T13:47:17.389Z"
   },
   {
    "duration": 22,
    "start_time": "2021-12-17T13:48:21.773Z"
   },
   {
    "duration": 33,
    "start_time": "2021-12-17T13:49:33.526Z"
   },
   {
    "duration": 362,
    "start_time": "2021-12-17T13:50:34.744Z"
   },
   {
    "duration": 333,
    "start_time": "2021-12-17T13:50:46.392Z"
   },
   {
    "duration": 366,
    "start_time": "2021-12-17T13:50:49.527Z"
   },
   {
    "duration": 401,
    "start_time": "2021-12-17T13:50:59.788Z"
   },
   {
    "duration": 371,
    "start_time": "2021-12-17T13:51:37.036Z"
   },
   {
    "duration": 362,
    "start_time": "2021-12-17T13:51:42.484Z"
   },
   {
    "duration": 7,
    "start_time": "2021-12-17T13:54:58.220Z"
   },
   {
    "duration": 134,
    "start_time": "2021-12-17T13:55:25.065Z"
   },
   {
    "duration": 72,
    "start_time": "2021-12-17T13:55:29.453Z"
   },
   {
    "duration": 10,
    "start_time": "2021-12-17T13:56:34.885Z"
   },
   {
    "duration": 41,
    "start_time": "2021-12-17T13:57:38.053Z"
   },
   {
    "duration": 95,
    "start_time": "2021-12-17T13:57:40.001Z"
   },
   {
    "duration": 22,
    "start_time": "2021-12-17T13:57:42.572Z"
   },
   {
    "duration": 28,
    "start_time": "2021-12-17T13:57:53.118Z"
   },
   {
    "duration": 11,
    "start_time": "2021-12-17T13:57:54.013Z"
   },
   {
    "duration": 5,
    "start_time": "2021-12-17T13:57:54.709Z"
   },
   {
    "duration": 35,
    "start_time": "2021-12-17T14:00:31.597Z"
   },
   {
    "duration": 18,
    "start_time": "2021-12-17T14:01:26.638Z"
   },
   {
    "duration": 22,
    "start_time": "2021-12-17T14:01:28.869Z"
   },
   {
    "duration": 500,
    "start_time": "2021-12-17T14:02:32.683Z"
   },
   {
    "duration": 5,
    "start_time": "2021-12-17T14:03:18.447Z"
   },
   {
    "duration": 312,
    "start_time": "2021-12-17T14:03:21.856Z"
   },
   {
    "duration": 96,
    "start_time": "2021-12-17T14:04:15.923Z"
   },
   {
    "duration": 4,
    "start_time": "2021-12-17T14:26:20.420Z"
   },
   {
    "duration": 249,
    "start_time": "2021-12-17T14:26:20.773Z"
   },
   {
    "duration": 219,
    "start_time": "2021-12-17T14:26:21.025Z"
   },
   {
    "duration": 157,
    "start_time": "2021-12-17T14:26:21.247Z"
   },
   {
    "duration": 30,
    "start_time": "2021-12-17T14:26:21.407Z"
   },
   {
    "duration": 57,
    "start_time": "2021-12-17T14:26:21.508Z"
   },
   {
    "duration": 94,
    "start_time": "2021-12-17T14:26:22.585Z"
   },
   {
    "duration": 382,
    "start_time": "2021-12-17T14:26:23.090Z"
   },
   {
    "duration": 34,
    "start_time": "2021-12-17T14:26:23.475Z"
   },
   {
    "duration": 6,
    "start_time": "2021-12-17T14:26:24.620Z"
   },
   {
    "duration": 71,
    "start_time": "2021-12-17T14:26:25.764Z"
   },
   {
    "duration": 11,
    "start_time": "2021-12-17T14:26:26.856Z"
   },
   {
    "duration": 38,
    "start_time": "2021-12-17T14:26:27.573Z"
   },
   {
    "duration": 25,
    "start_time": "2021-12-17T14:26:28.093Z"
   },
   {
    "duration": 7,
    "start_time": "2021-12-17T14:26:28.684Z"
   },
   {
    "duration": 6,
    "start_time": "2021-12-17T14:26:29.020Z"
   },
   {
    "duration": 38,
    "start_time": "2021-12-17T14:26:30.642Z"
   },
   {
    "duration": 20,
    "start_time": "2021-12-17T14:26:31.460Z"
   },
   {
    "duration": 25,
    "start_time": "2021-12-17T14:26:31.824Z"
   },
   {
    "duration": 14,
    "start_time": "2021-12-17T14:26:32.236Z"
   },
   {
    "duration": 22,
    "start_time": "2021-12-17T14:26:32.454Z"
   },
   {
    "duration": 14,
    "start_time": "2021-12-17T14:26:33.917Z"
   },
   {
    "duration": 531,
    "start_time": "2021-12-17T14:26:34.376Z"
   },
   {
    "duration": 35,
    "start_time": "2021-12-17T14:26:34.911Z"
   },
   {
    "duration": 51,
    "start_time": "2021-12-17T14:26:35.229Z"
   },
   {
    "duration": 52,
    "start_time": "2021-12-17T14:26:35.757Z"
   },
   {
    "duration": 51,
    "start_time": "2021-12-17T14:26:37.575Z"
   },
   {
    "duration": 14,
    "start_time": "2021-12-17T14:26:38.109Z"
   },
   {
    "duration": 628,
    "start_time": "2021-12-17T14:26:38.601Z"
   },
   {
    "duration": 623,
    "start_time": "2021-12-17T14:26:39.232Z"
   },
   {
    "duration": 513,
    "start_time": "2021-12-17T14:26:39.930Z"
   },
   {
    "duration": 503,
    "start_time": "2021-12-17T14:26:40.577Z"
   },
   {
    "duration": 452,
    "start_time": "2021-12-17T14:26:41.430Z"
   },
   {
    "duration": 11,
    "start_time": "2021-12-17T14:26:42.825Z"
   },
   {
    "duration": 11,
    "start_time": "2021-12-17T14:26:43.332Z"
   },
   {
    "duration": 10,
    "start_time": "2021-12-17T14:26:43.664Z"
   },
   {
    "duration": 13,
    "start_time": "2021-12-17T14:26:44.013Z"
   },
   {
    "duration": 6,
    "start_time": "2021-12-17T14:27:23.212Z"
   },
   {
    "duration": 335,
    "start_time": "2021-12-17T14:30:19.650Z"
   },
   {
    "duration": 20,
    "start_time": "2021-12-17T14:30:30.241Z"
   },
   {
    "duration": 12,
    "start_time": "2021-12-17T14:30:46.637Z"
   },
   {
    "duration": 127,
    "start_time": "2021-12-17T14:31:28.533Z"
   },
   {
    "duration": 16,
    "start_time": "2021-12-17T14:31:38.770Z"
   },
   {
    "duration": 7,
    "start_time": "2021-12-17T14:31:54.435Z"
   },
   {
    "duration": 17,
    "start_time": "2021-12-17T14:31:56.053Z"
   },
   {
    "duration": 334,
    "start_time": "2021-12-17T14:49:30.765Z"
   },
   {
    "duration": 1158,
    "start_time": "2021-12-18T06:57:25.077Z"
   },
   {
    "duration": 181,
    "start_time": "2021-12-18T06:57:26.237Z"
   },
   {
    "duration": 158,
    "start_time": "2021-12-18T06:57:26.420Z"
   },
   {
    "duration": 106,
    "start_time": "2021-12-18T06:57:26.580Z"
   },
   {
    "duration": 26,
    "start_time": "2021-12-18T06:57:26.688Z"
   },
   {
    "duration": 43,
    "start_time": "2021-12-18T06:57:26.716Z"
   },
   {
    "duration": 75,
    "start_time": "2021-12-18T06:57:26.761Z"
   },
   {
    "duration": 216,
    "start_time": "2021-12-18T06:57:26.838Z"
   },
   {
    "duration": 19,
    "start_time": "2021-12-18T06:57:27.057Z"
   },
   {
    "duration": 14,
    "start_time": "2021-12-18T06:57:27.078Z"
   },
   {
    "duration": 57,
    "start_time": "2021-12-18T06:57:27.094Z"
   },
   {
    "duration": 7,
    "start_time": "2021-12-18T06:57:27.152Z"
   },
   {
    "duration": 35,
    "start_time": "2021-12-18T06:57:27.161Z"
   },
   {
    "duration": 16,
    "start_time": "2021-12-18T06:57:27.198Z"
   },
   {
    "duration": 19,
    "start_time": "2021-12-18T06:57:27.216Z"
   },
   {
    "duration": 4,
    "start_time": "2021-12-18T06:57:27.237Z"
   },
   {
    "duration": 26,
    "start_time": "2021-12-18T06:57:27.242Z"
   },
   {
    "duration": 10,
    "start_time": "2021-12-18T06:57:27.270Z"
   },
   {
    "duration": 12,
    "start_time": "2021-12-18T06:57:27.282Z"
   },
   {
    "duration": 8,
    "start_time": "2021-12-18T06:57:27.296Z"
   },
   {
    "duration": 13,
    "start_time": "2021-12-18T06:57:27.305Z"
   },
   {
    "duration": 8,
    "start_time": "2021-12-18T06:57:27.319Z"
   },
   {
    "duration": 425,
    "start_time": "2021-12-18T06:57:27.329Z"
   },
   {
    "duration": 20,
    "start_time": "2021-12-18T06:57:27.756Z"
   },
   {
    "duration": 49,
    "start_time": "2021-12-18T06:57:27.778Z"
   },
   {
    "duration": 51,
    "start_time": "2021-12-18T06:57:27.829Z"
   },
   {
    "duration": 82,
    "start_time": "2021-12-18T06:57:27.883Z"
   },
   {
    "duration": 10,
    "start_time": "2021-12-18T06:57:27.968Z"
   },
   {
    "duration": 596,
    "start_time": "2021-12-18T06:57:27.980Z"
   },
   {
    "duration": 352,
    "start_time": "2021-12-18T06:57:28.578Z"
   },
   {
    "duration": 274,
    "start_time": "2021-12-18T06:57:28.932Z"
   },
   {
    "duration": 375,
    "start_time": "2021-12-18T06:57:29.208Z"
   },
   {
    "duration": 263,
    "start_time": "2021-12-18T06:57:29.585Z"
   },
   {
    "duration": 16,
    "start_time": "2021-12-18T06:57:29.851Z"
   },
   {
    "duration": 7,
    "start_time": "2021-12-18T06:57:29.868Z"
   },
   {
    "duration": 7,
    "start_time": "2021-12-18T06:57:29.877Z"
   },
   {
    "duration": 7,
    "start_time": "2021-12-18T06:57:29.885Z"
   },
   {
    "duration": 11,
    "start_time": "2021-12-18T06:57:29.893Z"
   },
   {
    "duration": 11,
    "start_time": "2021-12-18T06:57:29.905Z"
   },
   {
    "duration": 50,
    "start_time": "2021-12-18T06:57:29.918Z"
   },
   {
    "duration": 21,
    "start_time": "2021-12-18T06:57:29.970Z"
   }
  ],
  "kernelspec": {
   "display_name": "Python 3 (ipykernel)",
   "language": "python",
   "name": "python3"
  },
  "language_info": {
   "codemirror_mode": {
    "name": "ipython",
    "version": 3
   },
   "file_extension": ".py",
   "mimetype": "text/x-python",
   "name": "python",
   "nbconvert_exporter": "python",
   "pygments_lexer": "ipython3",
   "version": "3.10.1"
  },
  "toc": {
   "base_numbering": 1,
   "nav_menu": {},
   "number_sections": true,
   "sideBar": true,
   "skip_h1_title": true,
   "title_cell": "Table of Contents",
   "title_sidebar": "Contents",
   "toc_cell": false,
   "toc_position": {},
   "toc_section_display": true,
   "toc_window_display": true
  }
 },
 "nbformat": 4,
 "nbformat_minor": 2
}
