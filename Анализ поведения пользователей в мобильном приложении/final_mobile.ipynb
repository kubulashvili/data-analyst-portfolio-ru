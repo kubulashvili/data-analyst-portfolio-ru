{
 "cells": [
  {
   "cell_type": "markdown",
   "metadata": {},
   "source": [
    "* [Отчет](https://disk.yandex.ru/i/9fbBGSOg9fNrOQ)\n",
    "* [Дашборд](https://public.tableau.com/views/YP_final/Dashboard1?:language=en-US&publish=yes&:display_count=n&:origin=viz_share_link)"
   ]
  },
  {
   "cell_type": "markdown",
   "metadata": {},
   "source": [
    "# Анализ поведения пользователей в мобильном приложении\n",
    "Мы работаем в компании \"Ненужные вещи\", доска объявлений, на которой пользователи продают свои вещи. Для доступа к площадке используется мобильное приложение. \n",
    "\n",
    "# Описание данных:\n",
    "\n",
    "В датасете содержатся данные пользователей, впервые совершивших действия в приложении после 7 октября 2019 года.\n",
    "\n",
    "Колонки в *mobile_sources.csv*: \n",
    "\n",
    "- `userId` — идентификатор пользователя,\n",
    "- `source` — источник, с которого пользователь установил приложение.\n",
    "\n",
    "Колонки в *mobile_dataset.csv*:\n",
    "\n",
    "- `event.time` — время совершения,\n",
    "- `user.id` — идентификатор пользователя,\n",
    "- `event.name` — действие пользователя.\n",
    "\n",
    "Виды действий:\n",
    "\n",
    "- `advert_open` — открыл карточки объявления,\n",
    "- `photos_show` — просмотрел фотографий в объявлении,\n",
    "- `tips_show` — увидел рекомендованные объявления,\n",
    "- `tips_click` — кликнул по рекомендованному объявлению,\n",
    "- `contacts_show` и `show_contacts` — посмотрел номер телефона,\n",
    "- `contacts_call` — позвонил по номеру из объявления,\n",
    "- `map` — открыл карту объявлений,\n",
    "- `search_1`—`search_7` — разные действия, связанные с поиском по сайту,\n",
    "- `favorites_add` — добавил объявление в избранное.\n",
    "\n",
    "\n",
    "**Наша задача:**\n",
    "1. Одни пользователи совершают действия `tips_show` и `tips_click`, другие — только `tips_show`. Наша гипотеза: конверсия в просмотры контактов различается у этих двух групп.\n",
    "2. Пользователи различаются по точке входа в приложение. Наша гипотеза: конверсия в целевое действие различается у групп из разных источников."
   ]
  },
  {
   "cell_type": "markdown",
   "metadata": {},
   "source": [
    "# Ход исследования\n",
    "Наше исследование будет состоять из следующих этапов:\n",
    "1. Обзор и предобработка данных:\n",
    "    - импортирование библиотек\n",
    "    - чтение данных\n",
    "    - предобработка данных\n",
    "2. Исследовательский анализ данных:\n",
    "    - определение первых действий пользователей в приложении\n",
    "    - расчет DAU/WAU\n",
    "    - добавление параметра использования доп.функций\n",
    "3. Проверка статистических гипотезз\n",
    "    - разделение пользователей на две группы по использованию `tips_click`\n",
    "    - посчитаем конверсию каждой группы\n",
    "    - проверим статистически равны ли наши группы\n",
    "    - разделение пользователей по группам по типу источника установки\n",
    "    - расчет конверсии каждой группы\n",
    "    - проверим статистически равны ли наши группы\n",
    "4. Выводы\n",
    "    - ответ на вопрос на сколько наши гипотезы подверждаются\n",
    "    - рекомендации для отдела маркетинга по каналам установки приложений\n",
    "    - рекомандации для продуктовой команды, как рекомендации влияют на конверсию\n",
    "5. Создание дашборда\n",
    "    - Постройте диаграмму, отображающую количество событий по дням\n",
    "    - Постройте гистограмму, отображающую количество пользователей, пришедших из разных источников\n",
    "    - Добавьте фильтр дашборда по типу события\n",
    "6. Подготовка презентации"
   ]
  },
  {
   "cell_type": "markdown",
   "metadata": {},
   "source": [
    "## Обзор и предобработка данных\n",
    "### Библиотеки"
   ]
  },
  {
   "cell_type": "code",
   "execution_count": 1,
   "metadata": {},
   "outputs": [],
   "source": [
    "import pandas as pd\n",
    "from datetime import datetime, date\n",
    "from matplotlib import pyplot as plt\n",
    "import math as mth\n",
    "import numpy as np\n",
    "from scipy import stats as st\n",
    "import warnings\n",
    "import plotly.express as px \n",
    "import plotly.graph_objects as go\n",
    "warnings.filterwarnings('ignore')"
   ]
  },
  {
   "cell_type": "markdown",
   "metadata": {},
   "source": [
    "### Считываем данные"
   ]
  },
  {
   "cell_type": "code",
   "execution_count": 2,
   "metadata": {
    "scrolled": false
   },
   "outputs": [
    {
     "data": {
      "text/html": [
       "<div>\n",
       "<style scoped>\n",
       "    .dataframe tbody tr th:only-of-type {\n",
       "        vertical-align: middle;\n",
       "    }\n",
       "\n",
       "    .dataframe tbody tr th {\n",
       "        vertical-align: top;\n",
       "    }\n",
       "\n",
       "    .dataframe thead th {\n",
       "        text-align: right;\n",
       "    }\n",
       "</style>\n",
       "<table border=\"1\" class=\"dataframe\">\n",
       "  <thead>\n",
       "    <tr style=\"text-align: right;\">\n",
       "      <th></th>\n",
       "      <th>event.time</th>\n",
       "      <th>event.name</th>\n",
       "      <th>user.id</th>\n",
       "    </tr>\n",
       "  </thead>\n",
       "  <tbody>\n",
       "    <tr>\n",
       "      <th>0</th>\n",
       "      <td>2019-10-07 00:00:00.431357</td>\n",
       "      <td>advert_open</td>\n",
       "      <td>020292ab-89bc-4156-9acf-68bc2783f894</td>\n",
       "    </tr>\n",
       "    <tr>\n",
       "      <th>1</th>\n",
       "      <td>2019-10-07 00:00:01.236320</td>\n",
       "      <td>tips_show</td>\n",
       "      <td>020292ab-89bc-4156-9acf-68bc2783f894</td>\n",
       "    </tr>\n",
       "    <tr>\n",
       "      <th>2</th>\n",
       "      <td>2019-10-07 00:00:02.245341</td>\n",
       "      <td>tips_show</td>\n",
       "      <td>cf7eda61-9349-469f-ac27-e5b6f5ec475c</td>\n",
       "    </tr>\n",
       "    <tr>\n",
       "      <th>3</th>\n",
       "      <td>2019-10-07 00:00:07.039334</td>\n",
       "      <td>tips_show</td>\n",
       "      <td>020292ab-89bc-4156-9acf-68bc2783f894</td>\n",
       "    </tr>\n",
       "    <tr>\n",
       "      <th>4</th>\n",
       "      <td>2019-10-07 00:00:56.319813</td>\n",
       "      <td>advert_open</td>\n",
       "      <td>cf7eda61-9349-469f-ac27-e5b6f5ec475c</td>\n",
       "    </tr>\n",
       "  </tbody>\n",
       "</table>\n",
       "</div>"
      ],
      "text/plain": [
       "                   event.time   event.name  \\\n",
       "0  2019-10-07 00:00:00.431357  advert_open   \n",
       "1  2019-10-07 00:00:01.236320    tips_show   \n",
       "2  2019-10-07 00:00:02.245341    tips_show   \n",
       "3  2019-10-07 00:00:07.039334    tips_show   \n",
       "4  2019-10-07 00:00:56.319813  advert_open   \n",
       "\n",
       "                                user.id  \n",
       "0  020292ab-89bc-4156-9acf-68bc2783f894  \n",
       "1  020292ab-89bc-4156-9acf-68bc2783f894  \n",
       "2  cf7eda61-9349-469f-ac27-e5b6f5ec475c  \n",
       "3  020292ab-89bc-4156-9acf-68bc2783f894  \n",
       "4  cf7eda61-9349-469f-ac27-e5b6f5ec475c  "
      ]
     },
     "execution_count": 2,
     "metadata": {},
     "output_type": "execute_result"
    }
   ],
   "source": [
    "df = pd.read_csv('mobile_dataset.csv')\n",
    "df.head()"
   ]
  },
  {
   "cell_type": "code",
   "execution_count": 3,
   "metadata": {},
   "outputs": [
    {
     "data": {
      "text/html": [
       "<div>\n",
       "<style scoped>\n",
       "    .dataframe tbody tr th:only-of-type {\n",
       "        vertical-align: middle;\n",
       "    }\n",
       "\n",
       "    .dataframe tbody tr th {\n",
       "        vertical-align: top;\n",
       "    }\n",
       "\n",
       "    .dataframe thead th {\n",
       "        text-align: right;\n",
       "    }\n",
       "</style>\n",
       "<table border=\"1\" class=\"dataframe\">\n",
       "  <thead>\n",
       "    <tr style=\"text-align: right;\">\n",
       "      <th></th>\n",
       "      <th>userId</th>\n",
       "      <th>source</th>\n",
       "    </tr>\n",
       "  </thead>\n",
       "  <tbody>\n",
       "    <tr>\n",
       "      <th>0</th>\n",
       "      <td>020292ab-89bc-4156-9acf-68bc2783f894</td>\n",
       "      <td>other</td>\n",
       "    </tr>\n",
       "    <tr>\n",
       "      <th>1</th>\n",
       "      <td>cf7eda61-9349-469f-ac27-e5b6f5ec475c</td>\n",
       "      <td>yandex</td>\n",
       "    </tr>\n",
       "    <tr>\n",
       "      <th>2</th>\n",
       "      <td>8c356c42-3ba9-4cb6-80b8-3f868d0192c3</td>\n",
       "      <td>yandex</td>\n",
       "    </tr>\n",
       "    <tr>\n",
       "      <th>3</th>\n",
       "      <td>d9b06b47-0f36-419b-bbb0-3533e582a6cb</td>\n",
       "      <td>other</td>\n",
       "    </tr>\n",
       "    <tr>\n",
       "      <th>4</th>\n",
       "      <td>f32e1e2a-3027-4693-b793-b7b3ff274439</td>\n",
       "      <td>google</td>\n",
       "    </tr>\n",
       "  </tbody>\n",
       "</table>\n",
       "</div>"
      ],
      "text/plain": [
       "                                 userId  source\n",
       "0  020292ab-89bc-4156-9acf-68bc2783f894   other\n",
       "1  cf7eda61-9349-469f-ac27-e5b6f5ec475c  yandex\n",
       "2  8c356c42-3ba9-4cb6-80b8-3f868d0192c3  yandex\n",
       "3  d9b06b47-0f36-419b-bbb0-3533e582a6cb   other\n",
       "4  f32e1e2a-3027-4693-b793-b7b3ff274439  google"
      ]
     },
     "execution_count": 3,
     "metadata": {},
     "output_type": "execute_result"
    }
   ],
   "source": [
    "soures = pd.read_csv('mobile_soures.csv')\n",
    "soures.head()"
   ]
  },
  {
   "cell_type": "code",
   "execution_count": 4,
   "metadata": {},
   "outputs": [
    {
     "name": "stdout",
     "output_type": "stream",
     "text": [
      "<class 'pandas.core.frame.DataFrame'>\n",
      "RangeIndex: 74197 entries, 0 to 74196\n",
      "Data columns (total 3 columns):\n",
      " #   Column      Non-Null Count  Dtype \n",
      "---  ------      --------------  ----- \n",
      " 0   event.time  74197 non-null  object\n",
      " 1   event.name  74197 non-null  object\n",
      " 2   user.id     74197 non-null  object\n",
      "dtypes: object(3)\n",
      "memory usage: 1.7+ MB\n"
     ]
    },
    {
     "data": {
      "text/html": [
       "<div>\n",
       "<style scoped>\n",
       "    .dataframe tbody tr th:only-of-type {\n",
       "        vertical-align: middle;\n",
       "    }\n",
       "\n",
       "    .dataframe tbody tr th {\n",
       "        vertical-align: top;\n",
       "    }\n",
       "\n",
       "    .dataframe thead th {\n",
       "        text-align: right;\n",
       "    }\n",
       "</style>\n",
       "<table border=\"1\" class=\"dataframe\">\n",
       "  <thead>\n",
       "    <tr style=\"text-align: right;\">\n",
       "      <th></th>\n",
       "      <th>event.time</th>\n",
       "      <th>event.name</th>\n",
       "      <th>user.id</th>\n",
       "    </tr>\n",
       "  </thead>\n",
       "  <tbody>\n",
       "    <tr>\n",
       "      <th>0</th>\n",
       "      <td>2019-10-07 00:00:00.431357</td>\n",
       "      <td>advert_open</td>\n",
       "      <td>020292ab-89bc-4156-9acf-68bc2783f894</td>\n",
       "    </tr>\n",
       "    <tr>\n",
       "      <th>1</th>\n",
       "      <td>2019-10-07 00:00:01.236320</td>\n",
       "      <td>tips_show</td>\n",
       "      <td>020292ab-89bc-4156-9acf-68bc2783f894</td>\n",
       "    </tr>\n",
       "    <tr>\n",
       "      <th>2</th>\n",
       "      <td>2019-10-07 00:00:02.245341</td>\n",
       "      <td>tips_show</td>\n",
       "      <td>cf7eda61-9349-469f-ac27-e5b6f5ec475c</td>\n",
       "    </tr>\n",
       "    <tr>\n",
       "      <th>3</th>\n",
       "      <td>2019-10-07 00:00:07.039334</td>\n",
       "      <td>tips_show</td>\n",
       "      <td>020292ab-89bc-4156-9acf-68bc2783f894</td>\n",
       "    </tr>\n",
       "    <tr>\n",
       "      <th>4</th>\n",
       "      <td>2019-10-07 00:00:56.319813</td>\n",
       "      <td>advert_open</td>\n",
       "      <td>cf7eda61-9349-469f-ac27-e5b6f5ec475c</td>\n",
       "    </tr>\n",
       "  </tbody>\n",
       "</table>\n",
       "</div>"
      ],
      "text/plain": [
       "                   event.time   event.name  \\\n",
       "0  2019-10-07 00:00:00.431357  advert_open   \n",
       "1  2019-10-07 00:00:01.236320    tips_show   \n",
       "2  2019-10-07 00:00:02.245341    tips_show   \n",
       "3  2019-10-07 00:00:07.039334    tips_show   \n",
       "4  2019-10-07 00:00:56.319813  advert_open   \n",
       "\n",
       "                                user.id  \n",
       "0  020292ab-89bc-4156-9acf-68bc2783f894  \n",
       "1  020292ab-89bc-4156-9acf-68bc2783f894  \n",
       "2  cf7eda61-9349-469f-ac27-e5b6f5ec475c  \n",
       "3  020292ab-89bc-4156-9acf-68bc2783f894  \n",
       "4  cf7eda61-9349-469f-ac27-e5b6f5ec475c  "
      ]
     },
     "execution_count": 4,
     "metadata": {},
     "output_type": "execute_result"
    }
   ],
   "source": [
    "df.info()\n",
    "df.head()"
   ]
  },
  {
   "cell_type": "code",
   "execution_count": 5,
   "metadata": {
    "scrolled": false
   },
   "outputs": [
    {
     "name": "stdout",
     "output_type": "stream",
     "text": [
      "<class 'pandas.core.frame.DataFrame'>\n",
      "RangeIndex: 4293 entries, 0 to 4292\n",
      "Data columns (total 2 columns):\n",
      " #   Column  Non-Null Count  Dtype \n",
      "---  ------  --------------  ----- \n",
      " 0   userId  4293 non-null   object\n",
      " 1   source  4293 non-null   object\n",
      "dtypes: object(2)\n",
      "memory usage: 67.2+ KB\n"
     ]
    },
    {
     "data": {
      "text/html": [
       "<div>\n",
       "<style scoped>\n",
       "    .dataframe tbody tr th:only-of-type {\n",
       "        vertical-align: middle;\n",
       "    }\n",
       "\n",
       "    .dataframe tbody tr th {\n",
       "        vertical-align: top;\n",
       "    }\n",
       "\n",
       "    .dataframe thead th {\n",
       "        text-align: right;\n",
       "    }\n",
       "</style>\n",
       "<table border=\"1\" class=\"dataframe\">\n",
       "  <thead>\n",
       "    <tr style=\"text-align: right;\">\n",
       "      <th></th>\n",
       "      <th>userId</th>\n",
       "      <th>source</th>\n",
       "    </tr>\n",
       "  </thead>\n",
       "  <tbody>\n",
       "    <tr>\n",
       "      <th>0</th>\n",
       "      <td>020292ab-89bc-4156-9acf-68bc2783f894</td>\n",
       "      <td>other</td>\n",
       "    </tr>\n",
       "    <tr>\n",
       "      <th>1</th>\n",
       "      <td>cf7eda61-9349-469f-ac27-e5b6f5ec475c</td>\n",
       "      <td>yandex</td>\n",
       "    </tr>\n",
       "    <tr>\n",
       "      <th>2</th>\n",
       "      <td>8c356c42-3ba9-4cb6-80b8-3f868d0192c3</td>\n",
       "      <td>yandex</td>\n",
       "    </tr>\n",
       "    <tr>\n",
       "      <th>3</th>\n",
       "      <td>d9b06b47-0f36-419b-bbb0-3533e582a6cb</td>\n",
       "      <td>other</td>\n",
       "    </tr>\n",
       "    <tr>\n",
       "      <th>4</th>\n",
       "      <td>f32e1e2a-3027-4693-b793-b7b3ff274439</td>\n",
       "      <td>google</td>\n",
       "    </tr>\n",
       "  </tbody>\n",
       "</table>\n",
       "</div>"
      ],
      "text/plain": [
       "                                 userId  source\n",
       "0  020292ab-89bc-4156-9acf-68bc2783f894   other\n",
       "1  cf7eda61-9349-469f-ac27-e5b6f5ec475c  yandex\n",
       "2  8c356c42-3ba9-4cb6-80b8-3f868d0192c3  yandex\n",
       "3  d9b06b47-0f36-419b-bbb0-3533e582a6cb   other\n",
       "4  f32e1e2a-3027-4693-b793-b7b3ff274439  google"
      ]
     },
     "execution_count": 5,
     "metadata": {},
     "output_type": "execute_result"
    }
   ],
   "source": [
    "soures.info()\n",
    "soures.head()"
   ]
  },
  {
   "cell_type": "markdown",
   "metadata": {},
   "source": [
    "**Вывод**\n",
    "\n",
    "Пропусков нет, надо только поправить название столбцов и типы данных"
   ]
  },
  {
   "cell_type": "markdown",
   "metadata": {},
   "source": [
    "### Предобработка данных"
   ]
  },
  {
   "cell_type": "markdown",
   "metadata": {},
   "source": [
    "Переименуем все стобцы"
   ]
  },
  {
   "cell_type": "code",
   "execution_count": 6,
   "metadata": {
    "scrolled": true
   },
   "outputs": [],
   "source": [
    "df = df.rename(columns={\"event.time\": \"event_time\", \"event.name\": \"event_name\",'user.id':'user_id'})\n",
    "soures = soures.rename(columns={'userId':'user_id'})"
   ]
  },
  {
   "cell_type": "code",
   "execution_count": 7,
   "metadata": {
    "scrolled": true
   },
   "outputs": [
    {
     "data": {
      "text/html": [
       "<div>\n",
       "<style scoped>\n",
       "    .dataframe tbody tr th:only-of-type {\n",
       "        vertical-align: middle;\n",
       "    }\n",
       "\n",
       "    .dataframe tbody tr th {\n",
       "        vertical-align: top;\n",
       "    }\n",
       "\n",
       "    .dataframe thead th {\n",
       "        text-align: right;\n",
       "    }\n",
       "</style>\n",
       "<table border=\"1\" class=\"dataframe\">\n",
       "  <thead>\n",
       "    <tr style=\"text-align: right;\">\n",
       "      <th></th>\n",
       "      <th>event_time</th>\n",
       "      <th>event_name</th>\n",
       "      <th>user_id</th>\n",
       "      <th>source</th>\n",
       "    </tr>\n",
       "  </thead>\n",
       "  <tbody>\n",
       "    <tr>\n",
       "      <th>0</th>\n",
       "      <td>2019-10-07 00:00:00.431357</td>\n",
       "      <td>advert_open</td>\n",
       "      <td>020292ab-89bc-4156-9acf-68bc2783f894</td>\n",
       "      <td>other</td>\n",
       "    </tr>\n",
       "    <tr>\n",
       "      <th>1</th>\n",
       "      <td>2019-10-07 00:00:01.236320</td>\n",
       "      <td>tips_show</td>\n",
       "      <td>020292ab-89bc-4156-9acf-68bc2783f894</td>\n",
       "      <td>other</td>\n",
       "    </tr>\n",
       "    <tr>\n",
       "      <th>2</th>\n",
       "      <td>2019-10-07 00:00:02.245341</td>\n",
       "      <td>tips_show</td>\n",
       "      <td>cf7eda61-9349-469f-ac27-e5b6f5ec475c</td>\n",
       "      <td>yandex</td>\n",
       "    </tr>\n",
       "    <tr>\n",
       "      <th>3</th>\n",
       "      <td>2019-10-07 00:00:07.039334</td>\n",
       "      <td>tips_show</td>\n",
       "      <td>020292ab-89bc-4156-9acf-68bc2783f894</td>\n",
       "      <td>other</td>\n",
       "    </tr>\n",
       "    <tr>\n",
       "      <th>4</th>\n",
       "      <td>2019-10-07 00:00:56.319813</td>\n",
       "      <td>advert_open</td>\n",
       "      <td>cf7eda61-9349-469f-ac27-e5b6f5ec475c</td>\n",
       "      <td>yandex</td>\n",
       "    </tr>\n",
       "  </tbody>\n",
       "</table>\n",
       "</div>"
      ],
      "text/plain": [
       "                   event_time   event_name  \\\n",
       "0  2019-10-07 00:00:00.431357  advert_open   \n",
       "1  2019-10-07 00:00:01.236320    tips_show   \n",
       "2  2019-10-07 00:00:02.245341    tips_show   \n",
       "3  2019-10-07 00:00:07.039334    tips_show   \n",
       "4  2019-10-07 00:00:56.319813  advert_open   \n",
       "\n",
       "                                user_id  source  \n",
       "0  020292ab-89bc-4156-9acf-68bc2783f894   other  \n",
       "1  020292ab-89bc-4156-9acf-68bc2783f894   other  \n",
       "2  cf7eda61-9349-469f-ac27-e5b6f5ec475c  yandex  \n",
       "3  020292ab-89bc-4156-9acf-68bc2783f894   other  \n",
       "4  cf7eda61-9349-469f-ac27-e5b6f5ec475c  yandex  "
      ]
     },
     "execution_count": 7,
     "metadata": {},
     "output_type": "execute_result"
    }
   ],
   "source": [
    "df_all = df.merge(soures, how='left', on='user_id')\n",
    "df_all.head()"
   ]
  },
  {
   "cell_type": "markdown",
   "metadata": {},
   "source": [
    "Приводим столбец с датой к типу datetime и изменим тип данных на категорию"
   ]
  },
  {
   "cell_type": "code",
   "execution_count": 8,
   "metadata": {},
   "outputs": [
    {
     "data": {
      "text/plain": [
       "event_time    datetime64[ns]\n",
       "event_name          category\n",
       "user_id               object\n",
       "source              category\n",
       "dtype: object"
      ]
     },
     "execution_count": 8,
     "metadata": {},
     "output_type": "execute_result"
    }
   ],
   "source": [
    "df_all['event_time'] = pd.to_datetime(df_all['event_time'])\n",
    "df_all[['event_name', 'source']] = df_all[['event_name', 'source']].astype('category')\n",
    "df_all.dtypes"
   ]
  },
  {
   "cell_type": "markdown",
   "metadata": {},
   "source": [
    "Избавимся от всех возможных дубликатов"
   ]
  },
  {
   "cell_type": "code",
   "execution_count": 9,
   "metadata": {},
   "outputs": [],
   "source": [
    "df_all = df_all.drop_duplicates()"
   ]
  },
  {
   "cell_type": "markdown",
   "metadata": {},
   "source": [
    "Заменим неявные дубликаты в действиях"
   ]
  },
  {
   "cell_type": "code",
   "execution_count": 10,
   "metadata": {},
   "outputs": [],
   "source": [
    "df_all = df_all.replace('show_contacts', 'contacts_show')\n",
    "df_all = df_all.replace(['search_1','search_2','search_3','search_4','search_5','search_6','search_7'], 'search')"
   ]
  },
  {
   "cell_type": "code",
   "execution_count": 11,
   "metadata": {},
   "outputs": [],
   "source": [
    "df_all['minute'] = pd.to_datetime(df_all['event_time']).dt.minute\n",
    "df_all['hour'] = pd.to_datetime(df_all['event_time']).dt.hour\n",
    "df_all['dt'] = pd.to_datetime(df_all['event_time']).dt.date\n",
    "df_all['week'] = pd.to_datetime(df_all['event_time']).dt.week"
   ]
  },
  {
   "cell_type": "markdown",
   "metadata": {},
   "source": [
    "### Вывод\n",
    "Провели предобработку данных. Теперь можно приступать к анализу данных"
   ]
  },
  {
   "cell_type": "markdown",
   "metadata": {},
   "source": [
    "## Исследовательский анализ данных"
   ]
  },
  {
   "cell_type": "markdown",
   "metadata": {},
   "source": [
    "Посмотрим на распределение в наших данных"
   ]
  },
  {
   "cell_type": "code",
   "execution_count": 12,
   "metadata": {
    "scrolled": false
   },
   "outputs": [
    {
     "data": {
      "text/html": [
       "<div>\n",
       "<style scoped>\n",
       "    .dataframe tbody tr th:only-of-type {\n",
       "        vertical-align: middle;\n",
       "    }\n",
       "\n",
       "    .dataframe tbody tr th {\n",
       "        vertical-align: top;\n",
       "    }\n",
       "\n",
       "    .dataframe thead th {\n",
       "        text-align: right;\n",
       "    }\n",
       "</style>\n",
       "<table border=\"1\" class=\"dataframe\">\n",
       "  <thead>\n",
       "    <tr style=\"text-align: right;\">\n",
       "      <th></th>\n",
       "      <th>event_time</th>\n",
       "      <th>event_name</th>\n",
       "      <th>user_id</th>\n",
       "      <th>source</th>\n",
       "      <th>dt</th>\n",
       "    </tr>\n",
       "  </thead>\n",
       "  <tbody>\n",
       "    <tr>\n",
       "      <th>count</th>\n",
       "      <td>74197</td>\n",
       "      <td>74197</td>\n",
       "      <td>74197</td>\n",
       "      <td>74197</td>\n",
       "      <td>74197</td>\n",
       "    </tr>\n",
       "    <tr>\n",
       "      <th>unique</th>\n",
       "      <td>74197</td>\n",
       "      <td>9</td>\n",
       "      <td>4293</td>\n",
       "      <td>3</td>\n",
       "      <td>28</td>\n",
       "    </tr>\n",
       "    <tr>\n",
       "      <th>top</th>\n",
       "      <td>2019-10-07 00:00:00.431357</td>\n",
       "      <td>tips_show</td>\n",
       "      <td>cb36854f-570a-41f4-baa8-36680b396370</td>\n",
       "      <td>yandex</td>\n",
       "      <td>2019-10-23</td>\n",
       "    </tr>\n",
       "    <tr>\n",
       "      <th>freq</th>\n",
       "      <td>1</td>\n",
       "      <td>40055</td>\n",
       "      <td>478</td>\n",
       "      <td>34286</td>\n",
       "      <td>3361</td>\n",
       "    </tr>\n",
       "    <tr>\n",
       "      <th>first</th>\n",
       "      <td>2019-10-07 00:00:00.431357</td>\n",
       "      <td>NaN</td>\n",
       "      <td>NaN</td>\n",
       "      <td>NaN</td>\n",
       "      <td>NaN</td>\n",
       "    </tr>\n",
       "    <tr>\n",
       "      <th>last</th>\n",
       "      <td>2019-11-03 23:58:12.532487</td>\n",
       "      <td>NaN</td>\n",
       "      <td>NaN</td>\n",
       "      <td>NaN</td>\n",
       "      <td>NaN</td>\n",
       "    </tr>\n",
       "  </tbody>\n",
       "</table>\n",
       "</div>"
      ],
      "text/plain": [
       "                        event_time event_name  \\\n",
       "count                        74197      74197   \n",
       "unique                       74197          9   \n",
       "top     2019-10-07 00:00:00.431357  tips_show   \n",
       "freq                             1      40055   \n",
       "first   2019-10-07 00:00:00.431357        NaN   \n",
       "last    2019-11-03 23:58:12.532487        NaN   \n",
       "\n",
       "                                     user_id  source          dt  \n",
       "count                                  74197   74197       74197  \n",
       "unique                                  4293       3          28  \n",
       "top     cb36854f-570a-41f4-baa8-36680b396370  yandex  2019-10-23  \n",
       "freq                                     478   34286        3361  \n",
       "first                                    NaN     NaN         NaN  \n",
       "last                                     NaN     NaN         NaN  "
      ]
     },
     "execution_count": 12,
     "metadata": {},
     "output_type": "execute_result"
    }
   ],
   "source": [
    "df_all.describe(include=['object', 'datetime', 'category'])"
   ]
  },
  {
   "cell_type": "markdown",
   "metadata": {},
   "source": [
    "Самый популярное действие это показ рекомендаций, больше половины действий. Всего 4293 уникальных пользователя. Самый популярный источник Yandex"
   ]
  },
  {
   "cell_type": "code",
   "execution_count": 13,
   "metadata": {
    "scrolled": false
   },
   "outputs": [
    {
     "data": {
      "image/png": "[encoded data removed]",
      "text/plain": [
       "<Figure size 720x432 with 1 Axes>"
      ]
     },
     "metadata": {
      "needs_background": "light"
     },
     "output_type": "display_data"
    }
   ],
   "source": [
    "df_all.event_time.hist(bins=27, figsize=(10,6))\n",
    "plt.title('Распределение действий по дням', size=14)\n",
    "plt.show()"
   ]
  },
  {
   "cell_type": "code",
   "execution_count": 14,
   "metadata": {},
   "outputs": [
    {
     "data": {
      "image/png": "[encoded data removed]",
      "text/plain": [
       "<Figure size 720x432 with 1 Axes>"
      ]
     },
     "metadata": {
      "needs_background": "light"
     },
     "output_type": "display_data"
    }
   ],
   "source": [
    "df_all.hour.hist(bins=24, figsize=(10,6))\n",
    "plt.title('Распределение действий по часам', size=14)\n",
    "plt.show()"
   ]
  },
  {
   "cell_type": "markdown",
   "metadata": {},
   "source": [
    "Данные имеем распределенные, по часам наблюдаем периодичность. Два пика в 15 и 20 часов. В 5 утра у нас минимум действий"
   ]
  },
  {
   "cell_type": "markdown",
   "metadata": {},
   "source": [
    "### Определяем первое действие каждого пользователя каждый день"
   ]
  },
  {
   "cell_type": "code",
   "execution_count": 15,
   "metadata": {
    "scrolled": true
   },
   "outputs": [
    {
     "data": {
      "text/html": [
       "<div>\n",
       "<style scoped>\n",
       "    .dataframe tbody tr th:only-of-type {\n",
       "        vertical-align: middle;\n",
       "    }\n",
       "\n",
       "    .dataframe tbody tr th {\n",
       "        vertical-align: top;\n",
       "    }\n",
       "\n",
       "    .dataframe thead th {\n",
       "        text-align: right;\n",
       "    }\n",
       "</style>\n",
       "<table border=\"1\" class=\"dataframe\">\n",
       "  <thead>\n",
       "    <tr style=\"text-align: right;\">\n",
       "      <th></th>\n",
       "      <th>first_event</th>\n",
       "      <th>user_id</th>\n",
       "    </tr>\n",
       "  </thead>\n",
       "  <tbody>\n",
       "    <tr>\n",
       "      <th>8</th>\n",
       "      <td>tips_show</td>\n",
       "      <td>1398</td>\n",
       "    </tr>\n",
       "    <tr>\n",
       "      <th>6</th>\n",
       "      <td>search</td>\n",
       "      <td>1160</td>\n",
       "    </tr>\n",
       "    <tr>\n",
       "      <th>4</th>\n",
       "      <td>map</td>\n",
       "      <td>807</td>\n",
       "    </tr>\n",
       "    <tr>\n",
       "      <th>5</th>\n",
       "      <td>photos_show</td>\n",
       "      <td>560</td>\n",
       "    </tr>\n",
       "    <tr>\n",
       "      <th>2</th>\n",
       "      <td>contacts_show</td>\n",
       "      <td>179</td>\n",
       "    </tr>\n",
       "    <tr>\n",
       "      <th>0</th>\n",
       "      <td>advert_open</td>\n",
       "      <td>127</td>\n",
       "    </tr>\n",
       "    <tr>\n",
       "      <th>3</th>\n",
       "      <td>favorites_add</td>\n",
       "      <td>49</td>\n",
       "    </tr>\n",
       "    <tr>\n",
       "      <th>7</th>\n",
       "      <td>tips_click</td>\n",
       "      <td>13</td>\n",
       "    </tr>\n",
       "    <tr>\n",
       "      <th>1</th>\n",
       "      <td>contacts_call</td>\n",
       "      <td>0</td>\n",
       "    </tr>\n",
       "  </tbody>\n",
       "</table>\n",
       "</div>"
      ],
      "text/plain": [
       "     first_event  user_id\n",
       "8      tips_show     1398\n",
       "6         search     1160\n",
       "4            map      807\n",
       "5    photos_show      560\n",
       "2  contacts_show      179\n",
       "0    advert_open      127\n",
       "3  favorites_add       49\n",
       "7     tips_click       13\n",
       "1  contacts_call        0"
      ]
     },
     "execution_count": 15,
     "metadata": {},
     "output_type": "execute_result"
    }
   ],
   "source": [
    "first_event = df_all.groupby(['user_id'], as_index = False).agg({'event_name':'first','dt':'first','week':'first'})\n",
    "first_event.rename({'dt': 'first_dt', 'event_name': 'first_event','week':'first_week'}, axis=1, inplace=True)\n",
    "#сразу посмотри как распределяются первые действия\n",
    "first_event.groupby(['first_event'], as_index = False).agg({'user_id':'count'}).sort_values('user_id',ascending=False)"
   ]
  },
  {
   "cell_type": "code",
   "execution_count": 16,
   "metadata": {
    "scrolled": true
   },
   "outputs": [
    {
     "data": {
      "text/html": [
       "<div>\n",
       "<style scoped>\n",
       "    .dataframe tbody tr th:only-of-type {\n",
       "        vertical-align: middle;\n",
       "    }\n",
       "\n",
       "    .dataframe tbody tr th {\n",
       "        vertical-align: top;\n",
       "    }\n",
       "\n",
       "    .dataframe thead th {\n",
       "        text-align: right;\n",
       "    }\n",
       "</style>\n",
       "<table border=\"1\" class=\"dataframe\">\n",
       "  <thead>\n",
       "    <tr style=\"text-align: right;\">\n",
       "      <th></th>\n",
       "      <th>event_name</th>\n",
       "      <th>user_id</th>\n",
       "    </tr>\n",
       "  </thead>\n",
       "  <tbody>\n",
       "    <tr>\n",
       "      <th>8</th>\n",
       "      <td>tips_show</td>\n",
       "      <td>40055</td>\n",
       "    </tr>\n",
       "    <tr>\n",
       "      <th>5</th>\n",
       "      <td>photos_show</td>\n",
       "      <td>10012</td>\n",
       "    </tr>\n",
       "    <tr>\n",
       "      <th>6</th>\n",
       "      <td>search</td>\n",
       "      <td>6784</td>\n",
       "    </tr>\n",
       "    <tr>\n",
       "      <th>0</th>\n",
       "      <td>advert_open</td>\n",
       "      <td>6164</td>\n",
       "    </tr>\n",
       "    <tr>\n",
       "      <th>2</th>\n",
       "      <td>contacts_show</td>\n",
       "      <td>4529</td>\n",
       "    </tr>\n",
       "    <tr>\n",
       "      <th>4</th>\n",
       "      <td>map</td>\n",
       "      <td>3881</td>\n",
       "    </tr>\n",
       "    <tr>\n",
       "      <th>3</th>\n",
       "      <td>favorites_add</td>\n",
       "      <td>1417</td>\n",
       "    </tr>\n",
       "    <tr>\n",
       "      <th>7</th>\n",
       "      <td>tips_click</td>\n",
       "      <td>814</td>\n",
       "    </tr>\n",
       "    <tr>\n",
       "      <th>1</th>\n",
       "      <td>contacts_call</td>\n",
       "      <td>541</td>\n",
       "    </tr>\n",
       "  </tbody>\n",
       "</table>\n",
       "</div>"
      ],
      "text/plain": [
       "      event_name  user_id\n",
       "8      tips_show    40055\n",
       "5    photos_show    10012\n",
       "6         search     6784\n",
       "0    advert_open     6164\n",
       "2  contacts_show     4529\n",
       "4            map     3881\n",
       "3  favorites_add     1417\n",
       "7     tips_click      814\n",
       "1  contacts_call      541"
      ]
     },
     "execution_count": 16,
     "metadata": {},
     "output_type": "execute_result"
    }
   ],
   "source": [
    "#посмотрим на все происходящие действия в нашем датайфрейме\n",
    "df_all.groupby(['event_name'], as_index = False).agg({'user_id':'count'}).sort_values('user_id',ascending=False)"
   ]
  },
  {
   "cell_type": "markdown",
   "metadata": {},
   "source": [
    "Можем предположить следующие воронки:\n",
    "1. search — поиск обьявлений\n",
    "2. advert_open — открытие подходящего объявления\n",
    "3. contacts_show — просмотр номера владельца  \n",
    "  \n",
    "  \n",
    "1. tips_show — показ рекомендаций\n",
    "2. tips_click — клик по рекомендациям\n",
    "3. contacts_show — просмотр номера владельца\n",
    "\n",
    "\n",
    "Остальные действия не являются обязательными для прохождения воронки:\n",
    "- photos_show — просмотр фото\n",
    "- map — открыл карту объявлений\n",
    "- favorites_add — добавление в избраное\n",
    "\n",
    "- contacts_call — звонок по номеру\n",
    "\n",
    "Их, кроме звонка, можно рассматривать с точки зрения влияния на конверсию воронки"
   ]
  },
  {
   "cell_type": "markdown",
   "metadata": {},
   "source": [
    "### Расчет DAU и WAU"
   ]
  },
  {
   "cell_type": "code",
   "execution_count": 17,
   "metadata": {},
   "outputs": [
    {
     "data": {
      "image/png": "[encoded data removed]",
      "text/plain": [
       "<Figure size 720x360 with 1 Axes>"
      ]
     },
     "metadata": {
      "needs_background": "light"
     },
     "output_type": "display_data"
    }
   ],
   "source": [
    "dau = df_all.groupby('dt').agg({'user_id':'nunique'})\n",
    "dau.plot(grid=True,figsize = (10,5))\n",
    "plt.ylabel('DAU')\n",
    "plt.xlabel('Дата')\n",
    "plt.title('Динамика DAU')\n",
    "plt.show()"
   ]
  },
  {
   "cell_type": "code",
   "execution_count": 18,
   "metadata": {},
   "outputs": [
    {
     "data": {
      "image/png": "[encoded data removed]",
      "text/plain": [
       "<Figure size 720x360 with 1 Axes>"
      ]
     },
     "metadata": {
      "needs_background": "light"
     },
     "output_type": "display_data"
    }
   ],
   "source": [
    "wau = df_all.groupby('week').agg({'user_id':'nunique'})\n",
    "wau.plot(grid=True,figsize = (10,5))\n",
    "plt.ylabel('WAU')\n",
    "plt.xlabel('Неделя')\n",
    "plt.title('Динамика WAU')\n",
    "plt.show()"
   ]
  },
  {
   "cell_type": "code",
   "execution_count": 19,
   "metadata": {},
   "outputs": [
    {
     "data": {
      "text/plain": [
       "'Средний DAU: 279'"
      ]
     },
     "metadata": {},
     "output_type": "display_data"
    },
    {
     "data": {
      "text/plain": [
       "'Средний WAU: 1382'"
      ]
     },
     "metadata": {},
     "output_type": "display_data"
    }
   ],
   "source": [
    "display('Средний DAU: {:.0f}'.format(dau['user_id'].mean()))\n",
    "display('Средний WAU: {:.0f}'.format(wau['user_id'].mean()))"
   ]
  },
  {
   "cell_type": "markdown",
   "metadata": {},
   "source": [
    "### Добавление параметра использования дополнительных действий"
   ]
  },
  {
   "cell_type": "markdown",
   "metadata": {},
   "source": [
    "Добавим столбцы, которые будут показывать совершил или нет пользователь дополнительное действие"
   ]
  },
  {
   "cell_type": "code",
   "execution_count": 20,
   "metadata": {},
   "outputs": [],
   "source": [
    "cta_boosters = ['photos_show','map','favorites_add','tips_show','tips_click']\n",
    "for booster in cta_boosters:\n",
    "    #создаем пустой список\n",
    "    group_0_users = []\n",
    "    #цикл, мы добавляем в список id, которые совершили определенное дополнительное действие\n",
    "    for i in range(len(df_all)):\n",
    "        if df_all['event_name'][i] == booster:\n",
    "            group_0_users.append(df_all['user_id'][i])\n",
    "    #создаем пустой дополнительный столбец из нулей\n",
    "    df_all[booster] = df.apply(lambda _: 0, axis=1)\n",
    "    #у пользователей, которые совершали дополнительные действия ставим единицу, вместо нуля\n",
    "    for i in range(len(df_all)):\n",
    "        if df_all['user_id'][i] in group_0_users:\n",
    "            df_all[booster][i] = 1"
   ]
  },
  {
   "cell_type": "markdown",
   "metadata": {},
   "source": [
    "Для просмотра и клика по рекомендациям. 1 только просмотр. 2 просмотр и клик"
   ]
  },
  {
   "cell_type": "code",
   "execution_count": 21,
   "metadata": {},
   "outputs": [],
   "source": [
    "#создаем пустой список\n",
    "group_0_users = []\n",
    "#цикл, мы добавляем в список id, которые совершили определенное дополнительное действие\n",
    "for i in range(len(df_all)):\n",
    "    if df_all['event_name'][i] == 'tips_show':\n",
    "        group_0_users.append(df_all['user_id'][i])\n",
    "#создаем пустой дополнительный столбец из нулей\n",
    "df_all['tips'] = df.apply(lambda _: 0, axis=1)\n",
    "#у пользователей, которые совершали дополнительные действия ставим единицу, вместо нуля\n",
    "for i in range(len(df_all)):\n",
    "    if df_all['user_id'][i] in group_0_users:\n",
    "        df_all['tips'][i] = 1\n",
    "#создаем пустой список\n",
    "group_0_users = []\n",
    "#цикл, мы добавляем в список id, которые совершили определенное дополнительное действие\n",
    "for i in range(len(df_all)):\n",
    "    if df_all['event_name'][i] == 'tips_click':\n",
    "        group_0_users.append(df_all['user_id'][i])\n",
    "#у пользователей, которые совершали дополнительные действия ставим двойку, вместо единицы\n",
    "for i in range(len(df_all)):\n",
    "    if df_all['user_id'][i] in group_0_users:\n",
    "        df_all['tips'][i] = 2        "
   ]
  },
  {
   "cell_type": "code",
   "execution_count": 22,
   "metadata": {
    "scrolled": false
   },
   "outputs": [
    {
     "data": {
      "text/html": [
       "<div>\n",
       "<style scoped>\n",
       "    .dataframe tbody tr th:only-of-type {\n",
       "        vertical-align: middle;\n",
       "    }\n",
       "\n",
       "    .dataframe tbody tr th {\n",
       "        vertical-align: top;\n",
       "    }\n",
       "\n",
       "    .dataframe thead th {\n",
       "        text-align: right;\n",
       "    }\n",
       "</style>\n",
       "<table border=\"1\" class=\"dataframe\">\n",
       "  <thead>\n",
       "    <tr style=\"text-align: right;\">\n",
       "      <th></th>\n",
       "      <th>event_time</th>\n",
       "      <th>event_name</th>\n",
       "      <th>user_id</th>\n",
       "      <th>source</th>\n",
       "      <th>minute</th>\n",
       "      <th>hour</th>\n",
       "      <th>dt</th>\n",
       "      <th>week</th>\n",
       "      <th>photos_show</th>\n",
       "      <th>map</th>\n",
       "      <th>favorites_add</th>\n",
       "      <th>tips_show</th>\n",
       "      <th>tips_click</th>\n",
       "      <th>tips</th>\n",
       "    </tr>\n",
       "  </thead>\n",
       "  <tbody>\n",
       "    <tr>\n",
       "      <th>0</th>\n",
       "      <td>2019-10-07 00:00:00.431357</td>\n",
       "      <td>advert_open</td>\n",
       "      <td>020292ab-89bc-4156-9acf-68bc2783f894</td>\n",
       "      <td>other</td>\n",
       "      <td>0</td>\n",
       "      <td>0</td>\n",
       "      <td>2019-10-07</td>\n",
       "      <td>41</td>\n",
       "      <td>0</td>\n",
       "      <td>1</td>\n",
       "      <td>0</td>\n",
       "      <td>1</td>\n",
       "      <td>0</td>\n",
       "      <td>1</td>\n",
       "    </tr>\n",
       "    <tr>\n",
       "      <th>1</th>\n",
       "      <td>2019-10-07 00:00:01.236320</td>\n",
       "      <td>tips_show</td>\n",
       "      <td>020292ab-89bc-4156-9acf-68bc2783f894</td>\n",
       "      <td>other</td>\n",
       "      <td>0</td>\n",
       "      <td>0</td>\n",
       "      <td>2019-10-07</td>\n",
       "      <td>41</td>\n",
       "      <td>0</td>\n",
       "      <td>1</td>\n",
       "      <td>0</td>\n",
       "      <td>1</td>\n",
       "      <td>0</td>\n",
       "      <td>1</td>\n",
       "    </tr>\n",
       "    <tr>\n",
       "      <th>2</th>\n",
       "      <td>2019-10-07 00:00:02.245341</td>\n",
       "      <td>tips_show</td>\n",
       "      <td>cf7eda61-9349-469f-ac27-e5b6f5ec475c</td>\n",
       "      <td>yandex</td>\n",
       "      <td>0</td>\n",
       "      <td>0</td>\n",
       "      <td>2019-10-07</td>\n",
       "      <td>41</td>\n",
       "      <td>0</td>\n",
       "      <td>1</td>\n",
       "      <td>0</td>\n",
       "      <td>1</td>\n",
       "      <td>1</td>\n",
       "      <td>2</td>\n",
       "    </tr>\n",
       "    <tr>\n",
       "      <th>3</th>\n",
       "      <td>2019-10-07 00:00:07.039334</td>\n",
       "      <td>tips_show</td>\n",
       "      <td>020292ab-89bc-4156-9acf-68bc2783f894</td>\n",
       "      <td>other</td>\n",
       "      <td>0</td>\n",
       "      <td>0</td>\n",
       "      <td>2019-10-07</td>\n",
       "      <td>41</td>\n",
       "      <td>0</td>\n",
       "      <td>1</td>\n",
       "      <td>0</td>\n",
       "      <td>1</td>\n",
       "      <td>0</td>\n",
       "      <td>1</td>\n",
       "    </tr>\n",
       "    <tr>\n",
       "      <th>4</th>\n",
       "      <td>2019-10-07 00:00:56.319813</td>\n",
       "      <td>advert_open</td>\n",
       "      <td>cf7eda61-9349-469f-ac27-e5b6f5ec475c</td>\n",
       "      <td>yandex</td>\n",
       "      <td>0</td>\n",
       "      <td>0</td>\n",
       "      <td>2019-10-07</td>\n",
       "      <td>41</td>\n",
       "      <td>0</td>\n",
       "      <td>1</td>\n",
       "      <td>0</td>\n",
       "      <td>1</td>\n",
       "      <td>1</td>\n",
       "      <td>2</td>\n",
       "    </tr>\n",
       "  </tbody>\n",
       "</table>\n",
       "</div>"
      ],
      "text/plain": [
       "                  event_time   event_name  \\\n",
       "0 2019-10-07 00:00:00.431357  advert_open   \n",
       "1 2019-10-07 00:00:01.236320    tips_show   \n",
       "2 2019-10-07 00:00:02.245341    tips_show   \n",
       "3 2019-10-07 00:00:07.039334    tips_show   \n",
       "4 2019-10-07 00:00:56.319813  advert_open   \n",
       "\n",
       "                                user_id  source  minute  hour          dt  \\\n",
       "0  020292ab-89bc-4156-9acf-68bc2783f894   other       0     0  2019-10-07   \n",
       "1  020292ab-89bc-4156-9acf-68bc2783f894   other       0     0  2019-10-07   \n",
       "2  cf7eda61-9349-469f-ac27-e5b6f5ec475c  yandex       0     0  2019-10-07   \n",
       "3  020292ab-89bc-4156-9acf-68bc2783f894   other       0     0  2019-10-07   \n",
       "4  cf7eda61-9349-469f-ac27-e5b6f5ec475c  yandex       0     0  2019-10-07   \n",
       "\n",
       "   week  photos_show  map  favorites_add  tips_show  tips_click  tips  \n",
       "0    41            0    1              0          1           0     1  \n",
       "1    41            0    1              0          1           0     1  \n",
       "2    41            0    1              0          1           1     2  \n",
       "3    41            0    1              0          1           0     1  \n",
       "4    41            0    1              0          1           1     2  "
      ]
     },
     "execution_count": 22,
     "metadata": {},
     "output_type": "execute_result"
    }
   ],
   "source": [
    "df_all.head()"
   ]
  },
  {
   "cell_type": "markdown",
   "metadata": {},
   "source": [
    "### Расчет Retention Rate"
   ]
  },
  {
   "cell_type": "code",
   "execution_count": 23,
   "metadata": {
    "scrolled": false
   },
   "outputs": [
    {
     "data": {
      "text/html": [
       "<div>\n",
       "<style scoped>\n",
       "    .dataframe tbody tr th:only-of-type {\n",
       "        vertical-align: middle;\n",
       "    }\n",
       "\n",
       "    .dataframe tbody tr th {\n",
       "        vertical-align: top;\n",
       "    }\n",
       "\n",
       "    .dataframe thead th {\n",
       "        text-align: right;\n",
       "    }\n",
       "</style>\n",
       "<table border=\"1\" class=\"dataframe\">\n",
       "  <thead>\n",
       "    <tr style=\"text-align: right;\">\n",
       "      <th></th>\n",
       "      <th>event_time</th>\n",
       "      <th>event_name</th>\n",
       "      <th>user_id</th>\n",
       "      <th>source</th>\n",
       "      <th>minute</th>\n",
       "      <th>hour</th>\n",
       "      <th>dt</th>\n",
       "      <th>week</th>\n",
       "      <th>photos_show</th>\n",
       "      <th>map</th>\n",
       "      <th>favorites_add</th>\n",
       "      <th>tips_show</th>\n",
       "      <th>tips_click</th>\n",
       "      <th>tips</th>\n",
       "      <th>first_event</th>\n",
       "      <th>first_dt</th>\n",
       "      <th>first_week</th>\n",
       "      <th>lifetime</th>\n",
       "    </tr>\n",
       "  </thead>\n",
       "  <tbody>\n",
       "    <tr>\n",
       "      <th>0</th>\n",
       "      <td>2019-10-07 00:00:00.431357</td>\n",
       "      <td>advert_open</td>\n",
       "      <td>020292ab-89bc-4156-9acf-68bc2783f894</td>\n",
       "      <td>other</td>\n",
       "      <td>0</td>\n",
       "      <td>0</td>\n",
       "      <td>2019-10-07</td>\n",
       "      <td>41</td>\n",
       "      <td>0</td>\n",
       "      <td>1</td>\n",
       "      <td>0</td>\n",
       "      <td>1</td>\n",
       "      <td>0</td>\n",
       "      <td>1</td>\n",
       "      <td>advert_open</td>\n",
       "      <td>2019-10-07</td>\n",
       "      <td>41</td>\n",
       "      <td>0</td>\n",
       "    </tr>\n",
       "    <tr>\n",
       "      <th>1</th>\n",
       "      <td>2019-10-07 00:00:01.236320</td>\n",
       "      <td>tips_show</td>\n",
       "      <td>020292ab-89bc-4156-9acf-68bc2783f894</td>\n",
       "      <td>other</td>\n",
       "      <td>0</td>\n",
       "      <td>0</td>\n",
       "      <td>2019-10-07</td>\n",
       "      <td>41</td>\n",
       "      <td>0</td>\n",
       "      <td>1</td>\n",
       "      <td>0</td>\n",
       "      <td>1</td>\n",
       "      <td>0</td>\n",
       "      <td>1</td>\n",
       "      <td>advert_open</td>\n",
       "      <td>2019-10-07</td>\n",
       "      <td>41</td>\n",
       "      <td>0</td>\n",
       "    </tr>\n",
       "    <tr>\n",
       "      <th>2</th>\n",
       "      <td>2019-10-07 00:00:02.245341</td>\n",
       "      <td>tips_show</td>\n",
       "      <td>cf7eda61-9349-469f-ac27-e5b6f5ec475c</td>\n",
       "      <td>yandex</td>\n",
       "      <td>0</td>\n",
       "      <td>0</td>\n",
       "      <td>2019-10-07</td>\n",
       "      <td>41</td>\n",
       "      <td>0</td>\n",
       "      <td>1</td>\n",
       "      <td>0</td>\n",
       "      <td>1</td>\n",
       "      <td>1</td>\n",
       "      <td>2</td>\n",
       "      <td>tips_show</td>\n",
       "      <td>2019-10-07</td>\n",
       "      <td>41</td>\n",
       "      <td>0</td>\n",
       "    </tr>\n",
       "    <tr>\n",
       "      <th>3</th>\n",
       "      <td>2019-10-07 00:00:07.039334</td>\n",
       "      <td>tips_show</td>\n",
       "      <td>020292ab-89bc-4156-9acf-68bc2783f894</td>\n",
       "      <td>other</td>\n",
       "      <td>0</td>\n",
       "      <td>0</td>\n",
       "      <td>2019-10-07</td>\n",
       "      <td>41</td>\n",
       "      <td>0</td>\n",
       "      <td>1</td>\n",
       "      <td>0</td>\n",
       "      <td>1</td>\n",
       "      <td>0</td>\n",
       "      <td>1</td>\n",
       "      <td>advert_open</td>\n",
       "      <td>2019-10-07</td>\n",
       "      <td>41</td>\n",
       "      <td>0</td>\n",
       "    </tr>\n",
       "    <tr>\n",
       "      <th>4</th>\n",
       "      <td>2019-10-07 00:00:56.319813</td>\n",
       "      <td>advert_open</td>\n",
       "      <td>cf7eda61-9349-469f-ac27-e5b6f5ec475c</td>\n",
       "      <td>yandex</td>\n",
       "      <td>0</td>\n",
       "      <td>0</td>\n",
       "      <td>2019-10-07</td>\n",
       "      <td>41</td>\n",
       "      <td>0</td>\n",
       "      <td>1</td>\n",
       "      <td>0</td>\n",
       "      <td>1</td>\n",
       "      <td>1</td>\n",
       "      <td>2</td>\n",
       "      <td>tips_show</td>\n",
       "      <td>2019-10-07</td>\n",
       "      <td>41</td>\n",
       "      <td>0</td>\n",
       "    </tr>\n",
       "  </tbody>\n",
       "</table>\n",
       "</div>"
      ],
      "text/plain": [
       "                  event_time   event_name  \\\n",
       "0 2019-10-07 00:00:00.431357  advert_open   \n",
       "1 2019-10-07 00:00:01.236320    tips_show   \n",
       "2 2019-10-07 00:00:02.245341    tips_show   \n",
       "3 2019-10-07 00:00:07.039334    tips_show   \n",
       "4 2019-10-07 00:00:56.319813  advert_open   \n",
       "\n",
       "                                user_id  source  minute  hour          dt  \\\n",
       "0  020292ab-89bc-4156-9acf-68bc2783f894   other       0     0  2019-10-07   \n",
       "1  020292ab-89bc-4156-9acf-68bc2783f894   other       0     0  2019-10-07   \n",
       "2  cf7eda61-9349-469f-ac27-e5b6f5ec475c  yandex       0     0  2019-10-07   \n",
       "3  020292ab-89bc-4156-9acf-68bc2783f894   other       0     0  2019-10-07   \n",
       "4  cf7eda61-9349-469f-ac27-e5b6f5ec475c  yandex       0     0  2019-10-07   \n",
       "\n",
       "   week  photos_show  map  favorites_add  tips_show  tips_click  tips  \\\n",
       "0    41            0    1              0          1           0     1   \n",
       "1    41            0    1              0          1           0     1   \n",
       "2    41            0    1              0          1           1     2   \n",
       "3    41            0    1              0          1           0     1   \n",
       "4    41            0    1              0          1           1     2   \n",
       "\n",
       "   first_event    first_dt  first_week  lifetime  \n",
       "0  advert_open  2019-10-07          41         0  \n",
       "1  advert_open  2019-10-07          41         0  \n",
       "2    tips_show  2019-10-07          41         0  \n",
       "3  advert_open  2019-10-07          41         0  \n",
       "4    tips_show  2019-10-07          41         0  "
      ]
     },
     "execution_count": 23,
     "metadata": {},
     "output_type": "execute_result"
    }
   ],
   "source": [
    "df_all = df_all.merge(first_event, on='user_id', how='left')\n",
    "df_all['lifetime'] = (\n",
    "    df_all['week'] - df_all['first_week']\n",
    ")\n",
    "df_all.head()"
   ]
  },
  {
   "cell_type": "code",
   "execution_count": 24,
   "metadata": {},
   "outputs": [
    {
     "data": {
      "text/html": [
       "<div>\n",
       "<style scoped>\n",
       "    .dataframe tbody tr th:only-of-type {\n",
       "        vertical-align: middle;\n",
       "    }\n",
       "\n",
       "    .dataframe tbody tr th {\n",
       "        vertical-align: top;\n",
       "    }\n",
       "\n",
       "    .dataframe thead th {\n",
       "        text-align: right;\n",
       "    }\n",
       "</style>\n",
       "<table border=\"1\" class=\"dataframe\">\n",
       "  <thead>\n",
       "    <tr style=\"text-align: right;\">\n",
       "      <th></th>\n",
       "      <th>0</th>\n",
       "      <th>1</th>\n",
       "      <th>2</th>\n",
       "      <th>3</th>\n",
       "    </tr>\n",
       "    <tr>\n",
       "      <th>first_week</th>\n",
       "      <th></th>\n",
       "      <th></th>\n",
       "      <th></th>\n",
       "      <th></th>\n",
       "    </tr>\n",
       "  </thead>\n",
       "  <tbody>\n",
       "    <tr>\n",
       "      <th>41</th>\n",
       "      <td>1.0</td>\n",
       "      <td>0.240708</td>\n",
       "      <td>0.150442</td>\n",
       "      <td>0.10531</td>\n",
       "    </tr>\n",
       "    <tr>\n",
       "      <th>42</th>\n",
       "      <td>1.0</td>\n",
       "      <td>0.241852</td>\n",
       "      <td>0.132933</td>\n",
       "      <td>0.00000</td>\n",
       "    </tr>\n",
       "    <tr>\n",
       "      <th>43</th>\n",
       "      <td>1.0</td>\n",
       "      <td>0.218464</td>\n",
       "      <td>0.000000</td>\n",
       "      <td>0.00000</td>\n",
       "    </tr>\n",
       "    <tr>\n",
       "      <th>44</th>\n",
       "      <td>1.0</td>\n",
       "      <td>0.000000</td>\n",
       "      <td>0.000000</td>\n",
       "      <td>0.00000</td>\n",
       "    </tr>\n",
       "  </tbody>\n",
       "</table>\n",
       "</div>"
      ],
      "text/plain": [
       "              0         1         2        3\n",
       "first_week                                  \n",
       "41          1.0  0.240708  0.150442  0.10531\n",
       "42          1.0  0.241852  0.132933  0.00000\n",
       "43          1.0  0.218464  0.000000  0.00000\n",
       "44          1.0  0.000000  0.000000  0.00000"
      ]
     },
     "execution_count": 24,
     "metadata": {},
     "output_type": "execute_result"
    }
   ],
   "source": [
    "# строим таблицу удержания\n",
    "df_grouped = df_all.pivot_table(\n",
    "    index=['first_week'], columns='lifetime', values='user_id', aggfunc='nunique'\n",
    ")\n",
    "df_grouped\n",
    "# вычисляем размеры когорт\n",
    "cohort_sizes = (\n",
    "    df_all.groupby('first_week')\n",
    "    .agg({'user_id': 'nunique'})\n",
    "    .rename(columns={'user_id': 'cohort_size'})\n",
    ")\n",
    "# объединяем размеры когорт и таблицу удержания\n",
    "df_grouped = cohort_sizes.merge(\n",
    "    df_grouped, on='first_week', how='left'\n",
    ").fillna(0)\n",
    "df_grouped = df_grouped.div(\n",
    "    df_grouped['cohort_size'], axis=0\n",
    ").drop(columns=['cohort_size'])\n",
    "\n",
    "df_grouped"
   ]
  },
  {
   "cell_type": "markdown",
   "metadata": {},
   "source": [
    "### Поиск действий, которые совершаются вместе с целевым событием\n",
    "Для этого отберем только тех пользователей, которые хотя бы раз совершили целевое действие"
   ]
  },
  {
   "cell_type": "code",
   "execution_count": 25,
   "metadata": {
    "scrolled": true
   },
   "outputs": [
    {
     "data": {
      "text/html": [
       "<div>\n",
       "<style scoped>\n",
       "    .dataframe tbody tr th:only-of-type {\n",
       "        vertical-align: middle;\n",
       "    }\n",
       "\n",
       "    .dataframe tbody tr th {\n",
       "        vertical-align: top;\n",
       "    }\n",
       "\n",
       "    .dataframe thead th {\n",
       "        text-align: right;\n",
       "    }\n",
       "</style>\n",
       "<table border=\"1\" class=\"dataframe\">\n",
       "  <thead>\n",
       "    <tr style=\"text-align: right;\">\n",
       "      <th></th>\n",
       "      <th>event_time</th>\n",
       "      <th>event_name</th>\n",
       "      <th>user_id</th>\n",
       "      <th>source</th>\n",
       "      <th>minute</th>\n",
       "      <th>hour</th>\n",
       "      <th>dt</th>\n",
       "      <th>week</th>\n",
       "      <th>photos_show</th>\n",
       "      <th>map</th>\n",
       "      <th>favorites_add</th>\n",
       "      <th>tips_show</th>\n",
       "      <th>tips_click</th>\n",
       "      <th>tips</th>\n",
       "      <th>first_event</th>\n",
       "      <th>first_dt</th>\n",
       "      <th>first_week</th>\n",
       "      <th>lifetime</th>\n",
       "    </tr>\n",
       "  </thead>\n",
       "  <tbody>\n",
       "    <tr>\n",
       "      <th>12</th>\n",
       "      <td>2019-10-07 00:02:07.374346</td>\n",
       "      <td>tips_show</td>\n",
       "      <td>8c356c42-3ba9-4cb6-80b8-3f868d0192c3</td>\n",
       "      <td>yandex</td>\n",
       "      <td>2</td>\n",
       "      <td>0</td>\n",
       "      <td>2019-10-07</td>\n",
       "      <td>41</td>\n",
       "      <td>0</td>\n",
       "      <td>1</td>\n",
       "      <td>0</td>\n",
       "      <td>1</td>\n",
       "      <td>1</td>\n",
       "      <td>2</td>\n",
       "      <td>tips_show</td>\n",
       "      <td>2019-10-07</td>\n",
       "      <td>41</td>\n",
       "      <td>0</td>\n",
       "    </tr>\n",
       "    <tr>\n",
       "      <th>24</th>\n",
       "      <td>2019-10-07 00:05:16.003328</td>\n",
       "      <td>contacts_show</td>\n",
       "      <td>8c356c42-3ba9-4cb6-80b8-3f868d0192c3</td>\n",
       "      <td>yandex</td>\n",
       "      <td>5</td>\n",
       "      <td>0</td>\n",
       "      <td>2019-10-07</td>\n",
       "      <td>41</td>\n",
       "      <td>0</td>\n",
       "      <td>1</td>\n",
       "      <td>0</td>\n",
       "      <td>1</td>\n",
       "      <td>1</td>\n",
       "      <td>2</td>\n",
       "      <td>tips_show</td>\n",
       "      <td>2019-10-07</td>\n",
       "      <td>41</td>\n",
       "      <td>0</td>\n",
       "    </tr>\n",
       "    <tr>\n",
       "      <th>28</th>\n",
       "      <td>2019-10-07 00:06:01.349291</td>\n",
       "      <td>tips_show</td>\n",
       "      <td>8c356c42-3ba9-4cb6-80b8-3f868d0192c3</td>\n",
       "      <td>yandex</td>\n",
       "      <td>6</td>\n",
       "      <td>0</td>\n",
       "      <td>2019-10-07</td>\n",
       "      <td>41</td>\n",
       "      <td>0</td>\n",
       "      <td>1</td>\n",
       "      <td>0</td>\n",
       "      <td>1</td>\n",
       "      <td>1</td>\n",
       "      <td>2</td>\n",
       "      <td>tips_show</td>\n",
       "      <td>2019-10-07</td>\n",
       "      <td>41</td>\n",
       "      <td>0</td>\n",
       "    </tr>\n",
       "    <tr>\n",
       "      <th>32</th>\n",
       "      <td>2019-10-07 00:06:56.367054</td>\n",
       "      <td>tips_show</td>\n",
       "      <td>8c356c42-3ba9-4cb6-80b8-3f868d0192c3</td>\n",
       "      <td>yandex</td>\n",
       "      <td>6</td>\n",
       "      <td>0</td>\n",
       "      <td>2019-10-07</td>\n",
       "      <td>41</td>\n",
       "      <td>0</td>\n",
       "      <td>1</td>\n",
       "      <td>0</td>\n",
       "      <td>1</td>\n",
       "      <td>1</td>\n",
       "      <td>2</td>\n",
       "      <td>tips_show</td>\n",
       "      <td>2019-10-07</td>\n",
       "      <td>41</td>\n",
       "      <td>0</td>\n",
       "    </tr>\n",
       "    <tr>\n",
       "      <th>35</th>\n",
       "      <td>2019-10-07 00:09:24.585200</td>\n",
       "      <td>tips_show</td>\n",
       "      <td>8c356c42-3ba9-4cb6-80b8-3f868d0192c3</td>\n",
       "      <td>yandex</td>\n",
       "      <td>9</td>\n",
       "      <td>0</td>\n",
       "      <td>2019-10-07</td>\n",
       "      <td>41</td>\n",
       "      <td>0</td>\n",
       "      <td>1</td>\n",
       "      <td>0</td>\n",
       "      <td>1</td>\n",
       "      <td>1</td>\n",
       "      <td>2</td>\n",
       "      <td>tips_show</td>\n",
       "      <td>2019-10-07</td>\n",
       "      <td>41</td>\n",
       "      <td>0</td>\n",
       "    </tr>\n",
       "  </tbody>\n",
       "</table>\n",
       "</div>"
      ],
      "text/plain": [
       "                   event_time     event_name  \\\n",
       "12 2019-10-07 00:02:07.374346      tips_show   \n",
       "24 2019-10-07 00:05:16.003328  contacts_show   \n",
       "28 2019-10-07 00:06:01.349291      tips_show   \n",
       "32 2019-10-07 00:06:56.367054      tips_show   \n",
       "35 2019-10-07 00:09:24.585200      tips_show   \n",
       "\n",
       "                                 user_id  source  minute  hour          dt  \\\n",
       "12  8c356c42-3ba9-4cb6-80b8-3f868d0192c3  yandex       2     0  2019-10-07   \n",
       "24  8c356c42-3ba9-4cb6-80b8-3f868d0192c3  yandex       5     0  2019-10-07   \n",
       "28  8c356c42-3ba9-4cb6-80b8-3f868d0192c3  yandex       6     0  2019-10-07   \n",
       "32  8c356c42-3ba9-4cb6-80b8-3f868d0192c3  yandex       6     0  2019-10-07   \n",
       "35  8c356c42-3ba9-4cb6-80b8-3f868d0192c3  yandex       9     0  2019-10-07   \n",
       "\n",
       "    week  photos_show  map  favorites_add  tips_show  tips_click  tips  \\\n",
       "12    41            0    1              0          1           1     2   \n",
       "24    41            0    1              0          1           1     2   \n",
       "28    41            0    1              0          1           1     2   \n",
       "32    41            0    1              0          1           1     2   \n",
       "35    41            0    1              0          1           1     2   \n",
       "\n",
       "   first_event    first_dt  first_week  lifetime  \n",
       "12   tips_show  2019-10-07          41         0  \n",
       "24   tips_show  2019-10-07          41         0  \n",
       "28   tips_show  2019-10-07          41         0  \n",
       "32   tips_show  2019-10-07          41         0  \n",
       "35   tips_show  2019-10-07          41         0  "
      ]
     },
     "execution_count": 25,
     "metadata": {},
     "output_type": "execute_result"
    }
   ],
   "source": [
    "contacts_show = df_all.query('event_name == \"contacts_show\"')\n",
    "contacts_show_user = df_all[df_all.user_id.isin(contacts_show.user_id.unique())]\n",
    "contacts_show_user.head()"
   ]
  },
  {
   "cell_type": "markdown",
   "metadata": {},
   "source": [
    "Отберем только целевые действия"
   ]
  },
  {
   "cell_type": "code",
   "execution_count": 26,
   "metadata": {
    "scrolled": false
   },
   "outputs": [
    {
     "data": {
      "text/html": [
       "<div>\n",
       "<style scoped>\n",
       "    .dataframe tbody tr th:only-of-type {\n",
       "        vertical-align: middle;\n",
       "    }\n",
       "\n",
       "    .dataframe tbody tr th {\n",
       "        vertical-align: top;\n",
       "    }\n",
       "\n",
       "    .dataframe thead th {\n",
       "        text-align: right;\n",
       "    }\n",
       "</style>\n",
       "<table border=\"1\" class=\"dataframe\">\n",
       "  <thead>\n",
       "    <tr style=\"text-align: right;\">\n",
       "      <th></th>\n",
       "      <th>event_time</th>\n",
       "      <th>event_name</th>\n",
       "      <th>user_id</th>\n",
       "      <th>source</th>\n",
       "      <th>minute</th>\n",
       "      <th>hour</th>\n",
       "      <th>dt</th>\n",
       "      <th>week</th>\n",
       "      <th>photos_show</th>\n",
       "      <th>map</th>\n",
       "      <th>favorites_add</th>\n",
       "      <th>tips_show</th>\n",
       "      <th>tips_click</th>\n",
       "      <th>tips</th>\n",
       "      <th>first_event</th>\n",
       "      <th>first_dt</th>\n",
       "      <th>first_week</th>\n",
       "      <th>lifetime</th>\n",
       "    </tr>\n",
       "  </thead>\n",
       "  <tbody>\n",
       "    <tr>\n",
       "      <th>24</th>\n",
       "      <td>2019-10-07 00:05:16.003328</td>\n",
       "      <td>contacts_show</td>\n",
       "      <td>8c356c42-3ba9-4cb6-80b8-3f868d0192c3</td>\n",
       "      <td>yandex</td>\n",
       "      <td>5</td>\n",
       "      <td>0</td>\n",
       "      <td>2019-10-07</td>\n",
       "      <td>41</td>\n",
       "      <td>0</td>\n",
       "      <td>1</td>\n",
       "      <td>0</td>\n",
       "      <td>1</td>\n",
       "      <td>1</td>\n",
       "      <td>2</td>\n",
       "      <td>tips_show</td>\n",
       "      <td>2019-10-07</td>\n",
       "      <td>41</td>\n",
       "      <td>0</td>\n",
       "    </tr>\n",
       "    <tr>\n",
       "      <th>70</th>\n",
       "      <td>2019-10-07 00:18:53.427525</td>\n",
       "      <td>contacts_show</td>\n",
       "      <td>8c356c42-3ba9-4cb6-80b8-3f868d0192c3</td>\n",
       "      <td>yandex</td>\n",
       "      <td>18</td>\n",
       "      <td>0</td>\n",
       "      <td>2019-10-07</td>\n",
       "      <td>41</td>\n",
       "      <td>0</td>\n",
       "      <td>1</td>\n",
       "      <td>0</td>\n",
       "      <td>1</td>\n",
       "      <td>1</td>\n",
       "      <td>2</td>\n",
       "      <td>tips_show</td>\n",
       "      <td>2019-10-07</td>\n",
       "      <td>41</td>\n",
       "      <td>0</td>\n",
       "    </tr>\n",
       "    <tr>\n",
       "      <th>195</th>\n",
       "      <td>2019-10-07 08:11:07.995945</td>\n",
       "      <td>contacts_show</td>\n",
       "      <td>48e614d6-fe03-40f7-bf9e-4c4f61c19f64</td>\n",
       "      <td>yandex</td>\n",
       "      <td>11</td>\n",
       "      <td>8</td>\n",
       "      <td>2019-10-07</td>\n",
       "      <td>41</td>\n",
       "      <td>1</td>\n",
       "      <td>0</td>\n",
       "      <td>0</td>\n",
       "      <td>0</td>\n",
       "      <td>0</td>\n",
       "      <td>0</td>\n",
       "      <td>photos_show</td>\n",
       "      <td>2019-10-07</td>\n",
       "      <td>41</td>\n",
       "      <td>0</td>\n",
       "    </tr>\n",
       "    <tr>\n",
       "      <th>244</th>\n",
       "      <td>2019-10-07 09:33:19.822541</td>\n",
       "      <td>contacts_show</td>\n",
       "      <td>9dfa242e-8630-480a-806b-5736bcda8f3d</td>\n",
       "      <td>google</td>\n",
       "      <td>33</td>\n",
       "      <td>9</td>\n",
       "      <td>2019-10-07</td>\n",
       "      <td>41</td>\n",
       "      <td>0</td>\n",
       "      <td>0</td>\n",
       "      <td>0</td>\n",
       "      <td>1</td>\n",
       "      <td>0</td>\n",
       "      <td>1</td>\n",
       "      <td>contacts_show</td>\n",
       "      <td>2019-10-07</td>\n",
       "      <td>41</td>\n",
       "      <td>0</td>\n",
       "    </tr>\n",
       "    <tr>\n",
       "      <th>327</th>\n",
       "      <td>2019-10-07 10:19:49.080484</td>\n",
       "      <td>contacts_show</td>\n",
       "      <td>1a3361d1-2002-4389-a669-ecb06ea7a90a</td>\n",
       "      <td>yandex</td>\n",
       "      <td>19</td>\n",
       "      <td>10</td>\n",
       "      <td>2019-10-07</td>\n",
       "      <td>41</td>\n",
       "      <td>0</td>\n",
       "      <td>0</td>\n",
       "      <td>0</td>\n",
       "      <td>1</td>\n",
       "      <td>0</td>\n",
       "      <td>1</td>\n",
       "      <td>tips_show</td>\n",
       "      <td>2019-10-07</td>\n",
       "      <td>41</td>\n",
       "      <td>0</td>\n",
       "    </tr>\n",
       "  </tbody>\n",
       "</table>\n",
       "</div>"
      ],
      "text/plain": [
       "                    event_time     event_name  \\\n",
       "24  2019-10-07 00:05:16.003328  contacts_show   \n",
       "70  2019-10-07 00:18:53.427525  contacts_show   \n",
       "195 2019-10-07 08:11:07.995945  contacts_show   \n",
       "244 2019-10-07 09:33:19.822541  contacts_show   \n",
       "327 2019-10-07 10:19:49.080484  contacts_show   \n",
       "\n",
       "                                  user_id  source  minute  hour          dt  \\\n",
       "24   8c356c42-3ba9-4cb6-80b8-3f868d0192c3  yandex       5     0  2019-10-07   \n",
       "70   8c356c42-3ba9-4cb6-80b8-3f868d0192c3  yandex      18     0  2019-10-07   \n",
       "195  48e614d6-fe03-40f7-bf9e-4c4f61c19f64  yandex      11     8  2019-10-07   \n",
       "244  9dfa242e-8630-480a-806b-5736bcda8f3d  google      33     9  2019-10-07   \n",
       "327  1a3361d1-2002-4389-a669-ecb06ea7a90a  yandex      19    10  2019-10-07   \n",
       "\n",
       "     week  photos_show  map  favorites_add  tips_show  tips_click  tips  \\\n",
       "24     41            0    1              0          1           1     2   \n",
       "70     41            0    1              0          1           1     2   \n",
       "195    41            1    0              0          0           0     0   \n",
       "244    41            0    0              0          1           0     1   \n",
       "327    41            0    0              0          1           0     1   \n",
       "\n",
       "       first_event    first_dt  first_week  lifetime  \n",
       "24       tips_show  2019-10-07          41         0  \n",
       "70       tips_show  2019-10-07          41         0  \n",
       "195    photos_show  2019-10-07          41         0  \n",
       "244  contacts_show  2019-10-07          41         0  \n",
       "327      tips_show  2019-10-07          41         0  "
      ]
     },
     "execution_count": 26,
     "metadata": {},
     "output_type": "execute_result"
    }
   ],
   "source": [
    "contacts_show = contacts_show_user.query('event_name == \"contacts_show\"').copy(deep=True)\n",
    "contacts_show.head()"
   ]
  },
  {
   "cell_type": "markdown",
   "metadata": {},
   "source": [
    "Напишем функцию определения предыдушего параметра предыдущего действия до целевого. Отбираем по user_id и времени события"
   ]
  },
  {
   "cell_type": "code",
   "execution_count": 27,
   "metadata": {},
   "outputs": [],
   "source": [
    "def ger_previous_parametr(user, time, row):\n",
    "    df = contacts_show_user.query(f'user_id == \"{user}\" and event_time < \"{time}\"').sort_values(by='event_time', ascending=False)\n",
    "    if df.size == 0:\n",
    "        return 0\n",
    "    return df[row].iloc[0]"
   ]
  },
  {
   "cell_type": "markdown",
   "metadata": {},
   "source": [
    "применяем нашу функцию для получения предыдщуго события и времени"
   ]
  },
  {
   "cell_type": "code",
   "execution_count": 28,
   "metadata": {
    "scrolled": true
   },
   "outputs": [],
   "source": [
    "contacts_show['source_event_name'] = contacts_show.apply(lambda x: ger_previous_parametr(x['user_id'], \n",
    "                                                                                            x['event_time'],\n",
    "                                                                                            'event_name'), \n",
    "                                                               axis=1)\n",
    "contacts_show['source_event_name_time'] = contacts_show.apply(lambda x: ger_previous_parametr(x['user_id'],\n",
    "                                                                                                        x['event_time'],\n",
    "                                                                                                        'event_time'), \n",
    "                                                               axis=1)"
   ]
  },
  {
   "cell_type": "markdown",
   "metadata": {},
   "source": [
    "Находим разницу между целевым событием и предыдущим"
   ]
  },
  {
   "cell_type": "code",
   "execution_count": 29,
   "metadata": {
    "scrolled": true
   },
   "outputs": [],
   "source": [
    "contacts_show = contacts_show[contacts_show['source_event_name_time'] != 0]\n",
    "contacts_show['time_dif'] = contacts_show['event_time']-contacts_show['source_event_name_time']\n",
    "contacts_show['time_dif'] = contacts_show['time_dif'] / np.timedelta64(1, 's')"
   ]
  },
  {
   "cell_type": "markdown",
   "metadata": {},
   "source": [
    "Сгруппируем данные по событиям посмотрим медианную разницу во времени, кол-во типов событий"
   ]
  },
  {
   "cell_type": "code",
   "execution_count": 30,
   "metadata": {
    "scrolled": false
   },
   "outputs": [
    {
     "data": {
      "text/html": [
       "<div>\n",
       "<style scoped>\n",
       "    .dataframe tbody tr th:only-of-type {\n",
       "        vertical-align: middle;\n",
       "    }\n",
       "\n",
       "    .dataframe tbody tr th {\n",
       "        vertical-align: top;\n",
       "    }\n",
       "\n",
       "    .dataframe thead th {\n",
       "        text-align: right;\n",
       "    }\n",
       "</style>\n",
       "<table border=\"1\" class=\"dataframe\">\n",
       "  <thead>\n",
       "    <tr style=\"text-align: right;\">\n",
       "      <th></th>\n",
       "      <th>source_event_name</th>\n",
       "      <th>time_dif</th>\n",
       "    </tr>\n",
       "    <tr>\n",
       "      <th>source_event_name</th>\n",
       "      <th></th>\n",
       "      <th></th>\n",
       "    </tr>\n",
       "  </thead>\n",
       "  <tbody>\n",
       "    <tr>\n",
       "      <th>contacts_show</th>\n",
       "      <td>1524</td>\n",
       "      <td>37.024885</td>\n",
       "    </tr>\n",
       "    <tr>\n",
       "      <th>advert_open</th>\n",
       "      <td>73</td>\n",
       "      <td>42.482531</td>\n",
       "    </tr>\n",
       "    <tr>\n",
       "      <th>map</th>\n",
       "      <td>60</td>\n",
       "      <td>57.853637</td>\n",
       "    </tr>\n",
       "    <tr>\n",
       "      <th>favorites_add</th>\n",
       "      <td>44</td>\n",
       "      <td>60.258795</td>\n",
       "    </tr>\n",
       "    <tr>\n",
       "      <th>tips_show</th>\n",
       "      <td>1787</td>\n",
       "      <td>63.073993</td>\n",
       "    </tr>\n",
       "    <tr>\n",
       "      <th>photos_show</th>\n",
       "      <td>411</td>\n",
       "      <td>114.681611</td>\n",
       "    </tr>\n",
       "    <tr>\n",
       "      <th>search</th>\n",
       "      <td>237</td>\n",
       "      <td>145.884688</td>\n",
       "    </tr>\n",
       "    <tr>\n",
       "      <th>contacts_call</th>\n",
       "      <td>201</td>\n",
       "      <td>233.304669</td>\n",
       "    </tr>\n",
       "    <tr>\n",
       "      <th>tips_click</th>\n",
       "      <td>13</td>\n",
       "      <td>708.153106</td>\n",
       "    </tr>\n",
       "  </tbody>\n",
       "</table>\n",
       "</div>"
      ],
      "text/plain": [
       "                   source_event_name    time_dif\n",
       "source_event_name                               \n",
       "contacts_show                   1524   37.024885\n",
       "advert_open                       73   42.482531\n",
       "map                               60   57.853637\n",
       "favorites_add                     44   60.258795\n",
       "tips_show                       1787   63.073993\n",
       "photos_show                      411  114.681611\n",
       "search                           237  145.884688\n",
       "contacts_call                    201  233.304669\n",
       "tips_click                        13  708.153106"
      ]
     },
     "execution_count": 30,
     "metadata": {},
     "output_type": "execute_result"
    }
   ],
   "source": [
    "contacts_show.groupby('source_event_name').agg({'source_event_name':'count','time_dif':'median'}).sort_values('time_dif')"
   ]
  },
  {
   "cell_type": "markdown",
   "metadata": {},
   "source": [
    "Самым популярным действием до целевого у нас явлется просмотр фото и поиск. Время между этими действиями и целевым составляет 114 и 145 секунд соответсвенно.  \n",
    "Самым быстрым событием является открытие объявления. Можно предположить, что когда пользователь открывает объявления он уже уверен и хочет найти контакт продавца. Возможно надо будет посмотреть конверсию этого события."
   ]
  },
  {
   "cell_type": "markdown",
   "metadata": {},
   "source": [
    "## Проверка статистически гипотез"
   ]
  },
  {
   "cell_type": "markdown",
   "metadata": {},
   "source": [
    "### Постановка нулевой гипотезы по использованию рекомендаций"
   ]
  },
  {
   "cell_type": "markdown",
   "metadata": {},
   "source": [
    "Наша нулевая гипотеза звучит так:\n",
    "- конверсия в просмотры контактов между пользователями, которые совершили событие tips_show и tips_click и другими, которые совершили только tips_show, равна.\n",
    "\n",
    "Альтернативная гипотеза звучит так:\n",
    "- конверсия в просмотры контактов между пользователями, которые совершили событие tips_show и tips_click и другими, которые совершили только tips_show, не равна."
   ]
  },
  {
   "cell_type": "markdown",
   "metadata": {},
   "source": [
    "Напишем функцию для рассчет конверсии и проведения zтеста для проверки статистической значимости. "
   ]
  },
  {
   "cell_type": "code",
   "execution_count": 31,
   "metadata": {},
   "outputs": [],
   "source": [
    "def z_test(separator,group_1,group_2, alpha):\n",
    "    #разбиваем наш датафрейм\n",
    "    df_1 = df_all[df_all[separator] == group_1]\n",
    "    df_2 = df_all[df_all[separator] == group_2]\n",
    "    #для расчета конверсии возьмем всех уникальных пользователей в каждой группе\n",
    "    trials = np.array([df_1['user_id'].nunique(),\n",
    "                       df_2['user_id'].nunique()]\n",
    "                     )\n",
    "\n",
    "    #и возьмем уникальных пользователей, которые совершили целевое действие\n",
    "    successes = np.array([df_1[df_1['event_name']=='contacts_show']['user_id'].nunique(),\n",
    "                          df_2[df_2['event_name']=='contacts_show']['user_id'].nunique()]\n",
    "                        )    \n",
    "    p1 = successes[0]/trials[0]\n",
    "    print('Конверсия выборки {} из группы {}: {:.2f}'.format(group_1,separator,p1))\n",
    "    p2 = successes[1]/trials[1]\n",
    "    print('Конверсия выборки {} из группы {}: {:.2f}'.format(group_2,separator,p2))\n",
    "    difference = p1 - p2\n",
    "    p_combined = (successes[0] + successes[1]) / (trials[0] + trials[1]) \n",
    "    z_value = difference / mth.sqrt(p_combined * (1 - p_combined) * (1/trials[0] + 1/trials[1]))\n",
    "    distr = st.norm(0, 1)\n",
    "    p_value = (1 - distr.cdf(abs(z_value))) * 2\n",
    "    print('Проверка для {} и {}, p-значение: {p_value:.2f}'.format(group_1, group_2, p_value=p_value))\n",
    "    if (p_value < alpha):\n",
    "        print('Отвергаем нулевую гипотезу: между долями есть значимая разница')\n",
    "    else:\n",
    "        print('Не получилось отвергнуть нулевую гипотезу, нет оснований считать доли разными')"
   ]
  },
  {
   "cell_type": "code",
   "execution_count": 32,
   "metadata": {},
   "outputs": [
    {
     "name": "stdout",
     "output_type": "stream",
     "text": [
      "Конверсия выборки 1 из группы tips: 0.17\n",
      "Конверсия выборки 2 из группы tips: 0.31\n",
      "Проверка для 1 и 2, p-значение: 0.00\n",
      "Отвергаем нулевую гипотезу: между долями есть значимая разница\n"
     ]
    }
   ],
   "source": [
    "z_test('tips',1,2,0.05)"
   ]
  },
  {
   "cell_type": "markdown",
   "metadata": {},
   "source": [
    "Конверсия с `tips_click` выше чем, без него. Статистический отвергаем нулевую гипотезу о равенстве конверсии. Разница в пропорциях говорит, что при данных выборках, есть статистически значимое различие."
   ]
  },
  {
   "cell_type": "markdown",
   "metadata": {},
   "source": [
    "### Постановка нулевой гипотезы по источнику"
   ]
  },
  {
   "cell_type": "markdown",
   "metadata": {},
   "source": [
    "Наша нулевая гипотеза звучит так:\n",
    "- конверсия в просмотры контактов между пользователями из разных источников, равна.\n",
    "\n",
    "Альтернативная гипотеза звучит так:\n",
    "- конверсия в просмотры контактов между пользователями из разных источников, не равна."
   ]
  },
  {
   "cell_type": "code",
   "execution_count": 33,
   "metadata": {},
   "outputs": [
    {
     "name": "stdout",
     "output_type": "stream",
     "text": [
      "Конверсия выборки other из группы source: 0.19\n",
      "Конверсия выборки yandex из группы source: 0.25\n",
      "Проверка для other и yandex, p-значение: 0.00\n",
      "Отвергаем нулевую гипотезу: между долями есть значимая разница\n"
     ]
    }
   ],
   "source": [
    "z_test('source','other','yandex',0.05)"
   ]
  },
  {
   "cell_type": "code",
   "execution_count": 34,
   "metadata": {},
   "outputs": [
    {
     "name": "stdout",
     "output_type": "stream",
     "text": [
      "Конверсия выборки other из группы source: 0.19\n",
      "Конверсия выборки google из группы source: 0.24\n",
      "Проверка для other и google, p-значение: 0.00\n",
      "Отвергаем нулевую гипотезу: между долями есть значимая разница\n"
     ]
    }
   ],
   "source": [
    "z_test('source','other','google',0.05)"
   ]
  },
  {
   "cell_type": "code",
   "execution_count": 35,
   "metadata": {},
   "outputs": [
    {
     "name": "stdout",
     "output_type": "stream",
     "text": [
      "Конверсия выборки yandex из группы source: 0.25\n",
      "Конверсия выборки google из группы source: 0.24\n",
      "Проверка для yandex и google, p-значение: 0.82\n",
      "Не получилось отвергнуть нулевую гипотезу, нет оснований считать доли разными\n"
     ]
    }
   ],
   "source": [
    "z_test('source','yandex','google',0.05)"
   ]
  },
  {
   "cell_type": "markdown",
   "metadata": {},
   "source": [
    "Наибольшая конверсия у пользователей, которые пришли из Yandex. После них идут пользователи из Google и Other, соответственно. Но между собой Google и Yandex не имеют статистически значимой разницы."
   ]
  },
  {
   "cell_type": "markdown",
   "metadata": {},
   "source": [
    "### Постановка нулевой гипотезы по использованию дополнительных действий"
   ]
  },
  {
   "cell_type": "markdown",
   "metadata": {},
   "source": [
    "Наша нулевая гипотеза звучит так:\n",
    "- конверсия в просмотры контактов между пользователями совершающие разные дополнительные действия, равна.\n",
    "\n",
    "Альтернативная гипотеза звучит так:\n",
    "- конверсия в просмотры контактов между пользователями совершающие разные дополнительные действия, не равна."
   ]
  },
  {
   "cell_type": "code",
   "execution_count": 36,
   "metadata": {
    "scrolled": true
   },
   "outputs": [
    {
     "name": "stdout",
     "output_type": "stream",
     "text": [
      "Конверсия выборки 0 из группы photos_show: 0.20\n",
      "Конверсия выборки 1 из группы photos_show: 0.31\n",
      "Проверка для 0 и 1, p-значение: 0.00\n",
      "Отвергаем нулевую гипотезу: между долями есть значимая разница\n",
      "\n",
      "Конверсия выборки 0 из группы map: 0.24\n",
      "Конверсия выборки 1 из группы map: 0.20\n",
      "Проверка для 0 и 1, p-значение: 0.00\n",
      "Отвергаем нулевую гипотезу: между долями есть значимая разница\n",
      "\n",
      "Конверсия выборки 0 из группы favorites_add: 0.21\n",
      "Конверсия выборки 1 из группы favorites_add: 0.39\n",
      "Проверка для 0 и 1, p-значение: 0.00\n",
      "Отвергаем нулевую гипотезу: между долями есть значимая разница\n",
      "\n"
     ]
    }
   ],
   "source": [
    "for i in ['photos_show','map','favorites_add']:\n",
    "    z_test(i,0,1,0.05)\n",
    "    print()"
   ]
  },
  {
   "cell_type": "markdown",
   "metadata": {},
   "source": [
    "- Открытие фотографий объявления увеличивает конверсию на 11%\n",
    "- Открытие карт уменьшает конверсию на 4%\n",
    "- Добавление увеливичает конверсию на 18%"
   ]
  },
  {
   "cell_type": "markdown",
   "metadata": {},
   "source": [
    "## Вывод"
   ]
  },
  {
   "cell_type": "markdown",
   "metadata": {},
   "source": [
    "Обе наши нулевые гипотезы мы отвергли и получили:\n",
    "- **Конверсия у пользователей, которые переходят по рекомендованным объявлениям выше на 14%**\n",
    "- **Среди источников наибольшая конверсия у пользователей, которые скачали приложение через Yandex и Google 25% и 24%, соответсвенно**\n",
    "\n",
    "Рекомендации для отдела маркетинга:\n",
    "- Предлагаю увелечить бюджеты у кампаний на скачивание из Yandex и Google. Там у нас наибольшая конверсия внутри приложения. Чтобы точно определить лучшую рекламную сетку, надо посмотреть на цену установки приложения\n",
    "\n",
    "Рекомендации для продуктовой команды:\n",
    "- Рекомендованные объявления повышают конверсию у пользователей, только если они переходят по ним.\n",
    "- Надо подобрать другу модель рекомендаций, которая будет подходить большему числу пользователей и соответвенно генерировать больше переходов по ним.\n",
    "- Сделать объявления с фотографиями выше в поисковой ленте\n",
    "- Возможно как-то пропушить функцию избранного, многи пользователи могут про нее просто не знать\n",
    "- Карты убирать не надо,не смотря на понимажение конверсии. Это убьет пользовательский опыт"
   ]
  }
 ],
 "metadata": {
  "ExecuteTimeLog": [
   {
    "duration": 427,
    "start_time": "2022-04-22T16:15:32.750Z"
   },
   {
    "duration": 104,
    "start_time": "2022-04-22T16:17:02.377Z"
   },
   {
    "duration": 98,
    "start_time": "2022-04-22T16:17:11.630Z"
   },
   {
    "duration": 27,
    "start_time": "2022-04-22T16:17:48.685Z"
   },
   {
    "duration": 21,
    "start_time": "2022-04-22T16:18:04.333Z"
   },
   {
    "duration": 13,
    "start_time": "2022-04-22T16:18:10.533Z"
   },
   {
    "duration": 16,
    "start_time": "2022-04-22T16:27:29.770Z"
   },
   {
    "duration": 10,
    "start_time": "2022-04-22T16:27:36.227Z"
   },
   {
    "duration": 6,
    "start_time": "2022-04-22T16:27:44.410Z"
   },
   {
    "duration": 16,
    "start_time": "2022-04-22T16:27:45.018Z"
   },
   {
    "duration": 15,
    "start_time": "2022-04-22T16:27:50.315Z"
   },
   {
    "duration": 2,
    "start_time": "2022-04-22T16:29:23.547Z"
   },
   {
    "duration": 3,
    "start_time": "2022-04-22T16:30:06.030Z"
   },
   {
    "duration": 1499,
    "start_time": "2022-04-22T16:31:15.487Z"
   },
   {
    "duration": 25,
    "start_time": "2022-04-22T16:31:27.255Z"
   },
   {
    "duration": 27,
    "start_time": "2022-04-22T16:31:33.760Z"
   },
   {
    "duration": 106,
    "start_time": "2022-04-22T16:31:44.122Z"
   },
   {
    "duration": 28,
    "start_time": "2022-04-22T16:31:44.334Z"
   },
   {
    "duration": 28,
    "start_time": "2022-04-22T16:31:44.545Z"
   },
   {
    "duration": 13,
    "start_time": "2022-04-22T16:31:44.730Z"
   },
   {
    "duration": 5,
    "start_time": "2022-04-22T16:31:45.730Z"
   },
   {
    "duration": 24,
    "start_time": "2022-04-22T16:31:46.486Z"
   },
   {
    "duration": 36,
    "start_time": "2022-04-22T16:33:31.798Z"
   },
   {
    "duration": 32,
    "start_time": "2022-04-22T16:34:26.062Z"
   },
   {
    "duration": 33,
    "start_time": "2022-04-22T16:34:30.254Z"
   },
   {
    "duration": 24,
    "start_time": "2022-04-22T16:34:55.118Z"
   },
   {
    "duration": 36,
    "start_time": "2022-04-22T16:35:00.197Z"
   },
   {
    "duration": 38,
    "start_time": "2022-04-22T16:35:07.710Z"
   },
   {
    "duration": 43,
    "start_time": "2022-04-22T16:35:11.415Z"
   },
   {
    "duration": 37,
    "start_time": "2022-04-22T16:35:15.113Z"
   },
   {
    "duration": 3,
    "start_time": "2022-04-22T16:36:28.940Z"
   },
   {
    "duration": 22,
    "start_time": "2022-04-22T16:38:21.829Z"
   },
   {
    "duration": 34,
    "start_time": "2022-04-22T16:39:11.388Z"
   },
   {
    "duration": 15,
    "start_time": "2022-04-22T16:39:16.050Z"
   },
   {
    "duration": 15,
    "start_time": "2022-04-22T16:39:19.475Z"
   },
   {
    "duration": 167,
    "start_time": "2022-04-22T16:39:34.131Z"
   },
   {
    "duration": 25,
    "start_time": "2022-04-22T16:39:39.520Z"
   },
   {
    "duration": 29,
    "start_time": "2022-04-22T16:39:51.276Z"
   },
   {
    "duration": 40,
    "start_time": "2022-04-22T16:39:55.898Z"
   },
   {
    "duration": 17,
    "start_time": "2022-04-22T16:40:03.675Z"
   },
   {
    "duration": 22,
    "start_time": "2022-04-22T16:40:58.994Z"
   },
   {
    "duration": 16,
    "start_time": "2022-04-22T16:41:08.451Z"
   },
   {
    "duration": 17,
    "start_time": "2022-04-22T16:41:14.179Z"
   },
   {
    "duration": 185,
    "start_time": "2022-04-22T16:42:26.970Z"
   },
   {
    "duration": 95,
    "start_time": "2022-04-22T16:42:32.073Z"
   },
   {
    "duration": 12,
    "start_time": "2022-04-22T16:42:38.281Z"
   },
   {
    "duration": 18,
    "start_time": "2022-04-22T16:44:50.129Z"
   },
   {
    "duration": 34,
    "start_time": "2022-04-22T16:44:53.703Z"
   },
   {
    "duration": 12,
    "start_time": "2022-04-22T16:44:58.329Z"
   },
   {
    "duration": 25,
    "start_time": "2022-04-22T16:45:33.071Z"
   },
   {
    "duration": 25,
    "start_time": "2022-04-22T16:45:44.638Z"
   },
   {
    "duration": 49,
    "start_time": "2022-04-22T16:45:56.358Z"
   },
   {
    "duration": 21,
    "start_time": "2022-04-22T16:46:43.797Z"
   },
   {
    "duration": 6,
    "start_time": "2022-04-22T16:51:52.188Z"
   },
   {
    "duration": 7372,
    "start_time": "2022-04-22T16:51:55.427Z"
   },
   {
    "duration": 7,
    "start_time": "2022-04-22T16:52:37.875Z"
   },
   {
    "duration": 19,
    "start_time": "2022-04-22T16:52:43.080Z"
   },
   {
    "duration": 10,
    "start_time": "2022-04-22T16:52:47.547Z"
   },
   {
    "duration": 3100,
    "start_time": "2022-04-22T16:52:50.684Z"
   },
   {
    "duration": 6,
    "start_time": "2022-04-22T16:53:01.416Z"
   },
   {
    "duration": 5,
    "start_time": "2022-04-22T16:53:09.133Z"
   },
   {
    "duration": 364,
    "start_time": "2022-04-22T16:55:34.790Z"
   },
   {
    "duration": 11,
    "start_time": "2022-04-22T16:55:38.483Z"
   },
   {
    "duration": 6,
    "start_time": "2022-04-22T16:55:56.659Z"
   },
   {
    "duration": 2936,
    "start_time": "2022-04-22T16:57:38.171Z"
   },
   {
    "duration": 2869,
    "start_time": "2022-04-22T16:57:49.813Z"
   },
   {
    "duration": 12,
    "start_time": "2022-04-22T16:57:52.915Z"
   },
   {
    "duration": 11,
    "start_time": "2022-04-22T16:57:55.027Z"
   },
   {
    "duration": 401,
    "start_time": "2022-04-22T16:58:58.434Z"
   },
   {
    "duration": 16,
    "start_time": "2022-04-22T16:59:03.610Z"
   },
   {
    "duration": 164,
    "start_time": "2022-04-22T16:59:09.201Z"
   },
   {
    "duration": 21,
    "start_time": "2022-04-22T16:59:13.612Z"
   },
   {
    "duration": 4965,
    "start_time": "2022-04-22T16:59:30.299Z"
   },
   {
    "duration": 16,
    "start_time": "2022-04-22T16:59:39.106Z"
   },
   {
    "duration": 25,
    "start_time": "2022-04-22T17:00:13.746Z"
   },
   {
    "duration": 21,
    "start_time": "2022-04-22T17:00:33.698Z"
   },
   {
    "duration": 12,
    "start_time": "2022-04-22T17:00:56.609Z"
   },
   {
    "duration": 11,
    "start_time": "2022-04-22T17:01:55.537Z"
   },
   {
    "duration": 12,
    "start_time": "2022-04-22T17:02:28.337Z"
   },
   {
    "duration": 96,
    "start_time": "2022-04-22T17:04:08.433Z"
   },
   {
    "duration": 23,
    "start_time": "2022-04-22T17:04:08.641Z"
   },
   {
    "duration": 19,
    "start_time": "2022-04-22T17:04:08.809Z"
   },
   {
    "duration": 13,
    "start_time": "2022-04-22T17:04:08.985Z"
   },
   {
    "duration": 4,
    "start_time": "2022-04-22T17:04:10.417Z"
   },
   {
    "duration": 17,
    "start_time": "2022-04-22T17:04:10.921Z"
   },
   {
    "duration": 12,
    "start_time": "2022-04-22T17:04:48.017Z"
   },
   {
    "duration": 7,
    "start_time": "2022-04-22T17:04:52.592Z"
   },
   {
    "duration": 25,
    "start_time": "2022-04-22T17:04:54.200Z"
   },
   {
    "duration": 18,
    "start_time": "2022-04-22T17:04:54.840Z"
   },
   {
    "duration": 52,
    "start_time": "2022-04-22T17:05:05.289Z"
   },
   {
    "duration": 11,
    "start_time": "2022-04-22T17:05:05.665Z"
   },
   {
    "duration": 26,
    "start_time": "2022-04-22T17:05:06.760Z"
   },
   {
    "duration": 311,
    "start_time": "2022-04-22T17:05:10.216Z"
   },
   {
    "duration": 398,
    "start_time": "2022-04-22T17:05:10.529Z"
   },
   {
    "duration": 5277,
    "start_time": "2022-04-22T17:05:10.929Z"
   },
   {
    "duration": 13,
    "start_time": "2022-04-22T17:05:16.208Z"
   },
   {
    "duration": 13,
    "start_time": "2022-04-22T17:05:16.222Z"
   },
   {
    "duration": 21,
    "start_time": "2022-04-22T17:05:25.065Z"
   },
   {
    "duration": 4,
    "start_time": "2022-04-22T17:07:45.615Z"
   },
   {
    "duration": 4,
    "start_time": "2022-04-22T17:07:54.031Z"
   },
   {
    "duration": 6,
    "start_time": "2022-04-22T17:07:58.544Z"
   },
   {
    "duration": 7,
    "start_time": "2022-04-22T17:08:01.087Z"
   },
   {
    "duration": 3,
    "start_time": "2022-04-22T17:08:04.247Z"
   },
   {
    "duration": 3,
    "start_time": "2022-04-22T17:08:08.191Z"
   },
   {
    "duration": 5,
    "start_time": "2022-04-22T17:08:29.919Z"
   },
   {
    "duration": 11,
    "start_time": "2022-04-22T17:09:50.991Z"
   },
   {
    "duration": 14,
    "start_time": "2022-04-22T17:09:51.766Z"
   },
   {
    "duration": 4,
    "start_time": "2022-04-22T17:17:17.492Z"
   },
   {
    "duration": 16,
    "start_time": "2022-04-22T17:17:32.587Z"
   },
   {
    "duration": 4,
    "start_time": "2022-04-22T17:17:46.467Z"
   },
   {
    "duration": 2562,
    "start_time": "2022-04-22T17:17:47.883Z"
   },
   {
    "duration": 13,
    "start_time": "2022-04-22T17:18:47.163Z"
   },
   {
    "duration": 12,
    "start_time": "2022-04-22T17:18:47.771Z"
   },
   {
    "duration": 6,
    "start_time": "2022-04-22T17:18:48.387Z"
   },
   {
    "duration": 158,
    "start_time": "2022-04-22T17:19:28.386Z"
   },
   {
    "duration": 8,
    "start_time": "2022-04-22T17:19:31.618Z"
   },
   {
    "duration": 7,
    "start_time": "2022-04-22T17:19:45.603Z"
   },
   {
    "duration": 9,
    "start_time": "2022-04-22T17:19:55.299Z"
   },
   {
    "duration": 6,
    "start_time": "2022-04-22T17:19:57.266Z"
   },
   {
    "duration": 5,
    "start_time": "2022-04-22T17:20:05.171Z"
   },
   {
    "duration": 4,
    "start_time": "2022-04-22T17:20:15.354Z"
   },
   {
    "duration": 6132,
    "start_time": "2022-04-22T17:20:16.010Z"
   },
   {
    "duration": 11,
    "start_time": "2022-04-22T17:21:09.416Z"
   },
   {
    "duration": 11,
    "start_time": "2022-04-22T17:21:11.890Z"
   },
   {
    "duration": 12,
    "start_time": "2022-04-22T17:21:14.738Z"
   },
   {
    "duration": 6,
    "start_time": "2022-04-22T17:21:43.770Z"
   },
   {
    "duration": 13,
    "start_time": "2022-04-22T17:21:49.833Z"
   },
   {
    "duration": 11,
    "start_time": "2022-04-22T17:21:50.178Z"
   },
   {
    "duration": 6,
    "start_time": "2022-04-22T17:21:50.474Z"
   },
   {
    "duration": 6,
    "start_time": "2022-04-22T17:21:51.026Z"
   },
   {
    "duration": 4526,
    "start_time": "2022-04-22T17:21:55.386Z"
   },
   {
    "duration": 8,
    "start_time": "2022-04-22T17:22:13.370Z"
   },
   {
    "duration": 7,
    "start_time": "2022-04-22T17:22:25.986Z"
   },
   {
    "duration": 7,
    "start_time": "2022-04-22T17:22:28.985Z"
   },
   {
    "duration": 5,
    "start_time": "2022-04-22T17:24:05.281Z"
   },
   {
    "duration": 4,
    "start_time": "2022-04-22T17:24:16.433Z"
   },
   {
    "duration": 2805,
    "start_time": "2022-04-22T17:24:16.736Z"
   },
   {
    "duration": 9,
    "start_time": "2022-04-22T17:24:42.161Z"
   },
   {
    "duration": 11,
    "start_time": "2022-04-22T17:24:42.440Z"
   },
   {
    "duration": 6,
    "start_time": "2022-04-22T17:24:42.688Z"
   },
   {
    "duration": 6,
    "start_time": "2022-04-22T17:24:43.297Z"
   },
   {
    "duration": 5,
    "start_time": "2022-04-22T17:24:47.177Z"
   },
   {
    "duration": 172,
    "start_time": "2022-04-22T17:25:18.288Z"
   },
   {
    "duration": 182,
    "start_time": "2022-04-22T17:25:27.880Z"
   },
   {
    "duration": 4,
    "start_time": "2022-04-22T17:25:31.072Z"
   },
   {
    "duration": 2521,
    "start_time": "2022-04-22T17:25:32.505Z"
   },
   {
    "duration": 4,
    "start_time": "2022-04-22T17:26:01.777Z"
   },
   {
    "duration": 16,
    "start_time": "2022-04-22T17:26:02.264Z"
   },
   {
    "duration": 23,
    "start_time": "2022-04-22T17:26:15.920Z"
   },
   {
    "duration": 25,
    "start_time": "2022-04-22T17:26:23.168Z"
   },
   {
    "duration": 3,
    "start_time": "2022-04-22T17:26:24.728Z"
   },
   {
    "duration": 21,
    "start_time": "2022-04-22T17:26:25.007Z"
   },
   {
    "duration": 3,
    "start_time": "2022-04-22T17:26:51.664Z"
   },
   {
    "duration": 2550,
    "start_time": "2022-04-22T17:26:51.960Z"
   },
   {
    "duration": 3,
    "start_time": "2022-04-22T17:28:59.944Z"
   },
   {
    "duration": 2596,
    "start_time": "2022-04-22T17:29:00.327Z"
   },
   {
    "duration": 4,
    "start_time": "2022-04-22T17:29:13.875Z"
   },
   {
    "duration": 2557,
    "start_time": "2022-04-22T17:29:14.071Z"
   },
   {
    "duration": 4,
    "start_time": "2022-04-22T17:29:28.460Z"
   },
   {
    "duration": 2871,
    "start_time": "2022-04-22T17:29:28.466Z"
   },
   {
    "duration": 3,
    "start_time": "2022-04-22T17:30:04.695Z"
   },
   {
    "duration": 19,
    "start_time": "2022-04-22T17:30:05.655Z"
   },
   {
    "duration": 10,
    "start_time": "2022-04-22T17:31:24.119Z"
   },
   {
    "duration": 9,
    "start_time": "2022-04-22T17:31:25.502Z"
   },
   {
    "duration": 4299,
    "start_time": "2022-04-22T17:31:33.901Z"
   },
   {
    "duration": 2884,
    "start_time": "2022-04-22T17:31:55.463Z"
   },
   {
    "duration": 2841,
    "start_time": "2022-04-22T17:32:05.694Z"
   },
   {
    "duration": 2868,
    "start_time": "2022-04-22T17:32:15.039Z"
   },
   {
    "duration": 2521,
    "start_time": "2022-04-22T17:32:33.093Z"
   },
   {
    "duration": 3,
    "start_time": "2022-04-22T17:32:40.325Z"
   },
   {
    "duration": 4,
    "start_time": "2022-04-22T17:32:45.029Z"
   },
   {
    "duration": 2,
    "start_time": "2022-04-22T17:32:56.709Z"
   },
   {
    "duration": 2586,
    "start_time": "2022-04-22T17:33:11.078Z"
   },
   {
    "duration": 19,
    "start_time": "2022-04-22T17:34:16.237Z"
   },
   {
    "duration": 2654,
    "start_time": "2022-04-22T17:34:41.205Z"
   },
   {
    "duration": 24,
    "start_time": "2022-04-22T17:34:51.845Z"
   },
   {
    "duration": 17,
    "start_time": "2022-04-22T17:40:30.441Z"
   },
   {
    "duration": 17,
    "start_time": "2022-04-22T17:40:50.721Z"
   },
   {
    "duration": 34,
    "start_time": "2022-04-22T17:41:42.089Z"
   },
   {
    "duration": 19,
    "start_time": "2022-04-22T17:41:52.527Z"
   },
   {
    "duration": 45,
    "start_time": "2022-04-22T17:43:45.376Z"
   },
   {
    "duration": 171,
    "start_time": "2022-04-22T17:45:06.775Z"
   },
   {
    "duration": 245,
    "start_time": "2022-04-22T17:45:36.339Z"
   },
   {
    "duration": 254,
    "start_time": "2022-04-22T17:45:44.983Z"
   },
   {
    "duration": 214,
    "start_time": "2022-04-22T17:45:50.822Z"
   },
   {
    "duration": 190,
    "start_time": "2022-04-22T17:46:30.143Z"
   },
   {
    "duration": 195,
    "start_time": "2022-04-22T17:46:34.870Z"
   },
   {
    "duration": 9,
    "start_time": "2022-04-22T17:46:40.088Z"
   },
   {
    "duration": 2972,
    "start_time": "2022-04-22T17:46:48.514Z"
   },
   {
    "duration": 19,
    "start_time": "2022-04-22T17:47:38.327Z"
   },
   {
    "duration": 24,
    "start_time": "2022-04-22T17:47:39.094Z"
   },
   {
    "duration": 42,
    "start_time": "2022-04-22T17:47:40.903Z"
   },
   {
    "duration": 5,
    "start_time": "2022-04-22T17:48:49.334Z"
   },
   {
    "duration": 10,
    "start_time": "2022-04-22T17:48:59.573Z"
   },
   {
    "duration": 3,
    "start_time": "2022-04-22T17:49:13.936Z"
   },
   {
    "duration": 7,
    "start_time": "2022-04-22T17:49:21.231Z"
   },
   {
    "duration": 8,
    "start_time": "2022-04-22T17:49:21.957Z"
   },
   {
    "duration": 407,
    "start_time": "2022-04-22T17:49:28.949Z"
   },
   {
    "duration": 97,
    "start_time": "2022-04-22T17:49:32.536Z"
   },
   {
    "duration": 23,
    "start_time": "2022-04-22T17:49:32.642Z"
   },
   {
    "duration": 21,
    "start_time": "2022-04-22T17:49:32.666Z"
   },
   {
    "duration": 13,
    "start_time": "2022-04-22T17:49:32.690Z"
   },
   {
    "duration": 44,
    "start_time": "2022-04-22T17:49:32.704Z"
   },
   {
    "duration": 18,
    "start_time": "2022-04-22T17:49:32.749Z"
   },
   {
    "duration": 22,
    "start_time": "2022-04-22T17:49:32.768Z"
   },
   {
    "duration": 5,
    "start_time": "2022-04-22T17:49:32.792Z"
   },
   {
    "duration": 71,
    "start_time": "2022-04-22T17:49:32.799Z"
   },
   {
    "duration": 15,
    "start_time": "2022-04-22T17:49:32.872Z"
   },
   {
    "duration": 71,
    "start_time": "2022-04-22T17:49:32.889Z"
   },
   {
    "duration": 11,
    "start_time": "2022-04-22T17:49:32.962Z"
   },
   {
    "duration": 44,
    "start_time": "2022-04-22T17:49:32.974Z"
   },
   {
    "duration": 387,
    "start_time": "2022-04-22T17:49:33.019Z"
   },
   {
    "duration": 479,
    "start_time": "2022-04-22T17:49:33.407Z"
   },
   {
    "duration": 5663,
    "start_time": "2022-04-22T17:49:33.887Z"
   },
   {
    "duration": 12,
    "start_time": "2022-04-22T17:49:39.551Z"
   },
   {
    "duration": 42,
    "start_time": "2022-04-22T17:49:39.565Z"
   },
   {
    "duration": 28,
    "start_time": "2022-04-22T17:49:39.610Z"
   },
   {
    "duration": 50,
    "start_time": "2022-04-22T17:49:39.639Z"
   },
   {
    "duration": 4,
    "start_time": "2022-04-22T17:49:39.691Z"
   },
   {
    "duration": 74,
    "start_time": "2022-04-22T17:49:39.697Z"
   },
   {
    "duration": 19,
    "start_time": "2022-04-22T17:50:06.293Z"
   },
   {
    "duration": 31,
    "start_time": "2022-04-22T17:50:06.614Z"
   },
   {
    "duration": 59,
    "start_time": "2022-04-22T17:51:56.668Z"
   },
   {
    "duration": 21,
    "start_time": "2022-04-22T17:52:13.668Z"
   },
   {
    "duration": 20,
    "start_time": "2022-04-22T17:52:33.756Z"
   },
   {
    "duration": 18,
    "start_time": "2022-04-22T17:52:50.923Z"
   },
   {
    "duration": 18,
    "start_time": "2022-04-22T17:53:43.323Z"
   },
   {
    "duration": 19,
    "start_time": "2022-04-22T17:53:54.227Z"
   },
   {
    "duration": 19,
    "start_time": "2022-04-22T17:54:12.451Z"
   },
   {
    "duration": 93,
    "start_time": "2022-04-22T17:55:12.435Z"
   },
   {
    "duration": 22,
    "start_time": "2022-04-22T17:55:12.675Z"
   },
   {
    "duration": 20,
    "start_time": "2022-04-22T17:55:12.884Z"
   },
   {
    "duration": 12,
    "start_time": "2022-04-22T17:55:13.627Z"
   },
   {
    "duration": 6,
    "start_time": "2022-04-22T17:55:15.058Z"
   },
   {
    "duration": 18,
    "start_time": "2022-04-22T17:55:15.522Z"
   },
   {
    "duration": 35,
    "start_time": "2022-04-22T17:56:22.547Z"
   },
   {
    "duration": 22,
    "start_time": "2022-04-22T17:56:24.194Z"
   },
   {
    "duration": 16,
    "start_time": "2022-04-22T17:56:25.490Z"
   },
   {
    "duration": 30,
    "start_time": "2022-04-22T17:56:31.642Z"
   },
   {
    "duration": 23,
    "start_time": "2022-04-22T17:56:32.754Z"
   },
   {
    "duration": 17,
    "start_time": "2022-04-22T17:56:34.258Z"
   },
   {
    "duration": 54,
    "start_time": "2022-04-22T17:56:49.642Z"
   },
   {
    "duration": 12,
    "start_time": "2022-04-22T17:56:50.418Z"
   },
   {
    "duration": 26,
    "start_time": "2022-04-22T17:56:51.802Z"
   },
   {
    "duration": 390,
    "start_time": "2022-04-22T17:56:53.473Z"
   },
   {
    "duration": 386,
    "start_time": "2022-04-22T17:56:54.249Z"
   },
   {
    "duration": 5133,
    "start_time": "2022-04-22T17:56:54.657Z"
   },
   {
    "duration": 16,
    "start_time": "2022-04-22T17:56:59.794Z"
   },
   {
    "duration": 29,
    "start_time": "2022-04-22T17:56:59.811Z"
   },
   {
    "duration": 14,
    "start_time": "2022-04-22T17:56:59.842Z"
   },
   {
    "duration": 53,
    "start_time": "2022-04-22T17:56:59.857Z"
   },
   {
    "duration": 5,
    "start_time": "2022-04-22T17:56:59.911Z"
   },
   {
    "duration": 19,
    "start_time": "2022-04-22T17:56:59.917Z"
   },
   {
    "duration": 17,
    "start_time": "2022-04-22T17:57:15.450Z"
   },
   {
    "duration": 32,
    "start_time": "2022-04-22T17:57:19.329Z"
   },
   {
    "duration": 33,
    "start_time": "2022-04-22T17:57:40.545Z"
   },
   {
    "duration": 4,
    "start_time": "2022-04-22T17:57:42.378Z"
   },
   {
    "duration": 13,
    "start_time": "2022-04-22T17:57:42.881Z"
   },
   {
    "duration": 24,
    "start_time": "2022-04-22T17:57:51.522Z"
   },
   {
    "duration": 54,
    "start_time": "2022-04-22T17:57:55.705Z"
   },
   {
    "duration": 53,
    "start_time": "2022-04-22T17:57:59.081Z"
   },
   {
    "duration": 47,
    "start_time": "2022-04-22T17:58:02.041Z"
   },
   {
    "duration": 13,
    "start_time": "2022-04-22T17:58:02.914Z"
   },
   {
    "duration": 14,
    "start_time": "2022-04-22T17:58:10.241Z"
   },
   {
    "duration": 12,
    "start_time": "2022-04-22T17:58:12.905Z"
   },
   {
    "duration": 17,
    "start_time": "2022-04-22T18:02:02.503Z"
   },
   {
    "duration": 24,
    "start_time": "2022-04-22T18:12:00.718Z"
   },
   {
    "duration": 22,
    "start_time": "2022-04-22T18:12:04.451Z"
   },
   {
    "duration": 15,
    "start_time": "2022-04-22T18:12:14.356Z"
   },
   {
    "duration": 40,
    "start_time": "2022-04-22T18:12:20.731Z"
   },
   {
    "duration": 33,
    "start_time": "2022-04-22T18:12:23.899Z"
   },
   {
    "duration": 19,
    "start_time": "2022-04-22T18:12:55.531Z"
   },
   {
    "duration": 558,
    "start_time": "2022-04-22T18:13:04.539Z"
   },
   {
    "duration": 137,
    "start_time": "2022-04-22T18:13:39.331Z"
   },
   {
    "duration": 35,
    "start_time": "2022-04-22T18:13:57.058Z"
   },
   {
    "duration": 276,
    "start_time": "2022-04-22T18:14:10.882Z"
   },
   {
    "duration": 160,
    "start_time": "2022-04-22T18:14:56.721Z"
   },
   {
    "duration": 238,
    "start_time": "2022-04-22T18:16:38.425Z"
   },
   {
    "duration": 3,
    "start_time": "2022-04-22T18:19:47.047Z"
   },
   {
    "duration": 20,
    "start_time": "2022-04-22T18:19:54.760Z"
   },
   {
    "duration": 251,
    "start_time": "2022-04-22T18:19:54.895Z"
   },
   {
    "duration": 125,
    "start_time": "2022-04-22T18:20:46.504Z"
   },
   {
    "duration": 268,
    "start_time": "2022-04-22T18:21:10.488Z"
   },
   {
    "duration": 20,
    "start_time": "2022-04-22T18:21:42.455Z"
   },
   {
    "duration": 42,
    "start_time": "2022-04-22T18:21:42.919Z"
   },
   {
    "duration": 229,
    "start_time": "2022-04-22T18:21:44.295Z"
   },
   {
    "duration": 213,
    "start_time": "2022-04-22T18:21:58.072Z"
   },
   {
    "duration": 167,
    "start_time": "2022-04-22T18:22:02.959Z"
   },
   {
    "duration": 172,
    "start_time": "2022-04-22T18:22:11.550Z"
   },
   {
    "duration": 148,
    "start_time": "2022-04-22T18:22:30.870Z"
   },
   {
    "duration": 135,
    "start_time": "2022-04-22T18:22:39.734Z"
   },
   {
    "duration": 32,
    "start_time": "2022-04-22T18:23:30.854Z"
   },
   {
    "duration": 45,
    "start_time": "2022-04-22T18:23:33.022Z"
   },
   {
    "duration": 128,
    "start_time": "2022-04-22T18:23:44.014Z"
   },
   {
    "duration": 28,
    "start_time": "2022-04-22T18:23:47.990Z"
   },
   {
    "duration": 17,
    "start_time": "2022-04-22T18:23:51.814Z"
   },
   {
    "duration": 16,
    "start_time": "2022-04-22T18:24:35.358Z"
   },
   {
    "duration": 30,
    "start_time": "2022-04-22T18:25:09.485Z"
   },
   {
    "duration": 35,
    "start_time": "2022-04-22T18:25:31.238Z"
   },
   {
    "duration": 42,
    "start_time": "2022-04-22T18:28:15.876Z"
   },
   {
    "duration": 32,
    "start_time": "2022-04-22T18:28:26.140Z"
   },
   {
    "duration": 41,
    "start_time": "2022-04-22T18:29:07.372Z"
   },
   {
    "duration": 34,
    "start_time": "2022-04-22T18:29:10.035Z"
   },
   {
    "duration": 32,
    "start_time": "2022-04-22T18:29:15.613Z"
   },
   {
    "duration": 23,
    "start_time": "2022-04-22T18:29:48.499Z"
   },
   {
    "duration": 27,
    "start_time": "2022-04-22T18:45:15.555Z"
   },
   {
    "duration": 34,
    "start_time": "2022-04-22T18:45:22.300Z"
   },
   {
    "duration": 33,
    "start_time": "2022-04-22T18:45:56.756Z"
   },
   {
    "duration": 17,
    "start_time": "2022-04-22T18:46:20.747Z"
   },
   {
    "duration": 16,
    "start_time": "2022-04-22T18:46:24.547Z"
   },
   {
    "duration": 3,
    "start_time": "2022-04-22T18:48:57.594Z"
   },
   {
    "duration": 4,
    "start_time": "2022-04-22T18:49:23.042Z"
   },
   {
    "duration": 4,
    "start_time": "2022-04-22T18:49:28.986Z"
   },
   {
    "duration": 3,
    "start_time": "2022-04-22T18:53:42.336Z"
   },
   {
    "duration": 10,
    "start_time": "2022-04-22T18:53:48.760Z"
   },
   {
    "duration": 3,
    "start_time": "2022-04-22T18:53:58.320Z"
   },
   {
    "duration": 690,
    "start_time": "2022-04-22T18:54:18.249Z"
   },
   {
    "duration": 762,
    "start_time": "2022-04-22T18:54:45.096Z"
   },
   {
    "duration": 419,
    "start_time": "2022-04-22T18:55:27.053Z"
   },
   {
    "duration": 448,
    "start_time": "2022-04-22T18:55:39.495Z"
   },
   {
    "duration": 2,
    "start_time": "2022-04-22T18:59:58.599Z"
   },
   {
    "duration": 3,
    "start_time": "2022-04-22T19:01:33.101Z"
   },
   {
    "duration": 3732,
    "start_time": "2022-04-22T19:02:03.221Z"
   },
   {
    "duration": 14596,
    "start_time": "2022-04-22T19:02:20.405Z"
   },
   {
    "duration": 17,
    "start_time": "2022-04-22T19:02:35.006Z"
   },
   {
    "duration": 22,
    "start_time": "2022-04-22T19:02:49.436Z"
   },
   {
    "duration": 34,
    "start_time": "2022-04-22T19:02:50.388Z"
   },
   {
    "duration": 16,
    "start_time": "2022-04-22T19:02:50.564Z"
   },
   {
    "duration": 9,
    "start_time": "2022-04-22T19:02:50.883Z"
   },
   {
    "duration": 3,
    "start_time": "2022-04-22T19:02:52.243Z"
   },
   {
    "duration": 14835,
    "start_time": "2022-04-22T19:02:52.956Z"
   },
   {
    "duration": 18,
    "start_time": "2022-04-22T19:03:07.793Z"
   },
   {
    "duration": 22,
    "start_time": "2022-04-22T19:03:31.636Z"
   },
   {
    "duration": 189,
    "start_time": "2022-04-22T19:03:49.188Z"
   },
   {
    "duration": 16,
    "start_time": "2022-04-22T19:03:52.947Z"
   },
   {
    "duration": 14,
    "start_time": "2022-04-22T19:04:10.405Z"
   },
   {
    "duration": 8,
    "start_time": "2022-04-22T19:04:31.036Z"
   },
   {
    "duration": 9,
    "start_time": "2022-04-22T19:04:41.348Z"
   },
   {
    "duration": 15564,
    "start_time": "2022-04-22T19:05:08.388Z"
   },
   {
    "duration": 16259,
    "start_time": "2022-04-22T19:05:32.923Z"
   },
   {
    "duration": 19,
    "start_time": "2022-04-22T19:05:49.184Z"
   },
   {
    "duration": 3,
    "start_time": "2022-04-22T19:06:13.658Z"
   },
   {
    "duration": 16468,
    "start_time": "2022-04-22T19:06:20.987Z"
   },
   {
    "duration": 14734,
    "start_time": "2022-04-22T19:06:37.457Z"
   },
   {
    "duration": 5960,
    "start_time": "2022-04-22T19:07:01.059Z"
   },
   {
    "duration": 16,
    "start_time": "2022-04-22T19:07:27.210Z"
   },
   {
    "duration": 41628,
    "start_time": "2022-04-22T19:08:49.065Z"
   },
   {
    "duration": 17,
    "start_time": "2022-04-22T19:09:39.193Z"
   },
   {
    "duration": 3234,
    "start_time": "2022-04-22T19:10:14.602Z"
   },
   {
    "duration": 47367,
    "start_time": "2022-04-22T19:10:57.233Z"
   },
   {
    "duration": 16,
    "start_time": "2022-04-22T19:11:44.602Z"
   },
   {
    "duration": 167,
    "start_time": "2022-04-22T19:21:01.068Z"
   },
   {
    "duration": 135,
    "start_time": "2022-04-22T19:21:01.620Z"
   },
   {
    "duration": 35,
    "start_time": "2022-04-22T19:24:09.651Z"
   },
   {
    "duration": 34,
    "start_time": "2022-04-22T19:24:43.524Z"
   },
   {
    "duration": 36,
    "start_time": "2022-04-22T19:26:14.171Z"
   },
   {
    "duration": 3,
    "start_time": "2022-04-22T19:28:13.793Z"
   },
   {
    "duration": 2,
    "start_time": "2022-04-22T19:28:36.146Z"
   },
   {
    "duration": 11,
    "start_time": "2022-04-22T19:29:04.001Z"
   },
   {
    "duration": 12,
    "start_time": "2022-04-22T19:29:12.601Z"
   },
   {
    "duration": 13,
    "start_time": "2022-04-22T19:30:22.408Z"
   },
   {
    "duration": 18,
    "start_time": "2022-04-22T19:30:25.722Z"
   },
   {
    "duration": 8,
    "start_time": "2022-04-22T19:30:35.817Z"
   },
   {
    "duration": 17,
    "start_time": "2022-04-22T19:30:48.104Z"
   },
   {
    "duration": 17,
    "start_time": "2022-04-22T19:31:19.306Z"
   },
   {
    "duration": 13,
    "start_time": "2022-04-22T19:32:15.136Z"
   },
   {
    "duration": 7,
    "start_time": "2022-04-22T19:32:39.951Z"
   },
   {
    "duration": 4,
    "start_time": "2022-04-22T19:36:14.670Z"
   },
   {
    "duration": 4,
    "start_time": "2022-04-22T19:36:20.669Z"
   },
   {
    "duration": 182,
    "start_time": "2022-04-22T19:36:27.438Z"
   },
   {
    "duration": 3,
    "start_time": "2022-04-22T19:36:30.454Z"
   },
   {
    "duration": 20,
    "start_time": "2022-04-22T19:39:02.014Z"
   },
   {
    "duration": 17,
    "start_time": "2022-04-22T19:40:30.868Z"
   },
   {
    "duration": 22,
    "start_time": "2022-04-22T19:45:08.395Z"
   },
   {
    "duration": 24,
    "start_time": "2022-04-22T19:47:58.696Z"
   },
   {
    "duration": 16,
    "start_time": "2022-04-22T19:48:46.160Z"
   },
   {
    "duration": 4,
    "start_time": "2022-04-22T19:48:49.184Z"
   },
   {
    "duration": 5,
    "start_time": "2022-04-22T19:48:53.400Z"
   },
   {
    "duration": 24,
    "start_time": "2022-04-22T19:49:00.480Z"
   },
   {
    "duration": 5,
    "start_time": "2022-04-22T19:53:34.797Z"
   },
   {
    "duration": 5,
    "start_time": "2022-04-22T19:53:54.926Z"
   },
   {
    "duration": 6,
    "start_time": "2022-04-22T19:54:13.630Z"
   },
   {
    "duration": 5,
    "start_time": "2022-04-22T19:54:20.797Z"
   },
   {
    "duration": 25,
    "start_time": "2022-04-22T19:54:44.740Z"
   },
   {
    "duration": 4,
    "start_time": "2022-04-22T19:55:36.862Z"
   },
   {
    "duration": 297,
    "start_time": "2022-04-22T19:55:37.518Z"
   },
   {
    "duration": 5,
    "start_time": "2022-04-22T19:56:39.837Z"
   },
   {
    "duration": 87,
    "start_time": "2022-04-22T19:56:41.734Z"
   },
   {
    "duration": 4,
    "start_time": "2022-04-22T19:57:16.069Z"
   },
   {
    "duration": 63,
    "start_time": "2022-04-22T19:57:16.397Z"
   },
   {
    "duration": 56,
    "start_time": "2022-04-22T19:57:25.532Z"
   },
   {
    "duration": 44,
    "start_time": "2022-04-22T19:57:28.910Z"
   },
   {
    "duration": 154,
    "start_time": "2022-04-22T19:58:18.644Z"
   },
   {
    "duration": 170,
    "start_time": "2022-04-22T19:58:22.036Z"
   },
   {
    "duration": 1283,
    "start_time": "2022-04-23T08:41:00.560Z"
   },
   {
    "duration": 95,
    "start_time": "2022-04-23T08:41:03.049Z"
   },
   {
    "duration": 23,
    "start_time": "2022-04-23T08:41:03.296Z"
   },
   {
    "duration": 23,
    "start_time": "2022-04-23T08:41:03.527Z"
   },
   {
    "duration": 13,
    "start_time": "2022-04-23T08:41:03.727Z"
   },
   {
    "duration": 7,
    "start_time": "2022-04-23T08:41:04.327Z"
   },
   {
    "duration": 66,
    "start_time": "2022-04-23T08:41:04.759Z"
   },
   {
    "duration": 41,
    "start_time": "2022-04-23T08:41:05.271Z"
   },
   {
    "duration": 67,
    "start_time": "2022-04-23T08:41:05.751Z"
   },
   {
    "duration": 24,
    "start_time": "2022-04-23T08:41:07.247Z"
   },
   {
    "duration": 38,
    "start_time": "2022-04-23T08:41:08.495Z"
   },
   {
    "duration": 17,
    "start_time": "2022-04-23T08:41:09.200Z"
   },
   {
    "duration": 2,
    "start_time": "2022-04-23T08:41:14.968Z"
   },
   {
    "duration": 15443,
    "start_time": "2022-04-23T08:41:17.192Z"
   },
   {
    "duration": 16655,
    "start_time": "2022-04-23T08:41:32.637Z"
   },
   {
    "duration": 6166,
    "start_time": "2022-04-23T08:41:49.293Z"
   },
   {
    "duration": 47191,
    "start_time": "2022-04-23T08:41:55.461Z"
   },
   {
    "duration": 10,
    "start_time": "2022-04-23T08:42:42.672Z"
   },
   {
    "duration": 55,
    "start_time": "2022-04-23T08:45:01.462Z"
   },
   {
    "duration": 97,
    "start_time": "2022-04-23T08:45:05.357Z"
   },
   {
    "duration": 25,
    "start_time": "2022-04-23T08:45:29.734Z"
   },
   {
    "duration": 101,
    "start_time": "2022-04-23T08:45:32.189Z"
   },
   {
    "duration": 23,
    "start_time": "2022-04-23T08:45:32.420Z"
   },
   {
    "duration": 22,
    "start_time": "2022-04-23T08:45:33.149Z"
   },
   {
    "duration": 13,
    "start_time": "2022-04-23T08:45:34.309Z"
   },
   {
    "duration": 14,
    "start_time": "2022-04-23T08:45:36.677Z"
   },
   {
    "duration": 12,
    "start_time": "2022-04-23T08:45:48.645Z"
   },
   {
    "duration": 5,
    "start_time": "2022-04-23T08:45:49.981Z"
   },
   {
    "duration": 20,
    "start_time": "2022-04-23T08:45:50.909Z"
   },
   {
    "duration": 134,
    "start_time": "2022-04-23T08:46:00.157Z"
   },
   {
    "duration": 82,
    "start_time": "2022-04-23T08:46:15.821Z"
   },
   {
    "duration": 19,
    "start_time": "2022-04-23T08:46:23.957Z"
   },
   {
    "duration": 27,
    "start_time": "2022-04-23T08:46:35.716Z"
   },
   {
    "duration": 39,
    "start_time": "2022-04-23T08:46:47.212Z"
   },
   {
    "duration": 14,
    "start_time": "2022-04-23T08:46:52.349Z"
   },
   {
    "duration": 14,
    "start_time": "2022-04-23T08:48:12.933Z"
   },
   {
    "duration": 18,
    "start_time": "2022-04-23T08:48:20.020Z"
   },
   {
    "duration": 14,
    "start_time": "2022-04-23T08:48:21.171Z"
   },
   {
    "duration": 24,
    "start_time": "2022-04-23T08:48:57.228Z"
   },
   {
    "duration": 67,
    "start_time": "2022-04-23T08:49:06.077Z"
   },
   {
    "duration": 27,
    "start_time": "2022-04-23T08:49:06.829Z"
   },
   {
    "duration": 46,
    "start_time": "2022-04-23T08:49:07.299Z"
   },
   {
    "duration": 16,
    "start_time": "2022-04-23T08:49:07.580Z"
   },
   {
    "duration": 14,
    "start_time": "2022-04-23T08:49:09.002Z"
   },
   {
    "duration": 25,
    "start_time": "2022-04-23T08:49:18.595Z"
   },
   {
    "duration": 102,
    "start_time": "2022-04-23T08:49:24.731Z"
   },
   {
    "duration": 23,
    "start_time": "2022-04-23T08:49:24.996Z"
   },
   {
    "duration": 12,
    "start_time": "2022-04-23T08:49:26.659Z"
   },
   {
    "duration": 7,
    "start_time": "2022-04-23T08:49:27.850Z"
   },
   {
    "duration": 24,
    "start_time": "2022-04-23T08:49:28.116Z"
   },
   {
    "duration": 37,
    "start_time": "2022-04-23T08:49:29.659Z"
   },
   {
    "duration": 21,
    "start_time": "2022-04-23T08:49:32.170Z"
   },
   {
    "duration": 14,
    "start_time": "2022-04-23T08:49:32.955Z"
   },
   {
    "duration": 37,
    "start_time": "2022-04-23T08:49:37.956Z"
   },
   {
    "duration": 48,
    "start_time": "2022-04-23T08:51:18.211Z"
   },
   {
    "duration": 552,
    "start_time": "2022-04-23T08:51:23.482Z"
   },
   {
    "duration": 16,
    "start_time": "2022-04-23T08:51:26.826Z"
   },
   {
    "duration": 257,
    "start_time": "2022-04-23T08:51:53.923Z"
   },
   {
    "duration": 213,
    "start_time": "2022-04-23T08:52:10.070Z"
   },
   {
    "duration": 1169,
    "start_time": "2022-04-23T08:55:24.727Z"
   },
   {
    "duration": 111,
    "start_time": "2022-04-23T08:55:25.898Z"
   },
   {
    "duration": 24,
    "start_time": "2022-04-23T08:55:26.011Z"
   },
   {
    "duration": 23,
    "start_time": "2022-04-23T08:55:26.037Z"
   },
   {
    "duration": 14,
    "start_time": "2022-04-23T08:55:26.061Z"
   },
   {
    "duration": 7,
    "start_time": "2022-04-23T08:55:26.929Z"
   },
   {
    "duration": 23,
    "start_time": "2022-04-23T08:55:27.169Z"
   },
   {
    "duration": 51,
    "start_time": "2022-04-23T08:55:28.265Z"
   },
   {
    "duration": 24,
    "start_time": "2022-04-23T08:55:30.161Z"
   },
   {
    "duration": 24,
    "start_time": "2022-04-23T08:55:30.434Z"
   },
   {
    "duration": 14,
    "start_time": "2022-04-23T08:55:31.162Z"
   },
   {
    "duration": 35,
    "start_time": "2022-04-23T08:55:35.929Z"
   },
   {
    "duration": 46,
    "start_time": "2022-04-23T08:55:36.794Z"
   },
   {
    "duration": 270,
    "start_time": "2022-04-23T08:55:37.329Z"
   },
   {
    "duration": 200,
    "start_time": "2022-04-23T08:56:08.840Z"
   },
   {
    "duration": 195,
    "start_time": "2022-04-23T08:56:19.929Z"
   },
   {
    "duration": 540,
    "start_time": "2022-04-23T08:56:58.840Z"
   },
   {
    "duration": 15,
    "start_time": "2022-04-23T08:56:59.616Z"
   },
   {
    "duration": 183,
    "start_time": "2022-04-23T08:57:04.169Z"
   },
   {
    "duration": 143,
    "start_time": "2022-04-23T08:57:05.281Z"
   },
   {
    "duration": 155,
    "start_time": "2022-04-23T08:57:14.535Z"
   },
   {
    "duration": 4,
    "start_time": "2022-04-23T08:58:12.376Z"
   },
   {
    "duration": 6,
    "start_time": "2022-04-23T08:58:29.815Z"
   },
   {
    "duration": 3,
    "start_time": "2022-04-23T09:05:50.492Z"
   },
   {
    "duration": 10298,
    "start_time": "2022-04-23T09:05:51.076Z"
   },
   {
    "duration": 5723,
    "start_time": "2022-04-23T09:06:01.377Z"
   },
   {
    "duration": 2937,
    "start_time": "2022-04-23T09:06:07.102Z"
   },
   {
    "duration": 27471,
    "start_time": "2022-04-23T09:06:10.042Z"
   },
   {
    "duration": 13,
    "start_time": "2022-04-23T09:06:37.514Z"
   },
   {
    "duration": 20,
    "start_time": "2022-04-23T09:07:26.773Z"
   },
   {
    "duration": 109,
    "start_time": "2022-04-23T09:08:08.811Z"
   },
   {
    "duration": 22,
    "start_time": "2022-04-23T09:08:19.397Z"
   },
   {
    "duration": 15,
    "start_time": "2022-04-23T09:08:21.907Z"
   },
   {
    "duration": 4,
    "start_time": "2022-04-23T09:17:30.103Z"
   },
   {
    "duration": 14,
    "start_time": "2022-04-23T09:17:53.231Z"
   },
   {
    "duration": 14,
    "start_time": "2022-04-23T09:17:53.887Z"
   },
   {
    "duration": 35,
    "start_time": "2022-04-23T09:18:30.454Z"
   },
   {
    "duration": 12,
    "start_time": "2022-04-23T09:27:14.395Z"
   },
   {
    "duration": 7,
    "start_time": "2022-04-23T09:27:18.010Z"
   },
   {
    "duration": 6,
    "start_time": "2022-04-23T09:27:32.811Z"
   },
   {
    "duration": 10,
    "start_time": "2022-04-23T10:06:25.176Z"
   },
   {
    "duration": 3,
    "start_time": "2022-04-23T10:06:42.840Z"
   },
   {
    "duration": 5,
    "start_time": "2022-04-23T10:06:47.752Z"
   },
   {
    "duration": 5,
    "start_time": "2022-04-23T10:07:32.184Z"
   },
   {
    "duration": 8,
    "start_time": "2022-04-23T10:09:23.752Z"
   },
   {
    "duration": 13,
    "start_time": "2022-04-23T10:16:32.867Z"
   },
   {
    "duration": 6,
    "start_time": "2022-04-23T10:16:33.908Z"
   },
   {
    "duration": 6,
    "start_time": "2022-04-23T10:16:34.155Z"
   },
   {
    "duration": 7,
    "start_time": "2022-04-23T10:17:15.877Z"
   },
   {
    "duration": 21,
    "start_time": "2022-04-23T10:19:57.835Z"
   },
   {
    "duration": 6,
    "start_time": "2022-04-23T10:20:48.857Z"
   },
   {
    "duration": 6,
    "start_time": "2022-04-23T10:20:53.066Z"
   },
   {
    "duration": 9,
    "start_time": "2022-04-23T10:20:58.466Z"
   },
   {
    "duration": 6,
    "start_time": "2022-04-23T10:21:32.449Z"
   },
   {
    "duration": 6,
    "start_time": "2022-04-23T10:21:39.761Z"
   },
   {
    "duration": 6,
    "start_time": "2022-04-23T10:21:44.697Z"
   },
   {
    "duration": 4,
    "start_time": "2022-04-23T10:22:33.410Z"
   },
   {
    "duration": 3,
    "start_time": "2022-04-23T10:22:33.617Z"
   },
   {
    "duration": 21,
    "start_time": "2022-04-23T10:22:44.705Z"
   },
   {
    "duration": 41,
    "start_time": "2022-04-23T10:22:51.809Z"
   },
   {
    "duration": 6,
    "start_time": "2022-04-23T10:23:00.920Z"
   },
   {
    "duration": 8,
    "start_time": "2022-04-23T10:24:41.393Z"
   },
   {
    "duration": 159,
    "start_time": "2022-04-23T10:30:34.935Z"
   },
   {
    "duration": 6,
    "start_time": "2022-04-23T10:30:40.455Z"
   },
   {
    "duration": 6,
    "start_time": "2022-04-23T10:31:01.094Z"
   },
   {
    "duration": 23,
    "start_time": "2022-04-23T10:31:28.437Z"
   },
   {
    "duration": 9,
    "start_time": "2022-04-23T10:32:11.861Z"
   },
   {
    "duration": 25,
    "start_time": "2022-04-23T10:32:12.685Z"
   },
   {
    "duration": 6,
    "start_time": "2022-04-23T10:32:41.318Z"
   },
   {
    "duration": 16,
    "start_time": "2022-04-23T10:32:41.981Z"
   },
   {
    "duration": 5,
    "start_time": "2022-04-23T10:33:55.796Z"
   },
   {
    "duration": 15,
    "start_time": "2022-04-23T10:33:57.084Z"
   },
   {
    "duration": 17,
    "start_time": "2022-04-23T10:34:18.091Z"
   },
   {
    "duration": 18,
    "start_time": "2022-04-23T10:34:24.996Z"
   },
   {
    "duration": 1168,
    "start_time": "2022-04-23T10:35:34.843Z"
   },
   {
    "duration": 103,
    "start_time": "2022-04-23T10:35:36.013Z"
   },
   {
    "duration": 24,
    "start_time": "2022-04-23T10:35:36.117Z"
   },
   {
    "duration": 24,
    "start_time": "2022-04-23T10:35:36.144Z"
   },
   {
    "duration": 51,
    "start_time": "2022-04-23T10:35:36.170Z"
   },
   {
    "duration": 9,
    "start_time": "2022-04-23T10:35:36.223Z"
   },
   {
    "duration": 28,
    "start_time": "2022-04-23T10:35:36.233Z"
   },
   {
    "duration": 44,
    "start_time": "2022-04-23T10:35:36.262Z"
   },
   {
    "duration": 34,
    "start_time": "2022-04-23T10:35:36.308Z"
   },
   {
    "duration": 38,
    "start_time": "2022-04-23T10:35:36.346Z"
   },
   {
    "duration": 56,
    "start_time": "2022-04-23T10:35:36.387Z"
   },
   {
    "duration": 51,
    "start_time": "2022-04-23T10:35:36.445Z"
   },
   {
    "duration": 281,
    "start_time": "2022-04-23T10:35:36.498Z"
   },
   {
    "duration": 580,
    "start_time": "2022-04-23T10:35:36.781Z"
   },
   {
    "duration": 13,
    "start_time": "2022-04-23T10:35:37.362Z"
   },
   {
    "duration": 218,
    "start_time": "2022-04-23T10:35:37.377Z"
   },
   {
    "duration": 150,
    "start_time": "2022-04-23T10:35:37.597Z"
   },
   {
    "duration": 7,
    "start_time": "2022-04-23T10:35:37.749Z"
   },
   {
    "duration": 2,
    "start_time": "2022-04-23T10:35:37.758Z"
   },
   {
    "duration": 10560,
    "start_time": "2022-04-23T10:35:37.762Z"
   },
   {
    "duration": 5812,
    "start_time": "2022-04-23T10:35:48.324Z"
   },
   {
    "duration": 4289,
    "start_time": "2022-04-23T10:35:54.138Z"
   },
   {
    "duration": 32354,
    "start_time": "2022-04-23T10:35:58.429Z"
   },
   {
    "duration": 11,
    "start_time": "2022-04-23T10:36:30.784Z"
   },
   {
    "duration": 36,
    "start_time": "2022-04-23T10:36:30.797Z"
   },
   {
    "duration": 104,
    "start_time": "2022-04-23T10:36:30.835Z"
   },
   {
    "duration": 0,
    "start_time": "2022-04-23T10:36:30.941Z"
   },
   {
    "duration": 0,
    "start_time": "2022-04-23T10:36:30.942Z"
   },
   {
    "duration": 0,
    "start_time": "2022-04-23T10:36:30.943Z"
   },
   {
    "duration": 0,
    "start_time": "2022-04-23T10:36:30.945Z"
   },
   {
    "duration": 0,
    "start_time": "2022-04-23T10:36:30.946Z"
   },
   {
    "duration": 0,
    "start_time": "2022-04-23T10:36:30.947Z"
   },
   {
    "duration": 0,
    "start_time": "2022-04-23T10:36:30.947Z"
   },
   {
    "duration": 7,
    "start_time": "2022-04-23T10:36:49.138Z"
   },
   {
    "duration": 8,
    "start_time": "2022-04-23T10:36:49.444Z"
   },
   {
    "duration": 9,
    "start_time": "2022-04-23T10:36:50.673Z"
   },
   {
    "duration": 10,
    "start_time": "2022-04-23T10:37:35.234Z"
   },
   {
    "duration": 21,
    "start_time": "2022-04-23T10:37:36.265Z"
   },
   {
    "duration": 7,
    "start_time": "2022-04-23T10:37:36.705Z"
   },
   {
    "duration": 6,
    "start_time": "2022-04-23T10:37:42.001Z"
   },
   {
    "duration": 20,
    "start_time": "2022-04-23T10:37:42.264Z"
   },
   {
    "duration": 19,
    "start_time": "2022-04-23T10:37:42.544Z"
   },
   {
    "duration": 19,
    "start_time": "2022-04-23T10:37:42.968Z"
   },
   {
    "duration": 7,
    "start_time": "2022-04-23T10:38:12.401Z"
   },
   {
    "duration": 28,
    "start_time": "2022-04-23T10:38:25.056Z"
   },
   {
    "duration": 2090,
    "start_time": "2022-04-23T10:38:34.377Z"
   },
   {
    "duration": 6,
    "start_time": "2022-04-23T10:40:20.601Z"
   },
   {
    "duration": 9,
    "start_time": "2022-04-23T10:40:21.080Z"
   },
   {
    "duration": 15,
    "start_time": "2022-04-23T10:40:30.335Z"
   },
   {
    "duration": 13,
    "start_time": "2022-04-23T10:40:54.264Z"
   },
   {
    "duration": 13,
    "start_time": "2022-04-23T10:41:14.016Z"
   },
   {
    "duration": 12,
    "start_time": "2022-04-23T10:41:25.631Z"
   },
   {
    "duration": 8,
    "start_time": "2022-04-23T10:41:50.631Z"
   },
   {
    "duration": 15,
    "start_time": "2022-04-23T10:41:58.687Z"
   },
   {
    "duration": 6,
    "start_time": "2022-04-23T10:42:24.663Z"
   },
   {
    "duration": 14,
    "start_time": "2022-04-23T10:42:24.911Z"
   },
   {
    "duration": 6,
    "start_time": "2022-04-23T10:43:30.559Z"
   },
   {
    "duration": 13,
    "start_time": "2022-04-23T10:43:30.798Z"
   },
   {
    "duration": 12,
    "start_time": "2022-04-23T10:43:33.670Z"
   },
   {
    "duration": 12,
    "start_time": "2022-04-23T10:43:35.718Z"
   },
   {
    "duration": 14,
    "start_time": "2022-04-23T10:43:35.917Z"
   },
   {
    "duration": 16,
    "start_time": "2022-04-23T10:44:22.822Z"
   },
   {
    "duration": 17,
    "start_time": "2022-04-23T10:44:35.182Z"
   },
   {
    "duration": 17,
    "start_time": "2022-04-23T10:44:45.126Z"
   },
   {
    "duration": 7,
    "start_time": "2022-04-23T10:45:00.558Z"
   },
   {
    "duration": 15,
    "start_time": "2022-04-23T10:45:01.261Z"
   },
   {
    "duration": 13,
    "start_time": "2022-04-23T10:45:01.918Z"
   },
   {
    "duration": 13,
    "start_time": "2022-04-23T10:45:02.070Z"
   },
   {
    "duration": 14,
    "start_time": "2022-04-23T10:45:02.222Z"
   },
   {
    "duration": 6,
    "start_time": "2022-04-23T10:46:52.845Z"
   },
   {
    "duration": 13,
    "start_time": "2022-04-23T10:46:53.068Z"
   },
   {
    "duration": 36,
    "start_time": "2022-04-23T10:47:46.405Z"
   },
   {
    "duration": 40,
    "start_time": "2022-04-23T10:47:56.732Z"
   },
   {
    "duration": 375,
    "start_time": "2022-04-23T10:49:13.967Z"
   },
   {
    "duration": 121,
    "start_time": "2022-04-23T10:49:14.344Z"
   },
   {
    "duration": 26,
    "start_time": "2022-04-23T10:49:14.470Z"
   },
   {
    "duration": 31,
    "start_time": "2022-04-23T10:49:14.499Z"
   },
   {
    "duration": 21,
    "start_time": "2022-04-23T10:49:14.532Z"
   },
   {
    "duration": 8,
    "start_time": "2022-04-23T10:49:14.555Z"
   },
   {
    "duration": 29,
    "start_time": "2022-04-23T10:49:14.565Z"
   },
   {
    "duration": 73,
    "start_time": "2022-04-23T10:49:14.595Z"
   },
   {
    "duration": 24,
    "start_time": "2022-04-23T10:49:14.670Z"
   },
   {
    "duration": 43,
    "start_time": "2022-04-23T10:49:14.697Z"
   },
   {
    "duration": 41,
    "start_time": "2022-04-23T10:49:14.742Z"
   },
   {
    "duration": 112,
    "start_time": "2022-04-23T10:49:14.785Z"
   },
   {
    "duration": 637,
    "start_time": "2022-04-23T10:49:14.899Z"
   },
   {
    "duration": 0,
    "start_time": "2022-04-23T10:49:15.538Z"
   },
   {
    "duration": 0,
    "start_time": "2022-04-23T10:49:15.540Z"
   },
   {
    "duration": 0,
    "start_time": "2022-04-23T10:49:15.541Z"
   },
   {
    "duration": 0,
    "start_time": "2022-04-23T10:49:15.542Z"
   },
   {
    "duration": 0,
    "start_time": "2022-04-23T10:49:15.543Z"
   },
   {
    "duration": 0,
    "start_time": "2022-04-23T10:49:15.544Z"
   },
   {
    "duration": 0,
    "start_time": "2022-04-23T10:49:15.545Z"
   },
   {
    "duration": 0,
    "start_time": "2022-04-23T10:49:15.546Z"
   },
   {
    "duration": 0,
    "start_time": "2022-04-23T10:49:15.547Z"
   },
   {
    "duration": 0,
    "start_time": "2022-04-23T10:49:15.548Z"
   },
   {
    "duration": 0,
    "start_time": "2022-04-23T10:49:15.549Z"
   },
   {
    "duration": 0,
    "start_time": "2022-04-23T10:49:15.550Z"
   },
   {
    "duration": 0,
    "start_time": "2022-04-23T10:49:15.551Z"
   },
   {
    "duration": 0,
    "start_time": "2022-04-23T10:49:15.552Z"
   },
   {
    "duration": 0,
    "start_time": "2022-04-23T10:49:15.553Z"
   },
   {
    "duration": 0,
    "start_time": "2022-04-23T10:49:15.554Z"
   },
   {
    "duration": 0,
    "start_time": "2022-04-23T10:49:15.555Z"
   },
   {
    "duration": 3,
    "start_time": "2022-04-23T10:49:36.514Z"
   },
   {
    "duration": 248,
    "start_time": "2022-04-23T10:49:39.802Z"
   },
   {
    "duration": 601,
    "start_time": "2022-04-23T10:49:41.753Z"
   },
   {
    "duration": 15,
    "start_time": "2022-04-23T10:49:42.356Z"
   },
   {
    "duration": 210,
    "start_time": "2022-04-23T10:49:43.065Z"
   },
   {
    "duration": 156,
    "start_time": "2022-04-23T10:49:43.320Z"
   },
   {
    "duration": 8,
    "start_time": "2022-04-23T10:49:44.585Z"
   },
   {
    "duration": 3,
    "start_time": "2022-04-23T10:49:45.586Z"
   },
   {
    "duration": 10459,
    "start_time": "2022-04-23T10:49:46.833Z"
   },
   {
    "duration": 6128,
    "start_time": "2022-04-23T10:49:57.294Z"
   },
   {
    "duration": 3238,
    "start_time": "2022-04-23T10:50:03.424Z"
   },
   {
    "duration": 28907,
    "start_time": "2022-04-23T10:50:06.664Z"
   },
   {
    "duration": 11,
    "start_time": "2022-04-23T10:50:35.573Z"
   },
   {
    "duration": 7,
    "start_time": "2022-04-23T10:50:43.529Z"
   },
   {
    "duration": 29,
    "start_time": "2022-04-23T10:50:44.264Z"
   },
   {
    "duration": 4,
    "start_time": "2022-04-23T10:51:06.952Z"
   },
   {
    "duration": 373,
    "start_time": "2022-04-23T10:51:18.753Z"
   },
   {
    "duration": 8,
    "start_time": "2022-04-23T10:51:20.914Z"
   },
   {
    "duration": 16,
    "start_time": "2022-04-23T10:51:21.105Z"
   },
   {
    "duration": 13,
    "start_time": "2022-04-23T10:51:23.073Z"
   },
   {
    "duration": 13,
    "start_time": "2022-04-23T10:51:23.249Z"
   },
   {
    "duration": 14,
    "start_time": "2022-04-23T10:51:23.464Z"
   },
   {
    "duration": 40,
    "start_time": "2022-04-23T10:51:27.536Z"
   },
   {
    "duration": 9,
    "start_time": "2022-04-23T10:56:50.438Z"
   },
   {
    "duration": 24,
    "start_time": "2022-04-23T10:56:52.150Z"
   },
   {
    "duration": 98,
    "start_time": "2022-04-23T10:59:13.252Z"
   },
   {
    "duration": 54,
    "start_time": "2022-04-23T11:00:44.389Z"
   },
   {
    "duration": 1224,
    "start_time": "2022-04-23T11:02:24.245Z"
   },
   {
    "duration": 114,
    "start_time": "2022-04-23T11:02:25.472Z"
   },
   {
    "duration": 24,
    "start_time": "2022-04-23T11:02:25.588Z"
   },
   {
    "duration": 25,
    "start_time": "2022-04-23T11:02:25.615Z"
   },
   {
    "duration": 21,
    "start_time": "2022-04-23T11:02:25.642Z"
   },
   {
    "duration": 26,
    "start_time": "2022-04-23T11:02:25.665Z"
   },
   {
    "duration": 25,
    "start_time": "2022-04-23T11:02:25.692Z"
   },
   {
    "duration": 43,
    "start_time": "2022-04-23T11:02:25.719Z"
   },
   {
    "duration": 23,
    "start_time": "2022-04-23T11:02:25.763Z"
   },
   {
    "duration": 34,
    "start_time": "2022-04-23T11:02:25.789Z"
   },
   {
    "duration": 41,
    "start_time": "2022-04-23T11:02:25.825Z"
   },
   {
    "duration": 302,
    "start_time": "2022-04-23T11:02:25.867Z"
   },
   {
    "duration": 109,
    "start_time": "2022-04-23T11:02:26.170Z"
   },
   {
    "duration": 0,
    "start_time": "2022-04-23T11:02:26.280Z"
   },
   {
    "duration": 0,
    "start_time": "2022-04-23T11:02:26.282Z"
   },
   {
    "duration": 0,
    "start_time": "2022-04-23T11:02:26.283Z"
   },
   {
    "duration": 0,
    "start_time": "2022-04-23T11:02:26.284Z"
   },
   {
    "duration": 0,
    "start_time": "2022-04-23T11:02:26.286Z"
   },
   {
    "duration": 0,
    "start_time": "2022-04-23T11:02:26.287Z"
   },
   {
    "duration": 0,
    "start_time": "2022-04-23T11:02:26.288Z"
   },
   {
    "duration": 0,
    "start_time": "2022-04-23T11:02:26.290Z"
   },
   {
    "duration": 0,
    "start_time": "2022-04-23T11:02:26.291Z"
   },
   {
    "duration": 0,
    "start_time": "2022-04-23T11:02:26.292Z"
   },
   {
    "duration": 0,
    "start_time": "2022-04-23T11:02:26.293Z"
   },
   {
    "duration": 0,
    "start_time": "2022-04-23T11:02:26.322Z"
   },
   {
    "duration": 0,
    "start_time": "2022-04-23T11:02:26.323Z"
   },
   {
    "duration": 0,
    "start_time": "2022-04-23T11:02:26.324Z"
   },
   {
    "duration": 0,
    "start_time": "2022-04-23T11:02:26.325Z"
   },
   {
    "duration": 0,
    "start_time": "2022-04-23T11:02:26.327Z"
   },
   {
    "duration": 0,
    "start_time": "2022-04-23T11:02:26.328Z"
   },
   {
    "duration": 52,
    "start_time": "2022-04-23T11:03:12.019Z"
   },
   {
    "duration": 591,
    "start_time": "2022-04-23T11:03:12.594Z"
   },
   {
    "duration": 15,
    "start_time": "2022-04-23T11:03:13.843Z"
   },
   {
    "duration": 195,
    "start_time": "2022-04-23T11:03:15.099Z"
   },
   {
    "duration": 161,
    "start_time": "2022-04-23T11:03:15.297Z"
   },
   {
    "duration": 7,
    "start_time": "2022-04-23T11:03:15.460Z"
   },
   {
    "duration": 3,
    "start_time": "2022-04-23T11:03:15.469Z"
   },
   {
    "duration": 12100,
    "start_time": "2022-04-23T11:03:15.474Z"
   },
   {
    "duration": 6323,
    "start_time": "2022-04-23T11:03:27.576Z"
   },
   {
    "duration": 3046,
    "start_time": "2022-04-23T11:03:33.902Z"
   },
   {
    "duration": 28476,
    "start_time": "2022-04-23T11:03:36.950Z"
   },
   {
    "duration": 13,
    "start_time": "2022-04-23T11:04:05.428Z"
   },
   {
    "duration": 8,
    "start_time": "2022-04-23T11:04:05.443Z"
   },
   {
    "duration": 49,
    "start_time": "2022-04-23T11:04:05.452Z"
   },
   {
    "duration": 13,
    "start_time": "2022-04-23T11:04:05.503Z"
   },
   {
    "duration": 17,
    "start_time": "2022-04-23T11:04:05.523Z"
   },
   {
    "duration": 28,
    "start_time": "2022-04-23T11:04:05.543Z"
   },
   {
    "duration": 35,
    "start_time": "2022-04-23T11:07:26.600Z"
   },
   {
    "duration": 1138,
    "start_time": "2022-04-24T06:02:05.261Z"
   },
   {
    "duration": 110,
    "start_time": "2022-04-24T06:02:06.401Z"
   },
   {
    "duration": 24,
    "start_time": "2022-04-24T06:02:06.513Z"
   },
   {
    "duration": 26,
    "start_time": "2022-04-24T06:02:06.539Z"
   },
   {
    "duration": 16,
    "start_time": "2022-04-24T06:02:06.567Z"
   },
   {
    "duration": 11,
    "start_time": "2022-04-24T06:02:06.585Z"
   },
   {
    "duration": 52,
    "start_time": "2022-04-24T06:02:06.598Z"
   },
   {
    "duration": 45,
    "start_time": "2022-04-24T06:02:06.652Z"
   },
   {
    "duration": 45,
    "start_time": "2022-04-24T06:02:06.699Z"
   },
   {
    "duration": 24,
    "start_time": "2022-04-24T06:02:06.747Z"
   },
   {
    "duration": 38,
    "start_time": "2022-04-24T06:02:06.773Z"
   },
   {
    "duration": 330,
    "start_time": "2022-04-24T06:02:06.813Z"
   },
   {
    "duration": 51,
    "start_time": "2022-04-24T06:02:07.145Z"
   },
   {
    "duration": 579,
    "start_time": "2022-04-24T06:02:07.198Z"
   },
   {
    "duration": 15,
    "start_time": "2022-04-24T06:02:07.778Z"
   },
   {
    "duration": 232,
    "start_time": "2022-04-24T06:02:07.795Z"
   },
   {
    "duration": 169,
    "start_time": "2022-04-24T06:02:08.033Z"
   },
   {
    "duration": 6,
    "start_time": "2022-04-24T06:02:08.204Z"
   },
   {
    "duration": 4,
    "start_time": "2022-04-24T06:02:08.212Z"
   },
   {
    "duration": 11148,
    "start_time": "2022-04-24T06:02:08.218Z"
   },
   {
    "duration": 6448,
    "start_time": "2022-04-24T06:02:19.368Z"
   },
   {
    "duration": 3305,
    "start_time": "2022-04-24T06:02:25.818Z"
   },
   {
    "duration": 30801,
    "start_time": "2022-04-24T06:02:29.125Z"
   },
   {
    "duration": 14,
    "start_time": "2022-04-24T06:02:59.928Z"
   },
   {
    "duration": 6,
    "start_time": "2022-04-24T06:02:59.944Z"
   },
   {
    "duration": 32,
    "start_time": "2022-04-24T06:02:59.952Z"
   },
   {
    "duration": 14,
    "start_time": "2022-04-24T06:02:59.985Z"
   },
   {
    "duration": 39,
    "start_time": "2022-04-24T06:03:00.002Z"
   },
   {
    "duration": 13,
    "start_time": "2022-04-24T06:03:00.043Z"
   },
   {
    "duration": 38,
    "start_time": "2022-04-24T06:03:00.058Z"
   },
   {
    "duration": 591,
    "start_time": "2022-04-24T06:06:04.767Z"
   },
   {
    "duration": 551,
    "start_time": "2022-04-24T06:06:12.889Z"
   },
   {
    "duration": 6,
    "start_time": "2022-04-24T06:15:59.044Z"
   },
   {
    "duration": 16,
    "start_time": "2022-04-24T06:16:00.017Z"
   },
   {
    "duration": 7,
    "start_time": "2022-04-24T06:16:45.192Z"
   },
   {
    "duration": 15,
    "start_time": "2022-04-24T06:16:45.994Z"
   },
   {
    "duration": 20,
    "start_time": "2022-04-24T06:17:40.308Z"
   },
   {
    "duration": 49,
    "start_time": "2022-04-25T13:23:19.927Z"
   },
   {
    "duration": 1471,
    "start_time": "2022-04-25T13:23:25.371Z"
   },
   {
    "duration": 168,
    "start_time": "2022-04-25T13:23:26.844Z"
   },
   {
    "duration": 28,
    "start_time": "2022-04-25T13:23:27.013Z"
   },
   {
    "duration": 23,
    "start_time": "2022-04-25T13:23:27.044Z"
   },
   {
    "duration": 18,
    "start_time": "2022-04-25T13:23:27.069Z"
   },
   {
    "duration": 11,
    "start_time": "2022-04-25T13:23:27.089Z"
   },
   {
    "duration": 25,
    "start_time": "2022-04-25T13:23:27.148Z"
   },
   {
    "duration": 44,
    "start_time": "2022-04-25T13:23:27.500Z"
   },
   {
    "duration": 33,
    "start_time": "2022-04-25T13:23:27.909Z"
   },
   {
    "duration": 26,
    "start_time": "2022-04-25T13:23:28.521Z"
   },
   {
    "duration": 39,
    "start_time": "2022-04-25T13:23:29.806Z"
   },
   {
    "duration": 286,
    "start_time": "2022-04-25T13:23:30.372Z"
   },
   {
    "duration": 63,
    "start_time": "2022-04-25T13:23:30.737Z"
   },
   {
    "duration": 21,
    "start_time": "2022-04-25T13:23:37.242Z"
   },
   {
    "duration": 157,
    "start_time": "2022-04-25T13:24:15.779Z"
   },
   {
    "duration": 166,
    "start_time": "2022-04-25T13:24:31.205Z"
   },
   {
    "duration": 269,
    "start_time": "2022-04-25T13:25:29.177Z"
   },
   {
    "duration": 901,
    "start_time": "2022-04-25T13:35:29.419Z"
   },
   {
    "duration": 19,
    "start_time": "2022-04-25T13:35:30.444Z"
   },
   {
    "duration": 293,
    "start_time": "2022-04-25T13:35:32.365Z"
   },
   {
    "duration": 221,
    "start_time": "2022-04-25T13:35:32.677Z"
   },
   {
    "duration": 8,
    "start_time": "2022-04-25T13:35:33.963Z"
   },
   {
    "duration": 923,
    "start_time": "2022-04-25T13:35:59.140Z"
   },
   {
    "duration": 67452,
    "start_time": "2022-04-25T13:36:42.656Z"
   },
   {
    "duration": 24,
    "start_time": "2022-04-25T13:38:40.996Z"
   },
   {
    "duration": 23,
    "start_time": "2022-04-25T13:39:00.184Z"
   },
   {
    "duration": 14,
    "start_time": "2022-04-25T13:39:05.103Z"
   },
   {
    "duration": 13,
    "start_time": "2022-04-25T13:39:07.560Z"
   },
   {
    "duration": 13,
    "start_time": "2022-04-25T13:39:09.577Z"
   },
   {
    "duration": 14,
    "start_time": "2022-04-25T13:39:11.607Z"
   },
   {
    "duration": 14,
    "start_time": "2022-04-25T13:39:13.620Z"
   },
   {
    "duration": 54318,
    "start_time": "2022-04-25T13:39:36.159Z"
   },
   {
    "duration": 14,
    "start_time": "2022-04-25T13:40:58.923Z"
   },
   {
    "duration": 13,
    "start_time": "2022-04-25T13:41:56.334Z"
   },
   {
    "duration": 13,
    "start_time": "2022-04-25T13:41:58.868Z"
   },
   {
    "duration": 32540,
    "start_time": "2022-04-25T13:42:13.466Z"
   },
   {
    "duration": 12,
    "start_time": "2022-04-25T13:47:27.443Z"
   },
   {
    "duration": 17,
    "start_time": "2022-04-25T13:47:35.487Z"
   },
   {
    "duration": 11,
    "start_time": "2022-04-25T13:51:38.867Z"
   },
   {
    "duration": 109,
    "start_time": "2022-04-25T13:52:41.391Z"
   },
   {
    "duration": 4,
    "start_time": "2022-04-25T13:53:21.588Z"
   },
   {
    "duration": 202,
    "start_time": "2022-04-25T13:53:21.796Z"
   },
   {
    "duration": 32,
    "start_time": "2022-04-25T13:53:22.000Z"
   },
   {
    "duration": 26,
    "start_time": "2022-04-25T13:53:22.190Z"
   },
   {
    "duration": 16,
    "start_time": "2022-04-25T13:53:22.357Z"
   },
   {
    "duration": 6,
    "start_time": "2022-04-25T13:53:23.170Z"
   },
   {
    "duration": 32,
    "start_time": "2022-04-25T13:53:23.380Z"
   },
   {
    "duration": 37,
    "start_time": "2022-04-25T13:53:23.803Z"
   },
   {
    "duration": 36,
    "start_time": "2022-04-25T13:53:24.175Z"
   },
   {
    "duration": 24,
    "start_time": "2022-04-25T13:53:24.642Z"
   },
   {
    "duration": 36,
    "start_time": "2022-04-25T13:53:25.858Z"
   },
   {
    "duration": 211,
    "start_time": "2022-04-25T13:53:26.265Z"
   },
   {
    "duration": 78,
    "start_time": "2022-04-25T13:53:26.480Z"
   },
   {
    "duration": 231,
    "start_time": "2022-04-25T13:53:26.704Z"
   },
   {
    "duration": 16,
    "start_time": "2022-04-25T13:53:27.647Z"
   },
   {
    "duration": 23,
    "start_time": "2022-04-25T13:53:27.887Z"
   },
   {
    "duration": 19,
    "start_time": "2022-04-25T13:53:28.765Z"
   },
   {
    "duration": 236,
    "start_time": "2022-04-25T13:53:29.015Z"
   },
   {
    "duration": 8,
    "start_time": "2022-04-25T13:53:29.254Z"
   },
   {
    "duration": 56734,
    "start_time": "2022-04-25T13:53:30.459Z"
   },
   {
    "duration": 31250,
    "start_time": "2022-04-25T13:54:27.196Z"
   },
   {
    "duration": 22,
    "start_time": "2022-04-25T13:54:58.448Z"
   },
   {
    "duration": 655,
    "start_time": "2022-04-25T13:54:58.477Z"
   },
   {
    "duration": 269,
    "start_time": "2022-04-25T13:55:36.936Z"
   },
   {
    "duration": 14,
    "start_time": "2022-04-25T13:55:54.297Z"
   },
   {
    "duration": 3,
    "start_time": "2022-04-25T13:57:16.699Z"
   },
   {
    "duration": 637,
    "start_time": "2022-04-25T13:57:31.374Z"
   },
   {
    "duration": 15,
    "start_time": "2022-04-25T13:57:37.766Z"
   },
   {
    "duration": 92,
    "start_time": "2022-04-25T13:57:53.124Z"
   },
   {
    "duration": 488,
    "start_time": "2022-04-25T13:58:40.880Z"
   },
   {
    "duration": 433,
    "start_time": "2022-04-25T14:00:36.192Z"
   },
   {
    "duration": 19,
    "start_time": "2022-04-25T14:00:43.465Z"
   },
   {
    "duration": 105,
    "start_time": "2022-04-25T14:00:52.921Z"
   },
   {
    "duration": 2248,
    "start_time": "2022-04-25T14:00:58.778Z"
   },
   {
    "duration": 22,
    "start_time": "2022-04-25T14:01:21.195Z"
   },
   {
    "duration": 35,
    "start_time": "2022-04-25T14:01:22.314Z"
   },
   {
    "duration": 22,
    "start_time": "2022-04-25T14:01:22.706Z"
   },
   {
    "duration": 22,
    "start_time": "2022-04-25T14:01:23.099Z"
   },
   {
    "duration": 35,
    "start_time": "2022-04-25T14:01:24.390Z"
   },
   {
    "duration": 212,
    "start_time": "2022-04-25T14:01:24.907Z"
   },
   {
    "duration": 75,
    "start_time": "2022-04-25T14:01:25.130Z"
   },
   {
    "duration": 158,
    "start_time": "2022-04-25T14:01:25.333Z"
   },
   {
    "duration": 419,
    "start_time": "2022-04-25T14:01:26.428Z"
   },
   {
    "duration": 29,
    "start_time": "2022-04-25T14:01:26.849Z"
   },
   {
    "duration": 202,
    "start_time": "2022-04-25T14:01:27.708Z"
   },
   {
    "duration": 164,
    "start_time": "2022-04-25T14:01:27.946Z"
   },
   {
    "duration": 8,
    "start_time": "2022-04-25T14:01:28.196Z"
   },
   {
    "duration": 60622,
    "start_time": "2022-04-25T14:01:29.465Z"
   },
   {
    "duration": 34364,
    "start_time": "2022-04-25T14:02:30.090Z"
   },
   {
    "duration": 18,
    "start_time": "2022-04-25T14:03:04.456Z"
   },
   {
    "duration": 49,
    "start_time": "2022-04-25T14:03:04.476Z"
   },
   {
    "duration": 175,
    "start_time": "2022-04-25T14:03:04.527Z"
   },
   {
    "duration": 132,
    "start_time": "2022-04-25T14:04:36.281Z"
   },
   {
    "duration": 49,
    "start_time": "2022-04-25T14:05:19.697Z"
   },
   {
    "duration": 516,
    "start_time": "2022-04-25T14:05:47.702Z"
   },
   {
    "duration": 339,
    "start_time": "2022-04-25T14:06:13.435Z"
   },
   {
    "duration": 69,
    "start_time": "2022-04-25T14:06:16.767Z"
   },
   {
    "duration": 3,
    "start_time": "2022-04-25T14:06:24.282Z"
   },
   {
    "duration": 190,
    "start_time": "2022-04-25T14:06:24.662Z"
   },
   {
    "duration": 26,
    "start_time": "2022-04-25T14:06:24.855Z"
   },
   {
    "duration": 25,
    "start_time": "2022-04-25T14:06:24.883Z"
   },
   {
    "duration": 27,
    "start_time": "2022-04-25T14:06:24.910Z"
   },
   {
    "duration": 15,
    "start_time": "2022-04-25T14:06:24.939Z"
   },
   {
    "duration": 29,
    "start_time": "2022-04-25T14:06:24.956Z"
   },
   {
    "duration": 42,
    "start_time": "2022-04-25T14:06:24.987Z"
   },
   {
    "duration": 43,
    "start_time": "2022-04-25T14:06:25.032Z"
   },
   {
    "duration": 25,
    "start_time": "2022-04-25T14:06:25.098Z"
   },
   {
    "duration": 57,
    "start_time": "2022-04-25T14:06:26.071Z"
   },
   {
    "duration": 200,
    "start_time": "2022-04-25T14:06:26.451Z"
   },
   {
    "duration": 144,
    "start_time": "2022-04-25T14:06:26.652Z"
   },
   {
    "duration": 143,
    "start_time": "2022-04-25T14:06:26.820Z"
   },
   {
    "duration": 329,
    "start_time": "2022-04-25T14:06:27.515Z"
   },
   {
    "duration": 20,
    "start_time": "2022-04-25T14:06:27.846Z"
   },
   {
    "duration": 191,
    "start_time": "2022-04-25T14:06:28.383Z"
   },
   {
    "duration": 151,
    "start_time": "2022-04-25T14:06:28.638Z"
   },
   {
    "duration": 6,
    "start_time": "2022-04-25T14:06:28.867Z"
   },
   {
    "duration": 72695,
    "start_time": "2022-04-25T14:06:29.974Z"
   },
   {
    "duration": 42422,
    "start_time": "2022-04-25T14:07:42.672Z"
   },
   {
    "duration": 15,
    "start_time": "2022-04-25T14:08:25.098Z"
   },
   {
    "duration": 60,
    "start_time": "2022-04-25T14:08:25.115Z"
   },
   {
    "duration": 19,
    "start_time": "2022-04-25T14:08:25.177Z"
   },
   {
    "duration": 16,
    "start_time": "2022-04-25T14:08:32.715Z"
   },
   {
    "duration": 24,
    "start_time": "2022-04-25T14:08:41.103Z"
   },
   {
    "duration": 76,
    "start_time": "2022-04-25T14:08:49.128Z"
   },
   {
    "duration": 27,
    "start_time": "2022-04-25T14:09:33.367Z"
   },
   {
    "duration": 18,
    "start_time": "2022-04-25T14:09:57.651Z"
   },
   {
    "duration": 14,
    "start_time": "2022-04-25T14:10:04.201Z"
   },
   {
    "duration": 12,
    "start_time": "2022-04-25T14:10:34.996Z"
   },
   {
    "duration": 20,
    "start_time": "2022-04-25T14:13:13.630Z"
   },
   {
    "duration": 31,
    "start_time": "2022-04-25T14:14:24.963Z"
   },
   {
    "duration": 32,
    "start_time": "2022-04-25T14:14:33.518Z"
   },
   {
    "duration": 19,
    "start_time": "2022-04-25T14:14:37.672Z"
   },
   {
    "duration": 14,
    "start_time": "2022-04-25T14:14:44.173Z"
   },
   {
    "duration": 11,
    "start_time": "2022-04-25T14:14:48.836Z"
   },
   {
    "duration": 1675,
    "start_time": "2022-04-26T06:38:20.796Z"
   },
   {
    "duration": 386,
    "start_time": "2022-04-26T06:38:22.474Z"
   },
   {
    "duration": 44,
    "start_time": "2022-04-26T06:38:22.862Z"
   },
   {
    "duration": 33,
    "start_time": "2022-04-26T06:38:22.908Z"
   },
   {
    "duration": 38,
    "start_time": "2022-04-26T06:38:22.943Z"
   },
   {
    "duration": 9,
    "start_time": "2022-04-26T06:38:23.090Z"
   },
   {
    "duration": 36,
    "start_time": "2022-04-26T06:38:23.341Z"
   },
   {
    "duration": 64,
    "start_time": "2022-04-26T06:38:23.742Z"
   },
   {
    "duration": 36,
    "start_time": "2022-04-26T06:38:24.189Z"
   },
   {
    "duration": 33,
    "start_time": "2022-04-26T06:38:24.747Z"
   },
   {
    "duration": 55,
    "start_time": "2022-04-26T06:38:26.388Z"
   },
   {
    "duration": 462,
    "start_time": "2022-04-26T06:38:26.792Z"
   },
   {
    "duration": 102,
    "start_time": "2022-04-26T06:38:27.257Z"
   },
   {
    "duration": 265,
    "start_time": "2022-04-26T06:38:27.362Z"
   },
   {
    "duration": 709,
    "start_time": "2022-04-26T06:38:28.264Z"
   },
   {
    "duration": 19,
    "start_time": "2022-04-26T06:38:28.981Z"
   },
   {
    "duration": 319,
    "start_time": "2022-04-26T06:38:29.787Z"
   },
   {
    "duration": 259,
    "start_time": "2022-04-26T06:38:30.109Z"
   },
   {
    "duration": 8,
    "start_time": "2022-04-26T06:38:30.390Z"
   },
   {
    "duration": 75706,
    "start_time": "2022-04-26T06:38:31.941Z"
   },
   {
    "duration": 43425,
    "start_time": "2022-04-26T06:39:47.650Z"
   },
   {
    "duration": 19,
    "start_time": "2022-04-26T06:40:31.078Z"
   },
   {
    "duration": 128,
    "start_time": "2022-04-26T06:40:31.100Z"
   },
   {
    "duration": 106,
    "start_time": "2022-04-26T06:40:31.230Z"
   },
   {
    "duration": 39,
    "start_time": "2022-04-26T06:45:54.666Z"
   },
   {
    "duration": 29,
    "start_time": "2022-04-26T07:01:27.897Z"
   },
   {
    "duration": 27,
    "start_time": "2022-04-26T07:01:45.553Z"
   },
   {
    "duration": 27,
    "start_time": "2022-04-26T07:01:51.702Z"
   },
   {
    "duration": 5,
    "start_time": "2022-04-26T07:02:05.598Z"
   },
   {
    "duration": 24857,
    "start_time": "2022-04-26T07:02:21.013Z"
   },
   {
    "duration": 9,
    "start_time": "2022-04-26T07:03:15.233Z"
   },
   {
    "duration": 150,
    "start_time": "2022-04-26T07:04:14.513Z"
   },
   {
    "duration": 16,
    "start_time": "2022-04-26T07:04:24.678Z"
   },
   {
    "duration": 8,
    "start_time": "2022-04-26T07:04:25.972Z"
   },
   {
    "duration": 13,
    "start_time": "2022-04-26T07:04:36.305Z"
   },
   {
    "duration": 132,
    "start_time": "2022-04-26T07:04:50.098Z"
   },
   {
    "duration": 272,
    "start_time": "2022-04-26T07:04:55.293Z"
   },
   {
    "duration": 9,
    "start_time": "2022-04-26T07:07:11.201Z"
   },
   {
    "duration": 5,
    "start_time": "2022-04-26T07:20:32.957Z"
   },
   {
    "duration": 122,
    "start_time": "2022-04-26T07:20:33.497Z"
   },
   {
    "duration": 21,
    "start_time": "2022-04-26T07:20:33.622Z"
   },
   {
    "duration": 44,
    "start_time": "2022-04-26T07:20:33.645Z"
   },
   {
    "duration": 20,
    "start_time": "2022-04-26T07:20:33.692Z"
   },
   {
    "duration": 11,
    "start_time": "2022-04-26T07:20:33.714Z"
   },
   {
    "duration": 52,
    "start_time": "2022-04-26T07:20:33.746Z"
   },
   {
    "duration": 55,
    "start_time": "2022-04-26T07:20:33.806Z"
   },
   {
    "duration": 50,
    "start_time": "2022-04-26T07:20:33.863Z"
   },
   {
    "duration": 31,
    "start_time": "2022-04-26T07:20:33.916Z"
   },
   {
    "duration": 55,
    "start_time": "2022-04-26T07:20:34.705Z"
   },
   {
    "duration": 328,
    "start_time": "2022-04-26T07:20:35.696Z"
   },
   {
    "duration": 107,
    "start_time": "2022-04-26T07:20:36.027Z"
   },
   {
    "duration": 260,
    "start_time": "2022-04-26T07:20:36.136Z"
   },
   {
    "duration": 798,
    "start_time": "2022-04-26T07:20:36.399Z"
   },
   {
    "duration": 20,
    "start_time": "2022-04-26T07:20:37.199Z"
   },
   {
    "duration": 338,
    "start_time": "2022-04-26T07:20:37.221Z"
   },
   {
    "duration": 334,
    "start_time": "2022-04-26T07:20:37.561Z"
   },
   {
    "duration": 8,
    "start_time": "2022-04-26T07:20:37.897Z"
   },
   {
    "duration": 73776,
    "start_time": "2022-04-26T07:20:37.908Z"
   },
   {
    "duration": 40849,
    "start_time": "2022-04-26T07:21:51.687Z"
   },
   {
    "duration": 19,
    "start_time": "2022-04-26T07:22:32.539Z"
   },
   {
    "duration": 70,
    "start_time": "2022-04-26T07:22:32.562Z"
   },
   {
    "duration": 112,
    "start_time": "2022-04-26T07:22:32.635Z"
   },
   {
    "duration": 52,
    "start_time": "2022-04-26T07:22:32.750Z"
   },
   {
    "duration": 28,
    "start_time": "2022-04-26T07:22:32.805Z"
   },
   {
    "duration": 5,
    "start_time": "2022-04-26T07:22:32.835Z"
   },
   {
    "duration": 24319,
    "start_time": "2022-04-26T07:22:32.842Z"
   },
   {
    "duration": 9,
    "start_time": "2022-04-26T07:22:57.163Z"
   },
   {
    "duration": 10,
    "start_time": "2022-04-26T07:44:14.846Z"
   },
   {
    "duration": 2225,
    "start_time": "2022-04-26T07:44:17.601Z"
   },
   {
    "duration": 9,
    "start_time": "2022-04-26T07:44:45.694Z"
   },
   {
    "duration": 47,
    "start_time": "2022-04-26T07:44:46.857Z"
   },
   {
    "duration": 52,
    "start_time": "2022-04-26T07:45:48.490Z"
   },
   {
    "duration": 45,
    "start_time": "2022-04-26T07:45:54.490Z"
   },
   {
    "duration": 18,
    "start_time": "2022-04-26T07:46:03.146Z"
   },
   {
    "duration": 16,
    "start_time": "2022-04-26T07:46:12.785Z"
   },
   {
    "duration": 21,
    "start_time": "2022-04-26T07:46:22.670Z"
   },
   {
    "duration": 23,
    "start_time": "2022-04-26T07:46:25.605Z"
   },
   {
    "duration": 24,
    "start_time": "2022-04-26T07:46:28.645Z"
   },
   {
    "duration": 51,
    "start_time": "2022-04-26T07:46:42.725Z"
   },
   {
    "duration": 33,
    "start_time": "2022-04-26T07:46:56.259Z"
   },
   {
    "duration": 34,
    "start_time": "2022-04-26T07:47:31.478Z"
   },
   {
    "duration": 40,
    "start_time": "2022-04-26T07:47:34.253Z"
   },
   {
    "duration": 35,
    "start_time": "2022-04-26T07:47:37.031Z"
   },
   {
    "duration": 42,
    "start_time": "2022-04-26T07:47:50.545Z"
   },
   {
    "duration": 34,
    "start_time": "2022-04-26T07:48:12.298Z"
   },
   {
    "duration": 37,
    "start_time": "2022-04-26T07:48:25.495Z"
   },
   {
    "duration": 37,
    "start_time": "2022-04-26T07:48:31.218Z"
   },
   {
    "duration": 39,
    "start_time": "2022-04-26T07:48:54.332Z"
   },
   {
    "duration": 36,
    "start_time": "2022-04-26T08:09:39.433Z"
   },
   {
    "duration": 68,
    "start_time": "2022-04-26T08:10:27.788Z"
   },
   {
    "duration": 110,
    "start_time": "2022-04-26T08:10:31.473Z"
   },
   {
    "duration": 6,
    "start_time": "2022-04-26T08:11:08.360Z"
   },
   {
    "duration": 4,
    "start_time": "2022-04-26T08:11:14.725Z"
   },
   {
    "duration": 2182,
    "start_time": "2022-04-26T08:11:57.137Z"
   },
   {
    "duration": 4,
    "start_time": "2022-04-26T08:12:56.832Z"
   },
   {
    "duration": 7243,
    "start_time": "2022-04-26T08:12:57.315Z"
   },
   {
    "duration": 7046,
    "start_time": "2022-04-26T08:13:21.875Z"
   },
   {
    "duration": 6960,
    "start_time": "2022-04-26T08:18:28.441Z"
   },
   {
    "duration": 2006,
    "start_time": "2022-04-26T08:19:21.034Z"
   },
   {
    "duration": 8049,
    "start_time": "2022-04-26T08:19:48.932Z"
   },
   {
    "duration": 47,
    "start_time": "2022-04-26T08:20:25.953Z"
   },
   {
    "duration": 14,
    "start_time": "2022-04-26T08:20:33.844Z"
   },
   {
    "duration": 3,
    "start_time": "2022-04-26T08:25:54.582Z"
   },
   {
    "duration": 122,
    "start_time": "2022-04-26T08:26:11.629Z"
   },
   {
    "duration": 17196,
    "start_time": "2022-04-26T08:26:26.542Z"
   },
   {
    "duration": 17347,
    "start_time": "2022-04-26T08:26:43.741Z"
   },
   {
    "duration": 16716,
    "start_time": "2022-04-26T08:27:01.091Z"
   },
   {
    "duration": 4,
    "start_time": "2022-04-26T08:27:48.791Z"
   },
   {
    "duration": 46,
    "start_time": "2022-04-26T08:28:00.135Z"
   },
   {
    "duration": 16538,
    "start_time": "2022-04-26T08:28:11.708Z"
   },
   {
    "duration": 15,
    "start_time": "2022-04-26T08:29:02.093Z"
   },
   {
    "duration": 23,
    "start_time": "2022-04-26T08:29:21.155Z"
   },
   {
    "duration": 5468,
    "start_time": "2022-04-26T08:30:13.024Z"
   },
   {
    "duration": 1681,
    "start_time": "2022-04-26T08:30:28.789Z"
   },
   {
    "duration": 130,
    "start_time": "2022-04-26T08:30:30.472Z"
   },
   {
    "duration": 22,
    "start_time": "2022-04-26T08:30:30.604Z"
   },
   {
    "duration": 31,
    "start_time": "2022-04-26T08:30:30.629Z"
   },
   {
    "duration": 21,
    "start_time": "2022-04-26T08:30:30.681Z"
   },
   {
    "duration": 35,
    "start_time": "2022-04-26T08:30:30.704Z"
   },
   {
    "duration": 67,
    "start_time": "2022-04-26T08:30:30.742Z"
   },
   {
    "duration": 74,
    "start_time": "2022-04-26T08:30:30.811Z"
   },
   {
    "duration": 34,
    "start_time": "2022-04-26T08:30:30.888Z"
   },
   {
    "duration": 31,
    "start_time": "2022-04-26T08:30:30.924Z"
   },
   {
    "duration": 64,
    "start_time": "2022-04-26T08:30:31.010Z"
   },
   {
    "duration": 483,
    "start_time": "2022-04-26T08:30:31.077Z"
   },
   {
    "duration": 102,
    "start_time": "2022-04-26T08:30:31.563Z"
   },
   {
    "duration": 286,
    "start_time": "2022-04-26T08:30:31.667Z"
   },
   {
    "duration": 753,
    "start_time": "2022-04-26T08:30:31.956Z"
   },
   {
    "duration": 20,
    "start_time": "2022-04-26T08:30:32.711Z"
   },
   {
    "duration": 344,
    "start_time": "2022-04-26T08:30:32.733Z"
   },
   {
    "duration": 266,
    "start_time": "2022-04-26T08:30:33.082Z"
   },
   {
    "duration": 8,
    "start_time": "2022-04-26T08:30:33.350Z"
   },
   {
    "duration": 78449,
    "start_time": "2022-04-26T08:30:33.361Z"
   },
   {
    "duration": 47222,
    "start_time": "2022-04-26T08:31:51.813Z"
   },
   {
    "duration": 18,
    "start_time": "2022-04-26T08:32:39.037Z"
   },
   {
    "duration": 75,
    "start_time": "2022-04-26T08:32:39.058Z"
   },
   {
    "duration": 107,
    "start_time": "2022-04-26T08:32:39.135Z"
   },
   {
    "duration": 50,
    "start_time": "2022-04-26T08:32:39.245Z"
   },
   {
    "duration": 28,
    "start_time": "2022-04-26T08:32:39.297Z"
   },
   {
    "duration": 6,
    "start_time": "2022-04-26T08:32:39.327Z"
   },
   {
    "duration": 27682,
    "start_time": "2022-04-26T08:32:39.335Z"
   },
   {
    "duration": 9,
    "start_time": "2022-04-26T08:33:07.021Z"
   },
   {
    "duration": 118,
    "start_time": "2022-04-26T08:33:07.032Z"
   },
   {
    "duration": 6,
    "start_time": "2022-04-26T08:33:07.153Z"
   },
   {
    "duration": 22,
    "start_time": "2022-04-26T08:33:07.161Z"
   },
   {
    "duration": 7160,
    "start_time": "2022-04-26T08:33:07.186Z"
   },
   {
    "duration": 7406,
    "start_time": "2022-04-26T08:33:14.349Z"
   },
   {
    "duration": 7785,
    "start_time": "2022-04-26T08:33:21.758Z"
   },
   {
    "duration": 11,
    "start_time": "2022-04-26T08:33:29.545Z"
   },
   {
    "duration": 4,
    "start_time": "2022-04-26T08:33:29.558Z"
   },
   {
    "duration": 130,
    "start_time": "2022-04-26T08:33:29.583Z"
   },
   {
    "duration": 16926,
    "start_time": "2022-04-26T08:33:29.715Z"
   },
   {
    "duration": 14,
    "start_time": "2022-04-26T08:33:46.643Z"
   },
   {
    "duration": 194932,
    "start_time": "2022-04-26T08:33:46.660Z"
   },
   {
    "duration": 128,
    "start_time": "2022-04-26T08:38:52.111Z"
   },
   {
    "duration": 255,
    "start_time": "2022-04-26T08:38:56.505Z"
   },
   {
    "duration": 118,
    "start_time": "2022-04-26T08:39:09.186Z"
   },
   {
    "duration": 5,
    "start_time": "2022-04-26T11:19:49.108Z"
   },
   {
    "duration": 130,
    "start_time": "2022-04-26T11:19:49.748Z"
   },
   {
    "duration": 23,
    "start_time": "2022-04-26T11:19:50.034Z"
   },
   {
    "duration": 31,
    "start_time": "2022-04-26T11:19:50.318Z"
   },
   {
    "duration": 21,
    "start_time": "2022-04-26T11:19:50.582Z"
   },
   {
    "duration": 8,
    "start_time": "2022-04-26T11:19:52.300Z"
   },
   {
    "duration": 36,
    "start_time": "2022-04-26T11:19:52.573Z"
   },
   {
    "duration": 61,
    "start_time": "2022-04-26T11:19:55.334Z"
   },
   {
    "duration": 34,
    "start_time": "2022-04-26T11:19:57.532Z"
   },
   {
    "duration": 43,
    "start_time": "2022-04-26T11:19:58.149Z"
   },
   {
    "duration": 146,
    "start_time": "2022-04-26T11:20:21.630Z"
   },
   {
    "duration": 126,
    "start_time": "2022-04-26T11:20:28.151Z"
   },
   {
    "duration": 39,
    "start_time": "2022-04-26T11:20:29.475Z"
   },
   {
    "duration": 359,
    "start_time": "2022-04-26T11:20:30.396Z"
   },
   {
    "duration": 373,
    "start_time": "2022-04-26T11:20:30.758Z"
   },
   {
    "duration": 892,
    "start_time": "2022-04-26T11:20:31.943Z"
   },
   {
    "duration": 48,
    "start_time": "2022-04-26T11:20:32.838Z"
   },
   {
    "duration": 330,
    "start_time": "2022-04-26T11:20:33.118Z"
   },
   {
    "duration": 274,
    "start_time": "2022-04-26T11:20:33.452Z"
   },
   {
    "duration": 9,
    "start_time": "2022-04-26T11:20:33.729Z"
   },
   {
    "duration": 81182,
    "start_time": "2022-04-26T11:20:34.820Z"
   },
   {
    "duration": 45043,
    "start_time": "2022-04-26T11:21:56.005Z"
   },
   {
    "duration": 19,
    "start_time": "2022-04-26T11:22:41.050Z"
   },
   {
    "duration": 65,
    "start_time": "2022-04-26T11:22:41.083Z"
   },
   {
    "duration": 117,
    "start_time": "2022-04-26T11:22:41.151Z"
   },
   {
    "duration": 41,
    "start_time": "2022-04-26T12:01:20.005Z"
   },
   {
    "duration": 142,
    "start_time": "2022-04-26T12:02:13.858Z"
   },
   {
    "duration": 37,
    "start_time": "2022-04-26T12:02:22.506Z"
   },
   {
    "duration": 50,
    "start_time": "2022-04-26T12:02:30.960Z"
   },
   {
    "duration": 11,
    "start_time": "2022-04-26T12:02:42.626Z"
   },
   {
    "duration": 10,
    "start_time": "2022-04-26T12:02:48.841Z"
   },
   {
    "duration": 52,
    "start_time": "2022-04-26T12:03:06.979Z"
   },
   {
    "duration": 43,
    "start_time": "2022-04-26T12:03:17.701Z"
   },
   {
    "duration": 16,
    "start_time": "2022-04-26T12:03:41.694Z"
   },
   {
    "duration": 37,
    "start_time": "2022-04-26T12:03:43.444Z"
   },
   {
    "duration": 11,
    "start_time": "2022-04-26T12:07:32.303Z"
   },
   {
    "duration": 37,
    "start_time": "2022-04-26T12:07:41.134Z"
   },
   {
    "duration": 44,
    "start_time": "2022-04-26T12:07:47.870Z"
   },
   {
    "duration": 33,
    "start_time": "2022-04-26T12:07:49.263Z"
   },
   {
    "duration": 42,
    "start_time": "2022-04-26T12:07:51.290Z"
   },
   {
    "duration": 136,
    "start_time": "2022-04-26T12:09:31.769Z"
   },
   {
    "duration": 5,
    "start_time": "2022-04-26T12:12:12.941Z"
   },
   {
    "duration": 125,
    "start_time": "2022-04-26T12:12:13.233Z"
   },
   {
    "duration": 23,
    "start_time": "2022-04-26T12:12:13.411Z"
   },
   {
    "duration": 31,
    "start_time": "2022-04-26T12:12:13.540Z"
   },
   {
    "duration": 22,
    "start_time": "2022-04-26T12:12:13.703Z"
   },
   {
    "duration": 8,
    "start_time": "2022-04-26T12:12:14.826Z"
   },
   {
    "duration": 34,
    "start_time": "2022-04-26T12:12:15.133Z"
   },
   {
    "duration": 62,
    "start_time": "2022-04-26T12:12:15.562Z"
   },
   {
    "duration": 34,
    "start_time": "2022-04-26T12:12:16.121Z"
   },
   {
    "duration": 41,
    "start_time": "2022-04-26T12:12:16.576Z"
   },
   {
    "duration": 125,
    "start_time": "2022-04-26T12:12:17.242Z"
   },
   {
    "duration": 32,
    "start_time": "2022-04-26T12:12:19.608Z"
   },
   {
    "duration": 71,
    "start_time": "2022-04-26T12:12:22.406Z"
   },
   {
    "duration": 358,
    "start_time": "2022-04-26T12:13:25.569Z"
   },
   {
    "duration": 283,
    "start_time": "2022-04-26T12:13:25.930Z"
   },
   {
    "duration": 911,
    "start_time": "2022-04-26T12:13:26.710Z"
   },
   {
    "duration": 19,
    "start_time": "2022-04-26T12:13:27.624Z"
   },
   {
    "duration": 350,
    "start_time": "2022-04-26T12:13:28.163Z"
   },
   {
    "duration": 375,
    "start_time": "2022-04-26T12:13:28.517Z"
   },
   {
    "duration": 13,
    "start_time": "2022-04-26T12:13:28.895Z"
   },
   {
    "duration": 87135,
    "start_time": "2022-04-26T12:13:29.725Z"
   },
   {
    "duration": 45875,
    "start_time": "2022-04-26T12:14:56.863Z"
   },
   {
    "duration": 18,
    "start_time": "2022-04-26T12:15:42.740Z"
   },
   {
    "duration": 84,
    "start_time": "2022-04-26T12:15:42.761Z"
   },
   {
    "duration": 96,
    "start_time": "2022-04-26T12:15:42.847Z"
   },
   {
    "duration": 61,
    "start_time": "2022-04-26T12:15:42.945Z"
   },
   {
    "duration": 29,
    "start_time": "2022-04-26T12:16:00.239Z"
   },
   {
    "duration": 8,
    "start_time": "2022-04-26T12:16:02.179Z"
   },
   {
    "duration": 2305,
    "start_time": "2022-04-26T12:16:03.684Z"
   },
   {
    "duration": 2313,
    "start_time": "2022-04-26T12:16:18.583Z"
   },
   {
    "duration": 5,
    "start_time": "2022-04-26T12:16:41.951Z"
   },
   {
    "duration": 27638,
    "start_time": "2022-04-26T12:16:42.200Z"
   },
   {
    "duration": 27001,
    "start_time": "2022-04-26T12:17:37.837Z"
   },
   {
    "duration": 26,
    "start_time": "2022-04-26T12:19:19.407Z"
   },
   {
    "duration": 22,
    "start_time": "2022-04-26T12:19:39.525Z"
   },
   {
    "duration": 610,
    "start_time": "2022-04-26T12:20:31.980Z"
   },
   {
    "duration": 604,
    "start_time": "2022-04-26T12:20:39.121Z"
   },
   {
    "duration": 614,
    "start_time": "2022-04-26T12:21:12.227Z"
   },
   {
    "duration": 26202,
    "start_time": "2022-04-26T12:21:33.407Z"
   },
   {
    "duration": 23,
    "start_time": "2022-04-26T12:22:21.308Z"
   },
   {
    "duration": 61,
    "start_time": "2022-04-26T12:22:27.231Z"
   },
   {
    "duration": 13,
    "start_time": "2022-04-26T12:22:50.951Z"
   },
   {
    "duration": 17,
    "start_time": "2022-04-26T12:23:04.407Z"
   },
   {
    "duration": 14,
    "start_time": "2022-04-26T12:23:09.641Z"
   },
   {
    "duration": 16,
    "start_time": "2022-04-26T12:23:31.570Z"
   },
   {
    "duration": 7,
    "start_time": "2022-04-26T12:31:07.222Z"
   },
   {
    "duration": 2645,
    "start_time": "2022-04-26T12:33:39.410Z"
   },
   {
    "duration": 2615,
    "start_time": "2022-04-26T12:34:11.569Z"
   },
   {
    "duration": 3835,
    "start_time": "2022-04-26T12:34:32.042Z"
   },
   {
    "duration": 2886,
    "start_time": "2022-04-26T12:34:46.642Z"
   },
   {
    "duration": 2659,
    "start_time": "2022-04-26T12:34:51.926Z"
   },
   {
    "duration": 7,
    "start_time": "2022-04-26T12:34:57.605Z"
   },
   {
    "duration": 2873,
    "start_time": "2022-04-26T12:35:01.442Z"
   },
   {
    "duration": 2974,
    "start_time": "2022-04-26T12:35:49.779Z"
   },
   {
    "duration": 2744,
    "start_time": "2022-04-26T12:36:08.040Z"
   },
   {
    "duration": 685,
    "start_time": "2022-04-26T12:36:20.698Z"
   },
   {
    "duration": 2197,
    "start_time": "2022-04-26T12:36:53.090Z"
   },
   {
    "duration": 3106,
    "start_time": "2022-04-26T12:37:12.127Z"
   },
   {
    "duration": 2569,
    "start_time": "2022-04-26T12:40:24.575Z"
   },
   {
    "duration": 26647,
    "start_time": "2022-04-26T12:44:07.578Z"
   },
   {
    "duration": 2189,
    "start_time": "2022-04-26T12:44:37.214Z"
   },
   {
    "duration": 1195,
    "start_time": "2022-04-26T12:44:52.203Z"
   },
   {
    "duration": 61,
    "start_time": "2022-04-26T12:45:00.461Z"
   },
   {
    "duration": 13,
    "start_time": "2022-04-26T12:45:47.273Z"
   },
   {
    "duration": 8,
    "start_time": "2022-04-26T12:46:00.508Z"
   },
   {
    "duration": 59,
    "start_time": "2022-04-26T12:46:05.082Z"
   },
   {
    "duration": 69,
    "start_time": "2022-04-26T12:47:13.454Z"
   },
   {
    "duration": 58,
    "start_time": "2022-04-26T12:48:40.435Z"
   },
   {
    "duration": 83,
    "start_time": "2022-04-26T12:48:57.609Z"
   },
   {
    "duration": 139,
    "start_time": "2022-04-26T12:49:02.561Z"
   },
   {
    "duration": 92,
    "start_time": "2022-04-26T12:49:31.171Z"
   },
   {
    "duration": 2798,
    "start_time": "2022-04-26T12:50:00.571Z"
   },
   {
    "duration": 126,
    "start_time": "2022-04-26T12:50:16.006Z"
   },
   {
    "duration": 134,
    "start_time": "2022-04-26T12:50:27.891Z"
   },
   {
    "duration": 135,
    "start_time": "2022-04-26T12:50:36.626Z"
   },
   {
    "duration": 29,
    "start_time": "2022-04-26T12:50:49.299Z"
   },
   {
    "duration": 41,
    "start_time": "2022-04-26T12:51:08.832Z"
   },
   {
    "duration": 1181,
    "start_time": "2022-04-26T12:51:53.534Z"
   },
   {
    "duration": 21,
    "start_time": "2022-04-26T12:52:07.438Z"
   },
   {
    "duration": 31,
    "start_time": "2022-04-26T12:52:35.877Z"
   },
   {
    "duration": 57,
    "start_time": "2022-04-26T12:53:43.907Z"
   },
   {
    "duration": 25070,
    "start_time": "2022-04-26T12:54:01.506Z"
   },
   {
    "duration": 62,
    "start_time": "2022-04-26T12:54:26.579Z"
   },
   {
    "duration": 3,
    "start_time": "2022-04-26T12:54:31.806Z"
   },
   {
    "duration": 60,
    "start_time": "2022-04-26T12:54:40.628Z"
   },
   {
    "duration": 53,
    "start_time": "2022-04-26T12:55:02.620Z"
   },
   {
    "duration": 15,
    "start_time": "2022-04-26T12:55:24.307Z"
   },
   {
    "duration": 16,
    "start_time": "2022-04-26T12:57:54.515Z"
   },
   {
    "duration": 15,
    "start_time": "2022-04-26T12:57:59.844Z"
   },
   {
    "duration": 31,
    "start_time": "2022-04-26T13:52:04.690Z"
   },
   {
    "duration": 30,
    "start_time": "2022-04-26T13:53:30.925Z"
   },
   {
    "duration": 1994,
    "start_time": "2022-04-26T13:53:49.936Z"
   },
   {
    "duration": 175,
    "start_time": "2022-04-26T13:53:51.934Z"
   },
   {
    "duration": 43,
    "start_time": "2022-04-26T13:53:52.112Z"
   },
   {
    "duration": 43,
    "start_time": "2022-04-26T13:53:52.157Z"
   },
   {
    "duration": 65,
    "start_time": "2022-04-26T13:53:52.206Z"
   },
   {
    "duration": 18,
    "start_time": "2022-04-26T13:53:52.274Z"
   },
   {
    "duration": 101,
    "start_time": "2022-04-26T13:53:52.295Z"
   },
   {
    "duration": 98,
    "start_time": "2022-04-26T13:53:52.398Z"
   },
   {
    "duration": 52,
    "start_time": "2022-04-26T13:53:52.499Z"
   },
   {
    "duration": 65,
    "start_time": "2022-04-26T13:53:52.554Z"
   },
   {
    "duration": 181,
    "start_time": "2022-04-26T13:53:52.622Z"
   },
   {
    "duration": 134,
    "start_time": "2022-04-26T13:53:52.814Z"
   },
   {
    "duration": 658,
    "start_time": "2022-04-26T13:53:52.953Z"
   },
   {
    "duration": 364,
    "start_time": "2022-04-26T13:53:53.630Z"
   },
   {
    "duration": 994,
    "start_time": "2022-04-26T13:53:53.997Z"
   },
   {
    "duration": 32,
    "start_time": "2022-04-26T13:53:54.994Z"
   },
   {
    "duration": 484,
    "start_time": "2022-04-26T13:53:55.032Z"
   },
   {
    "duration": 451,
    "start_time": "2022-04-26T13:53:55.519Z"
   },
   {
    "duration": 31,
    "start_time": "2022-04-26T13:53:55.973Z"
   },
   {
    "duration": 110151,
    "start_time": "2022-04-26T13:53:56.007Z"
   },
   {
    "duration": 63300,
    "start_time": "2022-04-26T13:55:46.161Z"
   },
   {
    "duration": 36,
    "start_time": "2022-04-26T13:56:49.464Z"
   },
   {
    "duration": 153,
    "start_time": "2022-04-26T13:56:49.504Z"
   },
   {
    "duration": 115,
    "start_time": "2022-04-26T13:56:49.660Z"
   },
   {
    "duration": 59,
    "start_time": "2022-04-26T13:56:49.778Z"
   },
   {
    "duration": 41,
    "start_time": "2022-04-26T13:56:49.842Z"
   },
   {
    "duration": 6,
    "start_time": "2022-04-26T13:56:49.893Z"
   },
   {
    "duration": 29724,
    "start_time": "2022-04-26T13:56:49.904Z"
   },
   {
    "duration": 30178,
    "start_time": "2022-04-26T13:57:19.632Z"
   },
   {
    "duration": 199,
    "start_time": "2022-04-26T13:57:49.816Z"
   },
   {
    "duration": 70,
    "start_time": "2022-04-26T13:57:50.021Z"
   },
   {
    "duration": 25,
    "start_time": "2022-04-26T13:57:50.098Z"
   },
   {
    "duration": 299,
    "start_time": "2022-04-26T13:57:50.133Z"
   },
   {
    "duration": 14,
    "start_time": "2022-04-26T13:57:50.437Z"
   },
   {
    "duration": 92,
    "start_time": "2022-04-26T13:57:50.453Z"
   },
   {
    "duration": 90,
    "start_time": "2022-04-26T13:57:50.549Z"
   },
   {
    "duration": 86,
    "start_time": "2022-04-26T13:57:50.646Z"
   },
   {
    "duration": 48,
    "start_time": "2022-04-26T13:57:50.735Z"
   },
   {
    "duration": 176,
    "start_time": "2022-04-26T13:57:50.786Z"
   },
   {
    "duration": 43,
    "start_time": "2022-04-26T14:26:23.524Z"
   },
   {
    "duration": 202,
    "start_time": "2022-04-26T14:26:26.061Z"
   },
   {
    "duration": 44,
    "start_time": "2022-04-26T14:26:30.623Z"
   },
   {
    "duration": 5,
    "start_time": "2022-04-26T14:27:30.473Z"
   },
   {
    "duration": 62,
    "start_time": "2022-04-26T14:28:08.707Z"
   },
   {
    "duration": 5,
    "start_time": "2022-04-26T14:28:17.065Z"
   },
   {
    "duration": 57,
    "start_time": "2022-04-26T14:28:18.991Z"
   },
   {
    "duration": 2972,
    "start_time": "2022-04-26T14:28:31.230Z"
   },
   {
    "duration": 5,
    "start_time": "2022-04-26T14:28:45.668Z"
   },
   {
    "duration": 5,
    "start_time": "2022-04-26T14:29:12.258Z"
   },
   {
    "duration": 26067,
    "start_time": "2022-04-26T14:29:12.265Z"
   },
   {
    "duration": 5,
    "start_time": "2022-04-26T14:29:53.335Z"
   },
   {
    "duration": 30159,
    "start_time": "2022-04-26T14:29:53.569Z"
   },
   {
    "duration": 54038,
    "start_time": "2022-04-26T14:32:17.907Z"
   },
   {
    "duration": 9,
    "start_time": "2022-04-26T14:34:35.764Z"
   },
   {
    "duration": 6,
    "start_time": "2022-04-26T14:34:38.146Z"
   },
   {
    "duration": 25,
    "start_time": "2022-04-26T14:34:39.813Z"
   },
   {
    "duration": 38,
    "start_time": "2022-04-26T14:36:05.184Z"
   },
   {
    "duration": 31,
    "start_time": "2022-04-26T14:36:07.913Z"
   },
   {
    "duration": 189,
    "start_time": "2022-04-26T14:36:29.777Z"
   },
   {
    "duration": 34,
    "start_time": "2022-04-26T14:36:38.377Z"
   },
   {
    "duration": 1702,
    "start_time": "2022-04-26T14:37:56.261Z"
   },
   {
    "duration": 169,
    "start_time": "2022-04-26T14:37:57.965Z"
   },
   {
    "duration": 23,
    "start_time": "2022-04-26T14:37:58.137Z"
   },
   {
    "duration": 48,
    "start_time": "2022-04-26T14:37:58.163Z"
   },
   {
    "duration": 46,
    "start_time": "2022-04-26T14:37:58.224Z"
   },
   {
    "duration": 26,
    "start_time": "2022-04-26T14:37:58.273Z"
   },
   {
    "duration": 69,
    "start_time": "2022-04-26T14:37:58.302Z"
   },
   {
    "duration": 85,
    "start_time": "2022-04-26T14:37:58.373Z"
   },
   {
    "duration": 65,
    "start_time": "2022-04-26T14:37:58.460Z"
   },
   {
    "duration": 31,
    "start_time": "2022-04-26T14:37:58.537Z"
   },
   {
    "duration": 160,
    "start_time": "2022-04-26T14:37:58.571Z"
   },
   {
    "duration": 110,
    "start_time": "2022-04-26T14:37:58.733Z"
   },
   {
    "duration": 569,
    "start_time": "2022-04-26T14:37:58.846Z"
   },
   {
    "duration": 285,
    "start_time": "2022-04-26T14:37:59.417Z"
   },
   {
    "duration": 768,
    "start_time": "2022-04-26T14:37:59.709Z"
   },
   {
    "duration": 40,
    "start_time": "2022-04-26T14:38:00.481Z"
   },
   {
    "duration": 383,
    "start_time": "2022-04-26T14:38:00.526Z"
   },
   {
    "duration": 381,
    "start_time": "2022-04-26T14:38:00.911Z"
   },
   {
    "duration": 15,
    "start_time": "2022-04-26T14:38:01.297Z"
   },
   {
    "duration": 93322,
    "start_time": "2022-04-26T14:38:01.315Z"
   },
   {
    "duration": 53400,
    "start_time": "2022-04-26T14:39:34.639Z"
   },
   {
    "duration": 19,
    "start_time": "2022-04-26T14:40:28.041Z"
   },
   {
    "duration": 86,
    "start_time": "2022-04-26T14:40:28.063Z"
   },
   {
    "duration": 116,
    "start_time": "2022-04-26T14:40:28.152Z"
   },
   {
    "duration": 67,
    "start_time": "2022-04-26T14:40:28.270Z"
   },
   {
    "duration": 179,
    "start_time": "2022-04-26T14:40:28.341Z"
   },
   {
    "duration": 0,
    "start_time": "2022-04-26T14:40:28.523Z"
   },
   {
    "duration": 0,
    "start_time": "2022-04-26T14:40:28.524Z"
   },
   {
    "duration": 0,
    "start_time": "2022-04-26T14:40:28.526Z"
   },
   {
    "duration": 0,
    "start_time": "2022-04-26T14:40:28.528Z"
   },
   {
    "duration": 0,
    "start_time": "2022-04-26T14:40:28.529Z"
   },
   {
    "duration": 0,
    "start_time": "2022-04-26T14:40:28.531Z"
   },
   {
    "duration": 0,
    "start_time": "2022-04-26T14:40:28.533Z"
   },
   {
    "duration": 0,
    "start_time": "2022-04-26T14:40:28.535Z"
   },
   {
    "duration": 0,
    "start_time": "2022-04-26T14:40:28.536Z"
   },
   {
    "duration": 0,
    "start_time": "2022-04-26T14:40:28.538Z"
   },
   {
    "duration": 0,
    "start_time": "2022-04-26T14:40:28.539Z"
   },
   {
    "duration": 1461,
    "start_time": "2022-04-26T19:38:09.883Z"
   },
   {
    "duration": 399,
    "start_time": "2022-04-26T19:38:11.347Z"
   },
   {
    "duration": 49,
    "start_time": "2022-04-26T19:38:11.747Z"
   },
   {
    "duration": 37,
    "start_time": "2022-04-26T19:38:11.798Z"
   },
   {
    "duration": 15,
    "start_time": "2022-04-26T19:38:11.838Z"
   },
   {
    "duration": 56,
    "start_time": "2022-04-26T19:38:11.855Z"
   },
   {
    "duration": 31,
    "start_time": "2022-04-26T19:38:11.916Z"
   },
   {
    "duration": 104,
    "start_time": "2022-04-26T19:38:11.949Z"
   },
   {
    "duration": 41,
    "start_time": "2022-04-26T19:38:12.107Z"
   },
   {
    "duration": 87,
    "start_time": "2022-04-26T19:38:12.152Z"
   },
   {
    "duration": 280,
    "start_time": "2022-04-26T19:38:12.242Z"
   },
   {
    "duration": 123,
    "start_time": "2022-04-26T19:38:12.524Z"
   },
   {
    "duration": 862,
    "start_time": "2022-04-26T19:38:12.649Z"
   },
   {
    "duration": 517,
    "start_time": "2022-04-26T19:38:13.518Z"
   },
   {
    "duration": 811,
    "start_time": "2022-04-26T19:38:14.036Z"
   },
   {
    "duration": 80,
    "start_time": "2022-04-26T19:38:14.849Z"
   },
   {
    "duration": 615,
    "start_time": "2022-04-26T19:38:14.932Z"
   },
   {
    "duration": 491,
    "start_time": "2022-04-26T19:38:15.549Z"
   },
   {
    "duration": 7,
    "start_time": "2022-04-26T19:38:16.042Z"
   },
   {
    "duration": 57587,
    "start_time": "2022-04-26T19:38:16.051Z"
   },
   {
    "duration": 35545,
    "start_time": "2022-04-26T19:39:13.639Z"
   },
   {
    "duration": 14,
    "start_time": "2022-04-26T19:39:49.186Z"
   },
   {
    "duration": 66,
    "start_time": "2022-04-26T19:39:49.211Z"
   },
   {
    "duration": 88,
    "start_time": "2022-04-26T19:39:49.279Z"
   },
   {
    "duration": 47,
    "start_time": "2022-04-26T19:39:49.369Z"
   },
   {
    "duration": 25,
    "start_time": "2022-04-26T19:39:49.418Z"
   },
   {
    "duration": 5,
    "start_time": "2022-04-26T19:39:49.445Z"
   },
   {
    "duration": 137,
    "start_time": "2022-04-26T19:39:49.454Z"
   },
   {
    "duration": 0,
    "start_time": "2022-04-26T19:39:49.593Z"
   },
   {
    "duration": 0,
    "start_time": "2022-04-26T19:39:49.594Z"
   },
   {
    "duration": 0,
    "start_time": "2022-04-26T19:39:49.595Z"
   },
   {
    "duration": 0,
    "start_time": "2022-04-26T19:39:49.597Z"
   },
   {
    "duration": 0,
    "start_time": "2022-04-26T19:39:49.608Z"
   },
   {
    "duration": 0,
    "start_time": "2022-04-26T19:39:49.609Z"
   },
   {
    "duration": 0,
    "start_time": "2022-04-26T19:39:49.612Z"
   },
   {
    "duration": 0,
    "start_time": "2022-04-26T19:39:49.613Z"
   },
   {
    "duration": 0,
    "start_time": "2022-04-26T19:39:49.615Z"
   },
   {
    "duration": 32113,
    "start_time": "2022-04-26T19:40:15.468Z"
   },
   {
    "duration": 10,
    "start_time": "2022-04-26T19:40:47.583Z"
   },
   {
    "duration": 0,
    "start_time": "2022-04-26T19:40:47.595Z"
   },
   {
    "duration": 0,
    "start_time": "2022-04-26T19:40:47.596Z"
   },
   {
    "duration": 61,
    "start_time": "2022-04-26T19:40:53.275Z"
   },
   {
    "duration": 5,
    "start_time": "2022-04-26T19:40:54.187Z"
   },
   {
    "duration": 14,
    "start_time": "2022-04-26T19:40:54.517Z"
   },
   {
    "duration": 18,
    "start_time": "2022-04-26T19:41:05.364Z"
   },
   {
    "duration": 13,
    "start_time": "2022-04-26T19:41:08.092Z"
   },
   {
    "duration": 22,
    "start_time": "2022-04-26T19:42:14.076Z"
   },
   {
    "duration": 17,
    "start_time": "2022-04-26T19:47:09.209Z"
   },
   {
    "duration": 43,
    "start_time": "2022-04-26T19:47:10.104Z"
   },
   {
    "duration": 25,
    "start_time": "2022-04-26T19:47:16.152Z"
   },
   {
    "duration": 28,
    "start_time": "2022-04-26T19:47:16.417Z"
   },
   {
    "duration": 26,
    "start_time": "2022-04-26T19:47:16.632Z"
   },
   {
    "duration": 92,
    "start_time": "2022-04-26T19:48:06.698Z"
   },
   {
    "duration": 83,
    "start_time": "2022-04-26T19:48:44.784Z"
   },
   {
    "duration": 1168,
    "start_time": "2022-04-27T08:25:32.066Z"
   },
   {
    "duration": 107,
    "start_time": "2022-04-27T08:25:33.236Z"
   },
   {
    "duration": 25,
    "start_time": "2022-04-27T08:25:33.345Z"
   },
   {
    "duration": 28,
    "start_time": "2022-04-27T08:25:33.373Z"
   },
   {
    "duration": 14,
    "start_time": "2022-04-27T08:25:33.404Z"
   },
   {
    "duration": 31,
    "start_time": "2022-04-27T08:25:33.420Z"
   },
   {
    "duration": 48,
    "start_time": "2022-04-27T08:25:33.453Z"
   },
   {
    "duration": 78,
    "start_time": "2022-04-27T08:25:33.503Z"
   },
   {
    "duration": 24,
    "start_time": "2022-04-27T08:25:33.583Z"
   },
   {
    "duration": 43,
    "start_time": "2022-04-27T08:25:33.610Z"
   },
   {
    "duration": 116,
    "start_time": "2022-04-27T08:25:33.658Z"
   },
   {
    "duration": 87,
    "start_time": "2022-04-27T08:25:33.776Z"
   },
   {
    "duration": 290,
    "start_time": "2022-04-27T08:25:33.867Z"
   },
   {
    "duration": 204,
    "start_time": "2022-04-27T08:25:34.161Z"
   },
   {
    "duration": 385,
    "start_time": "2022-04-27T08:25:34.368Z"
   },
   {
    "duration": 23,
    "start_time": "2022-04-27T08:25:34.758Z"
   },
   {
    "duration": 284,
    "start_time": "2022-04-27T08:25:34.782Z"
   },
   {
    "duration": 300,
    "start_time": "2022-04-27T08:25:35.068Z"
   },
   {
    "duration": 8,
    "start_time": "2022-04-27T08:25:35.370Z"
   },
   {
    "duration": 60336,
    "start_time": "2022-04-27T08:25:35.380Z"
   },
   {
    "duration": 34106,
    "start_time": "2022-04-27T08:26:35.718Z"
   },
   {
    "duration": 22,
    "start_time": "2022-04-27T08:27:09.825Z"
   },
   {
    "duration": 62,
    "start_time": "2022-04-27T08:27:09.853Z"
   },
   {
    "duration": 99,
    "start_time": "2022-04-27T08:27:09.917Z"
   },
   {
    "duration": 52,
    "start_time": "2022-04-27T08:27:10.018Z"
   },
   {
    "duration": 27,
    "start_time": "2022-04-27T08:27:10.074Z"
   },
   {
    "duration": 4,
    "start_time": "2022-04-27T08:27:10.103Z"
   },
   {
    "duration": 34758,
    "start_time": "2022-04-27T08:27:10.111Z"
   },
   {
    "duration": 82,
    "start_time": "2022-04-27T08:27:44.871Z"
   },
   {
    "duration": 14,
    "start_time": "2022-04-27T08:27:44.955Z"
   },
   {
    "duration": 8,
    "start_time": "2022-04-27T08:27:44.971Z"
   },
   {
    "duration": 31,
    "start_time": "2022-04-27T08:27:44.981Z"
   },
   {
    "duration": 50,
    "start_time": "2022-04-27T08:27:45.014Z"
   },
   {
    "duration": 20,
    "start_time": "2022-04-27T08:27:45.066Z"
   },
   {
    "duration": 24,
    "start_time": "2022-04-27T08:27:45.088Z"
   },
   {
    "duration": 106,
    "start_time": "2022-04-27T08:27:45.114Z"
   },
   {
    "duration": 1352,
    "start_time": "2022-05-31T12:29:13.053Z"
   },
   {
    "duration": 465,
    "start_time": "2022-05-31T12:29:14.407Z"
   },
   {
    "duration": 81,
    "start_time": "2022-05-31T12:29:14.876Z"
   },
   {
    "duration": 23,
    "start_time": "2022-05-31T12:29:14.959Z"
   },
   {
    "duration": 16,
    "start_time": "2022-05-31T12:29:14.983Z"
   },
   {
    "duration": 22,
    "start_time": "2022-05-31T12:29:15.001Z"
   },
   {
    "duration": 34,
    "start_time": "2022-05-31T12:29:15.025Z"
   },
   {
    "duration": 40,
    "start_time": "2022-05-31T12:29:15.061Z"
   },
   {
    "duration": 36,
    "start_time": "2022-05-31T12:29:15.103Z"
   },
   {
    "duration": 21,
    "start_time": "2022-05-31T12:29:15.140Z"
   },
   {
    "duration": 165,
    "start_time": "2022-05-31T12:29:15.163Z"
   },
   {
    "duration": 52,
    "start_time": "2022-05-31T12:29:15.332Z"
   },
   {
    "duration": 330,
    "start_time": "2022-05-31T12:29:15.387Z"
   },
   {
    "duration": 160,
    "start_time": "2022-05-31T12:29:15.718Z"
   },
   {
    "duration": 368,
    "start_time": "2022-05-31T12:29:15.880Z"
   },
   {
    "duration": 23,
    "start_time": "2022-05-31T12:29:16.250Z"
   },
   {
    "duration": 276,
    "start_time": "2022-05-31T12:29:16.275Z"
   },
   {
    "duration": 193,
    "start_time": "2022-05-31T12:29:16.553Z"
   },
   {
    "duration": 6,
    "start_time": "2022-05-31T12:29:16.748Z"
   },
   {
    "duration": 46165,
    "start_time": "2022-05-31T12:29:16.755Z"
   },
   {
    "duration": 28086,
    "start_time": "2022-05-31T12:30:02.921Z"
   },
   {
    "duration": 13,
    "start_time": "2022-05-31T12:30:31.009Z"
   },
   {
    "duration": 102,
    "start_time": "2022-05-31T12:30:31.027Z"
   },
   {
    "duration": 90,
    "start_time": "2022-05-31T12:30:31.130Z"
   },
   {
    "duration": 62,
    "start_time": "2022-05-31T12:30:31.221Z"
   },
   {
    "duration": 23,
    "start_time": "2022-05-31T12:30:31.286Z"
   },
   {
    "duration": 7,
    "start_time": "2022-05-31T12:30:31.313Z"
   }
  ],
  "kernelspec": {
   "display_name": "Python 3 (ipykernel)",
   "language": "python",
   "name": "python3"
  },
  "language_info": {
   "codemirror_mode": {
    "name": "ipython",
    "version": 3
   },
   "file_extension": ".py",
   "mimetype": "text/x-python",
   "name": "python",
   "nbconvert_exporter": "python",
   "pygments_lexer": "ipython3",
   "version": "3.10.1"
  },
  "toc": {
   "base_numbering": 1,
   "nav_menu": {},
   "number_sections": true,
   "sideBar": true,
   "skip_h1_title": true,
   "title_cell": "Table of Contents",
   "title_sidebar": "Contents",
   "toc_cell": false,
   "toc_position": {
    "height": "calc(100% - 180px)",
    "left": "10px",
    "top": "150px",
    "width": "164.977px"
   },
   "toc_section_display": true,
   "toc_window_display": true
  }
 },
 "nbformat": 4,
 "nbformat_minor": 2
}
