{
 "cells": [
  {
   "cell_type": "markdown",
   "metadata": {
    "id": "E0vqbgi9ay0H"
   },
   "source": [
    "# Musical research"
   ]
  },
  {
   "cell_type": "markdown",
   "metadata": {
    "id": "VUC88oWjTJw2"
   },
   "source": [
    "In this project, we will compare the two cities using the Yandex.Music service.\n",
    "\n",
    "The comparison of Moscow and St. Petersburg is surrounded by myths. For example:\n",
    " * Moscow is a megalopolis, subject to the rigid rhythm of the work week;\n",
    " * St. Petersburg is a cultural capital, with its own tastes.\n",
    "\n",
    "**The aim of the study** is to test three hypotheses:\n",
    "1. The activity of users depends on the day of the week. And it manifests differently in Moscow and St. Petersburg.\n",
    "2. On Monday morning in Moscow some genres prevail, and in St. Petersburg - others. Friday evenings are similarly dominated by different genres, depending on the city. \n",
    "3. Moscow and St. Petersburg prefer different genres of music. In Moscow they listen to pop music more often, in St. Petersburg - Russian rap.\n",
    "\n",
    "**Study progress**.\n",
    "\n",
    "We save data on user behavior in the file `yandex_music_project.csv`. Nothing is known about the quality of the data. Therefore, we will need to review the data before testing the hypotheses. \n",
    "\n",
    "We will check the data for errors and assess their impact on the study. Then, in the preprocessing phase, we will look for an opportunity to fix the most critical data errors.\n",
    " \n",
    "Thus, the study will take place in three stages:\n",
    " 1. data review.\n",
    " 2. Data preprocessing.\n",
    " 3. Hypothesis testing.\n"
   ]
  },
  {
   "cell_type": "markdown",
   "metadata": {
    "id": "Ml1hmfXC_Zcs"
   },
   "source": [
    "## Data review"
   ]
  },
  {
   "cell_type": "code",
   "execution_count": 1,
   "metadata": {
    "id": "AXN7PHPN_Zcs"
   },
   "outputs": [],
   "source": [
    "#import the libraries you need\n",
    "import pandas as pd"
   ]
  },
  {
   "cell_type": "code",
   "execution_count": 3,
   "metadata": {
    "id": "fFVu7vqh_Zct"
   },
   "outputs": [
    {
     "data": {
      "text/html": [
       "<div>\n",
       "<style scoped>\n",
       "    .dataframe tbody tr th:only-of-type {\n",
       "        vertical-align: middle;\n",
       "    }\n",
       "\n",
       "    .dataframe tbody tr th {\n",
       "        vertical-align: top;\n",
       "    }\n",
       "\n",
       "    .dataframe thead th {\n",
       "        text-align: right;\n",
       "    }\n",
       "</style>\n",
       "<table border=\"1\" class=\"dataframe\">\n",
       "  <thead>\n",
       "    <tr style=\"text-align: right;\">\n",
       "      <th></th>\n",
       "      <th>userID</th>\n",
       "      <th>Track</th>\n",
       "      <th>artist</th>\n",
       "      <th>genre</th>\n",
       "      <th>City</th>\n",
       "      <th>time</th>\n",
       "      <th>Day</th>\n",
       "    </tr>\n",
       "  </thead>\n",
       "  <tbody>\n",
       "    <tr>\n",
       "      <th>0</th>\n",
       "      <td>FFB692EC</td>\n",
       "      <td>Kamigata To Boots</td>\n",
       "      <td>The Mass Missile</td>\n",
       "      <td>rock</td>\n",
       "      <td>Saint-Petersburg</td>\n",
       "      <td>20:28:33</td>\n",
       "      <td>Wednesday</td>\n",
       "    </tr>\n",
       "    <tr>\n",
       "      <th>1</th>\n",
       "      <td>55204538</td>\n",
       "      <td>Delayed Because of Accident</td>\n",
       "      <td>Andreas Rönnberg</td>\n",
       "      <td>rock</td>\n",
       "      <td>Moscow</td>\n",
       "      <td>14:07:09</td>\n",
       "      <td>Friday</td>\n",
       "    </tr>\n",
       "    <tr>\n",
       "      <th>2</th>\n",
       "      <td>20EC38</td>\n",
       "      <td>Funiculì funiculà</td>\n",
       "      <td>Mario Lanza</td>\n",
       "      <td>pop</td>\n",
       "      <td>Saint-Petersburg</td>\n",
       "      <td>20:58:07</td>\n",
       "      <td>Wednesday</td>\n",
       "    </tr>\n",
       "    <tr>\n",
       "      <th>3</th>\n",
       "      <td>A3DD03C9</td>\n",
       "      <td>Dragons in the Sunset</td>\n",
       "      <td>Fire + Ice</td>\n",
       "      <td>folk</td>\n",
       "      <td>Saint-Petersburg</td>\n",
       "      <td>08:37:09</td>\n",
       "      <td>Monday</td>\n",
       "    </tr>\n",
       "    <tr>\n",
       "      <th>4</th>\n",
       "      <td>E2DC1FAE</td>\n",
       "      <td>Soul People</td>\n",
       "      <td>Space Echo</td>\n",
       "      <td>dance</td>\n",
       "      <td>Moscow</td>\n",
       "      <td>08:34:34</td>\n",
       "      <td>Monday</td>\n",
       "    </tr>\n",
       "    <tr>\n",
       "      <th>5</th>\n",
       "      <td>842029A1</td>\n",
       "      <td>Преданная</td>\n",
       "      <td>IMPERVTOR</td>\n",
       "      <td>rusrap</td>\n",
       "      <td>Saint-Petersburg</td>\n",
       "      <td>13:09:41</td>\n",
       "      <td>Friday</td>\n",
       "    </tr>\n",
       "    <tr>\n",
       "      <th>6</th>\n",
       "      <td>4CB90AA5</td>\n",
       "      <td>True</td>\n",
       "      <td>Roman Messer</td>\n",
       "      <td>dance</td>\n",
       "      <td>Moscow</td>\n",
       "      <td>13:00:07</td>\n",
       "      <td>Wednesday</td>\n",
       "    </tr>\n",
       "    <tr>\n",
       "      <th>7</th>\n",
       "      <td>F03E1C1F</td>\n",
       "      <td>Feeling This Way</td>\n",
       "      <td>Polina Griffith</td>\n",
       "      <td>dance</td>\n",
       "      <td>Moscow</td>\n",
       "      <td>20:47:49</td>\n",
       "      <td>Wednesday</td>\n",
       "    </tr>\n",
       "    <tr>\n",
       "      <th>8</th>\n",
       "      <td>8FA1D3BE</td>\n",
       "      <td>И вновь продолжается бой</td>\n",
       "      <td>NaN</td>\n",
       "      <td>ruspop</td>\n",
       "      <td>Moscow</td>\n",
       "      <td>09:17:40</td>\n",
       "      <td>Friday</td>\n",
       "    </tr>\n",
       "    <tr>\n",
       "      <th>9</th>\n",
       "      <td>E772D5C0</td>\n",
       "      <td>Pessimist</td>\n",
       "      <td>NaN</td>\n",
       "      <td>dance</td>\n",
       "      <td>Saint-Petersburg</td>\n",
       "      <td>21:20:49</td>\n",
       "      <td>Wednesday</td>\n",
       "    </tr>\n",
       "  </tbody>\n",
       "</table>\n",
       "</div>"
      ],
      "text/plain": [
       "     userID                        Track            artist   genre  \\\n",
       "0  FFB692EC            Kamigata To Boots  The Mass Missile    rock   \n",
       "1  55204538  Delayed Because of Accident  Andreas Rönnberg    rock   \n",
       "2    20EC38            Funiculì funiculà       Mario Lanza     pop   \n",
       "3  A3DD03C9        Dragons in the Sunset        Fire + Ice    folk   \n",
       "4  E2DC1FAE                  Soul People        Space Echo   dance   \n",
       "5  842029A1                    Преданная         IMPERVTOR  rusrap   \n",
       "6  4CB90AA5                         True      Roman Messer   dance   \n",
       "7  F03E1C1F             Feeling This Way   Polina Griffith   dance   \n",
       "8  8FA1D3BE     И вновь продолжается бой               NaN  ruspop   \n",
       "9  E772D5C0                    Pessimist               NaN   dance   \n",
       "\n",
       "             City        time        Day  \n",
       "0  Saint-Petersburg  20:28:33  Wednesday  \n",
       "1            Moscow  14:07:09     Friday  \n",
       "2  Saint-Petersburg  20:58:07  Wednesday  \n",
       "3  Saint-Petersburg  08:37:09     Monday  \n",
       "4            Moscow  08:34:34     Monday  \n",
       "5  Saint-Petersburg  13:09:41     Friday  \n",
       "6            Moscow  13:00:07  Wednesday  \n",
       "7            Moscow  20:47:49  Wednesday  \n",
       "8            Moscow  09:17:40     Friday  \n",
       "9  Saint-Petersburg  21:20:49  Wednesday  "
      ]
     },
     "execution_count": 3,
     "metadata": {},
     "output_type": "execute_result"
    }
   ],
   "source": [
    "# read the data file and save it to df\n",
    "df = pd.read_csv('yandex_music_project.csv', index_col=[0])\n",
    "df.head(10)"
   ]
  },
  {
   "cell_type": "code",
   "execution_count": 4,
   "metadata": {
    "id": "DSf2kIb-_Zct"
   },
   "outputs": [
    {
     "name": "stdout",
     "output_type": "stream",
     "text": [
      "<class 'pandas.core.frame.DataFrame'>\n",
      "Int64Index: 65079 entries, 0 to 65078\n",
      "Data columns (total 7 columns):\n",
      " #   Column    Non-Null Count  Dtype \n",
      "---  ------    --------------  ----- \n",
      " 0     userID  65079 non-null  object\n",
      " 1   Track     63848 non-null  object\n",
      " 2   artist    57876 non-null  object\n",
      " 3   genre     63881 non-null  object\n",
      " 4     City    65079 non-null  object\n",
      " 5   time      65079 non-null  object\n",
      " 6   Day       65079 non-null  object\n",
      "dtypes: object(7)\n",
      "memory usage: 4.0+ MB\n"
     ]
    }
   ],
   "source": [
    "# get general information about the data in table df\n",
    "df.info()"
   ]
  },
  {
   "cell_type": "markdown",
   "metadata": {
    "id": "TaQ2Iwbr_Zct"
   },
   "source": [
    "There are seven columns in the table. The data type in all columns is `object`.\n",
    "\n",
    "According to the data documentation:\n",
    "* `userID` - user ID;\n",
    "* `Track` - track name;  \n",
    "* `artist` - artist name;\n",
    "* `genre` - genre name;\n",
    "* `City` - user's city;\n",
    "* `time` - start time of listening;\n",
    "* `Day` - day of the week\n",
    "\n",
    "We also have gaps in the three columns."
   ]
  },
  {
   "cell_type": "markdown",
   "metadata": {
    "id": "MCB6-dXG_Zct"
   },
   "source": [
    "### Outputs\n",
    "\n",
    "Each row in the table contains data about the track you listened to. Some of the columns describe the song itself: title, artist, and genre. The rest of the data tells about the user: what city the user is from, when the user listened to the music. \n",
    "\n",
    "It can be tentatively stated that, the data is sufficient to test hypotheses. But there are omissions in the data, and there are discrepancies with good style in the names of the speakers.\n",
    "\n",
    "To move forward, the problems in the data need to be corrected."
   ]
  },
  {
   "cell_type": "markdown",
   "metadata": {
    "id": "SjYF6Ub9_Zct"
   },
   "source": [
    "## Data preprocessing"
   ]
  },
  {
   "cell_type": "markdown",
   "metadata": {
    "id": "dIaKXr29_Zct"
   },
   "source": [
    "### Header style"
   ]
  },
  {
   "cell_type": "code",
   "execution_count": 6,
   "metadata": {
    "code_folding": [],
    "id": "oKOTdF_Q_Zct",
    "scrolled": true
   },
   "outputs": [
    {
     "data": {
      "text/plain": [
       "Index(['  userID', 'Track', 'artist', 'genre', '  City  ', 'time', 'Day'], dtype='object')"
      ]
     },
     "execution_count": 6,
     "metadata": {},
     "output_type": "execute_result"
    }
   ],
   "source": [
    "# list of column names of the table df\n",
    "df.columns"
   ]
  },
  {
   "cell_type": "markdown",
   "metadata": {
    "id": "zj5534cv_Zct"
   },
   "source": [
    "Let's rename the columns for easy work."
   ]
  },
  {
   "cell_type": "code",
   "execution_count": 7,
   "metadata": {},
   "outputs": [
    {
     "data": {
      "text/plain": [
       "Index(['user_id', 'track', 'artist', 'genre', 'city', 'time', 'day'], dtype='object')"
      ]
     },
     "execution_count": 7,
     "metadata": {},
     "output_type": "execute_result"
    }
   ],
   "source": [
    "# renaming columns\n",
    "df = df.rename({'  userID': 'user_id', 'Track': 'track', '  City  ': 'city','Day': 'day'}, axis='columns')\n",
    "# check results - list of column names\n",
    "df.columns"
   ]
  },
  {
   "cell_type": "markdown",
   "metadata": {
    "id": "5ISfbcfY_Zct"
   },
   "source": [
    "### Missing values\n",
    "First, let's count how many missing values there are in the table."
   ]
  },
  {
   "cell_type": "code",
   "execution_count": 8,
   "metadata": {
    "id": "RskX29qr_Zct"
   },
   "outputs": [
    {
     "data": {
      "text/plain": [
       "user_id       0\n",
       "track      1231\n",
       "artist     7203\n",
       "genre      1198\n",
       "city          0\n",
       "time          0\n",
       "day           0\n",
       "dtype: int64"
      ]
     },
     "execution_count": 8,
     "metadata": {},
     "output_type": "execute_result"
    }
   ],
   "source": [
    "# skip counting\n",
    "df.isna().sum()"
   ]
  },
  {
   "cell_type": "markdown",
   "metadata": {
    "id": "qubhgnlO_Zct"
   },
   "source": [
    "Not all missing values affect the study. So in `track` and `artist` the omissions are not important for our work. It is enough to replace them with explicit notations.\n",
    "\n",
    "But the omissions in `genre' may interfere with a comparison of musical tastes in Moscow and St. Petersburg. We will have to:\n",
    "* fill in these omissions with explicit designations as well,\n",
    "* assess how much they will damage the calculations."
   ]
  },
  {
   "cell_type": "markdown",
   "metadata": {
    "id": "fSv2laPA_Zct"
   },
   "source": [
    "Replace the missing values in the columns `track`, `artist` and `genre` with the string `'unknown'`. To do this, create a list `columns_to_replace`, loop through its elements with the `for` loop and replace the missing values for each column:"
   ]
  },
  {
   "cell_type": "code",
   "execution_count": 9,
   "metadata": {
    "id": "KplB5qWs_Zct"
   },
   "outputs": [
    {
     "data": {
      "text/plain": [
       "user_id    0\n",
       "track      0\n",
       "artist     0\n",
       "genre      0\n",
       "city       0\n",
       "time       0\n",
       "day        0\n",
       "dtype: int64"
      ]
     },
     "execution_count": 9,
     "metadata": {},
     "output_type": "execute_result"
    }
   ],
   "source": [
    "# loop through the column names and replace missing values with 'unknown'\n",
    "columns_to_replace = ['track', 'artist', 'genre']\n",
    "for column in columns_to_replace:\n",
    "    df[column] = df[column].fillna('unknown')\n",
    "# skip counting\n",
    "df.isna().sum()"
   ]
  },
  {
   "cell_type": "markdown",
   "metadata": {
    "id": "BWKRtBJ3_Zct"
   },
   "source": [
    "### Duplicates\n",
    "Count explicit duplicates in the table with one command:"
   ]
  },
  {
   "cell_type": "code",
   "execution_count": 10,
   "metadata": {
    "id": "36eES_S0_Zct"
   },
   "outputs": [
    {
     "data": {
      "text/plain": [
       "3826"
      ]
     },
     "execution_count": 10,
     "metadata": {},
     "output_type": "execute_result"
    }
   ],
   "source": [
    "# counting obvious duplicates\n",
    "df.duplicated().sum()"
   ]
  },
  {
   "cell_type": "code",
   "execution_count": 11,
   "metadata": {
    "id": "exFHq6tt_Zct"
   },
   "outputs": [
    {
     "data": {
      "text/plain": [
       "0"
      ]
     },
     "execution_count": 11,
     "metadata": {},
     "output_type": "execute_result"
    }
   ],
   "source": [
    "# removal of obvious duplicates (with old indexes deleted and new ones formed)\n",
    "df = df.drop_duplicates().reset_index(drop=True) \n",
    "# check for duplicates\n",
    "df.duplicated().sum()"
   ]
  },
  {
   "cell_type": "markdown",
   "metadata": {
    "id": "eSjWwsOh_Zct"
   },
   "source": [
    "Now get rid of the implicit duplicates in the `genre` column.\n",
    "\n",
    "Display a list of unique genre names, sorted alphabetically. To do this:\n",
    "* retrieve the desired dataframe column, \n",
    "* apply a sorting method to it,\n",
    "* For the sorted column, call the method that returns unique values from the column."
   ]
  },
  {
   "cell_type": "code",
   "execution_count": 12,
   "metadata": {
    "id": "JIUcqzZN_Zct"
   },
   "outputs": [
    {
     "data": {
      "text/plain": [
       "['acid',\n",
       " 'acoustic',\n",
       " 'action',\n",
       " 'adult',\n",
       " 'africa',\n",
       " 'afrikaans',\n",
       " 'alternative',\n",
       " 'alternativepunk',\n",
       " 'ambient',\n",
       " 'americana',\n",
       " 'animated',\n",
       " 'anime',\n",
       " 'arabesk',\n",
       " 'arabic',\n",
       " 'arena',\n",
       " 'argentinetango',\n",
       " 'art',\n",
       " 'audiobook',\n",
       " 'author',\n",
       " 'avantgarde',\n",
       " 'axé',\n",
       " 'baile',\n",
       " 'balkan',\n",
       " 'beats',\n",
       " 'bigroom',\n",
       " 'black',\n",
       " 'bluegrass',\n",
       " 'blues',\n",
       " 'bollywood',\n",
       " 'bossa',\n",
       " 'brazilian',\n",
       " 'breakbeat',\n",
       " 'breaks',\n",
       " 'broadway',\n",
       " 'cantautori',\n",
       " 'cantopop',\n",
       " 'canzone',\n",
       " 'caribbean',\n",
       " 'caucasian',\n",
       " 'celtic',\n",
       " 'chamber',\n",
       " 'chanson',\n",
       " 'children',\n",
       " 'chill',\n",
       " 'chinese',\n",
       " 'choral',\n",
       " 'christian',\n",
       " 'christmas',\n",
       " 'classical',\n",
       " 'classicmetal',\n",
       " 'club',\n",
       " 'colombian',\n",
       " 'comedy',\n",
       " 'conjazz',\n",
       " 'contemporary',\n",
       " 'country',\n",
       " 'cuban',\n",
       " 'dance',\n",
       " 'dancehall',\n",
       " 'dancepop',\n",
       " 'dark',\n",
       " 'death',\n",
       " 'deep',\n",
       " 'deutschrock',\n",
       " 'deutschspr',\n",
       " 'dirty',\n",
       " 'disco',\n",
       " 'dnb',\n",
       " 'documentary',\n",
       " 'downbeat',\n",
       " 'downtempo',\n",
       " 'drum',\n",
       " 'dub',\n",
       " 'dubstep',\n",
       " 'eastern',\n",
       " 'easy',\n",
       " 'electronic',\n",
       " 'electropop',\n",
       " 'emo',\n",
       " 'entehno',\n",
       " 'epicmetal',\n",
       " 'estrada',\n",
       " 'ethnic',\n",
       " 'eurofolk',\n",
       " 'european',\n",
       " 'experimental',\n",
       " 'extrememetal',\n",
       " 'fado',\n",
       " 'fairytail',\n",
       " 'film',\n",
       " 'fitness',\n",
       " 'flamenco',\n",
       " 'folk',\n",
       " 'folklore',\n",
       " 'folkmetal',\n",
       " 'folkrock',\n",
       " 'folktronica',\n",
       " 'forró',\n",
       " 'frankreich',\n",
       " 'französisch',\n",
       " 'french',\n",
       " 'funk',\n",
       " 'future',\n",
       " 'gangsta',\n",
       " 'garage',\n",
       " 'german',\n",
       " 'ghazal',\n",
       " 'gitarre',\n",
       " 'glitch',\n",
       " 'gospel',\n",
       " 'gothic',\n",
       " 'grime',\n",
       " 'grunge',\n",
       " 'gypsy',\n",
       " 'handsup',\n",
       " \"hard'n'heavy\",\n",
       " 'hardcore',\n",
       " 'hardstyle',\n",
       " 'hardtechno',\n",
       " 'hip',\n",
       " 'hip-hop',\n",
       " 'hiphop',\n",
       " 'historisch',\n",
       " 'holiday',\n",
       " 'hop',\n",
       " 'horror',\n",
       " 'house',\n",
       " 'hymn',\n",
       " 'idm',\n",
       " 'independent',\n",
       " 'indian',\n",
       " 'indie',\n",
       " 'indipop',\n",
       " 'industrial',\n",
       " 'inspirational',\n",
       " 'instrumental',\n",
       " 'international',\n",
       " 'irish',\n",
       " 'jam',\n",
       " 'japanese',\n",
       " 'jazz',\n",
       " 'jewish',\n",
       " 'jpop',\n",
       " 'jungle',\n",
       " 'k-pop',\n",
       " 'karadeniz',\n",
       " 'karaoke',\n",
       " 'kayokyoku',\n",
       " 'korean',\n",
       " 'laiko',\n",
       " 'latin',\n",
       " 'latino',\n",
       " 'leftfield',\n",
       " 'local',\n",
       " 'lounge',\n",
       " 'loungeelectronic',\n",
       " 'lovers',\n",
       " 'malaysian',\n",
       " 'mandopop',\n",
       " 'marschmusik',\n",
       " 'meditative',\n",
       " 'mediterranean',\n",
       " 'melodic',\n",
       " 'metal',\n",
       " 'metalcore',\n",
       " 'mexican',\n",
       " 'middle',\n",
       " 'minimal',\n",
       " 'miscellaneous',\n",
       " 'modern',\n",
       " 'mood',\n",
       " 'mpb',\n",
       " 'muslim',\n",
       " 'native',\n",
       " 'neoklassik',\n",
       " 'neue',\n",
       " 'new',\n",
       " 'newage',\n",
       " 'newwave',\n",
       " 'nu',\n",
       " 'nujazz',\n",
       " 'numetal',\n",
       " 'oceania',\n",
       " 'old',\n",
       " 'opera',\n",
       " 'orchestral',\n",
       " 'other',\n",
       " 'piano',\n",
       " 'podcasts',\n",
       " 'pop',\n",
       " 'popdance',\n",
       " 'popelectronic',\n",
       " 'popeurodance',\n",
       " 'poprussian',\n",
       " 'post',\n",
       " 'posthardcore',\n",
       " 'postrock',\n",
       " 'power',\n",
       " 'progmetal',\n",
       " 'progressive',\n",
       " 'psychedelic',\n",
       " 'punjabi',\n",
       " 'punk',\n",
       " 'quebecois',\n",
       " 'ragga',\n",
       " 'ram',\n",
       " 'rancheras',\n",
       " 'rap',\n",
       " 'rave',\n",
       " 'reggae',\n",
       " 'reggaeton',\n",
       " 'regional',\n",
       " 'relax',\n",
       " 'religious',\n",
       " 'retro',\n",
       " 'rhythm',\n",
       " 'rnb',\n",
       " 'rnr',\n",
       " 'rock',\n",
       " 'rockabilly',\n",
       " 'rockalternative',\n",
       " 'rockindie',\n",
       " 'rockother',\n",
       " 'romance',\n",
       " 'roots',\n",
       " 'ruspop',\n",
       " 'rusrap',\n",
       " 'rusrock',\n",
       " 'russian',\n",
       " 'salsa',\n",
       " 'samba',\n",
       " 'scenic',\n",
       " 'schlager',\n",
       " 'self',\n",
       " 'sertanejo',\n",
       " 'shanson',\n",
       " 'shoegazing',\n",
       " 'showtunes',\n",
       " 'singer',\n",
       " 'ska',\n",
       " 'skarock',\n",
       " 'slow',\n",
       " 'smooth',\n",
       " 'soft',\n",
       " 'soul',\n",
       " 'soulful',\n",
       " 'sound',\n",
       " 'soundtrack',\n",
       " 'southern',\n",
       " 'specialty',\n",
       " 'speech',\n",
       " 'spiritual',\n",
       " 'sport',\n",
       " 'stonerrock',\n",
       " 'surf',\n",
       " 'swing',\n",
       " 'synthpop',\n",
       " 'synthrock',\n",
       " 'sängerportrait',\n",
       " 'tango',\n",
       " 'tanzorchester',\n",
       " 'taraftar',\n",
       " 'tatar',\n",
       " 'tech',\n",
       " 'techno',\n",
       " 'teen',\n",
       " 'thrash',\n",
       " 'top',\n",
       " 'traditional',\n",
       " 'tradjazz',\n",
       " 'trance',\n",
       " 'tribal',\n",
       " 'trip',\n",
       " 'triphop',\n",
       " 'tropical',\n",
       " 'türk',\n",
       " 'türkçe',\n",
       " 'ukrrock',\n",
       " 'unknown',\n",
       " 'urban',\n",
       " 'uzbek',\n",
       " 'variété',\n",
       " 'vi',\n",
       " 'videogame',\n",
       " 'vocal',\n",
       " 'western',\n",
       " 'world',\n",
       " 'worldbeat',\n",
       " 'ïîï',\n",
       " 'электроника']"
      ]
     },
     "execution_count": 12,
     "metadata": {},
     "output_type": "execute_result"
    }
   ],
   "source": [
    "# Viewing unique genre titles\n",
    "sorted(df['genre'].unique())"
   ]
  },
  {
   "cell_type": "markdown",
   "metadata": {
    "id": "qej-Qmuo_Zct"
   },
   "source": [
    "We found the following implicit duplicates:\n",
    "* *hip*,\n",
    "* *hop*,\n",
    "* *hip-hop*.\n",
    "\n",
    "To clear them from the table, write function `replace_wrong_genres()` with two parameters: \n",
    "* `wrong_genres` - list of duplicates,\n",
    "* `correct_genre` - the string with the correct value.\n",
    "\n",
    "The function should fix the `genre` column in table `df`: replace each value from the `wrong_genres` list with a value from `correct_genre`."
   ]
  },
  {
   "cell_type": "code",
   "execution_count": 14,
   "metadata": {
    "id": "ErNDkmns_Zct"
   },
   "outputs": [],
   "source": [
    "# Function for replacing implicit duplicates\n",
    "def replace_wrong_genres(wrong_genres, correct_genre):\n",
    "    for genre in wrong_genres:\n",
    "        df['genre'] = df['genre'].replace(genre, correct_genre)"
   ]
  },
  {
   "cell_type": "markdown",
   "metadata": {
    "id": "aDoBJxbA_Zct"
   },
   "source": [
    "Call `replace_wrong_genres()` and give it such arguments that it removes implicit duplicates: instead of `hip`, `hop` and `hip-hop` the table should contain the value `hiphop`:"
   ]
  },
  {
   "cell_type": "code",
   "execution_count": 15,
   "metadata": {
    "id": "YN5i2hpmSo09"
   },
   "outputs": [
    {
     "data": {
      "text/plain": [
       "['acid',\n",
       " 'acoustic',\n",
       " 'action',\n",
       " 'adult',\n",
       " 'africa',\n",
       " 'afrikaans',\n",
       " 'alternative',\n",
       " 'alternativepunk',\n",
       " 'ambient',\n",
       " 'americana',\n",
       " 'animated',\n",
       " 'anime',\n",
       " 'arabesk',\n",
       " 'arabic',\n",
       " 'arena',\n",
       " 'argentinetango',\n",
       " 'art',\n",
       " 'audiobook',\n",
       " 'author',\n",
       " 'avantgarde',\n",
       " 'axé',\n",
       " 'baile',\n",
       " 'balkan',\n",
       " 'beats',\n",
       " 'bigroom',\n",
       " 'black',\n",
       " 'bluegrass',\n",
       " 'blues',\n",
       " 'bollywood',\n",
       " 'bossa',\n",
       " 'brazilian',\n",
       " 'breakbeat',\n",
       " 'breaks',\n",
       " 'broadway',\n",
       " 'cantautori',\n",
       " 'cantopop',\n",
       " 'canzone',\n",
       " 'caribbean',\n",
       " 'caucasian',\n",
       " 'celtic',\n",
       " 'chamber',\n",
       " 'chanson',\n",
       " 'children',\n",
       " 'chill',\n",
       " 'chinese',\n",
       " 'choral',\n",
       " 'christian',\n",
       " 'christmas',\n",
       " 'classical',\n",
       " 'classicmetal',\n",
       " 'club',\n",
       " 'colombian',\n",
       " 'comedy',\n",
       " 'conjazz',\n",
       " 'contemporary',\n",
       " 'country',\n",
       " 'cuban',\n",
       " 'dance',\n",
       " 'dancehall',\n",
       " 'dancepop',\n",
       " 'dark',\n",
       " 'death',\n",
       " 'deep',\n",
       " 'deutschrock',\n",
       " 'deutschspr',\n",
       " 'dirty',\n",
       " 'disco',\n",
       " 'dnb',\n",
       " 'documentary',\n",
       " 'downbeat',\n",
       " 'downtempo',\n",
       " 'drum',\n",
       " 'dub',\n",
       " 'dubstep',\n",
       " 'eastern',\n",
       " 'easy',\n",
       " 'electronic',\n",
       " 'electropop',\n",
       " 'emo',\n",
       " 'entehno',\n",
       " 'epicmetal',\n",
       " 'estrada',\n",
       " 'ethnic',\n",
       " 'eurofolk',\n",
       " 'european',\n",
       " 'experimental',\n",
       " 'extrememetal',\n",
       " 'fado',\n",
       " 'fairytail',\n",
       " 'film',\n",
       " 'fitness',\n",
       " 'flamenco',\n",
       " 'folk',\n",
       " 'folklore',\n",
       " 'folkmetal',\n",
       " 'folkrock',\n",
       " 'folktronica',\n",
       " 'forró',\n",
       " 'frankreich',\n",
       " 'französisch',\n",
       " 'french',\n",
       " 'funk',\n",
       " 'future',\n",
       " 'gangsta',\n",
       " 'garage',\n",
       " 'german',\n",
       " 'ghazal',\n",
       " 'gitarre',\n",
       " 'glitch',\n",
       " 'gospel',\n",
       " 'gothic',\n",
       " 'grime',\n",
       " 'grunge',\n",
       " 'gypsy',\n",
       " 'handsup',\n",
       " \"hard'n'heavy\",\n",
       " 'hardcore',\n",
       " 'hardstyle',\n",
       " 'hardtechno',\n",
       " 'hiphop',\n",
       " 'historisch',\n",
       " 'holiday',\n",
       " 'horror',\n",
       " 'house',\n",
       " 'hymn',\n",
       " 'idm',\n",
       " 'independent',\n",
       " 'indian',\n",
       " 'indie',\n",
       " 'indipop',\n",
       " 'industrial',\n",
       " 'inspirational',\n",
       " 'instrumental',\n",
       " 'international',\n",
       " 'irish',\n",
       " 'jam',\n",
       " 'japanese',\n",
       " 'jazz',\n",
       " 'jewish',\n",
       " 'jpop',\n",
       " 'jungle',\n",
       " 'k-pop',\n",
       " 'karadeniz',\n",
       " 'karaoke',\n",
       " 'kayokyoku',\n",
       " 'korean',\n",
       " 'laiko',\n",
       " 'latin',\n",
       " 'latino',\n",
       " 'leftfield',\n",
       " 'local',\n",
       " 'lounge',\n",
       " 'loungeelectronic',\n",
       " 'lovers',\n",
       " 'malaysian',\n",
       " 'mandopop',\n",
       " 'marschmusik',\n",
       " 'meditative',\n",
       " 'mediterranean',\n",
       " 'melodic',\n",
       " 'metal',\n",
       " 'metalcore',\n",
       " 'mexican',\n",
       " 'middle',\n",
       " 'minimal',\n",
       " 'miscellaneous',\n",
       " 'modern',\n",
       " 'mood',\n",
       " 'mpb',\n",
       " 'muslim',\n",
       " 'native',\n",
       " 'neoklassik',\n",
       " 'neue',\n",
       " 'new',\n",
       " 'newage',\n",
       " 'newwave',\n",
       " 'nu',\n",
       " 'nujazz',\n",
       " 'numetal',\n",
       " 'oceania',\n",
       " 'old',\n",
       " 'opera',\n",
       " 'orchestral',\n",
       " 'other',\n",
       " 'piano',\n",
       " 'podcasts',\n",
       " 'pop',\n",
       " 'popdance',\n",
       " 'popelectronic',\n",
       " 'popeurodance',\n",
       " 'poprussian',\n",
       " 'post',\n",
       " 'posthardcore',\n",
       " 'postrock',\n",
       " 'power',\n",
       " 'progmetal',\n",
       " 'progressive',\n",
       " 'psychedelic',\n",
       " 'punjabi',\n",
       " 'punk',\n",
       " 'quebecois',\n",
       " 'ragga',\n",
       " 'ram',\n",
       " 'rancheras',\n",
       " 'rap',\n",
       " 'rave',\n",
       " 'reggae',\n",
       " 'reggaeton',\n",
       " 'regional',\n",
       " 'relax',\n",
       " 'religious',\n",
       " 'retro',\n",
       " 'rhythm',\n",
       " 'rnb',\n",
       " 'rnr',\n",
       " 'rock',\n",
       " 'rockabilly',\n",
       " 'rockalternative',\n",
       " 'rockindie',\n",
       " 'rockother',\n",
       " 'romance',\n",
       " 'roots',\n",
       " 'ruspop',\n",
       " 'rusrap',\n",
       " 'rusrock',\n",
       " 'russian',\n",
       " 'salsa',\n",
       " 'samba',\n",
       " 'scenic',\n",
       " 'schlager',\n",
       " 'self',\n",
       " 'sertanejo',\n",
       " 'shanson',\n",
       " 'shoegazing',\n",
       " 'showtunes',\n",
       " 'singer',\n",
       " 'ska',\n",
       " 'skarock',\n",
       " 'slow',\n",
       " 'smooth',\n",
       " 'soft',\n",
       " 'soul',\n",
       " 'soulful',\n",
       " 'sound',\n",
       " 'soundtrack',\n",
       " 'southern',\n",
       " 'specialty',\n",
       " 'speech',\n",
       " 'spiritual',\n",
       " 'sport',\n",
       " 'stonerrock',\n",
       " 'surf',\n",
       " 'swing',\n",
       " 'synthpop',\n",
       " 'synthrock',\n",
       " 'sängerportrait',\n",
       " 'tango',\n",
       " 'tanzorchester',\n",
       " 'taraftar',\n",
       " 'tatar',\n",
       " 'tech',\n",
       " 'techno',\n",
       " 'teen',\n",
       " 'thrash',\n",
       " 'top',\n",
       " 'traditional',\n",
       " 'tradjazz',\n",
       " 'trance',\n",
       " 'tribal',\n",
       " 'trip',\n",
       " 'triphop',\n",
       " 'tropical',\n",
       " 'türk',\n",
       " 'türkçe',\n",
       " 'ukrrock',\n",
       " 'unknown',\n",
       " 'urban',\n",
       " 'uzbek',\n",
       " 'variété',\n",
       " 'vi',\n",
       " 'videogame',\n",
       " 'vocal',\n",
       " 'western',\n",
       " 'world',\n",
       " 'worldbeat',\n",
       " 'ïîï',\n",
       " 'электроника']"
      ]
     },
     "execution_count": 15,
     "metadata": {},
     "output_type": "execute_result"
    }
   ],
   "source": [
    "# Eliminate implicit duplicates\n",
    "replace_wrong_genres(['hip', 'hop', 'hip-hop'],'hiphop')\n",
    "# Checking for implicit duplicates\n",
    "sorted(df['genre'].unique())"
   ]
  },
  {
   "cell_type": "markdown",
   "metadata": {
    "id": "jz6a9-7HQUDd"
   },
   "source": [
    "**Findings**.\n",
    "\n",
    "Preprocessing found three problems in the data:\n",
    "\n",
    "- header style irregularities,\n",
    "- missing values,\n",
    "- duplicates - explicit and implicit.\n",
    "\n",
    "We corrected the headers to make the table easier to work with. Without duplicates, the study will be more accurate.\n",
    "\n",
    "We replaced the missing values with `'unknown'`. It remains to be seen whether the omissions in the `genre` column will harm the study.\n",
    "\n",
    "Now we can move on to testing hypotheses. "
   ]
  },
  {
   "cell_type": "markdown",
   "metadata": {
    "id": "WttZHXH0SqKk"
   },
   "source": [
    "## Hypothesis testing"
   ]
  },
  {
   "cell_type": "markdown",
   "metadata": {
    "id": "Im936VVi_Zcu"
   },
   "source": [
    "### Comparison of the behavior of users of the two capitals"
   ]
  },
  {
   "cell_type": "markdown",
   "metadata": {
    "id": "nwt_MuaL_Zcu"
   },
   "source": [
    "The first hypothesis states that users listen to music differently in Moscow and St. Petersburg. Let's test this hypothesis using data from three days of the week - Monday, Wednesday, and Friday. To do this:\n",
    "\n",
    "* Let's divide Moscow and St. Petersburg users.\n",
    "* Let's compare how many tracks each group of users listened to on Monday, Wednesday and Friday."
   ]
  },
  {
   "cell_type": "code",
   "execution_count": 16,
   "metadata": {
    "id": "0_Qs96oh_Zcu"
   },
   "outputs": [
    {
     "data": {
      "text/plain": [
       "city\n",
       "Moscow              42741\n",
       "Saint-Petersburg    18512\n",
       "Name: user_id, dtype: int64"
      ]
     },
     "execution_count": 16,
     "metadata": {},
     "output_type": "execute_result"
    }
   ],
   "source": [
    "# Counting auditions in each city\n",
    "df.groupby('city')['user_id'].count() "
   ]
  },
  {
   "cell_type": "markdown",
   "metadata": {
    "id": "dzli3w8o_Zcu"
   },
   "source": [
    "There are more listens in Moscow than in St. Petersburg. This does not mean that Moscow users listen to music more often. It's just that there are more users in Moscow."
   ]
  },
  {
   "cell_type": "code",
   "execution_count": 19,
   "metadata": {
    "id": "uZMKjiJz_Zcu"
   },
   "outputs": [
    {
     "data": {
      "text/plain": [
       "day\n",
       "Friday       21840\n",
       "Monday       21354\n",
       "Wednesday    18059\n",
       "Name: user_id, dtype: int64"
      ]
     },
     "execution_count": 19,
     "metadata": {},
     "output_type": "execute_result"
    }
   ],
   "source": [
    "# Counting auditions on each of the three days\n",
    "df.groupby('day')['user_id'].count()"
   ]
  },
  {
   "cell_type": "markdown",
   "metadata": {
    "id": "POzs8bGa_Zcu"
   },
   "source": [
    "On average, users from the two cities are less active on Wednesdays. But the picture can change if you look at each city separately.\n",
    "\n",
    "Let's create a function `number_tracks()`, which will count auditions for a given day and city. It will need two parameters:\n",
    "* day of the week,\n",
    "* city name.\n",
    "\n",
    "In the function save into a variable rows of the original table, which have the value:\n",
    "  * in the `day` column is equal to the parameter `day`,\n",
    "  * in the `city` column is equal to the `city` parameter.\n",
    "\n",
    "To do this we apply sequential filtering with logical indexing.\n",
    "\n",
    "Then count the values in the column `user_id` of the resulting table. The result will be saved in a new variable. Let's return this variable from the function."
   ]
  },
  {
   "cell_type": "code",
   "execution_count": 20,
   "metadata": {
    "id": "Nz3GdQB1_Zcu"
   },
   "outputs": [],
   "source": [
    "# <create function number_tracks()>  \n",
    "# The function is declared with two parameters: day, city.\n",
    "def number_tracks(day,city):\n",
    "# In the variable track_list, those rows of the table df, for which \n",
    "# value in the 'day' column is equal to the day parameter and simultaneously to the value\n",
    "# the value in the 'city' column is the same as the 'city' parameter (use a sequential filtering using a # logical indexing).\n",
    "    track_list = df[(df['day']==day)&(df['city']==city)]\n",
    "# The track_list_count variable stores the number of 'user_id' column values,\n",
    "# as calculated by count() for the track_list table.\n",
    "    track_list_count = track_list['user_id'].count()\n",
    "# The function returns a number - track_list_count value.\n",
    "    return track_list_count"
   ]
  },
  {
   "cell_type": "markdown",
   "metadata": {
    "id": "ytf7xFrFJQ2r"
   },
   "source": [
    "Let's call `number_tracks()` six times, changing the values of the parameters, so as to obtain data for each city on each of the three days."
   ]
  },
  {
   "cell_type": "code",
   "execution_count": 21,
   "metadata": {
    "id": "rJcRATNQ_Zcu"
   },
   "outputs": [
    {
     "data": {
      "text/plain": [
       "15740"
      ]
     },
     "execution_count": 21,
     "metadata": {},
     "output_type": "execute_result"
    }
   ],
   "source": [
    "number_tracks('Monday', 'Moscow') # number of auditions in Moscow on Mondays"
   ]
  },
  {
   "cell_type": "code",
   "execution_count": 22,
   "metadata": {
    "id": "hq_ncZ5T_Zcu"
   },
   "outputs": [
    {
     "data": {
      "text/plain": [
       "5614"
      ]
     },
     "execution_count": 22,
     "metadata": {},
     "output_type": "execute_result"
    }
   ],
   "source": [
    "number_tracks('Monday', 'Saint-Petersburg') # number of auditions in Saint-Petersburg on Mondays"
   ]
  },
  {
   "cell_type": "code",
   "execution_count": 23,
   "metadata": {
    "id": "_NTy2VPU_Zcu"
   },
   "outputs": [
    {
     "data": {
      "text/plain": [
       "11056"
      ]
     },
     "execution_count": 23,
     "metadata": {},
     "output_type": "execute_result"
    }
   ],
   "source": [
    "number_tracks('Wednesday', 'Moscow') # number of auditions in Moscow on Wednesdays"
   ]
  },
  {
   "cell_type": "code",
   "execution_count": 24,
   "metadata": {
    "id": "j2y3TAwo_Zcu"
   },
   "outputs": [
    {
     "data": {
      "text/plain": [
       "7003"
      ]
     },
     "execution_count": 24,
     "metadata": {},
     "output_type": "execute_result"
    }
   ],
   "source": [
    "number_tracks('Wednesday', 'Saint-Petersburg') # number of auditions in Saint-Petersburg on Wednesdays"
   ]
  },
  {
   "cell_type": "code",
   "execution_count": 25,
   "metadata": {
    "id": "vYDw5u_K_Zcu"
   },
   "outputs": [
    {
     "data": {
      "text/plain": [
       "15945"
      ]
     },
     "execution_count": 25,
     "metadata": {},
     "output_type": "execute_result"
    }
   ],
   "source": [
    "number_tracks('Friday', 'Moscow') # number of auditions in Moscow on Fridays"
   ]
  },
  {
   "cell_type": "code",
   "execution_count": 26,
   "metadata": {
    "id": "8_yzFtW3_Zcu"
   },
   "outputs": [
    {
     "data": {
      "text/plain": [
       "5895"
      ]
     },
     "execution_count": 26,
     "metadata": {},
     "output_type": "execute_result"
    }
   ],
   "source": [
    "number_tracks('Friday', 'Saint-Petersburg')# number of auditions in Saint-Petersburg on Fridays"
   ]
  },
  {
   "cell_type": "code",
   "execution_count": 28,
   "metadata": {
    "id": "APAcLpOr_Zcu"
   },
   "outputs": [
    {
     "data": {
      "text/html": [
       "<div>\n",
       "<style scoped>\n",
       "    .dataframe tbody tr th:only-of-type {\n",
       "        vertical-align: middle;\n",
       "    }\n",
       "\n",
       "    .dataframe tbody tr th {\n",
       "        vertical-align: top;\n",
       "    }\n",
       "\n",
       "    .dataframe thead th {\n",
       "        text-align: right;\n",
       "    }\n",
       "</style>\n",
       "<table border=\"1\" class=\"dataframe\">\n",
       "  <thead>\n",
       "    <tr style=\"text-align: right;\">\n",
       "      <th></th>\n",
       "      <th>city</th>\n",
       "      <th>monday</th>\n",
       "      <th>wednesday</th>\n",
       "      <th>friday</th>\n",
       "    </tr>\n",
       "  </thead>\n",
       "  <tbody>\n",
       "    <tr>\n",
       "      <th>0</th>\n",
       "      <td>Moscow</td>\n",
       "      <td>15740</td>\n",
       "      <td>11056</td>\n",
       "      <td>15945</td>\n",
       "    </tr>\n",
       "    <tr>\n",
       "      <th>1</th>\n",
       "      <td>Saint-Petersburg</td>\n",
       "      <td>5614</td>\n",
       "      <td>7003</td>\n",
       "      <td>5895</td>\n",
       "    </tr>\n",
       "  </tbody>\n",
       "</table>\n",
       "</div>"
      ],
      "text/plain": [
       "               city  monday  wednesday  friday\n",
       "0            Moscow   15740      11056   15945\n",
       "1  Saint-Petersburg    5614       7003    5895"
      ]
     },
     "execution_count": 28,
     "metadata": {},
     "output_type": "execute_result"
    }
   ],
   "source": [
    "#create a dataframe with wiretap data\n",
    "data = [['Moscow',15740,11056,15945],['Saint-Petersburg',5614,7003,5895]]\n",
    "columns = ['city', 'monday', 'wednesday', 'friday']\n",
    "pd.DataFrame(data=data,columns=columns)"
   ]
  },
  {
   "cell_type": "markdown",
   "metadata": {
    "id": "-EgPIHYu_Zcu"
   },
   "source": [
    "**Findings**.\n",
    "\n",
    "The data show the difference in user behavior:\n",
    "\n",
    "- In Moscow, listening peaks on Mondays and Fridays, with a noticeable drop on Wednesdays.\n",
    "- In St. Petersburg, on the contrary, more music is listened to on Wednesdays. The activity on Monday and Friday here is almost equally inferior to that on Wednesdays.\n",
    "\n",
    "So, the data speak in favor of the first hypothesis."
   ]
  },
  {
   "cell_type": "markdown",
   "metadata": {
    "id": "atZAxtq4_Zcu"
   },
   "source": [
    "### Music at the beginning and end of the week"
   ]
  },
  {
   "cell_type": "markdown",
   "metadata": {
    "id": "eXrQqXFH_Zcu"
   },
   "source": [
    "According to the second hypothesis, on Monday morning in Moscow some genres prevail and in St. Petersburg other genres prevail. Likewise, Friday nights are dominated by different genres, depending on the city."
   ]
  },
  {
   "cell_type": "markdown",
   "metadata": {
    "id": "S8UcW6Hw_Zcu"
   },
   "source": [
    "Let's save the tables with the data into two variables:\n",
    "* for Moscow - in `moscow_general`;\n",
    "* for St. Petersburg - in `spb_general`."
   ]
  },
  {
   "cell_type": "code",
   "execution_count": 29,
   "metadata": {
    "id": "qeaFfM_P_Zcu"
   },
   "outputs": [],
   "source": [
    "# get table moscow_general from those rows of table df, \n",
    "# for which the value in the 'city' column is 'Moscow'.\n",
    "moscow_general = df[df['city']=='Moscow'] "
   ]
  },
  {
   "cell_type": "code",
   "execution_count": 30,
   "metadata": {
    "id": "ORaVRKto_Zcu"
   },
   "outputs": [],
   "source": [
    "# get table spb_general from those rows of table df,\n",
    "# for which the value in the 'city' column is 'Saint-Petersburg'\n",
    "spb_general = df[df['city']=='Saint-Petersburg'] "
   ]
  },
  {
   "cell_type": "markdown",
   "metadata": {
    "id": "MEJV-CX2_Zcu"
   },
   "source": [
    "Create function `genre_weekday()` with four parameters:\n",
    "* table (dataframe) with data,\n",
    "* weekday,\n",
    "* initial timestamp in format 'hh:mm', \n",
    "* last time stamp in 'hh:mm' format.\n",
    "\n",
    "The function should return information about the top 10 genres of the tracks that were listened to on the specified day, between the two time stamps."
   ]
  },
  {
   "cell_type": "code",
   "execution_count": 31,
   "metadata": {
    "id": "laJT9BYl_Zcu"
   },
   "outputs": [],
   "source": [
    "# Definition of genre_weekday() with parameters table, day, time1, time2,\n",
    "# which returns information about the most popular genres on the specified day at the\n",
    "# the specified time:\n",
    "def genre_weekday(table,day,time1,time2):\n",
    "# 1) the variable genre_df stores into the variable genre_df those lines of the passed dataframe table for\n",
    "# which have at the same time:\n",
    "# - the value in the day column equals the value of the day argument\n",
    "# - the value in the time column is greater than the argument time1\n",
    "# - the value in the time column is less than the argument time2\n",
    "# Use sequential filtering with logical indexing.\n",
    "    genre_df = table[(table['day']==day)&(table['time']>time1)&(table['time']<time2)]\n",
    "# 2) group the dataframe genre_df by the column genre, take one of its\n",
    "# column and count() the number of records for each\n",
    "# genres present, and write the resulting Series into the variable\n",
    "# genre_df_count\n",
    "    genre_df_count = genre_df.groupby('genre')['user_id'].count()\n",
    "# 3) sort genre_df_count by decreasing occurrence and save\n",
    "# into the genre_df_sorted variable\n",
    "    genre_df_sorted = genre_df_count.sort_values(ascending = False)\n",
    "# 4) return the Series of the first 10 values of genre_df_sorted, these will be the top 10\n",
    "# popular genres (on the specified day, at the specified time)\n",
    "    return genre_df_sorted.head(10)"
   ]
  },
  {
   "cell_type": "markdown",
   "metadata": {
    "id": "la2s2_PF_Zcu"
   },
   "source": [
    "Let's compare the results of function `genre_weekday()` for Moscow and St. Petersburg on Monday morning (from 7:00 to 11:00) and Friday night (from 17:00 to 23:00):"
   ]
  },
  {
   "cell_type": "code",
   "execution_count": 33,
   "metadata": {
    "id": "yz7itPUQ_Zcu"
   },
   "outputs": [
    {
     "data": {
      "text/plain": [
       "genre\n",
       "pop            781\n",
       "dance          549\n",
       "electronic     480\n",
       "rock           474\n",
       "hiphop         286\n",
       "ruspop         186\n",
       "world          181\n",
       "rusrap         175\n",
       "alternative    164\n",
       "unknown        161\n",
       "Name: user_id, dtype: int64"
      ]
     },
     "execution_count": 33,
     "metadata": {},
     "output_type": "execute_result"
    }
   ],
   "source": [
    "# function call for Monday morning in Moscow (instead of df - table moscow_general)\n",
    "# objects storing time are strings and are compared as strings\n",
    "# example call: genre_weekday(moscow_general, 'Monday', '07:00', '11:00')\n",
    "genre_weekday(moscow_general, 'Monday', '07:00', '11:00')"
   ]
  },
  {
   "cell_type": "code",
   "execution_count": 45,
   "metadata": {
    "id": "kwUcHPdy_Zcu"
   },
   "outputs": [
    {
     "data": {
      "text/plain": [
       "genre\n",
       "pop            218\n",
       "dance          182\n",
       "rock           162\n",
       "electronic     147\n",
       "hiphop          80\n",
       "ruspop          64\n",
       "alternative     58\n",
       "rusrap          55\n",
       "jazz            44\n",
       "classical       40\n",
       "Name: user_id, dtype: int64"
      ]
     },
     "execution_count": 45,
     "metadata": {},
     "output_type": "execute_result"
    }
   ],
   "source": [
    "# function call for Monday morning in St. Petersburg (instead of df - table spb_general)\n",
    "genre_weekday(spb_general, 'Monday', '07:00', '11:00') "
   ]
  },
  {
   "cell_type": "code",
   "execution_count": 46,
   "metadata": {
    "id": "EzXVRE1o_Zcu"
   },
   "outputs": [
    {
     "data": {
      "text/plain": [
       "genre\n",
       "pop            713\n",
       "rock           517\n",
       "dance          495\n",
       "electronic     482\n",
       "hiphop         273\n",
       "world          208\n",
       "ruspop         170\n",
       "alternative    163\n",
       "classical      163\n",
       "rusrap         142\n",
       "Name: user_id, dtype: int64"
      ]
     },
     "execution_count": 46,
     "metadata": {},
     "output_type": "execute_result"
    }
   ],
   "source": [
    "# function call for Friday night in Moscow\n",
    "genre_weekday(moscow_general, 'Friday', '17:00', '23:00')"
   ]
  },
  {
   "cell_type": "code",
   "execution_count": 34,
   "metadata": {
    "id": "JZaEKu5v_Zcu",
    "scrolled": true
   },
   "outputs": [
    {
     "data": {
      "text/plain": [
       "genre\n",
       "pop            256\n",
       "electronic     216\n",
       "rock           216\n",
       "dance          210\n",
       "hiphop          97\n",
       "alternative     63\n",
       "jazz            61\n",
       "classical       60\n",
       "rusrap          59\n",
       "world           54\n",
       "Name: user_id, dtype: int64"
      ]
     },
     "execution_count": 34,
     "metadata": {},
     "output_type": "execute_result"
    }
   ],
   "source": [
    "# function call for Friday night in St. Petersburg\n",
    "genre_weekday(spb_general, 'Friday', '17:00', '23:00')"
   ]
  },
  {
   "cell_type": "markdown",
   "metadata": {
    "id": "wrCe4MNX_Zcu"
   },
   "source": [
    "**Conclusions**.\n",
    "\n",
    "If you compare the top 10 genres on a Monday morning, you can draw these conclusions:\n",
    "\n",
    "1. In Moscow and St. Petersburg they listen to similar music. The only difference is that the Moscow rating includes the \"world\" genre, and the St. Petersburg rating includes jazz and classical music.\n",
    "\n",
    "2. In Moscow there were so many missing values, that ``unknown'`` took tenth place among the most popular genres. This means that the missing values occupy a significant share of the data and threaten the credibility of the study.\n",
    "\n",
    "Friday night doesn't change that picture. Some genres go a little higher, others go down, but overall the top 10 remains the same.\n",
    "\n",
    "Thus, the second hypothesis is only partially confirmed:\n",
    "* Users listen to similar music at the beginning of the week and at the end.\n",
    "* The difference between Moscow and St. Petersburg is not very pronounced. In Moscow they listen to Russian popular music more often, in St. Petersburg - jazz.\n",
    "\n",
    "However, the omissions in the data cast doubt on this result. There are so many of them in Moscow that the top 10 ranking could look different if it were not for the missing data on genres."
   ]
  },
  {
   "cell_type": "markdown",
   "metadata": {
    "id": "JolODAqr_Zcu"
   },
   "source": [
    "### Genre preferences in Moscow and St. Petersburg\n",
    "\n",
    "Hypothesis: St. Petersburg is the rap capital, music of this genre is listened to there more often than in Moscow.  And Moscow is the city of contrasts, in which, nevertheless, pop music prevails."
   ]
  },
  {
   "cell_type": "markdown",
   "metadata": {
    "id": "DlegSvaT_Zcu"
   },
   "source": [
    "Let's group the table `moscow_general` by genre and count listening to tracks of each genre using `count()` method. Then sort the result in descending order and save it to the table `moscow_genres`."
   ]
  },
  {
   "cell_type": "code",
   "execution_count": 35,
   "metadata": {
    "id": "r19lIPke_Zcu"
   },
   "outputs": [
    {
     "data": {
      "text/plain": [
       "genre\n",
       "pop            5892\n",
       "dance          4435\n",
       "rock           3965\n",
       "electronic     3786\n",
       "hiphop         2096\n",
       "classical      1616\n",
       "world          1432\n",
       "alternative    1379\n",
       "ruspop         1372\n",
       "rusrap         1161\n",
       "Name: genre, dtype: int64"
      ]
     },
     "execution_count": 35,
     "metadata": {},
     "output_type": "execute_result"
    }
   ],
   "source": [
    "# one line: grouping moscow_general table by 'genre' column, \n",
    "# count the number of 'genre' values in that grouping using count(), \n",
    "# sort the resulting Series in descending order and store it in moscow_genres\n",
    "moscow_genres = moscow_general.groupby('genre')['genre'].count().sort_values(ascending = False)\n",
    "# view first 10 lines of moscow_genres\n",
    "moscow_genres.head(10)"
   ]
  },
  {
   "cell_type": "markdown",
   "metadata": {
    "id": "cnPG2vnN_Zcv"
   },
   "source": [
    "Now repeat the same for St. Petersburg."
   ]
  },
  {
   "cell_type": "code",
   "execution_count": 36,
   "metadata": {
    "id": "gluLIpE7_Zcv"
   },
   "outputs": [
    {
     "data": {
      "text/plain": [
       "genre\n",
       "pop            2431\n",
       "dance          1932\n",
       "rock           1879\n",
       "electronic     1736\n",
       "hiphop          960\n",
       "alternative     649\n",
       "classical       646\n",
       "rusrap          564\n",
       "ruspop          538\n",
       "world           515\n",
       "Name: genre, dtype: int64"
      ]
     },
     "execution_count": 36,
     "metadata": {},
     "output_type": "execute_result"
    }
   ],
   "source": [
    "# one line: grouping the spb_general table by the 'genre' column, \n",
    "# count the number of 'genre' values in this grouping using count(), \n",
    "# sorting the resulting Series in descending order and saving it to spb_genres\n",
    "spb_genres = spb_general.groupby('genre')['genre'].count().sort_values(ascending = False)\n",
    "# view the first 10 lines of spb_genres\n",
    "spb_genres.head(10)"
   ]
  },
  {
   "cell_type": "markdown",
   "metadata": {
    "id": "nVhnJEm__Zcv"
   },
   "source": [
    "**Findings**\n",
    "\n",
    "The hypothesis was partly confirmed:\n",
    "* Pop music is the most popular genre in Moscow, as the hypothesis suggested. Moreover, there is a close genre - Russian popular music - in the top 10 genres.\n",
    "* Contrary to expectations, rap is equally popular in Moscow and St. Petersburg. "
   ]
  },
  {
   "cell_type": "markdown",
   "metadata": {
    "id": "ykKQ0N65_Zcv"
   },
   "source": [
    "## Results of the study"
   ]
  },
  {
   "cell_type": "markdown",
   "metadata": {
    "id": "tjUwbHb3_Zcv"
   },
   "source": [
    "We tested three hypotheses and found:\n",
    "\n",
    "1. The day of the week has a different effect on user activity in Moscow and St. Petersburg. \n",
    "\n",
    "The first hypothesis was fully confirmed.\n",
    "\n",
    "2. Musical preferences do not change much during the week, be it in Moscow or St. Petersburg. Slight differences are noticeable at the beginning of the week, on Mondays:\n",
    "* In Moscow they listen to \"world\" music,\n",
    "* In St. Petersburg they listen to jazz and classical music.\n",
    "\n",
    "Thus, the second hypothesis was only partly confirmed. The result might have been different if there had not been an omission in the data.\n",
    "\n",
    "3. 3. The tastes of Moscow and St. Petersburg users have more in common than in difference. Contrary to expectations, genre preferences in St. Petersburg resembled those in Moscow.\n",
    "\n",
    "The third hypothesis was not confirmed. If there are differences in preferences, they are not noticeable for the bulk of the users."
   ]
  }
 ],
 "metadata": {
  "ExecuteTimeLog": [
   {
    "duration": 968,
    "start_time": "2021-10-25T08:27:40.455Z"
   },
   {
    "duration": 1061,
    "start_time": "2021-10-25T08:29:40.656Z"
   },
   {
    "duration": 361,
    "start_time": "2021-10-25T08:29:46.042Z"
   },
   {
    "duration": 182,
    "start_time": "2021-10-25T08:29:54.147Z"
   },
   {
    "duration": 3,
    "start_time": "2021-10-25T08:29:57.554Z"
   },
   {
    "duration": 210,
    "start_time": "2021-10-25T08:29:58.272Z"
   },
   {
    "duration": 25,
    "start_time": "2021-10-25T08:30:06.553Z"
   },
   {
    "duration": 33,
    "start_time": "2021-10-25T08:30:17.180Z"
   },
   {
    "duration": 276,
    "start_time": "2021-10-25T08:32:17.074Z"
   },
   {
    "duration": 362,
    "start_time": "2021-10-25T08:32:25.969Z"
   },
   {
    "duration": 6,
    "start_time": "2021-10-25T08:32:58.064Z"
   },
   {
    "duration": 5,
    "start_time": "2021-10-25T08:35:13.354Z"
   },
   {
    "duration": 30,
    "start_time": "2021-10-25T08:35:55.285Z"
   },
   {
    "duration": 6,
    "start_time": "2021-10-25T08:36:03.211Z"
   },
   {
    "duration": 7,
    "start_time": "2021-10-25T08:38:17.083Z"
   },
   {
    "duration": 4,
    "start_time": "2021-10-25T08:38:21.233Z"
   },
   {
    "duration": 190,
    "start_time": "2021-10-25T08:38:21.937Z"
   },
   {
    "duration": 15,
    "start_time": "2021-10-25T08:38:22.418Z"
   },
   {
    "duration": 32,
    "start_time": "2021-10-25T08:38:22.969Z"
   },
   {
    "duration": 6,
    "start_time": "2021-10-25T08:38:25.178Z"
   },
   {
    "duration": 64,
    "start_time": "2021-10-25T08:38:31.089Z"
   },
   {
    "duration": 6,
    "start_time": "2021-10-25T08:38:32.538Z"
   },
   {
    "duration": 22,
    "start_time": "2021-10-25T08:38:35.730Z"
   },
   {
    "duration": 5,
    "start_time": "2021-10-25T08:38:36.915Z"
   },
   {
    "duration": 32,
    "start_time": "2021-10-25T08:46:57.661Z"
   },
   {
    "duration": 30,
    "start_time": "2021-10-25T08:47:53.341Z"
   },
   {
    "duration": 22,
    "start_time": "2021-10-25T08:48:43.142Z"
   },
   {
    "duration": 29,
    "start_time": "2021-10-25T08:48:49.709Z"
   },
   {
    "duration": 85,
    "start_time": "2021-10-25T08:49:30.854Z"
   },
   {
    "duration": 92,
    "start_time": "2021-10-25T08:49:34.765Z"
   },
   {
    "duration": 77,
    "start_time": "2021-10-25T08:49:38.004Z"
   },
   {
    "duration": 7233,
    "start_time": "2021-10-25T08:50:02.917Z"
   },
   {
    "duration": 8280,
    "start_time": "2021-10-25T08:50:14.109Z"
   },
   {
    "duration": 10,
    "start_time": "2021-10-25T08:50:26.054Z"
   },
   {
    "duration": 12,
    "start_time": "2021-10-25T08:50:29.828Z"
   },
   {
    "duration": 86,
    "start_time": "2021-10-25T08:50:43.213Z"
   },
   {
    "duration": 98,
    "start_time": "2021-10-25T08:50:45.413Z"
   },
   {
    "duration": 14,
    "start_time": "2021-10-25T08:50:48.109Z"
   },
   {
    "duration": 105,
    "start_time": "2021-10-25T08:55:13.664Z"
   },
   {
    "duration": 102,
    "start_time": "2021-10-25T08:56:26.142Z"
   },
   {
    "duration": 84,
    "start_time": "2021-10-25T08:56:56.199Z"
   },
   {
    "duration": 4,
    "start_time": "2021-10-25T08:57:03.208Z"
   },
   {
    "duration": 5,
    "start_time": "2021-10-25T08:58:37.447Z"
   },
   {
    "duration": 14,
    "start_time": "2021-10-25T08:59:01.599Z"
   },
   {
    "duration": 14,
    "start_time": "2021-10-25T09:03:15.039Z"
   },
   {
    "duration": 364,
    "start_time": "2021-10-25T10:55:32.832Z"
   },
   {
    "duration": 752,
    "start_time": "2021-10-25T10:55:49.078Z"
   },
   {
    "duration": 202,
    "start_time": "2021-10-25T10:55:49.833Z"
   },
   {
    "duration": 25,
    "start_time": "2021-10-25T10:55:50.038Z"
   },
   {
    "duration": 32,
    "start_time": "2021-10-25T10:55:50.238Z"
   },
   {
    "duration": 7,
    "start_time": "2021-10-25T10:55:51.487Z"
   },
   {
    "duration": 32,
    "start_time": "2021-10-25T10:55:52.312Z"
   },
   {
    "duration": 7,
    "start_time": "2021-10-25T10:55:53.023Z"
   },
   {
    "duration": 38,
    "start_time": "2021-10-25T10:55:53.812Z"
   },
   {
    "duration": 25,
    "start_time": "2021-10-25T10:55:54.550Z"
   },
   {
    "duration": 33,
    "start_time": "2021-10-25T10:55:54.943Z"
   },
   {
    "duration": 88,
    "start_time": "2021-10-25T10:55:55.319Z"
   },
   {
    "duration": 107,
    "start_time": "2021-10-25T10:55:55.686Z"
   },
   {
    "duration": 90,
    "start_time": "2021-10-25T10:55:56.080Z"
   },
   {
    "duration": 14,
    "start_time": "2021-10-25T10:55:57.694Z"
   },
   {
    "duration": 4,
    "start_time": "2021-10-25T10:55:58.214Z"
   },
   {
    "duration": 14,
    "start_time": "2021-10-25T10:55:58.737Z"
   },
   {
    "duration": 14,
    "start_time": "2021-10-25T10:56:00.640Z"
   },
   {
    "duration": 343,
    "start_time": "2021-10-25T10:57:35.344Z"
   },
   {
    "duration": 390,
    "start_time": "2021-10-25T10:58:03.496Z"
   },
   {
    "duration": 280,
    "start_time": "2021-10-25T10:58:52.177Z"
   },
   {
    "duration": 57,
    "start_time": "2021-10-25T10:59:08.911Z"
   },
   {
    "duration": 15,
    "start_time": "2021-10-25T10:59:40.370Z"
   },
   {
    "duration": 283,
    "start_time": "2021-10-25T11:01:02.600Z"
   },
   {
    "duration": 434,
    "start_time": "2021-10-25T11:01:07.385Z"
   },
   {
    "duration": 14,
    "start_time": "2021-10-25T11:01:09.449Z"
   },
   {
    "duration": 303,
    "start_time": "2021-10-25T11:01:14.854Z"
   },
   {
    "duration": 275,
    "start_time": "2021-10-25T11:01:23.442Z"
   },
   {
    "duration": 734,
    "start_time": "2021-10-25T11:01:38.348Z"
   },
   {
    "duration": 208,
    "start_time": "2021-10-25T11:01:39.084Z"
   },
   {
    "duration": 38,
    "start_time": "2021-10-25T11:01:39.295Z"
   },
   {
    "duration": 34,
    "start_time": "2021-10-25T11:01:39.336Z"
   },
   {
    "duration": 6,
    "start_time": "2021-10-25T11:01:39.372Z"
   },
   {
    "duration": 61,
    "start_time": "2021-10-25T11:01:39.380Z"
   },
   {
    "duration": 7,
    "start_time": "2021-10-25T11:01:39.444Z"
   },
   {
    "duration": 30,
    "start_time": "2021-10-25T11:01:39.454Z"
   },
   {
    "duration": 60,
    "start_time": "2021-10-25T11:01:39.487Z"
   },
   {
    "duration": 30,
    "start_time": "2021-10-25T11:01:39.549Z"
   },
   {
    "duration": 122,
    "start_time": "2021-10-25T11:01:39.582Z"
   },
   {
    "duration": 116,
    "start_time": "2021-10-25T11:01:39.706Z"
   },
   {
    "duration": 81,
    "start_time": "2021-10-25T11:01:39.825Z"
   },
   {
    "duration": 19,
    "start_time": "2021-10-25T11:01:39.922Z"
   },
   {
    "duration": 7,
    "start_time": "2021-10-25T11:01:39.945Z"
   },
   {
    "duration": 18,
    "start_time": "2021-10-25T11:01:39.955Z"
   },
   {
    "duration": 57,
    "start_time": "2021-10-25T11:01:39.976Z"
   },
   {
    "duration": 371,
    "start_time": "2021-10-25T11:01:40.037Z"
   },
   {
    "duration": -26,
    "start_time": "2021-10-25T11:01:40.439Z"
   },
   {
    "duration": -33,
    "start_time": "2021-10-25T11:01:40.448Z"
   },
   {
    "duration": -39,
    "start_time": "2021-10-25T11:01:40.455Z"
   },
   {
    "duration": -45,
    "start_time": "2021-10-25T11:01:40.463Z"
   },
   {
    "duration": -46,
    "start_time": "2021-10-25T11:01:40.465Z"
   },
   {
    "duration": -49,
    "start_time": "2021-10-25T11:01:40.469Z"
   },
   {
    "duration": -48,
    "start_time": "2021-10-25T11:01:40.471Z"
   },
   {
    "duration": -45,
    "start_time": "2021-10-25T11:01:40.474Z"
   },
   {
    "duration": -48,
    "start_time": "2021-10-25T11:01:40.480Z"
   },
   {
    "duration": -48,
    "start_time": "2021-10-25T11:01:40.483Z"
   },
   {
    "duration": -50,
    "start_time": "2021-10-25T11:01:40.487Z"
   },
   {
    "duration": -50,
    "start_time": "2021-10-25T11:01:40.489Z"
   },
   {
    "duration": -53,
    "start_time": "2021-10-25T11:01:40.495Z"
   },
   {
    "duration": -54,
    "start_time": "2021-10-25T11:01:40.498Z"
   },
   {
    "duration": -56,
    "start_time": "2021-10-25T11:01:40.502Z"
   },
   {
    "duration": -56,
    "start_time": "2021-10-25T11:01:40.504Z"
   },
   {
    "duration": -56,
    "start_time": "2021-10-25T11:01:40.507Z"
   },
   {
    "duration": -61,
    "start_time": "2021-10-25T11:01:40.514Z"
   },
   {
    "duration": -63,
    "start_time": "2021-10-25T11:01:40.518Z"
   },
   {
    "duration": -64,
    "start_time": "2021-10-25T11:01:40.521Z"
   },
   {
    "duration": 293,
    "start_time": "2021-10-25T11:02:01.675Z"
   },
   {
    "duration": 15,
    "start_time": "2021-10-25T11:02:18.091Z"
   },
   {
    "duration": 71,
    "start_time": "2021-10-25T11:02:22.707Z"
   },
   {
    "duration": 17,
    "start_time": "2021-10-25T11:02:29.826Z"
   },
   {
    "duration": 50,
    "start_time": "2021-10-25T11:02:47.428Z"
   },
   {
    "duration": 16,
    "start_time": "2021-10-25T11:03:00.746Z"
   },
   {
    "duration": 13,
    "start_time": "2021-10-25T11:03:13.963Z"
   },
   {
    "duration": 15,
    "start_time": "2021-10-25T11:03:25.547Z"
   },
   {
    "duration": 5,
    "start_time": "2021-10-25T11:10:47.148Z"
   },
   {
    "duration": 294,
    "start_time": "2021-10-25T11:11:09.844Z"
   },
   {
    "duration": -43,
    "start_time": "2021-10-25T11:11:23.617Z"
   },
   {
    "duration": 5,
    "start_time": "2021-10-25T11:11:36.284Z"
   },
   {
    "duration": 7208,
    "start_time": "2021-10-25T11:11:37.012Z"
   },
   {
    "duration": 267,
    "start_time": "2021-10-25T11:11:45.742Z"
   },
   {
    "duration": 7188,
    "start_time": "2021-10-25T11:11:54.069Z"
   },
   {
    "duration": 5,
    "start_time": "2021-10-25T11:16:51.382Z"
   },
   {
    "duration": 7864,
    "start_time": "2021-10-25T11:16:53.877Z"
   },
   {
    "duration": 5,
    "start_time": "2021-10-25T11:17:13.405Z"
   },
   {
    "duration": 7162,
    "start_time": "2021-10-25T11:17:14.278Z"
   },
   {
    "duration": 5,
    "start_time": "2021-10-25T11:17:23.047Z"
   },
   {
    "duration": 7129,
    "start_time": "2021-10-25T11:17:24.910Z"
   },
   {
    "duration": 5,
    "start_time": "2021-10-25T11:18:19.256Z"
   },
   {
    "duration": 21,
    "start_time": "2021-10-25T11:18:20.053Z"
   },
   {
    "duration": 29,
    "start_time": "2021-10-25T11:18:26.046Z"
   },
   {
    "duration": 17,
    "start_time": "2021-10-25T11:18:43.999Z"
   },
   {
    "duration": 21,
    "start_time": "2021-10-25T11:19:00.527Z"
   },
   {
    "duration": 19,
    "start_time": "2021-10-25T11:19:15.311Z"
   },
   {
    "duration": 18,
    "start_time": "2021-10-25T11:54:42.773Z"
   },
   {
    "duration": 23,
    "start_time": "2021-10-25T11:54:43.207Z"
   },
   {
    "duration": 19,
    "start_time": "2021-10-25T11:54:43.574Z"
   },
   {
    "duration": 16,
    "start_time": "2021-10-25T11:58:01.733Z"
   },
   {
    "duration": 598,
    "start_time": "2021-10-25T17:37:48.755Z"
   },
   {
    "duration": 141,
    "start_time": "2021-10-25T17:37:49.355Z"
   },
   {
    "duration": 20,
    "start_time": "2021-10-25T17:37:49.578Z"
   },
   {
    "duration": 26,
    "start_time": "2021-10-25T17:37:49.969Z"
   },
   {
    "duration": 4,
    "start_time": "2021-10-25T17:37:51.321Z"
   },
   {
    "duration": 25,
    "start_time": "2021-10-25T17:37:51.430Z"
   },
   {
    "duration": 4,
    "start_time": "2021-10-25T17:37:51.495Z"
   },
   {
    "duration": 23,
    "start_time": "2021-10-25T17:37:51.560Z"
   },
   {
    "duration": 18,
    "start_time": "2021-10-25T17:37:51.650Z"
   },
   {
    "duration": 25,
    "start_time": "2021-10-25T17:37:51.728Z"
   },
   {
    "duration": 61,
    "start_time": "2021-10-25T17:37:51.797Z"
   },
   {
    "duration": 73,
    "start_time": "2021-10-25T17:37:51.860Z"
   },
   {
    "duration": 58,
    "start_time": "2021-10-25T17:37:51.935Z"
   },
   {
    "duration": 9,
    "start_time": "2021-10-25T17:37:52.028Z"
   },
   {
    "duration": 3,
    "start_time": "2021-10-25T17:37:52.097Z"
   },
   {
    "duration": 11,
    "start_time": "2021-10-25T17:37:52.151Z"
   },
   {
    "duration": 10,
    "start_time": "2021-10-25T17:37:52.225Z"
   },
   {
    "duration": 13,
    "start_time": "2021-10-25T17:37:53.145Z"
   },
   {
    "duration": 12,
    "start_time": "2021-10-25T17:37:53.809Z"
   },
   {
    "duration": 4,
    "start_time": "2021-10-25T17:37:54.977Z"
   },
   {
    "duration": 17,
    "start_time": "2021-10-25T17:37:55.850Z"
   },
   {
    "duration": 14,
    "start_time": "2021-10-25T17:37:56.209Z"
   },
   {
    "duration": 15,
    "start_time": "2021-10-25T17:37:56.450Z"
   },
   {
    "duration": 13,
    "start_time": "2021-10-25T17:37:56.658Z"
   },
   {
    "duration": 18,
    "start_time": "2021-10-25T17:37:56.873Z"
   },
   {
    "duration": 15,
    "start_time": "2021-10-25T17:37:57.074Z"
   },
   {
    "duration": 9,
    "start_time": "2021-10-25T17:37:57.505Z"
   },
   {
    "duration": 12,
    "start_time": "2021-10-25T17:38:50.521Z"
   },
   {
    "duration": 6,
    "start_time": "2021-10-25T17:39:18.073Z"
   },
   {
    "duration": 677,
    "start_time": "2021-10-25T17:39:33.752Z"
   },
   {
    "duration": 261,
    "start_time": "2021-10-25T17:39:42.857Z"
   },
   {
    "duration": 11,
    "start_time": "2021-10-25T17:39:47.624Z"
   },
   {
    "duration": 20,
    "start_time": "2021-10-25T17:39:54.809Z"
   },
   {
    "duration": 4,
    "start_time": "2021-10-25T17:45:42.225Z"
   },
   {
    "duration": 96,
    "start_time": "2021-10-25T17:45:53.879Z"
   },
   {
    "duration": 506,
    "start_time": "2021-10-25T17:45:57.973Z"
   },
   {
    "duration": 4,
    "start_time": "2021-10-25T17:47:01.254Z"
   },
   {
    "duration": 18,
    "start_time": "2021-10-25T17:47:02.605Z"
   },
   {
    "duration": 13,
    "start_time": "2021-10-25T17:47:19.782Z"
   },
   {
    "duration": 18,
    "start_time": "2021-10-25T17:47:33.494Z"
   },
   {
    "duration": 13,
    "start_time": "2021-10-25T17:47:41.685Z"
   },
   {
    "duration": 8,
    "start_time": "2021-10-25T17:49:38.181Z"
   },
   {
    "duration": 5,
    "start_time": "2021-10-25T17:49:47.732Z"
   },
   {
    "duration": 7,
    "start_time": "2021-10-25T17:50:04.396Z"
   },
   {
    "duration": 5,
    "start_time": "2021-10-25T17:50:12.639Z"
   },
   {
    "duration": 363,
    "start_time": "2021-10-26T09:18:22.165Z"
   },
   {
    "duration": 723,
    "start_time": "2021-10-26T09:18:28.498Z"
   },
   {
    "duration": 190,
    "start_time": "2021-10-26T09:18:29.224Z"
   },
   {
    "duration": 28,
    "start_time": "2021-10-26T09:18:29.417Z"
   },
   {
    "duration": 58,
    "start_time": "2021-10-26T09:18:29.448Z"
   },
   {
    "duration": 6,
    "start_time": "2021-10-26T09:18:29.508Z"
   },
   {
    "duration": 24,
    "start_time": "2021-10-26T09:18:29.517Z"
   },
   {
    "duration": 11,
    "start_time": "2021-10-26T09:18:29.544Z"
   },
   {
    "duration": 30,
    "start_time": "2021-10-26T09:18:29.584Z"
   },
   {
    "duration": 21,
    "start_time": "2021-10-26T09:18:29.617Z"
   },
   {
    "duration": 55,
    "start_time": "2021-10-26T09:18:29.641Z"
   },
   {
    "duration": 110,
    "start_time": "2021-10-26T09:18:29.699Z"
   },
   {
    "duration": 113,
    "start_time": "2021-10-26T09:18:29.811Z"
   },
   {
    "duration": 84,
    "start_time": "2021-10-26T09:18:29.927Z"
   },
   {
    "duration": 14,
    "start_time": "2021-10-26T09:18:30.014Z"
   },
   {
    "duration": 3,
    "start_time": "2021-10-26T09:18:30.031Z"
   },
   {
    "duration": 22,
    "start_time": "2021-10-26T09:18:30.037Z"
   },
   {
    "duration": 14,
    "start_time": "2021-10-26T09:18:30.082Z"
   },
   {
    "duration": 15,
    "start_time": "2021-10-26T09:18:30.127Z"
   },
   {
    "duration": 15,
    "start_time": "2021-10-26T09:18:30.175Z"
   },
   {
    "duration": 4,
    "start_time": "2021-10-26T09:18:30.306Z"
   },
   {
    "duration": 20,
    "start_time": "2021-10-26T09:18:30.412Z"
   },
   {
    "duration": 22,
    "start_time": "2021-10-26T09:18:30.436Z"
   },
   {
    "duration": 24,
    "start_time": "2021-10-26T09:18:30.470Z"
   },
   {
    "duration": 22,
    "start_time": "2021-10-26T09:18:30.507Z"
   },
   {
    "duration": 24,
    "start_time": "2021-10-26T09:18:30.535Z"
   },
   {
    "duration": 23,
    "start_time": "2021-10-26T09:18:30.574Z"
   },
   {
    "duration": 13,
    "start_time": "2021-10-26T09:18:30.636Z"
   },
   {
    "duration": 15,
    "start_time": "2021-10-26T09:18:31.929Z"
   },
   {
    "duration": 12,
    "start_time": "2021-10-26T09:18:32.394Z"
   },
   {
    "duration": 13,
    "start_time": "2021-10-26T09:18:34.945Z"
   },
   {
    "duration": 12,
    "start_time": "2021-10-26T09:18:36.697Z"
   },
   {
    "duration": 5,
    "start_time": "2021-10-26T09:18:37.649Z"
   },
   {
    "duration": 24,
    "start_time": "2021-10-26T09:18:39.402Z"
   },
   {
    "duration": 18,
    "start_time": "2021-10-26T09:18:40.499Z"
   },
   {
    "duration": 24,
    "start_time": "2021-10-26T09:18:41.105Z"
   },
   {
    "duration": 17,
    "start_time": "2021-10-26T09:18:44.201Z"
   },
   {
    "duration": 12,
    "start_time": "2021-10-26T09:18:47.073Z"
   },
   {
    "duration": 7,
    "start_time": "2021-10-26T09:18:47.701Z"
   },
   {
    "duration": 8,
    "start_time": "2021-10-26T09:18:47.767Z"
   },
   {
    "duration": 7,
    "start_time": "2021-10-26T09:18:47.837Z"
   },
   {
    "duration": 74,
    "start_time": "2021-10-26T19:56:31.754Z"
   },
   {
    "duration": 373,
    "start_time": "2022-02-21T14:01:01.722Z"
   },
   {
    "duration": 764,
    "start_time": "2022-02-21T14:01:04.121Z"
   },
   {
    "duration": 198,
    "start_time": "2022-02-21T14:01:06.338Z"
   },
   {
    "duration": 372,
    "start_time": "2022-02-21T14:01:07.243Z"
   },
   {
    "duration": 324,
    "start_time": "2022-02-21T14:01:17.523Z"
   },
   {
    "duration": 792,
    "start_time": "2022-02-21T14:02:07.459Z"
   },
   {
    "duration": 919,
    "start_time": "2022-02-21T14:02:14.659Z"
   },
   {
    "duration": 1049,
    "start_time": "2022-02-21T14:02:21.362Z"
   },
   {
    "duration": 315,
    "start_time": "2022-02-21T14:02:27.492Z"
   }
  ],
  "colab": {
   "collapsed_sections": [
    "E0vqbgi9ay0H",
    "VUC88oWjTJw2"
   ],
   "name": "yandex_music_project_2021.2.ipynb",
   "provenance": []
  },
  "kernelspec": {
   "display_name": "Python 3 (ipykernel)",
   "language": "python",
   "name": "python3"
  },
  "language_info": {
   "codemirror_mode": {
    "name": "ipython",
    "version": 3
   },
   "file_extension": ".py",
   "mimetype": "text/x-python",
   "name": "python",
   "nbconvert_exporter": "python",
   "pygments_lexer": "ipython3",
   "version": "3.10.1"
  },
  "toc": {
   "base_numbering": 1,
   "nav_menu": {},
   "number_sections": true,
   "sideBar": true,
   "skip_h1_title": true,
   "title_cell": "Table of Contents",
   "title_sidebar": "Contents",
   "toc_cell": false,
   "toc_position": {
    "height": "calc(100% - 180px)",
    "left": "10px",
    "top": "150px",
    "width": "204px"
   },
   "toc_section_display": true,
   "toc_window_display": true
  }
 },
 "nbformat": 4,
 "nbformat_minor": 1
}
