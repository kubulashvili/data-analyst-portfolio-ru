{
 "cells": [
  {
   "cell_type": "markdown",
   "metadata": {},
   "source": [
    "# Содержание проекта\n",
    "\n",
    "[1. Описание проекта](#section_1)\n",
    "\n",
    "[2. Изучение данных из файла](#section_2)\n",
    "\n",
    "[3. Приоритизация гипотез](#section_3)\n",
    "\n",
    "[4. Анализ A/B теста](#section_4)\n",
    "\n",
    "[5. Решение по результатам теста](#section_5)\n",
    "\n",
    "[6. Выводы](#section_6)"
   ]
  },
  {
   "cell_type": "markdown",
   "metadata": {},
   "source": [
    "## Описание проекта\n",
    "<a id='section_1'><a/>"
   ]
  },
  {
   "cell_type": "markdown",
   "metadata": {},
   "source": [
    "Я аналитик крупного интернет-магазина. Вместе с отделом маркетинга я подготовил список гипотез для увеличения выручки.\n",
    "Ниже мы займемся приоритизацией гипотез, запустим A/B-тест и проанализируем результаты.\n",
    "\n",
    "Проект состоит из двух частей:\n",
    "- Приоритизация гипотез\n",
    "- Анализ A/B-теста\n",
    "\n",
    "### Приоритизация гипотез\n",
    "В файле /datasets/hypothesis.csv 9 гипотез по увеличению выручки интернет-магазина с указанными параметрами Reach, Impact, Confidence, Effort.\n",
    "\n",
    "Задача:\n",
    "- Применить фреймворк ICE для приоритизации гипотез.\n",
    "- Применить фреймворк RICE для приоритизации гипотез.\n",
    "- Указать, как изменилась приоритизация гипотез при применении RICE вместо ICE.\n",
    "\n",
    "### Анализ A/B-теста\n",
    "В файлах /datasets/orders.csv и /datasets/visitors.csv мы имеем данные поп проведению A/B теста.\n",
    "\n",
    "Задача:\n",
    "- Построить график кумулятивной выручки по группам.\n",
    "- Построить график кумулятивного среднего чека по группам.\n",
    "- Построить график относительного изменения кумулятивного среднего чека группы B к группе A. \n",
    "- Построить график кумулятивной конверсии по группам. \n",
    "- Построить график относительного изменения кумулятивной конверсии группы B к группе A.\n",
    "- Построить точечный график количества заказов по пользователям. \n",
    "- Посчитать 95-й и 99-й перцентили количества заказов на пользователя. \n",
    "- Построить точечный график стоимостей заказов.\n",
    "- Посчитать 95-й и 99-й перцентили стоимости заказов. \n",
    "- Посчитать статистическую значимость различий в конверсии между группами по «сырым» данным.\n",
    "- Посчитать статистическую значимость различий в среднем чеке заказа между группами по «сырым» данным. \n",
    "- Посчитать статистическую значимость различий в конверсии между группами по «очищенным» данным. \n",
    "- Посчитать статистическую значимость различий в среднем чеке заказа между группами по «очищенным» данным. \n",
    "- Принять решение по результатам теста."
   ]
  },
  {
   "cell_type": "markdown",
   "metadata": {},
   "source": [
    "## Изучение данных из файла\n",
    "<a id='section_2'><a/>"
   ]
  },
  {
   "cell_type": "markdown",
   "metadata": {},
   "source": [
    "Импортируем библиотеки и считываем данные в переменные."
   ]
  },
  {
   "cell_type": "code",
   "execution_count": 1,
   "metadata": {},
   "outputs": [],
   "source": [
    "import pandas as pd\n",
    "import datetime as dt\n",
    "import numpy as np\n",
    "import matplotlib.pyplot as plt\n",
    "import scipy.stats as stats\n",
    "from pandas.plotting import register_matplotlib_converters\n",
    "import warnings\n",
    "register_matplotlib_converters()"
   ]
  },
  {
   "cell_type": "code",
   "execution_count": 10,
   "metadata": {},
   "outputs": [],
   "source": [
    "hypothesis = pd.read_csv('hypothesis.csv')\n",
    "orders = pd.read_csv('orders.csv')\n",
    "visitors = pd.read_csv('visitors.csv')"
   ]
  },
  {
   "cell_type": "code",
   "execution_count": 11,
   "metadata": {
    "scrolled": false
   },
   "outputs": [
    {
     "name": "stdout",
     "output_type": "stream",
     "text": [
      "<class 'pandas.core.frame.DataFrame'>\n",
      "RangeIndex: 9 entries, 0 to 8\n",
      "Data columns (total 5 columns):\n",
      " #   Column      Non-Null Count  Dtype \n",
      "---  ------      --------------  ----- \n",
      " 0   Hypothesis  9 non-null      object\n",
      " 1   Reach       9 non-null      int64 \n",
      " 2   Impact      9 non-null      int64 \n",
      " 3   Confidence  9 non-null      int64 \n",
      " 4   Efforts     9 non-null      int64 \n",
      "dtypes: int64(4), object(1)\n",
      "memory usage: 488.0+ bytes\n"
     ]
    },
    {
     "data": {
      "text/html": [
       "<div>\n",
       "<style scoped>\n",
       "    .dataframe tbody tr th:only-of-type {\n",
       "        vertical-align: middle;\n",
       "    }\n",
       "\n",
       "    .dataframe tbody tr th {\n",
       "        vertical-align: top;\n",
       "    }\n",
       "\n",
       "    .dataframe thead th {\n",
       "        text-align: right;\n",
       "    }\n",
       "</style>\n",
       "<table border=\"1\" class=\"dataframe\">\n",
       "  <thead>\n",
       "    <tr style=\"text-align: right;\">\n",
       "      <th></th>\n",
       "      <th>Hypothesis</th>\n",
       "      <th>Reach</th>\n",
       "      <th>Impact</th>\n",
       "      <th>Confidence</th>\n",
       "      <th>Efforts</th>\n",
       "    </tr>\n",
       "  </thead>\n",
       "  <tbody>\n",
       "    <tr>\n",
       "      <th>0</th>\n",
       "      <td>Добавить два новых канала привлечения трафика, что позволит привлекать на 30% больше пользователей</td>\n",
       "      <td>3</td>\n",
       "      <td>10</td>\n",
       "      <td>8</td>\n",
       "      <td>6</td>\n",
       "    </tr>\n",
       "    <tr>\n",
       "      <th>1</th>\n",
       "      <td>Запустить собственную службу доставки, что сократит срок доставки заказов</td>\n",
       "      <td>2</td>\n",
       "      <td>5</td>\n",
       "      <td>4</td>\n",
       "      <td>10</td>\n",
       "    </tr>\n",
       "    <tr>\n",
       "      <th>2</th>\n",
       "      <td>Добавить блоки рекомендаций товаров на сайт интернет магазина, чтобы повысить конверсию и средний чек заказа</td>\n",
       "      <td>8</td>\n",
       "      <td>3</td>\n",
       "      <td>7</td>\n",
       "      <td>3</td>\n",
       "    </tr>\n",
       "    <tr>\n",
       "      <th>3</th>\n",
       "      <td>Изменить структура категорий, что увеличит конверсию, т.к. пользователи быстрее найдут нужный товар</td>\n",
       "      <td>8</td>\n",
       "      <td>3</td>\n",
       "      <td>3</td>\n",
       "      <td>8</td>\n",
       "    </tr>\n",
       "    <tr>\n",
       "      <th>4</th>\n",
       "      <td>Изменить цвет фона главной страницы, чтобы увеличить вовлеченность пользователей</td>\n",
       "      <td>3</td>\n",
       "      <td>1</td>\n",
       "      <td>1</td>\n",
       "      <td>1</td>\n",
       "    </tr>\n",
       "    <tr>\n",
       "      <th>5</th>\n",
       "      <td>Добавить страницу отзывов клиентов о магазине, что позволит увеличить количество заказов</td>\n",
       "      <td>3</td>\n",
       "      <td>2</td>\n",
       "      <td>2</td>\n",
       "      <td>3</td>\n",
       "    </tr>\n",
       "    <tr>\n",
       "      <th>6</th>\n",
       "      <td>Показать на главной странице баннеры с актуальными акциями и распродажами, чтобы увеличить конверсию</td>\n",
       "      <td>5</td>\n",
       "      <td>3</td>\n",
       "      <td>8</td>\n",
       "      <td>3</td>\n",
       "    </tr>\n",
       "    <tr>\n",
       "      <th>7</th>\n",
       "      <td>Добавить форму подписки на все основные страницы, чтобы собрать базу клиентов для email-рассылок</td>\n",
       "      <td>10</td>\n",
       "      <td>7</td>\n",
       "      <td>8</td>\n",
       "      <td>5</td>\n",
       "    </tr>\n",
       "    <tr>\n",
       "      <th>8</th>\n",
       "      <td>Запустить акцию, дающую скидку на товар в день рождения</td>\n",
       "      <td>1</td>\n",
       "      <td>9</td>\n",
       "      <td>9</td>\n",
       "      <td>5</td>\n",
       "    </tr>\n",
       "  </tbody>\n",
       "</table>\n",
       "</div>"
      ],
      "text/plain": [
       "                                                                                                     Hypothesis  \\\n",
       "0            Добавить два новых канала привлечения трафика, что позволит привлекать на 30% больше пользователей   \n",
       "1                                     Запустить собственную службу доставки, что сократит срок доставки заказов   \n",
       "2  Добавить блоки рекомендаций товаров на сайт интернет магазина, чтобы повысить конверсию и средний чек заказа   \n",
       "3           Изменить структура категорий, что увеличит конверсию, т.к. пользователи быстрее найдут нужный товар   \n",
       "4                              Изменить цвет фона главной страницы, чтобы увеличить вовлеченность пользователей   \n",
       "5                      Добавить страницу отзывов клиентов о магазине, что позволит увеличить количество заказов   \n",
       "6          Показать на главной странице баннеры с актуальными акциями и распродажами, чтобы увеличить конверсию   \n",
       "7              Добавить форму подписки на все основные страницы, чтобы собрать базу клиентов для email-рассылок   \n",
       "8                                                       Запустить акцию, дающую скидку на товар в день рождения   \n",
       "\n",
       "   Reach  Impact  Confidence  Efforts  \n",
       "0      3      10           8        6  \n",
       "1      2       5           4       10  \n",
       "2      8       3           7        3  \n",
       "3      8       3           3        8  \n",
       "4      3       1           1        1  \n",
       "5      3       2           2        3  \n",
       "6      5       3           8        3  \n",
       "7     10       7           8        5  \n",
       "8      1       9           9        5  "
      ]
     },
     "metadata": {},
     "output_type": "display_data"
    }
   ],
   "source": [
    "#получим общую информацию и первые пять строк таблиц\n",
    "pd.set_option('display.max_columns', None)\n",
    "pd.options.display.max_colwidth = 150 \n",
    "hypothesis.info()\n",
    "display(hypothesis)"
   ]
  },
  {
   "cell_type": "markdown",
   "metadata": {},
   "source": [
    "В таблице hypothesis у нас хрянятся сами гипотезы и их характеристики. Необходимо только привести названия столбцов к нижнему регистру."
   ]
  },
  {
   "cell_type": "code",
   "execution_count": 12,
   "metadata": {
    "scrolled": false
   },
   "outputs": [
    {
     "name": "stdout",
     "output_type": "stream",
     "text": [
      "<class 'pandas.core.frame.DataFrame'>\n",
      "RangeIndex: 1197 entries, 0 to 1196\n",
      "Data columns (total 5 columns):\n",
      " #   Column         Non-Null Count  Dtype \n",
      "---  ------         --------------  ----- \n",
      " 0   transactionId  1197 non-null   int64 \n",
      " 1   visitorId      1197 non-null   int64 \n",
      " 2   date           1197 non-null   object\n",
      " 3   revenue        1197 non-null   int64 \n",
      " 4   group          1197 non-null   object\n",
      "dtypes: int64(3), object(2)\n",
      "memory usage: 46.9+ KB\n"
     ]
    },
    {
     "data": {
      "text/html": [
       "<div>\n",
       "<style scoped>\n",
       "    .dataframe tbody tr th:only-of-type {\n",
       "        vertical-align: middle;\n",
       "    }\n",
       "\n",
       "    .dataframe tbody tr th {\n",
       "        vertical-align: top;\n",
       "    }\n",
       "\n",
       "    .dataframe thead th {\n",
       "        text-align: right;\n",
       "    }\n",
       "</style>\n",
       "<table border=\"1\" class=\"dataframe\">\n",
       "  <thead>\n",
       "    <tr style=\"text-align: right;\">\n",
       "      <th></th>\n",
       "      <th>transactionId</th>\n",
       "      <th>visitorId</th>\n",
       "      <th>date</th>\n",
       "      <th>revenue</th>\n",
       "      <th>group</th>\n",
       "    </tr>\n",
       "  </thead>\n",
       "  <tbody>\n",
       "    <tr>\n",
       "      <th>0</th>\n",
       "      <td>3667963787</td>\n",
       "      <td>3312258926</td>\n",
       "      <td>2019-08-15</td>\n",
       "      <td>1650</td>\n",
       "      <td>B</td>\n",
       "    </tr>\n",
       "    <tr>\n",
       "      <th>1</th>\n",
       "      <td>2804400009</td>\n",
       "      <td>3642806036</td>\n",
       "      <td>2019-08-15</td>\n",
       "      <td>730</td>\n",
       "      <td>B</td>\n",
       "    </tr>\n",
       "    <tr>\n",
       "      <th>2</th>\n",
       "      <td>2961555356</td>\n",
       "      <td>4069496402</td>\n",
       "      <td>2019-08-15</td>\n",
       "      <td>400</td>\n",
       "      <td>A</td>\n",
       "    </tr>\n",
       "    <tr>\n",
       "      <th>3</th>\n",
       "      <td>3797467345</td>\n",
       "      <td>1196621759</td>\n",
       "      <td>2019-08-15</td>\n",
       "      <td>9759</td>\n",
       "      <td>B</td>\n",
       "    </tr>\n",
       "    <tr>\n",
       "      <th>4</th>\n",
       "      <td>2282983706</td>\n",
       "      <td>2322279887</td>\n",
       "      <td>2019-08-15</td>\n",
       "      <td>2308</td>\n",
       "      <td>B</td>\n",
       "    </tr>\n",
       "  </tbody>\n",
       "</table>\n",
       "</div>"
      ],
      "text/plain": [
       "   transactionId   visitorId        date  revenue group\n",
       "0     3667963787  3312258926  2019-08-15     1650     B\n",
       "1     2804400009  3642806036  2019-08-15      730     B\n",
       "2     2961555356  4069496402  2019-08-15      400     A\n",
       "3     3797467345  1196621759  2019-08-15     9759     B\n",
       "4     2282983706  2322279887  2019-08-15     2308     B"
      ]
     },
     "metadata": {},
     "output_type": "display_data"
    }
   ],
   "source": [
    "orders.info()\n",
    "display(orders.head(5))"
   ]
  },
  {
   "cell_type": "markdown",
   "metadata": {},
   "source": [
    "В таблице orders данные о заказах. Приведем названия столбцов к нижнему регистру, дату к типу данных datetime."
   ]
  },
  {
   "cell_type": "code",
   "execution_count": 13,
   "metadata": {
    "scrolled": true
   },
   "outputs": [
    {
     "name": "stdout",
     "output_type": "stream",
     "text": [
      "<class 'pandas.core.frame.DataFrame'>\n",
      "RangeIndex: 62 entries, 0 to 61\n",
      "Data columns (total 3 columns):\n",
      " #   Column    Non-Null Count  Dtype \n",
      "---  ------    --------------  ----- \n",
      " 0   date      62 non-null     object\n",
      " 1   group     62 non-null     object\n",
      " 2   visitors  62 non-null     int64 \n",
      "dtypes: int64(1), object(2)\n",
      "memory usage: 1.6+ KB\n"
     ]
    },
    {
     "data": {
      "text/html": [
       "<div>\n",
       "<style scoped>\n",
       "    .dataframe tbody tr th:only-of-type {\n",
       "        vertical-align: middle;\n",
       "    }\n",
       "\n",
       "    .dataframe tbody tr th {\n",
       "        vertical-align: top;\n",
       "    }\n",
       "\n",
       "    .dataframe thead th {\n",
       "        text-align: right;\n",
       "    }\n",
       "</style>\n",
       "<table border=\"1\" class=\"dataframe\">\n",
       "  <thead>\n",
       "    <tr style=\"text-align: right;\">\n",
       "      <th></th>\n",
       "      <th>date</th>\n",
       "      <th>group</th>\n",
       "      <th>visitors</th>\n",
       "    </tr>\n",
       "  </thead>\n",
       "  <tbody>\n",
       "    <tr>\n",
       "      <th>0</th>\n",
       "      <td>2019-08-01</td>\n",
       "      <td>A</td>\n",
       "      <td>719</td>\n",
       "    </tr>\n",
       "    <tr>\n",
       "      <th>1</th>\n",
       "      <td>2019-08-02</td>\n",
       "      <td>A</td>\n",
       "      <td>619</td>\n",
       "    </tr>\n",
       "    <tr>\n",
       "      <th>2</th>\n",
       "      <td>2019-08-03</td>\n",
       "      <td>A</td>\n",
       "      <td>507</td>\n",
       "    </tr>\n",
       "    <tr>\n",
       "      <th>3</th>\n",
       "      <td>2019-08-04</td>\n",
       "      <td>A</td>\n",
       "      <td>717</td>\n",
       "    </tr>\n",
       "    <tr>\n",
       "      <th>4</th>\n",
       "      <td>2019-08-05</td>\n",
       "      <td>A</td>\n",
       "      <td>756</td>\n",
       "    </tr>\n",
       "  </tbody>\n",
       "</table>\n",
       "</div>"
      ],
      "text/plain": [
       "         date group  visitors\n",
       "0  2019-08-01     A       719\n",
       "1  2019-08-02     A       619\n",
       "2  2019-08-03     A       507\n",
       "3  2019-08-04     A       717\n",
       "4  2019-08-05     A       756"
      ]
     },
     "metadata": {},
     "output_type": "display_data"
    }
   ],
   "source": [
    "visitors.info()\n",
    "display(visitors.head(5))"
   ]
  },
  {
   "cell_type": "markdown",
   "metadata": {},
   "source": [
    "В таблице visitors данные о посещениях в определенные даты. Приведем дату к типу данных datetime."
   ]
  },
  {
   "cell_type": "code",
   "execution_count": 14,
   "metadata": {},
   "outputs": [
    {
     "data": {
      "text/plain": [
       "Index(['hypothesis', 'reach', 'impact', 'confidence', 'efforts'], dtype='object')"
      ]
     },
     "metadata": {},
     "output_type": "display_data"
    },
    {
     "data": {
      "text/plain": [
       "Index(['transaction_id', 'visitor_id', 'date', 'revenue', 'group'], dtype='object')"
      ]
     },
     "metadata": {},
     "output_type": "display_data"
    }
   ],
   "source": [
    "#приводим назавния столбцов к нижнему регистру и поправим названия при необходимости\n",
    "hypothesis.columns = hypothesis.columns.str.lower()\n",
    "orders.columns = orders.columns.str.lower()\n",
    "orders = orders.rename(columns={'transactionid':'transaction_id','visitorid':'visitor_id'})\n",
    "#проверка результатов\n",
    "display(hypothesis.columns)\n",
    "display(orders.columns)"
   ]
  },
  {
   "cell_type": "code",
   "execution_count": 15,
   "metadata": {},
   "outputs": [],
   "source": [
    "#приводим тип данных с датами к типу datetime\n",
    "orders['date'] = pd.to_datetime(orders['date'])\n",
    "visitors['date'] = pd.to_datetime(visitors['date'])"
   ]
  },
  {
   "cell_type": "code",
   "execution_count": 16,
   "metadata": {},
   "outputs": [
    {
     "name": "stdout",
     "output_type": "stream",
     "text": [
      "<class 'pandas.core.frame.DataFrame'>\n",
      "Int64Index: 58 entries, 8300375 to 4266935830\n",
      "Data columns (total 1 columns):\n",
      " #   Column  Non-Null Count  Dtype\n",
      "---  ------  --------------  -----\n",
      " 0   group   58 non-null     int64\n",
      "dtypes: int64(1)\n",
      "memory usage: 928.0 bytes\n"
     ]
    }
   ],
   "source": [
    "#проверим попадание пользователей сразу в обе группы\n",
    "ab_users = orders.groupby('visitor_id').agg({'group':'nunique'})\n",
    "ab_users = ab_users.query('group > 1')\n",
    "ab_users.info()"
   ]
  },
  {
   "cell_type": "markdown",
   "metadata": {},
   "source": [
    "### Вывод\n",
    "\n",
    "- В таблице hypothesis у нас хрянятся сами гипотезы и их характеристики. \n",
    "- В таблице orders данные о заказах.\n",
    "- В таблице visitors данные о посещениях в определенные даты.\n",
    "- Так же мы имеем 58 пользователей, которые попали в обе группы"
   ]
  },
  {
   "cell_type": "markdown",
   "metadata": {},
   "source": [
    "## Приоритизация гипотез\n",
    "<a id='section_3'><a/>"
   ]
  },
  {
   "cell_type": "markdown",
   "metadata": {},
   "source": [
    "Нам необходимо приоритизировать наши гипотезы по двум фреймворкам ICE и RICE. На основе этих данных мы сможем понять, какие гипотезы нам стоит проверять в первую очередь.\n",
    "\n",
    "Начнем с приоритизации по ICE."
   ]
  },
  {
   "cell_type": "markdown",
   "metadata": {},
   "source": [
    "### Фреймворк ICE"
   ]
  },
  {
   "cell_type": "code",
   "execution_count": 17,
   "metadata": {
    "scrolled": false
   },
   "outputs": [
    {
     "data": {
      "text/html": [
       "<div>\n",
       "<style scoped>\n",
       "    .dataframe tbody tr th:only-of-type {\n",
       "        vertical-align: middle;\n",
       "    }\n",
       "\n",
       "    .dataframe tbody tr th {\n",
       "        vertical-align: top;\n",
       "    }\n",
       "\n",
       "    .dataframe thead th {\n",
       "        text-align: right;\n",
       "    }\n",
       "</style>\n",
       "<table border=\"1\" class=\"dataframe\">\n",
       "  <thead>\n",
       "    <tr style=\"text-align: right;\">\n",
       "      <th></th>\n",
       "      <th>hypothesis</th>\n",
       "      <th>reach</th>\n",
       "      <th>impact</th>\n",
       "      <th>confidence</th>\n",
       "      <th>efforts</th>\n",
       "      <th>ICE</th>\n",
       "    </tr>\n",
       "  </thead>\n",
       "  <tbody>\n",
       "    <tr>\n",
       "      <th>8</th>\n",
       "      <td>Запустить акцию, дающую скидку на товар в день рождения</td>\n",
       "      <td>1</td>\n",
       "      <td>9</td>\n",
       "      <td>9</td>\n",
       "      <td>5</td>\n",
       "      <td>16.2</td>\n",
       "    </tr>\n",
       "    <tr>\n",
       "      <th>0</th>\n",
       "      <td>Добавить два новых канала привлечения трафика, что позволит привлекать на 30% больше пользователей</td>\n",
       "      <td>3</td>\n",
       "      <td>10</td>\n",
       "      <td>8</td>\n",
       "      <td>6</td>\n",
       "      <td>13.3</td>\n",
       "    </tr>\n",
       "    <tr>\n",
       "      <th>7</th>\n",
       "      <td>Добавить форму подписки на все основные страницы, чтобы собрать базу клиентов для email-рассылок</td>\n",
       "      <td>10</td>\n",
       "      <td>7</td>\n",
       "      <td>8</td>\n",
       "      <td>5</td>\n",
       "      <td>11.2</td>\n",
       "    </tr>\n",
       "    <tr>\n",
       "      <th>6</th>\n",
       "      <td>Показать на главной странице баннеры с актуальными акциями и распродажами, чтобы увеличить конверсию</td>\n",
       "      <td>5</td>\n",
       "      <td>3</td>\n",
       "      <td>8</td>\n",
       "      <td>3</td>\n",
       "      <td>8.0</td>\n",
       "    </tr>\n",
       "    <tr>\n",
       "      <th>2</th>\n",
       "      <td>Добавить блоки рекомендаций товаров на сайт интернет магазина, чтобы повысить конверсию и средний чек заказа</td>\n",
       "      <td>8</td>\n",
       "      <td>3</td>\n",
       "      <td>7</td>\n",
       "      <td>3</td>\n",
       "      <td>7.0</td>\n",
       "    </tr>\n",
       "    <tr>\n",
       "      <th>1</th>\n",
       "      <td>Запустить собственную службу доставки, что сократит срок доставки заказов</td>\n",
       "      <td>2</td>\n",
       "      <td>5</td>\n",
       "      <td>4</td>\n",
       "      <td>10</td>\n",
       "      <td>2.0</td>\n",
       "    </tr>\n",
       "    <tr>\n",
       "      <th>5</th>\n",
       "      <td>Добавить страницу отзывов клиентов о магазине, что позволит увеличить количество заказов</td>\n",
       "      <td>3</td>\n",
       "      <td>2</td>\n",
       "      <td>2</td>\n",
       "      <td>3</td>\n",
       "      <td>1.3</td>\n",
       "    </tr>\n",
       "    <tr>\n",
       "      <th>3</th>\n",
       "      <td>Изменить структура категорий, что увеличит конверсию, т.к. пользователи быстрее найдут нужный товар</td>\n",
       "      <td>8</td>\n",
       "      <td>3</td>\n",
       "      <td>3</td>\n",
       "      <td>8</td>\n",
       "      <td>1.1</td>\n",
       "    </tr>\n",
       "    <tr>\n",
       "      <th>4</th>\n",
       "      <td>Изменить цвет фона главной страницы, чтобы увеличить вовлеченность пользователей</td>\n",
       "      <td>3</td>\n",
       "      <td>1</td>\n",
       "      <td>1</td>\n",
       "      <td>1</td>\n",
       "      <td>1.0</td>\n",
       "    </tr>\n",
       "  </tbody>\n",
       "</table>\n",
       "</div>"
      ],
      "text/plain": [
       "                                                                                                     hypothesis  \\\n",
       "8                                                       Запустить акцию, дающую скидку на товар в день рождения   \n",
       "0            Добавить два новых канала привлечения трафика, что позволит привлекать на 30% больше пользователей   \n",
       "7              Добавить форму подписки на все основные страницы, чтобы собрать базу клиентов для email-рассылок   \n",
       "6          Показать на главной странице баннеры с актуальными акциями и распродажами, чтобы увеличить конверсию   \n",
       "2  Добавить блоки рекомендаций товаров на сайт интернет магазина, чтобы повысить конверсию и средний чек заказа   \n",
       "1                                     Запустить собственную службу доставки, что сократит срок доставки заказов   \n",
       "5                      Добавить страницу отзывов клиентов о магазине, что позволит увеличить количество заказов   \n",
       "3           Изменить структура категорий, что увеличит конверсию, т.к. пользователи быстрее найдут нужный товар   \n",
       "4                              Изменить цвет фона главной страницы, чтобы увеличить вовлеченность пользователей   \n",
       "\n",
       "   reach  impact  confidence  efforts   ICE  \n",
       "8      1       9           9        5  16.2  \n",
       "0      3      10           8        6  13.3  \n",
       "7     10       7           8        5  11.2  \n",
       "6      5       3           8        3   8.0  \n",
       "2      8       3           7        3   7.0  \n",
       "1      2       5           4       10   2.0  \n",
       "5      3       2           2        3   1.3  \n",
       "3      8       3           3        8   1.1  \n",
       "4      3       1           1        1   1.0  "
      ]
     },
     "execution_count": 17,
     "metadata": {},
     "output_type": "execute_result"
    }
   ],
   "source": [
    "#создаем столбец со значением ICE\n",
    "hypothesis['ICE'] = round(((\n",
    "    hypothesis['impact'] *\n",
    "    hypothesis['confidence']) /\n",
    "    hypothesis['efforts']\n",
    "), 1)\n",
    "#отсортируем данные по новуму столбцу\n",
    "hypothesis = hypothesis.sort_values(by=['ICE'], ascending = False)\n",
    "hypothesis"
   ]
  },
  {
   "cell_type": "markdown",
   "metadata": {},
   "source": [
    "### Фреймворк RICE"
   ]
  },
  {
   "cell_type": "code",
   "execution_count": 18,
   "metadata": {},
   "outputs": [
    {
     "data": {
      "text/html": [
       "<div>\n",
       "<style scoped>\n",
       "    .dataframe tbody tr th:only-of-type {\n",
       "        vertical-align: middle;\n",
       "    }\n",
       "\n",
       "    .dataframe tbody tr th {\n",
       "        vertical-align: top;\n",
       "    }\n",
       "\n",
       "    .dataframe thead th {\n",
       "        text-align: right;\n",
       "    }\n",
       "</style>\n",
       "<table border=\"1\" class=\"dataframe\">\n",
       "  <thead>\n",
       "    <tr style=\"text-align: right;\">\n",
       "      <th></th>\n",
       "      <th>hypothesis</th>\n",
       "      <th>reach</th>\n",
       "      <th>impact</th>\n",
       "      <th>confidence</th>\n",
       "      <th>efforts</th>\n",
       "      <th>ICE</th>\n",
       "      <th>RICE</th>\n",
       "    </tr>\n",
       "  </thead>\n",
       "  <tbody>\n",
       "    <tr>\n",
       "      <th>7</th>\n",
       "      <td>Добавить форму подписки на все основные страницы, чтобы собрать базу клиентов для email-рассылок</td>\n",
       "      <td>10</td>\n",
       "      <td>7</td>\n",
       "      <td>8</td>\n",
       "      <td>5</td>\n",
       "      <td>11.2</td>\n",
       "      <td>112.0</td>\n",
       "    </tr>\n",
       "    <tr>\n",
       "      <th>2</th>\n",
       "      <td>Добавить блоки рекомендаций товаров на сайт интернет магазина, чтобы повысить конверсию и средний чек заказа</td>\n",
       "      <td>8</td>\n",
       "      <td>3</td>\n",
       "      <td>7</td>\n",
       "      <td>3</td>\n",
       "      <td>7.0</td>\n",
       "      <td>56.0</td>\n",
       "    </tr>\n",
       "    <tr>\n",
       "      <th>0</th>\n",
       "      <td>Добавить два новых канала привлечения трафика, что позволит привлекать на 30% больше пользователей</td>\n",
       "      <td>3</td>\n",
       "      <td>10</td>\n",
       "      <td>8</td>\n",
       "      <td>6</td>\n",
       "      <td>13.3</td>\n",
       "      <td>40.0</td>\n",
       "    </tr>\n",
       "    <tr>\n",
       "      <th>6</th>\n",
       "      <td>Показать на главной странице баннеры с актуальными акциями и распродажами, чтобы увеличить конверсию</td>\n",
       "      <td>5</td>\n",
       "      <td>3</td>\n",
       "      <td>8</td>\n",
       "      <td>3</td>\n",
       "      <td>8.0</td>\n",
       "      <td>40.0</td>\n",
       "    </tr>\n",
       "    <tr>\n",
       "      <th>8</th>\n",
       "      <td>Запустить акцию, дающую скидку на товар в день рождения</td>\n",
       "      <td>1</td>\n",
       "      <td>9</td>\n",
       "      <td>9</td>\n",
       "      <td>5</td>\n",
       "      <td>16.2</td>\n",
       "      <td>16.2</td>\n",
       "    </tr>\n",
       "    <tr>\n",
       "      <th>3</th>\n",
       "      <td>Изменить структура категорий, что увеличит конверсию, т.к. пользователи быстрее найдут нужный товар</td>\n",
       "      <td>8</td>\n",
       "      <td>3</td>\n",
       "      <td>3</td>\n",
       "      <td>8</td>\n",
       "      <td>1.1</td>\n",
       "      <td>9.0</td>\n",
       "    </tr>\n",
       "    <tr>\n",
       "      <th>1</th>\n",
       "      <td>Запустить собственную службу доставки, что сократит срок доставки заказов</td>\n",
       "      <td>2</td>\n",
       "      <td>5</td>\n",
       "      <td>4</td>\n",
       "      <td>10</td>\n",
       "      <td>2.0</td>\n",
       "      <td>4.0</td>\n",
       "    </tr>\n",
       "    <tr>\n",
       "      <th>5</th>\n",
       "      <td>Добавить страницу отзывов клиентов о магазине, что позволит увеличить количество заказов</td>\n",
       "      <td>3</td>\n",
       "      <td>2</td>\n",
       "      <td>2</td>\n",
       "      <td>3</td>\n",
       "      <td>1.3</td>\n",
       "      <td>4.0</td>\n",
       "    </tr>\n",
       "    <tr>\n",
       "      <th>4</th>\n",
       "      <td>Изменить цвет фона главной страницы, чтобы увеличить вовлеченность пользователей</td>\n",
       "      <td>3</td>\n",
       "      <td>1</td>\n",
       "      <td>1</td>\n",
       "      <td>1</td>\n",
       "      <td>1.0</td>\n",
       "      <td>3.0</td>\n",
       "    </tr>\n",
       "  </tbody>\n",
       "</table>\n",
       "</div>"
      ],
      "text/plain": [
       "                                                                                                     hypothesis  \\\n",
       "7              Добавить форму подписки на все основные страницы, чтобы собрать базу клиентов для email-рассылок   \n",
       "2  Добавить блоки рекомендаций товаров на сайт интернет магазина, чтобы повысить конверсию и средний чек заказа   \n",
       "0            Добавить два новых канала привлечения трафика, что позволит привлекать на 30% больше пользователей   \n",
       "6          Показать на главной странице баннеры с актуальными акциями и распродажами, чтобы увеличить конверсию   \n",
       "8                                                       Запустить акцию, дающую скидку на товар в день рождения   \n",
       "3           Изменить структура категорий, что увеличит конверсию, т.к. пользователи быстрее найдут нужный товар   \n",
       "1                                     Запустить собственную службу доставки, что сократит срок доставки заказов   \n",
       "5                      Добавить страницу отзывов клиентов о магазине, что позволит увеличить количество заказов   \n",
       "4                              Изменить цвет фона главной страницы, чтобы увеличить вовлеченность пользователей   \n",
       "\n",
       "   reach  impact  confidence  efforts   ICE   RICE  \n",
       "7     10       7           8        5  11.2  112.0  \n",
       "2      8       3           7        3   7.0   56.0  \n",
       "0      3      10           8        6  13.3   40.0  \n",
       "6      5       3           8        3   8.0   40.0  \n",
       "8      1       9           9        5  16.2   16.2  \n",
       "3      8       3           3        8   1.1    9.0  \n",
       "1      2       5           4       10   2.0    4.0  \n",
       "5      3       2           2        3   1.3    4.0  \n",
       "4      3       1           1        1   1.0    3.0  "
      ]
     },
     "execution_count": 18,
     "metadata": {},
     "output_type": "execute_result"
    }
   ],
   "source": [
    "#создаем столбец со значением RICE\n",
    "hypothesis['RICE'] = ((\n",
    "    hypothesis['impact'] *\n",
    "    hypothesis['reach'] *\n",
    "    hypothesis['confidence']) /\n",
    "    hypothesis['efforts']\n",
    ")\n",
    "#отсортируем данные по новуму столбцу\n",
    "hypothesis = hypothesis.sort_values(by=['RICE'], ascending = False)\n",
    "hypothesis"
   ]
  },
  {
   "cell_type": "markdown",
   "metadata": {},
   "source": [
    "### Вывод\n",
    "\n",
    "- Изначально, по фреймворку ICE, я бы предложил запустить акцию, дающую скидку на товар в день рождения. Но так мы охватим наименьшее количество полльзователей.\n",
    "- По фреймворку RICE, лучше нам начаться с добавление формы подписки на все основные страницы. Так мы соберем базу клиентов для email-рассылок. "
   ]
  },
  {
   "cell_type": "markdown",
   "metadata": {},
   "source": [
    "## Анализ A/B-теста\n",
    "<a id='section_4'><a/>"
   ]
  },
  {
   "cell_type": "markdown",
   "metadata": {},
   "source": [
    "### Построение графика кумулятивной выручки по группам"
   ]
  },
  {
   "cell_type": "code",
   "execution_count": 19,
   "metadata": {
    "scrolled": false
   },
   "outputs": [
    {
     "data": {
      "image/png": "[encoded data removed]",
      "text/plain": [
       "<Figure size 1008x504 with 1 Axes>"
      ]
     },
     "metadata": {
      "needs_background": "light"
     },
     "output_type": "display_data"
    }
   ],
   "source": [
    "datesGroups = orders[['date', 'group']].drop_duplicates()\n",
    "\n",
    "ordersAggregated = datesGroups.apply(\n",
    "    lambda x: orders[\n",
    "        np.logical_and(\n",
    "            orders['date'] <= x['date'], orders['group'] == x['group']\n",
    "        )\n",
    "    ].agg(\n",
    "        {\n",
    "            'date': 'max',\n",
    "            'group': 'max',\n",
    "            'transaction_id': 'nunique',\n",
    "            'visitor_id': 'nunique',\n",
    "            'revenue': 'sum',\n",
    "        }\n",
    "    ),\n",
    "    axis=1,\n",
    ").sort_values(by=['date', 'group'])\n",
    "\n",
    "visitorsAggregated = datesGroups.apply(\n",
    "    lambda x: visitors[\n",
    "        np.logical_and(\n",
    "            visitors['date'] <= x['date'], visitors['group'] == x['group']\n",
    "        )\n",
    "    ].agg({'date': 'max', 'group': 'max', 'visitors': 'sum'}),\n",
    "    axis=1,\n",
    ").sort_values(by=['date', 'group'])\n",
    "\n",
    "cumulativeData = ordersAggregated.merge(\n",
    "    visitorsAggregated, left_on=['date', 'group'], right_on=['date', 'group']\n",
    ")\n",
    "cumulativeData.columns = [\n",
    "    'date',\n",
    "    'group',\n",
    "    'orders',\n",
    "    'buyers',\n",
    "    'revenue',\n",
    "    'visitors',\n",
    "]\n",
    "\n",
    "\n",
    "# датафрейм с кумулятивным количеством заказов и кумулятивной выручкой по дням в группе А\n",
    "cumulativeRevenueA = cumulativeData[cumulativeData['group']=='A'][['date','revenue', 'orders']]\n",
    "\n",
    "# датафрейм с кумулятивным количеством заказов и кумулятивной выручкой по дням в группе B\n",
    "cumulativeRevenueB = cumulativeData[cumulativeData['group']=='B'][['date','revenue', 'orders']]\n",
    "\n",
    "plt.figure(figsize=(14,7))\n",
    "# Строим график выручки группы А\n",
    "plt.plot(cumulativeRevenueA['date'], cumulativeRevenueA['revenue'], label='A')\n",
    "\n",
    "# Строим график выручки группы B\n",
    "plt.plot(cumulativeRevenueB['date'], cumulativeRevenueB['revenue'], label='B')\n",
    "plt.annotate('скачок', xy=('2019-08-17', 2800000), xytext=('2019-08-10', 3500000),\n",
    "            arrowprops=dict(facecolor='g'))\n",
    "plt.annotate('отрыв', xy=('2019-08-05', 800000), xytext=('2019-08-05', 2000000),\n",
    "            arrowprops=dict(facecolor='g'))\n",
    "plt.title('График кумулятивной выручки по группам', size = 20)\n",
    "plt.xlabel('Дата', size = 15)\n",
    "plt.ylabel('Выручка', size = 15)\n",
    "plt.legend()\n",
    "plt.show()"
   ]
  },
  {
   "cell_type": "markdown",
   "metadata": {},
   "source": [
    "Группа В показывала себя сразу лучше, чем группа А. Виден резкий скачок 18 числа и последующий плавный рост. Произошел крупный заказ, который исказил наши данные."
   ]
  },
  {
   "cell_type": "markdown",
   "metadata": {},
   "source": [
    "### Построение графика среднего чека по группам"
   ]
  },
  {
   "cell_type": "code",
   "execution_count": 20,
   "metadata": {
    "scrolled": false
   },
   "outputs": [
    {
     "data": {
      "image/png": "[encoded data removed]",
      "text/plain": [
       "<Figure size 1008x504 with 1 Axes>"
      ]
     },
     "metadata": {
      "needs_background": "light"
     },
     "output_type": "display_data"
    }
   ],
   "source": [
    "cumulativeRevenueA = cumulativeData[cumulativeData['group'] == 'A'][\n",
    "    ['date', 'revenue', 'orders']\n",
    "]\n",
    "cumulativeRevenueB = cumulativeData[cumulativeData['group'] == 'B'][\n",
    "    ['date', 'revenue', 'orders']\n",
    "]\n",
    "\n",
    "plt.figure(figsize=(14,7))\n",
    "plt.plot(cumulativeRevenueA['date'], cumulativeRevenueA['revenue']/cumulativeRevenueA['orders'], label='A')\n",
    "plt.plot(cumulativeRevenueB['date'], cumulativeRevenueB['revenue']/cumulativeRevenueB['orders'], label='B')\n",
    "plt.title('График среднего чека по группам', size = 20)\n",
    "plt.xlabel('Дата', size = 15)\n",
    "plt.ylabel('Средний чек', size = 15)\n",
    "plt.legend()\n",
    "plt.show()"
   ]
  },
  {
   "cell_type": "markdown",
   "metadata": {},
   "source": [
    "Тут имеем тоже самое, что и на прошлом графике. Резкий скачок 18го числа. Но средний чек группы В здесь начинает падать, когда чек группы А расти."
   ]
  },
  {
   "cell_type": "markdown",
   "metadata": {},
   "source": [
    "### Построение графика относительного изменения кумулятивного среднего чека группы B к группе A"
   ]
  },
  {
   "cell_type": "code",
   "execution_count": 21,
   "metadata": {
    "scrolled": false
   },
   "outputs": [
    {
     "data": {
      "image/png": "[encoded data removed]",
      "text/plain": [
       "<Figure size 1008x504 with 1 Axes>"
      ]
     },
     "metadata": {
      "needs_background": "light"
     },
     "output_type": "display_data"
    }
   ],
   "source": [
    "# собираем данные в одном датафрейме\n",
    "mergedCumulativeRevenue = cumulativeRevenueA.merge(cumulativeRevenueB, left_on='date', right_on='date', how='left', suffixes=['A', 'B'])\n",
    "plt.figure(figsize=(14,7))\n",
    "# cтроим отношение средних чеков\n",
    "plt.plot(mergedCumulativeRevenue['date'], (mergedCumulativeRevenue['revenueB']/mergedCumulativeRevenue['ordersB'])/(mergedCumulativeRevenue['revenueA']/mergedCumulativeRevenue['ordersA'])-1, label=\"Относительный прирост среднего чека группы B относительно группы A\")\n",
    "\n",
    "# добавляем ось X\n",
    "plt.axhline(y=0, color='black', linestyle='--')\n",
    "plt.title('График относительного изменения кумулятивного среднего чека группы B к группе A', size = 20)\n",
    "plt.show()"
   ]
  },
  {
   "cell_type": "markdown",
   "metadata": {},
   "source": [
    "Видим, что группа В лидирует. Также наш аномальный скачок 18го числа и самый первый день теста."
   ]
  },
  {
   "cell_type": "markdown",
   "metadata": {},
   "source": [
    "### Построение графика кумулятивной конверсии по группам"
   ]
  },
  {
   "cell_type": "code",
   "execution_count": 22,
   "metadata": {},
   "outputs": [
    {
     "data": {
      "image/png": "[encoded data removed]",
      "text/plain": [
       "<Figure size 1008x504 with 1 Axes>"
      ]
     },
     "metadata": {
      "needs_background": "light"
     },
     "output_type": "display_data"
    }
   ],
   "source": [
    "# считаем кумулятивную конверсию\n",
    "cumulativeData['conversion'] = cumulativeData['orders']/cumulativeData['visitors']\n",
    "\n",
    "# отделяем данные по группе A\n",
    "cumulativeDataA = cumulativeData[cumulativeData['group']=='A']\n",
    "\n",
    "# отделяем данные по группе B\n",
    "cumulativeDataB = cumulativeData[cumulativeData['group']=='B']\n",
    "\n",
    "# строим графики\n",
    "plt.figure(figsize=(14,7))\n",
    "plt.plot(cumulativeDataA['date'], cumulativeDataA['conversion'], label='A')\n",
    "plt.plot(cumulativeDataB['date'], cumulativeDataB['conversion'], label='B')\n",
    "plt.title('График кумулятивной конверсии по группам', size = 20)\n",
    "plt.xlabel('Дата', size = 15)\n",
    "plt.ylabel('Конверсия', size = 15)\n",
    "plt.legend()\n",
    "plt.show()"
   ]
  },
  {
   "cell_type": "markdown",
   "metadata": {},
   "source": [
    "Скачки в начале теста и после конверсия стремится к средним значениям."
   ]
  },
  {
   "cell_type": "markdown",
   "metadata": {},
   "source": [
    "### Построение графика относительного изменения кумулятивной конверсии группы B к группе A"
   ]
  },
  {
   "cell_type": "code",
   "execution_count": 23,
   "metadata": {
    "scrolled": false
   },
   "outputs": [
    {
     "data": {
      "image/png": "[encoded data removed]",
      "text/plain": [
       "<Figure size 1008x504 with 1 Axes>"
      ]
     },
     "metadata": {
      "needs_background": "light"
     },
     "output_type": "display_data"
    }
   ],
   "source": [
    "mergedCumulativeConversions = cumulativeDataA[['date','conversion']].merge(cumulativeDataB[['date','conversion']], left_on='date', right_on='date', how='left', suffixes=['A', 'B'])\n",
    "plt.figure(figsize=(14,7))\n",
    "\n",
    "plt.plot(mergedCumulativeConversions['date'], mergedCumulativeConversions['conversionB']/mergedCumulativeConversions['conversionA']-1, label=\"Относительный прирост конверсии группы B относительно группы A\")\n",
    "plt.title('График относительного изменения кумулятивной конверсии группы B к группе A', size = 20)\n",
    "plt.axhline(y=0, color='black', linestyle='--')\n",
    "\n",
    "plt.show()\n"
   ]
  },
  {
   "cell_type": "markdown",
   "metadata": {},
   "source": [
    "Группа В опять показывает себя лучше, чем группа А. Резкие изменения етсь только в нчале теста, но это нормально из-за малого количества данных."
   ]
  },
  {
   "cell_type": "markdown",
   "metadata": {},
   "source": [
    "###  Распределение количества заказов"
   ]
  },
  {
   "cell_type": "code",
   "execution_count": 24,
   "metadata": {},
   "outputs": [
    {
     "data": {
      "image/png": "[encoded data removed]",
      "text/plain": [
       "<Figure size 1008x504 with 1 Axes>"
      ]
     },
     "metadata": {
      "needs_background": "light"
     },
     "output_type": "display_data"
    }
   ],
   "source": [
    "ordersByUsers = (\n",
    "    orders.groupby('visitor_id', as_index=False)\n",
    "    .agg({'transaction_id': pd.Series.nunique})\n",
    ")\n",
    "ordersByUsers.columns = ['visitor_id', 'orders']\n",
    "plt.figure(figsize=(14,7))\n",
    "# серия из чисел от 0 до количества наблюдений в ordersByUsers\n",
    "x_values = pd.Series(range(0, len(ordersByUsers)))\n",
    "plt.scatter(x_values, ordersByUsers['orders'])\n",
    "plt.title('Распеределение по количеству заказов', size = 20)\n",
    "plt.ylabel('Количество заказов', size = 15)\n",
    "plt.show()"
   ]
  },
  {
   "cell_type": "code",
   "execution_count": 25,
   "metadata": {},
   "outputs": [
    {
     "name": "stdout",
     "output_type": "stream",
     "text": [
      "[2. 4.]\n"
     ]
    }
   ],
   "source": [
    "print(np.percentile(ordersByUsers['orders'], [95, 99])) "
   ]
  },
  {
   "cell_type": "markdown",
   "metadata": {},
   "source": [
    "Есть пользователи, которые размещают 11 заказов. 5% делают больше двух заказов. 1% делает больше 4 заказов."
   ]
  },
  {
   "cell_type": "markdown",
   "metadata": {},
   "source": [
    "###  Распределение стоимости заказов"
   ]
  },
  {
   "cell_type": "code",
   "execution_count": 26,
   "metadata": {
    "scrolled": false
   },
   "outputs": [
    {
     "data": {
      "image/png": "[encoded data removed]",
      "text/plain": [
       "<Figure size 1008x504 with 1 Axes>"
      ]
     },
     "metadata": {
      "needs_background": "light"
     },
     "output_type": "display_data"
    }
   ],
   "source": [
    "plt.figure(figsize=(14,7))\n",
    "x_values = pd.Series(range(0, len(orders['revenue'])))\n",
    "plt.scatter(x_values, orders['revenue']) \n",
    "plt.title('Распеределение по стоимости заказов', size = 20)\n",
    "plt.ylabel('Стоимость заказов', size = 15)\n",
    "plt.show()"
   ]
  },
  {
   "cell_type": "code",
   "execution_count": 27,
   "metadata": {
    "scrolled": false
   },
   "outputs": [
    {
     "name": "stdout",
     "output_type": "stream",
     "text": [
      "[28000.  58233.2]\n"
     ]
    }
   ],
   "source": [
    "print(np.percentile(orders['revenue'], [95, 99])) "
   ]
  },
  {
   "cell_type": "markdown",
   "metadata": {},
   "source": [
    "Есть пользователь, который сделал заказ больше чем на 1,2 млн. Скорее всего аномалия связяна с ним. У 5% пользователей заказы дороже 28000. У 1% пользователей заказы дороже 58233. "
   ]
  },
  {
   "cell_type": "markdown",
   "metadata": {},
   "source": [
    "###  Статистическая значимость различий в конверсии между группами по «сырым» данным"
   ]
  },
  {
   "cell_type": "markdown",
   "metadata": {},
   "source": [
    "Выдвенем две гипотезы:\n",
    "- H0: данные в выборках взяты из одной и той же генеральной совокупности\n",
    "- H1: данные в выборках взяты из разных генеральных совокупностей."
   ]
  },
  {
   "cell_type": "code",
   "execution_count": 28,
   "metadata": {},
   "outputs": [],
   "source": [
    "visitorsADaily = visitors[visitors['group'] == 'A'][['date', 'visitors']]\n",
    "visitorsADaily.columns = ['date', 'visitorsPerDateA']\n",
    "\n",
    "visitorsACummulative = visitorsADaily.apply(\n",
    "    lambda x: visitorsADaily[visitorsADaily['date'] <= x['date']].agg(\n",
    "        {'date': 'max', 'visitorsPerDateA': 'sum'}\n",
    "    ),\n",
    "    axis=1,\n",
    ")\n",
    "visitorsACummulative.columns = ['date', 'visitorsCummulativeA']\n",
    "\n",
    "visitorsBDaily = visitors[visitors['group'] == 'B'][['date', 'visitors']]\n",
    "visitorsBDaily.columns = ['date', 'visitorsPerDateB']\n",
    "\n",
    "visitorsBCummulative = visitorsBDaily.apply(\n",
    "    lambda x: visitorsBDaily[visitorsBDaily['date'] <= x['date']].agg(\n",
    "        {'date': 'max', 'visitorsPerDateB': 'sum'}\n",
    "    ),\n",
    "    axis=1,\n",
    ")\n",
    "visitorsBCummulative.columns = ['date', 'visitorsCummulativeB']"
   ]
  },
  {
   "cell_type": "code",
   "execution_count": 29,
   "metadata": {},
   "outputs": [],
   "source": [
    "ordersADaily = (\n",
    "    orders[orders['group'] == 'A'][['date', 'transaction_id', 'visitor_id', 'revenue']]\n",
    "    .groupby('date', as_index=False)\n",
    "    .agg({'transaction_id': pd.Series.nunique, 'revenue': 'sum'})\n",
    ")\n",
    "ordersADaily.columns = ['date', 'ordersPerDateA', 'revenuePerDateA']\n",
    "\n",
    "ordersACummulative = ordersADaily.apply(\n",
    "    lambda x: ordersADaily[ordersADaily['date'] <= x['date']].agg(\n",
    "        {'date': 'max', 'ordersPerDateA': 'sum', 'revenuePerDateA': 'sum'}\n",
    "    ),\n",
    "    axis=1,\n",
    ").sort_values(by=['date'])\n",
    "ordersACummulative.columns = [\n",
    "    'date',\n",
    "    'ordersCummulativeA',\n",
    "    'revenueCummulativeA',\n",
    "]\n",
    "\n",
    "ordersBDaily = (\n",
    "    orders[orders['group'] == 'B'][['date', 'transaction_id', 'visitor_id', 'revenue']]\n",
    "    .groupby('date', as_index=False)\n",
    "    .agg({'transaction_id': pd.Series.nunique, 'revenue': 'sum'})\n",
    ")\n",
    "ordersBDaily.columns = ['date', 'ordersPerDateB', 'revenuePerDateB']\n",
    "\n",
    "ordersBCummulative = ordersBDaily.apply(\n",
    "    lambda x: ordersBDaily[ordersBDaily['date'] <= x['date']].agg(\n",
    "        {'date': 'max', 'ordersPerDateB': 'sum', 'revenuePerDateB': 'sum'}\n",
    "    ),\n",
    "    axis=1,\n",
    ").sort_values(by=['date'])\n",
    "ordersBCummulative.columns = [\n",
    "    'date',\n",
    "    'ordersCummulativeB',\n",
    "    'revenueCummulativeB',\n",
    "]"
   ]
  },
  {
   "cell_type": "code",
   "execution_count": 30,
   "metadata": {},
   "outputs": [
    {
     "data": {
      "text/html": [
       "<div>\n",
       "<style scoped>\n",
       "    .dataframe tbody tr th:only-of-type {\n",
       "        vertical-align: middle;\n",
       "    }\n",
       "\n",
       "    .dataframe tbody tr th {\n",
       "        vertical-align: top;\n",
       "    }\n",
       "\n",
       "    .dataframe thead th {\n",
       "        text-align: right;\n",
       "    }\n",
       "</style>\n",
       "<table border=\"1\" class=\"dataframe\">\n",
       "  <thead>\n",
       "    <tr style=\"text-align: right;\">\n",
       "      <th></th>\n",
       "      <th>date</th>\n",
       "      <th>ordersPerDateA</th>\n",
       "      <th>revenuePerDateA</th>\n",
       "      <th>ordersPerDateB</th>\n",
       "      <th>revenuePerDateB</th>\n",
       "      <th>ordersCummulativeA</th>\n",
       "      <th>revenueCummulativeA</th>\n",
       "      <th>ordersCummulativeB</th>\n",
       "      <th>revenueCummulativeB</th>\n",
       "      <th>visitorsPerDateA</th>\n",
       "      <th>visitorsPerDateB</th>\n",
       "      <th>visitorsCummulativeA</th>\n",
       "      <th>visitorsCummulativeB</th>\n",
       "    </tr>\n",
       "  </thead>\n",
       "  <tbody>\n",
       "    <tr>\n",
       "      <th>0</th>\n",
       "      <td>2019-08-01</td>\n",
       "      <td>24</td>\n",
       "      <td>148579</td>\n",
       "      <td>21</td>\n",
       "      <td>101217</td>\n",
       "      <td>24</td>\n",
       "      <td>148579</td>\n",
       "      <td>21</td>\n",
       "      <td>101217</td>\n",
       "      <td>719</td>\n",
       "      <td>713</td>\n",
       "      <td>719</td>\n",
       "      <td>713</td>\n",
       "    </tr>\n",
       "    <tr>\n",
       "      <th>1</th>\n",
       "      <td>2019-08-02</td>\n",
       "      <td>20</td>\n",
       "      <td>93822</td>\n",
       "      <td>24</td>\n",
       "      <td>165531</td>\n",
       "      <td>44</td>\n",
       "      <td>242401</td>\n",
       "      <td>45</td>\n",
       "      <td>266748</td>\n",
       "      <td>619</td>\n",
       "      <td>581</td>\n",
       "      <td>1338</td>\n",
       "      <td>1294</td>\n",
       "    </tr>\n",
       "    <tr>\n",
       "      <th>2</th>\n",
       "      <td>2019-08-03</td>\n",
       "      <td>24</td>\n",
       "      <td>112473</td>\n",
       "      <td>16</td>\n",
       "      <td>114248</td>\n",
       "      <td>68</td>\n",
       "      <td>354874</td>\n",
       "      <td>61</td>\n",
       "      <td>380996</td>\n",
       "      <td>507</td>\n",
       "      <td>509</td>\n",
       "      <td>1845</td>\n",
       "      <td>1803</td>\n",
       "    </tr>\n",
       "    <tr>\n",
       "      <th>3</th>\n",
       "      <td>2019-08-04</td>\n",
       "      <td>16</td>\n",
       "      <td>70825</td>\n",
       "      <td>17</td>\n",
       "      <td>108571</td>\n",
       "      <td>84</td>\n",
       "      <td>425699</td>\n",
       "      <td>78</td>\n",
       "      <td>489567</td>\n",
       "      <td>717</td>\n",
       "      <td>770</td>\n",
       "      <td>2562</td>\n",
       "      <td>2573</td>\n",
       "    </tr>\n",
       "    <tr>\n",
       "      <th>4</th>\n",
       "      <td>2019-08-05</td>\n",
       "      <td>25</td>\n",
       "      <td>124218</td>\n",
       "      <td>23</td>\n",
       "      <td>92428</td>\n",
       "      <td>109</td>\n",
       "      <td>549917</td>\n",
       "      <td>101</td>\n",
       "      <td>581995</td>\n",
       "      <td>756</td>\n",
       "      <td>707</td>\n",
       "      <td>3318</td>\n",
       "      <td>3280</td>\n",
       "    </tr>\n",
       "  </tbody>\n",
       "</table>\n",
       "</div>"
      ],
      "text/plain": [
       "        date  ordersPerDateA  revenuePerDateA  ordersPerDateB  \\\n",
       "0 2019-08-01              24           148579              21   \n",
       "1 2019-08-02              20            93822              24   \n",
       "2 2019-08-03              24           112473              16   \n",
       "3 2019-08-04              16            70825              17   \n",
       "4 2019-08-05              25           124218              23   \n",
       "\n",
       "   revenuePerDateB  ordersCummulativeA  revenueCummulativeA  \\\n",
       "0           101217                  24               148579   \n",
       "1           165531                  44               242401   \n",
       "2           114248                  68               354874   \n",
       "3           108571                  84               425699   \n",
       "4            92428                 109               549917   \n",
       "\n",
       "   ordersCummulativeB  revenueCummulativeB  visitorsPerDateA  \\\n",
       "0                  21               101217               719   \n",
       "1                  45               266748               619   \n",
       "2                  61               380996               507   \n",
       "3                  78               489567               717   \n",
       "4                 101               581995               756   \n",
       "\n",
       "   visitorsPerDateB  visitorsCummulativeA  visitorsCummulativeB  \n",
       "0               713                   719                   713  \n",
       "1               581                  1338                  1294  \n",
       "2               509                  1845                  1803  \n",
       "3               770                  2562                  2573  \n",
       "4               707                  3318                  3280  "
      ]
     },
     "execution_count": 30,
     "metadata": {},
     "output_type": "execute_result"
    }
   ],
   "source": [
    "data = (\n",
    "    ordersADaily.merge(\n",
    "        ordersBDaily, left_on='date', right_on='date', how='left'\n",
    "    )\n",
    "    .merge(ordersACummulative, left_on='date', right_on='date', how='left')\n",
    "    .merge(ordersBCummulative, left_on='date', right_on='date', how='left')\n",
    "    .merge(visitorsADaily, left_on='date', right_on='date', how='left')\n",
    "    .merge(visitorsBDaily, left_on='date', right_on='date', how='left')\n",
    "    .merge(visitorsACummulative, left_on='date', right_on='date', how='left')\n",
    "    .merge(visitorsBCummulative, left_on='date', right_on='date', how='left')\n",
    ")\n",
    "\n",
    "data.head(5)\n"
   ]
  },
  {
   "cell_type": "code",
   "execution_count": 31,
   "metadata": {},
   "outputs": [],
   "source": [
    "ordersByUsersA = (\n",
    "    orders[orders['group'] == 'A']\n",
    "    .groupby('visitor_id', as_index=False)\n",
    "    .agg({'transaction_id': pd.Series.nunique})\n",
    ")\n",
    "ordersByUsersA.columns = ['visitor_id', 'orders']\n",
    "\n",
    "ordersByUsersB = (\n",
    "    orders[orders['group'] == 'B']\n",
    "    .groupby('visitor_id', as_index=False)\n",
    "    .agg({'transaction_id': pd.Series.nunique})\n",
    ")\n",
    "ordersByUsersB.columns = ['visitor_id', 'orders']\n",
    "\n",
    "usersWithManyOrders = pd.concat(\n",
    "    [\n",
    "        ordersByUsersA[ordersByUsersA['orders'] > 2]['visitor_id'],\n",
    "        ordersByUsersB[ordersByUsersB['orders'] > 2]['visitor_id'],\n",
    "    ],\n",
    "    axis=0,\n",
    ")\n",
    "usersWithExpensiveOrders = orders[orders['revenue'] > 10000]['visitor_id']\n",
    "abnormalUsers = (\n",
    "    pd.concat([usersWithManyOrders, usersWithExpensiveOrders], axis=0)\n",
    "    .drop_duplicates()\n",
    "    .sort_values()\n",
    ")"
   ]
  },
  {
   "cell_type": "code",
   "execution_count": 32,
   "metadata": {},
   "outputs": [
    {
     "name": "stdout",
     "output_type": "stream",
     "text": [
      "0.01679\n",
      "0.138\n"
     ]
    }
   ],
   "source": [
    "sampleA = pd.concat([ordersByUsersA['orders'],pd.Series(0, index=np.arange(data['visitorsPerDateA'].sum() - len(ordersByUsersA['orders'])), name='orders')],axis=0)\n",
    "\n",
    "sampleB = pd.concat([ordersByUsersB['orders'],pd.Series(0, index=np.arange(data['visitorsPerDateB'].sum() - len(ordersByUsersB['orders'])), name='orders')],axis=0)\n",
    "\n",
    "print(\"{0:.5f}\".format(stats.mannwhitneyu(sampleA, sampleB, alternative = 'two-sided')[1]))\n",
    "\n",
    "print(\"{0:.3f}\".format((data['ordersPerDateB'].sum()/data['visitorsPerDateB'].sum())/(data['ordersPerDateA'].sum()/data['visitorsPerDateA'].sum())-1))"
   ]
  },
  {
   "cell_type": "markdown",
   "metadata": {},
   "source": [
    "P-value значительно меньше 0.05, потому нулевую гипотезу отвергаем. Анализ «сырых данных» сообщает, что в конверсии между группами есть статистически значимые различия. Относительный прирост конверсии группы B к конверсии группы A равен 13.8%."
   ]
  },
  {
   "cell_type": "markdown",
   "metadata": {},
   "source": [
    "###  Статистическая значимость различий в среднем чеке между группами по «сырым» данным"
   ]
  },
  {
   "cell_type": "code",
   "execution_count": 33,
   "metadata": {},
   "outputs": [
    {
     "name": "stdout",
     "output_type": "stream",
     "text": [
      "0.729\n",
      "0.259\n"
     ]
    }
   ],
   "source": [
    "print('{0:.3f}'.format(stats.mannwhitneyu(orders[orders['group']=='A']['revenue'], orders[orders['group']=='B']['revenue'], alternative = 'two-sided')[1]))\n",
    "print('{0:.3f}'.format(orders[orders['group']=='B']['revenue'].mean()/orders[orders['group']=='A']['revenue'].mean()-1))"
   ]
  },
  {
   "cell_type": "markdown",
   "metadata": {},
   "source": [
    "P-value больше 0.05 — статистически значимых отличий в среднем чеке между группами нет. Нулевую гипотезу не отвергаем. Относительное различие среднего чека между сегментами целых 25.9%"
   ]
  },
  {
   "cell_type": "markdown",
   "metadata": {},
   "source": [
    "###  Чистка данных от аномальных значений"
   ]
  },
  {
   "cell_type": "code",
   "execution_count": 34,
   "metadata": {},
   "outputs": [],
   "source": [
    "usersWithManyOrders = pd.concat(\n",
    "    [\n",
    "        ordersByUsersA[ordersByUsersA['orders'] > 2]['visitor_id'],\n",
    "        ordersByUsersB[ordersByUsersB['orders'] > 2]['visitor_id'],\n",
    "    ],\n",
    "    axis=0,\n",
    ")\n",
    "usersWithExpensiveOrders = orders[orders['revenue'] > 28000]['visitor_id']\n",
    "abnormalUsers = (\n",
    "    pd.concat([usersWithManyOrders, usersWithExpensiveOrders], axis=0)\n",
    "    .drop_duplicates()\n",
    "    .sort_values()\n",
    ")"
   ]
  },
  {
   "cell_type": "markdown",
   "metadata": {},
   "source": [
    "###  Статистическая значимость различий в конверсии между группами по «очищенным» данным"
   ]
  },
  {
   "cell_type": "code",
   "execution_count": 35,
   "metadata": {},
   "outputs": [
    {
     "name": "stdout",
     "output_type": "stream",
     "text": [
      "0.01304\n",
      "0.173\n"
     ]
    }
   ],
   "source": [
    "sampleAFiltered = pd.concat(\n",
    "    [\n",
    "        ordersByUsersA[\n",
    "            np.logical_not(ordersByUsersA['visitor_id'].isin(abnormalUsers))\n",
    "        ]['orders'],\n",
    "        pd.Series(\n",
    "            0,\n",
    "            index=np.arange(\n",
    "                data['visitorsPerDateA'].sum() - len(ordersByUsersA['orders'])\n",
    "            ),\n",
    "            name='orders',\n",
    "        ),\n",
    "    ],\n",
    "    axis=0,\n",
    ")\n",
    "\n",
    "sampleBFiltered = pd.concat(\n",
    "    [\n",
    "        ordersByUsersB[\n",
    "            np.logical_not(ordersByUsersB['visitor_id'].isin(abnormalUsers))\n",
    "        ]['orders'],\n",
    "        pd.Series(\n",
    "            0,\n",
    "            index=np.arange(\n",
    "                data['visitorsPerDateB'].sum() - len(ordersByUsersB['orders'])\n",
    "            ),\n",
    "            name='orders',\n",
    "        ),\n",
    "    ],\n",
    "    axis=0,\n",
    ")\n",
    "print('{0:.5f}'.format(stats.mannwhitneyu(sampleAFiltered, sampleBFiltered, alternative = 'two-sided')[1]))\n",
    "print('{0:.3f}'.format(sampleBFiltered.mean()/sampleAFiltered.mean()-1))"
   ]
  },
  {
   "cell_type": "markdown",
   "metadata": {},
   "source": [
    "Как и в случае с сырыми данными, статистическая значимость достигнута. Группа В значительно лучше группы А."
   ]
  },
  {
   "cell_type": "markdown",
   "metadata": {},
   "source": [
    "###  Статистическая значимость различий в среднем чеке между группами по «очищенным» данным"
   ]
  },
  {
   "cell_type": "code",
   "execution_count": 36,
   "metadata": {},
   "outputs": [
    {
     "name": "stdout",
     "output_type": "stream",
     "text": [
      "0.738\n",
      "-0.020\n"
     ]
    }
   ],
   "source": [
    "print(\n",
    "    '{0:.3f}'.format(\n",
    "        stats.mannwhitneyu(\n",
    "            orders[\n",
    "                np.logical_and(\n",
    "                    orders['group'] == 'A',\n",
    "                    np.logical_not(orders['visitor_id'].isin(abnormalUsers)),\n",
    "                )\n",
    "            ]['revenue'],\n",
    "            orders[\n",
    "                np.logical_and(\n",
    "                    orders['group'] == 'B',\n",
    "                    np.logical_not(orders['visitor_id'].isin(abnormalUsers)),\n",
    "                )\n",
    "            ]['revenue'],\n",
    "        alternative = 'two-sided')[1]\n",
    "    )\n",
    ")\n",
    "\n",
    "print(\n",
    "    \"{0:.3f}\".format(\n",
    "        orders[\n",
    "            np.logical_and(\n",
    "                orders['group'] == 'B',\n",
    "                np.logical_not(orders['visitor_id'].isin(abnormalUsers)),\n",
    "            )\n",
    "        ]['revenue'].mean()\n",
    "        / orders[\n",
    "            np.logical_and(\n",
    "                orders['group'] == 'A',\n",
    "                np.logical_not(orders['visitor_id'].isin(abnormalUsers)),\n",
    "            )\n",
    "        ]['revenue'].mean()\n",
    "        - 1\n",
    "    )\n",
    ")"
   ]
  },
  {
   "cell_type": "markdown",
   "metadata": {},
   "source": [
    "P-value больше 0.05 — статистически значимых отличий в среднем чеке между группами нет"
   ]
  },
  {
   "cell_type": "markdown",
   "metadata": {},
   "source": [
    "## Решение по результатам теста\n",
    "<a id='section_5'><a/>"
   ]
  },
  {
   "cell_type": "markdown",
   "metadata": {},
   "source": [
    "После очистки мы имеем следующие данные:\n",
    "- Конверсия группы В выше, чем группы А\n",
    "- Средний чек не отличается.\n",
    "\n",
    "На основе всего анализа, предлагаю остановить тест и назвать его успешным. Потому что мы можем выделить группу В, как более эффективную по параметру конверсии, что принесет больше денег даже при одинаковом среднем чеке.\n",
    "\n",
    "Если бы имели одинаковые результаты по конверсиям, важнее нам был бы средний чек. Средний чек у нас одинаковый, поэтому назвали бы мы тест неудачным и остановили. "
   ]
  },
  {
   "cell_type": "markdown",
   "metadata": {},
   "source": [
    "## Выводы\n",
    "<a id='section_6'><a/>"
   ]
  },
  {
   "cell_type": "markdown",
   "metadata": {},
   "source": [
    "В данном проекте я приоритезировал гипотезы по двум фреймворкам. Мы поняли, что фреймворк RICЕ, больше подходит для работы, т.к. он учитывает охват пользователей. Лучше добавить форму подписки на все основные страницы, чтобы собрать базу клиентов для email-рассылок, чем делать акции на день рождения.\n",
    "\n",
    "Также проанализировали данные, нашли аномалию в графиках, которая влияла на решение по рузельтатам теста. После очистки данных, сделал вывод, что тест признан успешным и можно его остановить. Группа В показала себя эффективнее в конверсии, чем группа А. Средний чек у групп никак не отличается.\n",
    "\n",
    "Для предобработки данных я изменил тип данных с столбцах с датами и привел название столбцов в порядок."
   ]
  }
 ],
 "metadata": {
  "ExecuteTimeLog": [
   {
    "duration": 555,
    "start_time": "2022-02-08T15:48:37.450Z"
   },
   {
    "duration": 13,
    "start_time": "2022-02-08T15:49:08.304Z"
   },
   {
    "duration": 13,
    "start_time": "2022-02-08T15:49:18.150Z"
   },
   {
    "duration": 6,
    "start_time": "2022-02-08T15:49:22.488Z"
   },
   {
    "duration": 7,
    "start_time": "2022-02-08T15:49:29.625Z"
   },
   {
    "duration": 5,
    "start_time": "2022-02-08T15:49:38.566Z"
   },
   {
    "duration": 7,
    "start_time": "2022-02-08T15:49:42.672Z"
   },
   {
    "duration": 25,
    "start_time": "2022-02-08T15:50:19.679Z"
   },
   {
    "duration": 28,
    "start_time": "2022-02-08T15:50:30.621Z"
   },
   {
    "duration": 19,
    "start_time": "2022-02-08T15:51:03.154Z"
   },
   {
    "duration": 582,
    "start_time": "2022-02-12T11:39:56.137Z"
   },
   {
    "duration": 15,
    "start_time": "2022-02-12T11:39:56.721Z"
   },
   {
    "duration": 16,
    "start_time": "2022-02-12T11:39:57.285Z"
   },
   {
    "duration": 266,
    "start_time": "2022-02-12T11:40:01.894Z"
   },
   {
    "duration": 33,
    "start_time": "2022-02-12T11:40:02.253Z"
   },
   {
    "duration": 13,
    "start_time": "2022-02-12T11:40:03.965Z"
   },
   {
    "duration": 34,
    "start_time": "2022-02-12T11:40:03.980Z"
   },
   {
    "duration": 54,
    "start_time": "2022-02-12T11:40:04.016Z"
   },
   {
    "duration": 20,
    "start_time": "2022-02-12T11:40:04.073Z"
   },
   {
    "duration": 20,
    "start_time": "2022-02-12T11:40:08.629Z"
   },
   {
    "duration": 22,
    "start_time": "2022-02-12T11:41:42.045Z"
   },
   {
    "duration": 38,
    "start_time": "2022-02-12T11:41:49.004Z"
   },
   {
    "duration": 3,
    "start_time": "2022-02-12T11:43:09.083Z"
   },
   {
    "duration": 40,
    "start_time": "2022-02-12T11:43:09.882Z"
   },
   {
    "duration": 9,
    "start_time": "2022-02-12T11:44:32.873Z"
   },
   {
    "duration": 17,
    "start_time": "2022-02-12T11:44:44.851Z"
   },
   {
    "duration": 31,
    "start_time": "2022-02-12T11:45:06.307Z"
   },
   {
    "duration": 37,
    "start_time": "2022-02-12T11:45:19.703Z"
   },
   {
    "duration": 32,
    "start_time": "2022-02-12T11:45:27.811Z"
   },
   {
    "duration": 29,
    "start_time": "2022-02-12T11:45:34.579Z"
   },
   {
    "duration": 12,
    "start_time": "2022-02-12T11:54:17.359Z"
   },
   {
    "duration": 13,
    "start_time": "2022-02-12T11:54:29.430Z"
   },
   {
    "duration": 11,
    "start_time": "2022-02-12T11:56:17.358Z"
   },
   {
    "duration": 13,
    "start_time": "2022-02-12T11:56:39.260Z"
   },
   {
    "duration": 4,
    "start_time": "2022-02-12T12:00:41.395Z"
   },
   {
    "duration": 5,
    "start_time": "2022-02-12T12:01:27.810Z"
   },
   {
    "duration": 8,
    "start_time": "2022-02-12T12:01:56.626Z"
   },
   {
    "duration": 8,
    "start_time": "2022-02-12T12:02:01.434Z"
   },
   {
    "duration": 196,
    "start_time": "2022-02-12T12:03:42.393Z"
   },
   {
    "duration": 8,
    "start_time": "2022-02-12T12:03:50.194Z"
   },
   {
    "duration": 214,
    "start_time": "2022-02-12T12:04:04.002Z"
   },
   {
    "duration": 8,
    "start_time": "2022-02-12T12:04:10.234Z"
   },
   {
    "duration": 9,
    "start_time": "2022-02-12T12:06:31.480Z"
   },
   {
    "duration": 13,
    "start_time": "2022-02-12T12:08:31.007Z"
   },
   {
    "duration": 5,
    "start_time": "2022-02-12T12:09:41.991Z"
   },
   {
    "duration": 11,
    "start_time": "2022-02-12T12:09:42.998Z"
   },
   {
    "duration": 12,
    "start_time": "2022-02-12T12:09:47.430Z"
   },
   {
    "duration": 20,
    "start_time": "2022-02-12T12:12:40.566Z"
   },
   {
    "duration": 17,
    "start_time": "2022-02-12T12:12:45.645Z"
   },
   {
    "duration": 21,
    "start_time": "2022-02-12T12:12:47.036Z"
   },
   {
    "duration": 14,
    "start_time": "2022-02-12T12:12:50.412Z"
   },
   {
    "duration": 13,
    "start_time": "2022-02-12T12:12:54.453Z"
   },
   {
    "duration": 73,
    "start_time": "2022-02-12T12:20:21.922Z"
   },
   {
    "duration": 69,
    "start_time": "2022-02-12T12:20:24.017Z"
   },
   {
    "duration": 6,
    "start_time": "2022-02-12T12:20:28.481Z"
   },
   {
    "duration": 22,
    "start_time": "2022-02-12T12:20:32.169Z"
   },
   {
    "duration": 13,
    "start_time": "2022-02-12T12:20:36.633Z"
   },
   {
    "duration": 10,
    "start_time": "2022-02-12T12:21:07.569Z"
   },
   {
    "duration": 12,
    "start_time": "2022-02-12T12:21:10.369Z"
   },
   {
    "duration": 8,
    "start_time": "2022-02-12T12:21:10.513Z"
   },
   {
    "duration": 14,
    "start_time": "2022-02-12T12:21:15.729Z"
   },
   {
    "duration": 12,
    "start_time": "2022-02-12T12:21:18.632Z"
   },
   {
    "duration": 370,
    "start_time": "2022-02-12T12:24:27.496Z"
   },
   {
    "duration": 94,
    "start_time": "2022-02-12T12:25:07.265Z"
   },
   {
    "duration": 6281,
    "start_time": "2022-02-12T12:25:09.071Z"
   },
   {
    "duration": 8,
    "start_time": "2022-02-12T12:25:23.207Z"
   },
   {
    "duration": 6580,
    "start_time": "2022-02-12T12:25:25.351Z"
   },
   {
    "duration": 672,
    "start_time": "2022-02-12T12:27:29.046Z"
   },
   {
    "duration": 685,
    "start_time": "2022-02-12T12:28:36.669Z"
   },
   {
    "duration": 792,
    "start_time": "2022-02-12T12:28:52.430Z"
   },
   {
    "duration": 881,
    "start_time": "2022-02-12T12:28:58.117Z"
   },
   {
    "duration": 862,
    "start_time": "2022-02-12T12:29:10.238Z"
   },
   {
    "duration": 710,
    "start_time": "2022-02-12T12:29:36.197Z"
   },
   {
    "duration": 698,
    "start_time": "2022-02-12T12:29:43.565Z"
   },
   {
    "duration": 703,
    "start_time": "2022-02-12T12:29:48.356Z"
   },
   {
    "duration": 905,
    "start_time": "2022-02-12T12:30:11.031Z"
   },
   {
    "duration": 1081,
    "start_time": "2022-02-12T12:30:23.565Z"
   },
   {
    "duration": 777,
    "start_time": "2022-02-12T12:31:05.355Z"
   },
   {
    "duration": 203,
    "start_time": "2022-02-12T12:43:54.645Z"
   },
   {
    "duration": 300,
    "start_time": "2022-02-12T12:44:03.046Z"
   },
   {
    "duration": 318,
    "start_time": "2022-02-12T12:44:11.093Z"
   },
   {
    "duration": 299,
    "start_time": "2022-02-12T12:44:26.534Z"
   },
   {
    "duration": 345,
    "start_time": "2022-02-12T12:45:02.265Z"
   },
   {
    "duration": 389,
    "start_time": "2022-02-12T12:45:20.333Z"
   },
   {
    "duration": 448,
    "start_time": "2022-02-12T12:45:26.789Z"
   },
   {
    "duration": 407,
    "start_time": "2022-02-12T12:45:31.021Z"
   },
   {
    "duration": 383,
    "start_time": "2022-02-12T12:46:22.332Z"
   },
   {
    "duration": 226,
    "start_time": "2022-02-12T12:47:17.436Z"
   },
   {
    "duration": 305,
    "start_time": "2022-02-12T12:47:30.180Z"
   },
   {
    "duration": 431,
    "start_time": "2022-02-12T12:48:00.349Z"
   },
   {
    "duration": 427,
    "start_time": "2022-02-12T12:48:03.404Z"
   },
   {
    "duration": 415,
    "start_time": "2022-02-12T14:23:09.065Z"
   },
   {
    "duration": 387,
    "start_time": "2022-02-12T14:23:15.914Z"
   },
   {
    "duration": 376,
    "start_time": "2022-02-12T14:23:26.778Z"
   },
   {
    "duration": 423,
    "start_time": "2022-02-12T14:23:33.914Z"
   },
   {
    "duration": 417,
    "start_time": "2022-02-12T14:23:50.330Z"
   },
   {
    "duration": 468,
    "start_time": "2022-02-12T14:23:56.753Z"
   },
   {
    "duration": 399,
    "start_time": "2022-02-12T14:24:25.850Z"
   },
   {
    "duration": 407,
    "start_time": "2022-02-12T14:24:45.754Z"
   },
   {
    "duration": 402,
    "start_time": "2022-02-12T14:27:18.384Z"
   },
   {
    "duration": 495,
    "start_time": "2022-02-12T14:27:29.432Z"
   },
   {
    "duration": 456,
    "start_time": "2022-02-12T14:27:39.256Z"
   },
   {
    "duration": 477,
    "start_time": "2022-02-12T14:27:49.616Z"
   },
   {
    "duration": 559,
    "start_time": "2022-02-12T14:28:32.056Z"
   },
   {
    "duration": 549,
    "start_time": "2022-02-12T14:29:05.287Z"
   },
   {
    "duration": 506,
    "start_time": "2022-02-12T14:29:16.423Z"
   },
   {
    "duration": 579,
    "start_time": "2022-02-12T14:29:24.079Z"
   },
   {
    "duration": 533,
    "start_time": "2022-02-12T14:29:54.495Z"
   },
   {
    "duration": 5,
    "start_time": "2022-02-12T14:30:44.814Z"
   },
   {
    "duration": 5,
    "start_time": "2022-02-12T14:30:46.782Z"
   },
   {
    "duration": 550,
    "start_time": "2022-02-12T14:32:50.094Z"
   },
   {
    "duration": 5,
    "start_time": "2022-02-12T14:32:51.686Z"
   },
   {
    "duration": 296,
    "start_time": "2022-02-12T14:33:40.389Z"
   },
   {
    "duration": 338,
    "start_time": "2022-02-12T14:33:49.790Z"
   },
   {
    "duration": 420,
    "start_time": "2022-02-12T14:34:15.902Z"
   },
   {
    "duration": 9,
    "start_time": "2022-02-12T14:35:06.365Z"
   },
   {
    "duration": 5,
    "start_time": "2022-02-12T14:35:30.164Z"
   },
   {
    "duration": 570,
    "start_time": "2022-02-12T16:21:03.121Z"
   },
   {
    "duration": 58,
    "start_time": "2022-02-12T16:21:03.693Z"
   },
   {
    "duration": 13,
    "start_time": "2022-02-12T16:21:03.753Z"
   },
   {
    "duration": 9,
    "start_time": "2022-02-12T16:21:03.768Z"
   },
   {
    "duration": 9,
    "start_time": "2022-02-12T16:21:03.792Z"
   },
   {
    "duration": 7,
    "start_time": "2022-02-12T16:21:03.857Z"
   },
   {
    "duration": 6,
    "start_time": "2022-02-12T16:21:03.891Z"
   },
   {
    "duration": 13,
    "start_time": "2022-02-12T16:21:04.029Z"
   },
   {
    "duration": 12,
    "start_time": "2022-02-12T16:21:04.061Z"
   },
   {
    "duration": 633,
    "start_time": "2022-02-12T16:21:04.190Z"
   },
   {
    "duration": 299,
    "start_time": "2022-02-12T16:21:04.825Z"
   },
   {
    "duration": 459,
    "start_time": "2022-02-12T16:21:05.126Z"
   },
   {
    "duration": 351,
    "start_time": "2022-02-12T16:21:05.587Z"
   },
   {
    "duration": 415,
    "start_time": "2022-02-12T16:21:05.940Z"
   },
   {
    "duration": 474,
    "start_time": "2022-02-12T16:21:06.357Z"
   },
   {
    "duration": 4,
    "start_time": "2022-02-12T16:21:06.833Z"
   },
   {
    "duration": 404,
    "start_time": "2022-02-12T16:21:06.839Z"
   },
   {
    "duration": 16,
    "start_time": "2022-02-12T16:21:07.245Z"
   },
   {
    "duration": 101,
    "start_time": "2022-02-12T16:21:35.904Z"
   },
   {
    "duration": 197,
    "start_time": "2022-02-12T16:21:53.160Z"
   },
   {
    "duration": 4228,
    "start_time": "2022-02-12T16:22:07.369Z"
   },
   {
    "duration": 5,
    "start_time": "2022-02-12T16:23:10.352Z"
   },
   {
    "duration": 54,
    "start_time": "2022-02-12T16:23:25.712Z"
   },
   {
    "duration": 56,
    "start_time": "2022-02-12T16:23:34.471Z"
   },
   {
    "duration": 66,
    "start_time": "2022-02-12T16:24:38.526Z"
   },
   {
    "duration": 65,
    "start_time": "2022-02-12T16:25:09.263Z"
   },
   {
    "duration": 109,
    "start_time": "2022-02-12T16:25:56.968Z"
   },
   {
    "duration": 137,
    "start_time": "2022-02-12T16:26:12.358Z"
   },
   {
    "duration": 359,
    "start_time": "2022-02-12T16:26:28.533Z"
   },
   {
    "duration": 14,
    "start_time": "2022-02-12T16:26:32.407Z"
   },
   {
    "duration": 13,
    "start_time": "2022-02-12T16:26:48.758Z"
   },
   {
    "duration": 12,
    "start_time": "2022-02-12T16:27:02.351Z"
   },
   {
    "duration": 59,
    "start_time": "2022-02-12T16:28:59.134Z"
   },
   {
    "duration": 54,
    "start_time": "2022-02-12T16:28:59.527Z"
   },
   {
    "duration": 55,
    "start_time": "2022-02-12T16:29:43.284Z"
   },
   {
    "duration": 56,
    "start_time": "2022-02-12T16:29:43.636Z"
   },
   {
    "duration": 66,
    "start_time": "2022-02-12T16:29:44.021Z"
   },
   {
    "duration": 67,
    "start_time": "2022-02-12T16:29:44.509Z"
   },
   {
    "duration": 25,
    "start_time": "2022-02-12T16:29:44.829Z"
   },
   {
    "duration": 107,
    "start_time": "2022-02-12T16:30:08.678Z"
   },
   {
    "duration": 11,
    "start_time": "2022-02-12T16:30:16.759Z"
   },
   {
    "duration": 9,
    "start_time": "2022-02-12T16:34:30.844Z"
   },
   {
    "duration": 3888,
    "start_time": "2022-02-12T16:37:59.810Z"
   },
   {
    "duration": 9,
    "start_time": "2022-02-12T16:38:30.378Z"
   },
   {
    "duration": 4,
    "start_time": "2022-02-12T16:38:36.521Z"
   },
   {
    "duration": 13,
    "start_time": "2022-02-12T16:39:21.666Z"
   },
   {
    "duration": 14,
    "start_time": "2022-02-12T16:41:06.656Z"
   },
   {
    "duration": 11,
    "start_time": "2022-02-12T16:45:02.183Z"
   },
   {
    "duration": 11,
    "start_time": "2022-02-12T16:45:33.616Z"
   },
   {
    "duration": 12,
    "start_time": "2022-02-12T16:45:35.727Z"
   },
   {
    "duration": 10,
    "start_time": "2022-02-12T16:51:43.395Z"
   },
   {
    "duration": 10,
    "start_time": "2022-02-12T16:51:56.876Z"
   },
   {
    "duration": 9,
    "start_time": "2022-02-12T16:52:20.964Z"
   },
   {
    "duration": 13,
    "start_time": "2022-02-12T16:52:23.116Z"
   },
   {
    "duration": 1354,
    "start_time": "2022-02-12T17:28:56.549Z"
   },
   {
    "duration": 40,
    "start_time": "2022-02-12T17:28:57.906Z"
   },
   {
    "duration": 23,
    "start_time": "2022-02-12T17:28:57.949Z"
   },
   {
    "duration": 17,
    "start_time": "2022-02-12T17:28:57.975Z"
   },
   {
    "duration": 26,
    "start_time": "2022-02-12T17:28:57.995Z"
   },
   {
    "duration": 35,
    "start_time": "2022-02-12T17:28:58.023Z"
   },
   {
    "duration": 12,
    "start_time": "2022-02-12T17:28:58.060Z"
   },
   {
    "duration": 32,
    "start_time": "2022-02-12T17:28:58.074Z"
   },
   {
    "duration": 41,
    "start_time": "2022-02-12T17:28:58.110Z"
   },
   {
    "duration": 1021,
    "start_time": "2022-02-12T17:28:58.154Z"
   },
   {
    "duration": 463,
    "start_time": "2022-02-12T17:28:59.177Z"
   },
   {
    "duration": 587,
    "start_time": "2022-02-12T17:28:59.643Z"
   },
   {
    "duration": 491,
    "start_time": "2022-02-12T17:29:00.233Z"
   },
   {
    "duration": 593,
    "start_time": "2022-02-12T17:29:00.727Z"
   },
   {
    "duration": 753,
    "start_time": "2022-02-12T17:29:01.322Z"
   },
   {
    "duration": 7,
    "start_time": "2022-02-12T17:29:02.078Z"
   },
   {
    "duration": 605,
    "start_time": "2022-02-12T17:29:02.088Z"
   },
   {
    "duration": 7,
    "start_time": "2022-02-12T17:29:02.696Z"
   },
   {
    "duration": 216,
    "start_time": "2022-02-12T17:29:02.706Z"
   },
   {
    "duration": 248,
    "start_time": "2022-02-12T17:29:02.925Z"
   },
   {
    "duration": 45,
    "start_time": "2022-02-12T17:29:03.176Z"
   },
   {
    "duration": 253,
    "start_time": "2022-02-12T17:29:03.224Z"
   },
   {
    "duration": 18,
    "start_time": "2022-02-12T17:29:03.479Z"
   },
   {
    "duration": 15,
    "start_time": "2022-02-12T17:29:03.500Z"
   },
   {
    "duration": 13,
    "start_time": "2022-02-12T17:29:03.550Z"
   },
   {
    "duration": 24,
    "start_time": "2022-02-12T17:29:03.565Z"
   },
   {
    "duration": 20,
    "start_time": "2022-02-12T17:29:03.594Z"
   },
   {
    "duration": 180,
    "start_time": "2022-02-12T17:38:59.465Z"
   },
   {
    "duration": 949,
    "start_time": "2022-02-13T06:38:29.343Z"
   },
   {
    "duration": 89,
    "start_time": "2022-02-13T06:38:40.285Z"
   },
   {
    "duration": 13,
    "start_time": "2022-02-13T06:38:40.838Z"
   },
   {
    "duration": 3,
    "start_time": "2022-02-13T06:38:45.188Z"
   },
   {
    "duration": 10,
    "start_time": "2022-02-13T06:38:48.349Z"
   },
   {
    "duration": 11,
    "start_time": "2022-02-13T06:39:06.702Z"
   },
   {
    "duration": 88,
    "start_time": "2022-02-13T06:41:56.332Z"
   },
   {
    "duration": 370,
    "start_time": "2022-02-13T06:42:00.916Z"
   },
   {
    "duration": 11,
    "start_time": "2022-02-13T06:42:10.051Z"
   },
   {
    "duration": 12,
    "start_time": "2022-02-13T06:42:11.267Z"
   },
   {
    "duration": 9,
    "start_time": "2022-02-13T06:42:12.275Z"
   },
   {
    "duration": 7,
    "start_time": "2022-02-13T06:42:12.515Z"
   },
   {
    "duration": 6,
    "start_time": "2022-02-13T06:42:13.851Z"
   },
   {
    "duration": 49,
    "start_time": "2022-02-13T06:42:41.787Z"
   },
   {
    "duration": 11,
    "start_time": "2022-02-13T06:42:52.099Z"
   },
   {
    "duration": 10,
    "start_time": "2022-02-13T06:43:06.851Z"
   },
   {
    "duration": 3,
    "start_time": "2022-02-13T06:58:47.835Z"
   },
   {
    "duration": 83,
    "start_time": "2022-02-13T06:58:48.215Z"
   },
   {
    "duration": 10,
    "start_time": "2022-02-13T06:58:48.443Z"
   },
   {
    "duration": 10,
    "start_time": "2022-02-13T06:58:49.018Z"
   },
   {
    "duration": 9,
    "start_time": "2022-02-13T06:58:49.378Z"
   },
   {
    "duration": 7,
    "start_time": "2022-02-13T06:58:49.786Z"
   },
   {
    "duration": 6,
    "start_time": "2022-02-13T06:58:49.979Z"
   },
   {
    "duration": 9,
    "start_time": "2022-02-13T06:58:50.186Z"
   },
   {
    "duration": 11,
    "start_time": "2022-02-13T06:58:53.235Z"
   },
   {
    "duration": 10,
    "start_time": "2022-02-13T06:59:35.419Z"
   },
   {
    "duration": 11,
    "start_time": "2022-02-13T06:59:46.891Z"
   },
   {
    "duration": 441,
    "start_time": "2022-02-13T07:00:47.538Z"
   },
   {
    "duration": 268,
    "start_time": "2022-02-13T07:01:13.034Z"
   },
   {
    "duration": 10,
    "start_time": "2022-02-13T07:01:26.930Z"
   },
   {
    "duration": 10,
    "start_time": "2022-02-13T07:01:37.210Z"
   },
   {
    "duration": 627,
    "start_time": "2022-02-13T07:01:40.249Z"
   },
   {
    "duration": 539,
    "start_time": "2022-02-13T07:06:21.911Z"
   },
   {
    "duration": 3,
    "start_time": "2022-02-13T07:06:31.039Z"
   },
   {
    "duration": 3,
    "start_time": "2022-02-13T07:06:33.663Z"
   },
   {
    "duration": 542,
    "start_time": "2022-02-13T07:06:36.200Z"
   },
   {
    "duration": 537,
    "start_time": "2022-02-13T07:10:08.094Z"
   },
   {
    "duration": 365,
    "start_time": "2022-02-13T07:10:21.184Z"
   },
   {
    "duration": 281,
    "start_time": "2022-02-13T07:10:28.549Z"
   },
   {
    "duration": 380,
    "start_time": "2022-02-13T07:10:32.525Z"
   },
   {
    "duration": 259,
    "start_time": "2022-02-13T07:10:33.892Z"
   },
   {
    "duration": 431,
    "start_time": "2022-02-13T07:10:38.117Z"
   },
   {
    "duration": 443,
    "start_time": "2022-02-13T07:14:23.139Z"
   },
   {
    "duration": 99,
    "start_time": "2022-02-13T07:16:57.490Z"
   },
   {
    "duration": 132,
    "start_time": "2022-02-13T07:16:58.714Z"
   },
   {
    "duration": 28,
    "start_time": "2022-02-13T07:16:59.346Z"
   },
   {
    "duration": 34,
    "start_time": "2022-02-13T07:17:01.994Z"
   },
   {
    "duration": 107,
    "start_time": "2022-02-13T07:17:26.362Z"
   },
   {
    "duration": 10,
    "start_time": "2022-02-13T07:17:26.738Z"
   },
   {
    "duration": 9,
    "start_time": "2022-02-13T07:17:28.130Z"
   },
   {
    "duration": 8,
    "start_time": "2022-02-13T07:17:29.729Z"
   },
   {
    "duration": 12,
    "start_time": "2022-02-13T07:17:30.233Z"
   },
   {
    "duration": 12,
    "start_time": "2022-02-13T07:17:31.218Z"
   },
   {
    "duration": 9,
    "start_time": "2022-02-13T07:19:26.201Z"
   },
   {
    "duration": 13,
    "start_time": "2022-02-13T07:19:40.649Z"
   },
   {
    "duration": 12,
    "start_time": "2022-02-13T07:19:55.033Z"
   },
   {
    "duration": 394,
    "start_time": "2022-02-13T07:20:09.163Z"
   },
   {
    "duration": 12,
    "start_time": "2022-02-13T07:20:15.753Z"
   },
   {
    "duration": 1730,
    "start_time": "2022-02-14T05:22:49.051Z"
   },
   {
    "duration": 77,
    "start_time": "2022-02-14T05:22:50.783Z"
   },
   {
    "duration": 24,
    "start_time": "2022-02-14T05:22:50.863Z"
   },
   {
    "duration": 17,
    "start_time": "2022-02-14T05:22:50.891Z"
   },
   {
    "duration": 21,
    "start_time": "2022-02-14T05:22:50.911Z"
   },
   {
    "duration": 15,
    "start_time": "2022-02-14T05:22:50.935Z"
   },
   {
    "duration": 11,
    "start_time": "2022-02-14T05:22:50.953Z"
   },
   {
    "duration": 57,
    "start_time": "2022-02-14T05:22:50.968Z"
   },
   {
    "duration": 20,
    "start_time": "2022-02-14T05:22:51.029Z"
   },
   {
    "duration": 20,
    "start_time": "2022-02-14T05:22:51.052Z"
   },
   {
    "duration": 1037,
    "start_time": "2022-02-14T05:22:51.075Z"
   },
   {
    "duration": 474,
    "start_time": "2022-02-14T05:22:52.123Z"
   },
   {
    "duration": 577,
    "start_time": "2022-02-14T05:22:52.600Z"
   },
   {
    "duration": 486,
    "start_time": "2022-02-14T05:22:53.180Z"
   },
   {
    "duration": 981,
    "start_time": "2022-02-14T05:22:55.667Z"
   },
   {
    "duration": 1108,
    "start_time": "2022-02-14T05:22:58.756Z"
   }
  ],
  "kernelspec": {
   "display_name": "Python 3 (ipykernel)",
   "language": "python",
   "name": "python3"
  },
  "language_info": {
   "codemirror_mode": {
    "name": "ipython",
    "version": 3
   },
   "file_extension": ".py",
   "mimetype": "text/x-python",
   "name": "python",
   "nbconvert_exporter": "python",
   "pygments_lexer": "ipython3",
   "version": "3.10.1"
  },
  "toc": {
   "base_numbering": 1,
   "nav_menu": {},
   "number_sections": true,
   "sideBar": true,
   "skip_h1_title": true,
   "title_cell": "Table of Contents",
   "title_sidebar": "Contents",
   "toc_cell": false,
   "toc_position": {
    "height": "calc(100% - 180px)",
    "left": "10px",
    "top": "150px",
    "width": "366.391px"
   },
   "toc_section_display": true,
   "toc_window_display": true
  }
 },
 "nbformat": 4,
 "nbformat_minor": 2
}
